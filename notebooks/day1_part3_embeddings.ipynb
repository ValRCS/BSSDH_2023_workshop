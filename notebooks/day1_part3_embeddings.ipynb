{
 "cells": [
  {
   "cell_type": "markdown",
   "metadata": {},
   "source": [
    "# Building embeddings from our corpus\n",
    "\n",
    "Now we have our corpus, we can build our embeddings.\n",
    "\n",
    "There are different types of embeddings. At our corpus we will work with word embeddings. However we could think of sentence embeddings, paragraph embeddings, document embeddings, even character or subword embeddings.\n",
    "\n",
    "Word embeddings are vector representations of words. They are useful for many NLP tasks, such as sentiment analysis, text classification, and machine translation. They are also useful for visualising the relationships between words. For example, we can use them to find words with similar meanings, or to find words that are often used together.\n",
    "\n",
    "## Why do we need embeddings?\n",
    "\n",
    "Computers and most machine learnign algorithms in particular work better with numerical data. However, words are not numbers. So we need to find a way to represent words as numbers.\n",
    "\n",
    "Large Language Models such as ChatGPT also use word embeddings to represent words. However, they are trained on huge amounts of data, and so are not always suitable for smaller projects. In this notebook, we will build our own word embeddings from our corpus.\n",
    "\n",
    "## Different types of embedddings\n",
    "\n",
    "There are different types of word embeddings as well, such as:\n",
    "\n",
    "- Word2Vec\n",
    "- GloVe\n",
    "- FastText\n",
    "- BERT\n",
    "\n",
    " We will  also use the gensim library to do this. Gensim is a library for topic modelling, document indexing and similarity retrieval with large corpora. It uses the word2vec algorithm to create vector representations of words, which can then be used to find words with similar meanings."
   ]
  },
  {
   "cell_type": "code",
   "execution_count": 2,
   "metadata": {},
   "outputs": [
    {
     "name": "stdout",
     "output_type": "stream",
     "text": [
      "Python ver: 3.11.4 (tags/v3.11.4:d2340ef, Jun  7 2023, 05:45:37) [MSC v.1934 64 bit (AMD64)]\n",
      "Pandas ver: 2.0.3\n",
      "Gensim ver: 4.3.1\n",
      "Scikit learn ver: 1.3.0\n"
     ]
    }
   ],
   "source": [
    "# We will be using the same dataset as in the previous notebook\n",
    "# usual standard imports\n",
    "from pathlib import Path\n",
    "from datetime import datetime\n",
    "\n",
    "#python version\n",
    "import sys\n",
    "print(\"Python ver:\", sys.version)\n",
    "\n",
    "\n",
    "import pandas as pd\n",
    "# print version\n",
    "print(\"Pandas ver:\", pd.__version__)\n",
    "\n",
    "# we will need gensim for word2vec embeddings\n",
    "import gensim\n",
    "# print version\n",
    "print(\"Gensim ver:\", gensim.__version__)\n",
    "\n",
    "# we will need scikit learn for tfidf embeddings\n",
    "import sklearn\n",
    "# print version\n",
    "print(\"Scikit learn ver:\", sklearn.__version__)"
   ]
  },
  {
   "cell_type": "code",
   "execution_count": 3,
   "metadata": {},
   "outputs": [
    {
     "name": "stdout",
     "output_type": "stream",
     "text": [
      "Dataframe shape: (1637, 9)\n"
     ]
    }
   ],
   "source": [
    "# now let's load parquet file directly from url\n",
    "url = \"https://github.com/ValRCS/BSSDH_2023_workshop/raw/main/data/old_bailey_sample_1720_1913_cleaned.parquet\"\n",
    "df = pd.read_parquet(url)\n",
    "print(\"Dataframe shape:\", df.shape)"
   ]
  },
  {
   "cell_type": "code",
   "execution_count": 4,
   "metadata": {},
   "outputs": [
    {
     "name": "stdout",
     "output_type": "stream",
     "text": [
      "Dataframe size: 5686694\n"
     ]
    }
   ],
   "source": [
    "# how much memory does this dataframe use?\n",
    "print(\"Dataframe size:\", df.memory_usage(deep=True).sum())\n",
    "# supposedly Pandas 2.0 has better memory management for strings\n"
   ]
  },
  {
   "cell_type": "code",
   "execution_count": 5,
   "metadata": {},
   "outputs": [
    {
     "name": "stdout",
     "output_type": "stream",
     "text": [
      "<class 'pandas.core.frame.DataFrame'>\n",
      "Index: 1637 entries, 1720 to 1913\n",
      "Data columns (total 9 columns):\n",
      " #   Column              Non-Null Count  Dtype \n",
      "---  ------              --------------  ----- \n",
      " 0   trial_number        1637 non-null   int64 \n",
      " 1   punishment          1162 non-null   object\n",
      " 2   text                1637 non-null   object\n",
      " 3   dirty_len           1637 non-null   int64 \n",
      " 4   clean_len           1637 non-null   int64 \n",
      " 5   words               1637 non-null   object\n",
      " 6   word_count          1637 non-null   int64 \n",
      " 7   word_count_cleaned  1637 non-null   int64 \n",
      " 8   words_lemmatized    1637 non-null   object\n",
      "dtypes: int64(5), object(4)\n",
      "memory usage: 127.9+ KB\n"
     ]
    }
   ],
   "source": [
    "# let's get some statistics about our dataframe\n",
    "df.info()"
   ]
  },
  {
   "cell_type": "code",
   "execution_count": 6,
   "metadata": {},
   "outputs": [
    {
     "data": {
      "text/html": [
       "<div>\n",
       "<style scoped>\n",
       "    .dataframe tbody tr th:only-of-type {\n",
       "        vertical-align: middle;\n",
       "    }\n",
       "\n",
       "    .dataframe tbody tr th {\n",
       "        vertical-align: top;\n",
       "    }\n",
       "\n",
       "    .dataframe thead th {\n",
       "        text-align: right;\n",
       "    }\n",
       "</style>\n",
       "<table border=\"1\" class=\"dataframe\">\n",
       "  <thead>\n",
       "    <tr style=\"text-align: right;\">\n",
       "      <th></th>\n",
       "      <th>trial_number</th>\n",
       "      <th>dirty_len</th>\n",
       "      <th>clean_len</th>\n",
       "      <th>word_count</th>\n",
       "      <th>word_count_cleaned</th>\n",
       "    </tr>\n",
       "  </thead>\n",
       "  <tbody>\n",
       "    <tr>\n",
       "      <th>count</th>\n",
       "      <td>1637.000000</td>\n",
       "      <td>1637.000000</td>\n",
       "      <td>1637.000000</td>\n",
       "      <td>1637.000000</td>\n",
       "      <td>1637.000000</td>\n",
       "    </tr>\n",
       "    <tr>\n",
       "      <th>mean</th>\n",
       "      <td>49.329872</td>\n",
       "      <td>3227.827734</td>\n",
       "      <td>3091.967013</td>\n",
       "      <td>608.543677</td>\n",
       "      <td>257.531460</td>\n",
       "    </tr>\n",
       "    <tr>\n",
       "      <th>std</th>\n",
       "      <td>34.327506</td>\n",
       "      <td>7288.101079</td>\n",
       "      <td>7020.877032</td>\n",
       "      <td>1376.101195</td>\n",
       "      <td>544.264694</td>\n",
       "    </tr>\n",
       "    <tr>\n",
       "      <th>min</th>\n",
       "      <td>1.000000</td>\n",
       "      <td>57.000000</td>\n",
       "      <td>51.000000</td>\n",
       "      <td>10.000000</td>\n",
       "      <td>6.000000</td>\n",
       "    </tr>\n",
       "    <tr>\n",
       "      <th>25%</th>\n",
       "      <td>22.000000</td>\n",
       "      <td>302.000000</td>\n",
       "      <td>285.000000</td>\n",
       "      <td>50.000000</td>\n",
       "      <td>31.000000</td>\n",
       "    </tr>\n",
       "    <tr>\n",
       "      <th>50%</th>\n",
       "      <td>44.000000</td>\n",
       "      <td>1359.000000</td>\n",
       "      <td>1291.000000</td>\n",
       "      <td>245.000000</td>\n",
       "      <td>115.000000</td>\n",
       "    </tr>\n",
       "    <tr>\n",
       "      <th>75%</th>\n",
       "      <td>70.000000</td>\n",
       "      <td>3453.000000</td>\n",
       "      <td>3299.000000</td>\n",
       "      <td>654.000000</td>\n",
       "      <td>277.000000</td>\n",
       "    </tr>\n",
       "    <tr>\n",
       "      <th>max</th>\n",
       "      <td>173.000000</td>\n",
       "      <td>161044.000000</td>\n",
       "      <td>156144.000000</td>\n",
       "      <td>29928.000000</td>\n",
       "      <td>11270.000000</td>\n",
       "    </tr>\n",
       "  </tbody>\n",
       "</table>\n",
       "</div>"
      ],
      "text/plain": [
       "       trial_number      dirty_len      clean_len    word_count  \\\n",
       "count   1637.000000    1637.000000    1637.000000   1637.000000   \n",
       "mean      49.329872    3227.827734    3091.967013    608.543677   \n",
       "std       34.327506    7288.101079    7020.877032   1376.101195   \n",
       "min        1.000000      57.000000      51.000000     10.000000   \n",
       "25%       22.000000     302.000000     285.000000     50.000000   \n",
       "50%       44.000000    1359.000000    1291.000000    245.000000   \n",
       "75%       70.000000    3453.000000    3299.000000    654.000000   \n",
       "max      173.000000  161044.000000  156144.000000  29928.000000   \n",
       "\n",
       "       word_count_cleaned  \n",
       "count         1637.000000  \n",
       "mean           257.531460  \n",
       "std            544.264694  \n",
       "min              6.000000  \n",
       "25%             31.000000  \n",
       "50%            115.000000  \n",
       "75%            277.000000  \n",
       "max          11270.000000  "
      ]
     },
     "execution_count": 6,
     "metadata": {},
     "output_type": "execute_result"
    }
   ],
   "source": [
    "# we can get basic statistics about our dataframe\n",
    "df.describe() # for numerical columns - returns a dataframe as well"
   ]
  },
  {
   "cell_type": "code",
   "execution_count": 7,
   "metadata": {},
   "outputs": [
    {
     "data": {
      "text/plain": [
       "<Axes: >"
      ]
     },
     "execution_count": 7,
     "metadata": {},
     "output_type": "execute_result"
    },
    {
     "data": {
      "image/png": "[encoded data removed]",
      "text/plain": [
       "<Figure size 640x480 with 1 Axes>"
      ]
     },
     "metadata": {},
     "output_type": "display_data"
    }
   ],
   "source": [
    "# we might want to plot histogram of word_count_cleaned\n",
    "# this will give us a more detailed view of the distribution of word counts\n",
    "df.word_count_cleaned.hist() # this will plot histogram of word counts "
   ]
  },
  {
   "cell_type": "code",
   "execution_count": 8,
   "metadata": {},
   "outputs": [
    {
     "data": {
      "text/html": [
       "<div>\n",
       "<style scoped>\n",
       "    .dataframe tbody tr th:only-of-type {\n",
       "        vertical-align: middle;\n",
       "    }\n",
       "\n",
       "    .dataframe tbody tr th {\n",
       "        vertical-align: top;\n",
       "    }\n",
       "\n",
       "    .dataframe thead th {\n",
       "        text-align: right;\n",
       "    }\n",
       "</style>\n",
       "<table border=\"1\" class=\"dataframe\">\n",
       "  <thead>\n",
       "    <tr style=\"text-align: right;\">\n",
       "      <th></th>\n",
       "      <th>trial_number</th>\n",
       "      <th>punishment</th>\n",
       "      <th>text</th>\n",
       "      <th>dirty_len</th>\n",
       "      <th>clean_len</th>\n",
       "      <th>words</th>\n",
       "      <th>word_count</th>\n",
       "      <th>word_count_cleaned</th>\n",
       "      <th>words_lemmatized</th>\n",
       "    </tr>\n",
       "    <tr>\n",
       "      <th>year</th>\n",
       "      <th></th>\n",
       "      <th></th>\n",
       "      <th></th>\n",
       "      <th></th>\n",
       "      <th></th>\n",
       "      <th></th>\n",
       "      <th></th>\n",
       "      <th></th>\n",
       "      <th></th>\n",
       "    </tr>\n",
       "  </thead>\n",
       "  <tbody>\n",
       "    <tr>\n",
       "      <th>1872</th>\n",
       "      <td>1</td>\n",
       "      <td>DEATH</td>\n",
       "      <td>117 john selby watson 67 was indicted for the ...</td>\n",
       "      <td>161044</td>\n",
       "      <td>156144</td>\n",
       "      <td>[117, john, selby, watson, 67, indicted, wilfu...</td>\n",
       "      <td>29928</td>\n",
       "      <td>11270</td>\n",
       "      <td>[117, john, selby, watson, 67, indict, wilful,...</td>\n",
       "    </tr>\n",
       "  </tbody>\n",
       "</table>\n",
       "</div>"
      ],
      "text/plain": [
       "      trial_number punishment  \\\n",
       "year                            \n",
       "1872             1      DEATH   \n",
       "\n",
       "                                                   text  dirty_len  clean_len  \\\n",
       "year                                                                            \n",
       "1872  117 john selby watson 67 was indicted for the ...     161044     156144   \n",
       "\n",
       "                                                  words  word_count  \\\n",
       "year                                                                  \n",
       "1872  [117, john, selby, watson, 67, indicted, wilfu...       29928   \n",
       "\n",
       "      word_count_cleaned                                   words_lemmatized  \n",
       "year                                                                         \n",
       "1872               11270  [117, john, selby, watson, 67, indict, wilful,...  "
      ]
     },
     "execution_count": 8,
     "metadata": {},
     "output_type": "execute_result"
    }
   ],
   "source": [
    "# looks like we have some outliers, let's see what they are\n",
    "df[df.word_count_cleaned > 10000]\n",
    "# looks like there was a very long trial that ended up badly for the defendant"
   ]
  },
  {
   "cell_type": "code",
   "execution_count": 9,
   "metadata": {},
   "outputs": [
    {
     "data": {
      "text/plain": [
       "<Axes: >"
      ]
     },
     "execution_count": 9,
     "metadata": {},
     "output_type": "execute_result"
    },
    {
     "data": {
      "image/png": "[encoded data removed]",
      "text/plain": [
       "<Figure size 640x480 with 1 Axes>"
      ]
     },
     "metadata": {},
     "output_type": "display_data"
    }
   ],
   "source": [
    "# for our histogram we will skip this outlier\n",
    "df[df.word_count_cleaned < 10000].word_count_cleaned.hist()"
   ]
  },
  {
   "cell_type": "code",
   "execution_count": 10,
   "metadata": {},
   "outputs": [
    {
     "data": {
      "text/plain": [
       "<Axes: >"
      ]
     },
     "execution_count": 10,
     "metadata": {},
     "output_type": "execute_result"
    },
    {
     "data": {
      "image/png": "[encoded data removed]",
      "text/plain": [
       "<Figure size 640x480 with 1 Axes>"
      ]
     },
     "metadata": {},
     "output_type": "display_data"
    }
   ],
   "source": [
    "# we are still not getting a good view of the distribution\n",
    "# let's increase the number of bins\n",
    "df[df.word_count_cleaned < 10000].word_count_cleaned.hist(bins=50)\n"
   ]
  },
  {
   "cell_type": "code",
   "execution_count": 11,
   "metadata": {},
   "outputs": [
    {
     "data": {
      "text/plain": [
       "<Axes: >"
      ]
     },
     "execution_count": 11,
     "metadata": {},
     "output_type": "execute_result"
    },
    {
     "data": {
      "image/png": "[encoded data removed]",
      "text/plain": [
       "<Figure size 640x480 with 1 Axes>"
      ]
     },
     "metadata": {},
     "output_type": "display_data"
    }
   ],
   "source": [
    "# again we can see that most of the documents are short\n",
    "# certainly Justice in England was swift and brutal\n",
    "\n",
    "# let's see distribution among shorter documents of less than 1000 words\n",
    "df[df.word_count_cleaned < 1000].word_count_cleaned.hist(bins=50)"
   ]
  },
  {
   "cell_type": "markdown",
   "metadata": {},
   "source": [
    "## Concerns on short texts\n",
    "\n",
    "Short texts might not have enough information to build good embeddings. However, we will try to build them anyway."
   ]
  },
  {
   "cell_type": "code",
   "execution_count": null,
   "metadata": {},
   "outputs": [],
   "source": [
    "# I am concerned that we will not get very useful embeddings from the very short documents but for now we will leave them in"
   ]
  }
 ],
 "metadata": {
  "kernelspec": {
   "display_name": "venv",
   "language": "python",
   "name": "python3"
  },
  "language_info": {
   "codemirror_mode": {
    "name": "ipython",
    "version": 3
   },
   "file_extension": ".py",
   "mimetype": "text/x-python",
   "name": "python",
   "nbconvert_exporter": "python",
   "pygments_lexer": "ipython3",
   "version": "3.11.4"
  },
  "orig_nbformat": 4
 },
 "nbformat": 4,
 "nbformat_minor": 2
}
