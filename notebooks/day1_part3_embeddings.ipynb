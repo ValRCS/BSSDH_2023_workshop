{
 "cells": [
  {
   "cell_type": "markdown",
   "metadata": {},
   "source": [
    "# Building embeddings from our corpus\n",
    "\n",
    "Now we have our corpus, we can build our embeddings.\n",
    "\n",
    "There are different types of embeddings. At our corpus we will work with word embeddings. However we could think of sentence embeddings, paragraph embeddings, document embeddings, even character or subword embeddings.\n",
    "\n",
    "Word embeddings are vector representations of words. They are useful for many NLP tasks, such as sentiment analysis, text classification, and machine translation. They are also useful for visualising the relationships between words. For example, we can use them to find words with similar meanings, or to find words that are often used together.\n",
    "\n",
    "## Why do we need embeddings?\n",
    "\n",
    "Computers and most machine learnign algorithms in particular work better with numerical data. However, words are not numbers. So we need to find a way to represent words as numbers.\n",
    "\n",
    "Large Language Models such as ChatGPT also use word embeddings to represent words. However, they are trained on huge amounts of data, and so are not always suitable for smaller projects. In this notebook, we will build our own word embeddings from our corpus.\n",
    "\n",
    "## Different types of embedddings\n",
    "\n",
    "There are different types of word embeddings as well, such as:\n",
    "\n",
    "- Word2Vec\n",
    "- GloVe\n",
    "- FastText\n",
    "- BERT\n",
    "\n",
    " We will  also use the gensim library to do this. Gensim is a library for topic modelling, document indexing and similarity retrieval with large corpora. It uses the word2vec algorithm to create vector representations of words, which can then be used to find words with similar meanings."
   ]
  },
  {
   "cell_type": "code",
   "execution_count": 2,
   "metadata": {},
   "outputs": [
    {
     "name": "stdout",
     "output_type": "stream",
     "text": [
      "Python ver: 3.11.4 (tags/v3.11.4:d2340ef, Jun  7 2023, 05:45:37) [MSC v.1934 64 bit (AMD64)]\n",
      "Pandas ver: 2.0.3\n",
      "Gensim ver: 4.3.1\n",
      "Scikit learn ver: 1.3.0\n"
     ]
    }
   ],
   "source": [
    "# We will be using the same dataset as in the previous notebook\n",
    "# usual standard imports\n",
    "from pathlib import Path\n",
    "from datetime import datetime\n",
    "\n",
    "#python version\n",
    "import sys\n",
    "print(\"Python ver:\", sys.version)\n",
    "\n",
    "\n",
    "import pandas as pd\n",
    "# print version\n",
    "print(\"Pandas ver:\", pd.__version__)\n",
    "\n",
    "# we will need gensim for word2vec embeddings\n",
    "import gensim\n",
    "# print version\n",
    "print(\"Gensim ver:\", gensim.__version__)\n",
    "\n",
    "# we will need scikit learn for tfidf embeddings\n",
    "import sklearn\n",
    "# print version\n",
    "print(\"Scikit learn ver:\", sklearn.__version__)"
   ]
  },
  {
   "cell_type": "markdown",
   "metadata": {},
   "source": [
    "## Loading Data from Parquet Url"
   ]
  },
  {
   "cell_type": "code",
   "execution_count": 19,
   "metadata": {},
   "outputs": [
    {
     "name": "stdout",
     "output_type": "stream",
     "text": [
      "Dataframe shape: (1637, 9)\n"
     ]
    }
   ],
   "source": [
    "# now let's load parquet file directly from url\n",
    "url = \"https://github.com/ValRCS/BSSDH_2023_workshop/raw/main/data/old_bailey_sample_1720_1913_cleaned.parquet\"\n",
    "df = pd.read_parquet(url)\n",
    "print(\"Dataframe shape:\", df.shape)"
   ]
  },
  {
   "cell_type": "code",
   "execution_count": null,
   "metadata": {},
   "outputs": [],
   "source": []
  },
  {
   "cell_type": "code",
   "execution_count": 4,
   "metadata": {},
   "outputs": [
    {
     "name": "stdout",
     "output_type": "stream",
     "text": [
      "Dataframe size: 5686694\n"
     ]
    }
   ],
   "source": [
    "# how much memory does this dataframe use?\n",
    "print(\"Dataframe size:\", df.memory_usage(deep=True).sum())\n",
    "# supposedly Pandas 2.0 has better memory management for strings\n"
   ]
  },
  {
   "cell_type": "code",
   "execution_count": 5,
   "metadata": {},
   "outputs": [
    {
     "name": "stdout",
     "output_type": "stream",
     "text": [
      "<class 'pandas.core.frame.DataFrame'>\n",
      "Index: 1637 entries, 1720 to 1913\n",
      "Data columns (total 9 columns):\n",
      " #   Column              Non-Null Count  Dtype \n",
      "---  ------              --------------  ----- \n",
      " 0   trial_number        1637 non-null   int64 \n",
      " 1   punishment          1162 non-null   object\n",
      " 2   text                1637 non-null   object\n",
      " 3   dirty_len           1637 non-null   int64 \n",
      " 4   clean_len           1637 non-null   int64 \n",
      " 5   words               1637 non-null   object\n",
      " 6   word_count          1637 non-null   int64 \n",
      " 7   word_count_cleaned  1637 non-null   int64 \n",
      " 8   words_lemmatized    1637 non-null   object\n",
      "dtypes: int64(5), object(4)\n",
      "memory usage: 127.9+ KB\n"
     ]
    }
   ],
   "source": [
    "# let's get some statistics about our dataframe\n",
    "df.info()"
   ]
  },
  {
   "cell_type": "code",
   "execution_count": 6,
   "metadata": {},
   "outputs": [
    {
     "data": {
      "text/html": [
       "<div>\n",
       "<style scoped>\n",
       "    .dataframe tbody tr th:only-of-type {\n",
       "        vertical-align: middle;\n",
       "    }\n",
       "\n",
       "    .dataframe tbody tr th {\n",
       "        vertical-align: top;\n",
       "    }\n",
       "\n",
       "    .dataframe thead th {\n",
       "        text-align: right;\n",
       "    }\n",
       "</style>\n",
       "<table border=\"1\" class=\"dataframe\">\n",
       "  <thead>\n",
       "    <tr style=\"text-align: right;\">\n",
       "      <th></th>\n",
       "      <th>trial_number</th>\n",
       "      <th>dirty_len</th>\n",
       "      <th>clean_len</th>\n",
       "      <th>word_count</th>\n",
       "      <th>word_count_cleaned</th>\n",
       "    </tr>\n",
       "  </thead>\n",
       "  <tbody>\n",
       "    <tr>\n",
       "      <th>count</th>\n",
       "      <td>1637.000000</td>\n",
       "      <td>1637.000000</td>\n",
       "      <td>1637.000000</td>\n",
       "      <td>1637.000000</td>\n",
       "      <td>1637.000000</td>\n",
       "    </tr>\n",
       "    <tr>\n",
       "      <th>mean</th>\n",
       "      <td>49.329872</td>\n",
       "      <td>3227.827734</td>\n",
       "      <td>3091.967013</td>\n",
       "      <td>608.543677</td>\n",
       "      <td>257.531460</td>\n",
       "    </tr>\n",
       "    <tr>\n",
       "      <th>std</th>\n",
       "      <td>34.327506</td>\n",
       "      <td>7288.101079</td>\n",
       "      <td>7020.877032</td>\n",
       "      <td>1376.101195</td>\n",
       "      <td>544.264694</td>\n",
       "    </tr>\n",
       "    <tr>\n",
       "      <th>min</th>\n",
       "      <td>1.000000</td>\n",
       "      <td>57.000000</td>\n",
       "      <td>51.000000</td>\n",
       "      <td>10.000000</td>\n",
       "      <td>6.000000</td>\n",
       "    </tr>\n",
       "    <tr>\n",
       "      <th>25%</th>\n",
       "      <td>22.000000</td>\n",
       "      <td>302.000000</td>\n",
       "      <td>285.000000</td>\n",
       "      <td>50.000000</td>\n",
       "      <td>31.000000</td>\n",
       "    </tr>\n",
       "    <tr>\n",
       "      <th>50%</th>\n",
       "      <td>44.000000</td>\n",
       "      <td>1359.000000</td>\n",
       "      <td>1291.000000</td>\n",
       "      <td>245.000000</td>\n",
       "      <td>115.000000</td>\n",
       "    </tr>\n",
       "    <tr>\n",
       "      <th>75%</th>\n",
       "      <td>70.000000</td>\n",
       "      <td>3453.000000</td>\n",
       "      <td>3299.000000</td>\n",
       "      <td>654.000000</td>\n",
       "      <td>277.000000</td>\n",
       "    </tr>\n",
       "    <tr>\n",
       "      <th>max</th>\n",
       "      <td>173.000000</td>\n",
       "      <td>161044.000000</td>\n",
       "      <td>156144.000000</td>\n",
       "      <td>29928.000000</td>\n",
       "      <td>11270.000000</td>\n",
       "    </tr>\n",
       "  </tbody>\n",
       "</table>\n",
       "</div>"
      ],
      "text/plain": [
       "       trial_number      dirty_len      clean_len    word_count  \\\n",
       "count   1637.000000    1637.000000    1637.000000   1637.000000   \n",
       "mean      49.329872    3227.827734    3091.967013    608.543677   \n",
       "std       34.327506    7288.101079    7020.877032   1376.101195   \n",
       "min        1.000000      57.000000      51.000000     10.000000   \n",
       "25%       22.000000     302.000000     285.000000     50.000000   \n",
       "50%       44.000000    1359.000000    1291.000000    245.000000   \n",
       "75%       70.000000    3453.000000    3299.000000    654.000000   \n",
       "max      173.000000  161044.000000  156144.000000  29928.000000   \n",
       "\n",
       "       word_count_cleaned  \n",
       "count         1637.000000  \n",
       "mean           257.531460  \n",
       "std            544.264694  \n",
       "min              6.000000  \n",
       "25%             31.000000  \n",
       "50%            115.000000  \n",
       "75%            277.000000  \n",
       "max          11270.000000  "
      ]
     },
     "execution_count": 6,
     "metadata": {},
     "output_type": "execute_result"
    }
   ],
   "source": [
    "# we can get basic statistics about our dataframe\n",
    "df.describe() # for numerical columns - returns a dataframe as well"
   ]
  },
  {
   "cell_type": "code",
   "execution_count": 16,
   "metadata": {},
   "outputs": [
    {
     "data": {
      "text/html": [
       "<div>\n",
       "<style scoped>\n",
       "    .dataframe tbody tr th:only-of-type {\n",
       "        vertical-align: middle;\n",
       "    }\n",
       "\n",
       "    .dataframe tbody tr th {\n",
       "        vertical-align: top;\n",
       "    }\n",
       "\n",
       "    .dataframe thead th {\n",
       "        text-align: right;\n",
       "    }\n",
       "</style>\n",
       "<table border=\"1\" class=\"dataframe\">\n",
       "  <thead>\n",
       "    <tr style=\"text-align: right;\">\n",
       "      <th></th>\n",
       "      <th>trial_number</th>\n",
       "      <th>punishment</th>\n",
       "      <th>text</th>\n",
       "      <th>dirty_len</th>\n",
       "      <th>clean_len</th>\n",
       "      <th>words</th>\n",
       "      <th>word_count</th>\n",
       "      <th>word_count_cleaned</th>\n",
       "      <th>words_lemmatized</th>\n",
       "    </tr>\n",
       "    <tr>\n",
       "      <th>year</th>\n",
       "      <th></th>\n",
       "      <th></th>\n",
       "      <th></th>\n",
       "      <th></th>\n",
       "      <th></th>\n",
       "      <th></th>\n",
       "      <th></th>\n",
       "      <th></th>\n",
       "      <th></th>\n",
       "    </tr>\n",
       "  </thead>\n",
       "  <tbody>\n",
       "    <tr>\n",
       "      <th>1896</th>\n",
       "      <td>37</td>\n",
       "      <td>Eighteen Months' Hard Labour.</td>\n",
       "      <td>95 john leigh 40 unlawfully obtaining from wal...</td>\n",
       "      <td>18027</td>\n",
       "      <td>17288</td>\n",
       "      <td>[95, john, leigh, 40, unlawfully, obtaining, w...</td>\n",
       "      <td>3237</td>\n",
       "      <td>1466</td>\n",
       "      <td>[95, john, leigh, 40, unlawfully, obtain, walt...</td>\n",
       "    </tr>\n",
       "    <tr>\n",
       "      <th>1841</th>\n",
       "      <td>71</td>\n",
       "      <td>Confined Three Months</td>\n",
       "      <td>368 john johnson was indicted for stealing on ...</td>\n",
       "      <td>192</td>\n",
       "      <td>179</td>\n",
       "      <td>[368, john, johnson, indicted, stealing, 9th, ...</td>\n",
       "      <td>34</td>\n",
       "      <td>23</td>\n",
       "      <td>[368, john, johnson, indict, steal, 9th, decem...</td>\n",
       "    </tr>\n",
       "    <tr>\n",
       "      <th>1762</th>\n",
       "      <td>19</td>\n",
       "      <td>None</td>\n",
       "      <td>107 m eleanor coshee otherwise southwall late ...</td>\n",
       "      <td>3708</td>\n",
       "      <td>3544</td>\n",
       "      <td>[107, m, eleanor, coshee, southwall, late, par...</td>\n",
       "      <td>704</td>\n",
       "      <td>312</td>\n",
       "      <td>[107, m, eleanor, coshee, southwall, late, par...</td>\n",
       "    </tr>\n",
       "    <tr>\n",
       "      <th>1835</th>\n",
       "      <td>2</td>\n",
       "      <td>DEATH</td>\n",
       "      <td>186 josiah allen was indicted for burglariousl...</td>\n",
       "      <td>3395</td>\n",
       "      <td>3260</td>\n",
       "      <td>[186, josiah, allen, indicted, burglariously, ...</td>\n",
       "      <td>655</td>\n",
       "      <td>275</td>\n",
       "      <td>[186, josiah, allen, indict, burglariously, br...</td>\n",
       "    </tr>\n",
       "    <tr>\n",
       "      <th>1731</th>\n",
       "      <td>49</td>\n",
       "      <td>[Transportation. See summary.]</td>\n",
       "      <td>william simpson of st jamess clerkenwell was i...</td>\n",
       "      <td>3557</td>\n",
       "      <td>3428</td>\n",
       "      <td>[william, simpson, st, jamess, clerkenwell, in...</td>\n",
       "      <td>667</td>\n",
       "      <td>261</td>\n",
       "      <td>[william, simpson, st, jamess, clerkenwell, in...</td>\n",
       "    </tr>\n",
       "  </tbody>\n",
       "</table>\n",
       "</div>"
      ],
      "text/plain": [
       "      trial_number                      punishment  \\\n",
       "year                                                 \n",
       "1896            37   Eighteen Months' Hard Labour.   \n",
       "1841            71           Confined Three Months   \n",
       "1762            19                            None   \n",
       "1835             2                           DEATH   \n",
       "1731            49  [Transportation. See summary.]   \n",
       "\n",
       "                                                   text  dirty_len  clean_len  \\\n",
       "year                                                                            \n",
       "1896  95 john leigh 40 unlawfully obtaining from wal...      18027      17288   \n",
       "1841  368 john johnson was indicted for stealing on ...        192        179   \n",
       "1762  107 m eleanor coshee otherwise southwall late ...       3708       3544   \n",
       "1835  186 josiah allen was indicted for burglariousl...       3395       3260   \n",
       "1731  william simpson of st jamess clerkenwell was i...       3557       3428   \n",
       "\n",
       "                                                  words  word_count  \\\n",
       "year                                                                  \n",
       "1896  [95, john, leigh, 40, unlawfully, obtaining, w...        3237   \n",
       "1841  [368, john, johnson, indicted, stealing, 9th, ...          34   \n",
       "1762  [107, m, eleanor, coshee, southwall, late, par...         704   \n",
       "1835  [186, josiah, allen, indicted, burglariously, ...         655   \n",
       "1731  [william, simpson, st, jamess, clerkenwell, in...         667   \n",
       "\n",
       "      word_count_cleaned                                   words_lemmatized  \n",
       "year                                                                         \n",
       "1896                1466  [95, john, leigh, 40, unlawfully, obtain, walt...  \n",
       "1841                  23  [368, john, johnson, indict, steal, 9th, decem...  \n",
       "1762                 312  [107, m, eleanor, coshee, southwall, late, par...  \n",
       "1835                 275  [186, josiah, allen, indict, burglariously, br...  \n",
       "1731                 261  [william, simpson, st, jamess, clerkenwell, in...  "
      ]
     },
     "execution_count": 16,
     "metadata": {},
     "output_type": "execute_result"
    }
   ],
   "source": [
    "# random sample of 5 rows\n",
    "# let's set seed first\n",
    "import numpy as np\n",
    "np.random.seed(2023) # so we will get the same results\n",
    "df.sample(5)"
   ]
  },
  {
   "cell_type": "code",
   "execution_count": 7,
   "metadata": {},
   "outputs": [
    {
     "data": {
      "text/plain": [
       "<Axes: >"
      ]
     },
     "execution_count": 7,
     "metadata": {},
     "output_type": "execute_result"
    },
    {
     "data": {
      "image/png": "[encoded data removed]",
      "text/plain": [
       "<Figure size 640x480 with 1 Axes>"
      ]
     },
     "metadata": {},
     "output_type": "display_data"
    }
   ],
   "source": [
    "# we might want to plot histogram of word_count_cleaned\n",
    "# this will give us a more detailed view of the distribution of word counts\n",
    "df.word_count_cleaned.hist() # this will plot histogram of word counts "
   ]
  },
  {
   "cell_type": "code",
   "execution_count": 8,
   "metadata": {},
   "outputs": [
    {
     "data": {
      "text/html": [
       "<div>\n",
       "<style scoped>\n",
       "    .dataframe tbody tr th:only-of-type {\n",
       "        vertical-align: middle;\n",
       "    }\n",
       "\n",
       "    .dataframe tbody tr th {\n",
       "        vertical-align: top;\n",
       "    }\n",
       "\n",
       "    .dataframe thead th {\n",
       "        text-align: right;\n",
       "    }\n",
       "</style>\n",
       "<table border=\"1\" class=\"dataframe\">\n",
       "  <thead>\n",
       "    <tr style=\"text-align: right;\">\n",
       "      <th></th>\n",
       "      <th>trial_number</th>\n",
       "      <th>punishment</th>\n",
       "      <th>text</th>\n",
       "      <th>dirty_len</th>\n",
       "      <th>clean_len</th>\n",
       "      <th>words</th>\n",
       "      <th>word_count</th>\n",
       "      <th>word_count_cleaned</th>\n",
       "      <th>words_lemmatized</th>\n",
       "    </tr>\n",
       "    <tr>\n",
       "      <th>year</th>\n",
       "      <th></th>\n",
       "      <th></th>\n",
       "      <th></th>\n",
       "      <th></th>\n",
       "      <th></th>\n",
       "      <th></th>\n",
       "      <th></th>\n",
       "      <th></th>\n",
       "      <th></th>\n",
       "    </tr>\n",
       "  </thead>\n",
       "  <tbody>\n",
       "    <tr>\n",
       "      <th>1872</th>\n",
       "      <td>1</td>\n",
       "      <td>DEATH</td>\n",
       "      <td>117 john selby watson 67 was indicted for the ...</td>\n",
       "      <td>161044</td>\n",
       "      <td>156144</td>\n",
       "      <td>[117, john, selby, watson, 67, indicted, wilfu...</td>\n",
       "      <td>29928</td>\n",
       "      <td>11270</td>\n",
       "      <td>[117, john, selby, watson, 67, indict, wilful,...</td>\n",
       "    </tr>\n",
       "  </tbody>\n",
       "</table>\n",
       "</div>"
      ],
      "text/plain": [
       "      trial_number punishment  \\\n",
       "year                            \n",
       "1872             1      DEATH   \n",
       "\n",
       "                                                   text  dirty_len  clean_len  \\\n",
       "year                                                                            \n",
       "1872  117 john selby watson 67 was indicted for the ...     161044     156144   \n",
       "\n",
       "                                                  words  word_count  \\\n",
       "year                                                                  \n",
       "1872  [117, john, selby, watson, 67, indicted, wilfu...       29928   \n",
       "\n",
       "      word_count_cleaned                                   words_lemmatized  \n",
       "year                                                                         \n",
       "1872               11270  [117, john, selby, watson, 67, indict, wilful,...  "
      ]
     },
     "execution_count": 8,
     "metadata": {},
     "output_type": "execute_result"
    }
   ],
   "source": [
    "# looks like we have some outliers, let's see what they are\n",
    "df[df.word_count_cleaned > 10000]\n",
    "# looks like there was a very long trial that ended up badly for the defendant"
   ]
  },
  {
   "cell_type": "code",
   "execution_count": 9,
   "metadata": {},
   "outputs": [
    {
     "data": {
      "text/plain": [
       "<Axes: >"
      ]
     },
     "execution_count": 9,
     "metadata": {},
     "output_type": "execute_result"
    },
    {
     "data": {
      "image/png": "[encoded data removed]",
      "text/plain": [
       "<Figure size 640x480 with 1 Axes>"
      ]
     },
     "metadata": {},
     "output_type": "display_data"
    }
   ],
   "source": [
    "# for our histogram we will skip this outlier\n",
    "df[df.word_count_cleaned < 10000].word_count_cleaned.hist()"
   ]
  },
  {
   "cell_type": "code",
   "execution_count": 10,
   "metadata": {},
   "outputs": [
    {
     "data": {
      "text/plain": [
       "<Axes: >"
      ]
     },
     "execution_count": 10,
     "metadata": {},
     "output_type": "execute_result"
    },
    {
     "data": {
      "image/png": "[encoded data removed]",
      "text/plain": [
       "<Figure size 640x480 with 1 Axes>"
      ]
     },
     "metadata": {},
     "output_type": "display_data"
    }
   ],
   "source": [
    "# we are still not getting a good view of the distribution\n",
    "# let's increase the number of bins\n",
    "df[df.word_count_cleaned < 10000].word_count_cleaned.hist(bins=50)\n"
   ]
  },
  {
   "cell_type": "code",
   "execution_count": 11,
   "metadata": {},
   "outputs": [
    {
     "data": {
      "text/plain": [
       "<Axes: >"
      ]
     },
     "execution_count": 11,
     "metadata": {},
     "output_type": "execute_result"
    },
    {
     "data": {
      "image/png": "[encoded data removed]",
      "text/plain": [
       "<Figure size 640x480 with 1 Axes>"
      ]
     },
     "metadata": {},
     "output_type": "display_data"
    }
   ],
   "source": [
    "# again we can see that most of the documents are short\n",
    "# certainly Justice in England was swift and brutal\n",
    "\n",
    "# let's see distribution among shorter documents of less than 1000 words\n",
    "df[df.word_count_cleaned < 1000].word_count_cleaned.hist(bins=50)"
   ]
  },
  {
   "cell_type": "markdown",
   "metadata": {},
   "source": [
    "## Concerns on short texts\n",
    "\n",
    "Short texts might not have enough information to build good embeddings. However, we will try to build them anyway."
   ]
  },
  {
   "cell_type": "code",
   "execution_count": null,
   "metadata": {},
   "outputs": [],
   "source": [
    "# I am concerned that we will not get very useful embeddings from the very short documents but for now we will leave them in\n",
    "\n",
    "# Also I noticed that our cleaning still left numerical digits in the text\n",
    "# sometimes they are important, but in general we can remove them"
   ]
  },
  {
   "cell_type": "code",
   "execution_count": 22,
   "metadata": {},
   "outputs": [
    {
     "name": "stdout",
     "output_type": "stream",
     "text": [
      "Words removed with digits only: 12700\n",
      "Total words remaining: 408879\n"
     ]
    }
   ],
   "source": [
    "# let's remove digits from our words_lemmatized column that contains list of wordsd\n",
    "# let's build a function that will remove any digits in from a list of words\n",
    "def remove_digits(words):\n",
    "    \"\"\"Removes digits from a list of words\"\"\"\n",
    "    return [word for word in words if not word.isdigit()]\n",
    "# let's apply it to our dataframe\n",
    "df.words_lemmatized = df.words_lemmatized.apply(remove_digits)\n",
    "# let's make a column with word count after removing digits\n",
    "df[\"word_count_cleaned_no_digits\"] = df.words_lemmatized.apply(len)\n",
    "# let's see how many documents we have now\n",
    "df.shape\n",
    "# how many words did we remove?\n",
    "print(\"Words removed with digits only:\", df.word_count_cleaned.sum() - df.word_count_cleaned_no_digits.sum())\n",
    "# total words remaining\n",
    "print(\"Total words remaining:\", df.word_count_cleaned_no_digits.sum())\n",
    "# this will make our embeddings smaller and faster to train"
   ]
  },
  {
   "cell_type": "code",
   "execution_count": 26,
   "metadata": {},
   "outputs": [
    {
     "name": "stdout",
     "output_type": "stream",
     "text": [
      "Start time: 2023-07-25 00:47:10.754756\n",
      "Time elapsed: 0:00:00.134627\n",
      "Documents: 1637\n",
      "Words removed with digits only: 19435\n",
      "Total words remaining: 402144\n"
     ]
    }
   ],
   "source": [
    "# we might still have words that contain a digit in them let's remove those as well\n",
    "# let's build a function that will remove any words that contain digits\n",
    "def remove_words_with_digits(words):\n",
    "    \"\"\"Removes words that contain digits from a list of words\"\"\"\n",
    "    return [word for word in words if not any(char.isdigit() for char in word)] # this is slower but more general that previous function\n",
    "\n",
    "# let's apply it to our dataframe\n",
    "# start of timer\n",
    "start = datetime.now()\n",
    "print(f\"Start time: {start}\")\n",
    "df.words_lemmatized = df.words_lemmatized.apply(remove_words_with_digits)\n",
    "print(f\"Time elapsed: {datetime.now() - start}\")\n",
    "# let's update our word count cleaned no digits column\n",
    "df[\"word_count_cleaned_no_digits\"] = df.words_lemmatized.apply(len)\n",
    "# let's see how many documents we have now\n",
    "print(\"Documents:\", df.shape[0])\n",
    "# how many words did we remove?\n",
    "print(\"Words removed with digits only:\", df.word_count_cleaned.sum() - df.word_count_cleaned_no_digits.sum())\n",
    "# total words remaining\n",
    "print(\"Total words remaining:\", df.word_count_cleaned_no_digits.sum())"
   ]
  },
  {
   "cell_type": "markdown",
   "metadata": {},
   "source": [
    "## Bag of Words\n",
    "\n",
    "The simplest way to build embeddings is to use a bag of words model. This is a simple model that counts the number of times each word appears in a document. It then uses these counts to build a vector representation of the document.\n",
    "\n",
    "We will use the gensim library to build our embeddings. Gensim is a library for topic modelling, document indexing and similarity retrieval with large corpora. It uses the word2vec algorithm to create vector representations of words, which can then be used to find words with similar meanings."
   ]
  },
  {
   "cell_type": "code",
   "execution_count": 45,
   "metadata": {},
   "outputs": [
    {
     "name": "stdout",
     "output_type": "stream",
     "text": [
      "Word count in bow vectorizer 18093\n"
     ]
    },
    {
     "data": {
      "text/plain": [
       "[('st', 15191),\n",
       " ('leonard', 9450),\n",
       " ('eastcheap', 5131),\n",
       " ('indict', 8306),\n",
       " ('feloniously', 5881),\n",
       " ('steal', 15305),\n",
       " ('pound', 12590),\n",
       " ('weight', 17460),\n",
       " ('tobacco', 16298),\n",
       " ('value', 16988),\n",
       " ('good', 6844),\n",
       " ('job', 8747),\n",
       " ('wick', 17671),\n",
       " ('dwelling', 5084),\n",
       " ('house', 7957),\n",
       " ('say', 14094),\n",
       " ('april', 626),\n",
       " ('appear', 583),\n",
       " ('prisoner', 12747),\n",
       " ('prosecutor', 12842)]"
      ]
     },
     "execution_count": 45,
     "metadata": {},
     "output_type": "execute_result"
    }
   ],
   "source": [
    "# we can use scikit learn count vectorizer to get a bag of words representation\n",
    "from sklearn.feature_extraction.text import CountVectorizer\n",
    "\n",
    "# now we will use CountVectorizer to get a bag of words representation\n",
    "\n",
    "# we will use the words_lemmatized column\n",
    "# we will use the default tokenizer\n",
    "# we will use the default vocabulary\n",
    "# we will use the default ngram_range\n",
    "\n",
    "# let's create an instance of CountVectorizer\n",
    "count_vectorizer = CountVectorizer() # there area many custom parameters we can set, but we will use defaults for now\n",
    "# if you check the documentation you will see that many of the tasks we did previously can be done with CountVectorizer such as tokenization, stopword removal, etc.\n",
    "# docs: https://scikit-learn.org/stable/modules/generated/sklearn.feature_extraction.text.CountVectorizer.html\n",
    "\n",
    "# let's fit it to our words_lemmatized column\n",
    "# we will need to convert it back to a string with space separated words\n",
    "# we can use apply and join to do this\n",
    "count_vectorizer.fit(df.words_lemmatized.apply(\" \".join)) # fit is often used in scikit learn to learn the vocabulary, fit is also used in training models\n",
    "# above might seem a bit wasteful, but it is a common pattern in scikit learn\n",
    "\n",
    "# let's see what we have in our vocabulary\n",
    "# how many unique words do we have?\n",
    "print(\"Word count in bow vectorizer\", len(count_vectorizer.vocabulary_)) # this will return a dictionary with words as keys and their index as values\n",
    "# first 20 words\n",
    "list(count_vectorizer.vocabulary_.items())[:20]# this will return a dictionary with words as keys and their index as values"
   ]
  },
  {
   "cell_type": "code",
   "execution_count": 30,
   "metadata": {},
   "outputs": [
    {
     "data": {
      "text/plain": [
       "18093"
      ]
     },
     "execution_count": 30,
     "metadata": {},
     "output_type": "execute_result"
    }
   ],
   "source": [
    "# how many unique words do we have?\n",
    "len(count_vectorizer.vocabulary_)"
   ]
  },
  {
   "cell_type": "code",
   "execution_count": 33,
   "metadata": {},
   "outputs": [
    {
     "data": {
      "text/plain": [
       "['st',\n",
       " 'leonard',\n",
       " 'eastcheap',\n",
       " 'indict',\n",
       " 'feloniously',\n",
       " 'steal',\n",
       " 'pound',\n",
       " 'weight',\n",
       " 'tobacco',\n",
       " 'value',\n",
       " 'l',\n",
       " 's',\n",
       " 'good',\n",
       " 'job',\n",
       " 'wick',\n",
       " 'dwelling',\n",
       " 'house',\n",
       " 'say',\n",
       " 'job',\n",
       " 'wick',\n",
       " 'april',\n",
       " 'appear',\n",
       " 'prisoner',\n",
       " 'prosecutor',\n",
       " 'servant',\n",
       " 'fellow',\n",
       " 'servant',\n",
       " 'depose',\n",
       " 'perceive',\n",
       " 'pocket',\n",
       " 'stick',\n",
       " 'search',\n",
       " 'find',\n",
       " 'paper',\n",
       " 'tobacco',\n",
       " 'worth',\n",
       " 'd',\n",
       " 'own',\n",
       " 'master',\n",
       " 'take',\n",
       " 'cellar',\n",
       " 'constable',\n",
       " 'depose',\n",
       " 'confest',\n",
       " 'take',\n",
       " 'tobacco',\n",
       " 'time',\n",
       " 'say',\n",
       " 'paper',\n",
       " 'tobacco',\n",
       " 'produce',\n",
       " 'court',\n",
       " 'jury',\n",
       " 'consider',\n",
       " 'matter',\n",
       " 'find',\n",
       " 'guilty',\n",
       " 'value',\n",
       " 'd',\n",
       " 'transportation']"
      ]
     },
     "execution_count": 33,
     "metadata": {},
     "output_type": "execute_result"
    }
   ],
   "source": [
    "# can we get a bag of words representation for a single document?\n",
    "# let's get the first document\n",
    "# get words from first row\n",
    "first_doc = df.words_lemmatized.iloc[0] # iloc is used to get row by numerical index\n",
    "# let's see what it looks like\n",
    "first_doc"
   ]
  },
  {
   "cell_type": "code",
   "execution_count": 36,
   "metadata": {},
   "outputs": [
    {
     "data": {
      "text/plain": [
       "<1x18093 sparse matrix of type '<class 'numpy.int64'>'\n",
       "\twith 44 stored elements in Compressed Sparse Row format>"
      ]
     },
     "execution_count": 36,
     "metadata": {},
     "output_type": "execute_result"
    }
   ],
   "source": [
    "# let's get bag of words representation of first document\n",
    "first_doc_bow = count_vectorizer.transform([\" \".join(first_doc)]) # we need to pass a list of documents\n",
    "# this will return a sparse matrix\n",
    "first_doc_bow"
   ]
  },
  {
   "cell_type": "code",
   "execution_count": 37,
   "metadata": {},
   "outputs": [
    {
     "name": "stdout",
     "output_type": "stream",
     "text": [
      "[  583   626  2732  3513  3577  3595  3837  4445  5084  5131  5870  5881\n",
      "  5983  6844  7090  7957  8306  8747  8860  9450 10216 10239 11682 11770\n",
      " 12050 12408 12590 12747 12786 12842 14094 14233 14364 15191 15305 15356\n",
      " 15847 16262 16298 16468 16988 17460 17671 17956]\n"
     ]
    }
   ],
   "source": [
    "# print element indexes of sparse matrix\n",
    "print(first_doc_bow.indices)\n",
    "# sparse matrix is a matrix that has many zero elements so those are generally not stored and are skipped"
   ]
  },
  {
   "cell_type": "code",
   "execution_count": 39,
   "metadata": {},
   "outputs": [
    {
     "data": {
      "text/plain": [
       "array(['appear', 'april', 'cellar', 'confest', 'consider', 'constable',\n",
       "       'court', 'depose', 'dwelling', 'eastcheap', 'fellow',\n",
       "       'feloniously', 'find', 'good', 'guilty', 'house', 'indict', 'job',\n",
       "       'jury', 'leonard', 'master', 'matter', 'own', 'paper', 'perceive',\n",
       "       'pocket', 'pound', 'prisoner', 'produce', 'prosecutor', 'say',\n",
       "       'search', 'servant', 'st', 'steal', 'stick', 'take', 'time',\n",
       "       'tobacco', 'transportation', 'value', 'weight', 'wick', 'worth'],\n",
       "      dtype=object)"
      ]
     },
     "execution_count": 39,
     "metadata": {},
     "output_type": "execute_result"
    }
   ],
   "source": [
    "# what are those words from indices?\n",
    "# we can use get_feature_names method\n",
    "count_vectorizer.get_feature_names_out()[first_doc_bow.indices]\n",
    "\n",
    "# note get_features_names was depreceated in favor of get_feature_names_out\n",
    "\n",
    "# now results show that we have the same words as in our first document except the order is different\n",
    "# here it looks like we have a bag of words representation for a single document in our corpus in an ordered list of words by lexical order"
   ]
  },
  {
   "cell_type": "code",
   "execution_count": 40,
   "metadata": {},
   "outputs": [],
   "source": [
    "# we could create a huge sparse matrix for each document in our corpus\n",
    "# however that would not be particularly useful\n",
    "# we already saw that most of the words in our vocabulary are quite rare\n",
    "\n",
    "# armed with these embbeddings we could compare documents by things like jaccard similarity\n",
    "# jackquard similarity is a measure of how similar two sets are\n",
    "# we could also use cosine similarity but that is a bit more complicated for now\n",
    "\n",
    "# luckily we have many more options for creating embeddings beyond bag of words"
   ]
  },
  {
   "cell_type": "markdown",
   "metadata": {},
   "source": [
    "## TF-IDF embeddings\n",
    "\n",
    "TF-IDF is a widely used technique for text analysis. It stands for term frequency-inverse document frequency. It is a way of measuring how important a word is to a document in a collection of documents. It is often used to find keywords in a document.\n",
    "\n",
    "TF-IDF consists of two parts: term frequency and inverse document frequency. Term frequency is the number of times a word appears in a document, while inverse document frequency is the number of documents in a collection that contain a word. The TF-IDF score is the product of these two numbers.\n",
    "\n",
    "The idea is that first part - TF - is the number of times a word appears in a document, and the bottom part - IDF - is the number of documents in a collection that contain a word. The TF-IDF score is the product of these two numbers.\n",
    "\n",
    "If IDF is high - this means the word is not particularly common in the collection of documents. If TF is high - this means the word is common in the document. So if a word is common in a document, but not common in the collection of documents, it will have a high TF-IDF score - ergo this word is common to the document, but not common to the collection of documents."
   ]
  },
  {
   "cell_type": "code",
   "execution_count": 41,
   "metadata": {},
   "outputs": [],
   "source": [
    "# we can use tfidf to create embeddings\n",
    "\n",
    "# scikit learn has a tfidf vectorizer\n",
    "\n",
    "# let's create an instance of tfidf vectorizer\n",
    "tfidf_vectorizer = sklearn.feature_extraction.text.TfidfVectorizer() # there area many custom parameters we can set, but we will use defaults for now"
   ]
  },
  {
   "cell_type": "code",
   "execution_count": 43,
   "metadata": {},
   "outputs": [
    {
     "name": "stdout",
     "output_type": "stream",
     "text": [
      "Unique words: 18093\n"
     ]
    },
    {
     "data": {
      "text/plain": [
       "[('st', 15191),\n",
       " ('leonard', 9450),\n",
       " ('eastcheap', 5131),\n",
       " ('indict', 8306),\n",
       " ('feloniously', 5881),\n",
       " ('steal', 15305),\n",
       " ('pound', 12590),\n",
       " ('weight', 17460),\n",
       " ('tobacco', 16298),\n",
       " ('value', 16988),\n",
       " ('good', 6844),\n",
       " ('job', 8747),\n",
       " ('wick', 17671),\n",
       " ('dwelling', 5084),\n",
       " ('house', 7957),\n",
       " ('say', 14094),\n",
       " ('april', 626),\n",
       " ('appear', 583),\n",
       " ('prisoner', 12747),\n",
       " ('prosecutor', 12842)]"
      ]
     },
     "execution_count": 43,
     "metadata": {},
     "output_type": "execute_result"
    }
   ],
   "source": [
    "# let's create tfidf embeddings for our corpus\n",
    "# we will use the words_lemmatized column\n",
    "\n",
    "# let's fit it to our words_lemmatized column\n",
    "# we will need to convert it back to a string with space separated words\n",
    "\n",
    "# we can use apply and join to do this\n",
    "tfidf_vectorizer.fit(df.words_lemmatized.apply(\" \".join)) # fit is often used in scikit learn to learn the vocabulary, fit is also used in training models\n",
    "\n",
    "# let's see what we have in our vocabulary\n",
    "# how many unique words do we have?\n",
    "print(\"Unique words:\", len(tfidf_vectorizer.vocabulary_))\n",
    "# first 20 words\n",
    "list(tfidf_vectorizer.vocabulary_.items())[:20]# this will return a dictionary with words as keys and their index as values"
   ]
  },
  {
   "cell_type": "code",
   "execution_count": 47,
   "metadata": {},
   "outputs": [
    {
     "name": "stdout",
     "output_type": "stream",
     "text": [
      "[17956 17671 17460 16988 16468 16298 16262 15847 15356 15305 15191 14364\n",
      " 14233 14094 12842 12786 12747 12590 12408 12050 11770 11682 10239 10216\n",
      "  9450  8860  8747  8306  7957  7090  6844  5983  5881  5870  5131  5084\n",
      "  4445  3837  3595  3577  3513  2732   626   583]\n"
     ]
    }
   ],
   "source": [
    "# Attentive of you have noticed that both bow and tfidf vectorizers have the same vocabulary, which makes sense as we used same data to fit them\n",
    "# also we used same hyper parameters for fitting so they should be the same \n",
    "# in this case we used default hyper parameters - which means we only used unigrams\n",
    "\n",
    "# now let's create tifidf embeddings for our corpus\n",
    "\n",
    "# we will use the transform method\n",
    "\n",
    "# let's get the first document\n",
    "# get words from first row\n",
    "first_doc = df.words_lemmatized.iloc[0] # iloc is used to get row by numerical index\n",
    "# let's see what it looks like\n",
    "# show tfidf embeddings for first document\n",
    "sparse_tfidf_first_doc = tfidf_vectorizer.transform([\" \".join(first_doc)])\n",
    "\n",
    "# print element indexes of sparse matrix\n",
    "print(sparse_tfidf_first_doc.indices)\n"
   ]
  },
  {
   "cell_type": "code",
   "execution_count": 49,
   "metadata": {},
   "outputs": [
    {
     "name": "stdout",
     "output_type": "stream",
     "text": [
      "Common indices: {16262, 17671, 3595, 5131, 14094, 12050, 7957, 5881, 14233, 8860, 14364, 11682, 17956, 16298, 12842, 8747, 2732, 12590, 7090, 17460, 3513, 6844, 583, 15305, 12747, 16468, 15191, 16988, 5084, 4445, 5983, 15847, 10216, 9450, 5870, 12786, 8306, 626, 12408, 3577, 11770, 15356, 3837, 10239}\n",
      "Common indices: 44 44 44\n"
     ]
    }
   ],
   "source": [
    "# compare indices of tfidf and bow\n",
    "common_indices = set(first_doc_bow.indices).intersection(set(sparse_tfidf_first_doc.indices))\n",
    "print(\"Common indices:\", common_indices)\n",
    "# length of common indices and length of tfidf indices and bow indices\n",
    "print(\"Common indices:\", len(common_indices), len(sparse_tfidf_first_doc.indices), len(first_doc_bow.indices))"
   ]
  },
  {
   "cell_type": "code",
   "execution_count": 50,
   "metadata": {},
   "outputs": [
    {
     "name": "stdout",
     "output_type": "stream",
     "text": [
      "[0.0976779  0.37167729 0.1152001  0.09338854 0.09667718 0.54500717\n",
      " 0.05984298 0.0880047  0.12253903 0.03811135 0.0725742  0.1623928\n",
      " 0.07622164 0.08669131 0.06912378 0.06048691 0.03825868 0.09590149\n",
      " 0.07474145 0.15061469 0.18846137 0.12918558 0.10184287 0.08108325\n",
      " 0.16007528 0.05287715 0.26499458 0.03752959 0.05520719 0.03137085\n",
      " 0.04642964 0.09419189 0.06070487 0.12566637 0.18583865 0.1396641\n",
      " 0.21576343 0.07063989 0.07788469 0.11371992 0.19723912 0.13877142\n",
      " 0.10001348 0.08560634]\n"
     ]
    }
   ],
   "source": [
    "# well the indices are all common,but bag of words either has count for word or not\n",
    "# tfidf has a value for each word which indicates how important that word is for that document\n",
    "# let's print those values for first doc\n",
    "print(sparse_tfidf_first_doc.data)"
   ]
  },
  {
   "cell_type": "code",
   "execution_count": 51,
   "metadata": {},
   "outputs": [
    {
     "name": "stdout",
     "output_type": "stream",
     "text": [
      "[19 24 11 34 20 40 36 26  1  5]\n"
     ]
    }
   ],
   "source": [
    "# what are most important words for first document?\n",
    "# let's get indices of top 10 most important words\n",
    "top_10_indices = np.argsort(sparse_tfidf_first_doc.data)[-10:]\n",
    "print(top_10_indices)\n",
    "# now these are indices of top 10 most important words"
   ]
  },
  {
   "cell_type": "code",
   "execution_count": 54,
   "metadata": {},
   "outputs": [
    {
     "name": "stdout",
     "output_type": "stream",
     "text": [
      "[0.15061469 0.16007528 0.1623928  0.18583865 0.18846137 0.19723912\n",
      " 0.21576343 0.26499458 0.37167729 0.54500717]\n"
     ]
    }
   ],
   "source": [
    "# top 10 most important words values\n",
    "print(sparse_tfidf_first_doc.data[top_10_indices])"
   ]
  },
  {
   "cell_type": "code",
   "execution_count": 55,
   "metadata": {},
   "outputs": [
    {
     "name": "stdout",
     "output_type": "stream",
     "text": [
      "[12050  9450 14364  5131 11770  3513  4445  8747 17671 16298]\n"
     ]
    }
   ],
   "source": [
    "# let's print word indexes for these top 10 words\n",
    "print(sparse_tfidf_first_doc.indices[top_10_indices])"
   ]
  },
  {
   "cell_type": "code",
   "execution_count": 56,
   "metadata": {},
   "outputs": [
    {
     "name": "stdout",
     "output_type": "stream",
     "text": [
      "perceive 0.15061468637250305\n",
      "leonard 0.16007528280052977\n",
      "servant 0.16239279925933373\n",
      "eastcheap 0.1858386471483628\n",
      "paper 0.18846136671056882\n",
      "confest 0.1972391174872452\n",
      "depose 0.21576343212843113\n",
      "job 0.2649945751946771\n",
      "wick 0.3716772942967256\n",
      "tobacco 0.5450071694542097\n"
     ]
    }
   ],
   "source": [
    "# that is not so nice looking so we can zip them together\n",
    "# list(zip(tfidf_vectorizer.get_feature_names_out()[top_10_indices], sparse_tfidf_first_doc.data[top_10_indices]))\n",
    "# print them in a nicer way\n",
    "top_10_word_indexes = sparse_tfidf_first_doc.indices[top_10_indices]\n",
    "for word, tfidf in zip(tfidf_vectorizer.get_feature_names_out()[top_10_word_indexes], sparse_tfidf_first_doc.data[top_10_indices]):\n",
    "    print(word, tfidf)"
   ]
  },
  {
   "cell_type": "code",
   "execution_count": null,
   "metadata": {},
   "outputs": [],
   "source": [
    "# we can see that tfidf embeddings are much more informative than bag of words embeddings\n",
    "# we can find the most important words for each document\n",
    "# tfidf is great because it will automatically filter out stopwords and rare words\n",
    "# using scikit learn indexing can get pretty tricky though"
   ]
  },
  {
   "cell_type": "code",
   "execution_count": 57,
   "metadata": {},
   "outputs": [
    {
     "data": {
      "text/plain": [
       "[('confest', 0.1972391174872452),\n",
       " ('depose', 0.21576343212843113),\n",
       " ('job', 0.2649945751946771),\n",
       " ('wick', 0.3716772942967256),\n",
       " ('tobacco', 0.5450071694542097)]"
      ]
     },
     "execution_count": 57,
     "metadata": {},
     "output_type": "execute_result"
    }
   ],
   "source": [
    "# let's get top 5 words for each document\n",
    "# we will need to iterate over each document\n",
    "# we will need to get tfidf embeddings for each document\n",
    "\n",
    "# let's create a function that will return top n words for a document\n",
    "def get_top_n_words(document, n=5):\n",
    "    \"\"\"Returns top n words for a document\"\"\"\n",
    "    # get tfidf embeddings for document\n",
    "    sparse_tfidf_doc = tfidf_vectorizer.transform([\" \".join(document)])\n",
    "    # get indices of top n words\n",
    "    top_n_indices = np.argsort(sparse_tfidf_doc.data)[-n:]\n",
    "    # get word indexes for top n words\n",
    "    top_n_word_indexes = sparse_tfidf_doc.indices[top_n_indices]\n",
    "    # get top n words\n",
    "    top_n_words = tfidf_vectorizer.get_feature_names_out()[top_n_word_indexes]\n",
    "    # get top n tfidf values\n",
    "    top_n_tfidf = sparse_tfidf_doc.data[top_n_indices]\n",
    "    # return top n words and top n tfidf values\n",
    "    return list(zip(top_n_words, top_n_tfidf))\n",
    "\n",
    "# let's test it on first document\n",
    "get_top_n_words(first_doc)"
   ]
  },
  {
   "cell_type": "code",
   "execution_count": 58,
   "metadata": {},
   "outputs": [
    {
     "name": "stdout",
     "output_type": "stream",
     "text": [
      "Start time: 2023-07-25 01:17:33.674921\n",
      "Time elapsed: 0:00:08.569515\n"
     ]
    },
    {
     "data": {
      "text/plain": [
       "(1637, 11)"
      ]
     },
     "execution_count": 58,
     "metadata": {},
     "output_type": "execute_result"
    }
   ],
   "source": [
    "# now we can apply it to our dataframe\n",
    "# we will use apply method\n",
    "# we will use lambda function\n",
    "\n",
    "# start of timer\n",
    "start = datetime.now()\n",
    "print(f\"Start time: {start}\")\n",
    "df[\"top_5_words_tfidf\"] = df.words_lemmatized.apply(lambda x: get_top_n_words(x, n=5))\n",
    "print(f\"Time elapsed: {datetime.now() - start}\")\n",
    "# print shape\n",
    "df.shape"
   ]
  },
  {
   "cell_type": "code",
   "execution_count": 59,
   "metadata": {},
   "outputs": [
    {
     "data": {
      "text/html": [
       "<div>\n",
       "<style scoped>\n",
       "    .dataframe tbody tr th:only-of-type {\n",
       "        vertical-align: middle;\n",
       "    }\n",
       "\n",
       "    .dataframe tbody tr th {\n",
       "        vertical-align: top;\n",
       "    }\n",
       "\n",
       "    .dataframe thead th {\n",
       "        text-align: right;\n",
       "    }\n",
       "</style>\n",
       "<table border=\"1\" class=\"dataframe\">\n",
       "  <thead>\n",
       "    <tr style=\"text-align: right;\">\n",
       "      <th></th>\n",
       "      <th>trial_number</th>\n",
       "      <th>punishment</th>\n",
       "      <th>text</th>\n",
       "      <th>dirty_len</th>\n",
       "      <th>clean_len</th>\n",
       "      <th>words</th>\n",
       "      <th>word_count</th>\n",
       "      <th>word_count_cleaned</th>\n",
       "      <th>words_lemmatized</th>\n",
       "      <th>word_count_cleaned_no_digits</th>\n",
       "      <th>top_5_words_tfidf</th>\n",
       "    </tr>\n",
       "    <tr>\n",
       "      <th>year</th>\n",
       "      <th></th>\n",
       "      <th></th>\n",
       "      <th></th>\n",
       "      <th></th>\n",
       "      <th></th>\n",
       "      <th></th>\n",
       "      <th></th>\n",
       "      <th></th>\n",
       "      <th></th>\n",
       "      <th></th>\n",
       "      <th></th>\n",
       "    </tr>\n",
       "  </thead>\n",
       "  <tbody>\n",
       "    <tr>\n",
       "      <th>1902</th>\n",
       "      <td>27</td>\n",
       "      <td>Three months' imprisonment in the second division</td>\n",
       "      <td>592 archibald malcolm steward 18 forging and u...</td>\n",
       "      <td>5204</td>\n",
       "      <td>4980</td>\n",
       "      <td>[592, archibald, malcolm, steward, 18, forging...</td>\n",
       "      <td>957</td>\n",
       "      <td>417</td>\n",
       "      <td>[archibald, malcolm, steward, forge, utter, au...</td>\n",
       "      <td>401</td>\n",
       "      <td>[(office, 0.18194225183146617), (book, 0.25306...</td>\n",
       "    </tr>\n",
       "    <tr>\n",
       "      <th>1841</th>\n",
       "      <td>63</td>\n",
       "      <td>Transported for Seven Years — Convict Ship</td>\n",
       "      <td>360 henry butler was indicted for stealing on ...</td>\n",
       "      <td>1197</td>\n",
       "      <td>1141</td>\n",
       "      <td>[360, henry, butler, indicted, stealing, 14th,...</td>\n",
       "      <td>217</td>\n",
       "      <td>95</td>\n",
       "      <td>[henry, butler, indict, steal, december, weigh...</td>\n",
       "      <td>90</td>\n",
       "      <td>[(coal, 0.19814038693423272), (charlotte, 0.21...</td>\n",
       "    </tr>\n",
       "    <tr>\n",
       "      <th>1902</th>\n",
       "      <td>113</td>\n",
       "      <td>None</td>\n",
       "      <td>678 william jones 38 a negro for the manslaugh...</td>\n",
       "      <td>145</td>\n",
       "      <td>133</td>\n",
       "      <td>[678, william, jones, 38, negro, manslaughter,...</td>\n",
       "      <td>22</td>\n",
       "      <td>14</td>\n",
       "      <td>[william, jones, negro, manslaughter, herbert,...</td>\n",
       "      <td>12</td>\n",
       "      <td>[(herbert, 0.3214283443450827), (manslaughter,...</td>\n",
       "    </tr>\n",
       "    <tr>\n",
       "      <th>1865</th>\n",
       "      <td>34</td>\n",
       "      <td>None</td>\n",
       "      <td>312 john hyland 35 was indicted for and charge...</td>\n",
       "      <td>14103</td>\n",
       "      <td>13679</td>\n",
       "      <td>[312, john, hyland, 35, indicted, charged, cor...</td>\n",
       "      <td>2673</td>\n",
       "      <td>994</td>\n",
       "      <td>[john, hyland, indict, charge, coroner, inquis...</td>\n",
       "      <td>986</td>\n",
       "      <td>[(lung, 0.1839644163157637), (food, 0.18967954...</td>\n",
       "    </tr>\n",
       "    <tr>\n",
       "      <th>1814</th>\n",
       "      <td>43</td>\n",
       "      <td>Transported for Seven Years</td>\n",
       "      <td>114 james hawkins was indicted for feloniously...</td>\n",
       "      <td>1387</td>\n",
       "      <td>1339</td>\n",
       "      <td>[114, james, hawkins, indicted, feloniously, s...</td>\n",
       "      <td>256</td>\n",
       "      <td>117</td>\n",
       "      <td>[james, hawkins, indict, feloniously, steal, d...</td>\n",
       "      <td>111</td>\n",
       "      <td>[(see, 0.17690868106143018), (step, 0.17693100...</td>\n",
       "    </tr>\n",
       "  </tbody>\n",
       "</table>\n",
       "</div>"
      ],
      "text/plain": [
       "      trial_number                                         punishment  \\\n",
       "year                                                                    \n",
       "1902            27  Three months' imprisonment in the second division   \n",
       "1841            63         Transported for Seven Years — Convict Ship   \n",
       "1902           113                                               None   \n",
       "1865            34                                               None   \n",
       "1814            43                        Transported for Seven Years   \n",
       "\n",
       "                                                   text  dirty_len  clean_len  \\\n",
       "year                                                                            \n",
       "1902  592 archibald malcolm steward 18 forging and u...       5204       4980   \n",
       "1841  360 henry butler was indicted for stealing on ...       1197       1141   \n",
       "1902  678 william jones 38 a negro for the manslaugh...        145        133   \n",
       "1865  312 john hyland 35 was indicted for and charge...      14103      13679   \n",
       "1814  114 james hawkins was indicted for feloniously...       1387       1339   \n",
       "\n",
       "                                                  words  word_count  \\\n",
       "year                                                                  \n",
       "1902  [592, archibald, malcolm, steward, 18, forging...         957   \n",
       "1841  [360, henry, butler, indicted, stealing, 14th,...         217   \n",
       "1902  [678, william, jones, 38, negro, manslaughter,...          22   \n",
       "1865  [312, john, hyland, 35, indicted, charged, cor...        2673   \n",
       "1814  [114, james, hawkins, indicted, feloniously, s...         256   \n",
       "\n",
       "      word_count_cleaned                                   words_lemmatized  \\\n",
       "year                                                                          \n",
       "1902                 417  [archibald, malcolm, steward, forge, utter, au...   \n",
       "1841                  95  [henry, butler, indict, steal, december, weigh...   \n",
       "1902                  14  [william, jones, negro, manslaughter, herbert,...   \n",
       "1865                 994  [john, hyland, indict, charge, coroner, inquis...   \n",
       "1814                 117  [james, hawkins, indict, feloniously, steal, d...   \n",
       "\n",
       "      word_count_cleaned_no_digits  \\\n",
       "year                                 \n",
       "1902                           401   \n",
       "1841                            90   \n",
       "1902                            12   \n",
       "1865                           986   \n",
       "1814                           111   \n",
       "\n",
       "                                      top_5_words_tfidf  \n",
       "year                                                     \n",
       "1902  [(office, 0.18194225183146617), (book, 0.25306...  \n",
       "1841  [(coal, 0.19814038693423272), (charlotte, 0.21...  \n",
       "1902  [(herbert, 0.3214283443450827), (manslaughter,...  \n",
       "1865  [(lung, 0.1839644163157637), (food, 0.18967954...  \n",
       "1814  [(see, 0.17690868106143018), (step, 0.17693100...  "
      ]
     },
     "execution_count": 59,
     "metadata": {},
     "output_type": "execute_result"
    }
   ],
   "source": [
    "# let's see what we have\n",
    "df.sample(5)"
   ]
  },
  {
   "cell_type": "code",
   "execution_count": 61,
   "metadata": {},
   "outputs": [
    {
     "name": "stdout",
     "output_type": "stream",
     "text": [
      "Start time: 2023-07-25 01:21:21.002552\n",
      "Time elapsed: 0:00:00.577069\n",
      "File size: 3319544\n"
     ]
    }
   ],
   "source": [
    "# we would love to save our data to parquet file but alas we have datatypes that are not supported by parquet\n",
    "# thus we will use pickle that will faithfully save everything\n",
    "# we will use to_pickle method\n",
    "# we will use compression to save space\n",
    "# start of timer\n",
    "start = datetime.now()\n",
    "pickle_file = Path(\"old_bailey_sample_1720_1913_cleaned_embeddings.pkl\")\n",
    "print(f\"Start time: {start}\")\n",
    "df.to_pickle(pickle_file, compression=\"zip\")\n",
    "print(f\"Time elapsed: {datetime.now() - start}\")\n",
    "# how big is our file?\n",
    "print(\"File size:\", pickle_file.stat().st_size)\n",
    "# not too bad a compression ratio and we kept all our data and datatypes\n"
   ]
  },
  {
   "cell_type": "markdown",
   "metadata": {},
   "source": [
    "## word2vec embeddings\n",
    "\n",
    "word2vec embeddings is a technique for creating word embeddings. It is a neural network model that takes a word as input and outputs a vector representation of that word. The word2vec model is trained on a large corpus of text, and learns to predict the context of a word based on its vector representation.\n",
    "\n",
    "word2vec came to prominence in 2013, when Google released a paper describing the model. It has since been used in many applications, including machine translation, sentiment analysis, and text classification.\n",
    "\n",
    "Original Google paper: Efficient Estimation of Word Representations in\n",
    "Vector Space https://arxiv.org/pdf/1301.3781.pdf"
   ]
  },
  {
   "cell_type": "code",
   "execution_count": 80,
   "metadata": {},
   "outputs": [
    {
     "name": "stdout",
     "output_type": "stream",
     "text": [
      "Start time: 2023-07-25 01:47:34.814711\n",
      "Time elapsed: 0:00:00\n"
     ]
    },
    {
     "data": {
      "text/plain": [
       "[['st',\n",
       "  'leonard',\n",
       "  'eastcheap',\n",
       "  'indict',\n",
       "  'feloniously',\n",
       "  'steal',\n",
       "  'pound',\n",
       "  'weight',\n",
       "  'tobacco',\n",
       "  'value',\n",
       "  'l',\n",
       "  's',\n",
       "  'good',\n",
       "  'job',\n",
       "  'wick',\n",
       "  'dwelling',\n",
       "  'house',\n",
       "  'say',\n",
       "  'job',\n",
       "  'wick',\n",
       "  'april',\n",
       "  'appear',\n",
       "  'prisoner',\n",
       "  'prosecutor',\n",
       "  'servant',\n",
       "  'fellow',\n",
       "  'servant',\n",
       "  'depose',\n",
       "  'perceive',\n",
       "  'pocket',\n",
       "  'stick',\n",
       "  'search',\n",
       "  'find',\n",
       "  'paper',\n",
       "  'tobacco',\n",
       "  'worth',\n",
       "  'd',\n",
       "  'own',\n",
       "  'master',\n",
       "  'take',\n",
       "  'cellar',\n",
       "  'constable',\n",
       "  'depose',\n",
       "  'confest',\n",
       "  'take',\n",
       "  'tobacco',\n",
       "  'time',\n",
       "  'say',\n",
       "  'paper',\n",
       "  'tobacco',\n",
       "  'produce',\n",
       "  'court',\n",
       "  'jury',\n",
       "  'consider',\n",
       "  'matter',\n",
       "  'find',\n",
       "  'guilty',\n",
       "  'value',\n",
       "  'd',\n",
       "  'transportation'],\n",
       " ['alice',\n",
       "  'jones',\n",
       "  'st',\n",
       "  'michaels',\n",
       "  'cornhill',\n",
       "  'indict',\n",
       "  'privately',\n",
       "  'steal',\n",
       "  'bermundas',\n",
       "  'hat',\n",
       "  'value',\n",
       "  's',\n",
       "  'shop',\n",
       "  'edward',\n",
       "  'hillior',\n",
       "  'april',\n",
       "  'prosecutors',\n",
       "  'servant',\n",
       "  'deposed',\n",
       "  'prisner',\n",
       "  'come',\n",
       "  'master',\n",
       "  'shop',\n",
       "  'askd',\n",
       "  'hat',\n",
       "  's',\n",
       "  'price',\n",
       "  'shew',\n",
       "  'agreed',\n",
       "  'say',\n",
       "  'country',\n",
       "  'stop',\n",
       "  'bishopsgatestreet',\n",
       "  'coach',\n",
       "  'go',\n",
       "  'come',\n",
       "  'fetch',\n",
       "  'go',\n",
       "  'shop',\n",
       "  'perceive',\n",
       "  'hardly',\n",
       "  'walk',\n",
       "  'fetcht',\n",
       "  'hat',\n",
       "  'mention',\n",
       "  'indictment',\n",
       "  'fall',\n",
       "  'leg',\n",
       "  'depose',\n",
       "  'see',\n",
       "  'evidence',\n",
       "  'hat',\n",
       "  'petticoat',\n",
       "  'prisoner',\n",
       "  'deny',\n",
       "  'fact',\n",
       "  'call',\n",
       "  'person',\n",
       "  'reputation',\n",
       "  'give',\n",
       "  'good',\n",
       "  'character',\n",
       "  'say',\n",
       "  'rent',\n",
       "  'house',\n",
       "  'l',\n",
       "  'year',\n",
       "  'petty',\n",
       "  'france',\n",
       "  'westminster',\n",
       "  'tell',\n",
       "  'justice',\n",
       "  'livd',\n",
       "  'kingstreet',\n",
       "  'jury',\n",
       "  'consider',\n",
       "  'matter',\n",
       "  'find',\n",
       "  'guilty',\n",
       "  'value',\n",
       "  'd',\n",
       "  'transportation'],\n",
       " ['james',\n",
       "  'wilson',\n",
       "  'st',\n",
       "  'katharine',\n",
       "  'coleman',\n",
       "  'indict',\n",
       "  'feloniously',\n",
       "  'steal',\n",
       "  'pound',\n",
       "  'beef',\n",
       "  'value',\n",
       "  's',\n",
       "  'good',\n",
       "  'charle',\n",
       "  'watts',\n",
       "  'april',\n",
       "  'mary',\n",
       "  'watts',\n",
       "  'deposed',\n",
       "  'gentleman',\n",
       "  'come',\n",
       "  'bar',\n",
       "  'clock',\n",
       "  'night',\n",
       "  'tell',\n",
       "  'fellow',\n",
       "  'lurking',\n",
       "  'house',\n",
       "  'prisoner',\n",
       "  'come',\n",
       "  'bar',\n",
       "  'take',\n",
       "  'rump',\n",
       "  'beef',\n",
       "  'hung',\n",
       "  'pursue',\n",
       "  'dropt',\n",
       "  'door',\n",
       "  'see',\n",
       "  'plain',\n",
       "  'sure',\n",
       "  'prisoner',\n",
       "  'person',\n",
       "  'cookmaid',\n",
       "  'deposed',\n",
       "  'see',\n",
       "  'prisoner',\n",
       "  'beef',\n",
       "  'lift',\n",
       "  'times',\n",
       "  'hook',\n",
       "  'prisoner',\n",
       "  'defence',\n",
       "  'say',\n",
       "  'drinking',\n",
       "  'run',\n",
       "  'head',\n",
       "  'beef',\n",
       "  'fall',\n",
       "  'appear',\n",
       "  'evidence',\n",
       "  'dropt',\n",
       "  'yard',\n",
       "  'place',\n",
       "  'hung',\n",
       "  'jury',\n",
       "  'find',\n",
       "  'guilty',\n",
       "  'value',\n",
       "  'd',\n",
       "  'transportation'],\n",
       " ['james',\n",
       "  'mercy',\n",
       "  'alias',\n",
       "  'masse',\n",
       "  'st',\n",
       "  'andrew',\n",
       "  'undershaft',\n",
       "  'indict',\n",
       "  'feloniously',\n",
       "  'steal',\n",
       "  'silk',\n",
       "  'gown',\n",
       "  'petticoat',\n",
       "  'camblet',\n",
       "  'cloak',\n",
       "  'good',\n",
       "  'dwell',\n",
       "  'house',\n",
       "  'mary',\n",
       "  'robinson',\n",
       "  'april',\n",
       "  'prosecutor',\n",
       "  'depose',\n",
       "  'hearing',\n",
       "  'noise',\n",
       "  'stair',\n",
       "  'send',\n",
       "  'maid',\n",
       "  'mary',\n",
       "  'gough',\n",
       "  'depose',\n",
       "  'go',\n",
       "  'find',\n",
       "  'prisoner',\n",
       "  'arm',\n",
       "  'clothe',\n",
       "  'lockd',\n",
       "  'run',\n",
       "  'calld',\n",
       "  'assistance',\n",
       "  'go',\n",
       "  'clothe',\n",
       "  'find',\n",
       "  'wet',\n",
       "  'floor',\n",
       "  'lockt',\n",
       "  'drawer',\n",
       "  'constable',\n",
       "  'depose',\n",
       "  'prisoner',\n",
       "  'shammd',\n",
       "  'drunk',\n",
       "  'find',\n",
       "  'chissel',\n",
       "  'pocket',\n",
       "  'believe',\n",
       "  'opend',\n",
       "  'drawer',\n",
       "  'jury',\n",
       "  'find',\n",
       "  'guilty',\n",
       "  'value',\n",
       "  's',\n",
       "  'transportation'],\n",
       " ['benjamin',\n",
       "  'cook',\n",
       "  'alias',\n",
       "  'richard',\n",
       "  'smith',\n",
       "  'st',\n",
       "  'mary',\n",
       "  'abchurch',\n",
       "  'indict',\n",
       "  'feloniously',\n",
       "  'steal',\n",
       "  'silver',\n",
       "  'cup',\n",
       "  'value',\n",
       "  's',\n",
       "  'good',\n",
       "  'philip',\n",
       "  'austin',\n",
       "  'march',\n",
       "  'prosecutor',\n",
       "  'depose',\n",
       "  'lose',\n",
       "  'cup',\n",
       "  'kitchen',\n",
       "  'produce',\n",
       "  'court',\n",
       "  'swear',\n",
       "  'goldsmith',\n",
       "  'depose',\n",
       "  'prisoner',\n",
       "  'offer',\n",
       "  'sell',\n",
       "  'stopt',\n",
       "  'send',\n",
       "  'mr',\n",
       "  'austin',\n",
       "  'own',\n",
       "  'jury',\n",
       "  'find',\n",
       "  'guilty',\n",
       "  'value',\n",
       "  'd',\n",
       "  'transportation']]"
      ]
     },
     "execution_count": 80,
     "metadata": {},
     "output_type": "execute_result"
    }
   ],
   "source": [
    "# we can use gensim to create word2vec embeddings for our whole corpus\n",
    "\n",
    "# we will use the words_lemmatized column\n",
    "# we will use the default tokenizer\n",
    "# we will use the default vocabulary\n",
    "# we will use the default ngram_range\n",
    "\n",
    "# we need to use a list of lists of words\n",
    "# we can use apply and split to do this\n",
    "# start of timer\n",
    "start = datetime.now()\n",
    "print(f\"Start time: {start}\")\n",
    "# sentences = df.words_lemmatized.apply(lambda x: x.split()).tolist() # we would use this if our words were a string separated by spaces\n",
    "sentences = df.words_lemmatized.tolist()\n",
    "print(f\"Time elapsed: {datetime.now() - start}\")\n",
    "# let's see what we have\n",
    "sentences[:5]"
   ]
  },
  {
   "cell_type": "code",
   "execution_count": 64,
   "metadata": {},
   "outputs": [
    {
     "name": "stdout",
     "output_type": "stream",
     "text": [
      "Start time: 2023-07-25 01:27:22.359416\n",
      "Time elapsed: 0:00:00.566596\n"
     ]
    },
    {
     "data": {
      "text/plain": [
       "<gensim.models.word2vec.Word2Vec at 0x149998fc910>"
      ]
     },
     "execution_count": 64,
     "metadata": {},
     "output_type": "execute_result"
    }
   ],
   "source": [
    "# let's feed our sentences to gensim word2vec model\n",
    "# we will use default hyper parameters\n",
    "# start of timer\n",
    "start = datetime.now()\n",
    "print(f\"Start time: {start}\")\n",
    "w2v_model = gensim.models.Word2Vec(sentences=sentences)\n",
    "print(f\"Time elapsed: {datetime.now() - start}\")\n",
    "# cool think about word2vec is that it trains very fast - unlike more modern embeddings such as BERT\n",
    "# let's see what we have\n",
    "w2v_model"
   ]
  },
  {
   "cell_type": "code",
   "execution_count": 65,
   "metadata": {},
   "outputs": [
    {
     "data": {
      "text/plain": [
       "[('crickett', 0.9563700556755066),\n",
       " ('m', 0.9443530440330505),\n",
       " ('highway', 0.9437509775161743),\n",
       " ('bride', 0.9414304494857788),\n",
       " ('botolph', 0.9367403984069824),\n",
       " ('martin', 0.9357951283454895),\n",
       " ('elizabeth', 0.9232580661773682),\n",
       " ('cochran', 0.9215368032455444),\n",
       " ('draper', 0.9182206988334656),\n",
       " ('housesurgeon', 0.9156031608581543)]"
      ]
     },
     "execution_count": 65,
     "metadata": {},
     "output_type": "execute_result"
    }
   ],
   "source": [
    "# we can now use our model to get embeddings for words\n",
    "# we can compare words by similarity\n",
    "# we can get most similar words\n",
    "\n",
    "# let's try king and queen\n",
    "w2v_model.wv.most_similar(\"king\")"
   ]
  },
  {
   "cell_type": "code",
   "execution_count": 66,
   "metadata": {},
   "outputs": [
    {
     "data": {
      "text/plain": [
       "[('oxford', 0.988685667514801),\n",
       " ('clements', 0.9867776036262512),\n",
       " ('griffin', 0.9822165369987488),\n",
       " ('shoreditch', 0.97926265001297),\n",
       " ('euston', 0.9788939952850342),\n",
       " ('sepulchres', 0.9780794978141785),\n",
       " ('high', 0.9776077270507812),\n",
       " ('bell', 0.9775933623313904),\n",
       " ('hoxton', 0.975581705570221),\n",
       " ('park', 0.9755066633224487)]"
      ]
     },
     "execution_count": 66,
     "metadata": {},
     "output_type": "execute_result"
    }
   ],
   "source": [
    "# how about queen\n",
    "w2v_model.wv.most_similar(\"queen\")"
   ]
  },
  {
   "cell_type": "code",
   "execution_count": null,
   "metadata": {},
   "outputs": [],
   "source": [
    "# a bit surprising but then again court transcripts seldom deal with royalty"
   ]
  },
  {
   "cell_type": "code",
   "execution_count": 67,
   "metadata": {},
   "outputs": [
    {
     "data": {
      "text/plain": [
       "[('cloak', 0.9726721048355103),\n",
       " ('breeche', 0.9662832617759705),\n",
       " ('apron', 0.9648007154464722),\n",
       " ('shoe', 0.9623876810073853),\n",
       " ('loaf', 0.9599335789680481),\n",
       " ('ribbon', 0.9596375823020935),\n",
       " ('tester', 0.9571384191513062),\n",
       " ('bonnet', 0.955176830291748),\n",
       " ('shirt', 0.9530536532402039),\n",
       " ('breech', 0.9525079131126404)]"
      ]
     },
     "execution_count": 67,
     "metadata": {},
     "output_type": "execute_result"
    }
   ],
   "source": [
    "# how about tobacco?\n",
    "w2v_model.wv.most_similar(\"tobacco\")"
   ]
  },
  {
   "cell_type": "code",
   "execution_count": 68,
   "metadata": {},
   "outputs": [
    {
     "data": {
      "text/plain": [
       "[('pint', 0.9907461404800415),\n",
       " ('gin', 0.9567537903785706),\n",
       " ('ale', 0.9548437595367432),\n",
       " ('fetch', 0.94757080078125),\n",
       " ('drank', 0.9215078353881836),\n",
       " ('spare', 0.9210358262062073),\n",
       " ('soon', 0.9174252152442932),\n",
       " ('went', 0.9143045544624329),\n",
       " ('rum', 0.9140437841415405),\n",
       " ('drink', 0.9110946655273438)]"
      ]
     },
     "execution_count": 68,
     "metadata": {},
     "output_type": "execute_result"
    }
   ],
   "source": [
    "# how about beer?\n",
    "w2v_model.wv.most_similar(\"beer\")\n",
    "# now we are talking! or drinking!"
   ]
  },
  {
   "cell_type": "code",
   "execution_count": 71,
   "metadata": {},
   "outputs": [
    {
     "name": "stdout",
     "output_type": "stream",
     "text": [
      "Sentences: 1637\n",
      "Min sentence length: 5\n",
      "Max sentence length: 11127\n"
     ]
    }
   ],
   "source": [
    "# let's check dimensions of our sentences\n",
    "print(\"Sentences:\", len(sentences))\n",
    "# how about min and max of sentence lengths\n",
    "print(\"Min sentence length:\", min([len(sentence) for sentence in sentences]))\n",
    "print(\"Max sentence length:\", max([len(sentence) for sentence in sentences]))\n"
   ]
  },
  {
   "cell_type": "code",
   "execution_count": 81,
   "metadata": {},
   "outputs": [
    {
     "name": "stdout",
     "output_type": "stream",
     "text": [
      "Start time: 2023-07-25 01:47:44.525945\n",
      "Time elapsed: 0:00:00.001000\n"
     ]
    },
    {
     "data": {
      "text/plain": [
       "[TaggedDocument(words=['st', 'leonard', 'eastcheap', 'indict', 'feloniously', 'steal', 'pound', 'weight', 'tobacco', 'value', 'l', 's', 'good', 'job', 'wick', 'dwelling', 'house', 'say', 'job', 'wick', 'april', 'appear', 'prisoner', 'prosecutor', 'servant', 'fellow', 'servant', 'depose', 'perceive', 'pocket', 'stick', 'search', 'find', 'paper', 'tobacco', 'worth', 'd', 'own', 'master', 'take', 'cellar', 'constable', 'depose', 'confest', 'take', 'tobacco', 'time', 'say', 'paper', 'tobacco', 'produce', 'court', 'jury', 'consider', 'matter', 'find', 'guilty', 'value', 'd', 'transportation'], tags=[0]),\n",
       " TaggedDocument(words=['alice', 'jones', 'st', 'michaels', 'cornhill', 'indict', 'privately', 'steal', 'bermundas', 'hat', 'value', 's', 'shop', 'edward', 'hillior', 'april', 'prosecutors', 'servant', 'deposed', 'prisner', 'come', 'master', 'shop', 'askd', 'hat', 's', 'price', 'shew', 'agreed', 'say', 'country', 'stop', 'bishopsgatestreet', 'coach', 'go', 'come', 'fetch', 'go', 'shop', 'perceive', 'hardly', 'walk', 'fetcht', 'hat', 'mention', 'indictment', 'fall', 'leg', 'depose', 'see', 'evidence', 'hat', 'petticoat', 'prisoner', 'deny', 'fact', 'call', 'person', 'reputation', 'give', 'good', 'character', 'say', 'rent', 'house', 'l', 'year', 'petty', 'france', 'westminster', 'tell', 'justice', 'livd', 'kingstreet', 'jury', 'consider', 'matter', 'find', 'guilty', 'value', 'd', 'transportation'], tags=[1]),\n",
       " TaggedDocument(words=['james', 'wilson', 'st', 'katharine', 'coleman', 'indict', 'feloniously', 'steal', 'pound', 'beef', 'value', 's', 'good', 'charle', 'watts', 'april', 'mary', 'watts', 'deposed', 'gentleman', 'come', 'bar', 'clock', 'night', 'tell', 'fellow', 'lurking', 'house', 'prisoner', 'come', 'bar', 'take', 'rump', 'beef', 'hung', 'pursue', 'dropt', 'door', 'see', 'plain', 'sure', 'prisoner', 'person', 'cookmaid', 'deposed', 'see', 'prisoner', 'beef', 'lift', 'times', 'hook', 'prisoner', 'defence', 'say', 'drinking', 'run', 'head', 'beef', 'fall', 'appear', 'evidence', 'dropt', 'yard', 'place', 'hung', 'jury', 'find', 'guilty', 'value', 'd', 'transportation'], tags=[2]),\n",
       " TaggedDocument(words=['james', 'mercy', 'alias', 'masse', 'st', 'andrew', 'undershaft', 'indict', 'feloniously', 'steal', 'silk', 'gown', 'petticoat', 'camblet', 'cloak', 'good', 'dwell', 'house', 'mary', 'robinson', 'april', 'prosecutor', 'depose', 'hearing', 'noise', 'stair', 'send', 'maid', 'mary', 'gough', 'depose', 'go', 'find', 'prisoner', 'arm', 'clothe', 'lockd', 'run', 'calld', 'assistance', 'go', 'clothe', 'find', 'wet', 'floor', 'lockt', 'drawer', 'constable', 'depose', 'prisoner', 'shammd', 'drunk', 'find', 'chissel', 'pocket', 'believe', 'opend', 'drawer', 'jury', 'find', 'guilty', 'value', 's', 'transportation'], tags=[3]),\n",
       " TaggedDocument(words=['benjamin', 'cook', 'alias', 'richard', 'smith', 'st', 'mary', 'abchurch', 'indict', 'feloniously', 'steal', 'silver', 'cup', 'value', 's', 'good', 'philip', 'austin', 'march', 'prosecutor', 'depose', 'lose', 'cup', 'kitchen', 'produce', 'court', 'swear', 'goldsmith', 'depose', 'prisoner', 'offer', 'sell', 'stopt', 'send', 'mr', 'austin', 'own', 'jury', 'find', 'guilty', 'value', 'd', 'transportation'], tags=[4])]"
      ]
     },
     "execution_count": 81,
     "metadata": {},
     "output_type": "execute_result"
    }
   ],
   "source": [
    "# So word 2 vec is a great way to get embeddings for words, but we would like to get embeddings for documents\n",
    "# we can do that by averaging word embeddings for each document\n",
    "# but also we can use doc2vec which is an extension of word2vec\n",
    "\n",
    "# more info: https://radimrehurek.com/gensim/models/doc2vec.html\n",
    "\n",
    "# let's use doc2vec to get embeddings for our corpus\n",
    "\n",
    "# we will use the words_lemmatized column\n",
    "\n",
    "# we need to use a list of lists of words\n",
    "\n",
    "# we already have sentences variable from previous example\n",
    "# it is a list of lists\n",
    "# first index represents document\n",
    "\n",
    "# let's feed our sentences to gensim doc2vec model\n",
    "# we will use default hyper parameters\n",
    "\n",
    "# for doc2vec training data we need TaggedDocument objects\n",
    "# we can use gensim TaggedDocument class to create them\n",
    "# we will use apply and split to do this\n",
    "# start of timer\n",
    "tagged_sentences = []\n",
    "start = datetime.now()\n",
    "print(f\"Start time: {start}\")\n",
    "# this will be slow as we will iterate over all documents\n",
    "for i, sentence in enumerate(sentences):\n",
    "    tagged_sentences.append(gensim.models.doc2vec.TaggedDocument(sentence, [i])) # we need to pass a list of words and a list of tags\n",
    "\n",
    "print(f\"Time elapsed: {datetime.now() - start}\")\n",
    "\n",
    "# print first 5 sentences\n",
    "tagged_sentences[:5]"
   ]
  },
  {
   "cell_type": "code",
   "execution_count": 86,
   "metadata": {},
   "outputs": [
    {
     "name": "stdout",
     "output_type": "stream",
     "text": [
      "Start time: 2023-07-25 01:49:34.038989\n",
      "Time elapsed: 0:00:00\n"
     ]
    }
   ],
   "source": [
    "# now we are ready to train our doc2vec model\n",
    "# start of timer\n",
    "start = datetime.now()\n",
    "print(f\"Start time: {start}\")\n",
    "d2v_model = gensim.models.Doc2Vec(vector_size=50, min_count=2, epochs=40)\n",
    "print(f\"Time elapsed: {datetime.now() - start}\")\n"
   ]
  },
  {
   "cell_type": "code",
   "execution_count": 92,
   "metadata": {},
   "outputs": [
    {
     "name": "stdout",
     "output_type": "stream",
     "text": [
      "Start time: 2023-07-25 01:51:09.768979\n",
      "Time elapsed: 0:00:00.099296\n"
     ]
    }
   ],
   "source": [
    "# now let's train it with our tagged sentences\n",
    "# start of timer\n",
    "start = datetime.now()\n",
    "print(f\"Start time: {start}\")\n",
    "d2v_model.build_vocab(tagged_sentences)\n",
    "print(f\"Time elapsed: {datetime.now() - start}\")\n",
    "\n",
    "\n"
   ]
  },
  {
   "cell_type": "code",
   "execution_count": 90,
   "metadata": {},
   "outputs": [
    {
     "data": {
      "text/plain": [
       "(293, 1265, 426, 669)"
      ]
     },
     "execution_count": 90,
     "metadata": {},
     "output_type": "execute_result"
    }
   ],
   "source": [
    "# who key to index \n",
    "d2v_model.wv.key_to_index[\"king\"], d2v_model.wv.key_to_index[\"queen\"], d2v_model.wv.key_to_index[\"beer\"], d2v_model.wv.key_to_index[\"tobacco\"]"
   ]
  },
  {
   "cell_type": "code",
   "execution_count": 91,
   "metadata": {},
   "outputs": [
    {
     "data": {
      "text/plain": [
       "('say', 'prisoner', 'do', 'mr')"
      ]
     },
     "execution_count": 91,
     "metadata": {},
     "output_type": "execute_result"
    }
   ],
   "source": [
    "# index to key\n",
    "d2v_model.wv.index_to_key[0], d2v_model.wv.index_to_key[1], d2v_model.wv.index_to_key[2], d2v_model.wv.index_to_key[3]"
   ]
  },
  {
   "cell_type": "code",
   "execution_count": 93,
   "metadata": {},
   "outputs": [
    {
     "name": "stdout",
     "output_type": "stream",
     "text": [
      "Start time: 2023-07-25 01:51:55.147662\n",
      "Time elapsed: 0:00:06.317268\n"
     ]
    }
   ],
   "source": [
    "# now we will finaly train our model\n",
    "# start of timer\n",
    "start = datetime.now()\n",
    "print(f\"Start time: {start}\")\n",
    "d2v_model.train(tagged_sentences, total_examples=d2v_model.corpus_count, epochs=d2v_model.epochs)\n",
    "print(f\"Time elapsed: {datetime.now() - start}\")\n"
   ]
  },
  {
   "cell_type": "code",
   "execution_count": 95,
   "metadata": {},
   "outputs": [
    {
     "data": {
      "text/plain": [
       "array([ 0.5782519 , -0.7623888 ,  0.6419972 , -0.01352497, -0.02889981,\n",
       "        0.33993718,  0.5432642 , -0.79231936, -0.17276347,  0.2894747 ,\n",
       "       -0.1814085 , -1.173319  , -0.6315174 , -0.39531848, -0.8824809 ,\n",
       "        0.44549268, -0.00762038, -0.2669511 ,  0.2836903 ,  0.31825238,\n",
       "       -0.46722114, -0.12032476,  1.5427929 , -0.16820197, -0.5314884 ,\n",
       "       -1.1173726 , -0.06433648, -1.0612508 ,  0.8740516 ,  0.24408202,\n",
       "        0.44927603, -0.25962996, -0.23105077,  0.64783835,  0.34015447,\n",
       "        0.6314114 ,  0.5084683 , -0.12150066, -0.8327542 , -0.24457273,\n",
       "        0.46525353, -0.43322456,  0.48058265, -0.8931239 , -0.274334  ,\n",
       "       -0.0263922 ,  0.47523484, -0.10395955,  0.0836495 ,  0.5372703 ],\n",
       "      dtype=float32)"
      ]
     },
     "execution_count": 95,
     "metadata": {},
     "output_type": "execute_result"
    }
   ],
   "source": [
    "# now each document should have a corresponding vector\n",
    "# let's get this vector for first document\n",
    "d2v_model.dv[0] # old gensim used docvecs instead of dv\n",
    "# basically we have a 50 length vector for each document\n",
    "# we can use cosine similarity to compare documents and find most similar documents"
   ]
  },
  {
   "cell_type": "code",
   "execution_count": 97,
   "metadata": {},
   "outputs": [
    {
     "data": {
      "text/plain": [
       "1637"
      ]
     },
     "execution_count": 97,
     "metadata": {},
     "output_type": "execute_result"
    }
   ],
   "source": [
    "# how many documents do we have?\n",
    "len(d2v_model.dv)"
   ]
  },
  {
   "cell_type": "code",
   "execution_count": 98,
   "metadata": {},
   "outputs": [
    {
     "data": {
      "text/plain": [
       "(1637, 11)"
      ]
     },
     "execution_count": 98,
     "metadata": {},
     "output_type": "execute_result"
    }
   ],
   "source": [
    "# how many rows in our dataframe?\n",
    "df.shape"
   ]
  },
  {
   "cell_type": "code",
   "execution_count": 100,
   "metadata": {},
   "outputs": [
    {
     "data": {
      "text/html": [
       "<div>\n",
       "<style scoped>\n",
       "    .dataframe tbody tr th:only-of-type {\n",
       "        vertical-align: middle;\n",
       "    }\n",
       "\n",
       "    .dataframe tbody tr th {\n",
       "        vertical-align: top;\n",
       "    }\n",
       "\n",
       "    .dataframe thead th {\n",
       "        text-align: right;\n",
       "    }\n",
       "</style>\n",
       "<table border=\"1\" class=\"dataframe\">\n",
       "  <thead>\n",
       "    <tr style=\"text-align: right;\">\n",
       "      <th></th>\n",
       "      <th>year</th>\n",
       "      <th>trial_number</th>\n",
       "      <th>punishment</th>\n",
       "      <th>text</th>\n",
       "      <th>dirty_len</th>\n",
       "      <th>clean_len</th>\n",
       "      <th>words</th>\n",
       "      <th>word_count</th>\n",
       "      <th>word_count_cleaned</th>\n",
       "      <th>words_lemmatized</th>\n",
       "      <th>word_count_cleaned_no_digits</th>\n",
       "      <th>top_5_words_tfidf</th>\n",
       "    </tr>\n",
       "  </thead>\n",
       "  <tbody>\n",
       "    <tr>\n",
       "      <th>1530</th>\n",
       "      <td>1902</td>\n",
       "      <td>87</td>\n",
       "      <td>Eighteen months' hard labour.</td>\n",
       "      <td>652 james harold rogers 34 feloniously shootin...</td>\n",
       "      <td>8320</td>\n",
       "      <td>8033</td>\n",
       "      <td>[652, james, harold, rogers, 34, feloniously, ...</td>\n",
       "      <td>1585</td>\n",
       "      <td>630</td>\n",
       "      <td>[james, harold, rogers, feloniously, shoot, ag...</td>\n",
       "      <td>608</td>\n",
       "      <td>[(prisoner, 0.1678846871306937), (shot, 0.2407...</td>\n",
       "    </tr>\n",
       "    <tr>\n",
       "      <th>1182</th>\n",
       "      <td>1865</td>\n",
       "      <td>23</td>\n",
       "      <td>Confined Six Months</td>\n",
       "      <td>301 john sampson letkey 42 pleaded guilty to u...</td>\n",
       "      <td>229</td>\n",
       "      <td>217</td>\n",
       "      <td>[301, john, sampson, letkey, 42, pleaded, guil...</td>\n",
       "      <td>35</td>\n",
       "      <td>24</td>\n",
       "      <td>[john, sampson, letkey, plead, guilty, unlawfu...</td>\n",
       "      <td>21</td>\n",
       "      <td>[(page, 0.26883588479601345), (robinson, 0.272...</td>\n",
       "    </tr>\n",
       "    <tr>\n",
       "      <th>381</th>\n",
       "      <td>1773</td>\n",
       "      <td>53</td>\n",
       "      <td>None</td>\n",
       "      <td>696 697 m william waine and joseph fox were in...</td>\n",
       "      <td>205</td>\n",
       "      <td>190</td>\n",
       "      <td>[696, 697, m, william, waine, joseph, fox, ind...</td>\n",
       "      <td>36</td>\n",
       "      <td>27</td>\n",
       "      <td>[m, william, waine, joseph, fox, indict, steal...</td>\n",
       "      <td>22</td>\n",
       "      <td>[(fox, 0.2993134965977788), (silver, 0.3398557...</td>\n",
       "    </tr>\n",
       "    <tr>\n",
       "      <th>1329</th>\n",
       "      <td>1881</td>\n",
       "      <td>20</td>\n",
       "      <td>None</td>\n",
       "      <td>20 george henry new 22 to embezzling 15 s and ...</td>\n",
       "      <td>184</td>\n",
       "      <td>168</td>\n",
       "      <td>[20, george, henry, new, 22, embezzling, 15, s...</td>\n",
       "      <td>33</td>\n",
       "      <td>25</td>\n",
       "      <td>[george, henry, new, embezzle, s, l, s, d, gre...</td>\n",
       "      <td>19</td>\n",
       "      <td>[(original, 0.2666105486026002), (image, 0.278...</td>\n",
       "    </tr>\n",
       "    <tr>\n",
       "      <th>1379</th>\n",
       "      <td>1881</td>\n",
       "      <td>70</td>\n",
       "      <td>Two Years' Hard Labour each</td>\n",
       "      <td>70 jessie day 29 and fanny rothwell 34 robbery...</td>\n",
       "      <td>267</td>\n",
       "      <td>247</td>\n",
       "      <td>[70, jessie, day, 29, fanny, rothwell, 34, rob...</td>\n",
       "      <td>44</td>\n",
       "      <td>32</td>\n",
       "      <td>[jessie, day, fanny, rothwell, robbery, violen...</td>\n",
       "      <td>27</td>\n",
       "      <td>[(josiah, 0.2768258289351973), (jessie, 0.2834...</td>\n",
       "    </tr>\n",
       "  </tbody>\n",
       "</table>\n",
       "</div>"
      ],
      "text/plain": [
       "      year  trial_number                     punishment  \\\n",
       "1530  1902            87  Eighteen months' hard labour.   \n",
       "1182  1865            23            Confined Six Months   \n",
       "381   1773            53                           None   \n",
       "1329  1881            20                           None   \n",
       "1379  1881            70    Two Years' Hard Labour each   \n",
       "\n",
       "                                                   text  dirty_len  clean_len  \\\n",
       "1530  652 james harold rogers 34 feloniously shootin...       8320       8033   \n",
       "1182  301 john sampson letkey 42 pleaded guilty to u...        229        217   \n",
       "381   696 697 m william waine and joseph fox were in...        205        190   \n",
       "1329  20 george henry new 22 to embezzling 15 s and ...        184        168   \n",
       "1379  70 jessie day 29 and fanny rothwell 34 robbery...        267        247   \n",
       "\n",
       "                                                  words  word_count  \\\n",
       "1530  [652, james, harold, rogers, 34, feloniously, ...        1585   \n",
       "1182  [301, john, sampson, letkey, 42, pleaded, guil...          35   \n",
       "381   [696, 697, m, william, waine, joseph, fox, ind...          36   \n",
       "1329  [20, george, henry, new, 22, embezzling, 15, s...          33   \n",
       "1379  [70, jessie, day, 29, fanny, rothwell, 34, rob...          44   \n",
       "\n",
       "      word_count_cleaned                                   words_lemmatized  \\\n",
       "1530                 630  [james, harold, rogers, feloniously, shoot, ag...   \n",
       "1182                  24  [john, sampson, letkey, plead, guilty, unlawfu...   \n",
       "381                   27  [m, william, waine, joseph, fox, indict, steal...   \n",
       "1329                  25  [george, henry, new, embezzle, s, l, s, d, gre...   \n",
       "1379                  32  [jessie, day, fanny, rothwell, robbery, violen...   \n",
       "\n",
       "      word_count_cleaned_no_digits  \\\n",
       "1530                           608   \n",
       "1182                            21   \n",
       "381                             22   \n",
       "1329                            19   \n",
       "1379                            27   \n",
       "\n",
       "                                      top_5_words_tfidf  \n",
       "1530  [(prisoner, 0.1678846871306937), (shot, 0.2407...  \n",
       "1182  [(page, 0.26883588479601345), (robinson, 0.272...  \n",
       "381   [(fox, 0.2993134965977788), (silver, 0.3398557...  \n",
       "1329  [(original, 0.2666105486026002), (image, 0.278...  \n",
       "1379  [(josiah, 0.2768258289351973), (jessie, 0.2834...  "
      ]
     },
     "execution_count": 100,
     "metadata": {},
     "output_type": "execute_result"
    }
   ],
   "source": [
    "# what is df.index\n",
    "df.index\n",
    "# looks like we started using year as index\n",
    "# let's reset index by moving year to a column\n",
    "df = df.reset_index()\n",
    "# let's see what we have\n",
    "df.sample(5)"
   ]
  },
  {
   "cell_type": "code",
   "execution_count": 101,
   "metadata": {},
   "outputs": [
    {
     "name": "stdout",
     "output_type": "stream",
     "text": [
      "Start time: 2023-07-25 01:56:11.370468\n",
      "Time elapsed: 0:00:00.001672\n"
     ]
    },
    {
     "data": {
      "text/html": [
       "<div>\n",
       "<style scoped>\n",
       "    .dataframe tbody tr th:only-of-type {\n",
       "        vertical-align: middle;\n",
       "    }\n",
       "\n",
       "    .dataframe tbody tr th {\n",
       "        vertical-align: top;\n",
       "    }\n",
       "\n",
       "    .dataframe thead th {\n",
       "        text-align: right;\n",
       "    }\n",
       "</style>\n",
       "<table border=\"1\" class=\"dataframe\">\n",
       "  <thead>\n",
       "    <tr style=\"text-align: right;\">\n",
       "      <th></th>\n",
       "      <th>year</th>\n",
       "      <th>trial_number</th>\n",
       "      <th>punishment</th>\n",
       "      <th>text</th>\n",
       "      <th>dirty_len</th>\n",
       "      <th>clean_len</th>\n",
       "      <th>words</th>\n",
       "      <th>word_count</th>\n",
       "      <th>word_count_cleaned</th>\n",
       "      <th>words_lemmatized</th>\n",
       "      <th>word_count_cleaned_no_digits</th>\n",
       "      <th>top_5_words_tfidf</th>\n",
       "      <th>doc2vec</th>\n",
       "    </tr>\n",
       "  </thead>\n",
       "  <tbody>\n",
       "    <tr>\n",
       "      <th>700</th>\n",
       "      <td>1821</td>\n",
       "      <td>33</td>\n",
       "      <td>DEATH</td>\n",
       "      <td>33 charles yates was indicted for burglariousl...</td>\n",
       "      <td>2728</td>\n",
       "      <td>2624</td>\n",
       "      <td>[33, charles, yates, indicted, burglariously, ...</td>\n",
       "      <td>512</td>\n",
       "      <td>214</td>\n",
       "      <td>[charle, yate, indict, burglariously, break, e...</td>\n",
       "      <td>210</td>\n",
       "      <td>[(passage, 0.19175750857023086), (door, 0.2442...</td>\n",
       "      <td>[0.5797637, -0.78482175, 1.4409305, -1.0716355...</td>\n",
       "    </tr>\n",
       "    <tr>\n",
       "      <th>580</th>\n",
       "      <td>1814</td>\n",
       "      <td>28</td>\n",
       "      <td>None</td>\n",
       "      <td>99 hannah housden and sarah housden were indic...</td>\n",
       "      <td>1310</td>\n",
       "      <td>1253</td>\n",
       "      <td>[99, hannah, housden, sarah, housden, indicted...</td>\n",
       "      <td>256</td>\n",
       "      <td>127</td>\n",
       "      <td>[hannah, housden, sarah, housden, indict, felo...</td>\n",
       "      <td>119</td>\n",
       "      <td>[(luke, 0.21885024189327798), (shoe, 0.2222069...</td>\n",
       "      <td>[1.8046134, 1.0367785, 2.466086, 1.925455, -0....</td>\n",
       "    </tr>\n",
       "    <tr>\n",
       "      <th>581</th>\n",
       "      <td>1814</td>\n",
       "      <td>29</td>\n",
       "      <td>Transported for Seven Years</td>\n",
       "      <td>100 joseph martin was indicted for feloniously...</td>\n",
       "      <td>1652</td>\n",
       "      <td>1591</td>\n",
       "      <td>[100, joseph, martin, indicted, feloniously, s...</td>\n",
       "      <td>324</td>\n",
       "      <td>144</td>\n",
       "      <td>[joseph, martin, indict, feloniously, steal, j...</td>\n",
       "      <td>139</td>\n",
       "      <td>[(horse, 0.18510737089369123), (man, 0.1977650...</td>\n",
       "      <td>[1.103122, -1.730811, 2.020693, 0.17772216, -0...</td>\n",
       "    </tr>\n",
       "    <tr>\n",
       "      <th>419</th>\n",
       "      <td>1796</td>\n",
       "      <td>10</td>\n",
       "      <td>Transported for seven years</td>\n",
       "      <td>580 william moss was indicted for feloniously ...</td>\n",
       "      <td>2358</td>\n",
       "      <td>2238</td>\n",
       "      <td>[580, william, moss, indicted, feloniously, st...</td>\n",
       "      <td>428</td>\n",
       "      <td>186</td>\n",
       "      <td>[william, moss, indict, feloniously, steal, oc...</td>\n",
       "      <td>174</td>\n",
       "      <td>[(snuffbox, 0.1922942721958252), (apprentice, ...</td>\n",
       "      <td>[0.32787248, -0.4707733, -0.44840387, 0.873489...</td>\n",
       "    </tr>\n",
       "    <tr>\n",
       "      <th>680</th>\n",
       "      <td>1821</td>\n",
       "      <td>13</td>\n",
       "      <td>None</td>\n",
       "      <td>13 william wooley was indicted for burglarious...</td>\n",
       "      <td>8339</td>\n",
       "      <td>8014</td>\n",
       "      <td>[13, william, wooley, indicted, burglariously,...</td>\n",
       "      <td>1678</td>\n",
       "      <td>621</td>\n",
       "      <td>[william, wooley, indict, burglariously, break...</td>\n",
       "      <td>613</td>\n",
       "      <td>[(ward, 0.1881756870348805), (run, 0.216856796...</td>\n",
       "      <td>[-1.4594783, -0.38962758, -0.22853056, -3.2740...</td>\n",
       "    </tr>\n",
       "  </tbody>\n",
       "</table>\n",
       "</div>"
      ],
      "text/plain": [
       "     year  trial_number                   punishment  \\\n",
       "700  1821            33                        DEATH   \n",
       "580  1814            28                         None   \n",
       "581  1814            29  Transported for Seven Years   \n",
       "419  1796            10  Transported for seven years   \n",
       "680  1821            13                         None   \n",
       "\n",
       "                                                  text  dirty_len  clean_len  \\\n",
       "700  33 charles yates was indicted for burglariousl...       2728       2624   \n",
       "580  99 hannah housden and sarah housden were indic...       1310       1253   \n",
       "581  100 joseph martin was indicted for feloniously...       1652       1591   \n",
       "419  580 william moss was indicted for feloniously ...       2358       2238   \n",
       "680  13 william wooley was indicted for burglarious...       8339       8014   \n",
       "\n",
       "                                                 words  word_count  \\\n",
       "700  [33, charles, yates, indicted, burglariously, ...         512   \n",
       "580  [99, hannah, housden, sarah, housden, indicted...         256   \n",
       "581  [100, joseph, martin, indicted, feloniously, s...         324   \n",
       "419  [580, william, moss, indicted, feloniously, st...         428   \n",
       "680  [13, william, wooley, indicted, burglariously,...        1678   \n",
       "\n",
       "     word_count_cleaned                                   words_lemmatized  \\\n",
       "700                 214  [charle, yate, indict, burglariously, break, e...   \n",
       "580                 127  [hannah, housden, sarah, housden, indict, felo...   \n",
       "581                 144  [joseph, martin, indict, feloniously, steal, j...   \n",
       "419                 186  [william, moss, indict, feloniously, steal, oc...   \n",
       "680                 621  [william, wooley, indict, burglariously, break...   \n",
       "\n",
       "     word_count_cleaned_no_digits  \\\n",
       "700                           210   \n",
       "580                           119   \n",
       "581                           139   \n",
       "419                           174   \n",
       "680                           613   \n",
       "\n",
       "                                     top_5_words_tfidf  \\\n",
       "700  [(passage, 0.19175750857023086), (door, 0.2442...   \n",
       "580  [(luke, 0.21885024189327798), (shoe, 0.2222069...   \n",
       "581  [(horse, 0.18510737089369123), (man, 0.1977650...   \n",
       "419  [(snuffbox, 0.1922942721958252), (apprentice, ...   \n",
       "680  [(ward, 0.1881756870348805), (run, 0.216856796...   \n",
       "\n",
       "                                               doc2vec  \n",
       "700  [0.5797637, -0.78482175, 1.4409305, -1.0716355...  \n",
       "580  [1.8046134, 1.0367785, 2.466086, 1.925455, -0....  \n",
       "581  [1.103122, -1.730811, 2.020693, 0.17772216, -0...  \n",
       "419  [0.32787248, -0.4707733, -0.44840387, 0.873489...  \n",
       "680  [-1.4594783, -0.38962758, -0.22853056, -3.2740...  "
      ]
     },
     "execution_count": 101,
     "metadata": {},
     "output_type": "execute_result"
    }
   ],
   "source": [
    "# let's assign these vectors to our dataframe\n",
    "# start of timer\n",
    "start = datetime.now()\n",
    "print(f\"Start time: {start}\")\n",
    "\n",
    "df[\"doc2vec\"] = df.index.map(lambda x: d2v_model.dv[x])\n",
    "print(f\"Time elapsed: {datetime.now() - start}\")\n",
    "# let's see what we have\n",
    "df.sample(5)"
   ]
  },
  {
   "cell_type": "code",
   "execution_count": null,
   "metadata": {},
   "outputs": [],
   "source": [
    "# we now have a 50 length vector for each document that we can use for comparison and other operations"
   ]
  },
  {
   "cell_type": "code",
   "execution_count": 102,
   "metadata": {},
   "outputs": [
    {
     "name": "stdout",
     "output_type": "stream",
     "text": [
      "Time elapsed: 0:00:00.577447\n"
     ]
    }
   ],
   "source": [
    "# finally let's save our dataframe to pickle file again\n",
    "\n",
    "# we will use to_pickle method\n",
    "\n",
    "# start of timer\n",
    "start = datetime.now()\n",
    "pickle_file = Path(\"old_bailey_sample_1720_1913_cleaned_embeddings.pkl\")\n",
    "\n",
    "df.to_pickle(pickle_file, compression=\"zip\")\n",
    "print(f\"Time elapsed: {datetime.now() - start}\")\n"
   ]
  },
  {
   "cell_type": "code",
   "execution_count": 104,
   "metadata": {},
   "outputs": [
    {
     "data": {
      "text/plain": [
       "0"
      ]
     },
     "execution_count": 104,
     "metadata": {},
     "output_type": "execute_result"
    }
   ],
   "source": [
    "# let's find the closesq document to our first document\n",
    "# we will use cosine similarity\n",
    "# we will use sklearn cosine_similarity function\n",
    "# we will use our doc2vec embeddings\n",
    "\n",
    "# let's get embeddings for first document\n",
    "first_doc_d2v = df.doc2vec.iloc[0]\n",
    "# let's see what we have\n",
    "first_doc_d2v\n",
    "\n",
    "# let's get embeddings for all documents\n",
    "all_docs_d2v = df.doc2vec.tolist()\n",
    "\n",
    "# now simply use cosine_similarity function\n",
    "from sklearn.metrics.pairwise import cosine_similarity\n",
    "# let's see what we have\n",
    "cosine_similarity([first_doc_d2v], all_docs_d2v)\n",
    "# find index of most similar document\n",
    "np.argmax(cosine_similarity([first_doc_d2v], all_docs_d2v))\n",
    "# unsurprisingly it is the first document - which is the same document\n",
    "# somewhat surprisingly sometimes it is not the same document - due to the way doc2vec works\n"
   ]
  },
  {
   "cell_type": "code",
   "execution_count": 105,
   "metadata": {},
   "outputs": [
    {
     "name": "stdout",
     "output_type": "stream",
     "text": [
      "Start time: 2023-07-25 02:05:54.100676\n",
      "Time elapsed: 0:00:00.001998\n"
     ]
    },
    {
     "data": {
      "text/plain": [
       "array([[0.99999994, 0.45778802, 0.586551  , ..., 0.49315554, 0.33341596,\n",
       "        0.40257853]], dtype=float32)"
      ]
     },
     "execution_count": 105,
     "metadata": {},
     "output_type": "execute_result"
    }
   ],
   "source": [
    "# so now let's find top 5 most similar documents to our first document\n",
    "# we will use cosine similarity\n",
    "# we will use sklearn cosine_similarity function\n",
    "# we will use our doc2vec embeddings\n",
    "\n",
    "# we already have our first document embeddings\n",
    "# we already have our all documents embeddings\n",
    "\n",
    "# let's get cosine similarity for all documents\n",
    "# start of timer\n",
    "start = datetime.now()\n",
    "print(f\"Start time: {start}\")\n",
    "cosine_similarities = cosine_similarity([first_doc_d2v], all_docs_d2v)\n",
    "print(f\"Time elapsed: {datetime.now() - start}\")\n",
    "# let's see what we have\n",
    "cosine_similarities[:5]"
   ]
  },
  {
   "cell_type": "code",
   "execution_count": 108,
   "metadata": {},
   "outputs": [
    {
     "data": {
      "text/html": [
       "<div>\n",
       "<style scoped>\n",
       "    .dataframe tbody tr th:only-of-type {\n",
       "        vertical-align: middle;\n",
       "    }\n",
       "\n",
       "    .dataframe tbody tr th {\n",
       "        vertical-align: top;\n",
       "    }\n",
       "\n",
       "    .dataframe thead th {\n",
       "        text-align: right;\n",
       "    }\n",
       "</style>\n",
       "<table border=\"1\" class=\"dataframe\">\n",
       "  <thead>\n",
       "    <tr style=\"text-align: right;\">\n",
       "      <th></th>\n",
       "      <th>year</th>\n",
       "      <th>trial_number</th>\n",
       "      <th>punishment</th>\n",
       "      <th>text</th>\n",
       "      <th>dirty_len</th>\n",
       "      <th>clean_len</th>\n",
       "      <th>words</th>\n",
       "      <th>word_count</th>\n",
       "      <th>word_count_cleaned</th>\n",
       "      <th>words_lemmatized</th>\n",
       "      <th>word_count_cleaned_no_digits</th>\n",
       "      <th>top_5_words_tfidf</th>\n",
       "      <th>doc2vec</th>\n",
       "    </tr>\n",
       "  </thead>\n",
       "  <tbody>\n",
       "    <tr>\n",
       "      <th>30</th>\n",
       "      <td>1720</td>\n",
       "      <td>31</td>\n",
       "      <td>Transportation</td>\n",
       "      <td>elizabeth evans of st martins in the fields wa...</td>\n",
       "      <td>548</td>\n",
       "      <td>531</td>\n",
       "      <td>[elizabeth, evans, st, martins, fields, indict...</td>\n",
       "      <td>99</td>\n",
       "      <td>49</td>\n",
       "      <td>[elizabeth, evans, st, martin, field, indict, ...</td>\n",
       "      <td>46</td>\n",
       "      <td>[(good, 0.25535662554576005), (sling, 0.255521...</td>\n",
       "      <td>[0.58074266, -0.23915628, 0.6932438, 0.1311166...</td>\n",
       "    </tr>\n",
       "    <tr>\n",
       "      <th>264</th>\n",
       "      <td>1754</td>\n",
       "      <td>25</td>\n",
       "      <td>[Transportation. See summary.]</td>\n",
       "      <td>110 m elizabeth hore widow was indicted for st...</td>\n",
       "      <td>846</td>\n",
       "      <td>804</td>\n",
       "      <td>[110, m, elizabeth, hore, widow, indicted, ste...</td>\n",
       "      <td>145</td>\n",
       "      <td>80</td>\n",
       "      <td>[m, elizabeth, hore, widow, indict, steal, sil...</td>\n",
       "      <td>74</td>\n",
       "      <td>[(handkerchief, 0.24678087995418604), (pair, 0...</td>\n",
       "      <td>[0.5283339, -0.7592295, 1.0327351, 0.62489116,...</td>\n",
       "    </tr>\n",
       "    <tr>\n",
       "      <th>170</th>\n",
       "      <td>1742</td>\n",
       "      <td>18</td>\n",
       "      <td>[Whipping. See summary.]</td>\n",
       "      <td>20 william bristow was indicted for stealing 2...</td>\n",
       "      <td>160</td>\n",
       "      <td>149</td>\n",
       "      <td>[20, william, bristow, indicted, stealing, 2, ...</td>\n",
       "      <td>27</td>\n",
       "      <td>21</td>\n",
       "      <td>[william, bristow, indict, steal, pound, butte...</td>\n",
       "      <td>16</td>\n",
       "      <td>[(williams, 0.2751791772613587), (butter, 0.35...</td>\n",
       "      <td>[-0.18151693, -0.22353244, 0.17316304, 0.12753...</td>\n",
       "    </tr>\n",
       "    <tr>\n",
       "      <th>99</th>\n",
       "      <td>1731</td>\n",
       "      <td>25</td>\n",
       "      <td>None</td>\n",
       "      <td>sarah davis of st brides was indicted for felo...</td>\n",
       "      <td>249</td>\n",
       "      <td>240</td>\n",
       "      <td>[sarah, davis, st, brides, indicted, felonious...</td>\n",
       "      <td>44</td>\n",
       "      <td>22</td>\n",
       "      <td>[sarah, davis, st, bride, indict, feloniously,...</td>\n",
       "      <td>21</td>\n",
       "      <td>[(chair, 0.2540785345847826), (cane, 0.3206741...</td>\n",
       "      <td>[-0.10121408, -0.4496861, 0.35704604, -0.12270...</td>\n",
       "    </tr>\n",
       "    <tr>\n",
       "      <th>0</th>\n",
       "      <td>1720</td>\n",
       "      <td>1</td>\n",
       "      <td>Transportation</td>\n",
       "      <td>of st leonard eastcheap was indicted for felon...</td>\n",
       "      <td>705</td>\n",
       "      <td>684</td>\n",
       "      <td>[st, leonard, eastcheap, indicted, feloniously...</td>\n",
       "      <td>129</td>\n",
       "      <td>66</td>\n",
       "      <td>[st, leonard, eastcheap, indict, feloniously, ...</td>\n",
       "      <td>60</td>\n",
       "      <td>[(confest, 0.1972391174872452), (depose, 0.215...</td>\n",
       "      <td>[0.5782519, -0.7623888, 0.6419972, -0.01352496...</td>\n",
       "    </tr>\n",
       "  </tbody>\n",
       "</table>\n",
       "</div>"
      ],
      "text/plain": [
       "     year  trial_number                      punishment  \\\n",
       "30   1720            31                  Transportation   \n",
       "264  1754            25  [Transportation. See summary.]   \n",
       "170  1742            18        [Whipping. See summary.]   \n",
       "99   1731            25                            None   \n",
       "0    1720             1                  Transportation   \n",
       "\n",
       "                                                  text  dirty_len  clean_len  \\\n",
       "30   elizabeth evans of st martins in the fields wa...        548        531   \n",
       "264  110 m elizabeth hore widow was indicted for st...        846        804   \n",
       "170  20 william bristow was indicted for stealing 2...        160        149   \n",
       "99   sarah davis of st brides was indicted for felo...        249        240   \n",
       "0    of st leonard eastcheap was indicted for felon...        705        684   \n",
       "\n",
       "                                                 words  word_count  \\\n",
       "30   [elizabeth, evans, st, martins, fields, indict...          99   \n",
       "264  [110, m, elizabeth, hore, widow, indicted, ste...         145   \n",
       "170  [20, william, bristow, indicted, stealing, 2, ...          27   \n",
       "99   [sarah, davis, st, brides, indicted, felonious...          44   \n",
       "0    [st, leonard, eastcheap, indicted, feloniously...         129   \n",
       "\n",
       "     word_count_cleaned                                   words_lemmatized  \\\n",
       "30                   49  [elizabeth, evans, st, martin, field, indict, ...   \n",
       "264                  80  [m, elizabeth, hore, widow, indict, steal, sil...   \n",
       "170                  21  [william, bristow, indict, steal, pound, butte...   \n",
       "99                   22  [sarah, davis, st, bride, indict, feloniously,...   \n",
       "0                    66  [st, leonard, eastcheap, indict, feloniously, ...   \n",
       "\n",
       "     word_count_cleaned_no_digits  \\\n",
       "30                             46   \n",
       "264                            74   \n",
       "170                            16   \n",
       "99                             21   \n",
       "0                              60   \n",
       "\n",
       "                                     top_5_words_tfidf  \\\n",
       "30   [(good, 0.25535662554576005), (sling, 0.255521...   \n",
       "264  [(handkerchief, 0.24678087995418604), (pair, 0...   \n",
       "170  [(williams, 0.2751791772613587), (butter, 0.35...   \n",
       "99   [(chair, 0.2540785345847826), (cane, 0.3206741...   \n",
       "0    [(confest, 0.1972391174872452), (depose, 0.215...   \n",
       "\n",
       "                                               doc2vec  \n",
       "30   [0.58074266, -0.23915628, 0.6932438, 0.1311166...  \n",
       "264  [0.5283339, -0.7592295, 1.0327351, 0.62489116,...  \n",
       "170  [-0.18151693, -0.22353244, 0.17316304, 0.12753...  \n",
       "99   [-0.10121408, -0.4496861, 0.35704604, -0.12270...  \n",
       "0    [0.5782519, -0.7623888, 0.6419972, -0.01352496...  "
      ]
     },
     "execution_count": 108,
     "metadata": {},
     "output_type": "execute_result"
    }
   ],
   "source": [
    "# we want indexes of top 5 most similar documents\n",
    "# we can use argsort\n",
    "# let's see what we have\n",
    "top_5_similar = np.argsort(cosine_similarities)[0][-5:]\n",
    "# let's see what we have\n",
    "top_5_similar\n",
    "# good news is that 0 is the first document so it makes sense for it to be most similar to itself\n",
    "# let's print the rest of the documents\n",
    "df.iloc[top_5_similar]\n",
    "\n",
    "# we still have to make some decisions about how to use these embeddings\n",
    "# there will be need for human judgement on how to use them\n",
    "# at a brief glance it looks like we have some documents that some similarities lie in gender of the defendant\n",
    "# also these documents seem early in our corpus - which make sense as language changes over time\n",
    "\n",
    "# there are many more things we can do with embeddings"
   ]
  },
  {
   "cell_type": "markdown",
   "metadata": {},
   "source": [
    "## Further discussion\n",
    "\n",
    "There are other ways to build embeddings, such as GloVe and FastText. We will not cover them here, but they are worth looking into.\n",
    "\n",
    "There are also below word embeddings which do their own tokenization.\n",
    "\n",
    "for example Byte Level BPE (BBPE) and WordPiece (WP) tokenization.\n",
    "\n",
    "## References\n",
    "\n",
    "https://www.kaggle.com/pierremegret/gensim-word2vec-tutorial\n",
    "Official gensim docs:\n",
    "https://radimrehurek.com/gensim/auto_examples/index.html"
   ]
  },
  {
   "cell_type": "markdown",
   "metadata": {},
   "source": [
    "## Tasks for tomorrow\n",
    "\n",
    "What type of dataset do you want to use?\n",
    "What type of embeddings do you want to build? What type of model do you want to use? \n",
    "What type of evaluation do you want to use?\n",
    "\n",
    "Tomorrow in the first part we will do some topic modelling using LDA - Latent Dirichlet Allocation and extra visualisations."
   ]
  }
 ],
 "metadata": {
  "kernelspec": {
   "display_name": "venv",
   "language": "python",
   "name": "python3"
  },
  "language_info": {
   "codemirror_mode": {
    "name": "ipython",
    "version": 3
   },
   "file_extension": ".py",
   "mimetype": "text/x-python",
   "name": "python",
   "nbconvert_exporter": "python",
   "pygments_lexer": "ipython3",
   "version": "3.11.4"
  },
  "orig_nbformat": 4
 },
 "nbformat": 4,
 "nbformat_minor": 2
}
