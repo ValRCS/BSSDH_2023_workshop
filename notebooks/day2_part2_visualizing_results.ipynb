{
 "cells": [
  {
   "cell_type": "markdown",
   "metadata": {},
   "source": [
    "# Visualizing results\n",
    "\n",
    "Here we explore various options for visualizing the results of our analysis and model fitting.\n",
    "\n",
    "Primarily we will be using Plotly, which is a powerful interactive plotting library. We will also use Matplotlib for some simple plots.\n",
    "\n",
    "Also we will see about using pyLDAvis, which is a library for visualizing the results of topic modeling."
   ]
  },
  {
   "cell_type": "code",
   "execution_count": null,
   "metadata": {},
   "outputs": [],
   "source": []
  }
 ],
 "metadata": {
  "language_info": {
   "name": "python"
  },
  "orig_nbformat": 4
 },
 "nbformat": 4,
 "nbformat_minor": 2
}
