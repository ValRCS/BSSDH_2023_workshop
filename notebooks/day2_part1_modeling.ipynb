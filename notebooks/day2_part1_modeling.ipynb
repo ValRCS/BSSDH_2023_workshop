{
 "cells": [
  {
   "cell_type": "markdown",
   "metadata": {},
   "source": [
    "# Building models \n",
    "\n",
    "Now that we've created some embeddings, we can use them to build models. We'll start with a k-means clustering model. We'll use the embeddings to cluster the data into 10 clusters. We'll then use the cluster assignments to create a new feature for each data point. We'll then use this new feature to train a logistic regression model to predict the target variable.\n",
    "\n",
    "Time allowing we will build a Latent Dirichlet Allocation (LDA) model. LDA is a topic modeling technique that is often used to discover topics in text data. "
   ]
  },
  {
   "cell_type": "markdown",
   "metadata": {},
   "source": [
    "## Clustering\n",
    "\n",
    "Clustering is an unsupervised learning technique that groups data points into clusters based on their similarity. The similarity is measured using a distance metric. The most common distance metric is Euclidean distance. The goal of clustering is to group data points that are similar to each other into the same cluster.\n",
    "\n",
    "### Uses of clustering\n",
    "\n",
    "Clustering leaves room for interpretation. There is no right or wrong answer. This makes clustering useful for exploratory data analysis. Clustering can help us understand the structure of the data. It can help us identify outliers. It can help us identify groups of similar data points. It can help us identify groups of dissimilar data points. It can help us identify groups of data points that are similar to each other but dissimilar to data points in other groups.\n",
    "\n",
    "As far as text analysis goes, clustering can help us identify groups of similar documents. Then we as human curators can label the clusters. This can help us understand the structure of the corpus. It can help us identify outliers. It can help us identify groups of similar documents. It can help us identify groups of dissimilar documents. It can help us identify groups of documents that are similar to each other but dissimilar to documents in other groups.\n",
    "\n",
    "### k-means clustering\n",
    "\n",
    "The most common clustering algorithm is k-means clustering. The algorithm works as follows:\n",
    "\n",
    "1. Randomly initialize k cluster centroids\n",
    "2. Assign each data point to the cluster whose centroid is closest to it\n",
    "3. Recompute the cluster centroids\n",
    "4. Repeat steps 2 and 3 until the cluster assignments stop changing\n",
    "\n",
    "There are some edge cases that can cause the algorithm to fail to converge. For example, if a cluster ends up with no data points assigned to it, then the centroid of that cluster will be undefined. In this case, the algorithm will fail to converge. To avoid this, we can use a modified version of the algorithm that allows for empty clusters. This modified version of the algorithm is called k-means++.\n",
    "\n",
    "More about k-means: https://en.wikipedia.org/wiki/K-means_clustering\n",
    "\n",
    "### k-means in practice\n",
    "\n",
    "We do not have to implement the k-means algorithm ourselves. We can use the implementation provided by scikit-learn. The scikit-learn implementation of k-means uses the k-means++ initialization method by default."
   ]
  },
  {
   "cell_type": "markdown",
   "metadata": {},
   "source": [
    "### Various Clustering Algorithms on Scikit-Learn\n",
    "\n",
    "![Clustering Algorithms](https://scikit-learn.org/stable/_images/sphx_glr_plot_cluster_comparison_001.png)"
   ]
  },
  {
   "cell_type": "code",
   "execution_count": 1,
   "metadata": {},
   "outputs": [
    {
     "name": "stdout",
     "output_type": "stream",
     "text": [
      "Python 3.11.4 (tags/v3.11.4:d2340ef, Jun  7 2023, 05:45:37) [MSC v.1934 64 bit (AMD64)]\n",
      "Pandas 2.0.3\n",
      "Scikit-learn 1.3.0\n",
      "Gensim 4.3.1\n"
     ]
    }
   ],
   "source": [
    "# Building models from our embeddings\n",
    "\n",
    "# As before we will be using Path for our file work\n",
    "\n",
    "# python version\n",
    "import sys\n",
    "print(\"Python\", sys.version)\n",
    "\n",
    "from pathlib import Path\n",
    "\n",
    "# we will be using pandas for our dataframes\n",
    "import pandas as pd\n",
    "# version\n",
    "print(\"Pandas\", pd.__version__)\n",
    "\n",
    "# we will want to use scikit-learn clustering algorithms for our models\n",
    "# import sklearn # sklearn is a bit library so better idea would be to import specific modules\n",
    "from sklearn.cluster import KMeans # KMeans is a clustering algorithm\n",
    "# sklearn version\n",
    "from sklearn import __version__ as sklearn_version # we can import just a single variable and rename it\n",
    "print(\"Scikit-learn\", sklearn_version)\n",
    "\n",
    "# we will also want to use gensim for LDAModel\n",
    "import gensim # gensim is also pretty big so we could have imported specific modules\n",
    "# gensim version\n",
    "print(\"Gensim\", gensim.__version__)\n"
   ]
  },
  {
   "cell_type": "code",
   "execution_count": 2,
   "metadata": {},
   "outputs": [
    {
     "name": "stdout",
     "output_type": "stream",
     "text": [
      "Will import data from https://github.com/ValRCS/BSSDH_2023_workshop/raw/main/data/old_bailey_sample_1720_1913_cleaned_embeddings.pkl\n"
     ]
    }
   ],
   "source": [
    "# url for our data in a pickle format on our repository\n",
    "url = \"https://github.com/ValRCS/BSSDH_2023_workshop/raw/main/data/old_bailey_sample_1720_1913_cleaned_embeddings.pkl\"\n",
    "print(\"Will import data from\", url)"
   ]
  },
  {
   "cell_type": "code",
   "execution_count": 3,
   "metadata": {},
   "outputs": [
    {
     "name": "stdout",
     "output_type": "stream",
     "text": [
      "Dataframe shape (1637, 13)\n"
     ]
    },
    {
     "data": {
      "text/html": [
       "<div>\n",
       "<style scoped>\n",
       "    .dataframe tbody tr th:only-of-type {\n",
       "        vertical-align: middle;\n",
       "    }\n",
       "\n",
       "    .dataframe tbody tr th {\n",
       "        vertical-align: top;\n",
       "    }\n",
       "\n",
       "    .dataframe thead th {\n",
       "        text-align: right;\n",
       "    }\n",
       "</style>\n",
       "<table border=\"1\" class=\"dataframe\">\n",
       "  <thead>\n",
       "    <tr style=\"text-align: right;\">\n",
       "      <th></th>\n",
       "      <th>year</th>\n",
       "      <th>trial_number</th>\n",
       "      <th>punishment</th>\n",
       "      <th>text</th>\n",
       "      <th>dirty_len</th>\n",
       "      <th>clean_len</th>\n",
       "      <th>words</th>\n",
       "      <th>word_count</th>\n",
       "      <th>word_count_cleaned</th>\n",
       "      <th>words_lemmatized</th>\n",
       "      <th>word_count_cleaned_no_digits</th>\n",
       "      <th>top_5_words_tfidf</th>\n",
       "      <th>doc2vec</th>\n",
       "    </tr>\n",
       "  </thead>\n",
       "  <tbody>\n",
       "    <tr>\n",
       "      <th>0</th>\n",
       "      <td>1720</td>\n",
       "      <td>1</td>\n",
       "      <td>Transportation</td>\n",
       "      <td>of st leonard eastcheap was indicted for felon...</td>\n",
       "      <td>705</td>\n",
       "      <td>684</td>\n",
       "      <td>[st, leonard, eastcheap, indicted, feloniously...</td>\n",
       "      <td>129</td>\n",
       "      <td>66</td>\n",
       "      <td>[st, leonard, eastcheap, indict, feloniously, ...</td>\n",
       "      <td>60</td>\n",
       "      <td>[(confest, 0.1972391174872452), (depose, 0.215...</td>\n",
       "      <td>[0.5782519, -0.7623888, 0.6419972, -0.01352496...</td>\n",
       "    </tr>\n",
       "    <tr>\n",
       "      <th>1</th>\n",
       "      <td>1720</td>\n",
       "      <td>2</td>\n",
       "      <td>Transportation</td>\n",
       "      <td>alice jones of st michaels cornhill was indict...</td>\n",
       "      <td>1087</td>\n",
       "      <td>1053</td>\n",
       "      <td>[alice, jones, st, michaels, cornhill, indicte...</td>\n",
       "      <td>200</td>\n",
       "      <td>87</td>\n",
       "      <td>[alice, jones, st, michaels, cornhill, indict,...</td>\n",
       "      <td>82</td>\n",
       "      <td>[(shop, 0.18964859164396325), (bermundas, 0.19...</td>\n",
       "      <td>[0.539647, 0.2990364, 0.90089196, 0.06318843, ...</td>\n",
       "    </tr>\n",
       "    <tr>\n",
       "      <th>2</th>\n",
       "      <td>1720</td>\n",
       "      <td>3</td>\n",
       "      <td>Transportation</td>\n",
       "      <td>james wilson of st katharine coleman was indic...</td>\n",
       "      <td>904</td>\n",
       "      <td>883</td>\n",
       "      <td>[james, wilson, st, katharine, coleman, indict...</td>\n",
       "      <td>177</td>\n",
       "      <td>79</td>\n",
       "      <td>[james, wilson, st, katharine, coleman, indict...</td>\n",
       "      <td>71</td>\n",
       "      <td>[(hung, 0.21832648950390215), (deposed, 0.2419...</td>\n",
       "      <td>[0.46213368, -0.7192513, 1.1036029, 0.02122612...</td>\n",
       "    </tr>\n",
       "    <tr>\n",
       "      <th>3</th>\n",
       "      <td>1720</td>\n",
       "      <td>4</td>\n",
       "      <td>Transportation</td>\n",
       "      <td>james mercy alias masse of st andrew undershaf...</td>\n",
       "      <td>804</td>\n",
       "      <td>778</td>\n",
       "      <td>[james, mercy, alias, masse, st, andrew, under...</td>\n",
       "      <td>143</td>\n",
       "      <td>67</td>\n",
       "      <td>[james, mercy, alias, masse, st, andrew, under...</td>\n",
       "      <td>64</td>\n",
       "      <td>[(undershaft, 0.2126517359898944), (lockt, 0.2...</td>\n",
       "      <td>[-0.18796237, -0.011926579, 0.8681372, -0.6687...</td>\n",
       "    </tr>\n",
       "    <tr>\n",
       "      <th>4</th>\n",
       "      <td>1720</td>\n",
       "      <td>5</td>\n",
       "      <td>Transportation</td>\n",
       "      <td>benjamin cook alias richard smith of st mary a...</td>\n",
       "      <td>483</td>\n",
       "      <td>466</td>\n",
       "      <td>[benjamin, cook, alias, richard, smith, st, ma...</td>\n",
       "      <td>88</td>\n",
       "      <td>46</td>\n",
       "      <td>[benjamin, cook, alias, richard, smith, st, ma...</td>\n",
       "      <td>43</td>\n",
       "      <td>[(stopt, 0.23416420335477436), (abchurch, 0.26...</td>\n",
       "      <td>[0.13697092, 0.5740971, 0.84388906, -0.2005741...</td>\n",
       "    </tr>\n",
       "  </tbody>\n",
       "</table>\n",
       "</div>"
      ],
      "text/plain": [
       "   year  trial_number      punishment  \\\n",
       "0  1720             1  Transportation   \n",
       "1  1720             2  Transportation   \n",
       "2  1720             3  Transportation   \n",
       "3  1720             4  Transportation   \n",
       "4  1720             5  Transportation   \n",
       "\n",
       "                                                text  dirty_len  clean_len  \\\n",
       "0  of st leonard eastcheap was indicted for felon...        705        684   \n",
       "1  alice jones of st michaels cornhill was indict...       1087       1053   \n",
       "2  james wilson of st katharine coleman was indic...        904        883   \n",
       "3  james mercy alias masse of st andrew undershaf...        804        778   \n",
       "4  benjamin cook alias richard smith of st mary a...        483        466   \n",
       "\n",
       "                                               words  word_count  \\\n",
       "0  [st, leonard, eastcheap, indicted, feloniously...         129   \n",
       "1  [alice, jones, st, michaels, cornhill, indicte...         200   \n",
       "2  [james, wilson, st, katharine, coleman, indict...         177   \n",
       "3  [james, mercy, alias, masse, st, andrew, under...         143   \n",
       "4  [benjamin, cook, alias, richard, smith, st, ma...          88   \n",
       "\n",
       "   word_count_cleaned                                   words_lemmatized  \\\n",
       "0                  66  [st, leonard, eastcheap, indict, feloniously, ...   \n",
       "1                  87  [alice, jones, st, michaels, cornhill, indict,...   \n",
       "2                  79  [james, wilson, st, katharine, coleman, indict...   \n",
       "3                  67  [james, mercy, alias, masse, st, andrew, under...   \n",
       "4                  46  [benjamin, cook, alias, richard, smith, st, ma...   \n",
       "\n",
       "   word_count_cleaned_no_digits  \\\n",
       "0                            60   \n",
       "1                            82   \n",
       "2                            71   \n",
       "3                            64   \n",
       "4                            43   \n",
       "\n",
       "                                   top_5_words_tfidf  \\\n",
       "0  [(confest, 0.1972391174872452), (depose, 0.215...   \n",
       "1  [(shop, 0.18964859164396325), (bermundas, 0.19...   \n",
       "2  [(hung, 0.21832648950390215), (deposed, 0.2419...   \n",
       "3  [(undershaft, 0.2126517359898944), (lockt, 0.2...   \n",
       "4  [(stopt, 0.23416420335477436), (abchurch, 0.26...   \n",
       "\n",
       "                                             doc2vec  \n",
       "0  [0.5782519, -0.7623888, 0.6419972, -0.01352496...  \n",
       "1  [0.539647, 0.2990364, 0.90089196, 0.06318843, ...  \n",
       "2  [0.46213368, -0.7192513, 1.1036029, 0.02122612...  \n",
       "3  [-0.18796237, -0.011926579, 0.8681372, -0.6687...  \n",
       "4  [0.13697092, 0.5740971, 0.84388906, -0.2005741...  "
      ]
     },
     "execution_count": 3,
     "metadata": {},
     "output_type": "execute_result"
    }
   ],
   "source": [
    "# lets import our data into a dataframe\n",
    "df = pd.read_pickle(url, compression='zip') # we need to specify compression as zip else we will get an error for load unpickling\n",
    "# shape of our dataframe\n",
    "print(\"Dataframe shape\", df.shape)\n",
    "# lets see first 5 rows\n",
    "df.head()\n",
    "# whew we are back in business!"
   ]
  },
  {
   "cell_type": "code",
   "execution_count": 4,
   "metadata": {},
   "outputs": [
    {
     "name": "stdout",
     "output_type": "stream",
     "text": [
      "Number of values in doc2vec column for first row 50\n"
     ]
    }
   ],
   "source": [
    "# let's print how many values are in doc2vec column for single row\n",
    "print(\"Number of values in doc2vec column for first row\", len(df.doc2vec[0]))"
   ]
  },
  {
   "cell_type": "code",
   "execution_count": 5,
   "metadata": {},
   "outputs": [
    {
     "name": "stdout",
     "output_type": "stream",
     "text": [
      "Range of values in doc2vec column for first row -1.173319 1.5427929\n"
     ]
    }
   ],
   "source": [
    "# what is range of values in doc2vec column for first row\n",
    "print(\"Range of values in doc2vec column for first row\", min(df.doc2vec[0]), max(df.doc2vec[0]))"
   ]
  },
  {
   "cell_type": "code",
   "execution_count": 6,
   "metadata": {},
   "outputs": [
    {
     "name": "stdout",
     "output_type": "stream",
     "text": [
      "Range of values across all rows for doc2vec column 50 50\n"
     ]
    }
   ],
   "source": [
    "# what is range of values across all rows for values inside doc2vec column?\n",
    "\n",
    "print(\"Range of values across all rows for doc2vec column\", df.doc2vec.apply(lambda x: len(x)).min(), df.doc2vec.apply(lambda x: len(x)).max())\n",
    "# not quite what we want but it is good to know we have 50 values in each column of doc2vec for each row"
   ]
  },
  {
   "cell_type": "code",
   "execution_count": 7,
   "metadata": {},
   "outputs": [
    {
     "name": "stdout",
     "output_type": "stream",
     "text": [
      "Numpy 1.24.4\n",
      "Number of values in our list 81850\n"
     ]
    },
    {
     "data": {
      "text/plain": [
       "count    81850.000000\n",
       "mean        -0.041636\n",
       "std          1.287664\n",
       "min        -14.923249\n",
       "25%         -0.525724\n",
       "50%         -0.036388\n",
       "75%          0.450801\n",
       "max         17.326731\n",
       "dtype: float64"
      ]
     },
     "execution_count": 7,
     "metadata": {},
     "output_type": "execute_result"
    }
   ],
   "source": [
    "# what we want is figure out min and max values for values inside list of doc2vec column\n",
    "\n",
    "# easiest would be to create a big list of all values in doc2vec column and then find min and max values\n",
    "# we can use list comprehension for that\n",
    "# we will use numpy for min and max functions\n",
    "\n",
    "import numpy as np\n",
    "# version\n",
    "print(\"Numpy\", np.__version__)\n",
    "\n",
    "# one way to flatten our list of lists:\n",
    "all_doc2vec_values = [value for row in df.doc2vec for value in row] # this trick is due to https://stackoverflow.com/questions/952914/how-to-make-a-flat-list-out-of-list-of-lists\n",
    "# provided by Python guru Alex Martelli - author of some nice Python books\n",
    "# it looks the wrong way around but it works\n",
    "# there are other ways to flatten a list of lists but this is one of the fastest\n",
    "\n",
    "# how many values we have in our list\n",
    "print(\"Number of values in our list\", len(all_doc2vec_values))\n",
    "\n",
    "\n",
    "# let's convert list to pandas series and get some statistics\n",
    "all_doc2vec_values_series = pd.Series(all_doc2vec_values)\n",
    "# let's get some statistics\n",
    "all_doc2vec_values_series.describe()\n",
    "# so it looks like a nice centered distribution with standard deviation or araound 1.28\n"
   ]
  },
  {
   "cell_type": "code",
   "execution_count": 8,
   "metadata": {},
   "outputs": [
    {
     "name": "stdout",
     "output_type": "stream",
     "text": [
      "Seaborn 0.12.2\n"
     ]
    },
    {
     "data": {
      "text/plain": [
       "<Axes: ylabel='Count'>"
      ]
     },
     "execution_count": 8,
     "metadata": {},
     "output_type": "execute_result"
    },
    {
     "data": {
      "image/png": "[encoded data removed]",
      "text/plain": [
       "<Figure size 640x480 with 1 Axes>"
      ]
     },
     "metadata": {},
     "output_type": "display_data"
    }
   ],
   "source": [
    "# let's plot the distribution of our values\n",
    "import matplotlib.pyplot as plt\n",
    "# we will use seaborn for plotting\n",
    "import seaborn as sns\n",
    "# seaborn version\n",
    "print(\"Seaborn\", sns.__version__)\n",
    "# let's plot a histogram of our values\n",
    "sns.histplot(all_doc2vec_values_series)\n"
   ]
  },
  {
   "cell_type": "markdown",
   "metadata": {},
   "source": [
    "### Normal distribution\n",
    "\n",
    "Now that certainly looks like a normal distribution - also known as Gaussian distribution.\n",
    "\n",
    "Link on wikipedia: https://en.wikipedia.org/wiki/Normal_distribution\n",
    "\n",
    "![Normal](https://upload.wikimedia.org/wikipedia/commons/thumb/8/8c/Standard_deviation_diagram.svg/525px-Standard_deviation_diagram.svg.png)\n",
    "\n",
    "We would have to read the paper behind word2vec and doc2vec to see how this type of distribution was achieved.\n",
    "\n",
    "Now for each document the values will not be as smooth which is good because we want to see the differences between documents."
   ]
  },
  {
   "cell_type": "markdown",
   "metadata": {},
   "source": [
    "## Building k-means clustering model"
   ]
  },
  {
   "cell_type": "code",
   "execution_count": 9,
   "metadata": {},
   "outputs": [
    {
     "name": "stdout",
     "output_type": "stream",
     "text": [
      "Dimensions of our numpy array (1637,)\n"
     ]
    }
   ],
   "source": [
    "# but enough playing around, let's build our kmeans model\n",
    "\n",
    "# we will use KMeans from sklearn\n",
    "# we will start with 5 clusters\n",
    "# we will use random_state=42 for reproducibility\n",
    "\n",
    "kmeans_model = KMeans(n_clusters=5, random_state=42)\n",
    "# our features will be doc2vec column\n",
    "\n",
    "# we can pass in numpy array or pandas dataframe\n",
    "# we will pass in numpy array\n",
    "\n",
    "# let's print dimensions of our numpy array\n",
    "X = df.doc2vec.to_numpy() # it is very common to use X for features\n",
    "# why X it indicates a matrix of features, so generally a 2D array\n",
    "print(\"Dimensions of our numpy array\", X.shape)\n",
    "\n",
    " # kmeans model expects numpy array of dimensions (n_samples, n_features)"
   ]
  },
  {
   "cell_type": "code",
   "execution_count": 10,
   "metadata": {},
   "outputs": [
    {
     "name": "stdout",
     "output_type": "stream",
     "text": [
      "First row of our numpy array [ 0.5782519  -0.7623888   0.6419972  -0.01352497 -0.02889981  0.33993718\n",
      "  0.5432642  -0.79231936 -0.17276347  0.2894747  -0.1814085  -1.173319\n",
      " -0.6315174  -0.39531848 -0.8824809   0.44549268 -0.00762038 -0.2669511\n",
      "  0.2836903   0.31825238 -0.46722114 -0.12032476  1.5427929  -0.16820197\n",
      " -0.5314884  -1.1173726  -0.06433648 -1.0612508   0.8740516   0.24408202\n",
      "  0.44927603 -0.25962996 -0.23105077  0.64783835  0.34015447  0.6314114\n",
      "  0.5084683  -0.12150066 -0.8327542  -0.24457273  0.46525353 -0.43322456\n",
      "  0.48058265 -0.8931239  -0.274334   -0.0263922   0.47523484 -0.10395955\n",
      "  0.0836495   0.5372703 ]\n"
     ]
    }
   ],
   "source": [
    "# we got one dimension right, but we need to reshape our array to have 50 features\n",
    "# let's check out first row\n",
    "print(\"First row of our numpy array\", X[0])\n",
    "# that certainly looks like 50 features "
   ]
  },
  {
   "cell_type": "code",
   "execution_count": 11,
   "metadata": {},
   "outputs": [
    {
     "name": "stdout",
     "output_type": "stream",
     "text": [
      "Type of our numpy array <class 'numpy.ndarray'>\n",
      "Type of our numpy array <class 'numpy.ndarray'>\n",
      "Type of our first value <class 'numpy.float32'>\n",
      "First value of first value 0.5782519\n",
      "Last value of first value 0.5372703\n"
     ]
    }
   ],
   "source": [
    "# what type is it though>?\n",
    "print(\"Type of our numpy array\", type(X))\n",
    "print(\"Type of our numpy array\", type(X[0]))\n",
    "# how about first value\n",
    "print(\"Type of our first value\", type(X[0][0]))\n",
    "# print first value of first value\n",
    "print(\"First value of first value\", X[0][0])\n",
    "# print last value of first value\n",
    "print(\"Last value of first value\", X[0][-1])\n",
    "# so we can certainly access values in our numpy array as if it was a list of lists\n",
    "# for some reason shape is not showing 50 features"
   ]
  },
  {
   "cell_type": "code",
   "execution_count": 12,
   "metadata": {},
   "outputs": [
    {
     "name": "stdout",
     "output_type": "stream",
     "text": [
      "First row of our list of lists [0.5782519, -0.7623888, 0.6419972, -0.013524966, -0.028899806, 0.33993718, 0.5432642, -0.79231936, -0.17276347, 0.2894747, -0.1814085, -1.173319, -0.6315174, -0.39531848, -0.8824809, 0.44549268, -0.007620384, -0.2669511, 0.2836903, 0.31825238, -0.46722114, -0.12032476, 1.5427929, -0.16820197, -0.5314884, -1.1173726, -0.06433648, -1.0612508, 0.8740516, 0.24408202, 0.44927603, -0.25962996, -0.23105077, 0.64783835, 0.34015447, 0.6314114, 0.5084683, -0.12150066, -0.8327542, -0.24457273, 0.46525353, -0.43322456, 0.48058265, -0.8931239, -0.274334, -0.026392203, 0.47523484, -0.103959545, 0.0836495, 0.5372703]\n"
     ]
    }
   ],
   "source": [
    "# for the time being we will convert it to list of lists which is much less efficient but easier to work with\n",
    "X_list = df.doc2vec.apply(lambda x: list(x)).to_list()\n",
    "# let's check out first row\n",
    "print(\"First row of our list of lists\", X_list[0])"
   ]
  },
  {
   "cell_type": "code",
   "execution_count": 13,
   "metadata": {},
   "outputs": [
    {
     "name": "stderr",
     "output_type": "stream",
     "text": [
      "c:\\Users\\Valdis\\Github\\BSSDH_2023_workshop\\venv\\Lib\\site-packages\\sklearn\\cluster\\_kmeans.py:1412: FutureWarning: The default value of `n_init` will change from 10 to 'auto' in 1.4. Set the value of `n_init` explicitly to suppress the warning\n",
      "  super()._check_params_vs_input(X, default_n_init=10)\n"
     ]
    },
    {
     "data": {
      "text/html": [
       "<style>#sk-container-id-1 {color: black;}#sk-container-id-1 pre{padding: 0;}#sk-container-id-1 div.sk-toggleable {background-color: white;}#sk-container-id-1 label.sk-toggleable__label {cursor: pointer;display: block;width: 100%;margin-bottom: 0;padding: 0.3em;box-sizing: border-box;text-align: center;}#sk-container-id-1 label.sk-toggleable__label-arrow:before {content: \"▸\";float: left;margin-right: 0.25em;color: #696969;}#sk-container-id-1 label.sk-toggleable__label-arrow:hover:before {color: black;}#sk-container-id-1 div.sk-estimator:hover label.sk-toggleable__label-arrow:before {color: black;}#sk-container-id-1 div.sk-toggleable__content {max-height: 0;max-width: 0;overflow: hidden;text-align: left;background-color: #f0f8ff;}#sk-container-id-1 div.sk-toggleable__content pre {margin: 0.2em;color: black;border-radius: 0.25em;background-color: #f0f8ff;}#sk-container-id-1 input.sk-toggleable__control:checked~div.sk-toggleable__content {max-height: 200px;max-width: 100%;overflow: auto;}#sk-container-id-1 input.sk-toggleable__control:checked~label.sk-toggleable__label-arrow:before {content: \"▾\";}#sk-container-id-1 div.sk-estimator input.sk-toggleable__control:checked~label.sk-toggleable__label {background-color: #d4ebff;}#sk-container-id-1 div.sk-label input.sk-toggleable__control:checked~label.sk-toggleable__label {background-color: #d4ebff;}#sk-container-id-1 input.sk-hidden--visually {border: 0;clip: rect(1px 1px 1px 1px);clip: rect(1px, 1px, 1px, 1px);height: 1px;margin: -1px;overflow: hidden;padding: 0;position: absolute;width: 1px;}#sk-container-id-1 div.sk-estimator {font-family: monospace;background-color: #f0f8ff;border: 1px dotted black;border-radius: 0.25em;box-sizing: border-box;margin-bottom: 0.5em;}#sk-container-id-1 div.sk-estimator:hover {background-color: #d4ebff;}#sk-container-id-1 div.sk-parallel-item::after {content: \"\";width: 100%;border-bottom: 1px solid gray;flex-grow: 1;}#sk-container-id-1 div.sk-label:hover label.sk-toggleable__label {background-color: #d4ebff;}#sk-container-id-1 div.sk-serial::before {content: \"\";position: absolute;border-left: 1px solid gray;box-sizing: border-box;top: 0;bottom: 0;left: 50%;z-index: 0;}#sk-container-id-1 div.sk-serial {display: flex;flex-direction: column;align-items: center;background-color: white;padding-right: 0.2em;padding-left: 0.2em;position: relative;}#sk-container-id-1 div.sk-item {position: relative;z-index: 1;}#sk-container-id-1 div.sk-parallel {display: flex;align-items: stretch;justify-content: center;background-color: white;position: relative;}#sk-container-id-1 div.sk-item::before, #sk-container-id-1 div.sk-parallel-item::before {content: \"\";position: absolute;border-left: 1px solid gray;box-sizing: border-box;top: 0;bottom: 0;left: 50%;z-index: -1;}#sk-container-id-1 div.sk-parallel-item {display: flex;flex-direction: column;z-index: 1;position: relative;background-color: white;}#sk-container-id-1 div.sk-parallel-item:first-child::after {align-self: flex-end;width: 50%;}#sk-container-id-1 div.sk-parallel-item:last-child::after {align-self: flex-start;width: 50%;}#sk-container-id-1 div.sk-parallel-item:only-child::after {width: 0;}#sk-container-id-1 div.sk-dashed-wrapped {border: 1px dashed gray;margin: 0 0.4em 0.5em 0.4em;box-sizing: border-box;padding-bottom: 0.4em;background-color: white;}#sk-container-id-1 div.sk-label label {font-family: monospace;font-weight: bold;display: inline-block;line-height: 1.2em;}#sk-container-id-1 div.sk-label-container {text-align: center;}#sk-container-id-1 div.sk-container {/* jupyter's `normalize.less` sets `[hidden] { display: none; }` but bootstrap.min.css set `[hidden] { display: none !important; }` so we also need the `!important` here to be able to override the default hidden behavior on the sphinx rendered scikit-learn.org. See: https://github.com/scikit-learn/scikit-learn/issues/21755 */display: inline-block !important;position: relative;}#sk-container-id-1 div.sk-text-repr-fallback {display: none;}</style><div id=\"sk-container-id-1\" class=\"sk-top-container\"><div class=\"sk-text-repr-fallback\"><pre>KMeans(n_clusters=5, random_state=42)</pre><b>In a Jupyter environment, please rerun this cell to show the HTML representation or trust the notebook. <br />On GitHub, the HTML representation is unable to render, please try loading this page with nbviewer.org.</b></div><div class=\"sk-container\" hidden><div class=\"sk-item\"><div class=\"sk-estimator sk-toggleable\"><input class=\"sk-toggleable__control sk-hidden--visually\" id=\"sk-estimator-id-1\" type=\"checkbox\" checked><label for=\"sk-estimator-id-1\" class=\"sk-toggleable__label sk-toggleable__label-arrow\">KMeans</label><div class=\"sk-toggleable__content\"><pre>KMeans(n_clusters=5, random_state=42)</pre></div></div></div></div></div>"
      ],
      "text/plain": [
       "KMeans(n_clusters=5, random_state=42)"
      ]
     },
     "execution_count": 13,
     "metadata": {},
     "output_type": "execute_result"
    }
   ],
   "source": [
    "# in Machine Learning it is very common for training data to be in a form of list of lists\n",
    "# also it is common to call the process of building a model training\n",
    "# in sklearn as well as in gensim we will be using fit method to train our model\n",
    "# fit method expects a list of lists\n",
    "# let's train our model\n",
    "\n",
    "kmeans_model.fit(X_list)\n",
    "# we got a warning that in the future n_init will be changed to 10"
   ]
  },
  {
   "cell_type": "code",
   "execution_count": 14,
   "metadata": {},
   "outputs": [
    {
     "name": "stdout",
     "output_type": "stream",
     "text": [
      "Dimensions of our numpy array (1637, 50)\n",
      "First row of our numpy array [ 0.5782519  -0.7623888   0.6419972  -0.01352497 -0.02889981  0.33993718\n",
      "  0.5432642  -0.79231936 -0.17276347  0.2894747  -0.1814085  -1.173319\n",
      " -0.6315174  -0.39531848 -0.8824809   0.44549268 -0.00762038 -0.2669511\n",
      "  0.2836903   0.31825238 -0.46722114 -0.12032476  1.5427929  -0.16820197\n",
      " -0.5314884  -1.1173726  -0.06433648 -1.0612508   0.8740516   0.24408202\n",
      "  0.44927603 -0.25962996 -0.23105077  0.64783835  0.34015447  0.6314114\n",
      "  0.5084683  -0.12150066 -0.8327542  -0.24457273  0.46525353 -0.43322456\n",
      "  0.48058265 -0.8931239  -0.274334   -0.0263922   0.47523484 -0.10395955\n",
      "  0.0836495   0.5372703 ]\n"
     ]
    }
   ],
   "source": [
    "# let's convert our X_list back to numpy array\n",
    "X = np.array(X_list)\n",
    "# let's check out shape\n",
    "print(\"Dimensions of our numpy array\", X.shape)\n",
    "# now that looks better\n",
    "# print first row\n",
    "print(\"First row of our numpy array\", X[0])"
   ]
  },
  {
   "cell_type": "markdown",
   "metadata": {},
   "source": [
    "### Dealing with errors\n",
    "\n",
    "One takeaway is that even if you encounter some error with external libraries you can often fall back to tried and true data structures\n",
    "such as lists and dictionaries. In our case it was list of lists that saved the day."
   ]
  },
  {
   "cell_type": "markdown",
   "metadata": {},
   "source": [
    "### K-means clustering results\n"
   ]
  },
  {
   "cell_type": "code",
   "execution_count": 15,
   "metadata": {},
   "outputs": [
    {
     "name": "stdout",
     "output_type": "stream",
     "text": [
      "Shape of y_pred (1637,)\n"
     ]
    }
   ],
   "source": [
    "# now that we have run the fit method we can use our model to predict clusters for our data\n",
    "# we will use predict method\n",
    "# predict method expects a numpy array\n",
    "\n",
    "# let's predict clusters for our data\n",
    "y_pred = kmeans_model.predict(X_list)\n",
    "# y_pred = kmeans_model.predict(X) # this does not work of data type mismatch between double and float\n",
    "# note in many supervised machine learning algorithms it is required to have a test set and training set so not to overfit our model\n",
    "# with unsupervised kmeans we can use predict method to predict clusters for our data itself with no ill effects because we are not using labels\n",
    "\n",
    "# shape of y_pred\n",
    "print(\"Shape of y_pred\", y_pred.shape)\n",
    "\n"
   ]
  },
  {
   "cell_type": "code",
   "execution_count": 16,
   "metadata": {},
   "outputs": [
    {
     "data": {
      "text/html": [
       "<div>\n",
       "<style scoped>\n",
       "    .dataframe tbody tr th:only-of-type {\n",
       "        vertical-align: middle;\n",
       "    }\n",
       "\n",
       "    .dataframe tbody tr th {\n",
       "        vertical-align: top;\n",
       "    }\n",
       "\n",
       "    .dataframe thead th {\n",
       "        text-align: right;\n",
       "    }\n",
       "</style>\n",
       "<table border=\"1\" class=\"dataframe\">\n",
       "  <thead>\n",
       "    <tr style=\"text-align: right;\">\n",
       "      <th></th>\n",
       "      <th>year</th>\n",
       "      <th>trial_number</th>\n",
       "      <th>punishment</th>\n",
       "      <th>text</th>\n",
       "      <th>dirty_len</th>\n",
       "      <th>clean_len</th>\n",
       "      <th>words</th>\n",
       "      <th>word_count</th>\n",
       "      <th>word_count_cleaned</th>\n",
       "      <th>words_lemmatized</th>\n",
       "      <th>word_count_cleaned_no_digits</th>\n",
       "      <th>top_5_words_tfidf</th>\n",
       "      <th>doc2vec</th>\n",
       "      <th>cluster</th>\n",
       "    </tr>\n",
       "  </thead>\n",
       "  <tbody>\n",
       "    <tr>\n",
       "      <th>0</th>\n",
       "      <td>1720</td>\n",
       "      <td>1</td>\n",
       "      <td>Transportation</td>\n",
       "      <td>of st leonard eastcheap was indicted for felon...</td>\n",
       "      <td>705</td>\n",
       "      <td>684</td>\n",
       "      <td>[st, leonard, eastcheap, indicted, feloniously...</td>\n",
       "      <td>129</td>\n",
       "      <td>66</td>\n",
       "      <td>[st, leonard, eastcheap, indict, feloniously, ...</td>\n",
       "      <td>60</td>\n",
       "      <td>[(confest, 0.1972391174872452), (depose, 0.215...</td>\n",
       "      <td>[0.5782519, -0.7623888, 0.6419972, -0.01352496...</td>\n",
       "      <td>1</td>\n",
       "    </tr>\n",
       "    <tr>\n",
       "      <th>1</th>\n",
       "      <td>1720</td>\n",
       "      <td>2</td>\n",
       "      <td>Transportation</td>\n",
       "      <td>alice jones of st michaels cornhill was indict...</td>\n",
       "      <td>1087</td>\n",
       "      <td>1053</td>\n",
       "      <td>[alice, jones, st, michaels, cornhill, indicte...</td>\n",
       "      <td>200</td>\n",
       "      <td>87</td>\n",
       "      <td>[alice, jones, st, michaels, cornhill, indict,...</td>\n",
       "      <td>82</td>\n",
       "      <td>[(shop, 0.18964859164396325), (bermundas, 0.19...</td>\n",
       "      <td>[0.539647, 0.2990364, 0.90089196, 0.06318843, ...</td>\n",
       "      <td>1</td>\n",
       "    </tr>\n",
       "    <tr>\n",
       "      <th>2</th>\n",
       "      <td>1720</td>\n",
       "      <td>3</td>\n",
       "      <td>Transportation</td>\n",
       "      <td>james wilson of st katharine coleman was indic...</td>\n",
       "      <td>904</td>\n",
       "      <td>883</td>\n",
       "      <td>[james, wilson, st, katharine, coleman, indict...</td>\n",
       "      <td>177</td>\n",
       "      <td>79</td>\n",
       "      <td>[james, wilson, st, katharine, coleman, indict...</td>\n",
       "      <td>71</td>\n",
       "      <td>[(hung, 0.21832648950390215), (deposed, 0.2419...</td>\n",
       "      <td>[0.46213368, -0.7192513, 1.1036029, 0.02122612...</td>\n",
       "      <td>1</td>\n",
       "    </tr>\n",
       "    <tr>\n",
       "      <th>3</th>\n",
       "      <td>1720</td>\n",
       "      <td>4</td>\n",
       "      <td>Transportation</td>\n",
       "      <td>james mercy alias masse of st andrew undershaf...</td>\n",
       "      <td>804</td>\n",
       "      <td>778</td>\n",
       "      <td>[james, mercy, alias, masse, st, andrew, under...</td>\n",
       "      <td>143</td>\n",
       "      <td>67</td>\n",
       "      <td>[james, mercy, alias, masse, st, andrew, under...</td>\n",
       "      <td>64</td>\n",
       "      <td>[(undershaft, 0.2126517359898944), (lockt, 0.2...</td>\n",
       "      <td>[-0.18796237, -0.011926579, 0.8681372, -0.6687...</td>\n",
       "      <td>1</td>\n",
       "    </tr>\n",
       "    <tr>\n",
       "      <th>4</th>\n",
       "      <td>1720</td>\n",
       "      <td>5</td>\n",
       "      <td>Transportation</td>\n",
       "      <td>benjamin cook alias richard smith of st mary a...</td>\n",
       "      <td>483</td>\n",
       "      <td>466</td>\n",
       "      <td>[benjamin, cook, alias, richard, smith, st, ma...</td>\n",
       "      <td>88</td>\n",
       "      <td>46</td>\n",
       "      <td>[benjamin, cook, alias, richard, smith, st, ma...</td>\n",
       "      <td>43</td>\n",
       "      <td>[(stopt, 0.23416420335477436), (abchurch, 0.26...</td>\n",
       "      <td>[0.13697092, 0.5740971, 0.84388906, -0.2005741...</td>\n",
       "      <td>1</td>\n",
       "    </tr>\n",
       "  </tbody>\n",
       "</table>\n",
       "</div>"
      ],
      "text/plain": [
       "   year  trial_number      punishment  \\\n",
       "0  1720             1  Transportation   \n",
       "1  1720             2  Transportation   \n",
       "2  1720             3  Transportation   \n",
       "3  1720             4  Transportation   \n",
       "4  1720             5  Transportation   \n",
       "\n",
       "                                                text  dirty_len  clean_len  \\\n",
       "0  of st leonard eastcheap was indicted for felon...        705        684   \n",
       "1  alice jones of st michaels cornhill was indict...       1087       1053   \n",
       "2  james wilson of st katharine coleman was indic...        904        883   \n",
       "3  james mercy alias masse of st andrew undershaf...        804        778   \n",
       "4  benjamin cook alias richard smith of st mary a...        483        466   \n",
       "\n",
       "                                               words  word_count  \\\n",
       "0  [st, leonard, eastcheap, indicted, feloniously...         129   \n",
       "1  [alice, jones, st, michaels, cornhill, indicte...         200   \n",
       "2  [james, wilson, st, katharine, coleman, indict...         177   \n",
       "3  [james, mercy, alias, masse, st, andrew, under...         143   \n",
       "4  [benjamin, cook, alias, richard, smith, st, ma...          88   \n",
       "\n",
       "   word_count_cleaned                                   words_lemmatized  \\\n",
       "0                  66  [st, leonard, eastcheap, indict, feloniously, ...   \n",
       "1                  87  [alice, jones, st, michaels, cornhill, indict,...   \n",
       "2                  79  [james, wilson, st, katharine, coleman, indict...   \n",
       "3                  67  [james, mercy, alias, masse, st, andrew, under...   \n",
       "4                  46  [benjamin, cook, alias, richard, smith, st, ma...   \n",
       "\n",
       "   word_count_cleaned_no_digits  \\\n",
       "0                            60   \n",
       "1                            82   \n",
       "2                            71   \n",
       "3                            64   \n",
       "4                            43   \n",
       "\n",
       "                                   top_5_words_tfidf  \\\n",
       "0  [(confest, 0.1972391174872452), (depose, 0.215...   \n",
       "1  [(shop, 0.18964859164396325), (bermundas, 0.19...   \n",
       "2  [(hung, 0.21832648950390215), (deposed, 0.2419...   \n",
       "3  [(undershaft, 0.2126517359898944), (lockt, 0.2...   \n",
       "4  [(stopt, 0.23416420335477436), (abchurch, 0.26...   \n",
       "\n",
       "                                             doc2vec  cluster  \n",
       "0  [0.5782519, -0.7623888, 0.6419972, -0.01352496...        1  \n",
       "1  [0.539647, 0.2990364, 0.90089196, 0.06318843, ...        1  \n",
       "2  [0.46213368, -0.7192513, 1.1036029, 0.02122612...        1  \n",
       "3  [-0.18796237, -0.011926579, 0.8681372, -0.6687...        1  \n",
       "4  [0.13697092, 0.5740971, 0.84388906, -0.2005741...        1  "
      ]
     },
     "execution_count": 16,
     "metadata": {},
     "output_type": "execute_result"
    }
   ],
   "source": [
    "# let's assign our predicted clusters to our dataframe\n",
    "df['cluster'] = y_pred\n",
    "# let's check out first 5 rows\n",
    "df.head()"
   ]
  },
  {
   "cell_type": "code",
   "execution_count": 17,
   "metadata": {},
   "outputs": [
    {
     "data": {
      "text/plain": [
       "cluster\n",
       "1    995\n",
       "2    234\n",
       "0    230\n",
       "3    102\n",
       "4     76\n",
       "Name: count, dtype: int64"
      ]
     },
     "execution_count": 17,
     "metadata": {},
     "output_type": "execute_result"
    }
   ],
   "source": [
    "# value counts for our clusters\n",
    "df.cluster.value_counts()"
   ]
  },
  {
   "cell_type": "code",
   "execution_count": 18,
   "metadata": {},
   "outputs": [
    {
     "data": {
      "text/html": [
       "<div>\n",
       "<style scoped>\n",
       "    .dataframe tbody tr th:only-of-type {\n",
       "        vertical-align: middle;\n",
       "    }\n",
       "\n",
       "    .dataframe tbody tr th {\n",
       "        vertical-align: top;\n",
       "    }\n",
       "\n",
       "    .dataframe thead th {\n",
       "        text-align: right;\n",
       "    }\n",
       "</style>\n",
       "<table border=\"1\" class=\"dataframe\">\n",
       "  <thead>\n",
       "    <tr style=\"text-align: right;\">\n",
       "      <th>cluster</th>\n",
       "      <th>0</th>\n",
       "      <th>1</th>\n",
       "      <th>2</th>\n",
       "      <th>3</th>\n",
       "      <th>4</th>\n",
       "    </tr>\n",
       "    <tr>\n",
       "      <th>year</th>\n",
       "      <th></th>\n",
       "      <th></th>\n",
       "      <th></th>\n",
       "      <th></th>\n",
       "      <th></th>\n",
       "    </tr>\n",
       "  </thead>\n",
       "  <tbody>\n",
       "    <tr>\n",
       "      <th>1720</th>\n",
       "      <td>2.0</td>\n",
       "      <td>69.0</td>\n",
       "      <td>2.0</td>\n",
       "      <td>NaN</td>\n",
       "      <td>2.0</td>\n",
       "    </tr>\n",
       "    <tr>\n",
       "      <th>1731</th>\n",
       "      <td>1.0</td>\n",
       "      <td>70.0</td>\n",
       "      <td>5.0</td>\n",
       "      <td>NaN</td>\n",
       "      <td>2.0</td>\n",
       "    </tr>\n",
       "    <tr>\n",
       "      <th>1742</th>\n",
       "      <td>8.0</td>\n",
       "      <td>71.0</td>\n",
       "      <td>3.0</td>\n",
       "      <td>2.0</td>\n",
       "      <td>3.0</td>\n",
       "    </tr>\n",
       "    <tr>\n",
       "      <th>1754</th>\n",
       "      <td>19.0</td>\n",
       "      <td>33.0</td>\n",
       "      <td>8.0</td>\n",
       "      <td>NaN</td>\n",
       "      <td>2.0</td>\n",
       "    </tr>\n",
       "    <tr>\n",
       "      <th>1762</th>\n",
       "      <td>14.0</td>\n",
       "      <td>12.0</td>\n",
       "      <td>NaN</td>\n",
       "      <td>NaN</td>\n",
       "      <td>1.0</td>\n",
       "    </tr>\n",
       "  </tbody>\n",
       "</table>\n",
       "</div>"
      ],
      "text/plain": [
       "cluster     0     1    2    3    4\n",
       "year                              \n",
       "1720      2.0  69.0  2.0  NaN  2.0\n",
       "1731      1.0  70.0  5.0  NaN  2.0\n",
       "1742      8.0  71.0  3.0  2.0  3.0\n",
       "1754     19.0  33.0  8.0  NaN  2.0\n",
       "1762     14.0  12.0  NaN  NaN  1.0"
      ]
     },
     "execution_count": 18,
     "metadata": {},
     "output_type": "execute_result"
    }
   ],
   "source": [
    "# now it would be interesting to plot our clusters over the years\n",
    "\n",
    "# let's plot our clusters over the years\n",
    "# we ill use 100% stacked bar chart to show relative proportions of clusters over the years\n",
    "\n",
    "# we will use pandas groupby method to group our data by year and cluster\n",
    "# we will use size method to get number of rows in each group\n",
    "# we will use unstack method to convert our data into a dataframe\n",
    "\n",
    "df_year_cluster = df.groupby(['year', 'cluster']).size().unstack()\n",
    "# let's check out first 5 rows\n",
    "df_year_cluster.head()"
   ]
  },
  {
   "cell_type": "code",
   "execution_count": 19,
   "metadata": {},
   "outputs": [
    {
     "data": {
      "text/html": [
       "<div>\n",
       "<style scoped>\n",
       "    .dataframe tbody tr th:only-of-type {\n",
       "        vertical-align: middle;\n",
       "    }\n",
       "\n",
       "    .dataframe tbody tr th {\n",
       "        vertical-align: top;\n",
       "    }\n",
       "\n",
       "    .dataframe thead th {\n",
       "        text-align: right;\n",
       "    }\n",
       "</style>\n",
       "<table border=\"1\" class=\"dataframe\">\n",
       "  <thead>\n",
       "    <tr style=\"text-align: right;\">\n",
       "      <th>cluster</th>\n",
       "      <th>0</th>\n",
       "      <th>1</th>\n",
       "      <th>2</th>\n",
       "      <th>3</th>\n",
       "      <th>4</th>\n",
       "    </tr>\n",
       "    <tr>\n",
       "      <th>year</th>\n",
       "      <th></th>\n",
       "      <th></th>\n",
       "      <th></th>\n",
       "      <th></th>\n",
       "      <th></th>\n",
       "    </tr>\n",
       "  </thead>\n",
       "  <tbody>\n",
       "    <tr>\n",
       "      <th>1720</th>\n",
       "      <td>2.0</td>\n",
       "      <td>69.0</td>\n",
       "      <td>2.0</td>\n",
       "      <td>0.0</td>\n",
       "      <td>2.0</td>\n",
       "    </tr>\n",
       "    <tr>\n",
       "      <th>1731</th>\n",
       "      <td>1.0</td>\n",
       "      <td>70.0</td>\n",
       "      <td>5.0</td>\n",
       "      <td>0.0</td>\n",
       "      <td>2.0</td>\n",
       "    </tr>\n",
       "    <tr>\n",
       "      <th>1742</th>\n",
       "      <td>8.0</td>\n",
       "      <td>71.0</td>\n",
       "      <td>3.0</td>\n",
       "      <td>2.0</td>\n",
       "      <td>3.0</td>\n",
       "    </tr>\n",
       "    <tr>\n",
       "      <th>1754</th>\n",
       "      <td>19.0</td>\n",
       "      <td>33.0</td>\n",
       "      <td>8.0</td>\n",
       "      <td>0.0</td>\n",
       "      <td>2.0</td>\n",
       "    </tr>\n",
       "    <tr>\n",
       "      <th>1762</th>\n",
       "      <td>14.0</td>\n",
       "      <td>12.0</td>\n",
       "      <td>0.0</td>\n",
       "      <td>0.0</td>\n",
       "      <td>1.0</td>\n",
       "    </tr>\n",
       "  </tbody>\n",
       "</table>\n",
       "</div>"
      ],
      "text/plain": [
       "cluster     0     1    2    3    4\n",
       "year                              \n",
       "1720      2.0  69.0  2.0  0.0  2.0\n",
       "1731      1.0  70.0  5.0  0.0  2.0\n",
       "1742      8.0  71.0  3.0  2.0  3.0\n",
       "1754     19.0  33.0  8.0  0.0  2.0\n",
       "1762     14.0  12.0  0.0  0.0  1.0"
      ]
     },
     "execution_count": 19,
     "metadata": {},
     "output_type": "execute_result"
    }
   ],
   "source": [
    "# now we need to fill in missing values with 0\n",
    "df_year_cluster.fillna(0, inplace=True) # note inplace=True means we will change our dataframe in place\n",
    "# let's check out first 5 rows\n",
    "df_year_cluster.head()"
   ]
  },
  {
   "cell_type": "code",
   "execution_count": 20,
   "metadata": {},
   "outputs": [
    {
     "data": {
      "text/html": [
       "<div>\n",
       "<style scoped>\n",
       "    .dataframe tbody tr th:only-of-type {\n",
       "        vertical-align: middle;\n",
       "    }\n",
       "\n",
       "    .dataframe tbody tr th {\n",
       "        vertical-align: top;\n",
       "    }\n",
       "\n",
       "    .dataframe thead th {\n",
       "        text-align: right;\n",
       "    }\n",
       "</style>\n",
       "<table border=\"1\" class=\"dataframe\">\n",
       "  <thead>\n",
       "    <tr style=\"text-align: right;\">\n",
       "      <th>cluster</th>\n",
       "      <th>0</th>\n",
       "      <th>1</th>\n",
       "      <th>2</th>\n",
       "      <th>3</th>\n",
       "      <th>4</th>\n",
       "      <th>total</th>\n",
       "    </tr>\n",
       "    <tr>\n",
       "      <th>year</th>\n",
       "      <th></th>\n",
       "      <th></th>\n",
       "      <th></th>\n",
       "      <th></th>\n",
       "      <th></th>\n",
       "      <th></th>\n",
       "    </tr>\n",
       "  </thead>\n",
       "  <tbody>\n",
       "    <tr>\n",
       "      <th>1720</th>\n",
       "      <td>2.0</td>\n",
       "      <td>69.0</td>\n",
       "      <td>2.0</td>\n",
       "      <td>0.0</td>\n",
       "      <td>2.0</td>\n",
       "      <td>75.0</td>\n",
       "    </tr>\n",
       "    <tr>\n",
       "      <th>1731</th>\n",
       "      <td>1.0</td>\n",
       "      <td>70.0</td>\n",
       "      <td>5.0</td>\n",
       "      <td>0.0</td>\n",
       "      <td>2.0</td>\n",
       "      <td>78.0</td>\n",
       "    </tr>\n",
       "    <tr>\n",
       "      <th>1742</th>\n",
       "      <td>8.0</td>\n",
       "      <td>71.0</td>\n",
       "      <td>3.0</td>\n",
       "      <td>2.0</td>\n",
       "      <td>3.0</td>\n",
       "      <td>87.0</td>\n",
       "    </tr>\n",
       "    <tr>\n",
       "      <th>1754</th>\n",
       "      <td>19.0</td>\n",
       "      <td>33.0</td>\n",
       "      <td>8.0</td>\n",
       "      <td>0.0</td>\n",
       "      <td>2.0</td>\n",
       "      <td>62.0</td>\n",
       "    </tr>\n",
       "    <tr>\n",
       "      <th>1762</th>\n",
       "      <td>14.0</td>\n",
       "      <td>12.0</td>\n",
       "      <td>0.0</td>\n",
       "      <td>0.0</td>\n",
       "      <td>1.0</td>\n",
       "      <td>27.0</td>\n",
       "    </tr>\n",
       "  </tbody>\n",
       "</table>\n",
       "</div>"
      ],
      "text/plain": [
       "cluster     0     1    2    3    4  total\n",
       "year                                     \n",
       "1720      2.0  69.0  2.0  0.0  2.0   75.0\n",
       "1731      1.0  70.0  5.0  0.0  2.0   78.0\n",
       "1742      8.0  71.0  3.0  2.0  3.0   87.0\n",
       "1754     19.0  33.0  8.0  0.0  2.0   62.0\n",
       "1762     14.0  12.0  0.0  0.0  1.0   27.0"
      ]
     },
     "execution_count": 20,
     "metadata": {},
     "output_type": "execute_result"
    }
   ],
   "source": [
    "# now let's create a column of total values for each year\n",
    "df_year_cluster['total'] = df_year_cluster.sum(axis=1)\n",
    "# let's check out first 5 rows\n",
    "df_year_cluster.head()"
   ]
  },
  {
   "cell_type": "code",
   "execution_count": 21,
   "metadata": {},
   "outputs": [
    {
     "data": {
      "text/html": [
       "<div>\n",
       "<style scoped>\n",
       "    .dataframe tbody tr th:only-of-type {\n",
       "        vertical-align: middle;\n",
       "    }\n",
       "\n",
       "    .dataframe tbody tr th {\n",
       "        vertical-align: top;\n",
       "    }\n",
       "\n",
       "    .dataframe thead th {\n",
       "        text-align: right;\n",
       "    }\n",
       "</style>\n",
       "<table border=\"1\" class=\"dataframe\">\n",
       "  <thead>\n",
       "    <tr style=\"text-align: right;\">\n",
       "      <th>cluster</th>\n",
       "      <th>0</th>\n",
       "      <th>1</th>\n",
       "      <th>2</th>\n",
       "      <th>3</th>\n",
       "      <th>4</th>\n",
       "      <th>total</th>\n",
       "      <th>c_0_perc</th>\n",
       "      <th>c_1_perc</th>\n",
       "      <th>c_2_perc</th>\n",
       "      <th>c_3_perc</th>\n",
       "      <th>c_4_perc</th>\n",
       "    </tr>\n",
       "    <tr>\n",
       "      <th>year</th>\n",
       "      <th></th>\n",
       "      <th></th>\n",
       "      <th></th>\n",
       "      <th></th>\n",
       "      <th></th>\n",
       "      <th></th>\n",
       "      <th></th>\n",
       "      <th></th>\n",
       "      <th></th>\n",
       "      <th></th>\n",
       "      <th></th>\n",
       "    </tr>\n",
       "  </thead>\n",
       "  <tbody>\n",
       "    <tr>\n",
       "      <th>1720</th>\n",
       "      <td>2.0</td>\n",
       "      <td>69.0</td>\n",
       "      <td>2.0</td>\n",
       "      <td>0.0</td>\n",
       "      <td>2.0</td>\n",
       "      <td>75.0</td>\n",
       "      <td>0.026667</td>\n",
       "      <td>0.920000</td>\n",
       "      <td>0.026667</td>\n",
       "      <td>0.000000</td>\n",
       "      <td>0.026667</td>\n",
       "    </tr>\n",
       "    <tr>\n",
       "      <th>1731</th>\n",
       "      <td>1.0</td>\n",
       "      <td>70.0</td>\n",
       "      <td>5.0</td>\n",
       "      <td>0.0</td>\n",
       "      <td>2.0</td>\n",
       "      <td>78.0</td>\n",
       "      <td>0.012821</td>\n",
       "      <td>0.897436</td>\n",
       "      <td>0.064103</td>\n",
       "      <td>0.000000</td>\n",
       "      <td>0.025641</td>\n",
       "    </tr>\n",
       "    <tr>\n",
       "      <th>1742</th>\n",
       "      <td>8.0</td>\n",
       "      <td>71.0</td>\n",
       "      <td>3.0</td>\n",
       "      <td>2.0</td>\n",
       "      <td>3.0</td>\n",
       "      <td>87.0</td>\n",
       "      <td>0.091954</td>\n",
       "      <td>0.816092</td>\n",
       "      <td>0.034483</td>\n",
       "      <td>0.022989</td>\n",
       "      <td>0.034483</td>\n",
       "    </tr>\n",
       "    <tr>\n",
       "      <th>1754</th>\n",
       "      <td>19.0</td>\n",
       "      <td>33.0</td>\n",
       "      <td>8.0</td>\n",
       "      <td>0.0</td>\n",
       "      <td>2.0</td>\n",
       "      <td>62.0</td>\n",
       "      <td>0.306452</td>\n",
       "      <td>0.532258</td>\n",
       "      <td>0.129032</td>\n",
       "      <td>0.000000</td>\n",
       "      <td>0.032258</td>\n",
       "    </tr>\n",
       "    <tr>\n",
       "      <th>1762</th>\n",
       "      <td>14.0</td>\n",
       "      <td>12.0</td>\n",
       "      <td>0.0</td>\n",
       "      <td>0.0</td>\n",
       "      <td>1.0</td>\n",
       "      <td>27.0</td>\n",
       "      <td>0.518519</td>\n",
       "      <td>0.444444</td>\n",
       "      <td>0.000000</td>\n",
       "      <td>0.000000</td>\n",
       "      <td>0.037037</td>\n",
       "    </tr>\n",
       "  </tbody>\n",
       "</table>\n",
       "</div>"
      ],
      "text/plain": [
       "cluster     0     1    2    3    4  total  c_0_perc  c_1_perc  c_2_perc  \\\n",
       "year                                                                      \n",
       "1720      2.0  69.0  2.0  0.0  2.0   75.0  0.026667  0.920000  0.026667   \n",
       "1731      1.0  70.0  5.0  0.0  2.0   78.0  0.012821  0.897436  0.064103   \n",
       "1742      8.0  71.0  3.0  2.0  3.0   87.0  0.091954  0.816092  0.034483   \n",
       "1754     19.0  33.0  8.0  0.0  2.0   62.0  0.306452  0.532258  0.129032   \n",
       "1762     14.0  12.0  0.0  0.0  1.0   27.0  0.518519  0.444444  0.000000   \n",
       "\n",
       "cluster  c_3_perc  c_4_perc  \n",
       "year                         \n",
       "1720     0.000000  0.026667  \n",
       "1731     0.000000  0.025641  \n",
       "1742     0.022989  0.034483  \n",
       "1754     0.000000  0.032258  \n",
       "1762     0.000000  0.037037  "
      ]
     },
     "execution_count": 21,
     "metadata": {},
     "output_type": "execute_result"
    }
   ],
   "source": [
    "# now let's create a proportion column for each cluster\n",
    "# we will divide each cluster column by total column and create a new column with results\n",
    "for cluster in range(5):\n",
    "    df_year_cluster[f\"c_{cluster}_perc\"] = df_year_cluster[cluster] / df_year_cluster['total']\n",
    "# let's check out first 5 rows\n",
    "df_year_cluster.head()"
   ]
  },
  {
   "cell_type": "code",
   "execution_count": 22,
   "metadata": {},
   "outputs": [
    {
     "data": {
      "application/vnd.plotly.v1+json": {
       "config": {
        "plotlyServerURL": "https://plot.ly"
       },
       "data": [
        {
         "alignmentgroup": "True",
         "hovertemplate": "variable=c_0_perc<br>year=%{x}<br>value=%{y}<extra></extra>",
         "legendgroup": "c_0_perc",
         "marker": {
          "color": "#636efa",
          "pattern": {
           "shape": ""
          }
         },
         "name": "c_0_perc",
         "offsetgroup": "c_0_perc",
         "orientation": "v",
         "showlegend": true,
         "textposition": "auto",
         "type": "bar",
         "x": [
          1720,
          1731,
          1742,
          1754,
          1762,
          1773,
          1784,
          1796,
          1802,
          1814,
          1821,
          1835,
          1841,
          1853,
          1865,
          1872,
          1881,
          1896,
          1902,
          1913
         ],
         "xaxis": "x",
         "y": [
          0.02666666666666667,
          0.01282051282051282,
          0.09195402298850575,
          0.3064516129032258,
          0.5185185185185185,
          0.275,
          0,
          0.47058823529411764,
          0.34782608695652173,
          0.22608695652173913,
          0.18497109826589594,
          0.13333333333333333,
          0.11214953271028037,
          0.07608695652173914,
          0.037037037037037035,
          0.043478260869565216,
          0.058823529411764705,
          0,
          0.016129032258064516,
          0.028985507246376812
         ],
         "yaxis": "y"
        },
        {
         "alignmentgroup": "True",
         "hovertemplate": "variable=c_1_perc<br>year=%{x}<br>value=%{y}<extra></extra>",
         "legendgroup": "c_1_perc",
         "marker": {
          "color": "#EF553B",
          "pattern": {
           "shape": ""
          }
         },
         "name": "c_1_perc",
         "offsetgroup": "c_1_perc",
         "orientation": "v",
         "showlegend": true,
         "textposition": "auto",
         "type": "bar",
         "x": [
          1720,
          1731,
          1742,
          1754,
          1762,
          1773,
          1784,
          1796,
          1802,
          1814,
          1821,
          1835,
          1841,
          1853,
          1865,
          1872,
          1881,
          1896,
          1902,
          1913
         ],
         "xaxis": "x",
         "y": [
          0.92,
          0.8974358974358975,
          0.8160919540229885,
          0.532258064516129,
          0.4444444444444444,
          0.65,
          0,
          0.29411764705882354,
          0.358695652173913,
          0.4956521739130435,
          0.5895953757225434,
          0.6166666666666667,
          0.6915887850467289,
          0.5652173913043478,
          0.4567901234567901,
          0.5507246376811594,
          0.5647058823529412,
          0.5510204081632653,
          0.6935483870967742,
          0.6521739130434783
         ],
         "yaxis": "y"
        },
        {
         "alignmentgroup": "True",
         "hovertemplate": "variable=c_2_perc<br>year=%{x}<br>value=%{y}<extra></extra>",
         "legendgroup": "c_2_perc",
         "marker": {
          "color": "#00cc96",
          "pattern": {
           "shape": ""
          }
         },
         "name": "c_2_perc",
         "offsetgroup": "c_2_perc",
         "orientation": "v",
         "showlegend": true,
         "textposition": "auto",
         "type": "bar",
         "x": [
          1720,
          1731,
          1742,
          1754,
          1762,
          1773,
          1784,
          1796,
          1802,
          1814,
          1821,
          1835,
          1841,
          1853,
          1865,
          1872,
          1881,
          1896,
          1902,
          1913
         ],
         "xaxis": "x",
         "y": [
          0.02666666666666667,
          0.0641025641025641,
          0.034482758620689655,
          0.12903225806451613,
          0,
          0.05,
          0,
          0.19607843137254902,
          0.22826086956521738,
          0.23478260869565218,
          0.1907514450867052,
          0.125,
          0.1308411214953271,
          0.17391304347826086,
          0.32098765432098764,
          0.2028985507246377,
          0.17647058823529413,
          0.16326530612244897,
          0.06451612903225806,
          0.07246376811594203
         ],
         "yaxis": "y"
        },
        {
         "alignmentgroup": "True",
         "hovertemplate": "variable=c_3_perc<br>year=%{x}<br>value=%{y}<extra></extra>",
         "legendgroup": "c_3_perc",
         "marker": {
          "color": "#ab63fa",
          "pattern": {
           "shape": ""
          }
         },
         "name": "c_3_perc",
         "offsetgroup": "c_3_perc",
         "orientation": "v",
         "showlegend": true,
         "textposition": "auto",
         "type": "bar",
         "x": [
          1720,
          1731,
          1742,
          1754,
          1762,
          1773,
          1784,
          1796,
          1802,
          1814,
          1821,
          1835,
          1841,
          1853,
          1865,
          1872,
          1881,
          1896,
          1902,
          1913
         ],
         "xaxis": "x",
         "y": [
          0,
          0,
          0.022988505747126436,
          0,
          0,
          0.0125,
          0,
          0.0392156862745098,
          0.05434782608695652,
          0.02608695652173913,
          0.028901734104046242,
          0.09166666666666666,
          0.028037383177570093,
          0.13043478260869565,
          0.09876543209876543,
          0.057971014492753624,
          0.1411764705882353,
          0.1836734693877551,
          0.08870967741935484,
          0.2028985507246377
         ],
         "yaxis": "y"
        },
        {
         "alignmentgroup": "True",
         "hovertemplate": "variable=c_4_perc<br>year=%{x}<br>value=%{y}<extra></extra>",
         "legendgroup": "c_4_perc",
         "marker": {
          "color": "#FFA15A",
          "pattern": {
           "shape": ""
          }
         },
         "name": "c_4_perc",
         "offsetgroup": "c_4_perc",
         "orientation": "v",
         "showlegend": true,
         "textposition": "auto",
         "type": "bar",
         "x": [
          1720,
          1731,
          1742,
          1754,
          1762,
          1773,
          1784,
          1796,
          1802,
          1814,
          1821,
          1835,
          1841,
          1853,
          1865,
          1872,
          1881,
          1896,
          1902,
          1913
         ],
         "xaxis": "x",
         "y": [
          0.02666666666666667,
          0.02564102564102564,
          0.034482758620689655,
          0.03225806451612903,
          0.037037037037037035,
          0.0125,
          1,
          0,
          0.010869565217391304,
          0.017391304347826087,
          0.005780346820809248,
          0.03333333333333333,
          0.037383177570093455,
          0.05434782608695652,
          0.08641975308641975,
          0.14492753623188406,
          0.058823529411764705,
          0.10204081632653061,
          0.13709677419354838,
          0.043478260869565216
         ],
         "yaxis": "y"
        }
       ],
       "layout": {
        "barmode": "relative",
        "legend": {
         "title": {
          "text": "variable"
         },
         "tracegroupgap": 0
        },
        "template": {
         "data": {
          "bar": [
           {
            "error_x": {
             "color": "#2a3f5f"
            },
            "error_y": {
             "color": "#2a3f5f"
            },
            "marker": {
             "line": {
              "color": "#E5ECF6",
              "width": 0.5
             },
             "pattern": {
              "fillmode": "overlay",
              "size": 10,
              "solidity": 0.2
             }
            },
            "type": "bar"
           }
          ],
          "barpolar": [
           {
            "marker": {
             "line": {
              "color": "#E5ECF6",
              "width": 0.5
             },
             "pattern": {
              "fillmode": "overlay",
              "size": 10,
              "solidity": 0.2
             }
            },
            "type": "barpolar"
           }
          ],
          "carpet": [
           {
            "aaxis": {
             "endlinecolor": "#2a3f5f",
             "gridcolor": "white",
             "linecolor": "white",
             "minorgridcolor": "white",
             "startlinecolor": "#2a3f5f"
            },
            "baxis": {
             "endlinecolor": "#2a3f5f",
             "gridcolor": "white",
             "linecolor": "white",
             "minorgridcolor": "white",
             "startlinecolor": "#2a3f5f"
            },
            "type": "carpet"
           }
          ],
          "choropleth": [
           {
            "colorbar": {
             "outlinewidth": 0,
             "ticks": ""
            },
            "type": "choropleth"
           }
          ],
          "contour": [
           {
            "colorbar": {
             "outlinewidth": 0,
             "ticks": ""
            },
            "colorscale": [
             [
              0,
              "#0d0887"
             ],
             [
              0.1111111111111111,
              "#46039f"
             ],
             [
              0.2222222222222222,
              "#7201a8"
             ],
             [
              0.3333333333333333,
              "#9c179e"
             ],
             [
              0.4444444444444444,
              "#bd3786"
             ],
             [
              0.5555555555555556,
              "#d8576b"
             ],
             [
              0.6666666666666666,
              "#ed7953"
             ],
             [
              0.7777777777777778,
              "#fb9f3a"
             ],
             [
              0.8888888888888888,
              "#fdca26"
             ],
             [
              1,
              "#f0f921"
             ]
            ],
            "type": "contour"
           }
          ],
          "contourcarpet": [
           {
            "colorbar": {
             "outlinewidth": 0,
             "ticks": ""
            },
            "type": "contourcarpet"
           }
          ],
          "heatmap": [
           {
            "colorbar": {
             "outlinewidth": 0,
             "ticks": ""
            },
            "colorscale": [
             [
              0,
              "#0d0887"
             ],
             [
              0.1111111111111111,
              "#46039f"
             ],
             [
              0.2222222222222222,
              "#7201a8"
             ],
             [
              0.3333333333333333,
              "#9c179e"
             ],
             [
              0.4444444444444444,
              "#bd3786"
             ],
             [
              0.5555555555555556,
              "#d8576b"
             ],
             [
              0.6666666666666666,
              "#ed7953"
             ],
             [
              0.7777777777777778,
              "#fb9f3a"
             ],
             [
              0.8888888888888888,
              "#fdca26"
             ],
             [
              1,
              "#f0f921"
             ]
            ],
            "type": "heatmap"
           }
          ],
          "heatmapgl": [
           {
            "colorbar": {
             "outlinewidth": 0,
             "ticks": ""
            },
            "colorscale": [
             [
              0,
              "#0d0887"
             ],
             [
              0.1111111111111111,
              "#46039f"
             ],
             [
              0.2222222222222222,
              "#7201a8"
             ],
             [
              0.3333333333333333,
              "#9c179e"
             ],
             [
              0.4444444444444444,
              "#bd3786"
             ],
             [
              0.5555555555555556,
              "#d8576b"
             ],
             [
              0.6666666666666666,
              "#ed7953"
             ],
             [
              0.7777777777777778,
              "#fb9f3a"
             ],
             [
              0.8888888888888888,
              "#fdca26"
             ],
             [
              1,
              "#f0f921"
             ]
            ],
            "type": "heatmapgl"
           }
          ],
          "histogram": [
           {
            "marker": {
             "pattern": {
              "fillmode": "overlay",
              "size": 10,
              "solidity": 0.2
             }
            },
            "type": "histogram"
           }
          ],
          "histogram2d": [
           {
            "colorbar": {
             "outlinewidth": 0,
             "ticks": ""
            },
            "colorscale": [
             [
              0,
              "#0d0887"
             ],
             [
              0.1111111111111111,
              "#46039f"
             ],
             [
              0.2222222222222222,
              "#7201a8"
             ],
             [
              0.3333333333333333,
              "#9c179e"
             ],
             [
              0.4444444444444444,
              "#bd3786"
             ],
             [
              0.5555555555555556,
              "#d8576b"
             ],
             [
              0.6666666666666666,
              "#ed7953"
             ],
             [
              0.7777777777777778,
              "#fb9f3a"
             ],
             [
              0.8888888888888888,
              "#fdca26"
             ],
             [
              1,
              "#f0f921"
             ]
            ],
            "type": "histogram2d"
           }
          ],
          "histogram2dcontour": [
           {
            "colorbar": {
             "outlinewidth": 0,
             "ticks": ""
            },
            "colorscale": [
             [
              0,
              "#0d0887"
             ],
             [
              0.1111111111111111,
              "#46039f"
             ],
             [
              0.2222222222222222,
              "#7201a8"
             ],
             [
              0.3333333333333333,
              "#9c179e"
             ],
             [
              0.4444444444444444,
              "#bd3786"
             ],
             [
              0.5555555555555556,
              "#d8576b"
             ],
             [
              0.6666666666666666,
              "#ed7953"
             ],
             [
              0.7777777777777778,
              "#fb9f3a"
             ],
             [
              0.8888888888888888,
              "#fdca26"
             ],
             [
              1,
              "#f0f921"
             ]
            ],
            "type": "histogram2dcontour"
           }
          ],
          "mesh3d": [
           {
            "colorbar": {
             "outlinewidth": 0,
             "ticks": ""
            },
            "type": "mesh3d"
           }
          ],
          "parcoords": [
           {
            "line": {
             "colorbar": {
              "outlinewidth": 0,
              "ticks": ""
             }
            },
            "type": "parcoords"
           }
          ],
          "pie": [
           {
            "automargin": true,
            "type": "pie"
           }
          ],
          "scatter": [
           {
            "fillpattern": {
             "fillmode": "overlay",
             "size": 10,
             "solidity": 0.2
            },
            "type": "scatter"
           }
          ],
          "scatter3d": [
           {
            "line": {
             "colorbar": {
              "outlinewidth": 0,
              "ticks": ""
             }
            },
            "marker": {
             "colorbar": {
              "outlinewidth": 0,
              "ticks": ""
             }
            },
            "type": "scatter3d"
           }
          ],
          "scattercarpet": [
           {
            "marker": {
             "colorbar": {
              "outlinewidth": 0,
              "ticks": ""
             }
            },
            "type": "scattercarpet"
           }
          ],
          "scattergeo": [
           {
            "marker": {
             "colorbar": {
              "outlinewidth": 0,
              "ticks": ""
             }
            },
            "type": "scattergeo"
           }
          ],
          "scattergl": [
           {
            "marker": {
             "colorbar": {
              "outlinewidth": 0,
              "ticks": ""
             }
            },
            "type": "scattergl"
           }
          ],
          "scattermapbox": [
           {
            "marker": {
             "colorbar": {
              "outlinewidth": 0,
              "ticks": ""
             }
            },
            "type": "scattermapbox"
           }
          ],
          "scatterpolar": [
           {
            "marker": {
             "colorbar": {
              "outlinewidth": 0,
              "ticks": ""
             }
            },
            "type": "scatterpolar"
           }
          ],
          "scatterpolargl": [
           {
            "marker": {
             "colorbar": {
              "outlinewidth": 0,
              "ticks": ""
             }
            },
            "type": "scatterpolargl"
           }
          ],
          "scatterternary": [
           {
            "marker": {
             "colorbar": {
              "outlinewidth": 0,
              "ticks": ""
             }
            },
            "type": "scatterternary"
           }
          ],
          "surface": [
           {
            "colorbar": {
             "outlinewidth": 0,
             "ticks": ""
            },
            "colorscale": [
             [
              0,
              "#0d0887"
             ],
             [
              0.1111111111111111,
              "#46039f"
             ],
             [
              0.2222222222222222,
              "#7201a8"
             ],
             [
              0.3333333333333333,
              "#9c179e"
             ],
             [
              0.4444444444444444,
              "#bd3786"
             ],
             [
              0.5555555555555556,
              "#d8576b"
             ],
             [
              0.6666666666666666,
              "#ed7953"
             ],
             [
              0.7777777777777778,
              "#fb9f3a"
             ],
             [
              0.8888888888888888,
              "#fdca26"
             ],
             [
              1,
              "#f0f921"
             ]
            ],
            "type": "surface"
           }
          ],
          "table": [
           {
            "cells": {
             "fill": {
              "color": "#EBF0F8"
             },
             "line": {
              "color": "white"
             }
            },
            "header": {
             "fill": {
              "color": "#C8D4E3"
             },
             "line": {
              "color": "white"
             }
            },
            "type": "table"
           }
          ]
         },
         "layout": {
          "annotationdefaults": {
           "arrowcolor": "#2a3f5f",
           "arrowhead": 0,
           "arrowwidth": 1
          },
          "autotypenumbers": "strict",
          "coloraxis": {
           "colorbar": {
            "outlinewidth": 0,
            "ticks": ""
           }
          },
          "colorscale": {
           "diverging": [
            [
             0,
             "#8e0152"
            ],
            [
             0.1,
             "#c51b7d"
            ],
            [
             0.2,
             "#de77ae"
            ],
            [
             0.3,
             "#f1b6da"
            ],
            [
             0.4,
             "#fde0ef"
            ],
            [
             0.5,
             "#f7f7f7"
            ],
            [
             0.6,
             "#e6f5d0"
            ],
            [
             0.7,
             "#b8e186"
            ],
            [
             0.8,
             "#7fbc41"
            ],
            [
             0.9,
             "#4d9221"
            ],
            [
             1,
             "#276419"
            ]
           ],
           "sequential": [
            [
             0,
             "#0d0887"
            ],
            [
             0.1111111111111111,
             "#46039f"
            ],
            [
             0.2222222222222222,
             "#7201a8"
            ],
            [
             0.3333333333333333,
             "#9c179e"
            ],
            [
             0.4444444444444444,
             "#bd3786"
            ],
            [
             0.5555555555555556,
             "#d8576b"
            ],
            [
             0.6666666666666666,
             "#ed7953"
            ],
            [
             0.7777777777777778,
             "#fb9f3a"
            ],
            [
             0.8888888888888888,
             "#fdca26"
            ],
            [
             1,
             "#f0f921"
            ]
           ],
           "sequentialminus": [
            [
             0,
             "#0d0887"
            ],
            [
             0.1111111111111111,
             "#46039f"
            ],
            [
             0.2222222222222222,
             "#7201a8"
            ],
            [
             0.3333333333333333,
             "#9c179e"
            ],
            [
             0.4444444444444444,
             "#bd3786"
            ],
            [
             0.5555555555555556,
             "#d8576b"
            ],
            [
             0.6666666666666666,
             "#ed7953"
            ],
            [
             0.7777777777777778,
             "#fb9f3a"
            ],
            [
             0.8888888888888888,
             "#fdca26"
            ],
            [
             1,
             "#f0f921"
            ]
           ]
          },
          "colorway": [
           "#636efa",
           "#EF553B",
           "#00cc96",
           "#ab63fa",
           "#FFA15A",
           "#19d3f3",
           "#FF6692",
           "#B6E880",
           "#FF97FF",
           "#FECB52"
          ],
          "font": {
           "color": "#2a3f5f"
          },
          "geo": {
           "bgcolor": "white",
           "lakecolor": "white",
           "landcolor": "#E5ECF6",
           "showlakes": true,
           "showland": true,
           "subunitcolor": "white"
          },
          "hoverlabel": {
           "align": "left"
          },
          "hovermode": "closest",
          "mapbox": {
           "style": "light"
          },
          "paper_bgcolor": "white",
          "plot_bgcolor": "#E5ECF6",
          "polar": {
           "angularaxis": {
            "gridcolor": "white",
            "linecolor": "white",
            "ticks": ""
           },
           "bgcolor": "#E5ECF6",
           "radialaxis": {
            "gridcolor": "white",
            "linecolor": "white",
            "ticks": ""
           }
          },
          "scene": {
           "xaxis": {
            "backgroundcolor": "#E5ECF6",
            "gridcolor": "white",
            "gridwidth": 2,
            "linecolor": "white",
            "showbackground": true,
            "ticks": "",
            "zerolinecolor": "white"
           },
           "yaxis": {
            "backgroundcolor": "#E5ECF6",
            "gridcolor": "white",
            "gridwidth": 2,
            "linecolor": "white",
            "showbackground": true,
            "ticks": "",
            "zerolinecolor": "white"
           },
           "zaxis": {
            "backgroundcolor": "#E5ECF6",
            "gridcolor": "white",
            "gridwidth": 2,
            "linecolor": "white",
            "showbackground": true,
            "ticks": "",
            "zerolinecolor": "white"
           }
          },
          "shapedefaults": {
           "line": {
            "color": "#2a3f5f"
           }
          },
          "ternary": {
           "aaxis": {
            "gridcolor": "white",
            "linecolor": "white",
            "ticks": ""
           },
           "baxis": {
            "gridcolor": "white",
            "linecolor": "white",
            "ticks": ""
           },
           "bgcolor": "#E5ECF6",
           "caxis": {
            "gridcolor": "white",
            "linecolor": "white",
            "ticks": ""
           }
          },
          "title": {
           "x": 0.05
          },
          "xaxis": {
           "automargin": true,
           "gridcolor": "white",
           "linecolor": "white",
           "ticks": "",
           "title": {
            "standoff": 15
           },
           "zerolinecolor": "white",
           "zerolinewidth": 2
          },
          "yaxis": {
           "automargin": true,
           "gridcolor": "white",
           "linecolor": "white",
           "ticks": "",
           "title": {
            "standoff": 15
           },
           "zerolinecolor": "white",
           "zerolinewidth": 2
          }
         }
        },
        "title": {
         "text": "Proportion of clusters over the years"
        },
        "xaxis": {
         "anchor": "y",
         "domain": [
          0,
          1
         ],
         "title": {
          "text": "year"
         }
        },
        "yaxis": {
         "anchor": "x",
         "domain": [
          0,
          1
         ],
         "title": {
          "text": "value"
         }
        }
       }
      }
     },
     "metadata": {},
     "output_type": "display_data"
    }
   ],
   "source": [
    "# now we can plot our last 5 columns as 100% stacked bar chart\n",
    "# using x as year and y as proportion of each cluster\n",
    "\n",
    "# let's use plotly express for our plot\n",
    "\n",
    "import plotly.express as px\n",
    "\n",
    "# let's create a list of our columns to plot\n",
    "\n",
    "columns_to_plot = [f\"c_{cluster}_perc\" for cluster in range(5)]\n",
    "# let's check out our list\n",
    "\n",
    "# so x axis will be year and y axis will be proportion of each cluster\n",
    "\n",
    "# let's plot our data\n",
    "\n",
    "fig = px.bar(df_year_cluster, \n",
    "             x=df_year_cluster.index, \n",
    "             y=columns_to_plot, \n",
    "             title=\"Proportion of clusters over the years\", \n",
    "             labels={'x':'Year', 'y':'Proportion of clusters'})\n",
    "\n",
    "# let's show our plot\n",
    "fig.show()"
   ]
  },
  {
   "cell_type": "markdown",
   "metadata": {},
   "source": [
    "### Conclusions from 5 clusters\n",
    "\n",
    "We can certainly see some interesting trends over the years.\n",
    "\n",
    "What is really interesting is that year 1784 is all one cluster. This would require further investigation. It is quite surprising that the year 1784 is so different from the rest of the years.\n",
    "\n",
    "Some possible explanations:\n",
    "\n",
    "* It is possible that there is some corruption in the data.\n",
    "* It is possible that the year 1784 is a year of some major event that is not captured in the data.\n",
    "* It is possible that doc2vec that generated the embeddings is not working properly.\n",
    "* it is quite possible that 1784 has some unique characteristics that are not present in other years. Maybe a special header is present in the documents from 1784 that is not present in other years.\n",
    "\n",
    "\n",
    "\n",
    "We have to remember that kmeans is an unsupervised algorithm and it is up to us to interpret the results.\n",
    "\n",
    "Also it is \"how high to jump\" question. We can try 10 clusters and see what happens. We can also try 3 clusters and see what happens."
   ]
  },
  {
   "cell_type": "markdown",
   "metadata": {},
   "source": [
    "## How to determine the number of clusters\n",
    "\n",
    "This is the million dollar question. There are many ways to determine the number of clusters. One way is to use the elbow method. The elbow method is a heuristic that looks at the percentage of variance explained as a function of the number of clusters. The idea is that as we increase the number of clusters, the percentage of variance explained will increase. At some point, adding more clusters will not add much explanatory power. This point is called the elbow. The elbow method looks for the point where the percentage of variance explained stops increasing quickly."
   ]
  },
  {
   "cell_type": "code",
   "execution_count": 24,
   "metadata": {},
   "outputs": [
    {
     "name": "stderr",
     "output_type": "stream",
     "text": [
      "100%|██████████| 20/20 [00:02<00:00,  7.87it/s]\n"
     ]
    },
    {
     "data": {
      "text/plain": [
       "[116454.24168168937,\n",
       " 109547.91759786426,\n",
       " 104767.04338962866,\n",
       " 101978.89930226817,\n",
       " 99699.21626579798,\n",
       " 97622.49416295285,\n",
       " 96519.19296511402,\n",
       " 94214.89038892223,\n",
       " 93088.05295048568,\n",
       " 92143.85968502215,\n",
       " 90281.7602267529,\n",
       " 89502.79298458583,\n",
       " 88626.78820392436,\n",
       " 88243.05197473436,\n",
       " 86478.22856132853,\n",
       " 86294.93443609166,\n",
       " 84768.51047949109,\n",
       " 84649.90035167981,\n",
       " 83762.45609139431,\n",
       " 82851.86178853943]"
      ]
     },
     "execution_count": 24,
     "metadata": {},
     "output_type": "execute_result"
    }
   ],
   "source": [
    "# now let's see if we can find the elbow of our kmeans model\n",
    "# we will calculate km.inertia_ for each number of clusters from 1 to 20\n",
    "# we will plot the results\n",
    "\n",
    "# let's create a list of inertia values\n",
    "inertia_values = []\n",
    "# let's create a list of number of clusters\n",
    "n_clusters = list(range(1, 21)) # 1 is kind of silly of course but we will do it for completeness\n",
    "\n",
    "from tqdm import tqdm # tqdm is a nice progress bar library\n",
    "\n",
    "# let's loop through our number of clusters\n",
    "# kmeans is fast enough and our dataset small enough so we can do it in a loop\n",
    "for n_cluster in tqdm(n_clusters):\n",
    "    # let's create a kmeans model\n",
    "    kmeans_model = KMeans(n_clusters=n_cluster, random_state=42, n_init=10)\n",
    "    # let's train our model\n",
    "    kmeans_model.fit(X_list)\n",
    "    # let's get inertia value\n",
    "    inertia_values.append(kmeans_model.inertia_)\n",
    "\n",
    "# let's check out our inertia values\n",
    "inertia_values\n"
   ]
  },
  {
   "cell_type": "code",
   "execution_count": 25,
   "metadata": {},
   "outputs": [
    {
     "data": {
      "application/vnd.plotly.v1+json": {
       "config": {
        "plotlyServerURL": "https://plot.ly"
       },
       "data": [
        {
         "hovertemplate": "x=%{x}<br>y=%{y}<extra></extra>",
         "legendgroup": "",
         "line": {
          "color": "#636efa",
          "dash": "solid"
         },
         "marker": {
          "symbol": "circle"
         },
         "mode": "lines",
         "name": "",
         "orientation": "v",
         "showlegend": false,
         "type": "scatter",
         "x": [
          1,
          2,
          3,
          4,
          5,
          6,
          7,
          8,
          9,
          10,
          11,
          12,
          13,
          14,
          15,
          16,
          17,
          18,
          19,
          20
         ],
         "xaxis": "x",
         "y": [
          116454.24168168937,
          109547.91759786426,
          104767.04338962866,
          101978.89930226817,
          99699.21626579798,
          97622.49416295285,
          96519.19296511402,
          94214.89038892223,
          93088.05295048568,
          92143.85968502215,
          90281.7602267529,
          89502.79298458583,
          88626.78820392436,
          88243.05197473436,
          86478.22856132853,
          86294.93443609166,
          84768.51047949109,
          84649.90035167981,
          83762.45609139431,
          82851.86178853943
         ],
         "yaxis": "y"
        }
       ],
       "layout": {
        "legend": {
         "tracegroupgap": 0
        },
        "template": {
         "data": {
          "bar": [
           {
            "error_x": {
             "color": "#2a3f5f"
            },
            "error_y": {
             "color": "#2a3f5f"
            },
            "marker": {
             "line": {
              "color": "#E5ECF6",
              "width": 0.5
             },
             "pattern": {
              "fillmode": "overlay",
              "size": 10,
              "solidity": 0.2
             }
            },
            "type": "bar"
           }
          ],
          "barpolar": [
           {
            "marker": {
             "line": {
              "color": "#E5ECF6",
              "width": 0.5
             },
             "pattern": {
              "fillmode": "overlay",
              "size": 10,
              "solidity": 0.2
             }
            },
            "type": "barpolar"
           }
          ],
          "carpet": [
           {
            "aaxis": {
             "endlinecolor": "#2a3f5f",
             "gridcolor": "white",
             "linecolor": "white",
             "minorgridcolor": "white",
             "startlinecolor": "#2a3f5f"
            },
            "baxis": {
             "endlinecolor": "#2a3f5f",
             "gridcolor": "white",
             "linecolor": "white",
             "minorgridcolor": "white",
             "startlinecolor": "#2a3f5f"
            },
            "type": "carpet"
           }
          ],
          "choropleth": [
           {
            "colorbar": {
             "outlinewidth": 0,
             "ticks": ""
            },
            "type": "choropleth"
           }
          ],
          "contour": [
           {
            "colorbar": {
             "outlinewidth": 0,
             "ticks": ""
            },
            "colorscale": [
             [
              0,
              "#0d0887"
             ],
             [
              0.1111111111111111,
              "#46039f"
             ],
             [
              0.2222222222222222,
              "#7201a8"
             ],
             [
              0.3333333333333333,
              "#9c179e"
             ],
             [
              0.4444444444444444,
              "#bd3786"
             ],
             [
              0.5555555555555556,
              "#d8576b"
             ],
             [
              0.6666666666666666,
              "#ed7953"
             ],
             [
              0.7777777777777778,
              "#fb9f3a"
             ],
             [
              0.8888888888888888,
              "#fdca26"
             ],
             [
              1,
              "#f0f921"
             ]
            ],
            "type": "contour"
           }
          ],
          "contourcarpet": [
           {
            "colorbar": {
             "outlinewidth": 0,
             "ticks": ""
            },
            "type": "contourcarpet"
           }
          ],
          "heatmap": [
           {
            "colorbar": {
             "outlinewidth": 0,
             "ticks": ""
            },
            "colorscale": [
             [
              0,
              "#0d0887"
             ],
             [
              0.1111111111111111,
              "#46039f"
             ],
             [
              0.2222222222222222,
              "#7201a8"
             ],
             [
              0.3333333333333333,
              "#9c179e"
             ],
             [
              0.4444444444444444,
              "#bd3786"
             ],
             [
              0.5555555555555556,
              "#d8576b"
             ],
             [
              0.6666666666666666,
              "#ed7953"
             ],
             [
              0.7777777777777778,
              "#fb9f3a"
             ],
             [
              0.8888888888888888,
              "#fdca26"
             ],
             [
              1,
              "#f0f921"
             ]
            ],
            "type": "heatmap"
           }
          ],
          "heatmapgl": [
           {
            "colorbar": {
             "outlinewidth": 0,
             "ticks": ""
            },
            "colorscale": [
             [
              0,
              "#0d0887"
             ],
             [
              0.1111111111111111,
              "#46039f"
             ],
             [
              0.2222222222222222,
              "#7201a8"
             ],
             [
              0.3333333333333333,
              "#9c179e"
             ],
             [
              0.4444444444444444,
              "#bd3786"
             ],
             [
              0.5555555555555556,
              "#d8576b"
             ],
             [
              0.6666666666666666,
              "#ed7953"
             ],
             [
              0.7777777777777778,
              "#fb9f3a"
             ],
             [
              0.8888888888888888,
              "#fdca26"
             ],
             [
              1,
              "#f0f921"
             ]
            ],
            "type": "heatmapgl"
           }
          ],
          "histogram": [
           {
            "marker": {
             "pattern": {
              "fillmode": "overlay",
              "size": 10,
              "solidity": 0.2
             }
            },
            "type": "histogram"
           }
          ],
          "histogram2d": [
           {
            "colorbar": {
             "outlinewidth": 0,
             "ticks": ""
            },
            "colorscale": [
             [
              0,
              "#0d0887"
             ],
             [
              0.1111111111111111,
              "#46039f"
             ],
             [
              0.2222222222222222,
              "#7201a8"
             ],
             [
              0.3333333333333333,
              "#9c179e"
             ],
             [
              0.4444444444444444,
              "#bd3786"
             ],
             [
              0.5555555555555556,
              "#d8576b"
             ],
             [
              0.6666666666666666,
              "#ed7953"
             ],
             [
              0.7777777777777778,
              "#fb9f3a"
             ],
             [
              0.8888888888888888,
              "#fdca26"
             ],
             [
              1,
              "#f0f921"
             ]
            ],
            "type": "histogram2d"
           }
          ],
          "histogram2dcontour": [
           {
            "colorbar": {
             "outlinewidth": 0,
             "ticks": ""
            },
            "colorscale": [
             [
              0,
              "#0d0887"
             ],
             [
              0.1111111111111111,
              "#46039f"
             ],
             [
              0.2222222222222222,
              "#7201a8"
             ],
             [
              0.3333333333333333,
              "#9c179e"
             ],
             [
              0.4444444444444444,
              "#bd3786"
             ],
             [
              0.5555555555555556,
              "#d8576b"
             ],
             [
              0.6666666666666666,
              "#ed7953"
             ],
             [
              0.7777777777777778,
              "#fb9f3a"
             ],
             [
              0.8888888888888888,
              "#fdca26"
             ],
             [
              1,
              "#f0f921"
             ]
            ],
            "type": "histogram2dcontour"
           }
          ],
          "mesh3d": [
           {
            "colorbar": {
             "outlinewidth": 0,
             "ticks": ""
            },
            "type": "mesh3d"
           }
          ],
          "parcoords": [
           {
            "line": {
             "colorbar": {
              "outlinewidth": 0,
              "ticks": ""
             }
            },
            "type": "parcoords"
           }
          ],
          "pie": [
           {
            "automargin": true,
            "type": "pie"
           }
          ],
          "scatter": [
           {
            "fillpattern": {
             "fillmode": "overlay",
             "size": 10,
             "solidity": 0.2
            },
            "type": "scatter"
           }
          ],
          "scatter3d": [
           {
            "line": {
             "colorbar": {
              "outlinewidth": 0,
              "ticks": ""
             }
            },
            "marker": {
             "colorbar": {
              "outlinewidth": 0,
              "ticks": ""
             }
            },
            "type": "scatter3d"
           }
          ],
          "scattercarpet": [
           {
            "marker": {
             "colorbar": {
              "outlinewidth": 0,
              "ticks": ""
             }
            },
            "type": "scattercarpet"
           }
          ],
          "scattergeo": [
           {
            "marker": {
             "colorbar": {
              "outlinewidth": 0,
              "ticks": ""
             }
            },
            "type": "scattergeo"
           }
          ],
          "scattergl": [
           {
            "marker": {
             "colorbar": {
              "outlinewidth": 0,
              "ticks": ""
             }
            },
            "type": "scattergl"
           }
          ],
          "scattermapbox": [
           {
            "marker": {
             "colorbar": {
              "outlinewidth": 0,
              "ticks": ""
             }
            },
            "type": "scattermapbox"
           }
          ],
          "scatterpolar": [
           {
            "marker": {
             "colorbar": {
              "outlinewidth": 0,
              "ticks": ""
             }
            },
            "type": "scatterpolar"
           }
          ],
          "scatterpolargl": [
           {
            "marker": {
             "colorbar": {
              "outlinewidth": 0,
              "ticks": ""
             }
            },
            "type": "scatterpolargl"
           }
          ],
          "scatterternary": [
           {
            "marker": {
             "colorbar": {
              "outlinewidth": 0,
              "ticks": ""
             }
            },
            "type": "scatterternary"
           }
          ],
          "surface": [
           {
            "colorbar": {
             "outlinewidth": 0,
             "ticks": ""
            },
            "colorscale": [
             [
              0,
              "#0d0887"
             ],
             [
              0.1111111111111111,
              "#46039f"
             ],
             [
              0.2222222222222222,
              "#7201a8"
             ],
             [
              0.3333333333333333,
              "#9c179e"
             ],
             [
              0.4444444444444444,
              "#bd3786"
             ],
             [
              0.5555555555555556,
              "#d8576b"
             ],
             [
              0.6666666666666666,
              "#ed7953"
             ],
             [
              0.7777777777777778,
              "#fb9f3a"
             ],
             [
              0.8888888888888888,
              "#fdca26"
             ],
             [
              1,
              "#f0f921"
             ]
            ],
            "type": "surface"
           }
          ],
          "table": [
           {
            "cells": {
             "fill": {
              "color": "#EBF0F8"
             },
             "line": {
              "color": "white"
             }
            },
            "header": {
             "fill": {
              "color": "#C8D4E3"
             },
             "line": {
              "color": "white"
             }
            },
            "type": "table"
           }
          ]
         },
         "layout": {
          "annotationdefaults": {
           "arrowcolor": "#2a3f5f",
           "arrowhead": 0,
           "arrowwidth": 1
          },
          "autotypenumbers": "strict",
          "coloraxis": {
           "colorbar": {
            "outlinewidth": 0,
            "ticks": ""
           }
          },
          "colorscale": {
           "diverging": [
            [
             0,
             "#8e0152"
            ],
            [
             0.1,
             "#c51b7d"
            ],
            [
             0.2,
             "#de77ae"
            ],
            [
             0.3,
             "#f1b6da"
            ],
            [
             0.4,
             "#fde0ef"
            ],
            [
             0.5,
             "#f7f7f7"
            ],
            [
             0.6,
             "#e6f5d0"
            ],
            [
             0.7,
             "#b8e186"
            ],
            [
             0.8,
             "#7fbc41"
            ],
            [
             0.9,
             "#4d9221"
            ],
            [
             1,
             "#276419"
            ]
           ],
           "sequential": [
            [
             0,
             "#0d0887"
            ],
            [
             0.1111111111111111,
             "#46039f"
            ],
            [
             0.2222222222222222,
             "#7201a8"
            ],
            [
             0.3333333333333333,
             "#9c179e"
            ],
            [
             0.4444444444444444,
             "#bd3786"
            ],
            [
             0.5555555555555556,
             "#d8576b"
            ],
            [
             0.6666666666666666,
             "#ed7953"
            ],
            [
             0.7777777777777778,
             "#fb9f3a"
            ],
            [
             0.8888888888888888,
             "#fdca26"
            ],
            [
             1,
             "#f0f921"
            ]
           ],
           "sequentialminus": [
            [
             0,
             "#0d0887"
            ],
            [
             0.1111111111111111,
             "#46039f"
            ],
            [
             0.2222222222222222,
             "#7201a8"
            ],
            [
             0.3333333333333333,
             "#9c179e"
            ],
            [
             0.4444444444444444,
             "#bd3786"
            ],
            [
             0.5555555555555556,
             "#d8576b"
            ],
            [
             0.6666666666666666,
             "#ed7953"
            ],
            [
             0.7777777777777778,
             "#fb9f3a"
            ],
            [
             0.8888888888888888,
             "#fdca26"
            ],
            [
             1,
             "#f0f921"
            ]
           ]
          },
          "colorway": [
           "#636efa",
           "#EF553B",
           "#00cc96",
           "#ab63fa",
           "#FFA15A",
           "#19d3f3",
           "#FF6692",
           "#B6E880",
           "#FF97FF",
           "#FECB52"
          ],
          "font": {
           "color": "#2a3f5f"
          },
          "geo": {
           "bgcolor": "white",
           "lakecolor": "white",
           "landcolor": "#E5ECF6",
           "showlakes": true,
           "showland": true,
           "subunitcolor": "white"
          },
          "hoverlabel": {
           "align": "left"
          },
          "hovermode": "closest",
          "mapbox": {
           "style": "light"
          },
          "paper_bgcolor": "white",
          "plot_bgcolor": "#E5ECF6",
          "polar": {
           "angularaxis": {
            "gridcolor": "white",
            "linecolor": "white",
            "ticks": ""
           },
           "bgcolor": "#E5ECF6",
           "radialaxis": {
            "gridcolor": "white",
            "linecolor": "white",
            "ticks": ""
           }
          },
          "scene": {
           "xaxis": {
            "backgroundcolor": "#E5ECF6",
            "gridcolor": "white",
            "gridwidth": 2,
            "linecolor": "white",
            "showbackground": true,
            "ticks": "",
            "zerolinecolor": "white"
           },
           "yaxis": {
            "backgroundcolor": "#E5ECF6",
            "gridcolor": "white",
            "gridwidth": 2,
            "linecolor": "white",
            "showbackground": true,
            "ticks": "",
            "zerolinecolor": "white"
           },
           "zaxis": {
            "backgroundcolor": "#E5ECF6",
            "gridcolor": "white",
            "gridwidth": 2,
            "linecolor": "white",
            "showbackground": true,
            "ticks": "",
            "zerolinecolor": "white"
           }
          },
          "shapedefaults": {
           "line": {
            "color": "#2a3f5f"
           }
          },
          "ternary": {
           "aaxis": {
            "gridcolor": "white",
            "linecolor": "white",
            "ticks": ""
           },
           "baxis": {
            "gridcolor": "white",
            "linecolor": "white",
            "ticks": ""
           },
           "bgcolor": "#E5ECF6",
           "caxis": {
            "gridcolor": "white",
            "linecolor": "white",
            "ticks": ""
           }
          },
          "title": {
           "x": 0.05
          },
          "xaxis": {
           "automargin": true,
           "gridcolor": "white",
           "linecolor": "white",
           "ticks": "",
           "title": {
            "standoff": 15
           },
           "zerolinecolor": "white",
           "zerolinewidth": 2
          },
          "yaxis": {
           "automargin": true,
           "gridcolor": "white",
           "linecolor": "white",
           "ticks": "",
           "title": {
            "standoff": 15
           },
           "zerolinecolor": "white",
           "zerolinewidth": 2
          }
         }
        },
        "title": {
         "text": "Inertia values for different number of clusters"
        },
        "xaxis": {
         "anchor": "y",
         "domain": [
          0,
          1
         ],
         "title": {
          "text": "x"
         }
        },
        "yaxis": {
         "anchor": "x",
         "domain": [
          0,
          1
         ],
         "title": {
          "text": "y"
         }
        }
       }
      }
     },
     "metadata": {},
     "output_type": "display_data"
    }
   ],
   "source": [
    "# it is hard to tell from these values where the elbow is\n",
    "# so let's plot it\n",
    "\n",
    "# let's plot our inertia values\n",
    "fig = px.line(x=n_clusters, y=inertia_values, title=\"Inertia values for different number of clusters\")\n",
    "# let's show our plot\n",
    "fig.show()"
   ]
  },
  {
   "cell_type": "code",
   "execution_count": 26,
   "metadata": {},
   "outputs": [
    {
     "data": {
      "text/plain": [
       "<Axes: >"
      ]
     },
     "execution_count": 26,
     "metadata": {},
     "output_type": "execute_result"
    },
    {
     "data": {
      "image/png": "[encoded data removed]",
      "text/plain": [
       "<Figure size 640x480 with 1 Axes>"
      ]
     },
     "metadata": {},
     "output_type": "display_data"
    }
   ],
   "source": [
    "# alternatively simpler graph using sns\n",
    "sns.lineplot(x=n_clusters, y=inertia_values)"
   ]
  },
  {
   "cell_type": "markdown",
   "metadata": {},
   "source": [
    "### Limitations of the elbow method\n",
    "\n",
    "It certainly looks like we do not have a clear cut elbow - break point.\n",
    "We can choose any number of cluster of our liking. We can also choose 10 clusters as we did before.\n",
    "\n",
    "Elbow method is just a tool. It might not provide enough additional information to justify the additional complexity of the model. It is up to us to decide if the additional complexity is worth it."
   ]
  },
  {
   "cell_type": "code",
   "execution_count": null,
   "metadata": {},
   "outputs": [],
   "source": [
    "# We could play around with different clustering methods and different number of clusters\n",
    "\n",
    "# the general process is the same\n",
    "# initialize model from skleanr.cluster selection\n",
    "# docs: https://scikit-learn.org/stable/modules/clustering.html\n",
    "\n",
    "# train model using fit method\n",
    "\n",
    "# predict clusters using predict method\n",
    "\n",
    "# what would change is some of the parameters we pass in to our model\n",
    "# we can generally use default parameters for most models\n",
    "\n",
    "# the parameters that are used for fine-tuning are called hyperparameters. So we can say we are fine-tuning our model by changing hyperparameters.\n",
    "# Sounds fancy but it is just a matter of trying out different values for different parameters and seeing what works best for our data"
   ]
  },
  {
   "cell_type": "markdown",
   "metadata": {},
   "source": [
    "## Topic Modeling using Latent Dirichlet Allocation (LDA)\n",
    "\n",
    "If kmeans gives us strict clustering then LDA gives us soft clustering. In other words each document can belong to multiple topics.\n",
    "\n",
    "### LDA\n",
    "\n",
    "LDA is a generative probabilistic model. It assumes that each document is a mixture of topics and that each word in the document is attributable to the document's topics.\n",
    "\n",
    "### LDA in practice\n",
    "\n",
    "We do not have to implement LDA ourselves. We can use the implementation provided by gensim.\n",
    "\n",
    "Some more information on LDA: https://en.wikipedia.org/wiki/Latent_Dirichlet_allocation"
   ]
  },
  {
   "cell_type": "code",
   "execution_count": 50,
   "metadata": {},
   "outputs": [
    {
     "name": "stdout",
     "output_type": "stream",
     "text": [
      "['st', 'leonard', 'eastcheap', 'indict', 'feloniously', 'steal', 'pound', 'weight', 'tobacco', 'value', 'l', 's', 'good', 'job', 'wick', 'dwelling', 'house', 'say', 'job', 'wick', 'april', 'appear', 'prisoner', 'prosecutor', 'servant', 'fellow', 'servant', 'depose', 'perceive', 'pocket', 'stick', 'search', 'find', 'paper', 'tobacco', 'worth', 'd', 'own', 'master', 'take', 'cellar', 'constable', 'depose', 'confest', 'take', 'tobacco', 'time', 'say', 'paper', 'tobacco', 'produce', 'court', 'jury', 'consider', 'matter', 'find', 'guilty', 'value', 'd', 'transportation']\n",
      "['alice', 'jones', 'st', 'michaels', 'cornhill', 'indict', 'privately', 'steal', 'bermundas', 'hat', 'value', 's', 'shop', 'edward', 'hillior', 'april', 'prosecutors', 'servant', 'deposed', 'prisner', 'come', 'master', 'shop', 'askd', 'hat', 's', 'price', 'shew', 'agreed', 'say', 'country', 'stop', 'bishopsgatestreet', 'coach', 'go', 'come', 'fetch', 'go', 'shop', 'perceive', 'hardly', 'walk', 'fetcht', 'hat', 'mention', 'indictment', 'fall', 'leg', 'depose', 'see', 'evidence', 'hat', 'petticoat', 'prisoner', 'deny', 'fact', 'call', 'person', 'reputation', 'give', 'good', 'character', 'say', 'rent', 'house', 'l', 'year', 'petty', 'france', 'westminster', 'tell', 'justice', 'livd', 'kingstreet', 'jury', 'consider', 'matter', 'find', 'guilty', 'value', 'd', 'transportation']\n",
      "['james', 'wilson', 'st', 'katharine', 'coleman', 'indict', 'feloniously', 'steal', 'pound', 'beef', 'value', 's', 'good', 'charle', 'watts', 'april', 'mary', 'watts', 'deposed', 'gentleman', 'come', 'bar', 'clock', 'night', 'tell', 'fellow', 'lurking', 'house', 'prisoner', 'come', 'bar', 'take', 'rump', 'beef', 'hung', 'pursue', 'dropt', 'door', 'see', 'plain', 'sure', 'prisoner', 'person', 'cookmaid', 'deposed', 'see', 'prisoner', 'beef', 'lift', 'times', 'hook', 'prisoner', 'defence', 'say', 'drinking', 'run', 'head', 'beef', 'fall', 'appear', 'evidence', 'dropt', 'yard', 'place', 'hung', 'jury', 'find', 'guilty', 'value', 'd', 'transportation']\n"
     ]
    }
   ],
   "source": [
    "### LDA MODEL\n",
    "## Doc for gensim LDA model: https://radimrehurek.com/gensim/models/ldamodel.html\n",
    "\n",
    "# gensim needs list of lists of tokens - here words\n",
    "\n",
    "# we already have our lemma column with list of lemmas\n",
    "# we can use that\n",
    "texts = df.words_lemmatized.to_list()\n",
    "# print first 3 rows\n",
    "print(*texts[:3], sep = \"\\n\")\n",
    "# here we can see that we could have cleaned our data we have some really short lists\n",
    "# also getting rid of say digits actually robbed us of some information"
   ]
  },
  {
   "cell_type": "code",
   "execution_count": 51,
   "metadata": {},
   "outputs": [
    {
     "name": "stdout",
     "output_type": "stream",
     "text": [
      "Number of words in our dictionary 18118\n"
     ]
    }
   ],
   "source": [
    "# now we need to create a dictionary of our words\n",
    "# we will use gensim corpora Dictionary class\n",
    "# docs: https://radimrehurek.com/gensim/corpora/dictionary.html\n",
    "\n",
    "from gensim.corpora import Dictionary\n",
    "\n",
    "# let's create our dictionary\n",
    "dictionary = Dictionary(texts)\n",
    "# let's check out our dictionary\n",
    "# print how many words we have in our dictionary\n",
    "print(\"Number of words in our dictionary\", len(dictionary)) \n",
    "# that certainly seems familiar from our previous work that's good news\n",
    "\n"
   ]
  },
  {
   "cell_type": "code",
   "execution_count": 54,
   "metadata": {},
   "outputs": [
    {
     "name": "stdout",
     "output_type": "stream",
     "text": [
      "First 10 words in our dictionary [(0, 'appear'), (1, 'april'), (2, 'cellar'), (3, 'confest'), (4, 'consider'), (5, 'constable'), (6, 'court'), (7, 'd'), (8, 'depose'), (9, 'dwelling')]\n",
      "Last 10 words in our dictionary [(18108, 'mb'), (18109, 'morally'), (18110, 'noncombatant'), (18111, 'olive'), (18112, 'prain'), (18113, 'radius'), (18114, 'towingpath'), (18115, 'unclimbable'), (18116, 'wharry'), (18117, 'yeddon')]\n",
      "Middle 10 words in our dictionary [(9054, 'judging'), (9055, 'juries'), (9056, 'kin'), (9057, 'kingstonuponhull'), (9058, 'lawyer'), (9059, 'learned'), (9060, 'lease'), (9061, 'ledgerclerk'), (9062, 'legally'), (9063, 'levitt')]\n"
     ]
    }
   ],
   "source": [
    "# print first 10 words in our dictionary\n",
    "print(\"First 10 words in our dictionary\", list(dictionary.items())[:10])\n",
    "# last 10 words in our dictionary\n",
    "print(\"Last 10 words in our dictionary\", list(dictionary.items())[-10:])\n",
    "# how about m iddle 10 words in our dictionary\n",
    "print(\"Middle 10 words in our dictionary\", list(dictionary.items())[len(dictionary)//2-5:len(dictionary)//2+5])"
   ]
  },
  {
   "cell_type": "code",
   "execution_count": 57,
   "metadata": {},
   "outputs": [
    {
     "name": "stdout",
     "output_type": "stream",
     "text": [
      "Words starting with b [(50, 'bermundas'), (51, 'bishopsgatestreet'), (97, 'bar'), (98, 'beef'), (131, 'believe'), (160, 'benjamin'), (177, 'bengodwin'), (187, 'bring'), (200, 'botolph'), (241, 'brandy'), (242, 'break'), (243, 'breeche'), (268, 'book'), (301, 'bride'), (305, 'bishopsgate'), (306, 'breaking'), (319, 'burglary'), (343, 'bridge'), (354, 'blackwellhall'), (355, 'blue'), (356, 'broadcloth'), (357, 'bundle'), (358, 'buy'), (412, 'barter'), (413, 'bent'), (430, 'baker'), (431, 'broad'), (449, 'brandyshop'), (460, 'black'), (461, 'boney'), (462, 'boy'), (504, 'bid'), (505, 'bigness'), (548, 'beat'), (549, 'believd'), (550, 'bell'), (551, 'bloody'), (552, 'bull'), (641, 'box'), (642, 'brass'), (643, 'brother'), (684, 'busy'), (698, 'bed'), (716, 'brown'), (736, 'beesley'), (737, 'blackd'), (738, 'body'), (775, 'beer'), (790, 'bigg'), (791, 'biggs'), (792, 'bolearmoniac'), (793, 'boyle'), (794, 'breakfast'), (882, 'blanket'), (921, 'breech'), (924, 'bay'), (953, 'barbara'), (954, 'bartholomew'), (962, 'burn'), (965, 'barrimore'), (979, 'binks'), (1009, 'brooks'), (1013, 'bespoke'), (1014, 'blank'), (1077, 'becket'), (1080, 'burra'), (1081, 'button'), (1103, 'boat'), (1104, 'brillant'), (1165, 'bagnal'), (1183, 'bartrum'), (1195, 'burglariously'), (1205, 'bailey'), (1206, 'buckle'), (1223, 'bobbin'), (1257, 'bloomsbury'), (1280, 'bosom'), (1281, 'bullyd'), (1303, 'bellas'), (1319, 'bakersshop'), (1320, 'beard'), (1321, 'behavd'), (1322, 'bockhole'), (1323, 'borrow'), (1324, 'borrowd'), (1325, 'bowd'), (1392, 'bridget'), (1428, 'botolphs'), (1457, 'bad'), (1458, 'belong'), (1459, 'bind'), (1460, 'bravely'), (1461, 'breakings'), (1462, 'build'), (1463, 'building'), (1464, 'business'), (1510, 'belladine'), (1520, 'bastock'), (1533, 'brasspot'), (1538, 'bellamy'), (1589, 'bitch'), (1590, 'browns'), (1591, 'bye'), (1613, 'bushel'), (1620, 'barnard'), (1624, 'bail'), (1625, 'bottle'), (1626, 'buying'), (1642, 'balak'), (1671, 'bacon'), (1710, 'bank'), (1711, 'banknote'), (1712, 'basket'), (1713, 'bayne'), (1714, 'baynes'), (1715, 'bayness'), (1716, 'bearer'), (1717, 'bird'), (1718, 'blame'), (1719, 'blewet'), (1720, 'bostock'), (1721, 'breast'), (1781, 'bashrite'), (1782, 'beauffet'), (1783, 'bury'), (1799, 'barbarously'), (1800, 'blood'), (1801, 'bridewell'), (1802, 'butler'), (1843, 'backside'), (1844, 'backwards'), (1845, 'bear'), (1846, 'bench'), (1847, 'bene'), (1848, 'bidding'), (1849, 'blockhead'), (1850, 'blow'), (1851, 'brandyface'), (1931, 'ball'), (1932, 'betwixt'), (1933, 'bullet'), (1993, 'bargain'), (1994, 'barrat'), (1995, 'brentford'), (2019, 'blind'), (2020, 'bluedick'), (2021, 'bone'), (2022, 'boot'), (2023, 'bridle'), (2024, 'burch'), (2063, 'bartholomews'), (2064, 'beggd'), (2065, 'bentley'), (2066, 'bently'), (2115, 'barne'), (2116, 'barnes'), (2117, 'bartrup'), (2118, 'behave'), (2119, 'bowl'), (2120, 'brace'), (2121, 'brewd'), (2221, 'barn'), (2222, 'bread'), (2223, 'bush'), (2224, 'butter'), (2284, 'bag'), (2285, 'belongd'), (2286, 'board'), (2287, 'butcher'), (2322, 'bare'), (2323, 'bathmetal'), (2324, 'beaumont'), (2325, 'bedchamber'), (2326, 'bencher'), (2327, 'borough'), (2328, 'burley'), (2362, 'bedside'), (2363, 'beg'), (2364, 'begin'), (2365, 'belly'), (2366, 'billy'), (2367, 'bineham'), (2368, 'bit'), (2369, 'bo'), (2370, 'bowel'), (2371, 'branding'), (2372, 'bruise'), (2373, 'burst'), (2374, 'bystander'), (2485, 'bakewell'), (2486, 'bennet'), (2508, 'botham'), (2511, 'b'), (2512, 'barbarcusly'), (2513, 'bawdyhouse'), (2514, 'binggs'), (2515, 'birk'), (2516, 'brag'), (2553, 'bunch'), (2567, 'bellow'), (2568, 'benfield'), (2572, 'bristow'), (2573, 'behaviour'), (2574, 'boys'), (2575, 'buggery'), (2587, 'beach'), (2588, 'brownstreet'), (2631, 'banister'), (2632, 'beck'), (2633, 'belive'), (2634, 'boomer'), (2635, 'bore'), (2636, 'bricklayer'), (2637, 'brokery'), (2638, 'bus'), (2639, 'bustle'), (2695, 'bluck'), (2705, 'bagley'), (2706, 'bagleys'), (2707, 'blackswanalley'), (2708, 'boiler'), (2709, 'bolt'), (2710, 'broke'), (2765, 'baldwins'), (2766, 'barber'), (2767, 'beachlane'), (2768, 'bean'), (2769, 'bleed'), (2770, 'bless'), (2771, 'breath'), (2772, 'bristol'), (2816, 'baize'), (2839, 'barnabas'), (2840, 'behalf'), (2841, 'benefit'), (2842, 'bequeath'), (2843, 'blackish'), (2844, 'bodily'), (2845, 'bolton'), (2846, 'borne'), (2847, 'boyden'), (2848, 'branch'), (2849, 'brow'), (2850, 'burton'), (3090, 'bonus'), (3096, 'blade'), (3097, 'broomstick'), (3098, 'burnham'), (3163, 'baffle'), (3164, 'bald'), (3165, 'ballet'), (3166, 'bartholmews'), (3167, 'beerlane'), (3168, 'big'), (3169, 'blunderbuss'), (3170, 'bobbd'), (3171, 'bolter'), (3172, 'breadth'), (3173, 'burgess'), (3174, 'buttonhole'), (3313, 'bonnell'), (3314, 'briers'), (3327, 'berrit'), (3329, 'burk'), (3332, 'badly'), (3333, 'bankrupt'), (3334, 'bookkeeper'), (3335, 'brasier'), (3336, 'brifant'), (3337, 'brooker'), (3438, 'barret'), (3439, 'barrett'), (3451, 'bine'), (3453, 'bobin'), (3462, 'bartin'), (3470, 'bullenger'), (3483, 'bolster'), (3489, 'broker'), (3490, 'busbey'), (3514, 'berkshire'), (3536, 'beezley'), (3537, 'blackfriar'), (3538, 'blankets'), (3552, 'bowstreet'), (3553, 'bully'), (3576, 'bat'), (3577, 'bound'), (3578, 'brain'), (3579, 'brick'), (3580, 'brickbat'), (3642, 'begged'), (3643, 'bishop'), (3658, 'boulster'), (3666, 'barefoot'), (3667, 'bess'), (3668, 'bill'), (3669, 'brewer'), (3716, 'bonnet'), (3724, 'bane'), (3725, 'beecher'), (3726, 'borehams'), (3727, 'brand'), (3750, 'barrel'), (3753, 'bulkley'), (3756, 'birth'), (3757, 'briant'), (3783, 'bevil'), (3784, 'brittin'), (3833, 'bullock'), (3836, 'booth'), (3837, 'bulk'), (3859, 'bow'), (3866, 'bargaining'), (3867, 'barnet'), (3868, 'bunn'), (3883, 'beset'), (3884, 'bluster'), (3885, 'britain'), (3945, 'band'), (3946, 'barnett'), (3947, 'barwell'), (3948, 'bob'), (3949, 'boyce'), (4018, 'bramley'), (4019, 'brotherinlaw'), (4052, 'baild'), (4067, 'breeches'), (4078, 'barleymow'), (4079, 'breeding'), (4080, 'briley'), (4081, 'burnet'), (4100, 'bason'), (4101, 'basons'), (4110, 'back'), (4111, 'battle'), (4112, 'baulk'), (4158, 'blackboyalley'), (4159, 'brookers'), (4160, 'burry'), (4187, 'brownridge'), (4188, 'bucker'), (4207, 'barbarous'), (4208, 'butts'), (4228, 'burrel'), (4241, 'belonged'), (4252, 'bundled'), (4271, 'bisborn'), (4287, 'barge'), (4288, 'bargeman'), (4289, 'bate'), (4290, 'bushels'), (4331, 'boyd'), (4336, 'benbrook'), (4390, 'brookss'), (4432, 'bottles'), (4449, 'beforementione'), (4450, 'berry'), (4487, 'banknotes'), (4488, 'blenheimstreet'), (4559, 'balance'), (4560, 'blackiston'), (4577, 'bedcloath'), (4578, 'belton'), (4579, 'bradfield'), (4580, 'brenton'), (4611, 'banker'), (4635, 'blare'), (4636, 'bloor'), (4648, 'bladin'), (4650, 'bourset'), (4651, 'butson'), (4670, 'batcock'), (4687, 'brainsout'), (4732, 'base'), (4750, 'belford'), (4751, 'blacksmith'), (4796, 'bayley'), (4811, 'burland'), (4817, 'bannister'), (4818, 'barrow'), (4833, 'bagnio'), (4850, 'badge'), (4851, 'beadle'), (4896, 'bayonet'), (4897, 'bromley'), (4918, 'barlow'), (4919, 'barrack'), (4920, 'belied'), (4921, 'bond'), (4922, 'brickmaker'), (5008, 'bounce'), (5014, 'bass'), (5015, 'bunns'), (5025, 'burridge'), (5030, 'boots'), (5037, 'byhen'), (5042, 'baird'), (5056, 'brutton'), (5057, 'bryan'), (5066, 'beckon'), (5080, 'banyer'), (5081, 'blackhorseyard'), (5082, 'boose'), (5115, 'blond'), (5123, 'bowre'), (5124, 'bowring'), (5137, 'barnsby'), (5138, 'bradley'), (5161, 'barton'), (5162, 'breed'), (5219, 'beadles'), (5220, 'blower'), (5221, 'broadstreet'), (5245, 'beli'), (5254, 'bright'), (5295, 'bethnallgreen'), (5296, 'blemish'), (5297, 'bruce'), (5326, 'bellyard'), (5327, 'blakesley'), (5328, 'blakesleys'), (5329, 'burleystreet'), (5362, 'bryant'), (5369, 'blanchville'), (5370, 'booty'), (5371, 'brindley'), (5372, 'bugger'), (5409, 'budd'), (5423, 'broadus'), (5436, 'bath'), (5437, 'beaver'), (5464, 'bastard'), (5465, 'bowman'), (5466, 'bradford'), (5490, 'brookhouse'), (5491, 'brookhouses'), (5492, 'brookstreet'), (5493, 'bureau'), (5513, 'bathfield'), (5514, 'bible'), (5515, 'bluecourt'), (5516, 'bumford'), (5532, 'bochero'), (5566, 'burke'), (5575, 'beneficially'), (5618, 'badrou'), (5619, 'baron'), (5620, 'barracks'), (5621, 'battlement'), (5622, 'beginning'), (5623, 'berkleysquare'), (5624, 'blacks'), (5625, 'brazill'), (5626, 'bribe'), (5627, 'brig'), (5628, 'briton'), (5629, 'brook'), (5630, 'burial'), (5948, 'backward'), (5949, 'bayswater'), (5950, 'belief'), (5951, 'bourne'), (5952, 'bouse'), (5953, 'boxall'), (5954, 'budds'), (6033, 'blackwall'), (6060, 'bedroom'), (6061, 'bookcase'), (6085, 'byng'), (6103, 'bowden'), (6106, 'brewhouse'), (6111, 'bedstead'), (6123, 'brazier'), (6139, 'backdoor'), (6140, 'builder'), (6168, 'bodys'), (6169, 'brush'), (6187, 'briggs'), (6188, 'briggss'), (6189, 'broomhall'), (6190, 'bushell'), (6213, 'barrington'), (6214, 'bleach'), (6215, 'bleached'), (6216, 'bleaching'), (6217, 'bleachingfield'), (6218, 'bramble'), (6266, 'bearquaystair'), (6267, 'blast'), (6284, 'basinghallstreet'), (6285, 'breechesmaker'), (6286, 'briscoe'), (6297, 'beachstreet'), (6309, 'blanks'), (6371, 'bringing'), (6384, 'backparlour'), (6393, 'beneath'), (6408, 'benchi'), (6409, 'buck'), (6425, 'beale'), (6440, 'bastwicke'), (6456, 'bourn'), (6457, 'buckinghamstreet'), (6461, 'bart'), (6462, 'bray'), (6485, 'bournes'), (6492, 'bucklersbury'), (6497, 'babe'), (6520, 'brewerstreet'), (6526, 'bloodyback'), (6550, 'baldwinsgarden'), (6551, 'baldwinsplace'), (6552, 'balley'), (6553, 'brassfounder'), (6554, 'breechespocket'), (6555, 'brightening'), (6556, 'brogden'), (6597, 'branford'), (6644, 'bumboat'), (6699, 'beet'), (6714, 'bead'), (6715, 'blanc'), (6716, 'breastpin'), (6781, 'briggive'), (6803, 'blaise'), (6813, 'barbican'), (6814, 'bennett'), (6829, 'batband'), (6848, 'bedfordsquare'), (6849, 'bowle'), (6871, 'blows'), (6872, 'blunt'), (6873, 'boil'), (6874, 'brady'), (6875, 'brandish'), (6876, 'burden'), (6927, 'blackman'), (6928, 'brownbear'), (6945, 'bennetts'), (6946, 'brodie'), (6960, 'beam'), (6961, 'bolland'), (6989, 'bend'), (7015, 'bankinghouse'), (7040, 'barr'), (7041, 'basement'), (7067, 'barker'), (7092, 'byrne'), (7109, 'beefshop'), (7116, 'bedford'), (7151, 'bliss'), (7152, 'buttend'), (7165, 'barrier'), (7174, 'blacklionyard'), (7183, 'bernard'), (7193, 'betts'), (7198, 'bly'), (7209, 'batter'), (7210, 'bulls'), (7250, 'bridport'), (7259, 'bowyer'), (7271, 'bin'), (7272, 'boar'), (7273, 'boltintun'), (7274, 'brides'), (7275, 'bunhillrow'), (7314, 'brickfield'), (7319, 'block'), (7324, 'benwell'), (7336, 'bartholomewlane'), (7337, 'billingsgate'), (7338, 'billiterlane'), (7339, 'broughton'), (7340, 'buckles'), (7372, 'brererons'), (7373, 'brereton'), (7384, 'bastardchild'), (7385, 'ballspond'), (7386, 'barring'), (7387, 'bloodtub'), (7388, 'butchershill'), (7415, 'befor'), (7416, 'bellalley'), (7417, 'bish'), (7418, 'bishs'), (7419, 'bosomfriend'), (7420, 'brookes'), (7421, 'byename'), (7483, 'blueanchoralley'), (7507, 'butlerwilliam'), (7515, 'bankside'), (7516, 'bethlemwall'), (7525, 'blueboar'), (7526, 'butterboat'), (7533, 'bridgesstreet'), (7552, 'blessed'), (7553, 'bricklane'), (7567, 'boothby'), (7575, 'buffler'), (7599, 'browne'), (7631, 'beadblower'), (7632, 'bracelet'), (7633, 'brownes'), (7671, 'bernersstreet'), (7672, 'blenheim'), (7684, 'bankers'), (7685, 'bluhm'), (7723, 'bridelane'), (7735, 'bolen'), (7736, 'bookbinder'), (7737, 'bookseller'), (7738, 'butcherhallhall'), (7777, 'bereave'), (7778, 'bobbery'), (7779, 'bullhead'), (7780, 'bullinn'), (7829, 'bought'), (7860, 'backroad'), (7861, 'balam'), (7862, 'bedfordshire'), (7888, 'birdsbuilding'), (7889, 'buffett'), (7921, 'backlane'), (7942, 'blacklinslane'), (7943, 'blot'), (7944, 'boltonstreet'), (7945, 'bondstreet'), (7946, 'brighton'), (7947, 'bromptonrow'), (7977, 'broom'), (8017, 'bootmaker'), (8035, 'bombazett'), (8036, 'bootlace'), (8047, 'baileys'), (8048, 'barnwell'), (8049, 'bleeding'), (8069, 'bailiff'), (8070, 'bladder'), (8084, 'barry'), (8085, 'beast'), (8086, 'boddy'), (8087, 'boddys'), (8119, 'balsover'), (8120, 'belsover'), (8134, 'bramwell'), (8137, 'berridge'), (8140, 'boarding'), (8187, 'barbers'), (8192, 'bland'), (8193, 'broach'), (8198, 'banefield'), (8217, 'barnets'), (8218, 'bewen'), (8265, 'beal'), (8279, 'bedfordstreet'), (8280, 'briskly'), (8290, 'bargan'), (8291, 'bartell'), (8292, 'boothstreet'), (8328, 'burdon'), (8349, 'best'), (8359, 'bethnalgreen'), (8378, 'backhill'), (8379, 'bedpi'), (8380, 'bedpillar'), (8381, 'bedpost'), (8382, 'blackhall'), (8414, 'baby'), (8417, 'billet'), (8433, 'blinman'), (8436, 'battlebridge'), (8444, 'bloomsburysquare'), (8457, 'beech'), (8458, 'beechs'), (8459, 'biddy'), (8460, 'bigby'), (8473, 'barclay'), (8485, 'baldwyn'), (8495, 'bannerstreet'), (8514, 'brompton'), (8528, 'burt'), (8546, 'brokers'), (8551, 'bowker'), (8566, 'blackwater'), (8577, 'boston'), (8578, 'brodrick'), (8587, 'bedsteadmaker'), (8588, 'buckland'), (8589, 'bundock'), (8604, 'bramhall'), (8605, 'broken'), (8632, 'bedclothe'), (8633, 'boutle'), (8650, 'baldwin'), (8651, 'butterfield'), (8652, 'byrom'), (8671, 'bedgown'), (8672, 'blackfriarsroad'), (8691, 'bethell'), (8707, 'bang'), (8708, 'billbook'), (8717, 'betsy'), (8732, 'battalion'), (8739, 'bodied'), (8746, 'bleaden'), (8749, 'bridgestreet'), (8761, 'bandbox'), (8762, 'buttonmerchant'), (8777, 'birchinlane'), (8794, 'brickhill'), (8810, 'brownslane'), (8821, 'birdsneste'), (8841, 'beecroft'), (8842, 'bugg'), (8849, 'balcony'), (8850, 'boswell'), (8853, 'branchs'), (8860, 'brunswicksquare'), (8866, 'bryson'), (8893, 'bartlett'), (8894, 'bartletts'), (8899, 'beatty'), (8901, 'blackheath'), (8915, 'blythe'), (8955, 'ballan'), (8956, 'barrister'), (8957, 'beverley'), (8958, 'blunder'), (8959, 'boards'), (8960, 'botany'), (8961, 'bounty'), (9174, 'bedfordbury'), (9175, 'bew'), (9176, 'bulky'), (9181, 'blake'), (9182, 'buckinghamshire'), (9203, 'bertrand'), (9209, 'bite'), (9234, 'basay'), (9235, 'becks'), (9236, 'ben'), (9237, 'berkelysquare'), (9238, 'berkelystreet'), (9239, 'bronze'), (9240, 'brutonstreet'), (9241, 'buff'), (9242, 'bulwark'), (9243, 'burlington'), (9318, 'balduck'), (9323, 'bakerscourt'), (9329, 'bampton'), (9330, 'brackleystreet'), (9335, 'beaumontstreet'), (9353, 'berkeleysquare'), (9362, 'brooch'), (9365, 'barrs'), (9391, 'brownlowstreet'), (9398, 'buckley'), (9413, 'beechstreet'), (9442, 'boss'), (9443, 'braybrook'), (9455, 'boothook'), (9470, 'burystreet'), (9496, 'barnetts'), (9503, 'brightness'), (9512, 'bryanstonesquare'), (9531, 'blackfriarsbridge'), (9532, 'border'), (9533, 'bouste'), (9567, 'betray'), (9568, 'bosanquet'), (9569, 'broderick'), (9570, 'byelaw'), (9679, 'bonner'), (9686, 'belllane'), (9698, 'baylis'), (9702, 'boxglass'), (9703, 'brett'), (9710, 'brewery'), (9736, 'birdseye'), (9740, 'basinghouse'), (9750, 'bowsyard'), (9758, 'bother'), (9761, 'burlingtongarden'), (9769, 'butterworth'), (9793, 'burrell'), (9801, 'blackshall'), (9802, 'bradshall'), (9814, 'berwickstreet'), (9821, 'bebetween'), (9833, 'beaufortsbuilding'), (9840, 'barrettsbuilding'), (9850, 'badger'), (9851, 'bitterly'), (9852, 'bowser'), (9853, 'butt'), (9861, 'bassano'), (9862, 'bidgood'), (9863, 'brindle'), (9878, 'beris'), (9879, 'bowfield'), (9880, 'burrough'), (9887, 'buckeringestreet'), (9894, 'bedding'), (9927, 'brockelbank'), (9945, 'betty'), (9973, 'bullard'), (9975, 'boulton'), (9977, 'boucher'), (9985, 'bowcommon'), (9992, 'bakers'), (10005, 'bryand'), (10006, 'bryands'), (10013, 'bursey'), (10032, 'bryanstonstreet'), (10033, 'buckeridge'), (10050, 'brickeridge'), (10051, 'bridgewatersquare'), (10071, 'balme'), (10077, 'burrow'), (10082, 'belcher'), (10107, 'bot'), (10128, 'benton'), (10129, 'browsers'), (10140, 'browser'), (10164, 'benedicto'), (10172, 'bale'), (10173, 'boroughtroad'), (10211, 'boykett'), (10221, 'blackburn'), (10267, 'bartram'), (10298, 'bagatelles'), (10299, 'bawker'), (10300, 'beercaller'), (10301, 'beercellar'), (10302, 'bide'), (10303, 'brooke'), (10342, 'bankbook'), (10343, 'beseech'), (10403, 'barparlour'), (10404, 'breakfasted'), (10432, 'basin'), (10433, 'beans'), (10434, 'benson'), (10435, 'brushel'), (10436, 'bsh'), (10506, 'blay'), (10516, 'belonging'), (10523, 'beckenham'), (10524, 'blundell'), (10555, 'bootjack'), (10559, 'bushnell'), (10581, 'boywho'), (10588, 'blair'), (10589, 'bodkin'), (10590, 'bricker'), (10608, 'bolstercase'), (10633, 'brenford'), (10648, 'britanniastreet'), (10649, 'burgesss'), (10650, 'burgkes'), (10669, 'britanniaplace'), (10679, 'backroom'), (10680, 'bloomsburry'), (10687, 'bidmead'), (10725, 'banns'), (10726, 'beating'), (10727, 'bowlingstreet'), (10728, 'brutal'), (10771, 'beckman'), (10779, 'bates'), (10780, 'battlebridgeroad'), (10781, 'beershop'), (10798, 'birch'), (10805, 'brunewickstreet'), (10806, 'burtoncrescent'), (10815, 'bigamy'), (10816, 'blackfrairsroad'), (10817, 'bursell'), (10823, 'berrys'), (10831, 'bankruptcy'), (10832, 'biden'), (10833, 'bits'), (10863, 'believeabout'), (10864, 'birdsalley'), (10865, 'bloom'), (10878, 'burning'), (10906, 'begent'), (10907, 'bransgrove'), (10920, 'balconyfront'), (10921, 'beall'), (10966, 'binder'), (10967, 'bock'), (10968, 'books'), (10969, 'bookshop'), (10970, 'botanical'), (10971, 'brandyu'), (10972, 'britannica'), (11033, 'beautifully'), (11034, 'booksellers'), (11035, 'bullandmouthstreet'), (11036, 'buyer'), (11139, 'background'), (11140, 'backing'), (11141, 'balls'), (11142, 'ballsd'), (11143, 'banch'), (11144, 'banjamin'), (11145, 'banking'), (11146, 'bargin'), (11147, 'barmiess'), (11148, 'beeen'), (11149, 'ber'), (11150, 'bettter'), (11151, 'birmingham'), (11152, 'bishopaagtestreet'), (11153, 'blan'), (11154, 'blus'), (11155, 'boor'), (11156, 'borkin'), (11157, 'branston'), (11158, 'british'), (11159, 'brookersgarden'), (11160, 'brought'), (11161, 'busicess'), (11162, 'bussiness'), (11518, 'bavk'), (11557, 'byt'), (11620, 'ballss'), (11621, 'beady'), (11622, 'booknote'), (11623, 'brassplate'), (11624, 'bussellstreet'), (11625, 'bytheby'), (11677, 'bark'), (11678, 'bellyache'), (11679, 'blindfold'), (11680, 'byandby'), (11757, 'blackmanstreet'), (11760, 'boroughmarket'), (11761, 'bre'), (11781, 'bastable'), (11805, 'bakerstreet'), (11806, 'bellhanger'), (11863, 'breakfasttime'), (11893, 'bulpit'), (11934, 'broning'), (11935, 'braddick'), (11942, 'bartholomewclose'), (11945, 'bake'), (11946, 'breadshelf'), (11952, 'burlingtonstreet'), (11967, 'brainfever'), (11993, 'basto'), (11994, 'brito'), (12038, 'balleras'), (12039, 'boyn'), (12072, 'bateman'), (12076, 'brannan'), (12081, 'ballantine'), (12082, 'barkingalley'), (12107, 'bladon'), (12115, 'bastone'), (12128, 'blandfordplace'), (12129, 'burnett'), (12133, 'boswellcourt'), (12134, 'buckeridgestreet'), (12146, 'bermondsey'), (12156, 'bruin'), (12166, 'barmaid'), (12198, 'brine'), (12215, 'belt'), (12216, 'breadandbutter'), (12258, 'bolar'), (12259, 'bottlejack'), (12266, 'bundy'), (12316, 'belgravestreet'), (12317, 'biscuit'), (12318, 'bitten'), (12332, 'berkley'), (12333, 'bothcounterfeit'), (12339, 'backyard'), (12358, 'barrackgate'), (12364, 'bretts'), (12391, 'betwen'), (12392, 'brushmaker'), (12410, 'bermondseystreet'), (12411, 'bowler'), (12412, 'burys'), (12429, 'bentinckstreet'), (12430, 'bramah'), (12431, 'browning'), (12478, 'brind'), (12480, 'blanchard'), (12483, 'bragg'), (12487, 'burgoyne'), (12493, 'broadway'), (12494, 'bunter'), (12519, 'blackwood'), (12543, 'barman'), (12561, 'badham'), (12586, 'baxter'), (12587, 'baxters'), (12588, 'boggis'), (12589, 'bottled'), (12590, 'bovill'), (12591, 'bowerstreet'), (12592, 'bradshaw'), (12593, 'bramleystreet'), (12594, 'brewster'), (12595, 'brixton'), (12596, 'bromleystreet'), (12597, 'bunk'), (12598, 'burnell'), (12686, 'bathplace'), (12687, 'brize'), (12724, 'bellesauvage'), (12725, 'bogs'), (12745, 'bareface'), (12746, 'brownish'), (12761, 'byford'), (12776, 'bold'), (12780, 'backhand'), (12781, 'bade'), (12782, 'beautiful'), (12800, 'burglar'), (12830, 'beda'), (12833, 'buyrus'), (12845, 'babys'), (12846, 'bandage'), (12847, 'bottomed'), (12848, 'breathe'), (12849, 'bronchitis'), (12850, 'bucket'), (12899, 'behold'), (12959, 'burchett'), (12960, 'bet'), (12961, 'burchetts'), (13023, 'brasil'), (13033, 'borrowing'), (13060, 'brassey'), (13061, 'brasseys'), (13062, 'bridgeplace'), (13096, 'baldfaced'), (13122, 'bowles'), (13151, 'bowsel'), (13157, 'bowling'), (13167, 'besley'), (13168, 'billitersquare'), (13169, 'bligh'), (13214, 'bliar'), (13215, 'bowlane'), (13228, 'bif'), (13229, 'brewerslane'), (13246, 'borea'), (13250, 'backway'), (13251, 'breaksman'), (13279, 'baugham'), (13291, 'bearstreet'), (13301, 'belinda'), (13304, 'batcher'), (13305, 'busame'), (13306, 'byandbye'), (13334, 'bingham'), (13356, 'barege'), (13357, 'brixtonroad'), (13389, 'bilberry'), (13418, 'backboard'), (13435, 'barleycourt'), (13436, 'bresnahan'), (13467, 'ballast'), (13506, 'bathe'), (13507, 'brothel'), (13538, 'billingsgatemarket'), (13539, 'boyhood'), (13540, 'bridgehouseplace'), (13541, 'brisklayer'), (13563, 'bithray'), (13571, 'bedfordcourt'), (13579, 'behindhand'), (13602, 'bun'), (13606, 'baggott'), (13611, 'bethnalgreenroad'), (13622, 'beresfordstreet'), (13663, 'bagatelle'), (13664, 'bagatelleboard'), (13665, 'bagatelleroom'), (13666, 'bagatelleroomdoor'), (13667, 'balantine'), (13668, 'baldock'), (13669, 'barometer'), (13670, 'baud'), (13671, 'bickleystreet'), (13672, 'blindroller'), (13673, 'bordessa'), (13674, 'bordessas'), (13675, 'boxingnight'), (13676, 'broomhandle'), (13677, 'byle'), (13758, 'backwall'), (13759, 'bakersrow'), (13760, 'bellcourt'), (13761, 'brushing'), (13762, 'byestreet'), (13807, 'bhas'), (13824, 'billiard'), (13825, 'billiardroom'), (13826, 'bullcourt'), (13860, 'brothers'), (13871, 'batturs'), (13872, 'buchanan'), (13877, 'blostock'), (13892, 'blackheathroad'), (13893, 'brasswork'), (13894, 'breastpocket'), (13915, 'bailee'), (13916, 'bookingclerk'), (13917, 'brightonrailway'), (13958, 'blyth'), (13966, 'biss'), (13967, 'bridgeroad'), (13968, 'brotherconstable'), (14020, 'badness'), (14021, 'baptism'), (14022, 'baptize'), (14023, 'baugh'), (14024, 'beasley'), (14025, 'beaulah'), (14026, 'begley'), (14027, 'beranger'), (14028, 'beulah'), (14029, 'biographical'), (14030, 'biography'), (14031, 'blackland'), (14032, 'blameless'), (14033, 'blandford'), (14034, 'bloq'), (14035, 'boarder'), (14036, 'bohn'), (14037, 'breathing'), (14038, 'brief'), (14039, 'broadmoor'), (14040, 'brutus'), (14041, 'bythebye'), (14525, 'bri'), (14532, 'bachelor'), (14533, 'beedlestonb'), (14534, 'buckingham'), (14559, 'boxingday'), (14575, 'broomfield'), (14610, 'buckleys'), (14618, 'bottomley'), (14627, 'baptiste'), (14628, 'boulogne'), (14710, 'bromby'), (14726, 'belsize'), (14739, 'beerhouse'), (14770, 'balanced'), (14771, 'blackmore'), (14772, 'brougham'), (14825, 'barnsford'), (14850, 'beloved'), (14851, 'beverly'), (14852, 'brinsley'), (14896, 'banque'), (14897, 'belon'), (14913, 'biscuitdish'), (14914, 'brennan'), (14941, 'boyes'), (14942, 'britannia'), (14949, 'bendall'), (14955, 'blaze'), (14956, 'brickbuilt'), (14996, 'battersea'), (15014, 'boyer'), (15017, 'bottler'), (15018, 'brownfield'), (15022, 'billiardmarker'), (15023, 'bloodpoisoning'), (15055, 'beaton'), (15056, 'beatona'), (15057, 'blewett'), (15058, 'bluish'), (15059, 'byron'), (15112, 'bryce'), (15122, 'be'), (15135, 'bookingoffice'), (15154, 'blantyre'), (15155, 'blottingpaper'), (15156, 'bowe'), (15157, 'buchans'), (15158, 'buss'), (15210, 'batch'), (15211, 'bv'), (15223, 'bossie'), (15226, 'botter'), (15231, 'boad'), (15248, 'birthday'), (15249, 'blacken'), (15267, 'blackeby'), (15269, 'befog'), (15296, 'boother'), (15297, 'burnie'), (15298, 'bussell'), (15338, 'burglarioualy'), (15340, 'bbown'), (15341, 'benbow'), (15370, 'beslet'), (15371, 'birkbeck'), (15372, 'bishopegate'), (15373, 'bobert'), (15374, 'booney'), (15375, 'breton'), (15376, 'bridgman'), (15457, 'bangor'), (15458, 'bosworth'), (15459, 'bunt'), (15507, 'bracebuckle'), (15524, 'brocklington'), (15569, 'bazaar'), (15570, 'belvedere'), (15571, 'bichmond'), (15572, 'bochester'), (15573, 'brinste'), (15574, 'brinsted'), (15623, 'beechey'), (15624, 'burr'), (15638, 'bevington'), (15639, 'bramston'), (15640, 'bramstone'), (15649, 'bust'), (15669, 'breach'), (15680, 'beagin'), (15681, 'boilermaker'), (15689, 'brochet'), (15690, 'broohet'), (15693, 'bobsart'), (15710, 'brill'), (15737, 'batts'), (15738, 'bicycle'), (15739, 'billhead'), (15747, 'bearing'), (15764, 'bedfearn'), (15765, 'bedfearns'), (15766, 'bedthing'), (15767, 'blaydon'), (15768, 'bordblay'), (15769, 'bordelay'), (15770, 'buspinis'), (15818, 'baling'), (15819, 'billing'), (15820, 'bournemouth'), (15859, 'baumgartner'), (15861, 'bonn'), (15873, 'barnacot'), (15874, 'billycock'), (15875, 'biron'), (15876, 'burglarious'), (15920, 'balancesheet'), (15921, 'beira'), (15922, 'bertram'), (15923, 'bicker'), (15924, 'biennial'), (15925, 'bodley'), (15926, 'borrower'), (15927, 'boxbook'), (15928, 'boxer'), (15929, 'buke'), (15930, 'bursar'), (16124, 'bradbury'), (16125, 'bueno'), (16155, 'beermoney'), (16156, 'beimon'), (16157, 'boxlid'), (16158, 'busmese'), (16189, 'bearma'), (16190, 'beerman'), (16191, 'bethnal'), (16192, 'booking'), (16193, 'breaker'), (16208, 'bills'), (16209, 'bolitho'), (16238, 'baths'), (16239, 'blackguard'), (16240, 'blackleg'), (16271, 'beading'), (16272, 'becker'), (16273, 'bettor'), (16274, 'binocular'), (16275, 'blouse'), (16276, 'bootshop'), (16277, 'brasseur'), (16278, 'bruge'), (16279, 'brussels'), (16331, 'bellthis'), (16332, 'bertha'), (16333, 'blau'), (16334, 'braybourne'), (16335, 'bulbs'), (16336, 'buswell'), (16398, 'beetle'), (16414, 'burnand'), (16422, 'bebman'), (16423, 'bevonshire'), (16424, 'bitter'), (16425, 'bridgwater'), (16426, 'burrows'), (16484, 'banged'), (16485, 'barricade'), (16486, 'barrie'), (16487, 'blister'), (16488, 'bonham'), (16489, 'borstall'), (16538, 'bodice'), (16546, 'bertie'), (16548, 'betted'), (16563, 'bangle'), (16570, 'barnsbury'), (16577, 'bacchus'), (16578, 'bathurst'), (16579, 'battery'), (16580, 'boyles'), (16581, 'bromide'), (16595, 'boatswain'), (16596, 'bout'), (16597, 'brake'), (16648, 'berth'), (16662, 'buoy'), (16691, 'baldree'), (16692, 'bottista'), (16723, 'boe'), (16740, 'ballis'), (16744, 'blackhandle'), (16745, 'brew'), (16760, 'belmont'), (16796, 'boysmeane'), (16803, 'billot'), (16821, 'bissell'), (16822, 'boden'), (16823, 'burchell'), (16857, 'barely'), (16858, 'barley'), (16870, 'belfrage'), (16905, 'builders'), (16925, 'boizot'), (16926, 'brute'), (16927, 'buchs'), (16928, 'bullethole'), (16975, 'brockley'), (16994, 'bloxam'), (16999, 'bastardand'), (17000, 'blandy'), (17009, 'buglass'), (17011, 'botte'), (17020, 'bike'), (17021, 'billeter'), (17022, 'billiter'), (17023, 'boardinghouse'), (17024, 'bookmake'), (17025, 'bookmaker'), (17026, 'boult'), (17097, 'beatrice'), (17104, 'bonchord'), (17105, 'brocklebank'), (17106, 'buckhurst'), (17135, 'beldam'), (17136, 'bogus'), (17137, 'bois'), (17151, 'brunet'), (17153, 'bronchial'), (17154, 'buttock'), (17190, 'begrimed'), (17191, 'broadly'), (17216, 'bernstein'), (17242, 'bremin'), (17294, 'bree'), (17318, 'baltico'), (17328, 'beyer'), (17353, 'brows'), (17354, 'browse'), (17370, 'burgay'), (17376, 'braganza'), (17381, 'boysand'), (17391, 'bifurcation'), (17392, 'blur'), (17393, 'bordelott'), (17415, 'balham'), (17425, 'bloxham'), (17430, 'brutally'), (17441, 'banke'), (17442, 'belfast'), (17443, 'bros'), (17444, 'bunche'), (17500, 'bash'), (17501, 'birdsall'), (17509, 'bankes'), (17520, 'brigade'), (17543, 'bassett'), (17546, 'billingley'), (17572, 'brassfinisher'), (17575, 'barron'), (17590, 'beresford'), (17591, 'bibby'), (17592, 'biddle'), (17593, 'bourner'), (17594, 'bro'), (17595, 'brv'), (17662, 'boon'), (17673, 'bonallack'), (17674, 'bonnallack'), (17675, 'borden'), (17684, 'boleyn'), (17708, 'bowlis'), (17709, 'bremner'), (17738, 'borstal'), (17751, 'barney'), (17752, 'boustred'), (17753, 'bracket'), (17754, 'bravery'), (17850, 'bannatyne'), (17851, 'begg'), (17852, 'bernards'), (17853, 'bewildered'), (17854, 'blackmail'), (17855, 'businesslike'), (17952, 'bransbury'), (17963, 'beechcroft'), (17964, 'bookstall'), (17965, 'brankescombe'), (17977, 'bomze'), (17991, 'broxholm'), (18003, 'basketmaker'), (18004, 'bloch'), (18005, 'brickwell'), (18006, 'bryanston'), (18046, 'beauchamp'), (18053, 'batting'), (18054, 'blackhorse'), (18055, 'breakfastroom'), (18096, 'balcombe')]\n"
     ]
    }
   ],
   "source": [
    "# strange that there are no words seemingly starting with b\n",
    "# is that the case?\n",
    "# let's check out words starting with b\n",
    "print(\"Words starting with b\", [(key, word)  for key, word in dictionary.items() if word.startswith('b')])\n",
    "# so there are words starting with b"
   ]
  },
  {
   "cell_type": "code",
   "execution_count": 58,
   "metadata": {},
   "outputs": [
    {
     "name": "stdout",
     "output_type": "stream",
     "text": [
      "[(0, 1), (1, 1), (2, 1), (3, 1), (4, 1), (5, 1), (6, 1), (7, 2), (8, 2), (9, 1), (10, 1), (11, 1), (12, 1), (13, 2), (14, 1), (15, 1), (16, 1), (17, 1), (18, 2), (19, 1), (20, 1), (21, 1), (22, 1), (23, 1), (24, 1), (25, 2), (26, 1), (27, 1), (28, 1), (29, 1), (30, 1), (31, 1), (32, 1), (33, 2), (34, 1), (35, 2), (36, 1), (37, 1), (38, 1), (39, 2), (40, 1), (41, 4), (42, 1), (43, 2), (44, 1), (45, 2), (46, 1)]\n",
      "[(1, 1), (4, 1), (7, 1), (8, 1), (13, 1), (14, 1), (15, 1), (16, 1), (17, 1), (19, 1), (20, 1), (22, 1), (23, 1), (26, 1), (29, 1), (32, 2), (33, 2), (35, 1), (36, 1), (37, 1), (42, 1), (43, 2), (47, 1), (48, 1), (49, 1), (50, 1), (51, 1), (52, 1), (53, 1), (54, 1), (55, 2), (56, 1), (57, 1), (58, 1), (59, 1), (60, 1), (61, 1), (62, 1), (63, 1), (64, 1), (65, 1), (66, 1), (67, 1), (68, 2), (69, 1), (70, 4), (71, 1), (72, 1), (73, 1), (74, 1), (75, 1), (76, 1), (77, 1), (78, 1), (79, 1), (80, 1), (81, 1), (82, 1), (83, 1), (84, 1), (85, 1), (86, 1), (87, 1), (88, 1), (89, 1), (90, 1), (91, 3), (92, 1), (93, 1), (94, 1), (95, 1), (96, 1)]\n"
     ]
    }
   ],
   "source": [
    "# now we need to create a corpus for gensim \n",
    "\n",
    "corpus = [dictionary.doc2bow(text) for text in texts]\n",
    "# let's check out first 2 rows\n",
    "print(*corpus[:2], sep = \"\\n\")"
   ]
  },
  {
   "cell_type": "code",
   "execution_count": 59,
   "metadata": {},
   "outputs": [],
   "source": [
    "# what could word no 1 be?\n",
    "# so each document was converted into a list of tuples, first value is word id and second value is number of times that word appears in the document\n",
    "\n",
    "# now we can create our LDA model\n",
    "\n",
    "# we need to import LdaModel from gensim.models\n",
    "from gensim.models import LdaModel\n",
    "# Train the model on the corpus.\n",
    "lda = LdaModel(corpus, \n",
    "               num_topics=10,\n",
    "               id2word=dictionary) # again this is our default number of topics, you can play around with it and choose a different number"
   ]
  },
  {
   "cell_type": "code",
   "execution_count": 60,
   "metadata": {},
   "outputs": [
    {
     "data": {
      "text/plain": [
       "[(0,\n",
       "  '0.026*\"prisoner\" + 0.015*\"do\" + 0.012*\"say\" + 0.011*\"mr\" + 0.010*\"go\" + 0.009*\"see\" + 0.008*\"value\" + 0.007*\"q\" + 0.007*\"come\" + 0.007*\"find\"'),\n",
       " (1,\n",
       "  '0.031*\"say\" + 0.017*\"prisoner\" + 0.016*\"do\" + 0.013*\"go\" + 0.012*\"know\" + 0.012*\"q\" + 0.010*\"mr\" + 0.010*\"take\" + 0.010*\"see\" + 0.008*\"come\"'),\n",
       " (2,\n",
       "  '0.019*\"say\" + 0.019*\"prisoner\" + 0.015*\"do\" + 0.013*\"mr\" + 0.013*\"go\" + 0.013*\"see\" + 0.010*\"come\" + 0.009*\"know\" + 0.009*\"q\" + 0.008*\"time\"'),\n",
       " (3,\n",
       "  '0.020*\"say\" + 0.016*\"prisoner\" + 0.016*\"go\" + 0.013*\"do\" + 0.013*\"mr\" + 0.012*\"q\" + 0.010*\"take\" + 0.010*\"come\" + 0.010*\"know\" + 0.009*\"give\"'),\n",
       " (4,\n",
       "  '0.023*\"prisoner\" + 0.015*\"go\" + 0.015*\"say\" + 0.013*\"come\" + 0.012*\"do\" + 0.012*\"mr\" + 0.011*\"see\" + 0.011*\"take\" + 0.010*\"man\" + 0.010*\"know\"'),\n",
       " (5,\n",
       "  '0.020*\"say\" + 0.015*\"mr\" + 0.015*\"do\" + 0.014*\"take\" + 0.013*\"prisoner\" + 0.013*\"come\" + 0.013*\"go\" + 0.009*\"know\" + 0.009*\"q\" + 0.008*\"value\"'),\n",
       " (6,\n",
       "  '0.027*\"say\" + 0.016*\"do\" + 0.014*\"prisoner\" + 0.011*\"mr\" + 0.011*\"go\" + 0.010*\"take\" + 0.009*\"come\" + 0.007*\"tell\" + 0.007*\"know\" + 0.007*\"man\"'),\n",
       " (7,\n",
       "  '0.023*\"say\" + 0.021*\"prisoner\" + 0.020*\"mr\" + 0.015*\"do\" + 0.014*\"go\" + 0.012*\"see\" + 0.011*\"come\" + 0.010*\"q\" + 0.009*\"take\" + 0.009*\"know\"'),\n",
       " (8,\n",
       "  '0.022*\"q\" + 0.014*\"do\" + 0.014*\"prisoner\" + 0.011*\"say\" + 0.010*\"mr\" + 0.009*\"see\" + 0.009*\"know\" + 0.009*\"come\" + 0.009*\"find\" + 0.008*\"go\"'),\n",
       " (9,\n",
       "  '0.020*\"say\" + 0.016*\"do\" + 0.016*\"prisoner\" + 0.011*\"q\" + 0.010*\"mr\" + 0.010*\"go\" + 0.009*\"see\" + 0.009*\"take\" + 0.008*\"come\" + 0.008*\"know\"')]"
      ]
     },
     "execution_count": 60,
     "metadata": {},
     "output_type": "execute_result"
    }
   ],
   "source": [
    "# let's show our topics\n",
    "lda.show_topics()"
   ]
  },
  {
   "cell_type": "code",
   "execution_count": 61,
   "metadata": {},
   "outputs": [],
   "source": [
    "# now let's save our model just in case\n",
    "# let's create models folder in our current directory if it does not exist\n",
    "# Path(\"models\").mkdir(parents=True, exist_ok=True)\n",
    "# we will use save method\n",
    "from gensim.test.utils import datapath\n",
    "# we will use datapath to create a path to our model\n",
    "temp_file = datapath(\"lda_model_10.model\")\n",
    "lda.save(temp_file)"
   ]
  },
  {
   "cell_type": "code",
   "execution_count": 62,
   "metadata": {},
   "outputs": [],
   "source": [
    "# let's load our model\n",
    "loaded_model = LdaModel.load(temp_file)"
   ]
  },
  {
   "cell_type": "code",
   "execution_count": 63,
   "metadata": {},
   "outputs": [
    {
     "data": {
      "text/plain": [
       "[(0,\n",
       "  '0.026*\"prisoner\" + 0.015*\"do\" + 0.012*\"say\" + 0.011*\"mr\" + 0.010*\"go\" + 0.009*\"see\" + 0.008*\"value\" + 0.007*\"q\" + 0.007*\"come\" + 0.007*\"find\"'),\n",
       " (1,\n",
       "  '0.031*\"say\" + 0.017*\"prisoner\" + 0.016*\"do\" + 0.013*\"go\" + 0.012*\"know\" + 0.012*\"q\" + 0.010*\"mr\" + 0.010*\"take\" + 0.010*\"see\" + 0.008*\"come\"'),\n",
       " (2,\n",
       "  '0.019*\"say\" + 0.019*\"prisoner\" + 0.015*\"do\" + 0.013*\"mr\" + 0.013*\"go\" + 0.013*\"see\" + 0.010*\"come\" + 0.009*\"know\" + 0.009*\"q\" + 0.008*\"time\"'),\n",
       " (3,\n",
       "  '0.020*\"say\" + 0.016*\"prisoner\" + 0.016*\"go\" + 0.013*\"do\" + 0.013*\"mr\" + 0.012*\"q\" + 0.010*\"take\" + 0.010*\"come\" + 0.010*\"know\" + 0.009*\"give\"'),\n",
       " (4,\n",
       "  '0.023*\"prisoner\" + 0.015*\"go\" + 0.015*\"say\" + 0.013*\"come\" + 0.012*\"do\" + 0.012*\"mr\" + 0.011*\"see\" + 0.011*\"take\" + 0.010*\"man\" + 0.010*\"know\"'),\n",
       " (5,\n",
       "  '0.020*\"say\" + 0.015*\"mr\" + 0.015*\"do\" + 0.014*\"take\" + 0.013*\"prisoner\" + 0.013*\"come\" + 0.013*\"go\" + 0.009*\"know\" + 0.009*\"q\" + 0.008*\"value\"'),\n",
       " (6,\n",
       "  '0.027*\"say\" + 0.016*\"do\" + 0.014*\"prisoner\" + 0.011*\"mr\" + 0.011*\"go\" + 0.010*\"take\" + 0.009*\"come\" + 0.007*\"tell\" + 0.007*\"know\" + 0.007*\"man\"'),\n",
       " (7,\n",
       "  '0.023*\"say\" + 0.021*\"prisoner\" + 0.020*\"mr\" + 0.015*\"do\" + 0.014*\"go\" + 0.012*\"see\" + 0.011*\"come\" + 0.010*\"q\" + 0.009*\"take\" + 0.009*\"know\"'),\n",
       " (8,\n",
       "  '0.022*\"q\" + 0.014*\"do\" + 0.014*\"prisoner\" + 0.011*\"say\" + 0.010*\"mr\" + 0.009*\"see\" + 0.009*\"know\" + 0.009*\"come\" + 0.009*\"find\" + 0.008*\"go\"'),\n",
       " (9,\n",
       "  '0.020*\"say\" + 0.016*\"do\" + 0.016*\"prisoner\" + 0.011*\"q\" + 0.010*\"mr\" + 0.010*\"go\" + 0.009*\"see\" + 0.009*\"take\" + 0.008*\"come\" + 0.008*\"know\"')]"
      ]
     },
     "execution_count": 63,
     "metadata": {},
     "output_type": "execute_result"
    }
   ],
   "source": [
    "# use loaded model to print topics\n",
    "loaded_model.print_topics()"
   ]
  },
  {
   "cell_type": "code",
   "execution_count": 64,
   "metadata": {},
   "outputs": [
    {
     "name": "stdout",
     "output_type": "stream",
     "text": [
      "Shape of our topic array (10, 18118)\n",
      "go, mr, say, do, prisoner\n",
      "know, go, do, prisoner, say\n",
      "go, mr, do, prisoner, say\n",
      "mr, do, go, prisoner, say\n",
      "do, come, say, go, prisoner\n",
      "prisoner, take, do, mr, say\n",
      "go, mr, prisoner, do, say\n",
      "go, do, mr, prisoner, say\n",
      "mr, say, prisoner, do, q\n",
      "mr, q, prisoner, do, say\n"
     ]
    }
   ],
   "source": [
    "topic_array = loaded_model.get_topics()\n",
    "# let's check out shape\n",
    "print(\"Shape of our topic array\", topic_array.shape)\n",
    "# we probably do not want to print out all the words in our topics\n",
    "# so let's find out 5 most important words for each topic\n",
    "# we will use argsort method\n",
    "topic_array.argsort(axis=1)[:,-5:]\n",
    "# so we can see that last 5 words in each topic are the most important\n",
    "# let's print out our topics with 5 most important words\n",
    "for topic in topic_array.argsort(axis=1)[:,-5:]:\n",
    "    print(*[dictionary[word] for word in topic], sep = \", \")"
   ]
  },
  {
   "cell_type": "code",
   "execution_count": 65,
   "metadata": {},
   "outputs": [
    {
     "data": {
      "text/plain": [
       "[(0,\n",
       "  '0.026*\"prisoner\" + 0.015*\"do\" + 0.012*\"say\" + 0.011*\"mr\" + 0.010*\"go\" + 0.009*\"see\" + 0.008*\"value\" + 0.007*\"q\" + 0.007*\"come\" + 0.007*\"find\"'),\n",
       " (1,\n",
       "  '0.031*\"say\" + 0.017*\"prisoner\" + 0.016*\"do\" + 0.013*\"go\" + 0.012*\"know\" + 0.012*\"q\" + 0.010*\"mr\" + 0.010*\"take\" + 0.010*\"see\" + 0.008*\"come\"'),\n",
       " (2,\n",
       "  '0.019*\"say\" + 0.019*\"prisoner\" + 0.015*\"do\" + 0.013*\"mr\" + 0.013*\"go\" + 0.013*\"see\" + 0.010*\"come\" + 0.009*\"know\" + 0.009*\"q\" + 0.008*\"time\"'),\n",
       " (3,\n",
       "  '0.020*\"say\" + 0.016*\"prisoner\" + 0.016*\"go\" + 0.013*\"do\" + 0.013*\"mr\" + 0.012*\"q\" + 0.010*\"take\" + 0.010*\"come\" + 0.010*\"know\" + 0.009*\"give\"'),\n",
       " (4,\n",
       "  '0.023*\"prisoner\" + 0.015*\"go\" + 0.015*\"say\" + 0.013*\"come\" + 0.012*\"do\" + 0.012*\"mr\" + 0.011*\"see\" + 0.011*\"take\" + 0.010*\"man\" + 0.010*\"know\"'),\n",
       " (5,\n",
       "  '0.020*\"say\" + 0.015*\"mr\" + 0.015*\"do\" + 0.014*\"take\" + 0.013*\"prisoner\" + 0.013*\"come\" + 0.013*\"go\" + 0.009*\"know\" + 0.009*\"q\" + 0.008*\"value\"'),\n",
       " (6,\n",
       "  '0.027*\"say\" + 0.016*\"do\" + 0.014*\"prisoner\" + 0.011*\"mr\" + 0.011*\"go\" + 0.010*\"take\" + 0.009*\"come\" + 0.007*\"tell\" + 0.007*\"know\" + 0.007*\"man\"'),\n",
       " (7,\n",
       "  '0.023*\"say\" + 0.021*\"prisoner\" + 0.020*\"mr\" + 0.015*\"do\" + 0.014*\"go\" + 0.012*\"see\" + 0.011*\"come\" + 0.010*\"q\" + 0.009*\"take\" + 0.009*\"know\"'),\n",
       " (8,\n",
       "  '0.022*\"q\" + 0.014*\"do\" + 0.014*\"prisoner\" + 0.011*\"say\" + 0.010*\"mr\" + 0.009*\"see\" + 0.009*\"know\" + 0.009*\"come\" + 0.009*\"find\" + 0.008*\"go\"'),\n",
       " (9,\n",
       "  '0.020*\"say\" + 0.016*\"do\" + 0.016*\"prisoner\" + 0.011*\"q\" + 0.010*\"mr\" + 0.010*\"go\" + 0.009*\"see\" + 0.009*\"take\" + 0.008*\"come\" + 0.008*\"know\"')]"
      ]
     },
     "execution_count": 65,
     "metadata": {},
     "output_type": "execute_result"
    }
   ],
   "source": [
    "loaded_model.show_topics()"
   ]
  },
  {
   "cell_type": "code",
   "execution_count": null,
   "metadata": {},
   "outputs": [],
   "source": [
    "# now that is certainly not very interesting\n",
    "# bag of words model is not very good at capturing context\n",
    "# we got a lot of prison related words in our topics"
   ]
  },
  {
   "cell_type": "code",
   "execution_count": 67,
   "metadata": {},
   "outputs": [],
   "source": [
    "# how about using LDAvis to visualize our topics?\n",
    "\n",
    "# we will need to import pyLDAvis\n",
    "import pyLDAvis\n",
    "import pyLDAvis.gensim_models as gensimvis"
   ]
  },
  {
   "cell_type": "code",
   "execution_count": 68,
   "metadata": {},
   "outputs": [],
   "source": [
    "# now lets prepare our data for pyLDAvis\n",
    "# we will use prepare method\n",
    "lda_data = gensimvis.prepare(lda, corpus, dictionary)   "
   ]
  },
  {
   "cell_type": "code",
   "execution_count": 69,
   "metadata": {},
   "outputs": [
    {
     "data": {
      "text/html": [
       "\n",
       "<link rel=\"stylesheet\" type=\"text/css\" href=\"https://cdn.jsdelivr.net/gh/bmabey/pyLDAvis@3.4.0/pyLDAvis/js/ldavis.v1.0.0.css\">\n",
       "\n",
       "\n",
       "<div id=\"ldavis_el183082246288768384459475665\" style=\"background-color:white;\"></div>\n",
       "<script type=\"text/javascript\">\n",
       "\n",
       "var ldavis_el183082246288768384459475665_data = {\"mdsDat\": {\"x\": [0.008730938516579625, 0.009973420879706674, -0.000684636987204543, 0.008630620787336802, 0.007987320524048743, 0.0051032395234621416, -0.019516555334628465, -0.0014108045623597186, -0.017304958346078418, -0.0015085850008628283], \"y\": [0.004341832067604507, -0.002169770239580812, 0.00544952114763886, 0.0035609865013683595, -0.003764028927139436, -0.0034982861262146604, 0.015613520034331085, -0.0005305963310251171, -0.01772254456825232, -0.0012806335587304994], \"topics\": [1, 2, 3, 4, 5, 6, 7, 8, 9, 10], \"cluster\": [1, 1, 1, 1, 1, 1, 1, 1, 1, 1], \"Freq\": [26.62928451328792, 15.476771610857002, 14.554342267571558, 11.465399996608221, 9.218506415546415, 7.2142734448860795, 6.82418245412917, 4.573989708111207, 2.184719017929358, 1.8585305710730466]}, \"tinfo\": {\"Term\": [\"say\", \"do\", \"q\", \"prisoner\", \"mr\", \"come\", \"take\", \"go\", \"man\", \"know\", \"see\", \"find\", \"tell\", \"value\", \"time\", \"give\", \"ask\", \"s\", \"house\", \"think\", \"steal\", \"yes\", \"money\", \"thing\", \"john\", \"day\", \"good\", \"bring\", \"indict\", \"year\", \"heron\", \"bursey\", \"sharpley\", \"dowla\", \"sandal\", \"goodenough\", \"knapper\", \"sinvin\", \"dudey\", \"sowl\", \"riselys\", \"hopkinson\", \"craggs\", \"mcarthur\", \"smallman\", \"dowd\", \"strangeway\", \"ridout\", \"grafton\", \"housden\", \"patriot\", \"southamptonterrace\", \"shephard\", \"mash\", \"weet\", \"founder\", \"fiander\", \"ryve\", \"colton\", \"cave\", \"cubitt\", \"sheep\", \"shill\", \"mr\", \"wayman\", \"money\", \"basket\", \"muslin\", \"field\", \"potato\", \"say\", \"see\", \"prisoner\", \"ask\", \"plate\", \"go\", \"knife\", \"find\", \"house\", \"do\", \"come\", \"give\", \"get\", \"mrs\", \"shilling\", \"shop\", \"letter\", \"q\", \"take\", \"run\", \"away\", \"street\", \"send\", \"know\", \"good\", \"receive\", \"bring\", \"hand\", \"note\", \"swear\", \"tell\", \"hear\", \"crossexamine\", \"steal\", \"leave\", \"time\", \"guilty\", \"s\", \"door\", \"thing\", \"value\", \"man\", \"pinner\", \"scholes\", \"acq\", \"schwartz\", \"bowman\", \"womersley\", \"clove\", \"carolina\", \"drilling\", \"allentransportation\", \"knowin\", \"portington\", \"ilson\", \"benbrook\", \"cambrick\", \"shearwood\", \"maclean\", \"bobin\", \"sellersbuilding\", \"brackleystreet\", \"bagley\", \"toilet\", \"crossan\", \"catherick\", \"prigg\", \"bampton\", \"pleydell\", \"poulter\", \"pause\", \"tourl\", \"thomasstreet\", \"reticule\", \"cooley\", \"felton\", \"nightingale\", \"say\", \"l\", \"know\", \"pot\", \"pewter\", \"q\", \"fight\", \"do\", \"s\", \"wild\", \"schole\", \"counc\", \"man\", \"woman\", \"live\", \"house\", \"ask\", \"hand\", \"take\", \"go\", \"year\", \"prisoner\", \"yes\", \"john\", \"not\", \"see\", \"day\", \"carry\", \"key\", \"leave\", \"give\", \"receive\", \"good\", \"tell\", \"money\", \"mr\", \"value\", \"come\", \"find\", \"door\", \"time\", \"guilty\", \"surman\", \"suddaby\", \"lowrie\", \"prestridge\", \"kingsford\", \"oilcloth\", \"gilbin\", \"branford\", \"plea\", \"rea\", \"dormer\", \"whitford\", \"cowley\", \"edgewareroad\", \"antonio\", \"vickery\", \"henson\", \"burgay\", \"kyle\", \"thane\", \"beda\", \"ida\", \"delile\", \"rowlandson\", \"fairbairn\", \"bonnell\", \"nonsuch\", \"whale\", \"brassfinisher\", \"huzzey\", \"dickson\", \"extort\", \"coombe\", \"gabaldi\", \"ethel\", \"image\", \"original\", \"labour\", \"hard\", \"plead\", \"convict\", \"trial\", \"whalen\", \"guilty\", \"servitude\", \"month\", \"time\", \"see\", \"prisoner\", \"mackenzie\", \"do\", \"intent\", \"say\", \"go\", \"mr\", \"know\", \"come\", \"thing\", \"man\", \"feloniously\", \"steal\", \"tell\", \"q\", \"crossexamine\", \"thomas\", \"think\", \"william\", \"find\", \"good\", \"give\", \"take\", \"indict\", \"property\", \"leave\", \"year\", \"yes\", \"house\", \"value\", \"door\", \"ask\", \"steptoe\", \"riddinghood\", \"sear\", \"changd\", \"davadge\", \"ridinghood\", \"sharke\", \"berrit\", \"vago\", \"arthue\", \"burnand\", \"requester\", \"mackduff\", \"baugham\", \"highnesss\", \"blanchard\", \"freshwater\", \"giusue\", \"highness\", \"westall\", \"leathertrace\", \"veiny\", \"conf\", \"callicoe\", \"ethelbert\", \"peaverly\", \"cotterel\", \"coultrup\", \"cooperative\", \"whitney\", \"izard\", \"whitaker\", \"lake\", \"beef\", \"downing\", \"kennon\", \"cain\", \"shop\", \"man\", \"d\", \"prisoner\", \"come\", \"molloy\", \"shilling\", \"go\", \"open\", \"take\", \"claremarket\", \"healey\", \"see\", \"find\", \"moxon\", \"value\", \"know\", \"cart\", \"piece\", \"defence\", \"produce\", \"oclock\", \"q\", \"live\", \"george\", \"mr\", \"do\", \"december\", \"street\", \"william\", \"say\", \"crossexamine\", \"think\", \"tell\", \"ask\", \"house\", \"guilty\", \"door\", \"steal\", \"give\", \"s\", \"good\", \"yes\", \"time\", \"get\", \"wharnsley\", \"brocklington\", \"berridge\", \"granan\", \"goodyear\", \"torr\", \"rothwell\", \"crawshay\", \"tapp\", \"exposure\", \"rishton\", \"giffard\", \"mathematical\", \"easher\", \"ewell\", \"crux\", \"merrill\", \"reformatory\", \"northey\", \"jules\", \"medhurst\", \"penelope\", \"mallett\", \"jeffrie\", \"swanny\", \"sachell\", \"platelayer\", \"stadward\", \"winfield\", \"mole\", \"moroner\", \"kemp\", \"waggoner\", \"confined\", \"butter\", \"swalling\", \"watch\", \"firkin\", \"wade\", \"bad\", \"give\", \"sydney\", \"posey\", \"tell\", \"go\", \"pig\", \"q\", \"waggon\", \"loosely\", \"find\", \"mother\", \"say\", \"room\", \"take\", \"yes\", \"know\", \"man\", \"hear\", \"do\", \"prisoner\", \"come\", \"mr\", \"live\", \"time\", \"leave\", \"william\", \"bring\", \"pay\", \"week\", \"house\", \"see\", \"year\", \"oclock\", \"door\", \"john\", \"guilty\", \"steal\", \"ask\", \"good\", \"value\", \"engstrem\", \"caperoe\", \"indecency\", \"bengodwin\", \"tannd\", \"alce\", \"cairncross\", \"leak\", \"hogben\", \"waine\", \"calveskin\", \"fortyfour\", \"bertie\", \"broxholm\", \"claude\", \"simond\", \"lever\", \"ouvry\", \"sallis\", \"cherrell\", \"chever\", \"bruin\", \"farrer\", \"amsterdam\", \"cressell\", \"holster\", \"vinall\", \"matson\", \"flanagan\", \"stockham\", \"jennings\", \"gross\", \"cambric\", \"take\", \"value\", \"s\", \"king\", \"come\", \"mr\", \"say\", \"do\", \"candlestick\", \"silver\", \"go\", \"watch\", \"know\", \"open\", \"time\", \"mark\", \"bring\", \"away\", \"day\", \"house\", \"door\", \"tell\", \"produce\", \"man\", \"q\", \"give\", \"charge\", \"prisoner\", \"live\", \"see\", \"street\", \"send\", \"court\", \"find\", \"ask\", \"good\", \"yes\", \"year\", \"think\", \"oclock\", \"steal\", \"thistleworth\", \"wilcoxon\", \"nesbitt\", \"rodd\", \"pimm\", \"murdo\", \"bartrum\", \"catherinecreed\", \"fazakerley\", \"hector\", \"nitson\", \"barrimore\", \"geofry\", \"coate\", \"allworthy\", \"fleay\", \"tice\", \"coney\", \"degen\", \"hume\", \"ashlee\", \"dagney\", \"goss\", \"knox\", \"yarn\", \"coxon\", \"aldersey\", \"artichoke\", \"fairforth\", \"clinch\", \"mmurdo\", \"mare\", \"gore\", \"box\", \"soden\", \"wire\", \"almond\", \"barnard\", \"darby\", \"prisoner\", \"value\", \"article\", \"john\", \"steal\", \"handkerchief\", \"curtis\", \"do\", \"plead\", \"indict\", \"acceptance\", \"insulate\", \"headclothe\", \"shrimpton\", \"william\", \"indictment\", \"property\", \"time\", \"january\", \"acquit\", \"book\", \"l\", \"thing\", \"receive\", \"sell\", \"find\", \"mr\", \"see\", \"go\", \"guilty\", \"good\", \"day\", \"say\", \"q\", \"come\", \"know\", \"take\", \"tell\", \"produce\", \"give\", \"month\", \"away\", \"house\", \"man\", \"ask\", \"gannon\", \"trent\", \"christy\", \"bassano\", \"bidgood\", \"hopton\", \"palfreman\", \"byhen\", \"maylum\", \"glasford\", \"christiana\", \"grady\", \"whelon\", \"teawen\", \"yarman\", \"delamont\", \"bagnal\", \"mlaren\", \"wpbsley\", \"disgrange\", \"muncreef\", \"macclery\", \"rowlet\", \"bastock\", \"cragie\", \"pleading\", \"burk\", \"westmoreland\", \"cary\", \"whalebone\", \"carnelly\", \"stapleton\", \"soden\", \"radborn\", \"chaldron\", \"rein\", \"john\", \"do\", \"crofts\", \"say\", \"s\", \"watch\", \"lester\", \"value\", \"q\", \"man\", \"prisoner\", \"oclock\", \"pair\", \"thing\", \"load\", \"house\", \"acquit\", \"ask\", \"property\", \"piece\", \"take\", \"tell\", \"see\", \"indict\", \"jury\", \"custody\", \"come\", \"find\", \"go\", \"mr\", \"know\", \"time\", \"live\", \"seven\", \"think\", \"leave\", \"door\", \"steal\", \"give\", \"good\", \"becket\", \"griffis\", \"faulkener\", \"sibly\", \"indicted\", \"colstain\", \"lewington\", \"mendal\", \"balak\", \"xciv\", \"redd\", \"convictable\", \"fitzgenald\", \"tawney\", \"trott\", \"hubbins\", \"peregrine\", \"stapley\", \"cowly\", \"birk\", \"bellamy\", \"knill\", \"eldridge\", \"leghorn\", \"parcels\", \"hampson\", \"lockt\", \"masse\", \"columbia\", \"wildet\", \"rawlin\", \"sharpe\", \"logwood\", \"hogan\", \"waste\", \"q\", \"stave\", \"boat\", \"timber\", \"perkin\", \"find\", \"do\", \"fletcher\", \"yes\", \"man\", \"watch\", \"think\", \"know\", \"prisoner\", \"come\", \"see\", \"money\", \"smith\", \"person\", \"mr\", \"pay\", \"crossexamine\", \"office\", \"swear\", \"print\", \"say\", \"work\", \"steal\", \"go\", \"time\", \"indict\", \"produce\", \"tell\", \"take\", \"good\", \"give\", \"ask\", \"thing\", \"house\", \"value\", \"guilty\", \"ohrland\", \"pidworth\", \"lasser\", \"carrington\", \"spence\", \"sparrow\", \"whiteman\", \"eserard\", \"crab\", \"philippia\", \"trisina\", \"edmonds\", \"silas\", \"pooley\", \"reardon\", \"leaper\", \"minott\", \"confessionon\", \"chared\", \"chidley\", \"clough\", \"hardey\", \"ashbridge\", \"grinley\", \"ethelburgh\", \"madlock\", \"levett\", \"swain\", \"hardwicke\", \"hopgood\", \"twinam\", \"stow\", \"confest\", \"say\", \"do\", \"tell\", \"take\", \"coat\", \"prisoner\", \"time\", \"mr\", \"man\", \"come\", \"go\", \"think\", \"value\", \"give\", \"ask\", \"year\", \"use\", \"bring\", \"know\", \"day\", \"letter\", \"want\", \"cheque\", \"thing\", \"room\", \"see\", \"money\", \"house\", \"good\", \"find\", \"get\", \"q\", \"oclock\", \"property\", \"s\", \"steal\"], \"Freq\": [8586.0, 5954.0, 4114.0, 7690.0, 5636.0, 3989.0, 3718.0, 5395.0, 2489.0, 3808.0, 4275.0, 2864.0, 2325.0, 1983.0, 2138.0, 2478.0, 2142.0, 1688.0, 2457.0, 1141.0, 1541.0, 1473.0, 1609.0, 1355.0, 1503.0, 1328.0, 1742.0, 1190.0, 1168.0, 1361.0, 11.604730892872583, 5.744731539722355, 6.56876546650721, 4.385480708538234, 4.363352330232931, 2.5110808408225327, 2.5093896561355025, 2.508733791260908, 2.5082062943555314, 4.937816328978227, 3.2694558175006527, 4.806776981414198, 3.238160524731903, 6.232470216380617, 4.6196320656589736, 2.2782012810781604, 2.2460732522420233, 24.589019689449778, 5.069512904961288, 9.835020071251972, 2.8999855312017337, 2.147408929849441, 2.8509789649379895, 2.8658125752929817, 3.4567869544676717, 2.081686672322378, 3.457392368198067, 5.547868837550801, 4.825492602783683, 2.717448616478114, 7.658526543751623, 98.21294243356681, 97.31061573308257, 2113.7982404500617, 11.94922221382289, 615.1724574279546, 47.869401369326944, 27.48427489020463, 93.66650192707326, 20.113684519131763, 2495.151955216589, 1318.9429023821338, 2209.3070638879904, 707.4263273174394, 135.05419274014986, 1534.4013493295445, 163.06773480599531, 870.6599065271504, 761.7323347513498, 1602.7551245130296, 1131.2203518029698, 753.8371787058577, 460.62911001291815, 316.76475590102496, 175.97746810938514, 408.6512573105656, 250.12328086415025, 1076.3545400313574, 970.052653058458, 268.64988224948615, 354.5752852774943, 337.05783767641617, 326.13591841290275, 933.6015416447624, 503.0080836072663, 359.8517877343748, 363.6649498839446, 356.5094177416058, 295.7916160768707, 297.4639480089195, 559.4202139881615, 354.2382856592695, 368.031109557383, 407.5175114064299, 391.59383064439777, 481.2414388371219, 427.96064228676914, 414.28537929424385, 372.16882956655854, 366.01714039768433, 381.40146219689916, 381.9758276308608, 2.531758708226466, 3.3369734640100837, 3.529511380892046, 2.087676372127279, 5.066276164369113, 1.3273388189854245, 1.3269776729803104, 1.3268243840489862, 1.3266056586314687, 1.3263947448360056, 1.3262550413343408, 1.326248927890994, 1.3258747625157896, 1.3258695547677535, 1.3256367910729212, 1.325496068664032, 1.3248620819465904, 1.3248582327415201, 1.2998350034279254, 1.299524349936379, 2.552121908743037, 1.2554904628407269, 15.112366743125612, 4.537859103725215, 1.8259501262279414, 2.6305580661534362, 6.7804883958862385, 1.2323045496766607, 1.202430869126982, 1.1427487180899898, 2.2999213132732605, 9.67753191037255, 9.009280022243788, 6.599300426213275, 2.6676100613113483, 1947.8805565622238, 201.32756126290204, 776.5229876890154, 54.31202270001184, 15.515457309465644, 754.2798643984178, 50.45874562371372, 1018.8596356054134, 355.53870778028664, 10.704094071597819, 5.0595790003946535, 23.644121629925166, 471.2167212565658, 164.11088896082984, 314.1011620347999, 464.51837263263894, 410.33049177746466, 241.8671644496168, 617.0171463856823, 829.5978342174866, 271.37248603672765, 1056.9383704408315, 276.73678169590755, 280.5646413390081, 150.22840573060364, 602.2429807626712, 245.19079090825795, 97.86605883466208, 97.93655815764158, 250.99129841128763, 372.8276922128579, 211.72476953544566, 286.01371007926303, 353.0358006754518, 267.9314235013289, 626.754834578587, 301.2759657735168, 480.1402400841506, 355.10548110818064, 226.80194458158138, 261.6516075487883, 216.03967588879112, 3.3880927191920076, 2.2948163565348585, 2.290022052433055, 4.226030441461147, 2.236769206770023, 3.6542276997460266, 2.080791007097656, 2.0677193101350633, 3.517571082184419, 2.028103061451594, 3.128901771564265, 1.988126963153093, 6.742609978800216, 1.939952255637331, 11.746120852060022, 2.977196626373821, 1.203442193011368, 1.2033472267816023, 1.203311880606398, 1.2032909071229183, 1.2032727017134004, 1.2032572643778445, 1.2031352561947597, 1.2030457196485345, 1.2030084571144337, 1.202969171757053, 1.202939148801006, 1.2029052931271658, 1.2031033168798162, 1.2028825097491727, 3.532287228009076, 4.89649159774945, 3.6092060414014986, 4.815279288713539, 2.9652841136149157, 46.105077382878285, 49.48592626544107, 85.89275927466376, 95.10717157468221, 123.47788897363584, 64.68844057119867, 54.02042320376745, 1.728583724881522, 434.0067423250916, 40.072134282388426, 267.42929105622414, 462.4191937622382, 759.0145610001475, 1124.7807475993143, 47.64673616058788, 881.8336177091372, 57.65808461963852, 1125.4290867343575, 775.0411402931928, 789.1240649252126, 555.7128731790134, 556.8822166399978, 244.5945512378184, 385.6970004960383, 120.37988103677272, 260.01119352467856, 340.62966296913567, 509.7112655491114, 217.9000431557086, 177.077830670313, 197.3136539526002, 202.53889180877394, 365.2402491395683, 259.75219038022266, 326.64106748401286, 413.90228757445516, 197.17793826725685, 187.82407636304933, 215.5337334107464, 206.87021041487552, 211.9069398791068, 261.2894474944755, 237.53812599154372, 197.53327379244294, 210.49399228204467, 3.189253300304763, 2.135076862753931, 2.1136273904903504, 2.0996640566206985, 2.467826069440062, 2.0194795133282586, 1.899478878691315, 1.1367076327843668, 1.1364818576941085, 1.1360428878492304, 1.1358961172667816, 1.1358830337177175, 1.1358330478507808, 1.135648368523608, 1.136132711445689, 1.1353248022909868, 1.135095588575654, 1.1349301990964602, 1.1352105728433894, 1.1345831495706473, 1.1343246656077288, 1.1336115283148365, 1.1219393251716614, 1.1222943422433789, 1.0841329843798546, 1.0962637826915038, 1.0894654531813823, 1.0712232116854716, 1.080576271888148, 2.760648142352454, 1.6445400543559332, 3.251519587678435, 2.6241625713704844, 10.214669610347157, 2.0920197414733424, 6.417260743888335, 4.5485065673201275, 272.40854130277177, 452.99084700634563, 163.98180203419017, 1082.9925853411182, 605.5595323744872, 4.177304474459277, 97.55246622240455, 712.3278626912294, 135.46775943035286, 488.519529101504, 5.42000378332702, 3.813672724372228, 512.3504716495192, 373.2659952166963, 4.823970293118567, 272.32562246546274, 451.86021366282097, 52.02971858599648, 120.74071263473675, 132.2767368316439, 162.73881388081614, 190.6517271198224, 445.2089291542029, 209.465392956579, 97.83214016719666, 546.4703064462461, 568.1723690371051, 131.68924119588874, 153.57619647641283, 170.0176471300573, 703.4139803283135, 176.41478604643643, 159.5821869261696, 263.1593336159067, 241.6326630452386, 261.60562526223856, 205.8018918664609, 178.95385875004231, 184.00473669910227, 233.02668825504378, 189.3730550960166, 181.37007759888846, 170.46779636439717, 184.34605227566914, 165.77811561887154, 1.829722433996258, 1.8292092690560988, 1.605256806409345, 1.9636641477476975, 1.5334512075211957, 0.9586799059507899, 0.9586709373651078, 0.958450498969657, 0.9584384959000974, 0.9583838077573288, 0.9583065295679172, 0.9582893341592785, 0.958229790842306, 0.9581741586378867, 0.9580730766082811, 0.9580142076210592, 0.9579334903499198, 0.9578686872608931, 0.9578409048751709, 0.9578378029583184, 0.9577074550175396, 0.957674008261913, 0.9574485123933332, 0.9574317215825447, 0.9566955557938828, 0.9562616920323869, 0.955737602950269, 0.9498030291147125, 1.9565181405153, 0.9457581969720626, 2.2799148206695388, 11.922014044627629, 3.2343603403848027, 1.8280697866436404, 25.990813493790853, 1.868495315724571, 144.48802497467636, 10.649263573838484, 4.489165008388838, 112.89147481791053, 328.350848123344, 8.139764827909502, 2.431333947761363, 301.03744201931465, 575.697434681215, 13.68485335204871, 455.3931057830967, 10.957087013001907, 3.3294491968995157, 317.42771604086875, 64.80450889538918, 732.9895078034982, 146.24863629660166, 371.525940038714, 179.6077139507119, 362.6540478481526, 262.3351178403875, 150.46365254490942, 492.13278297327184, 590.3160577936318, 362.90235656192493, 467.9421903914891, 172.53360861149105, 219.55665697393536, 164.48380746426025, 143.07434498066286, 141.7692051032959, 133.85729953487584, 84.61318807614232, 222.36758273674604, 321.8525621289918, 144.04399879410795, 136.2139795148828, 140.11753094337422, 144.42006116724298, 157.40911518842452, 144.6537827798517, 155.71949730263583, 147.9408263457908, 151.54649881081596, 3.6742855884390186, 1.2821436032507267, 4.803641409079339, 0.7951711819520881, 0.7951302308042704, 0.7949541303142343, 0.794903310784146, 0.7948115401062399, 0.7947687947071003, 0.7947638341299161, 0.7947098482739656, 0.7945353309468607, 0.7945008179949627, 0.794349203758261, 0.7943101524059606, 0.7941149484165559, 0.7938759435860575, 0.7938254934606531, 0.7938136725107676, 1.2086398814204422, 0.7650300289441448, 0.758692522186756, 0.7519367965550683, 0.731361008432636, 0.7288888995157232, 0.6818652664152132, 1.7471503249176226, 2.171099826850347, 1.2008520918739702, 0.6573228635689097, 2.484626669576316, 6.6826527412631105, 3.516243710237073, 402.36170835875686, 230.2031775003777, 198.6219089867833, 37.00539918134818, 366.4165639467859, 442.9425564778439, 573.5175254543874, 422.639352282767, 8.921315629361082, 46.75652776124983, 366.2596357709339, 78.60192695650116, 273.9716832300868, 78.0107511204822, 169.9258168633111, 59.32982031355521, 109.05596995349534, 101.2433758323958, 114.63772116702299, 178.780032559354, 117.53258398122284, 170.11461432005453, 95.72398519563579, 173.19826108134083, 247.27660097426894, 171.1174631793733, 82.1879775975802, 371.5872230522653, 118.33143701965959, 224.61065233538295, 90.93607493779342, 88.4724133561043, 81.95813780283413, 160.51147727789143, 127.90288040647242, 110.84984300501236, 102.0345688953067, 97.68123728422809, 91.99649520046904, 94.76472524466641, 97.0592121464221, 1.9837487511967633, 1.9704522334911372, 3.326966400225238, 1.8424425755953966, 1.7698591355711524, 1.1030233278194699, 1.102991879102096, 1.1029040223678457, 1.10272201915587, 1.1025033756922238, 1.1024794147647008, 1.102413122865221, 1.1023402417106722, 1.10233834480391, 1.1022576763479164, 1.1022343144435816, 1.1020812640190292, 1.1017461105453032, 1.101726941803285, 1.1015894659816223, 1.10143591637108, 1.100623740765253, 1.1004857657576004, 1.0995757496977216, 1.085840347669635, 1.0847452334446421, 1.4944742986440973, 1.0623859940894822, 1.0559836342553726, 1.0430213714886902, 2.0728223012166396, 35.86244482029587, 3.663658964195871, 116.05069507327171, 2.534548775559069, 16.288055480807557, 7.599260079219751, 10.365483668532674, 1.9665481997000784, 723.5967531168884, 217.11756788568465, 46.34699592857275, 165.70891866682632, 162.1818445771378, 58.620933130305545, 7.491837650251656, 423.096972092543, 53.130714690346, 124.03069349213222, 6.240100825761522, 3.6017183691540953, 1.8576697450361777, 5.653191883296654, 122.70106009161404, 39.505563279372765, 110.37589123204702, 177.30259555181394, 57.97105526965938, 30.96208371493288, 68.74533871875242, 78.07452904457043, 116.4019431020149, 104.11592320322991, 67.1271518550522, 185.8966965691338, 290.7610121878226, 233.90343080452175, 270.18326539789496, 128.85721660324074, 127.25638384064776, 106.02210124701294, 334.56721053061267, 191.89349693878177, 186.4463410777663, 177.0772222623242, 172.35536048263555, 128.692978821628, 88.07933446198449, 125.20281094990541, 87.9952284115889, 88.50117457800037, 117.82216797731154, 107.37934402561814, 102.96505110119365, 1.1698482871188836, 1.1231689444301205, 1.844761841424805, 1.0171995358739516, 0.9813002659947833, 0.6127503369875008, 0.6126086735437286, 0.6125385444511102, 0.6125402842950111, 0.6124805942657977, 0.6124747055633641, 0.6124724303828784, 0.6124602514755725, 0.6124294027048692, 0.6124275290268221, 0.6123909253878315, 0.6123675713293163, 0.6123191902854583, 0.6122688017294072, 0.6122615077684382, 0.6122197515148181, 0.612197535046546, 0.6121494216709804, 0.6121328262368494, 0.6120398115052276, 0.6120999030368797, 0.6119233757980177, 0.611175109086511, 0.6099131869218182, 0.5978783520743535, 1.76255247726629, 3.2278767142206584, 2.04314874672522, 3.16441122374246, 0.8805493853850331, 1.575376456892147, 117.96665849268265, 302.54842599912456, 1.2735204994722875, 377.0004686077033, 112.38659258967962, 57.612349383251384, 1.8763040068396895, 122.1251873455203, 202.4366644659377, 139.85458427875105, 302.0981608216266, 84.2616187128809, 40.40101693531963, 82.08973677458631, 8.45116862090801, 123.17052410537812, 20.016286300726858, 109.03242194503856, 67.27161582259919, 49.79859372121062, 158.7510235323911, 113.55703536807601, 171.6482154889942, 69.43810585081094, 51.962154387629944, 41.90401080023934, 155.37934524007832, 123.7102376021694, 184.04164287115344, 187.78750858821465, 145.50640241489782, 94.82935990214415, 76.99634750223798, 42.007386436124726, 63.89363768935564, 73.21906395168375, 71.04411988812367, 69.99810218012989, 82.9286820088584, 64.56957079218746, 1.1158140351496886, 0.5850608027041949, 0.5848180813781968, 0.5847198294219, 0.5846356408555741, 0.5846302711975851, 0.5845497263277517, 0.5845432060287652, 0.5843575692811491, 0.5842113100254516, 1.1664014552140824, 0.572282103407119, 0.5234369455866225, 0.4845194224068472, 1.0756275147607874, 0.4801846381463108, 0.45627406251775376, 1.697619930169614, 0.4300903316738972, 0.601487161812728, 0.6080465186686644, 0.5857690222382305, 0.587436684590782, 0.39870468072879733, 0.5819387940551507, 0.5840527133412795, 0.38976950591077375, 0.38687168048276593, 0.34578465566422684, 0.35032233628734366, 0.6853044546434083, 0.8143610521060415, 3.0806193252658094, 4.751879348669931, 5.746460186273309, 192.18024352516431, 2.6035129394483834, 5.202388539978355, 5.118835638879129, 3.8021100968698907, 77.06398955354094, 125.77538305678215, 4.136723402823968, 46.32328464971542, 65.08089304763192, 26.69321217617903, 36.370716641367615, 79.08619661540736, 121.43975959541147, 78.95972224811688, 81.39071063336202, 44.24723372591233, 19.143409630686723, 33.14928800756498, 87.25716733380719, 32.048301515857624, 33.29825766205693, 18.06521708144424, 26.057853787092842, 8.870228037553895, 93.32659506064866, 22.625854782349624, 34.411579025258774, 69.30183288786374, 41.27048353059574, 29.38299966623301, 27.29229008751624, 40.72156333883481, 50.08283483736531, 33.33002762709524, 38.994186298278734, 36.17254864619339, 29.01574574355243, 31.99002078223414, 29.908645203290067, 28.26362337440369, 0.7455005427029742, 0.6230416390588351, 0.39053553305415595, 0.3905294424625228, 0.3904749262293777, 0.390453663538944, 0.39044376632754013, 0.39039645548181817, 0.3904027364044399, 0.3903221992061477, 0.39020568945102213, 0.39018891313388965, 0.3900952159072472, 0.39007221304777556, 0.38999221965230774, 0.3898867762846585, 0.3897825292832229, 0.3896538111546897, 0.38927469901566614, 0.3893203512627737, 0.7721974547607605, 1.3508747349410446, 0.5457320736702546, 0.34190104406750466, 0.3357398940178702, 0.5055006706373512, 0.31568284163602894, 0.31021310968746535, 0.3146319154877537, 0.30588571714195695, 0.46549244428357733, 2.353478346719819, 0.5895228293296391, 203.02408776983464, 116.5029736868517, 55.5840339300724, 73.79538319990476, 19.624980808398206, 107.80424454215932, 46.059500607697935, 83.57423526651387, 49.65335687082305, 65.57759501327209, 79.09858314673842, 29.670682576484936, 39.7146841994215, 45.12936981584677, 41.21291405577206, 30.132961961780605, 16.6926480649182, 27.21796478225764, 52.03951145917596, 27.41292288026637, 18.359166188600362, 16.880565438998982, 13.28854157387093, 26.83859749094883, 23.25554941771903, 49.63576724218646, 27.900869758873252, 34.70774107063945, 28.093631763555962, 35.88675083831232, 24.60224709440537, 40.14077850973998, 23.2826142667678, 21.605359300120877, 25.15052215322332, 24.29759222057614], \"Total\": [8586.0, 5954.0, 4114.0, 7690.0, 5636.0, 3989.0, 3718.0, 5395.0, 2489.0, 3808.0, 4275.0, 2864.0, 2325.0, 1983.0, 2138.0, 2478.0, 2142.0, 1688.0, 2457.0, 1141.0, 1541.0, 1473.0, 1609.0, 1355.0, 1503.0, 1328.0, 1742.0, 1190.0, 1168.0, 1361.0, 13.463510537900847, 6.82572542457525, 7.855023750120819, 5.437620801482028, 5.412250859299399, 3.2505572274549497, 3.2488734419296543, 3.2482285020688764, 3.2477011112642704, 6.435828344391439, 4.380994630472621, 6.491980388860393, 4.39256022877521, 8.607970913519242, 6.54333048695402, 3.2524709540719163, 3.209849898756384, 35.46111175759975, 7.443957041522821, 14.475604143266194, 4.271982211174368, 3.1655660923308075, 4.229780773628896, 4.321247987067371, 5.240276820598841, 3.1663207015871144, 5.28303905791744, 8.490834682790394, 7.421405808534145, 4.189220233392185, 11.9160359903773, 158.22580898156335, 197.81334863357125, 5636.412116645798, 20.587488449478258, 1609.3400162344597, 95.16606628299958, 51.95031458719996, 207.92712760385106, 37.43653550654237, 8586.300974068168, 4275.59225442791, 7690.860966191237, 2142.8887878794935, 323.1159282289408, 5395.950581287252, 404.700063762801, 2864.7684998735126, 2457.9838493723664, 5954.316636956025, 3989.4842649895495, 2478.055987033379, 1396.2235846913777, 911.8676890915103, 456.80218159926994, 1249.2144376488109, 702.8776047322328, 4114.875489330079, 3718.3638665698672, 780.8420158587896, 1108.646785203427, 1046.2177017429437, 1012.2312491996655, 3808.0326800056573, 1742.1843450399301, 1154.2630785108965, 1190.4243062893056, 1165.8968672003855, 917.4520627126253, 926.2388406831149, 2325.9526790466366, 1214.9915932932845, 1297.6538416429105, 1541.2544467400965, 1447.1397387458233, 2138.602705853316, 1763.7370137751516, 1688.8006484199864, 1397.3030420177647, 1355.4092513342089, 1983.1569373725324, 2489.381953534363, 3.270240757926274, 4.366610114740238, 4.775325925338683, 3.1549024884755386, 7.847165353629923, 2.0658104154020362, 2.0654468885890216, 2.0653069277913234, 2.065079232702682, 2.064869693022668, 2.0647290540681174, 2.0647253409850665, 2.0643510361305433, 2.064356681506454, 2.0641144475936257, 2.0639848720644345, 2.063338060408798, 2.0633476448239025, 2.057024076333076, 2.057886631746025, 4.118628194142964, 2.035380100594911, 24.51050045564833, 7.396147727963912, 2.9864734297587363, 4.328011256075661, 11.176743260660254, 2.064282863066963, 2.0283975058662262, 1.9660776881260988, 3.9668830850738037, 17.868940114625897, 17.022093634297228, 12.703752607162992, 4.694818861952361, 8586.300974068168, 751.4961840916918, 3808.0326800056573, 168.73133995567545, 38.27133237577114, 4114.875489330079, 158.91707029723565, 5954.316636956025, 1688.8006484199864, 24.978998568031944, 10.198377185864441, 65.4299154137784, 2489.381953534363, 689.2860402178077, 1523.147257849692, 2457.9838493723664, 2142.8887878794935, 1165.8968672003855, 3718.3638665698672, 5395.950581287252, 1361.6013485115418, 7690.860966191237, 1473.4928907035526, 1503.4861048819685, 689.537514550376, 4275.59225442791, 1328.7441696353837, 403.04565533956867, 403.4974871391108, 1447.1397387458233, 2478.055987033379, 1154.2630785108965, 1742.1843450399301, 2325.9526790466366, 1609.3400162344597, 5636.412116645798, 1983.1569373725324, 3989.4842649895495, 2864.7684998735126, 1397.3030420177647, 2138.602705853316, 1763.7370137751516, 4.137855523100211, 3.0445736839368336, 3.0397931528202773, 5.630583651995789, 3.0258167362472435, 5.241765311867888, 3.0153851546516504, 3.019669008133284, 5.146199568574035, 3.0115797377889337, 4.75311448023409, 3.0760755404569875, 10.625100698337079, 3.0591419347194604, 18.83782055459844, 4.797128295301335, 1.953197330935415, 1.9531072732595456, 1.9530656768859154, 1.9530456383062575, 1.9530297911594257, 1.9530119220547677, 1.9528863233209517, 1.9527989055272343, 1.9527626447902675, 1.9527266249961626, 1.9526996356284807, 1.9526583265806943, 1.9529804590492137, 1.9526359303923504, 5.824594196711114, 8.155665212384738, 6.100002459770867, 8.237707059183004, 5.03144364911747, 91.92591947398583, 101.3576473274453, 200.80330862552492, 247.43364482000823, 357.3000034352652, 174.9162828081692, 143.06385969740106, 2.940331967778455, 1763.7370137751516, 113.99935177509835, 1090.8082393964485, 2138.602705853316, 4275.59225442791, 7690.860966191237, 153.4418833877155, 5954.316636956025, 197.01650342756275, 8586.300974068168, 5395.950581287252, 5636.412116645798, 3808.0326800056573, 3989.4842649895495, 1355.4092513342089, 2489.381953534363, 539.2649695272279, 1541.2544467400965, 2325.9526790466366, 4114.875489330079, 1297.6538416429105, 977.8007109466153, 1141.4266794460598, 1203.6619074375376, 2864.7684998735126, 1742.1843450399301, 2478.055987033379, 3718.3638665698672, 1168.607305098298, 1087.2267042417932, 1447.1397387458233, 1361.6013485115418, 1473.4928907035526, 2457.9838493723664, 1983.1569373725324, 1397.3030420177647, 2142.8887878794935, 3.9549611487282035, 2.9226861643336806, 2.9082008002914126, 2.9354978277734163, 3.49018515621613, 2.858573935262597, 2.885360823378143, 1.8925454562053068, 1.8923209277698423, 1.8918910720877464, 1.8917439873822586, 1.8917289069182082, 1.891670925739644, 1.8914949307339692, 1.8923947951453626, 1.8911661328276745, 1.8909397882600436, 1.8907757321258511, 1.8914682251307364, 1.8904263426969292, 1.8908181145286638, 1.8915449460832543, 1.8912710639699777, 1.891948832601729, 1.8755584291987555, 1.8979889558943037, 1.8983729568184509, 1.872409194960055, 1.8947075035186032, 4.8461178220064465, 2.920426693732019, 6.013257561734083, 4.825067573487645, 22.196558762477544, 3.897810685123854, 14.199840214456922, 9.690694048853182, 1249.2144376488109, 2489.381953534363, 759.4227383725978, 7690.860966191237, 3989.4842649895495, 9.293719345273304, 456.80218159926994, 5395.950581287252, 745.3344342739632, 3718.3638665698672, 13.399793351414926, 8.598495552344973, 4275.59225442791, 2864.7684998735126, 11.662876371987556, 1983.1569373725324, 3808.0326800056573, 238.7124005665573, 707.5554398640802, 814.7678903348464, 1069.677392352167, 1316.6201272211629, 4114.875489330079, 1523.147257849692, 555.2527287215001, 5636.412116645798, 5954.316636956025, 844.692303557151, 1046.2177017429437, 1203.6619074375376, 8586.300974068168, 1297.6538416429105, 1141.4266794460598, 2325.9526790466366, 2142.8887878794935, 2457.9838493723664, 1763.7370137751516, 1397.3030420177647, 1541.2544467400965, 2478.055987033379, 1688.8006484199864, 1742.1843450399301, 1473.4928907035526, 2138.602705853316, 1396.2235846913777, 2.6017855363991638, 2.6012762187707663, 2.54920354384114, 3.1777626724507457, 2.5445842311713656, 1.7307393217758067, 1.7307302284521873, 1.730514634606223, 1.7304999543426374, 1.7304442008337744, 1.7303720908463438, 1.7303501175332898, 1.730294844003715, 1.7302366937119964, 1.7301392584395026, 1.730080807035298, 1.729995696716682, 1.729938968627785, 1.729902949379904, 1.7298976170875897, 1.7297703493656202, 1.7297457127097755, 1.7295213828215672, 1.7294939145476118, 1.7303834891460692, 1.730735860347485, 1.7299948458089829, 1.732268200911105, 3.581009110758364, 1.7321137403908344, 4.411739108796878, 27.636431136871167, 6.846214649923308, 3.600391758500562, 75.02391773129285, 3.7340639806795166, 699.1125047026338, 30.60916634021809, 11.624476800340114, 629.4160646336294, 2478.055987033379, 24.440714645939156, 5.50576444136758, 2325.9526790466366, 5395.950581287252, 48.5850488184219, 4114.875489330079, 36.81690676056963, 8.333966043820782, 2864.7684998735126, 380.89200976580304, 8586.300974068168, 1107.5689561905556, 3718.3638665698672, 1473.4928907035526, 3808.0326800056573, 2489.381953534363, 1214.9915932932845, 5954.316636956025, 7690.860966191237, 3989.4842649895495, 5636.412116645798, 1523.147257849692, 2138.602705853316, 1447.1397387458233, 1203.6619074375376, 1190.4243062893056, 1152.3077247532203, 611.303800280343, 2457.9838493723664, 4275.59225442791, 1361.6013485115418, 1316.6201272211629, 1397.3030420177647, 1503.4861048819685, 1763.7370137751516, 1541.2544467400965, 2142.8887878794935, 1742.1843450399301, 1983.1569373725324, 6.477742428012447, 2.3505557813742506, 9.074030149755187, 1.582133947121353, 1.5820952156612746, 1.5819186171936297, 1.5818684060577906, 1.5817770023694293, 1.58173238496642, 1.5817294014115402, 1.5816756498456928, 1.5815043641337205, 1.5814769026566247, 1.581312158157172, 1.5812728541484342, 1.5810879435777998, 1.5808446165402912, 1.5807953251382691, 1.5807887832639531, 2.4484190395994467, 1.6010715733724683, 1.6037306079481264, 1.611049647485954, 1.6140771559479894, 1.624542641682976, 1.6016843817972095, 4.106814823365385, 5.190002159775356, 2.9328398684071675, 1.6452402617241448, 6.522337785548898, 20.887089772458935, 10.639227334532343, 3718.3638665698672, 1983.1569373725324, 1688.8006484199864, 218.64470909379725, 3989.4842649895495, 5636.412116645798, 8586.300974068168, 5954.316636956025, 37.253885618562734, 344.342135452927, 5395.950581287252, 699.1125047026338, 3808.0326800056573, 745.3344342739632, 2138.602705853316, 521.5883525768395, 1190.4243062893056, 1108.646785203427, 1328.7441696353837, 2457.9838493723664, 1397.3030420177647, 2325.9526790466366, 1069.677392352167, 2489.381953534363, 4114.875489330079, 2478.055987033379, 875.8242448095632, 7690.860966191237, 1523.147257849692, 4275.59225442791, 1046.2177017429437, 1012.2312491996655, 893.5083026283556, 2864.7684998735126, 2142.8887878794935, 1742.1843450399301, 1473.4928907035526, 1361.6013485115418, 1141.4266794460598, 1316.6201272211629, 1541.2544467400965, 2.8232356824697504, 2.8733582798331696, 4.928758910309214, 2.8716905974990317, 2.917490872651606, 1.8619130957450083, 1.8618866940991448, 1.861801090184158, 1.861621776016027, 1.8614029680889708, 1.86137486192798, 1.8613104071932416, 1.8612384638013093, 1.8612383544003415, 1.8611559957284354, 1.8611335941542746, 1.860972537076508, 1.8606492327781876, 1.8606322461798916, 1.8604895565768398, 1.8603451833216158, 1.8595299075981697, 1.859388844709926, 1.8597219768190572, 1.8538317470013725, 1.8610532753056883, 2.576481353685942, 1.8478844502227583, 1.8464825726212828, 1.8422161093102716, 3.870780280899012, 111.70963661434081, 8.184068483387582, 583.499798389621, 5.280748570315324, 56.93287727134294, 21.661472419275384, 32.68903797225304, 3.9001492830270297, 7690.860966191237, 1983.1569373725324, 267.5661729436586, 1503.4861048819685, 1541.2544467400965, 391.581286767174, 24.491899576082957, 5954.316636956025, 357.3000034352652, 1168.607305098298, 19.676237956142895, 9.332128790571389, 3.786516661728878, 17.3935882875253, 1203.6619074375376, 251.5540661963191, 1087.2267042417932, 2138.602705853316, 468.24482115082515, 192.0298987838457, 606.0921688462729, 751.4961840916918, 1355.4092513342089, 1154.2630785108965, 611.8202192623559, 2864.7684998735126, 5636.412116645798, 4275.59225442791, 5395.950581287252, 1763.7370137751516, 1742.1843450399301, 1328.7441696353837, 8586.300974068168, 4114.875489330079, 3989.4842649895495, 3808.0326800056573, 3718.3638665698672, 2325.9526790466366, 1069.677392352167, 2478.055987033379, 1090.8082393964485, 1108.646785203427, 2457.9838493723664, 2489.381953534363, 2142.8887878794935, 1.9734449534819403, 2.0155830910464583, 3.43198014683806, 2.0407405361190043, 2.0758480064354643, 1.4163426765097964, 1.4162026725699466, 1.416131231830586, 1.4161375361024202, 1.4160744716908127, 1.416067471138147, 1.4160719220726692, 1.4160524967200876, 1.4160234901891982, 1.416021897125004, 1.4159881149249245, 1.4159650241811246, 1.4159123987826265, 1.415863158292188, 1.4158563029008164, 1.415821549061748, 1.415794334881618, 1.4157437026483595, 1.415728364045636, 1.4156354908794435, 1.415784002724704, 1.4155267911683682, 1.416775547981488, 1.4162619685706148, 1.4312239899143804, 4.263358834365652, 8.445517348079525, 5.280748570315324, 8.69497218980298, 2.1656713886392565, 4.809059696497249, 1503.4861048819685, 5954.316636956025, 3.7837505005175864, 8586.300974068168, 1688.8006484199864, 699.1125047026338, 6.457918474900061, 1983.1569373725324, 4114.875489330079, 2489.381953534363, 7690.860966191237, 1316.6201272211629, 496.7878011839985, 1355.4092513342089, 56.43772557718306, 2457.9838493723664, 192.0298987838457, 2142.8887878794935, 1087.2267042417932, 707.5554398640802, 3718.3638665698672, 2325.9526790466366, 4275.59225442791, 1168.607305098298, 769.3987570955921, 561.6396618027011, 3989.4842649895495, 2864.7684998735126, 5395.950581287252, 5636.412116645798, 3808.0326800056573, 2138.602705853316, 1523.147257849692, 566.4677139623468, 1141.4266794460598, 1447.1397387458233, 1397.3030420177647, 1541.2544467400965, 2478.055987033379, 1742.1843450399301, 1.9219355822823943, 1.3911709154421246, 1.3909461625638415, 1.390837715133918, 1.3907537430609254, 1.3907538985266708, 1.390665368757555, 1.3906590154849985, 1.3904716827634673, 1.3903284455324674, 2.836021368226684, 1.4047240315510405, 1.4545216590490742, 1.5164107566136682, 3.3771010896685913, 1.5219097476380328, 1.5511004080235862, 6.048521631794165, 1.553942962512325, 2.2170527463466985, 2.3397705393129615, 2.262788034177121, 2.2928949064921667, 1.5874060891532606, 2.3663296193499392, 2.4195737887291733, 1.6286793834341915, 1.6332374895366368, 1.5986076238182916, 1.638303600473472, 3.32448538391335, 4.021275728262958, 17.17050915722165, 31.958429065182163, 40.833124806046875, 4114.875489330079, 17.52695816274878, 49.75697829880333, 50.18820912224626, 33.09377350867678, 2864.7684998735126, 5954.316636956025, 39.34204541449042, 1473.4928907035526, 2489.381953534363, 699.1125047026338, 1141.4266794460598, 3808.0326800056573, 7690.860966191237, 3989.4842649895495, 4275.59225442791, 1609.3400162344597, 431.7635726569874, 1077.4822211450637, 5636.412116645798, 1152.3077247532203, 1297.6538416429105, 462.6647241838502, 926.2388406831149, 144.76394395787244, 8586.300974068168, 729.1606611923139, 1541.2544467400965, 5395.950581287252, 2138.602705853316, 1168.607305098298, 1069.677392352167, 2325.9526790466366, 3718.3638665698672, 1742.1843450399301, 2478.055987033379, 2142.8887878794935, 1355.4092513342089, 2457.9838493723664, 1983.1569373725324, 1763.7370137751516, 1.569366776503333, 1.8582266611531342, 1.2143901991116, 1.214380390253229, 1.2143274128878276, 1.2143080881506434, 1.2142975459350094, 1.2142519473900295, 1.2142743405943022, 1.214176658990598, 1.2140626812790551, 1.214049681388686, 1.2139556278637136, 1.213929860863271, 1.2138492545101642, 1.2137405315785876, 1.2136417406818003, 1.2159802786800584, 1.2165790355039228, 1.2169728899687338, 2.511746405922441, 4.715903951649066, 1.921184976367973, 1.318684210272147, 1.3338170685990165, 2.0255872176564007, 1.322338571808084, 1.3303460956311017, 1.3713730440682645, 1.3369398468787197, 2.0680858470966235, 13.546024724579254, 2.9607199481860516, 8586.300974068168, 5954.316636956025, 2325.9526790466366, 3718.3638665698672, 547.3629137182764, 7690.860966191237, 2138.602705853316, 5636.412116645798, 2489.381953534363, 3989.4842649895495, 5395.950581287252, 1141.4266794460598, 1983.1569373725324, 2478.055987033379, 2142.8887878794935, 1361.6013485115418, 527.8978776884998, 1190.4243062893056, 3808.0326800056573, 1328.7441696353837, 702.8776047322328, 614.6530506119594, 413.0460677811579, 1355.4092513342089, 1107.5689561905556, 4275.59225442791, 1609.3400162344597, 2457.9838493723664, 1742.1843450399301, 2864.7684998735126, 1396.2235846913777, 4114.875489330079, 1316.6201272211629, 1087.2267042417932, 1688.8006484199864, 1541.2544467400965], \"Category\": [\"Default\", \"Default\", \"Default\", \"Default\", \"Default\", \"Default\", \"Default\", \"Default\", \"Default\", \"Default\", \"Default\", \"Default\", \"Default\", \"Default\", \"Default\", \"Default\", \"Default\", \"Default\", \"Default\", \"Default\", \"Default\", \"Default\", \"Default\", \"Default\", \"Default\", \"Default\", \"Default\", \"Default\", \"Default\", \"Default\", \"Topic1\", \"Topic1\", \"Topic1\", \"Topic1\", \"Topic1\", \"Topic1\", \"Topic1\", \"Topic1\", \"Topic1\", \"Topic1\", \"Topic1\", \"Topic1\", \"Topic1\", \"Topic1\", \"Topic1\", \"Topic1\", \"Topic1\", \"Topic1\", \"Topic1\", \"Topic1\", \"Topic1\", \"Topic1\", \"Topic1\", \"Topic1\", \"Topic1\", \"Topic1\", \"Topic1\", \"Topic1\", \"Topic1\", \"Topic1\", \"Topic1\", \"Topic1\", \"Topic1\", \"Topic1\", \"Topic1\", \"Topic1\", \"Topic1\", \"Topic1\", \"Topic1\", \"Topic1\", \"Topic1\", \"Topic1\", \"Topic1\", \"Topic1\", \"Topic1\", \"Topic1\", \"Topic1\", \"Topic1\", \"Topic1\", \"Topic1\", \"Topic1\", \"Topic1\", \"Topic1\", \"Topic1\", \"Topic1\", \"Topic1\", \"Topic1\", \"Topic1\", \"Topic1\", \"Topic1\", \"Topic1\", \"Topic1\", \"Topic1\", \"Topic1\", \"Topic1\", \"Topic1\", \"Topic1\", \"Topic1\", \"Topic1\", \"Topic1\", \"Topic1\", \"Topic1\", \"Topic1\", \"Topic1\", \"Topic1\", \"Topic1\", \"Topic1\", \"Topic1\", \"Topic1\", \"Topic1\", \"Topic1\", \"Topic1\", \"Topic2\", \"Topic2\", \"Topic2\", \"Topic2\", \"Topic2\", \"Topic2\", \"Topic2\", \"Topic2\", \"Topic2\", \"Topic2\", \"Topic2\", \"Topic2\", \"Topic2\", \"Topic2\", \"Topic2\", \"Topic2\", \"Topic2\", \"Topic2\", \"Topic2\", \"Topic2\", \"Topic2\", \"Topic2\", \"Topic2\", \"Topic2\", \"Topic2\", \"Topic2\", \"Topic2\", \"Topic2\", \"Topic2\", \"Topic2\", \"Topic2\", \"Topic2\", \"Topic2\", \"Topic2\", \"Topic2\", \"Topic2\", \"Topic2\", \"Topic2\", \"Topic2\", \"Topic2\", \"Topic2\", \"Topic2\", \"Topic2\", \"Topic2\", \"Topic2\", \"Topic2\", \"Topic2\", \"Topic2\", \"Topic2\", \"Topic2\", \"Topic2\", \"Topic2\", \"Topic2\", \"Topic2\", \"Topic2\", \"Topic2\", \"Topic2\", \"Topic2\", \"Topic2\", \"Topic2\", \"Topic2\", \"Topic2\", \"Topic2\", \"Topic2\", \"Topic2\", \"Topic2\", \"Topic2\", \"Topic2\", \"Topic2\", \"Topic2\", \"Topic2\", \"Topic2\", \"Topic2\", \"Topic2\", \"Topic2\", \"Topic2\", \"Topic2\", \"Topic3\", \"Topic3\", \"Topic3\", \"Topic3\", \"Topic3\", \"Topic3\", \"Topic3\", \"Topic3\", \"Topic3\", \"Topic3\", \"Topic3\", \"Topic3\", \"Topic3\", \"Topic3\", \"Topic3\", \"Topic3\", \"Topic3\", \"Topic3\", \"Topic3\", \"Topic3\", \"Topic3\", \"Topic3\", \"Topic3\", \"Topic3\", \"Topic3\", \"Topic3\", \"Topic3\", \"Topic3\", \"Topic3\", \"Topic3\", \"Topic3\", \"Topic3\", \"Topic3\", \"Topic3\", \"Topic3\", \"Topic3\", \"Topic3\", \"Topic3\", \"Topic3\", \"Topic3\", \"Topic3\", \"Topic3\", \"Topic3\", \"Topic3\", \"Topic3\", \"Topic3\", \"Topic3\", \"Topic3\", \"Topic3\", \"Topic3\", \"Topic3\", \"Topic3\", \"Topic3\", \"Topic3\", \"Topic3\", \"Topic3\", \"Topic3\", \"Topic3\", \"Topic3\", \"Topic3\", \"Topic3\", \"Topic3\", \"Topic3\", \"Topic3\", \"Topic3\", \"Topic3\", \"Topic3\", \"Topic3\", \"Topic3\", \"Topic3\", \"Topic3\", \"Topic3\", \"Topic3\", \"Topic3\", \"Topic3\", \"Topic3\", \"Topic3\", \"Topic3\", \"Topic3\", \"Topic3\", \"Topic4\", \"Topic4\", \"Topic4\", \"Topic4\", \"Topic4\", \"Topic4\", \"Topic4\", \"Topic4\", \"Topic4\", \"Topic4\", \"Topic4\", \"Topic4\", \"Topic4\", \"Topic4\", \"Topic4\", \"Topic4\", \"Topic4\", \"Topic4\", \"Topic4\", \"Topic4\", \"Topic4\", \"Topic4\", \"Topic4\", \"Topic4\", \"Topic4\", \"Topic4\", \"Topic4\", \"Topic4\", \"Topic4\", \"Topic4\", \"Topic4\", \"Topic4\", \"Topic4\", \"Topic4\", \"Topic4\", \"Topic4\", \"Topic4\", \"Topic4\", \"Topic4\", \"Topic4\", \"Topic4\", \"Topic4\", \"Topic4\", \"Topic4\", \"Topic4\", \"Topic4\", \"Topic4\", \"Topic4\", \"Topic4\", \"Topic4\", \"Topic4\", \"Topic4\", \"Topic4\", \"Topic4\", \"Topic4\", \"Topic4\", \"Topic4\", \"Topic4\", \"Topic4\", \"Topic4\", \"Topic4\", \"Topic4\", \"Topic4\", \"Topic4\", \"Topic4\", \"Topic4\", \"Topic4\", \"Topic4\", \"Topic4\", \"Topic4\", \"Topic4\", \"Topic4\", \"Topic4\", \"Topic4\", \"Topic4\", \"Topic4\", \"Topic4\", \"Topic4\", \"Topic4\", \"Topic4\", \"Topic4\", \"Topic4\", \"Topic5\", \"Topic5\", \"Topic5\", \"Topic5\", \"Topic5\", \"Topic5\", \"Topic5\", \"Topic5\", \"Topic5\", \"Topic5\", \"Topic5\", \"Topic5\", \"Topic5\", \"Topic5\", \"Topic5\", \"Topic5\", \"Topic5\", \"Topic5\", \"Topic5\", \"Topic5\", \"Topic5\", \"Topic5\", \"Topic5\", \"Topic5\", \"Topic5\", \"Topic5\", \"Topic5\", \"Topic5\", \"Topic5\", \"Topic5\", \"Topic5\", \"Topic5\", \"Topic5\", \"Topic5\", \"Topic5\", \"Topic5\", \"Topic5\", \"Topic5\", \"Topic5\", \"Topic5\", \"Topic5\", \"Topic5\", \"Topic5\", \"Topic5\", \"Topic5\", \"Topic5\", \"Topic5\", \"Topic5\", \"Topic5\", \"Topic5\", \"Topic5\", \"Topic5\", \"Topic5\", \"Topic5\", \"Topic5\", \"Topic5\", \"Topic5\", \"Topic5\", \"Topic5\", \"Topic5\", \"Topic5\", \"Topic5\", \"Topic5\", \"Topic5\", \"Topic5\", \"Topic5\", \"Topic5\", \"Topic5\", \"Topic5\", \"Topic5\", \"Topic5\", \"Topic5\", \"Topic5\", \"Topic5\", \"Topic5\", \"Topic5\", \"Topic5\", \"Topic5\", \"Topic5\", \"Topic5\", \"Topic6\", \"Topic6\", \"Topic6\", \"Topic6\", \"Topic6\", \"Topic6\", \"Topic6\", \"Topic6\", \"Topic6\", \"Topic6\", \"Topic6\", \"Topic6\", \"Topic6\", \"Topic6\", \"Topic6\", \"Topic6\", \"Topic6\", \"Topic6\", \"Topic6\", \"Topic6\", \"Topic6\", \"Topic6\", \"Topic6\", \"Topic6\", \"Topic6\", \"Topic6\", \"Topic6\", \"Topic6\", \"Topic6\", \"Topic6\", \"Topic6\", \"Topic6\", \"Topic6\", \"Topic6\", \"Topic6\", \"Topic6\", \"Topic6\", \"Topic6\", \"Topic6\", \"Topic6\", \"Topic6\", \"Topic6\", \"Topic6\", \"Topic6\", \"Topic6\", \"Topic6\", \"Topic6\", \"Topic6\", \"Topic6\", \"Topic6\", \"Topic6\", \"Topic6\", \"Topic6\", \"Topic6\", \"Topic6\", \"Topic6\", \"Topic6\", \"Topic6\", \"Topic6\", \"Topic6\", \"Topic6\", \"Topic6\", \"Topic6\", \"Topic6\", \"Topic6\", \"Topic6\", \"Topic6\", \"Topic6\", \"Topic6\", \"Topic6\", \"Topic6\", \"Topic6\", \"Topic6\", \"Topic6\", \"Topic7\", \"Topic7\", \"Topic7\", \"Topic7\", \"Topic7\", \"Topic7\", \"Topic7\", \"Topic7\", \"Topic7\", \"Topic7\", \"Topic7\", \"Topic7\", \"Topic7\", \"Topic7\", \"Topic7\", \"Topic7\", \"Topic7\", \"Topic7\", \"Topic7\", \"Topic7\", \"Topic7\", \"Topic7\", \"Topic7\", \"Topic7\", \"Topic7\", \"Topic7\", \"Topic7\", \"Topic7\", \"Topic7\", \"Topic7\", \"Topic7\", \"Topic7\", \"Topic7\", \"Topic7\", \"Topic7\", \"Topic7\", \"Topic7\", \"Topic7\", \"Topic7\", \"Topic7\", \"Topic7\", \"Topic7\", \"Topic7\", \"Topic7\", \"Topic7\", \"Topic7\", \"Topic7\", \"Topic7\", \"Topic7\", \"Topic7\", \"Topic7\", \"Topic7\", \"Topic7\", \"Topic7\", \"Topic7\", \"Topic7\", \"Topic7\", \"Topic7\", \"Topic7\", \"Topic7\", \"Topic7\", \"Topic7\", \"Topic7\", \"Topic7\", \"Topic7\", \"Topic7\", \"Topic7\", \"Topic7\", \"Topic7\", \"Topic7\", \"Topic7\", \"Topic7\", \"Topic7\", \"Topic7\", \"Topic7\", \"Topic7\", \"Topic7\", \"Topic7\", \"Topic7\", \"Topic7\", \"Topic7\", \"Topic7\", \"Topic7\", \"Topic7\", \"Topic8\", \"Topic8\", \"Topic8\", \"Topic8\", \"Topic8\", \"Topic8\", \"Topic8\", \"Topic8\", \"Topic8\", \"Topic8\", \"Topic8\", \"Topic8\", \"Topic8\", \"Topic8\", \"Topic8\", \"Topic8\", \"Topic8\", \"Topic8\", \"Topic8\", \"Topic8\", \"Topic8\", \"Topic8\", \"Topic8\", \"Topic8\", \"Topic8\", \"Topic8\", \"Topic8\", \"Topic8\", \"Topic8\", \"Topic8\", \"Topic8\", \"Topic8\", \"Topic8\", \"Topic8\", \"Topic8\", \"Topic8\", \"Topic8\", \"Topic8\", \"Topic8\", \"Topic8\", \"Topic8\", \"Topic8\", \"Topic8\", \"Topic8\", \"Topic8\", \"Topic8\", \"Topic8\", \"Topic8\", \"Topic8\", \"Topic8\", \"Topic8\", \"Topic8\", \"Topic8\", \"Topic8\", \"Topic8\", \"Topic8\", \"Topic8\", \"Topic8\", \"Topic8\", \"Topic8\", \"Topic8\", \"Topic8\", \"Topic8\", \"Topic8\", \"Topic8\", \"Topic8\", \"Topic8\", \"Topic8\", \"Topic8\", \"Topic8\", \"Topic8\", \"Topic8\", \"Topic8\", \"Topic8\", \"Topic8\", \"Topic8\", \"Topic9\", \"Topic9\", \"Topic9\", \"Topic9\", \"Topic9\", \"Topic9\", \"Topic9\", \"Topic9\", \"Topic9\", \"Topic9\", \"Topic9\", \"Topic9\", \"Topic9\", \"Topic9\", \"Topic9\", \"Topic9\", \"Topic9\", \"Topic9\", \"Topic9\", \"Topic9\", \"Topic9\", \"Topic9\", \"Topic9\", \"Topic9\", \"Topic9\", \"Topic9\", \"Topic9\", \"Topic9\", \"Topic9\", \"Topic9\", \"Topic9\", \"Topic9\", \"Topic9\", \"Topic9\", \"Topic9\", \"Topic9\", \"Topic9\", \"Topic9\", \"Topic9\", \"Topic9\", \"Topic9\", \"Topic9\", \"Topic9\", \"Topic9\", \"Topic9\", \"Topic9\", \"Topic9\", \"Topic9\", \"Topic9\", \"Topic9\", \"Topic9\", \"Topic9\", \"Topic9\", \"Topic9\", \"Topic9\", \"Topic9\", \"Topic9\", \"Topic9\", \"Topic9\", \"Topic9\", \"Topic9\", \"Topic9\", \"Topic9\", \"Topic9\", \"Topic9\", \"Topic9\", \"Topic9\", \"Topic9\", \"Topic9\", \"Topic9\", \"Topic9\", \"Topic9\", \"Topic9\", \"Topic9\", \"Topic9\", \"Topic9\", \"Topic10\", \"Topic10\", \"Topic10\", \"Topic10\", \"Topic10\", \"Topic10\", \"Topic10\", \"Topic10\", \"Topic10\", \"Topic10\", \"Topic10\", \"Topic10\", \"Topic10\", \"Topic10\", \"Topic10\", \"Topic10\", \"Topic10\", \"Topic10\", \"Topic10\", \"Topic10\", \"Topic10\", \"Topic10\", \"Topic10\", \"Topic10\", \"Topic10\", \"Topic10\", \"Topic10\", \"Topic10\", \"Topic10\", \"Topic10\", \"Topic10\", \"Topic10\", \"Topic10\", \"Topic10\", \"Topic10\", \"Topic10\", \"Topic10\", \"Topic10\", \"Topic10\", \"Topic10\", \"Topic10\", \"Topic10\", \"Topic10\", \"Topic10\", \"Topic10\", \"Topic10\", \"Topic10\", \"Topic10\", \"Topic10\", \"Topic10\", \"Topic10\", \"Topic10\", \"Topic10\", \"Topic10\", \"Topic10\", \"Topic10\", \"Topic10\", \"Topic10\", \"Topic10\", \"Topic10\", \"Topic10\", \"Topic10\", \"Topic10\", \"Topic10\", \"Topic10\", \"Topic10\", \"Topic10\", \"Topic10\", \"Topic10\"], \"logprob\": [30.0, 29.0, 28.0, 27.0, 26.0, 25.0, 24.0, 23.0, 22.0, 21.0, 20.0, 19.0, 18.0, 17.0, 16.0, 15.0, 14.0, 13.0, 12.0, 11.0, 10.0, 9.0, 8.0, 7.0, 6.0, 5.0, 4.0, 3.0, 2.0, 1.0, -9.13, -9.8331, -9.6991, -10.1031, -10.1082, -10.6607, -10.6614, -10.6616, -10.6618, -9.9845, -10.3968, -10.0114, -10.4064, -9.7516, -10.0511, -10.758, -10.7722, -8.3791, -9.9582, -9.2955, -10.5167, -10.8171, -10.5337, -10.5286, -10.3411, -10.8482, -10.3409, -9.868, -10.0075, -10.5817, -9.5456, -6.9943, -7.0035, -3.9252, -9.1007, -5.1595, -7.7129, -8.2678, -7.0417, -8.58, -3.7593, -4.3968, -3.881, -5.0198, -6.6757, -4.2455, -6.4872, -4.8122, -4.9458, -4.2019, -4.5504, -4.9562, -5.4488, -5.8232, -6.4111, -5.5685, -6.0595, -4.6001, -4.7041, -5.988, -5.7105, -5.7612, -5.7941, -4.7424, -5.3608, -5.6957, -5.6852, -5.705, -5.8918, -5.8861, -5.2545, -5.7114, -5.6732, -5.5713, -5.6112, -5.405, -5.5224, -5.5549, -5.6621, -5.6787, -5.6376, -5.636, -10.1098, -9.8337, -9.7776, -10.3027, -9.4161, -10.7556, -10.7558, -10.7559, -10.7561, -10.7563, -10.7564, -10.7564, -10.7567, -10.7567, -10.7568, -10.7569, -10.7574, -10.7574, -10.7765, -10.7767, -10.1018, -10.8112, -8.3232, -9.5263, -10.4366, -10.0715, -9.1247, -10.8298, -10.8544, -10.9053, -10.2059, -8.7689, -8.8405, -9.1518, -10.0576, -3.4642, -5.7338, -4.3839, -7.044, -8.2969, -4.413, -7.1176, -4.1123, -5.1651, -8.6681, -9.4175, -7.8756, -4.8834, -5.9382, -5.289, -4.8977, -5.0218, -5.5503, -4.6138, -4.3178, -5.4352, -4.0756, -5.4157, -5.4019, -6.0266, -4.6381, -5.5367, -6.4551, -6.4544, -5.5133, -5.1176, -5.6834, -5.3827, -5.1722, -5.448, -4.5982, -5.3307, -4.8647, -5.1663, -5.6147, -5.4717, -5.6633, -9.757, -10.1466, -10.1487, -9.536, -10.1723, -9.6814, -10.2445, -10.2508, -9.7195, -10.2702, -9.8366, -10.2901, -9.0688, -10.3146, -8.5138, -9.8863, -10.7921, -10.7922, -10.7922, -10.7922, -10.7922, -10.7923, -10.7924, -10.7924, -10.7925, -10.7925, -10.7925, -10.7925, -10.7924, -10.7926, -9.7153, -9.3888, -9.6938, -9.4055, -9.8903, -7.1464, -7.0756, -6.5242, -6.4223, -6.1612, -6.8077, -6.9879, -10.43, -4.9042, -7.2866, -5.3884, -4.8408, -4.3453, -3.9519, -7.1135, -4.1953, -6.9228, -3.9514, -4.3244, -4.3064, -4.657, -4.6549, -5.4777, -5.0222, -6.1866, -5.4166, -5.1465, -4.7434, -5.5932, -5.8007, -5.6925, -5.6664, -5.0767, -5.4176, -5.1884, -4.9517, -5.6932, -5.7418, -5.6042, -5.6452, -5.6211, -5.4117, -5.507, -5.6914, -5.6278, -9.5789, -9.9802, -9.9903, -9.997, -9.8354, -10.0359, -10.0971, -10.6106, -10.6108, -10.6112, -10.6113, -10.6113, -10.6114, -10.6115, -10.6111, -10.6118, -10.612, -10.6122, -10.6119, -10.6125, -10.6127, -10.6133, -10.6237, -10.6234, -10.6579, -10.6468, -10.653, -10.6699, -10.6612, -9.7233, -10.2413, -9.5596, -9.774, -8.4149, -10.0006, -8.8797, -9.2239, -5.1314, -4.6229, -5.639, -3.7512, -4.3326, -9.3091, -6.1583, -4.1702, -5.83, -4.5473, -9.0486, -9.4001, -4.4997, -4.8164, -9.1651, -5.1317, -4.6254, -6.7869, -5.9451, -5.8538, -5.6466, -5.4883, -4.6402, -5.3942, -6.1555, -4.4352, -4.3963, -5.8583, -5.7045, -5.6028, -4.1828, -5.5659, -5.6662, -5.166, -5.2513, -5.1719, -5.4118, -5.5516, -5.5238, -5.2876, -5.495, -5.5382, -5.6002, -5.5219, -5.6281, -9.9164, -9.9167, -10.0473, -9.8458, -10.0931, -10.5628, -10.5628, -10.563, -10.5631, -10.5631, -10.5632, -10.5632, -10.5633, -10.5633, -10.5634, -10.5635, -10.5636, -10.5637, -10.5637, -10.5637, -10.5638, -10.5639, -10.5641, -10.5641, -10.5649, -10.5653, -10.5659, -10.5721, -9.8494, -10.5764, -9.6965, -8.0422, -9.3468, -9.9173, -7.2629, -9.8955, -5.5474, -8.1551, -9.0189, -5.7942, -4.7265, -8.4238, -9.6322, -4.8134, -4.165, -7.9043, -4.3994, -8.1266, -9.3178, -4.7604, -6.3492, -3.9235, -5.5353, -4.603, -5.3298, -4.6272, -4.951, -5.5069, -4.3219, -4.14, -4.6265, -4.3723, -5.37, -5.129, -5.4178, -5.5572, -5.5664, -5.6238, -6.0825, -5.1163, -4.7465, -5.5505, -5.6064, -5.5781, -5.5479, -5.4618, -5.5463, -5.4726, -5.5238, -5.4997, -8.9741, -10.0269, -8.7061, -10.5047, -10.5047, -10.5049, -10.505, -10.5051, -10.5052, -10.5052, -10.5052, -10.5055, -10.5055, -10.5057, -10.5057, -10.506, -10.5063, -10.5063, -10.5064, -10.086, -10.5433, -10.5516, -10.5606, -10.5883, -10.5917, -10.6584, -9.7175, -9.5002, -10.0924, -10.695, -9.3653, -8.3759, -9.0181, -4.2781, -4.8365, -4.9841, -6.6644, -4.3717, -4.182, -3.9237, -4.2289, -8.087, -6.4305, -4.3721, -5.9111, -4.6624, -5.9186, -5.1401, -6.1923, -5.5836, -5.6579, -5.5337, -5.0893, -5.5087, -5.139, -5.714, -5.121, -4.7649, -5.1331, -5.8664, -4.3577, -5.502, -4.8611, -5.7653, -5.7928, -5.8692, -5.1971, -5.4242, -5.5673, -5.6501, -5.6937, -5.7537, -5.7241, -5.7001, -9.5349, -9.5416, -9.0178, -9.6088, -9.649, -10.1218, -10.1218, -10.1219, -10.1221, -10.1223, -10.1223, -10.1224, -10.1224, -10.1224, -10.1225, -10.1225, -10.1227, -10.123, -10.123, -10.1231, -10.1233, -10.124, -10.1241, -10.1249, -10.1375, -10.1385, -9.8181, -10.1594, -10.1654, -10.1777, -9.491, -6.6402, -8.9214, -5.4658, -9.2899, -7.4294, -8.1918, -7.8814, -9.5436, -3.6356, -4.8394, -6.3837, -5.1096, -5.1311, -6.1488, -8.2061, -4.1723, -6.2471, -5.3993, -8.3889, -8.9385, -9.6005, -8.4876, -5.4101, -6.5434, -5.516, -5.042, -6.1599, -6.7871, -5.9895, -5.8622, -5.4628, -5.5744, -6.0133, -4.9947, -4.5474, -4.765, -4.6208, -5.3612, -5.3737, -5.5562, -4.407, -4.9629, -4.9917, -5.0433, -5.0703, -5.3624, -5.7416, -5.3899, -5.7426, -5.7369, -5.4507, -5.5435, -5.5855, -9.6629, -9.7036, -9.2074, -9.8027, -9.8387, -10.3096, -10.3098, -10.3099, -10.3099, -10.31, -10.31, -10.31, -10.3101, -10.3101, -10.3101, -10.3102, -10.3102, -10.3103, -10.3104, -10.3104, -10.3104, -10.3105, -10.3106, -10.3106, -10.3107, -10.3106, -10.3109, -10.3122, -10.3142, -10.3341, -9.253, -8.648, -9.1053, -8.6678, -9.947, -9.3653, -5.0494, -4.1075, -9.578, -3.8875, -5.0978, -5.766, -9.1905, -5.0147, -4.5094, -4.8792, -4.109, -5.3859, -6.1209, -5.412, -7.6855, -5.0062, -6.8232, -5.1281, -5.611, -5.9118, -4.7524, -5.0875, -4.6743, -5.5793, -5.8693, -6.0844, -4.7739, -5.0018, -4.6046, -4.5845, -4.8396, -5.2677, -5.476, -6.0819, -5.6626, -5.5263, -5.5565, -5.5713, -5.4018, -5.652, -8.9713, -9.6169, -9.6173, -9.6175, -9.6176, -9.6177, -9.6178, -9.6178, -9.6181, -9.6184, -8.927, -9.639, -9.7282, -9.8055, -9.008, -9.8145, -9.8655, -8.5517, -9.9246, -9.5892, -9.5784, -9.6157, -9.6129, -10.0004, -9.6223, -9.6186, -10.0231, -10.0305, -10.1428, -10.1298, -9.4588, -9.2862, -7.9558, -7.5223, -7.3323, -3.8224, -8.124, -7.4318, -7.448, -7.7453, -4.7362, -4.2464, -7.661, -5.2452, -4.9053, -5.7965, -5.4871, -4.7103, -4.2815, -4.7119, -4.6816, -5.2911, -6.1289, -5.5799, -4.612, -5.6136, -5.5754, -6.1869, -5.8206, -6.8982, -4.5448, -5.9618, -5.5425, -4.8424, -5.3607, -5.7005, -5.7743, -5.3741, -5.1672, -5.5744, -5.4175, -5.4926, -5.713, -5.6155, -5.6827, -5.7393, -9.2129, -9.3923, -9.8594, -9.8594, -9.8596, -9.8596, -9.8597, -9.8598, -9.8598, -9.86, -9.8603, -9.8603, -9.8605, -9.8606, -9.8608, -9.8611, -9.8613, -9.8617, -9.8627, -9.8625, -9.1777, -8.6184, -9.5248, -9.9924, -10.0106, -9.6014, -10.0722, -10.0897, -10.0755, -10.1037, -9.6838, -8.0633, -9.4476, -3.6059, -4.1613, -4.9013, -4.6179, -5.9424, -4.2389, -5.0892, -4.4934, -5.0141, -4.7359, -4.5485, -5.529, -5.2375, -5.1096, -5.2004, -5.5136, -6.1042, -5.6153, -4.9672, -5.6082, -6.0091, -6.093, -6.3323, -5.6293, -5.7726, -5.0145, -5.5905, -5.3722, -5.5836, -5.3388, -5.7163, -5.2268, -5.7715, -5.8462, -5.6943, -5.7288], \"loglift\": [30.0, 29.0, 28.0, 27.0, 26.0, 25.0, 24.0, 23.0, 22.0, 21.0, 20.0, 19.0, 18.0, 17.0, 16.0, 15.0, 14.0, 13.0, 12.0, 11.0, 10.0, 9.0, 8.0, 7.0, 6.0, 5.0, 4.0, 3.0, 2.0, 1.0, 1.1746, 1.1507, 1.1443, 1.1081, 1.1077, 1.065, 1.0649, 1.0648, 1.0648, 1.0582, 1.0305, 1.0226, 1.0183, 1.0002, 0.975, 0.9671, 0.9661, 0.957, 0.939, 0.9366, 0.9358, 0.9351, 0.9287, 0.9125, 0.9071, 0.9038, 0.8992, 0.8976, 0.8927, 0.8903, 0.8811, 0.8463, 0.6137, 0.3424, 0.7791, 0.3615, 0.636, 0.6865, 0.5257, 0.7019, 0.0873, 0.1471, 0.0758, 0.2149, 0.4508, 0.0657, 0.4142, 0.1322, 0.1517, 0.0108, 0.0628, 0.1331, 0.2142, 0.2658, 0.3693, 0.2058, 0.2899, -0.0179, -0.0205, 0.2562, 0.1832, 0.1905, 0.1906, -0.0827, 0.0809, 0.1576, 0.1373, 0.1383, 0.1912, 0.1873, -0.1018, 0.0906, 0.063, -0.0071, 0.016, -0.1684, -0.093, -0.0821, 0.0002, 0.014, -0.3254, -0.5513, 1.6099, 1.5969, 1.5635, 1.4529, 1.4283, 1.4235, 1.4234, 1.4233, 1.4233, 1.4232, 1.4232, 1.4232, 1.4231, 1.4231, 1.423, 1.423, 1.4228, 1.4228, 1.4068, 1.4061, 1.3872, 1.3827, 1.3822, 1.3773, 1.3738, 1.3679, 1.366, 1.3499, 1.3429, 1.3232, 1.3207, 1.2526, 1.2296, 1.2109, 1.3006, 0.3824, 0.5487, 0.2758, 0.7323, 0.963, 0.1692, 0.7186, 0.1004, 0.3077, 1.0184, 1.1649, 0.848, 0.2014, 0.4307, 0.287, 0.1997, 0.2129, 0.293, 0.0697, -0.0066, 0.2529, -0.1188, 0.1935, 0.1871, 0.342, -0.0942, 0.1759, 0.4504, 0.45, 0.1139, -0.0283, 0.1699, 0.059, -0.0195, 0.073, -0.3306, -0.0186, -0.2515, -0.222, 0.0476, -0.2351, -0.2339, 1.7274, 1.6446, 1.6441, 1.6403, 1.6251, 1.5665, 1.5563, 1.5486, 1.5468, 1.5319, 1.5092, 1.4908, 1.4725, 1.4718, 1.4549, 1.4502, 1.443, 1.443, 1.443, 1.443, 1.4429, 1.4429, 1.4429, 1.4429, 1.4429, 1.4428, 1.4428, 1.4428, 1.4428, 1.4428, 1.4271, 1.4171, 1.4025, 1.3904, 1.3985, 1.2372, 1.2103, 1.0781, 0.9711, 0.8648, 0.9326, 0.9534, 1.3961, 0.5252, 0.8818, 0.5215, 0.3958, 0.1986, 0.0048, 0.7578, 0.0174, 0.6985, -0.1047, -0.0132, -0.0388, 0.0027, -0.0418, 0.215, 0.0625, 0.4277, 0.1477, 0.0062, -0.1612, 0.143, 0.2186, 0.172, 0.1451, -0.1324, 0.0241, -0.0991, -0.2681, 0.1478, 0.1714, 0.0231, 0.043, -0.012, -0.3142, -0.1948, -0.0291, -0.3932, 1.9507, 1.8518, 1.8467, 1.8307, 1.8192, 1.8184, 1.7478, 1.656, 1.656, 1.6558, 1.6558, 1.6558, 1.6557, 1.6557, 1.6556, 1.6556, 1.6555, 1.6554, 1.6553, 1.6553, 1.6549, 1.6539, 1.6436, 1.6436, 1.6177, 1.6169, 1.6105, 1.6074, 1.6043, 1.6031, 1.5916, 1.551, 1.5568, 1.3897, 1.5436, 1.3716, 1.4095, 0.6429, 0.4619, 0.633, 0.2055, 0.2806, 1.3662, 0.622, 0.141, 0.4607, 0.1362, 1.2607, 1.3528, 0.0442, 0.1279, 1.283, 0.1804, 0.0343, 0.6424, 0.3977, 0.3478, 0.2829, 0.2335, -0.058, 0.1819, 0.4297, -0.1677, -0.1836, 0.3073, 0.2471, 0.2086, -0.3361, 0.1704, 0.1984, -0.0133, -0.0167, -0.0744, 0.0176, 0.1107, 0.0404, -0.1982, -0.0222, -0.0965, 0.009, -0.2853, 0.035, 2.0319, 2.0318, 1.9215, 1.9026, 1.8775, 1.7932, 1.7932, 1.7931, 1.7931, 1.7931, 1.793, 1.793, 1.793, 1.793, 1.7929, 1.7929, 1.7929, 1.7928, 1.7928, 1.7928, 1.7928, 1.7927, 1.7926, 1.7926, 1.7913, 1.7907, 1.7906, 1.783, 1.7795, 1.7788, 1.7238, 1.5432, 1.6341, 1.7062, 1.3239, 1.6916, 0.8073, 1.3281, 1.4325, 0.6656, 0.3628, 1.2845, 1.5666, 0.3393, 0.1461, 1.1169, 0.1828, 1.172, 1.4664, 0.184, 0.6128, -0.0768, 0.3593, 0.0805, 0.2793, 0.0325, 0.1338, 0.2952, -0.1092, -0.1832, -0.0133, -0.1047, 0.206, 0.1077, 0.2094, 0.2542, 0.2561, 0.2312, 0.4065, -0.0188, -0.2026, 0.1377, 0.1154, 0.0841, 0.0411, -0.0324, 0.0179, -0.2379, -0.0821, -0.1876, 2.0621, 2.023, 1.9931, 1.9411, 1.9411, 1.941, 1.941, 1.9409, 1.9409, 1.9409, 1.9408, 1.9407, 1.9407, 1.9406, 1.9406, 1.9405, 1.9403, 1.9403, 1.9403, 1.9232, 1.8906, 1.8806, 1.8671, 1.8375, 1.8276, 1.7751, 1.7744, 1.7576, 1.7362, 1.7116, 1.664, 1.4895, 1.522, 0.4054, 0.4756, 0.4887, 0.8527, 0.2415, 0.0855, -0.077, -0.0162, 1.1998, 0.6324, -0.061, 0.4437, -0.0027, 0.3721, 0.0966, 0.4553, 0.2389, 0.2357, 0.1789, 0.0082, 0.1535, 0.0137, 0.2155, -0.0362, -0.1827, -0.0438, 0.263, -0.4009, 0.0741, -0.3172, 0.1863, 0.1919, 0.2402, -0.2528, -0.1895, -0.1256, -0.041, -0.0056, 0.1108, -0.0023, -0.1359, 2.3318, 2.3075, 2.2917, 2.2409, 2.1849, 2.1611, 2.1611, 2.1611, 2.161, 2.161, 2.1609, 2.1609, 2.1609, 2.1609, 2.1609, 2.1609, 2.1608, 2.1607, 2.1607, 2.1606, 2.1606, 2.1603, 2.1602, 2.1592, 2.1498, 2.1449, 2.14, 2.1312, 2.1259, 2.1159, 2.0602, 1.5485, 1.881, 1.0697, 1.9506, 1.4333, 1.6372, 1.5361, 2.0, 0.3211, 0.4727, 0.9315, 0.4794, 0.4331, 0.7856, 1.5002, 0.0404, 0.7789, 0.4417, 1.5363, 1.7326, 1.9726, 1.5608, 0.4013, 0.8335, 0.3972, 0.1946, 0.5957, 0.8598, 0.5081, 0.4203, 0.2299, 0.279, 0.4748, -0.0504, -0.2798, -0.2211, -0.3096, 0.0682, 0.068, 0.1564, -0.5604, -0.3807, -0.3786, -0.3836, -0.3868, -0.2098, 0.1878, -0.3006, 0.1673, 0.1568, -0.3532, -0.4587, -0.3508, 2.5619, 2.5, 2.464, 2.3885, 2.3355, 2.2469, 2.2468, 2.2467, 2.2467, 2.2467, 2.2467, 2.2466, 2.2466, 2.2466, 2.2466, 2.2466, 2.2466, 2.2465, 2.2465, 2.2465, 2.2464, 2.2464, 2.2464, 2.2463, 2.2462, 2.2462, 2.2461, 2.244, 2.2423, 2.2119, 2.2015, 2.123, 2.1352, 2.074, 2.1848, 1.9688, 0.5396, 0.1052, 1.9959, -0.0409, 0.375, 0.5887, 1.8488, 0.2974, 0.0728, 0.2056, -0.1523, 0.3359, 0.5755, 0.2807, 1.186, 0.0913, 0.8237, 0.1065, 0.3021, 0.431, -0.0689, 0.0652, -0.1304, 0.2617, 0.3897, 0.4893, -0.1608, -0.0575, -0.2935, -0.3169, -0.1799, -0.031, 0.1, 0.4832, 0.202, 0.1009, 0.1058, -0.0071, -0.3125, -0.2104, 3.2799, 2.9575, 2.9572, 2.9572, 2.9571, 2.9571, 2.957, 2.957, 2.9568, 2.9567, 2.9352, 2.9257, 2.8017, 2.6827, 2.6796, 2.6701, 2.6001, 2.5531, 2.5391, 2.5192, 2.4761, 2.4723, 2.4619, 2.442, 2.421, 2.4023, 2.3937, 2.3835, 2.2926, 2.2811, 2.2445, 2.2267, 2.1056, 1.9178, 1.8628, 0.7598, 1.9168, 1.5657, 1.5408, 1.6599, 0.2081, -0.0337, 1.5713, 0.3639, 0.1795, 0.5583, 0.3774, -0.0506, -0.3247, -0.0988, -0.1377, 0.2299, 0.7078, 0.3423, -0.3445, 0.2414, 0.1609, 0.5807, 0.2529, 1.0313, -0.6981, 0.3509, 0.0217, -0.5312, -0.1241, 0.1405, 0.1552, -0.2214, -0.4837, -0.1328, -0.3281, -0.2579, -0.0203, -0.518, -0.3706, -0.3099, 3.241, 2.8926, 2.8509, 2.8509, 2.8508, 2.8508, 2.8507, 2.8507, 2.8507, 2.8505, 2.8503, 2.8503, 2.8501, 2.8501, 2.85, 2.8498, 2.8496, 2.8473, 2.8459, 2.8457, 2.8059, 2.7352, 2.7268, 2.6355, 2.6059, 2.5973, 2.553, 2.5294, 2.5132, 2.5105, 2.4941, 2.2352, 2.3715, 0.2408, 0.0514, 0.2514, 0.0656, 0.6571, -0.2821, 0.1474, -0.2259, 0.0707, -0.1228, -0.2373, 0.3355, 0.0747, -0.0203, 0.0342, 0.1746, 0.5314, 0.2072, -0.3075, 0.1044, 0.3403, 0.3905, 0.5487, 0.0634, 0.122, -0.4706, -0.0695, -0.2747, -0.142, -0.3945, -0.0533, -0.6446, -0.0497, 0.0669, -0.2215, -0.1646]}, \"token.table\": {\"Topic\": [1, 2, 3, 4, 5, 6, 7, 8, 10, 2, 1, 2, 3, 4, 5, 6, 7, 8, 9, 10, 6, 7, 2, 7, 1, 2, 3, 4, 5, 6, 7, 8, 6, 1, 2, 3, 5, 6, 4, 7, 1, 2, 3, 4, 5, 6, 7, 8, 9, 10, 3, 10, 7, 1, 2, 3, 4, 5, 6, 7, 8, 9, 10, 1, 2, 3, 4, 5, 6, 7, 8, 9, 10, 1, 2, 3, 4, 5, 6, 7, 8, 9, 10, 2, 8, 9, 2, 4, 1, 2, 3, 4, 5, 6, 7, 8, 7, 7, 1, 2, 3, 4, 5, 6, 7, 8, 9, 10, 8, 8, 4, 9, 3, 1, 2, 3, 4, 5, 7, 8, 9, 2, 6, 5, 4, 6, 8, 9, 4, 1, 2, 3, 4, 5, 6, 7, 8, 9, 10, 2, 3, 1, 2, 3, 4, 5, 6, 7, 8, 9, 10, 1, 2, 3, 1, 2, 3, 4, 5, 6, 7, 8, 9, 10, 2, 3, 3, 1, 2, 3, 4, 5, 6, 7, 8, 9, 10, 5, 6, 6, 3, 8, 4, 1, 1, 2, 3, 4, 5, 6, 7, 8, 9, 10, 8, 1, 3, 4, 7, 9, 6, 4, 6, 1, 2, 3, 6, 2, 1, 2, 3, 4, 5, 6, 7, 8, 9, 6, 5, 8, 2, 1, 2, 3, 4, 5, 6, 7, 8, 9, 10, 1, 2, 3, 4, 5, 6, 7, 8, 9, 10, 8, 2, 5, 7, 7, 1, 8, 4, 1, 2, 3, 4, 5, 6, 7, 8, 9, 10, 1, 2, 3, 4, 5, 6, 7, 8, 9, 10, 6, 6, 8, 3, 8, 1, 2, 3, 4, 6, 6, 7, 3, 10, 2, 1, 2, 3, 4, 5, 6, 7, 8, 9, 10, 7, 9, 1, 4, 5, 7, 1, 2, 3, 4, 5, 6, 7, 8, 9, 10, 7, 4, 1, 4, 10, 5, 7, 1, 2, 3, 4, 5, 6, 7, 8, 9, 10, 9, 1, 2, 3, 5, 6, 8, 1, 3, 4, 4, 4, 1, 2, 3, 4, 5, 6, 7, 8, 9, 10, 1, 2, 3, 4, 5, 6, 7, 8, 9, 10, 1, 2, 3, 5, 9, 7, 1, 8, 5, 6, 2, 8, 1, 2, 3, 4, 5, 7, 8, 1, 2, 3, 4, 5, 6, 7, 8, 9, 10, 5, 1, 2, 3, 4, 5, 1, 2, 3, 4, 5, 6, 7, 9, 10, 1, 2, 3, 4, 5, 6, 7, 8, 9, 10, 1, 2, 3, 4, 5, 6, 7, 8, 9, 10, 7, 4, 7, 4, 1, 2, 3, 4, 5, 6, 7, 8, 9, 10, 1, 2, 3, 4, 5, 6, 7, 8, 9, 10, 1, 2, 3, 4, 5, 6, 7, 8, 9, 10, 7, 8, 3, 2, 3, 8, 8, 1, 2, 3, 4, 5, 6, 7, 8, 9, 10, 1, 2, 3, 4, 5, 6, 7, 8, 9, 10, 3, 4, 8, 1, 1, 3, 4, 5, 2, 1, 5, 3, 9, 3, 6, 1, 3, 4, 5, 5, 2, 3, 3, 7, 6, 9, 7, 1, 2, 3, 4, 5, 6, 7, 8, 9, 10, 1, 2, 5, 8, 10, 1, 4, 1, 2, 3, 4, 5, 6, 7, 8, 9, 10, 1, 2, 3, 4, 5, 6, 7, 8, 9, 10, 1, 2, 3, 4, 5, 6, 7, 8, 9, 10, 1, 2, 3, 4, 5, 6, 7, 8, 9, 9, 6, 7, 1, 2, 3, 4, 5, 6, 7, 8, 9, 6, 1, 4, 2, 3, 5, 6, 8, 7, 1, 2, 3, 4, 5, 6, 7, 8, 9, 10, 1, 2, 3, 4, 5, 6, 7, 8, 9, 10, 5, 3, 4, 1, 2, 3, 4, 5, 6, 7, 8, 9, 10, 8, 1, 2, 3, 4, 5, 6, 7, 8, 9, 10, 1, 2, 3, 4, 5, 6, 7, 8, 9, 10, 1, 5, 1, 2, 3, 4, 7, 9, 7, 8, 1, 3, 4, 5, 9, 1, 2, 3, 4, 5, 6, 7, 8, 1, 2, 3, 4, 5, 6, 7, 8, 9, 10, 3, 9, 1, 2, 3, 4, 5, 6, 7, 8, 9, 10, 1, 2, 3, 4, 5, 6, 7, 8, 9, 10, 1, 2, 3, 4, 5, 6, 7, 8, 9, 10, 1, 2, 7, 10, 4, 7, 2, 4, 6, 8, 1, 2, 3, 4, 5, 6, 7, 8, 9, 10, 7, 3, 1, 4, 4, 1, 2, 3, 4, 5, 6, 7, 9, 6, 6, 1, 8, 1, 3, 4, 8, 1, 2, 3, 4, 5, 6, 7, 8, 9, 10, 7, 3, 3, 2, 1, 2, 3, 4, 5, 6, 7, 8, 9, 10, 3, 4, 5, 6, 1, 2, 3, 4, 5, 6, 7, 8, 9, 10, 9, 1, 2, 3, 4, 5, 6, 7, 8, 9, 10, 1, 2, 3, 5, 7, 8, 1, 2, 3, 4, 5, 6, 7, 8, 9, 10, 4, 1, 2, 3, 4, 5, 6, 7, 8, 9, 10, 5, 3, 4, 6, 7, 1, 2, 3, 4, 5, 6, 7, 8, 9, 10, 5, 1, 2, 3, 4, 5, 6, 7, 8, 9, 10, 1, 2, 3, 4, 5, 6, 7, 8, 1, 2, 4, 5, 6, 9, 1, 2, 3, 4, 5, 6, 7, 8, 9, 10, 1, 2, 3, 4, 5, 6, 7, 8, 9, 10, 3, 1, 1, 2, 3, 4, 5, 6, 7, 8, 9, 10, 9, 1, 2, 3, 4, 5, 6, 7, 8, 9, 10, 2, 7, 3, 1, 2, 3, 4, 5, 6, 7, 8, 9, 10, 1, 2, 3, 4, 5, 6, 7, 8, 9, 10, 1, 4, 6, 4, 1, 2, 3, 4, 5, 6, 7, 8, 9, 10, 1, 3, 5, 8, 1, 2, 3, 4, 5, 6, 7, 8, 9, 10, 6, 9, 1, 2, 3, 4, 5, 6, 7, 8, 9, 10, 1, 2, 3, 4, 5, 6, 7, 8, 9, 10, 1, 1, 3, 4, 5, 7, 9, 2, 3, 4, 5, 7, 3, 8, 4, 1, 2, 3, 4, 5, 6, 7, 8, 9, 10, 2, 4, 10, 5, 1, 2, 3, 4, 5, 6, 7, 8, 9, 10, 1, 2, 3, 4, 5, 6, 7, 8, 9, 10, 1, 2, 3, 4, 5, 6, 7, 8, 9, 10, 1, 1, 5, 1, 3, 6, 8, 1, 3, 4, 5, 9, 5, 8, 3, 7, 5, 1, 4, 5, 6, 1, 2, 3, 4, 5, 6, 7, 8, 9, 10, 1, 2, 3, 4, 5, 6, 7, 8, 9, 10, 2, 5, 6, 1, 2, 3, 4, 5, 6, 7, 8, 9, 10, 1, 2, 4, 6, 7, 1, 2, 3, 4, 5, 6, 7, 8, 9, 10, 1, 2, 3, 4, 5, 6, 7, 8, 9, 10, 8, 7, 1, 2, 3, 4, 5, 6, 7, 8, 9, 10, 2, 7, 2, 5, 8, 7, 3, 5, 1, 2, 3, 4, 5, 6, 7, 8, 9, 10, 1, 2, 3, 4, 5, 6, 7, 8, 9, 10, 1, 2, 3, 4, 5, 6, 7, 8, 9, 10, 1, 2, 3, 4, 5, 6, 7, 8, 9, 10, 10, 2, 3, 1, 2, 3, 4, 5, 6, 7, 8, 9, 10, 1, 2, 3, 4, 5, 6, 7, 8, 9, 10, 6, 1, 2, 3, 4, 5, 6, 7, 8, 9, 10, 8, 9, 1, 2, 1, 2, 3, 4, 5, 6, 7, 8, 9, 10, 4, 5, 1, 2, 3, 4, 5, 6, 7, 8, 9, 1, 2, 3, 4, 5, 6, 7, 8, 9, 10, 1, 2, 3, 4, 5, 6, 7, 8, 9, 1, 10, 1, 2, 3, 4, 5, 6, 7, 8, 9, 10, 1, 2, 3, 4, 5, 6, 7, 8, 10, 7, 2, 1, 2, 3, 4, 5, 6, 7, 8, 9, 10, 5, 3, 7, 1, 2, 3, 4, 5, 6, 7, 8, 9, 10, 8, 1, 2, 3, 6, 2, 3, 5, 1, 2, 3, 4, 5, 6, 7, 8, 9, 10, 1, 2, 3, 4, 5, 6, 7, 8, 9, 10, 2, 3, 9, 2, 1, 2, 3, 4, 5, 6, 7, 8, 9, 10, 1, 2, 3, 4, 5, 6, 7, 8, 9, 10, 1, 2, 3, 4, 5, 6, 7, 8, 9, 10, 1, 2, 3, 4, 5, 6, 7, 8, 9, 10, 1, 2, 3, 4, 5, 6, 7, 8, 9, 10, 1, 2, 3, 4, 5, 8, 1, 4, 9, 3, 1, 2, 3, 4, 5, 6, 7, 8, 9, 10, 9, 5, 2, 4, 8, 4, 1, 2, 3, 4, 5, 6, 8, 9, 4, 4, 1, 2, 3, 4, 5, 1, 5, 7, 1, 2, 3, 4, 5, 6, 7, 8, 9, 10, 5, 3, 8, 1, 2, 3, 4, 5, 6, 7, 8, 9, 10, 1, 2, 6, 7, 1, 2, 3, 4, 5, 6, 7, 8, 9, 10, 5, 6, 1, 1, 2, 3, 4, 5, 6, 7, 8, 9, 10, 1, 2, 3, 7, 8, 2, 2, 4, 1, 2, 3, 4, 5, 6, 7, 8, 9, 10, 1, 2, 3, 4, 5, 6, 7, 8, 9, 10, 2, 1, 2, 3, 4, 5, 6, 7, 8, 9, 10, 1, 2, 3, 4, 5, 6, 7, 8, 9, 10, 1, 2, 3, 4, 5, 6, 7, 8, 9, 10, 4, 4, 5, 9, 1, 2, 1, 2, 3, 4, 5, 6, 8, 9, 10, 1, 1, 2, 3, 4, 5, 6, 7, 8, 9, 10, 1, 2, 3, 4, 5, 6, 7, 8, 9, 10, 1, 2, 3, 4, 5, 6, 7, 8, 9, 10, 1, 2, 4, 7, 8, 9, 1, 2, 3, 4, 5, 6, 7, 8, 9, 10, 6, 1, 1, 2, 6, 1, 2, 3, 4, 5, 6, 7, 8, 9, 10, 7, 8, 1, 1, 5, 1, 4, 7, 8, 2, 6, 7, 9, 1, 2, 3, 4, 6, 7, 8, 9, 1, 2, 3, 4, 5, 6, 7, 8, 9, 10, 4, 6, 1, 2, 3, 6, 10, 1, 1, 2, 3, 4, 5, 6, 7, 8, 9, 10, 3, 3, 2, 5, 5, 1, 2, 3, 4, 5, 6, 7, 8, 9, 10, 1, 2, 3, 4, 5, 6, 7, 10, 1, 2, 3, 4, 5, 6, 7, 8, 9, 10, 6, 5, 8, 1, 2, 3, 4, 5, 6, 7, 8, 9, 10, 3, 1, 2, 3, 4, 5, 6, 7, 8, 9, 10, 1, 2, 3, 4, 5, 6, 7, 8, 9, 10, 7, 1, 2, 3, 4, 5, 6, 7, 8, 9, 10, 2, 7, 1, 2, 3, 4, 5, 6, 7, 8, 9, 10, 1, 2, 3, 4, 5, 6, 7, 8, 9, 10, 2, 5, 2, 8, 1, 2, 3, 4, 5, 6, 7, 8, 9, 10, 1, 8, 9, 2, 1, 2, 3, 4, 5, 6, 7, 8, 9, 10, 4, 1, 2, 3, 4, 5, 6, 7, 8, 9, 10, 4, 3, 3, 6, 1, 2, 3, 4, 5, 7, 1, 2, 3, 4, 5, 6, 7, 8, 9, 10, 2, 3, 4, 5, 6, 1, 2, 3, 4, 5, 6, 7, 8, 9, 10, 1, 2, 3, 4, 5, 6, 7, 8, 9, 1, 2, 3, 4, 5, 6, 7, 8, 9, 10, 1, 2, 3, 4, 1, 2, 3, 4, 5, 6, 7, 8, 9, 10, 1, 4, 8, 3, 8, 3, 5, 8, 1, 3, 4, 10, 3, 2, 4, 7, 1, 2, 3, 4, 5, 6, 7, 10, 3, 1, 2, 3, 4, 5, 6, 7, 8, 9, 10, 5, 7, 1, 2, 3, 4, 5, 6, 7, 8, 9, 10, 1, 2, 3, 4, 5, 6, 7, 8, 9, 10, 2, 1, 2, 3, 4, 5, 6, 7, 8, 9, 10, 8, 9, 8, 7, 1, 2, 3, 4, 5, 6, 7, 8, 9, 10, 1, 2, 3, 4, 5, 6, 7, 8, 9, 10], \"Freq\": [0.15246817032233562, 0.20329089376311418, 0.10164544688155709, 0.050822723440778546, 0.050822723440778546, 0.050822723440778546, 0.30493634064467123, 0.050822723440778546, 0.050822723440778546, 0.8376391606644746, 0.296828776982072, 0.1249805376766619, 0.11977301527346766, 0.04686770162874821, 0.031245134419165474, 0.06249026883833095, 0.16143319449902163, 0.10415044806388492, 0.03645265682235972, 0.020830089612776985, 0.6321437709444431, 0.3881262321457864, 0.48429206132428915, 0.5373004747023429, 0.1384947404281927, 0.09232982695212848, 0.1384947404281927, 0.04616491347606424, 0.04616491347606424, 0.04616491347606424, 0.3693193078085139, 0.1384947404281927, 0.6195490694573854, 0.05308469719740977, 0.1592540915922293, 0.6370163663689172, 0.05308469719740977, 0.05308469719740977, 0.5285716576147677, 0.5411593781632029, 0.2018192337466021, 0.1532331219187164, 0.18313226765895377, 0.06353568469800436, 0.0822226507856527, 0.04111132539282635, 0.17192008800636474, 0.06353568469800436, 0.022424359305178013, 0.014949572870118675, 0.5205120861867836, 0.5205120861867836, 0.5375346516147699, 0.32992846105635537, 0.19133050782617494, 0.09799855278901644, 0.1129316655949618, 0.07279892492898364, 0.05973245122378145, 0.048065956844136636, 0.05086591549525139, 0.01679975190668853, 0.019133050782617497, 0.3202101920449448, 0.10012206004785597, 0.12267207357214785, 0.11816207086728947, 0.0920040551791109, 0.09110205463813921, 0.08027804814647911, 0.03698202217983869, 0.022550013524291885, 0.01804001081943351, 0.28915690308276226, 0.1429896773486187, 0.0953264515657458, 0.16523251604729272, 0.17953148378215458, 0.0317754838552486, 0.04607445159011047, 0.03336425804801103, 0.00794387096381215, 0.00794387096381215, 0.7283978690444193, 0.7062321335078994, 0.7191804136655041, 0.6931590105706404, 0.23105300352354682, 0.2447303590515733, 0.1529564744072333, 0.09177388464433998, 0.06118258976289333, 0.06118258976289333, 0.030591294881446664, 0.3059129488144666, 0.030591294881446664, 0.5372559010766762, 0.5370896108604718, 0.5043814657344379, 0.07355563041960553, 0.07355563041960553, 0.16812715524481264, 0.05253973601400395, 0.03152384160840237, 0.04203178881120316, 0.03152384160840237, 0.01050794720280079, 0.02101589440560158, 0.49001819795365, 0.706350190754365, 0.5286823579336601, 0.5203088018238625, 0.5120249596430094, 0.09010405718299566, 0.04505202859149783, 0.18020811436599132, 0.4505202859149783, 0.13515608577449348, 0.04505202859149783, 0.04505202859149783, 0.4273923374954687, 0.48441241233092286, 0.6320577355788813, 0.7845587712413109, 0.5283888937627282, 0.6323203319126331, 0.4817308381441408, 0.45104925972005805, 0.5287742745820001, 0.4220513527547764, 0.10048841732256582, 0.10048841732256582, 0.08039073385805265, 0.08039073385805265, 0.06029305039353949, 0.040195366929026324, 0.020097683464513162, 0.10048841732256582, 0.020097683464513162, 0.48464930401262823, 0.5121044529220597, 0.2986344475371504, 0.14024269635722533, 0.10724441486140761, 0.0956950163378714, 0.06929639114121723, 0.07919587558996255, 0.11384407116057116, 0.04949742224372659, 0.02804853927144507, 0.019798968897490637, 0.1274345518330925, 0.6371727591654625, 0.1274345518330925, 0.197086614798127, 0.13881752868389816, 0.12853474878138718, 0.08740362917134328, 0.07369325596799531, 0.06169667941506585, 0.1988004114485455, 0.07026566266715832, 0.02399315310585894, 0.018851763154603452, 0.4859354177112976, 0.6623242463373067, 0.5120378933472989, 0.30577332643234695, 0.1344058577724602, 0.11004479605120178, 0.09660421027395577, 0.11928519877305842, 0.0915639906074885, 0.05040219666467257, 0.05040219666467257, 0.02016087866586903, 0.022680988499102658, 0.7688533749580428, 0.6323862084038986, 0.6235461211776945, 0.5120046470008263, 0.7064507759507719, 0.5286127545111279, 0.8790274478955278, 0.2132653223643414, 0.14661990912548473, 0.06664541323885669, 0.09330357853439937, 0.34655614884205477, 0.05331633059108535, 0.013329082647771337, 0.039987247943314014, 0.013329082647771337, 0.013329082647771337, 0.706149244874243, 0.10319178326740613, 0.20638356653481227, 0.5159589163370307, 0.10319178326740613, 0.10319178326740613, 0.6321638362397807, 0.5285555205131218, 0.6322408770075959, 0.18798357597910204, 0.09399178798955102, 0.2819753639686531, 0.37596715195820407, 0.4844692604936777, 0.21474270045038707, 0.08052851266889516, 0.05368567511259677, 0.08052851266889516, 0.08052851266889516, 0.24158553800668545, 0.1342141877814919, 0.05368567511259677, 0.026842837556298384, 0.4254312992373875, 0.46911369127050767, 0.46911369127050767, 0.48418953451602376, 0.20096978822847492, 0.24314863267148815, 0.1166120993424484, 0.12157431633574407, 0.09180101437597002, 0.07195214640278731, 0.07195214640278731, 0.04217884444301325, 0.02729219346312622, 0.012405542483239192, 0.09216111080859414, 0.11310681781054736, 0.19270050441796957, 0.21783535282031344, 0.12567424201171928, 0.07540454520703158, 0.058647979605469004, 0.07959368660742222, 0.020945707001953216, 0.020945707001953216, 0.7060840594408294, 0.6760276003000351, 0.135205520060007, 0.135205520060007, 0.5371143057506138, 0.7161237253861862, 0.4617505708603022, 0.6813154419933622, 0.1929610889417053, 0.17126723870565558, 0.17583436507113975, 0.11988706709395891, 0.08563361935282779, 0.09362609049242505, 0.0673651138908912, 0.05594729797718083, 0.019410287053307634, 0.018268505461936597, 0.31715590637073215, 0.10894668539452632, 0.08473631086240936, 0.14042017228627837, 0.0605259363302924, 0.06778904868992748, 0.11136772284773801, 0.048420749064233916, 0.026631411985328656, 0.03147348689175205, 0.4084268190315971, 0.6245816968029843, 0.7061810403682688, 0.29137697690976344, 0.5827539538195269, 0.14925603310060104, 0.07462801655030052, 0.22388404965090156, 0.3731400827515026, 0.07462801655030052, 0.6324019269517732, 0.5428244791401816, 0.3981293643506774, 0.3981293643506774, 0.48415672439930646, 0.2722142773390182, 0.17173249711320612, 0.1516361410680437, 0.0822123656393008, 0.08952013147390532, 0.0694237754287429, 0.06576989251144064, 0.045673536466278225, 0.012788590210557902, 0.03653882917302258, 0.537276699481181, 0.7190344755167499, 0.6737268017671689, 0.1347453603534338, 0.1347453603534338, 0.6255443706764573, 0.2834952903374749, 0.12031630359150129, 0.1396170439593046, 0.15189933328427038, 0.09098920459107285, 0.09174118148851973, 0.04662256764170675, 0.03885213970142229, 0.019802058299434586, 0.016543491743831427, 0.5374468128562158, 0.5287449372280325, 0.3377556869614336, 0.3377556869614336, 0.3377556869614336, 0.5554951055751028, 0.2777475527875514, 0.17722764000191862, 0.12005743354968682, 0.3716063419395068, 0.06860424774267818, 0.08575530967834773, 0.057170206452231816, 0.05145318580700863, 0.03430212387133909, 0.022868082580892728, 0.017151061935669544, 0.7118835995820757, 0.0587471800757302, 0.5287246206815718, 0.1174943601514604, 0.0587471800757302, 0.1174943601514604, 0.0587471800757302, 0.16393436012443227, 0.6557374404977291, 0.5277859501495248, 0.5267668802425076, 0.5340712931188812, 0.19868587507393332, 0.36680469244418457, 0.10698470196288717, 0.0611341154073641, 0.04585058655552307, 0.04585058655552307, 0.0611341154073641, 0.0611341154073641, 0.015283528851841024, 0.04585058655552307, 0.25741226950374047, 0.1398979725563807, 0.18466532377442252, 0.09401143755788784, 0.09736898889924096, 0.09177306999698574, 0.05036327012029705, 0.04364816743759078, 0.024622043169923002, 0.014549389145863593, 0.09411675506816691, 0.09411675506816691, 0.6588172854771683, 0.09411675506816691, 0.09411675506816691, 0.5373301308828703, 0.6829729915476875, 0.7063965310581216, 0.57786278139598, 0.6155578649286982, 0.26428803904041986, 0.26428803904041986, 0.08159768110891874, 0.6119826083168906, 0.16319536221783748, 0.04079884055445937, 0.04079884055445937, 0.04079884055445937, 0.04079884055445937, 0.28358872619996184, 0.13485876925269924, 0.16799549541193393, 0.1356293907912861, 0.06550283077988249, 0.06627345231846934, 0.06010848000977452, 0.04315480616086376, 0.025430510773366145, 0.01618305231032391, 0.5780076837645639, 0.6713642025301314, 0.08392052531626643, 0.08392052531626643, 0.08392052531626643, 0.08392052531626643, 0.163319304310153, 0.04082982607753825, 0.0816596521550765, 0.12248947823261476, 0.04082982607753825, 0.0816596521550765, 0.28580878254276776, 0.04082982607753825, 0.0816596521550765, 0.28131916377284616, 0.12463507255759007, 0.13175707670373807, 0.14422058395949708, 0.11573256737490507, 0.06409803731533203, 0.03561002073074002, 0.07478104353455405, 0.01602450932883301, 0.012463507255759008, 0.26730829845181897, 0.168549074885876, 0.09744243391839706, 0.21595350219752862, 0.05267158590183625, 0.06715627202484122, 0.0632059030822035, 0.03160295154110175, 0.018435055065642688, 0.01711826541809678, 0.5377703235177502, 0.2564004419912533, 0.5128008839825066, 0.5730355011217491, 0.27168510556780906, 0.18438462843244657, 0.13170330602317612, 0.06397017721125697, 0.09708415129708411, 0.08654788681523003, 0.07977457393403811, 0.04590800952807854, 0.018814758003310877, 0.020319938643575744, 0.273472362690198, 0.1444312911177669, 0.15035060632751143, 0.15626992153725597, 0.10891539985929961, 0.07339950860083236, 0.0402513434262629, 0.030780439090671633, 0.007103178251693453, 0.015390219545335817, 0.30315382200259516, 0.1399171486165824, 0.11046090680256504, 0.1620093299770954, 0.0810046649885477, 0.057685140219117303, 0.06750388749045641, 0.04786639294777818, 0.01718280772484345, 0.013500777498091284, 0.5374517194642433, 0.7062206168679741, 0.5120625753062088, 0.1716857803698419, 0.6867431214793676, 0.1716857803698419, 0.706286363913621, 0.2692164521535234, 0.17113634731406135, 0.14812782956918755, 0.09539297867947678, 0.0826291294195468, 0.07104089785461035, 0.07104089785461035, 0.05088745165472089, 0.021161118509883933, 0.019649610044892227, 0.26622714530329533, 0.16245581178453772, 0.14170154508078622, 0.1281039220679835, 0.10019301167328318, 0.08444839555319582, 0.04365552651478767, 0.05081217020573647, 0.013597623012802717, 0.010019301167328317, 0.6311651050012687, 0.21038836833375624, 0.21038836833375624, 0.6149170978748048, 0.7356158411983779, 0.2565542764343427, 0.5131085528686854, 0.2565542764343427, 0.48424292112571654, 0.9237303240728809, 0.5779556078276382, 0.6537780994406233, 0.4361298885389697, 0.30874954078926786, 0.6174990815785357, 0.19875011422922384, 0.5962503426876715, 0.5331745385438103, 0.5779881562261925, 0.577886301978517, 0.12261415518644093, 0.6130707759322046, 0.5120950068703322, 0.5415702345787057, 0.6207133352845469, 0.7189350867159117, 0.5371660413964726, 0.298554530885157, 0.06861191082453919, 0.22252511618769466, 0.10013630228446259, 0.046359399205769716, 0.05192252711046209, 0.10940818212561654, 0.0649031588880776, 0.024106887587000254, 0.011126255809384733, 0.0787168981420617, 0.5510182869944319, 0.1574337962841234, 0.0787168981420617, 0.0787168981420617, 0.5678549726987239, 0.18928499089957462, 0.45208146278580635, 0.1009969225372546, 0.1009969225372546, 0.09618754527357581, 0.04809377263678791, 0.07695003621886065, 0.04809377263678791, 0.033665640845751535, 0.028856263582072744, 0.009618754527357581, 0.28945914944167056, 0.3146295102626854, 0.0755110824630445, 0.12585180410507416, 0.025170360821014832, 0.05663331184728337, 0.06292590205253708, 0.018877770615761125, 0.012585180410507416, 0.012585180410507416, 0.30403852878110643, 0.12391926259161054, 0.12740994604489533, 0.1302024928075232, 0.11065466546912828, 0.056200003597885344, 0.06492671223109735, 0.04328447482073157, 0.026878262590292988, 0.012566460431825294, 0.22868966512173639, 0.1306798086409922, 0.03266995216024805, 0.09800985648074416, 0.3593694737627286, 0.0653399043204961, 0.03266995216024805, 0.03266995216024805, 0.03266995216024805, 0.6875112472740847, 0.3409664505628473, 0.5373069419309547, 0.10167239547048879, 0.27959908754384416, 0.20334479094097757, 0.12709049433811098, 0.05083619773524439, 0.025418098867622196, 0.025418098867622196, 0.07625429660286659, 0.10167239547048879, 0.6323093522083049, 0.631647956253295, 0.5288375686039979, 0.12139300327331348, 0.6069650163665674, 0.12139300327331348, 0.12139300327331348, 0.5067280940548167, 0.5372766679008154, 0.30256492460078355, 0.09185006639666643, 0.15308344399444404, 0.17649620601712374, 0.06663632267993447, 0.041422578963202505, 0.05583043251562077, 0.06843730437398675, 0.03061668879888881, 0.014407853552418262, 0.33017634500272375, 0.14467596895997872, 0.13464892160631683, 0.1188921329077053, 0.08881099084671962, 0.06732446080315842, 0.04010818941464757, 0.041540624750884984, 0.016473006366730252, 0.017905441702967664, 0.5779177230476081, 0.6632651875050596, 0.5288834540285073, 0.30427076867728725, 0.1505212158045466, 0.13195827766243093, 0.0940253171111511, 0.13236181979595518, 0.06900570483264737, 0.0504427666905317, 0.03349399708251305, 0.015738143207445893, 0.018159396008591414, 0.7061775492682854, 0.2842872589159352, 0.15381905143430652, 0.14362622272480427, 0.13195080074846535, 0.10674671521224163, 0.06782864195777853, 0.050037522755738265, 0.03409964513724385, 0.012787366926466445, 0.014640608510012308, 0.2887180116341084, 0.1641617322611431, 0.14923793841922103, 0.10389256482261156, 0.08495082648478736, 0.06371311986359052, 0.07289699299708104, 0.03730948460480526, 0.018941738337824206, 0.01607177798360842, 0.9229186844216475, 0.7859830205264325, 0.12218861584917677, 0.12218861584917677, 0.12218861584917677, 0.12218861584917677, 0.4887544633967071, 0.12218861584917677, 0.5378111215655943, 0.7061788207313121, 0.6716857676783614, 0.13433715353567227, 0.13433715353567227, 0.6293736210506763, 0.7188189379895082, 0.14362939177652725, 0.09575292785101817, 0.09575292785101817, 0.14362939177652725, 0.09575292785101817, 0.3351352474785636, 0.09575292785101817, 0.04787646392550909, 0.24266656347132895, 0.1224672376397361, 0.24606843118354385, 0.11679745811937794, 0.089015538469623, 0.046492192066936854, 0.07314015581262018, 0.03515263302622055, 0.015875382657002828, 0.012473514944787937, 0.4132959303238392, 0.4132959303238392, 0.3062020407150143, 0.2075655290000937, 0.1346602812108046, 0.09692109411987845, 0.06089732462399443, 0.05660878063638919, 0.0514625278512629, 0.049747110256220806, 0.018869593545463064, 0.016296467152899917, 0.23749858111911218, 0.19153111380573562, 0.1327949055719767, 0.13534865375605318, 0.03575247457707065, 0.06639745278598835, 0.15067114286051203, 0.0306449782089177, 0.0102149927363059, 0.0102149927363059, 0.16974247795020864, 0.07274677626437513, 0.38394131917309093, 0.12528611467753495, 0.0969957016858335, 0.056580825983402874, 0.04849785084291675, 0.024248925421458376, 0.008082975140486125, 0.01616595028097225, 0.21204842385526493, 0.21204842385526493, 0.21204842385526493, 0.21204842385526493, 0.2640949688950826, 0.5281899377901652, 0.1162994146955488, 0.4651976587821952, 0.2325988293910976, 0.1162994146955488, 0.2913600406406669, 0.1440339183958099, 0.1465030712825952, 0.12428069530152741, 0.12345764433926563, 0.053498312547015106, 0.05185221062249157, 0.02633763079237667, 0.02057627405654427, 0.01810712116975896, 0.5372291852669928, 0.5119810395814361, 0.8912979988554286, 0.5286898223896312, 0.5284309608995653, 0.25032519538689657, 0.21903454596353453, 0.03129064942336207, 0.12516259769344829, 0.03129064942336207, 0.15645324711681038, 0.03129064942336207, 0.15645324711681038, 0.6322181991748432, 0.6243427302936708, 0.7701810080294627, 0.7060438244113612, 0.6908174540440049, 0.06908174540440049, 0.13816349080880097, 0.06908174540440049, 0.3100101736610567, 0.1891794366829283, 0.10618458704138557, 0.10659142453962843, 0.09031792460991417, 0.07282391218547132, 0.048006824792657075, 0.05004101228387136, 0.013018799943771411, 0.01423931243849998, 0.5374929391379786, 0.5121282387746836, 0.5120296444211656, 0.4844137370524046, 0.0652699481749317, 0.03263497408746585, 0.5004029360078097, 0.05439162347910975, 0.1522965457415073, 0.0217566493916439, 0.09790492226239755, 0.0217566493916439, 0.03263497408746585, 0.0217566493916439, 0.11020461509343558, 0.22040923018687117, 0.11020461509343558, 0.5510230754671779, 0.25072579875354634, 0.14376086754469553, 0.1685767315851489, 0.09412913946378873, 0.06845755597366453, 0.06674611707432292, 0.10610921175918003, 0.05904464202728566, 0.024815864040453394, 0.016258669543745326, 0.7190345558941936, 0.21069029334885594, 0.14311038793507197, 0.23454202467136795, 0.06757990541378399, 0.05962932830627999, 0.04770346264502399, 0.15901154215007995, 0.05167875119877599, 0.019876442768759994, 0.007950577107503999, 0.10715668658691667, 0.10715668658691667, 0.10715668658691667, 0.10715668658691667, 0.4286267463476667, 0.10715668658691667, 0.19287724296645786, 0.11674148916390871, 0.29439158136985677, 0.11166577224373876, 0.07106003688237922, 0.03553001844118961, 0.09136290456305898, 0.04568145228152949, 0.020302867680679775, 0.020302867680679775, 0.684831433808118, 0.3032601613211665, 0.09183230237190254, 0.11959555657736144, 0.10037484212742835, 0.10037484212742835, 0.036305793960984725, 0.12386682645512435, 0.07688285779973236, 0.027763254205458908, 0.01922071444993309, 0.5782038269048044, 0.15331925957831136, 0.15331925957831136, 0.3066385191566227, 0.15331925957831136, 0.21882476926903707, 0.1868989670656517, 0.1257078461758298, 0.10708446155718834, 0.09577740661015603, 0.05520503297668716, 0.11041006595337433, 0.07848426374998897, 0.011972175826269504, 0.00997681318855792, 0.5780688927033577, 0.2755398264487456, 0.10527700916202071, 0.19365770821161835, 0.11177558997449112, 0.0688849566121864, 0.049389214174775146, 0.09357956369957396, 0.0675852404496923, 0.020795458599905326, 0.012997161624940828, 0.21710473288988083, 0.03618412214831347, 0.03618412214831347, 0.1447364885932539, 0.43420946577976166, 0.03618412214831347, 0.03618412214831347, 0.03618412214831347, 0.07042332764997562, 0.21126998294992688, 0.42253996589985376, 0.07042332764997562, 0.07042332764997562, 0.07042332764997562, 0.16852645225162494, 0.24287635765675358, 0.12887316936888965, 0.10904652792752202, 0.08178489594564152, 0.09169821666632534, 0.06443658468444483, 0.06443658468444483, 0.03469662252239337, 0.01486998108102573, 0.21496060981671083, 0.11434074990250577, 0.18751882984010945, 0.09147259992200461, 0.09147259992200461, 0.16922430985570855, 0.06860444994150346, 0.03658903996880185, 0.013720889988300693, 0.013720889988300693, 0.6609785635862705, 0.9233970031834059, 0.4027674186271837, 0.11860635640555102, 0.09389669882106123, 0.11860635640555102, 0.056832212444326534, 0.11119345913020409, 0.027180623342938776, 0.044477383652081634, 0.012354828792244898, 0.012354828792244898, 0.4419326887432729, 0.24527100434406263, 0.20404236656888294, 0.14600715033757902, 0.1186964603463772, 0.09532481218082947, 0.07195316401528175, 0.046480693542718506, 0.03834000710303334, 0.020745620281778315, 0.013655344995600917, 0.48432504886280786, 0.5377147834271658, 0.5120155516707763, 0.2475062467879487, 0.2674664279805252, 0.07052597354710366, 0.08782479724733663, 0.09314751223202371, 0.05721918608538599, 0.10379294220139784, 0.037259004892809484, 0.015968144954061205, 0.019960181192576507, 0.14441993111817528, 0.07469996437146997, 0.42827979572976116, 0.11951994299435195, 0.0995999524952933, 0.039839980998117315, 0.04481997862288198, 0.024899988123823324, 0.009959995249529329, 0.014939992874293994, 0.20725098348771565, 0.6217529504631469, 0.632200366108526, 0.528871599185666, 0.27087916218770297, 0.17344558599263635, 0.14925994651159144, 0.11194495988369359, 0.11332699642546758, 0.04629822414942883, 0.05666349821273379, 0.05044433377475081, 0.014511383688626946, 0.013129347146852951, 0.30969731311619736, 0.15484865655809868, 0.15484865655809868, 0.30969731311619736, 0.3556807021831911, 0.1465404492994747, 0.11097237908115562, 0.09389970537636244, 0.09674515099382797, 0.04979529830564675, 0.07540430886283651, 0.02703173336592252, 0.018495396513525934, 0.025609010557189758, 0.6325732393538583, 0.7190802492575318, 0.22387855031259934, 0.20615209618227623, 0.1109544721490595, 0.1372158856754641, 0.11358061350169996, 0.07747116990289361, 0.051209756376488995, 0.050553221038328884, 0.017726454130323116, 0.00984803007240173, 0.265779668592178, 0.12403051200968306, 0.12403051200968306, 0.07087457829124746, 0.08859322286405932, 0.08859322286405932, 0.03543728914562373, 0.14174915658249493, 0.03543728914562373, 0.017718644572811866, 0.6139943872141524, 0.40767573843644045, 0.11647878241041157, 0.11647878241041157, 0.058239391205205784, 0.058239391205205784, 0.17471817361561734, 0.1199908896606856, 0.1199908896606856, 0.2399817793213712, 0.3599726689820568, 0.1199908896606856, 0.6579395042535799, 0.7063172774198275, 0.528633171019954, 0.23461651542060089, 0.0521370034268002, 0.3128220205608012, 0.032585627141750124, 0.09775688142525038, 0.14337675942370054, 0.0260685017134001, 0.0521370034268002, 0.019551376285050076, 0.0260685017134001, 0.48465155525792775, 0.49368400001901547, 0.49368400001901547, 0.5781946438664927, 0.15345174309536783, 0.18920358899978598, 0.15505856763039785, 0.18197287859215086, 0.10524700704446695, 0.06949516114004878, 0.04298255631205329, 0.056238858726051034, 0.02611089869423798, 0.020085306687875372, 0.14322846698747552, 0.1700838045476272, 0.05371067512030332, 0.10742135024060664, 0.10742135024060664, 0.044758895933586104, 0.32226405072181996, 0.02685533756015166, 0.01790355837343444, 0.00895177918671722, 0.25307313583187035, 0.1169504642859401, 0.16488098243591556, 0.1284537886419342, 0.06710272540996563, 0.11311602283394206, 0.06326828395796759, 0.051764959601973484, 0.02875831088998527, 0.011503324355994108, 0.6942438871775929, 0.6122808265218724, 0.5779361843823728, 0.19267814717889903, 0.38535629435779806, 0.38535629435779806, 0.7061461012835383, 0.6970283775676687, 0.1161713962612781, 0.1161713962612781, 0.5781114240781975, 0.7190835343998727, 0.5780361199151399, 0.7062583821285697, 0.25834584435976926, 0.5166916887195385, 0.5773292923444853, 0.21519909582993602, 0.43039819165987203, 0.10759954791496801, 0.10759954791496801, 0.3821442291846937, 0.16652789174227303, 0.09817689140029529, 0.09755551866991367, 0.08823492771418943, 0.044738836587476336, 0.047224327509002795, 0.03044726378869917, 0.027340400136791093, 0.017398436450685242, 0.19710155482411917, 0.1136771758055385, 0.2447726285490224, 0.12101118714783131, 0.1072599158810323, 0.07425686484071467, 0.08067412476522087, 0.03300305104031763, 0.01191776843122581, 0.015584774102372214, 0.22666798179566633, 0.45333596359133266, 0.22666798179566633, 0.2441636936862561, 0.170652043974265, 0.11814372275141424, 0.09714039426227393, 0.170652043974265, 0.06563540152856347, 0.06038456940627839, 0.04463207303942316, 0.010501664244570155, 0.018377912427997772, 0.08574214182719513, 0.17148428365439025, 0.42871070913597564, 0.08574214182719513, 0.25722642548158536, 0.3750612900992114, 0.1112409786623489, 0.13998266692917588, 0.0968701345289354, 0.08303154388194463, 0.07859609816175528, 0.05162858818300403, 0.03335455181582391, 0.015435351106258937, 0.014903097619836216, 0.3476381538596084, 0.1546276961962296, 0.13050138898830724, 0.0965052288316894, 0.061412418347438706, 0.07128227129613421, 0.059219117692173036, 0.05044591507111036, 0.015353104586859677, 0.014256454259226841, 0.7063037009591292, 0.537081995011088, 0.5197273628570582, 0.05774748476189536, 0.03849832317459691, 0.21174077746028297, 0.019249161587298454, 0.05774748476189536, 0.03849832317459691, 0.03849832317459691, 0.019249161587298454, 0.019249161587298454, 0.2028908328034376, 0.6086724984103128, 0.6390022891644508, 0.2130007630548169, 0.2130007630548169, 0.5372372972546847, 0.5121115310077619, 0.5780671108506157, 0.1566267211297751, 0.21753711268024323, 0.19288290657648233, 0.08991533990783386, 0.10296756666864845, 0.09281583474357044, 0.05510940187899495, 0.050758659625390085, 0.02320395868589261, 0.020303463850156033, 0.32263266063713286, 0.12207722294378001, 0.16131633031856643, 0.08392809077384876, 0.11117747089522823, 0.06321856188160037, 0.05340878503790376, 0.05776868585732447, 0.01634962807282768, 0.009809776843696608, 0.25975601688682953, 0.14278985723603493, 0.13747321361554427, 0.1450684187876738, 0.10329479034096144, 0.07215444913523042, 0.041014107929499395, 0.06379972344588795, 0.016709451378684938, 0.01746897189589789, 0.2982721456524155, 0.13400632630760695, 0.1577816422654082, 0.09510126383120494, 0.08645569439200448, 0.06916455551360359, 0.051873416635202695, 0.05619620135480292, 0.03890506247640202, 0.01080696179900056, 0.6371996750358607, 0.19077542402287614, 0.7631016960915046, 0.2468690450069384, 0.12611788168832724, 0.11672612454132414, 0.18112674497791675, 0.0912342122851729, 0.10465100820946302, 0.04830046532744447, 0.04964214491987348, 0.016100155109148157, 0.01744183470157717, 0.07892843027576653, 0.05919632270682489, 0.48343663543906995, 0.04933026892235408, 0.13812475298259141, 0.019732107568941632, 0.09866053784470816, 0.019732107568941632, 0.029598161353412446, 0.009866053784470816, 0.6325929638693307, 0.34823721433515004, 0.10869832123756129, 0.09460779811417372, 0.12077591248617921, 0.04428450124493238, 0.07045261561693787, 0.08856900248986475, 0.08051727499078613, 0.016103454998157227, 0.026168114372005495, 0.7061136229783592, 0.42259539491996584, 0.7022501152164909, 0.49300001459672, 0.2638184171377529, 0.1683578056734344, 0.1102136150542586, 0.10587449635133503, 0.1162883812383516, 0.07463284169028535, 0.07029372298736178, 0.04599465825098981, 0.02777035969871083, 0.016488651071109556, 0.5268734556618192, 0.5781196580816642, 0.30217164559303344, 0.09065149367791003, 0.12086865823721338, 0.06043432911860669, 0.06043432911860669, 0.15108582279651672, 0.06043432911860669, 0.030217164559303344, 0.12086865823721338, 0.2979167486020014, 0.1234359114145364, 0.15684713555681692, 0.10765838890290393, 0.0742471647606234, 0.08259997079619352, 0.07888761255816236, 0.03526740326129611, 0.03062695546375715, 0.013921343392616886, 0.2612921834498454, 0.41806749351975264, 0.05225843668996908, 0.1306460917249227, 0.02612921834498454, 0.02612921834498454, 0.02612921834498454, 0.02612921834498454, 0.02612921834498454, 0.5381474827077574, 0.5381474827077574, 0.3462626194310144, 0.08479900884024842, 0.10741207786431467, 0.17101133449450098, 0.06218593981618218, 0.07631910795622358, 0.04663945486213664, 0.07066584070020702, 0.026853019466078668, 0.009893217698028983, 0.22640709986956215, 0.02058246362450565, 0.0411649272490113, 0.20582463624505648, 0.2881544907430791, 0.12349478174703389, 0.0411649272490113, 0.02058246362450565, 0.0411649272490113, 0.6855205679468911, 0.9173636505901666, 0.4178067009570231, 0.11450998470673966, 0.08046647573987112, 0.04023323786993556, 0.12688944251287368, 0.08356134019140461, 0.0649921534822036, 0.04642296677300257, 0.015474322257667521, 0.009284593354600513, 0.5780364042254579, 0.7772726157816618, 0.19431815394541546, 0.10915197208237903, 0.09235936099278226, 0.3442485273367339, 0.07836551841811829, 0.12314581465704302, 0.04757906475385753, 0.14833473129143818, 0.030786453664260756, 0.011195074059731183, 0.013993842574663979, 0.7063224320062104, 0.17894300274746153, 0.6263005096161154, 0.08947150137373076, 0.08947150137373076, 0.4843259198450612, 0.36325564257217274, 0.36325564257217274, 0.25484299485380607, 0.32003538888617505, 0.1540911131674176, 0.065192394032369, 0.047412650205359265, 0.059265812756699086, 0.029632906378349543, 0.04148606892968936, 0.017779743827009725, 0.011853162551339816, 0.5342374696105312, 0.1335593674026328, 0.08013562044157968, 0.08013562044157968, 0.026711873480526557, 0.05342374696105311, 0.05342374696105311, 0.026711873480526557, 0.026711873480526557, 0.026711873480526557, 0.48442973484470625, 0.7104059272047544, 0.1776014818011886, 0.6696861857436887, 0.3937444534986384, 0.1312481511662128, 0.08289356915760808, 0.08289356915760808, 0.06217017686820606, 0.11743255630661145, 0.04144678457880404, 0.02072339228940202, 0.06217017686820606, 0.006907797429800674, 0.28722401948373383, 0.13743584816401389, 0.14627751105441403, 0.14081648397504923, 0.07671442801964824, 0.04836909698865957, 0.09413770489190734, 0.03926738518971826, 0.01573295896674142, 0.014042641061223746, 0.25241255160706305, 0.10283474324732197, 0.16079614398672165, 0.1523823922664862, 0.08039807199336083, 0.08974668501584464, 0.08226779459785759, 0.03926417469443203, 0.025241255160706303, 0.014022919533725725, 0.24373941420506673, 0.1388854775281701, 0.17291701837944357, 0.09933530843074417, 0.07358170994869939, 0.07082239582562316, 0.10117485117946166, 0.06162468208203574, 0.01655588473845736, 0.02023497023589233, 0.2614902936407385, 0.18323762212371453, 0.12394056668845413, 0.10814421995365114, 0.11057442714362084, 0.060026117592251314, 0.046659978047418026, 0.049090185237387715, 0.046659978047418026, 0.009720828759878754, 0.23001798698626064, 0.11500899349313032, 0.11500899349313032, 0.11500899349313032, 0.11500899349313032, 0.34502698047939095, 0.30079843480101887, 0.30079843480101887, 0.30079843480101887, 0.6641032860276768, 0.31188730429152467, 0.18366696808278674, 0.11695773910932174, 0.07537276520378512, 0.08143724056500921, 0.06237746085830493, 0.09010077679532934, 0.04764944926676071, 0.013861657968512207, 0.017327072460640257, 0.3526066521231055, 0.578055074852274, 0.20794085811169388, 0.20794085811169388, 0.41588171622338777, 0.5286169685005699, 0.11192605645160683, 0.5596302822580341, 0.055963028225803416, 0.055963028225803416, 0.055963028225803416, 0.055963028225803416, 0.055963028225803416, 0.055963028225803416, 0.6843020042338223, 0.6996495613874245, 0.7049976371550786, 0.05639981097240628, 0.02819990548620314, 0.16919943291721884, 0.02819990548620314, 0.6847760047759658, 0.5779103842982634, 0.6964538595285331, 0.2844066712409775, 0.1318202349243896, 0.15258643631658794, 0.09028783213999288, 0.1318202349243896, 0.07674465731899394, 0.05146406431979594, 0.04514391606999644, 0.014446053142398859, 0.02076620139219836, 0.5777907981039379, 0.5120854979842437, 0.7063425379391418, 0.3444999046371077, 0.1370315605805596, 0.09733082807591148, 0.12934754783772448, 0.07940146500929621, 0.0858048089616588, 0.04994608282842826, 0.035858726133230545, 0.017929363066615273, 0.02305203822850535, 0.706644308145708, 0.117774051357618, 0.117774051357618, 0.117774051357618, 0.24514438716454276, 0.21080048751347155, 0.09592606454264717, 0.11191374196642169, 0.08053052331975318, 0.11783510397522708, 0.04263380646339874, 0.06631925449862026, 0.013619132620252376, 0.014803405022013452, 0.5777889179457038, 0.6325955817672476, 0.7390640426666751, 0.2905791454941132, 0.2268730162014158, 0.13102266079393882, 0.08187460492279021, 0.08536854254396191, 0.06685067315175189, 0.039015636769750665, 0.04390714943939105, 0.010831206625632275, 0.02364231123659518, 0.09805481615114801, 0.4902740807557401, 0.19610963230229603, 0.09805481615114801, 0.09805481615114801, 0.6870317983904695, 0.6339340145395137, 0.6877104221275204, 0.3084952730546302, 0.14079920726223455, 0.17751926629906317, 0.11974949189080414, 0.07531120388445103, 0.052624288428576034, 0.054729259965719076, 0.04022834493206701, 0.018944743834287372, 0.011694286317461342, 0.20921178472055704, 0.1699845750854526, 0.15037097026790036, 0.11768162890531333, 0.05393741324826861, 0.07518548513395018, 0.10950929356466657, 0.06701314979330343, 0.02778594015819898, 0.019613604817552224, 0.48613918111383286, 0.32206079416907585, 0.181776644561687, 0.09681582156002894, 0.062238742431447176, 0.1057070704788071, 0.08693665609471986, 0.07409374098981807, 0.03655291222164358, 0.013830831651432705, 0.017782497837556335, 0.2017555331838654, 0.08771979703646322, 0.3508791881458529, 0.09649177674010954, 0.0789478173328169, 0.026315939110938966, 0.05263187822187793, 0.04385989851823161, 0.03508791881458529, 0.017543959407292645, 0.24184961759198587, 0.13769540271660508, 0.13063410001318942, 0.16240996217855985, 0.06884770135830254, 0.07061302703415645, 0.0776743297375721, 0.07414367838586428, 0.019418582434393025, 0.01412260540683129, 0.6931542092743971, 0.24867730232265445, 0.24867730232265445, 0.24867730232265445, 0.891149437949482, 0.48449967513559444, 0.619367981941676, 0.04424057013869114, 0.12008154751930453, 0.07584097738061339, 0.04424057013869114, 0.037920488690306696, 0.018960244345153348, 0.025280325793537794, 0.012640162896768897, 0.7092566164903581, 0.4903612454368914, 0.12132649371634427, 0.05560797628665779, 0.1263817642878586, 0.0909948702872582, 0.03538689400060041, 0.030331623429086067, 0.03538689400060041, 0.010110541143028689, 0.010110541143028689, 0.38528712665911946, 0.10945657007361348, 0.06567394204416808, 0.21453487734428242, 0.07661959905152943, 0.043782628029445395, 0.03940436522650085, 0.04159349662797312, 0.010945657007361349, 0.010945657007361349, 0.3274057581097068, 0.06884326454140534, 0.13688602600674785, 0.21773683668909596, 0.0696437676174682, 0.060037730704713965, 0.04562867533558261, 0.04562867533558261, 0.017611067673382764, 0.010406539988817087, 0.0574924497159221, 0.4024471480114547, 0.1149848994318442, 0.3449546982955326, 0.0574924497159221, 0.7189911440557349, 0.29621701644451764, 0.1539166850152886, 0.09293082868847613, 0.09002674029196125, 0.08712265189544637, 0.13649215463619932, 0.046465414344238065, 0.04936950274075294, 0.023232707172119033, 0.02904088396514879, 0.6324758872913343, 0.9235803448215624, 0.7641368581288862, 0.15282737162577723, 0.15282737162577723, 0.21307957832998797, 0.10653978916499399, 0.16444184849379506, 0.11117195391129808, 0.14359710713542667, 0.03705731797043269, 0.09264329492608173, 0.07179855356771334, 0.04400556508988882, 0.01389649423891226, 0.5681012758047036, 0.3787341838698024, 0.6317985288146043, 0.7769007705678315, 0.5772778138362404, 0.11840600862982015, 0.2368120172596403, 0.11840600862982015, 0.35521802588946044, 0.165329655885412, 0.330659311770824, 0.165329655885412, 0.330659311770824, 0.11410993176504147, 0.057054965882520736, 0.2852748294126037, 0.11410993176504147, 0.1711648976475622, 0.057054965882520736, 0.057054965882520736, 0.1711648976475622, 0.2647194308914792, 0.10186507512245646, 0.16869375497986422, 0.11938327275498083, 0.0940792095080012, 0.06293574705018011, 0.10510918579514616, 0.045417549417655745, 0.022059952574289936, 0.015571731228910542, 0.7585409532947522, 0.6078139608327119, 0.14764479178684808, 0.4429343753605442, 0.14764479178684808, 0.07382239589342404, 0.14764479178684808, 0.623082095139363, 0.32211269168794954, 0.11565470532415993, 0.10227316917095135, 0.14719689768529445, 0.07073097680981681, 0.08697998499585581, 0.07264262483170375, 0.04492372851434311, 0.01911648021886941, 0.01911648021886941, 0.6569064202820898, 0.725013230464921, 0.26780473103142227, 0.5356094620628445, 0.5779065775144978, 0.3206516364407242, 0.10148570311591944, 0.16950271690637608, 0.0820522706043604, 0.0615392029532703, 0.08313190574389145, 0.08313190574389145, 0.05506139211608395, 0.028070513627807506, 0.014035256813903753, 0.0409153338798197, 0.24549200327891824, 0.1636613355192788, 0.0409153338798197, 0.3273226710385576, 0.0818306677596394, 0.0409153338798197, 0.0409153338798197, 0.2608674230945585, 0.1659331959271573, 0.11133929191870846, 0.13150945349818463, 0.1000440014342018, 0.10811206606599229, 0.04625690388893202, 0.04276074254848949, 0.013446774386317448, 0.019901226091749824, 0.6320732090590553, 0.5778676835503694, 0.7062029739820119, 0.24033163057690554, 0.15176577029275073, 0.1466065939655184, 0.11307194783850832, 0.12940933954141068, 0.07308833130245786, 0.05546114551774743, 0.049012175108707035, 0.017627185784710425, 0.024076156193750822, 0.5120208050372194, 0.2700291440682766, 0.12985008020769584, 0.1807572139254857, 0.10107648288894507, 0.06787617829038646, 0.06271168646394401, 0.08558300740961772, 0.06049833282404011, 0.02139575185240443, 0.01992018275913516, 0.19361734220830762, 0.14455593422792198, 0.17259102450242805, 0.1401754513725304, 0.09286623653430139, 0.08060088453920498, 0.06220285654656037, 0.05607018054901216, 0.03153947655881934, 0.02628289713234945, 0.7084070282968411, 0.24851689846364514, 0.17590496516768298, 0.1810184815969761, 0.11556547130202427, 0.07158923001010353, 0.056248680722224206, 0.07158923001010353, 0.04090813143434488, 0.024544878860606925, 0.015340549287879328, 0.5041741733013011, 0.5373534429320211, 0.05977499600937603, 0.2590249827072961, 0.07969999467916804, 0.1992499866979201, 0.03984999733958402, 0.05977499600937603, 0.09962499334896005, 0.07969999467916804, 0.09962499334896005, 0.01992499866979201, 0.22491321023933614, 0.12250989830084422, 0.21602890463736651, 0.08603748582960052, 0.10287090697017454, 0.07949115538604395, 0.08276432060782224, 0.044421528009848096, 0.01917139629898707, 0.02150937145740013, 0.4913087239615416, 0.5777877623846672, 0.5086269001674683, 0.4961343466524201, 0.13280782470281108, 0.055919084085394144, 0.37745381757641044, 0.055919084085394144, 0.16076736674550815, 0.04193931306404561, 0.09785839714943975, 0.027959542042697072, 0.027959542042697072, 0.013979771021348536, 0.2961119532545986, 0.2961119532545986, 0.2961119532545986, 0.483538921463969, 0.2898287840631967, 0.17995904892812864, 0.11934126402602216, 0.08524376001858726, 0.0814551484622056, 0.0890323715749689, 0.07956084268401477, 0.03220319822924407, 0.013260140447335795, 0.03220319822924407, 0.5284515883775224, 0.19211792713933354, 0.15177820490535274, 0.12001067364609286, 0.1371550555955347, 0.0766454722445635, 0.11597670142269478, 0.1094214965596729, 0.06151807640682071, 0.015127395837742797, 0.020169861116990397, 0.5286683787613187, 0.6253741437222814, 0.24349770881087268, 0.48699541762174536, 0.08602537707079785, 0.08602537707079785, 0.08602537707079785, 0.1720507541415957, 0.3441015082831914, 0.08602537707079785, 0.08148430338023281, 0.13580717230038802, 0.13580717230038802, 0.16296860676046562, 0.2987757790608536, 0.054322868920155205, 0.027161434460077603, 0.027161434460077603, 0.027161434460077603, 0.027161434460077603, 0.14606611845148648, 0.14606611845148648, 0.14606611845148648, 0.43819835535445945, 0.6322193917035347, 0.2066206291070329, 0.20011289275720512, 0.12690085882164226, 0.09598911115996017, 0.13340859517147008, 0.09110830889758932, 0.056942693060993324, 0.043927220361337706, 0.021150143136940375, 0.027657879486768185, 0.24489920983267793, 0.26938913081594573, 0.07346976294980338, 0.09795968393307117, 0.024489920983267792, 0.09795968393307117, 0.024489920983267792, 0.024489920983267792, 0.14693952589960677, 0.1959627371538329, 0.12158272013194012, 0.08439271162099372, 0.09583579116282338, 0.20597543175293384, 0.11300041047556787, 0.04720270311004734, 0.08296232667826502, 0.0386203934536751, 0.01573423437001578, 0.5828782869483097, 0.04857319057902581, 0.04857319057902581, 0.29143914347415484, 0.24046963217402872, 0.16685647946769339, 0.1799432621710419, 0.06379806567882394, 0.13904706622307783, 0.04743958729963832, 0.08342823973384669, 0.04089619594796407, 0.02453771756877844, 0.016358478379185627, 0.5724888403237389, 0.5289812025013232, 0.7058281048291117, 0.5121223648743009, 0.6987026538451347, 0.680195305127769, 0.7687028665583149, 0.7061885080646632, 0.16629921298625092, 0.16629921298625092, 0.4988976389587527, 0.16629921298625092, 0.6501790914090739, 0.20635074026862357, 0.6190522208058707, 0.6960496412985164, 0.1601345221709244, 0.4403699359700421, 0.12010089162819329, 0.0400336305427311, 0.0400336305427311, 0.0800672610854622, 0.0800672610854622, 0.0400336305427311, 0.6103874762351732, 0.22265388506855902, 0.10135736559091119, 0.1686520099586473, 0.14123567336438445, 0.11880412524180574, 0.07477182707526235, 0.10218816366952521, 0.035724317380403124, 0.02160075004396468, 0.013292769257824417, 0.5585017904566159, 0.2792508952283079, 0.12295180457221398, 0.07025817404126514, 0.14051634808253027, 0.07025817404126514, 0.08782271755158141, 0.03512908702063257, 0.28103269616506055, 0.10538726106189769, 0.03512908702063257, 0.052693630530948846, 0.22487035999020305, 0.2379273486347955, 0.13637299251018767, 0.12911910992985853, 0.055129507610501394, 0.09720202657641036, 0.055129507610501394, 0.027564753805250697, 0.02031087122492157, 0.017409318192789916, 0.4840715258981719, 0.24685917600884608, 0.13988686640501277, 0.12891534747128627, 0.10285799000368587, 0.12205814813770723, 0.05760047440206408, 0.09325791093667518, 0.058971914268779894, 0.03154311693446366, 0.01782871826730555, 0.706282944183814, 0.7192545065256293, 0.706203768480087, 0.5394232791716559, 0.2291419587246063, 0.1990303551742574, 0.15202687646151763, 0.11089883258787037, 0.10575782710366445, 0.07197407677888275, 0.06242649516535749, 0.028642744840575787, 0.018360733872163967, 0.02203288064659676, 0.21988568933325417, 0.18798869118923273, 0.14387582141558605, 0.11537212094646052, 0.12215871629625231, 0.06922327256787632, 0.054292762798334365, 0.04275555070368831, 0.03121833860904226, 0.013573190699583591], \"Term\": [\"acceptance\", \"acceptance\", \"acceptance\", \"acceptance\", \"acceptance\", \"acceptance\", \"acceptance\", \"acceptance\", \"acceptance\", \"acq\", \"acquit\", \"acquit\", \"acquit\", \"acquit\", \"acquit\", \"acquit\", \"acquit\", \"acquit\", \"acquit\", \"acquit\", \"alce\", \"aldersey\", \"allentransportation\", \"allworthy\", \"almond\", \"almond\", \"almond\", \"almond\", \"almond\", \"almond\", \"almond\", \"almond\", \"amsterdam\", \"antonio\", \"antonio\", \"antonio\", \"antonio\", \"antonio\", \"arthue\", \"artichoke\", \"article\", \"article\", \"article\", \"article\", \"article\", \"article\", \"article\", \"article\", \"article\", \"article\", \"ashbridge\", \"ashbridge\", \"ashlee\", \"ask\", \"ask\", \"ask\", \"ask\", \"ask\", \"ask\", \"ask\", \"ask\", \"ask\", \"ask\", \"away\", \"away\", \"away\", \"away\", \"away\", \"away\", \"away\", \"away\", \"away\", \"away\", \"bad\", \"bad\", \"bad\", \"bad\", \"bad\", \"bad\", \"bad\", \"bad\", \"bad\", \"bad\", \"bagley\", \"bagnal\", \"balak\", \"bampton\", \"bampton\", \"barnard\", \"barnard\", \"barnard\", \"barnard\", \"barnard\", \"barnard\", \"barnard\", \"barnard\", \"barrimore\", \"bartrum\", \"basket\", \"basket\", \"basket\", \"basket\", \"basket\", \"basket\", \"basket\", \"basket\", \"basket\", \"basket\", \"bassano\", \"bastock\", \"baugham\", \"becket\", \"beda\", \"beef\", \"beef\", \"beef\", \"beef\", \"beef\", \"beef\", \"beef\", \"bellamy\", \"benbrook\", \"bengodwin\", \"berridge\", \"berrit\", \"bertie\", \"bidgood\", \"birk\", \"blanchard\", \"boat\", \"boat\", \"boat\", \"boat\", \"boat\", \"boat\", \"boat\", \"boat\", \"boat\", \"boat\", \"bobin\", \"bonnell\", \"book\", \"book\", \"book\", \"book\", \"book\", \"book\", \"book\", \"book\", \"book\", \"book\", \"bowman\", \"bowman\", \"bowman\", \"box\", \"box\", \"box\", \"box\", \"box\", \"box\", \"box\", \"box\", \"box\", \"box\", \"brackleystreet\", \"branford\", \"brassfinisher\", \"bring\", \"bring\", \"bring\", \"bring\", \"bring\", \"bring\", \"bring\", \"bring\", \"bring\", \"bring\", \"brocklington\", \"broxholm\", \"bruin\", \"burgay\", \"burk\", \"burnand\", \"bursey\", \"butter\", \"butter\", \"butter\", \"butter\", \"butter\", \"butter\", \"butter\", \"butter\", \"butter\", \"butter\", \"byhen\", \"cain\", \"cain\", \"cain\", \"cain\", \"cain\", \"cairncross\", \"callicoe\", \"calveskin\", \"cambric\", \"cambric\", \"cambric\", \"cambric\", \"cambrick\", \"candlestick\", \"candlestick\", \"candlestick\", \"candlestick\", \"candlestick\", \"candlestick\", \"candlestick\", \"candlestick\", \"candlestick\", \"caperoe\", \"carnelly\", \"carnelly\", \"carolina\", \"carry\", \"carry\", \"carry\", \"carry\", \"carry\", \"carry\", \"carry\", \"carry\", \"carry\", \"carry\", \"cart\", \"cart\", \"cart\", \"cart\", \"cart\", \"cart\", \"cart\", \"cart\", \"cart\", \"cart\", \"cary\", \"catherick\", \"catherick\", \"catherick\", \"catherinecreed\", \"cave\", \"chaldron\", \"changd\", \"charge\", \"charge\", \"charge\", \"charge\", \"charge\", \"charge\", \"charge\", \"charge\", \"charge\", \"charge\", \"cheque\", \"cheque\", \"cheque\", \"cheque\", \"cheque\", \"cheque\", \"cheque\", \"cheque\", \"cheque\", \"cheque\", \"cherrell\", \"chever\", \"christiana\", \"christy\", \"christy\", \"claremarket\", \"claremarket\", \"claremarket\", \"claremarket\", \"claremarket\", \"claude\", \"clinch\", \"clough\", \"clough\", \"clove\", \"coat\", \"coat\", \"coat\", \"coat\", \"coat\", \"coat\", \"coat\", \"coat\", \"coat\", \"coat\", \"coate\", \"colstain\", \"colton\", \"colton\", \"colton\", \"columbia\", \"come\", \"come\", \"come\", \"come\", \"come\", \"come\", \"come\", \"come\", \"come\", \"come\", \"coney\", \"conf\", \"confest\", \"confest\", \"confest\", \"confined\", \"confined\", \"convict\", \"convict\", \"convict\", \"convict\", \"convict\", \"convict\", \"convict\", \"convict\", \"convict\", \"convict\", \"convictable\", \"cooley\", \"cooley\", \"cooley\", \"cooley\", \"cooley\", \"cooley\", \"coombe\", \"coombe\", \"cooperative\", \"cotterel\", \"coultrup\", \"counc\", \"counc\", \"counc\", \"counc\", \"counc\", \"counc\", \"counc\", \"counc\", \"counc\", \"counc\", \"court\", \"court\", \"court\", \"court\", \"court\", \"court\", \"court\", \"court\", \"court\", \"court\", \"cowley\", \"cowley\", \"cowley\", \"cowley\", \"cowley\", \"coxon\", \"craggs\", \"cragie\", \"crawshay\", \"cressell\", \"crofts\", \"crofts\", \"crossan\", \"crossan\", \"crossan\", \"crossan\", \"crossan\", \"crossan\", \"crossan\", \"crossexamine\", \"crossexamine\", \"crossexamine\", \"crossexamine\", \"crossexamine\", \"crossexamine\", \"crossexamine\", \"crossexamine\", \"crossexamine\", \"crossexamine\", \"crux\", \"cubitt\", \"cubitt\", \"cubitt\", \"cubitt\", \"cubitt\", \"curtis\", \"curtis\", \"curtis\", \"curtis\", \"curtis\", \"curtis\", \"curtis\", \"curtis\", \"curtis\", \"custody\", \"custody\", \"custody\", \"custody\", \"custody\", \"custody\", \"custody\", \"custody\", \"custody\", \"custody\", \"d\", \"d\", \"d\", \"d\", \"d\", \"d\", \"d\", \"d\", \"d\", \"d\", \"dagney\", \"darby\", \"darby\", \"davadge\", \"day\", \"day\", \"day\", \"day\", \"day\", \"day\", \"day\", \"day\", \"day\", \"day\", \"december\", \"december\", \"december\", \"december\", \"december\", \"december\", \"december\", \"december\", \"december\", \"december\", \"defence\", \"defence\", \"defence\", \"defence\", \"defence\", \"defence\", \"defence\", \"defence\", \"defence\", \"defence\", \"degen\", \"delamont\", \"delile\", \"dickson\", \"dickson\", \"dickson\", \"disgrange\", \"do\", \"do\", \"do\", \"do\", \"do\", \"do\", \"do\", \"do\", \"do\", \"do\", \"door\", \"door\", \"door\", \"door\", \"door\", \"door\", \"door\", \"door\", \"door\", \"door\", \"dormer\", \"dormer\", \"dormer\", \"dowd\", \"dowla\", \"downing\", \"downing\", \"downing\", \"drilling\", \"dudey\", \"easher\", \"edgewareroad\", \"eldridge\", \"engstrem\", \"engstrem\", \"ethel\", \"ethel\", \"ethelbert\", \"ewell\", \"exposure\", \"extort\", \"extort\", \"fairbairn\", \"fairforth\", \"farrer\", \"faulkener\", \"fazakerley\", \"feloniously\", \"feloniously\", \"feloniously\", \"feloniously\", \"feloniously\", \"feloniously\", \"feloniously\", \"feloniously\", \"feloniously\", \"feloniously\", \"felton\", \"felton\", \"felton\", \"felton\", \"felton\", \"fiander\", \"fiander\", \"field\", \"field\", \"field\", \"field\", \"field\", \"field\", \"field\", \"field\", \"field\", \"field\", \"fight\", \"fight\", \"fight\", \"fight\", \"fight\", \"fight\", \"fight\", \"fight\", \"fight\", \"fight\", \"find\", \"find\", \"find\", \"find\", \"find\", \"find\", \"find\", \"find\", \"find\", \"find\", \"firkin\", \"firkin\", \"firkin\", \"firkin\", \"firkin\", \"firkin\", \"firkin\", \"firkin\", \"firkin\", \"fitzgenald\", \"flanagan\", \"fleay\", \"fletcher\", \"fletcher\", \"fletcher\", \"fletcher\", \"fletcher\", \"fletcher\", \"fletcher\", \"fletcher\", \"fletcher\", \"fortyfour\", \"founder\", \"freshwater\", \"gabaldi\", \"gabaldi\", \"gabaldi\", \"gabaldi\", \"gannon\", \"geofry\", \"george\", \"george\", \"george\", \"george\", \"george\", \"george\", \"george\", \"george\", \"george\", \"george\", \"get\", \"get\", \"get\", \"get\", \"get\", \"get\", \"get\", \"get\", \"get\", \"get\", \"giffard\", \"gilbin\", \"giusue\", \"give\", \"give\", \"give\", \"give\", \"give\", \"give\", \"give\", \"give\", \"give\", \"give\", \"glasford\", \"go\", \"go\", \"go\", \"go\", \"go\", \"go\", \"go\", \"go\", \"go\", \"go\", \"good\", \"good\", \"good\", \"good\", \"good\", \"good\", \"good\", \"good\", \"good\", \"good\", \"goodenough\", \"goodyear\", \"gore\", \"gore\", \"gore\", \"gore\", \"gore\", \"gore\", \"goss\", \"grady\", \"grafton\", \"grafton\", \"grafton\", \"granan\", \"griffis\", \"gross\", \"gross\", \"gross\", \"gross\", \"gross\", \"gross\", \"gross\", \"gross\", \"guilty\", \"guilty\", \"guilty\", \"guilty\", \"guilty\", \"guilty\", \"guilty\", \"guilty\", \"guilty\", \"guilty\", \"hampson\", \"hampson\", \"hand\", \"hand\", \"hand\", \"hand\", \"hand\", \"hand\", \"hand\", \"hand\", \"hand\", \"hand\", \"handkerchief\", \"handkerchief\", \"handkerchief\", \"handkerchief\", \"handkerchief\", \"handkerchief\", \"handkerchief\", \"handkerchief\", \"handkerchief\", \"handkerchief\", \"hard\", \"hard\", \"hard\", \"hard\", \"hard\", \"hard\", \"hard\", \"hard\", \"hard\", \"hard\", \"hardey\", \"hardey\", \"hardey\", \"hardey\", \"headclothe\", \"headclothe\", \"healey\", \"healey\", \"healey\", \"healey\", \"hear\", \"hear\", \"hear\", \"hear\", \"hear\", \"hear\", \"hear\", \"hear\", \"hear\", \"hear\", \"hector\", \"henson\", \"heron\", \"highness\", \"highnesss\", \"hogan\", \"hogan\", \"hogan\", \"hogan\", \"hogan\", \"hogan\", \"hogan\", \"hogan\", \"hogben\", \"holster\", \"hopkinson\", \"hopton\", \"housden\", \"housden\", \"housden\", \"housden\", \"house\", \"house\", \"house\", \"house\", \"house\", \"house\", \"house\", \"house\", \"house\", \"house\", \"hume\", \"huzzey\", \"ida\", \"ilson\", \"image\", \"image\", \"image\", \"image\", \"image\", \"image\", \"image\", \"image\", \"image\", \"image\", \"indecency\", \"indecency\", \"indecency\", \"indecency\", \"indict\", \"indict\", \"indict\", \"indict\", \"indict\", \"indict\", \"indict\", \"indict\", \"indict\", \"indict\", \"indicted\", \"indictment\", \"indictment\", \"indictment\", \"indictment\", \"indictment\", \"indictment\", \"indictment\", \"indictment\", \"indictment\", \"indictment\", \"insulate\", \"insulate\", \"insulate\", \"insulate\", \"insulate\", \"insulate\", \"intent\", \"intent\", \"intent\", \"intent\", \"intent\", \"intent\", \"intent\", \"intent\", \"intent\", \"intent\", \"izard\", \"january\", \"january\", \"january\", \"january\", \"january\", \"january\", \"january\", \"january\", \"january\", \"january\", \"jeffrie\", \"jennings\", \"jennings\", \"jennings\", \"jennings\", \"john\", \"john\", \"john\", \"john\", \"john\", \"john\", \"john\", \"john\", \"john\", \"john\", \"jules\", \"jury\", \"jury\", \"jury\", \"jury\", \"jury\", \"jury\", \"jury\", \"jury\", \"jury\", \"jury\", \"kemp\", \"kemp\", \"kemp\", \"kemp\", \"kemp\", \"kemp\", \"kemp\", \"kemp\", \"kennon\", \"kennon\", \"kennon\", \"kennon\", \"kennon\", \"kennon\", \"key\", \"key\", \"key\", \"key\", \"key\", \"key\", \"key\", \"key\", \"key\", \"key\", \"king\", \"king\", \"king\", \"king\", \"king\", \"king\", \"king\", \"king\", \"king\", \"king\", \"kingsford\", \"knapper\", \"knife\", \"knife\", \"knife\", \"knife\", \"knife\", \"knife\", \"knife\", \"knife\", \"knife\", \"knife\", \"knill\", \"know\", \"know\", \"know\", \"know\", \"know\", \"know\", \"know\", \"know\", \"know\", \"know\", \"knowin\", \"knox\", \"kyle\", \"l\", \"l\", \"l\", \"l\", \"l\", \"l\", \"l\", \"l\", \"l\", \"l\", \"labour\", \"labour\", \"labour\", \"labour\", \"labour\", \"labour\", \"labour\", \"labour\", \"labour\", \"labour\", \"lake\", \"lake\", \"leak\", \"leathertrace\", \"leave\", \"leave\", \"leave\", \"leave\", \"leave\", \"leave\", \"leave\", \"leave\", \"leave\", \"leave\", \"lester\", \"lester\", \"lester\", \"lester\", \"letter\", \"letter\", \"letter\", \"letter\", \"letter\", \"letter\", \"letter\", \"letter\", \"letter\", \"letter\", \"lever\", \"lewington\", \"live\", \"live\", \"live\", \"live\", \"live\", \"live\", \"live\", \"live\", \"live\", \"live\", \"load\", \"load\", \"load\", \"load\", \"load\", \"load\", \"load\", \"load\", \"load\", \"load\", \"lockt\", \"logwood\", \"logwood\", \"logwood\", \"logwood\", \"logwood\", \"logwood\", \"loosely\", \"loosely\", \"loosely\", \"loosely\", \"loosely\", \"lowrie\", \"macclery\", \"mackduff\", \"mackenzie\", \"mackenzie\", \"mackenzie\", \"mackenzie\", \"mackenzie\", \"mackenzie\", \"mackenzie\", \"mackenzie\", \"mackenzie\", \"mackenzie\", \"maclean\", \"madlock\", \"madlock\", \"mallett\", \"man\", \"man\", \"man\", \"man\", \"man\", \"man\", \"man\", \"man\", \"man\", \"man\", \"mare\", \"mare\", \"mare\", \"mare\", \"mare\", \"mare\", \"mare\", \"mare\", \"mare\", \"mare\", \"mark\", \"mark\", \"mark\", \"mark\", \"mark\", \"mark\", \"mark\", \"mark\", \"mark\", \"mark\", \"mash\", \"masse\", \"mathematical\", \"matson\", \"matson\", \"matson\", \"maylum\", \"mcarthur\", \"mcarthur\", \"mcarthur\", \"medhurst\", \"mendal\", \"merrill\", \"mlaren\", \"mmurdo\", \"mmurdo\", \"mole\", \"molloy\", \"molloy\", \"molloy\", \"molloy\", \"money\", \"money\", \"money\", \"money\", \"money\", \"money\", \"money\", \"money\", \"money\", \"money\", \"month\", \"month\", \"month\", \"month\", \"month\", \"month\", \"month\", \"month\", \"month\", \"month\", \"moroner\", \"moroner\", \"moroner\", \"mother\", \"mother\", \"mother\", \"mother\", \"mother\", \"mother\", \"mother\", \"mother\", \"mother\", \"mother\", \"moxon\", \"moxon\", \"moxon\", \"moxon\", \"moxon\", \"mr\", \"mr\", \"mr\", \"mr\", \"mr\", \"mr\", \"mr\", \"mr\", \"mr\", \"mr\", \"mrs\", \"mrs\", \"mrs\", \"mrs\", \"mrs\", \"mrs\", \"mrs\", \"mrs\", \"mrs\", \"mrs\", \"muncreef\", \"murdo\", \"muslin\", \"muslin\", \"muslin\", \"muslin\", \"muslin\", \"muslin\", \"muslin\", \"muslin\", \"muslin\", \"muslin\", \"nesbitt\", \"nesbitt\", \"nightingale\", \"nightingale\", \"nightingale\", \"nitson\", \"nonsuch\", \"northey\", \"not\", \"not\", \"not\", \"not\", \"not\", \"not\", \"not\", \"not\", \"not\", \"not\", \"note\", \"note\", \"note\", \"note\", \"note\", \"note\", \"note\", \"note\", \"note\", \"note\", \"oclock\", \"oclock\", \"oclock\", \"oclock\", \"oclock\", \"oclock\", \"oclock\", \"oclock\", \"oclock\", \"oclock\", \"office\", \"office\", \"office\", \"office\", \"office\", \"office\", \"office\", \"office\", \"office\", \"office\", \"ohrland\", \"oilcloth\", \"oilcloth\", \"open\", \"open\", \"open\", \"open\", \"open\", \"open\", \"open\", \"open\", \"open\", \"open\", \"original\", \"original\", \"original\", \"original\", \"original\", \"original\", \"original\", \"original\", \"original\", \"original\", \"ouvry\", \"pair\", \"pair\", \"pair\", \"pair\", \"pair\", \"pair\", \"pair\", \"pair\", \"pair\", \"pair\", \"palfreman\", \"parcels\", \"patriot\", \"pause\", \"pay\", \"pay\", \"pay\", \"pay\", \"pay\", \"pay\", \"pay\", \"pay\", \"pay\", \"pay\", \"peaverly\", \"penelope\", \"perkin\", \"perkin\", \"perkin\", \"perkin\", \"perkin\", \"perkin\", \"perkin\", \"perkin\", \"perkin\", \"person\", \"person\", \"person\", \"person\", \"person\", \"person\", \"person\", \"person\", \"person\", \"person\", \"pewter\", \"pewter\", \"pewter\", \"pewter\", \"pewter\", \"pewter\", \"pewter\", \"pewter\", \"pewter\", \"pidworth\", \"pidworth\", \"piece\", \"piece\", \"piece\", \"piece\", \"piece\", \"piece\", \"piece\", \"piece\", \"piece\", \"piece\", \"pig\", \"pig\", \"pig\", \"pig\", \"pig\", \"pig\", \"pig\", \"pig\", \"pig\", \"pimm\", \"pinner\", \"plate\", \"plate\", \"plate\", \"plate\", \"plate\", \"plate\", \"plate\", \"plate\", \"plate\", \"plate\", \"platelayer\", \"plea\", \"plea\", \"plead\", \"plead\", \"plead\", \"plead\", \"plead\", \"plead\", \"plead\", \"plead\", \"plead\", \"plead\", \"pleading\", \"pleydell\", \"pleydell\", \"pleydell\", \"pleydell\", \"portington\", \"posey\", \"posey\", \"pot\", \"pot\", \"pot\", \"pot\", \"pot\", \"pot\", \"pot\", \"pot\", \"pot\", \"pot\", \"potato\", \"potato\", \"potato\", \"potato\", \"potato\", \"potato\", \"potato\", \"potato\", \"potato\", \"potato\", \"poulter\", \"prestridge\", \"prestridge\", \"prigg\", \"print\", \"print\", \"print\", \"print\", \"print\", \"print\", \"print\", \"print\", \"print\", \"print\", \"prisoner\", \"prisoner\", \"prisoner\", \"prisoner\", \"prisoner\", \"prisoner\", \"prisoner\", \"prisoner\", \"prisoner\", \"prisoner\", \"produce\", \"produce\", \"produce\", \"produce\", \"produce\", \"produce\", \"produce\", \"produce\", \"produce\", \"produce\", \"property\", \"property\", \"property\", \"property\", \"property\", \"property\", \"property\", \"property\", \"property\", \"property\", \"q\", \"q\", \"q\", \"q\", \"q\", \"q\", \"q\", \"q\", \"q\", \"q\", \"radborn\", \"radborn\", \"radborn\", \"radborn\", \"radborn\", \"radborn\", \"rawlin\", \"rawlin\", \"rawlin\", \"rea\", \"receive\", \"receive\", \"receive\", \"receive\", \"receive\", \"receive\", \"receive\", \"receive\", \"receive\", \"receive\", \"redd\", \"reformatory\", \"rein\", \"rein\", \"rein\", \"requester\", \"reticule\", \"reticule\", \"reticule\", \"reticule\", \"reticule\", \"reticule\", \"reticule\", \"reticule\", \"riddinghood\", \"ridinghood\", \"ridout\", \"ridout\", \"ridout\", \"ridout\", \"ridout\", \"riselys\", \"rishton\", \"rodd\", \"room\", \"room\", \"room\", \"room\", \"room\", \"room\", \"room\", \"room\", \"room\", \"room\", \"rothwell\", \"rowlandson\", \"rowlet\", \"run\", \"run\", \"run\", \"run\", \"run\", \"run\", \"run\", \"run\", \"run\", \"run\", \"ryve\", \"ryve\", \"ryve\", \"ryve\", \"s\", \"s\", \"s\", \"s\", \"s\", \"s\", \"s\", \"s\", \"s\", \"s\", \"sachell\", \"sallis\", \"sandal\", \"say\", \"say\", \"say\", \"say\", \"say\", \"say\", \"say\", \"say\", \"say\", \"say\", \"schole\", \"schole\", \"schole\", \"schole\", \"schole\", \"scholes\", \"schwartz\", \"sear\", \"see\", \"see\", \"see\", \"see\", \"see\", \"see\", \"see\", \"see\", \"see\", \"see\", \"sell\", \"sell\", \"sell\", \"sell\", \"sell\", \"sell\", \"sell\", \"sell\", \"sell\", \"sell\", \"sellersbuilding\", \"send\", \"send\", \"send\", \"send\", \"send\", \"send\", \"send\", \"send\", \"send\", \"send\", \"servitude\", \"servitude\", \"servitude\", \"servitude\", \"servitude\", \"servitude\", \"servitude\", \"servitude\", \"servitude\", \"servitude\", \"seven\", \"seven\", \"seven\", \"seven\", \"seven\", \"seven\", \"seven\", \"seven\", \"seven\", \"seven\", \"sharke\", \"sharpe\", \"sharpe\", \"sharpe\", \"sharpley\", \"shearwood\", \"sheep\", \"sheep\", \"sheep\", \"sheep\", \"sheep\", \"sheep\", \"sheep\", \"sheep\", \"sheep\", \"shephard\", \"shill\", \"shill\", \"shill\", \"shill\", \"shill\", \"shill\", \"shill\", \"shill\", \"shill\", \"shill\", \"shilling\", \"shilling\", \"shilling\", \"shilling\", \"shilling\", \"shilling\", \"shilling\", \"shilling\", \"shilling\", \"shilling\", \"shop\", \"shop\", \"shop\", \"shop\", \"shop\", \"shop\", \"shop\", \"shop\", \"shop\", \"shop\", \"shrimpton\", \"shrimpton\", \"shrimpton\", \"shrimpton\", \"shrimpton\", \"sibly\", \"silver\", \"silver\", \"silver\", \"silver\", \"silver\", \"silver\", \"silver\", \"silver\", \"silver\", \"silver\", \"simond\", \"sinvin\", \"smallman\", \"smallman\", \"smallman\", \"smith\", \"smith\", \"smith\", \"smith\", \"smith\", \"smith\", \"smith\", \"smith\", \"smith\", \"smith\", \"soden\", \"soden\", \"southamptonterrace\", \"sowl\", \"stadward\", \"stapleton\", \"stapleton\", \"stapleton\", \"stapleton\", \"stapley\", \"stapley\", \"stapley\", \"stapley\", \"stave\", \"stave\", \"stave\", \"stave\", \"stave\", \"stave\", \"stave\", \"stave\", \"steal\", \"steal\", \"steal\", \"steal\", \"steal\", \"steal\", \"steal\", \"steal\", \"steal\", \"steal\", \"steptoe\", \"stockham\", \"stow\", \"stow\", \"stow\", \"stow\", \"stow\", \"strangeway\", \"street\", \"street\", \"street\", \"street\", \"street\", \"street\", \"street\", \"street\", \"street\", \"street\", \"suddaby\", \"surman\", \"swalling\", \"swalling\", \"swanny\", \"swear\", \"swear\", \"swear\", \"swear\", \"swear\", \"swear\", \"swear\", \"swear\", \"swear\", \"swear\", \"sydney\", \"sydney\", \"sydney\", \"sydney\", \"sydney\", \"sydney\", \"sydney\", \"sydney\", \"take\", \"take\", \"take\", \"take\", \"take\", \"take\", \"take\", \"take\", \"take\", \"take\", \"tannd\", \"tapp\", \"teawen\", \"tell\", \"tell\", \"tell\", \"tell\", \"tell\", \"tell\", \"tell\", \"tell\", \"tell\", \"tell\", \"thane\", \"thing\", \"thing\", \"thing\", \"thing\", \"thing\", \"thing\", \"thing\", \"thing\", \"thing\", \"thing\", \"think\", \"think\", \"think\", \"think\", \"think\", \"think\", \"think\", \"think\", \"think\", \"think\", \"thistleworth\", \"thomas\", \"thomas\", \"thomas\", \"thomas\", \"thomas\", \"thomas\", \"thomas\", \"thomas\", \"thomas\", \"thomas\", \"thomasstreet\", \"tice\", \"timber\", \"timber\", \"timber\", \"timber\", \"timber\", \"timber\", \"timber\", \"timber\", \"timber\", \"timber\", \"time\", \"time\", \"time\", \"time\", \"time\", \"time\", \"time\", \"time\", \"time\", \"time\", \"toilet\", \"torr\", \"tourl\", \"trent\", \"trial\", \"trial\", \"trial\", \"trial\", \"trial\", \"trial\", \"trial\", \"trial\", \"trial\", \"trial\", \"trott\", \"trott\", \"trott\", \"twinam\", \"use\", \"use\", \"use\", \"use\", \"use\", \"use\", \"use\", \"use\", \"use\", \"use\", \"vago\", \"value\", \"value\", \"value\", \"value\", \"value\", \"value\", \"value\", \"value\", \"value\", \"value\", \"veiny\", \"vickery\", \"vinall\", \"vinall\", \"wade\", \"wade\", \"wade\", \"wade\", \"wade\", \"wade\", \"waggon\", \"waggon\", \"waggon\", \"waggon\", \"waggon\", \"waggon\", \"waggon\", \"waggon\", \"waggon\", \"waggon\", \"waggoner\", \"waggoner\", \"waggoner\", \"waggoner\", \"waine\", \"want\", \"want\", \"want\", \"want\", \"want\", \"want\", \"want\", \"want\", \"want\", \"want\", \"waste\", \"waste\", \"waste\", \"waste\", \"waste\", \"waste\", \"waste\", \"waste\", \"waste\", \"watch\", \"watch\", \"watch\", \"watch\", \"watch\", \"watch\", \"watch\", \"watch\", \"watch\", \"watch\", \"wayman\", \"wayman\", \"wayman\", \"wayman\", \"week\", \"week\", \"week\", \"week\", \"week\", \"week\", \"week\", \"week\", \"week\", \"week\", \"weet\", \"westall\", \"westmoreland\", \"whale\", \"whalebone\", \"whalen\", \"wharnsley\", \"whelon\", \"whitaker\", \"whitaker\", \"whitaker\", \"whitaker\", \"whitford\", \"whitney\", \"whitney\", \"wilcoxon\", \"wild\", \"wild\", \"wild\", \"wild\", \"wild\", \"wild\", \"wild\", \"wild\", \"wildet\", \"william\", \"william\", \"william\", \"william\", \"william\", \"william\", \"william\", \"william\", \"william\", \"william\", \"winfield\", \"winfield\", \"wire\", \"wire\", \"wire\", \"wire\", \"wire\", \"wire\", \"wire\", \"wire\", \"wire\", \"wire\", \"woman\", \"woman\", \"woman\", \"woman\", \"woman\", \"woman\", \"woman\", \"woman\", \"woman\", \"woman\", \"womersley\", \"work\", \"work\", \"work\", \"work\", \"work\", \"work\", \"work\", \"work\", \"work\", \"work\", \"wpbsley\", \"xciv\", \"yarman\", \"yarn\", \"year\", \"year\", \"year\", \"year\", \"year\", \"year\", \"year\", \"year\", \"year\", \"year\", \"yes\", \"yes\", \"yes\", \"yes\", \"yes\", \"yes\", \"yes\", \"yes\", \"yes\", \"yes\"]}, \"R\": 30, \"lambda.step\": 0.01, \"plot.opts\": {\"xlab\": \"PC1\", \"ylab\": \"PC2\"}, \"topic.order\": [8, 2, 3, 5, 4, 6, 1, 10, 9, 7]};\n",
       "\n",
       "function LDAvis_load_lib(url, callback){\n",
       "  var s = document.createElement('script');\n",
       "  s.src = url;\n",
       "  s.async = true;\n",
       "  s.onreadystatechange = s.onload = callback;\n",
       "  s.onerror = function(){console.warn(\"failed to load library \" + url);};\n",
       "  document.getElementsByTagName(\"head\")[0].appendChild(s);\n",
       "}\n",
       "\n",
       "if(typeof(LDAvis) !== \"undefined\"){\n",
       "   // already loaded: just create the visualization\n",
       "   !function(LDAvis){\n",
       "       new LDAvis(\"#\" + \"ldavis_el183082246288768384459475665\", ldavis_el183082246288768384459475665_data);\n",
       "   }(LDAvis);\n",
       "}else if(typeof define === \"function\" && define.amd){\n",
       "   // require.js is available: use it to load d3/LDAvis\n",
       "   require.config({paths: {d3: \"https://d3js.org/d3.v5\"}});\n",
       "   require([\"d3\"], function(d3){\n",
       "      window.d3 = d3;\n",
       "      LDAvis_load_lib(\"https://cdn.jsdelivr.net/gh/bmabey/pyLDAvis@3.4.0/pyLDAvis/js/ldavis.v3.0.0.js\", function(){\n",
       "        new LDAvis(\"#\" + \"ldavis_el183082246288768384459475665\", ldavis_el183082246288768384459475665_data);\n",
       "      });\n",
       "    });\n",
       "}else{\n",
       "    // require.js not available: dynamically load d3 & LDAvis\n",
       "    LDAvis_load_lib(\"https://d3js.org/d3.v5.js\", function(){\n",
       "         LDAvis_load_lib(\"https://cdn.jsdelivr.net/gh/bmabey/pyLDAvis@3.4.0/pyLDAvis/js/ldavis.v3.0.0.js\", function(){\n",
       "                 new LDAvis(\"#\" + \"ldavis_el183082246288768384459475665\", ldavis_el183082246288768384459475665_data);\n",
       "            })\n",
       "         });\n",
       "}\n",
       "</script>"
      ],
      "text/plain": [
       "<IPython.core.display.HTML object>"
      ]
     },
     "execution_count": 69,
     "metadata": {},
     "output_type": "execute_result"
    }
   ],
   "source": [
    "# now let's display our data\n",
    "pyLDAvis.display(lda_data)"
   ]
  },
  {
   "cell_type": "code",
   "execution_count": 70,
   "metadata": {},
   "outputs": [],
   "source": [
    "# if we like our results we can save our data as html\n",
    "pyLDAvis.save_html(lda_data, 'lda_10_topics.html')"
   ]
  },
  {
   "cell_type": "markdown",
   "metadata": {},
   "source": [
    "## Conclusions on LDA model\n",
    "\n",
    "We are getting a lot of overlap on the topics. This is not surprising because the documents are quite short. If we had longer documents we would get better results.\n",
    "\n",
    "Also we are getting some topics that are not very meaningful. The short words are not very meaningful. We can try to remove the short words and see what happens.\n",
    "\n",
    "## Next steps\n",
    "\n",
    "We can try to remove the short words and see what happens.\n",
    "\n",
    "We can try to use a different number of topics and see what happens.\n",
    "\n"
   ]
  },
  {
   "cell_type": "markdown",
   "metadata": {},
   "source": [
    "## Futher discussion\n",
    "\n",
    "1. Differences between clustering and LDA models\n",
    "2. How to determine the number of clusters\n",
    "3. How about supervised learning models?"
   ]
  },
  {
   "cell_type": "code",
   "execution_count": null,
   "metadata": {},
   "outputs": [],
   "source": []
  },
  {
   "cell_type": "markdown",
   "metadata": {},
   "source": []
  }
 ],
 "metadata": {
  "kernelspec": {
   "display_name": "venv",
   "language": "python",
   "name": "python3"
  },
  "language_info": {
   "codemirror_mode": {
    "name": "ipython",
    "version": 3
   },
   "file_extension": ".py",
   "mimetype": "text/x-python",
   "name": "python",
   "nbconvert_exporter": "python",
   "pygments_lexer": "ipython3",
   "version": "3.11.4"
  },
  "orig_nbformat": 4
 },
 "nbformat": 4,
 "nbformat_minor": 2
}
