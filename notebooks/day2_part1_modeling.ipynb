{
 "cells": [
  {
   "cell_type": "markdown",
   "metadata": {},
   "source": [
    "# Building models \n",
    "\n",
    "Now that we've created some embeddings, we can use them to build models. We'll start with a k-means clustering model. We'll use the embeddings to cluster the data into 10 clusters. We'll then use the cluster assignments to create a new feature for each data point. We'll then use this new feature to train a logistic regression model to predict the target variable.\n",
    "\n",
    "Time allowing we will build a Latent Dirichlet Allocation (LDA) model. LDA is a topic modeling technique that is often used to discover topics in text data. "
   ]
  },
  {
   "cell_type": "markdown",
   "metadata": {},
   "source": [
    "## Clustering\n",
    "\n",
    "Clustering is an unsupervised learning technique that groups data points into clusters based on their similarity. The similarity is measured using a distance metric. The most common distance metric is Euclidean distance. The goal of clustering is to group data points that are similar to each other into the same cluster.\n",
    "\n",
    "### Uses of clustering\n",
    "\n",
    "Clustering leaves room for interpretation. There is no right or wrong answer. This makes clustering useful for exploratory data analysis. Clustering can help us understand the structure of the data. It can help us identify outliers. It can help us identify groups of similar data points. It can help us identify groups of dissimilar data points. It can help us identify groups of data points that are similar to each other but dissimilar to data points in other groups.\n",
    "\n",
    "As far as text analysis goes, clustering can help us identify groups of similar documents. Then we as human curators can label the clusters. This can help us understand the structure of the corpus. It can help us identify outliers. It can help us identify groups of similar documents. It can help us identify groups of dissimilar documents. It can help us identify groups of documents that are similar to each other but dissimilar to documents in other groups.\n",
    "\n",
    "### k-means clustering\n",
    "\n",
    "The most common clustering algorithm is k-means clustering. The algorithm works as follows:\n",
    "\n",
    "1. Randomly initialize k cluster centroids\n",
    "2. Assign each data point to the cluster whose centroid is closest to it\n",
    "3. Recompute the cluster centroids\n",
    "4. Repeat steps 2 and 3 until the cluster assignments stop changing\n",
    "\n",
    "There are some edge cases that can cause the algorithm to fail to converge. For example, if a cluster ends up with no data points assigned to it, then the centroid of that cluster will be undefined. In this case, the algorithm will fail to converge. To avoid this, we can use a modified version of the algorithm that allows for empty clusters. This modified version of the algorithm is called k-means++.\n",
    "\n",
    "More about k-means: https://en.wikipedia.org/wiki/K-means_clustering\n",
    "\n",
    "### k-means in practice\n",
    "\n",
    "We do not have to implement the k-means algorithm ourselves. We can use the implementation provided by scikit-learn. The scikit-learn implementation of k-means uses the k-means++ initialization method by default."
   ]
  },
  {
   "cell_type": "markdown",
   "metadata": {},
   "source": [
    "### Various Clustering Algorithms on Scikit-Learn\n",
    "\n",
    "![Clustering Algorithms](https://scikit-learn.org/stable/_images/sphx_glr_plot_cluster_comparison_001.png)"
   ]
  },
  {
   "cell_type": "code",
   "execution_count": 1,
   "metadata": {},
   "outputs": [
    {
     "name": "stdout",
     "output_type": "stream",
     "text": [
      "Python 3.11.4 (tags/v3.11.4:d2340ef, Jun  7 2023, 05:45:37) [MSC v.1934 64 bit (AMD64)]\n"
     ]
    },
    {
     "name": "stdout",
     "output_type": "stream",
     "text": [
      "Pandas 2.0.3\n",
      "Scikit-learn 1.3.0\n",
      "Gensim 4.3.1\n"
     ]
    }
   ],
   "source": [
    "# Building models from our embeddings\n",
    "\n",
    "# As before we will be using Path for our file work\n",
    "\n",
    "# python version\n",
    "import sys\n",
    "print(\"Python\", sys.version)\n",
    "\n",
    "from pathlib import Path\n",
    "\n",
    "# we will be using pandas for our dataframes\n",
    "import pandas as pd\n",
    "# version\n",
    "print(\"Pandas\", pd.__version__)\n",
    "\n",
    "# we will want to use scikit-learn clustering algorithms for our models\n",
    "# import sklearn # sklearn is a bit library so better idea would be to import specific modules\n",
    "from sklearn.cluster import KMeans # KMeans is a clustering algorithm\n",
    "# sklearn version\n",
    "from sklearn import __version__ as sklearn_version # we can import just a single variable and rename it\n",
    "print(\"Scikit-learn\", sklearn_version)\n",
    "\n",
    "# we will also want to use gensim for LDAModel\n",
    "import gensim # gensim is also pretty big so we could have imported specific modules\n",
    "# gensim version\n",
    "print(\"Gensim\", gensim.__version__)\n"
   ]
  },
  {
   "cell_type": "code",
   "execution_count": 2,
   "metadata": {},
   "outputs": [
    {
     "name": "stdout",
     "output_type": "stream",
     "text": [
      "Will import data from https://github.com/ValRCS/BSSDH_2023_workshop/raw/main/data/old_bailey_sample_1720_1913_cleaned_embeddings.pkl\n"
     ]
    }
   ],
   "source": [
    "# url for our data in a pickle format on our repository\n",
    "url = \"https://github.com/ValRCS/BSSDH_2023_workshop/raw/main/data/old_bailey_sample_1720_1913_cleaned_embeddings.pkl\"\n",
    "print(\"Will import data from\", url)"
   ]
  },
  {
   "cell_type": "code",
   "execution_count": 3,
   "metadata": {},
   "outputs": [
    {
     "name": "stdout",
     "output_type": "stream",
     "text": [
      "Dataframe shape (1637, 13)\n"
     ]
    },
    {
     "data": {
      "text/html": [
       "<div>\n",
       "<style scoped>\n",
       "    .dataframe tbody tr th:only-of-type {\n",
       "        vertical-align: middle;\n",
       "    }\n",
       "\n",
       "    .dataframe tbody tr th {\n",
       "        vertical-align: top;\n",
       "    }\n",
       "\n",
       "    .dataframe thead th {\n",
       "        text-align: right;\n",
       "    }\n",
       "</style>\n",
       "<table border=\"1\" class=\"dataframe\">\n",
       "  <thead>\n",
       "    <tr style=\"text-align: right;\">\n",
       "      <th></th>\n",
       "      <th>year</th>\n",
       "      <th>trial_number</th>\n",
       "      <th>punishment</th>\n",
       "      <th>text</th>\n",
       "      <th>dirty_len</th>\n",
       "      <th>clean_len</th>\n",
       "      <th>words</th>\n",
       "      <th>word_count</th>\n",
       "      <th>word_count_cleaned</th>\n",
       "      <th>words_lemmatized</th>\n",
       "      <th>word_count_cleaned_no_digits</th>\n",
       "      <th>top_5_words_tfidf</th>\n",
       "      <th>doc2vec</th>\n",
       "    </tr>\n",
       "  </thead>\n",
       "  <tbody>\n",
       "    <tr>\n",
       "      <th>0</th>\n",
       "      <td>1720</td>\n",
       "      <td>1</td>\n",
       "      <td>Transportation</td>\n",
       "      <td>of st leonard eastcheap was indicted for felon...</td>\n",
       "      <td>705</td>\n",
       "      <td>684</td>\n",
       "      <td>[st, leonard, eastcheap, indicted, feloniously...</td>\n",
       "      <td>129</td>\n",
       "      <td>66</td>\n",
       "      <td>[st, leonard, eastcheap, indict, feloniously, ...</td>\n",
       "      <td>60</td>\n",
       "      <td>[(confest, 0.1972391174872452), (depose, 0.215...</td>\n",
       "      <td>[0.5782519, -0.7623888, 0.6419972, -0.01352496...</td>\n",
       "    </tr>\n",
       "    <tr>\n",
       "      <th>1</th>\n",
       "      <td>1720</td>\n",
       "      <td>2</td>\n",
       "      <td>Transportation</td>\n",
       "      <td>alice jones of st michaels cornhill was indict...</td>\n",
       "      <td>1087</td>\n",
       "      <td>1053</td>\n",
       "      <td>[alice, jones, st, michaels, cornhill, indicte...</td>\n",
       "      <td>200</td>\n",
       "      <td>87</td>\n",
       "      <td>[alice, jones, st, michaels, cornhill, indict,...</td>\n",
       "      <td>82</td>\n",
       "      <td>[(shop, 0.18964859164396325), (bermundas, 0.19...</td>\n",
       "      <td>[0.539647, 0.2990364, 0.90089196, 0.06318843, ...</td>\n",
       "    </tr>\n",
       "    <tr>\n",
       "      <th>2</th>\n",
       "      <td>1720</td>\n",
       "      <td>3</td>\n",
       "      <td>Transportation</td>\n",
       "      <td>james wilson of st katharine coleman was indic...</td>\n",
       "      <td>904</td>\n",
       "      <td>883</td>\n",
       "      <td>[james, wilson, st, katharine, coleman, indict...</td>\n",
       "      <td>177</td>\n",
       "      <td>79</td>\n",
       "      <td>[james, wilson, st, katharine, coleman, indict...</td>\n",
       "      <td>71</td>\n",
       "      <td>[(hung, 0.21832648950390215), (deposed, 0.2419...</td>\n",
       "      <td>[0.46213368, -0.7192513, 1.1036029, 0.02122612...</td>\n",
       "    </tr>\n",
       "    <tr>\n",
       "      <th>3</th>\n",
       "      <td>1720</td>\n",
       "      <td>4</td>\n",
       "      <td>Transportation</td>\n",
       "      <td>james mercy alias masse of st andrew undershaf...</td>\n",
       "      <td>804</td>\n",
       "      <td>778</td>\n",
       "      <td>[james, mercy, alias, masse, st, andrew, under...</td>\n",
       "      <td>143</td>\n",
       "      <td>67</td>\n",
       "      <td>[james, mercy, alias, masse, st, andrew, under...</td>\n",
       "      <td>64</td>\n",
       "      <td>[(undershaft, 0.2126517359898944), (lockt, 0.2...</td>\n",
       "      <td>[-0.18796237, -0.011926579, 0.8681372, -0.6687...</td>\n",
       "    </tr>\n",
       "    <tr>\n",
       "      <th>4</th>\n",
       "      <td>1720</td>\n",
       "      <td>5</td>\n",
       "      <td>Transportation</td>\n",
       "      <td>benjamin cook alias richard smith of st mary a...</td>\n",
       "      <td>483</td>\n",
       "      <td>466</td>\n",
       "      <td>[benjamin, cook, alias, richard, smith, st, ma...</td>\n",
       "      <td>88</td>\n",
       "      <td>46</td>\n",
       "      <td>[benjamin, cook, alias, richard, smith, st, ma...</td>\n",
       "      <td>43</td>\n",
       "      <td>[(stopt, 0.23416420335477436), (abchurch, 0.26...</td>\n",
       "      <td>[0.13697092, 0.5740971, 0.84388906, -0.2005741...</td>\n",
       "    </tr>\n",
       "  </tbody>\n",
       "</table>\n",
       "</div>"
      ],
      "text/plain": [
       "   year  trial_number      punishment  \\\n",
       "0  1720             1  Transportation   \n",
       "1  1720             2  Transportation   \n",
       "2  1720             3  Transportation   \n",
       "3  1720             4  Transportation   \n",
       "4  1720             5  Transportation   \n",
       "\n",
       "                                                text  dirty_len  clean_len  \\\n",
       "0  of st leonard eastcheap was indicted for felon...        705        684   \n",
       "1  alice jones of st michaels cornhill was indict...       1087       1053   \n",
       "2  james wilson of st katharine coleman was indic...        904        883   \n",
       "3  james mercy alias masse of st andrew undershaf...        804        778   \n",
       "4  benjamin cook alias richard smith of st mary a...        483        466   \n",
       "\n",
       "                                               words  word_count  \\\n",
       "0  [st, leonard, eastcheap, indicted, feloniously...         129   \n",
       "1  [alice, jones, st, michaels, cornhill, indicte...         200   \n",
       "2  [james, wilson, st, katharine, coleman, indict...         177   \n",
       "3  [james, mercy, alias, masse, st, andrew, under...         143   \n",
       "4  [benjamin, cook, alias, richard, smith, st, ma...          88   \n",
       "\n",
       "   word_count_cleaned                                   words_lemmatized  \\\n",
       "0                  66  [st, leonard, eastcheap, indict, feloniously, ...   \n",
       "1                  87  [alice, jones, st, michaels, cornhill, indict,...   \n",
       "2                  79  [james, wilson, st, katharine, coleman, indict...   \n",
       "3                  67  [james, mercy, alias, masse, st, andrew, under...   \n",
       "4                  46  [benjamin, cook, alias, richard, smith, st, ma...   \n",
       "\n",
       "   word_count_cleaned_no_digits  \\\n",
       "0                            60   \n",
       "1                            82   \n",
       "2                            71   \n",
       "3                            64   \n",
       "4                            43   \n",
       "\n",
       "                                   top_5_words_tfidf  \\\n",
       "0  [(confest, 0.1972391174872452), (depose, 0.215...   \n",
       "1  [(shop, 0.18964859164396325), (bermundas, 0.19...   \n",
       "2  [(hung, 0.21832648950390215), (deposed, 0.2419...   \n",
       "3  [(undershaft, 0.2126517359898944), (lockt, 0.2...   \n",
       "4  [(stopt, 0.23416420335477436), (abchurch, 0.26...   \n",
       "\n",
       "                                             doc2vec  \n",
       "0  [0.5782519, -0.7623888, 0.6419972, -0.01352496...  \n",
       "1  [0.539647, 0.2990364, 0.90089196, 0.06318843, ...  \n",
       "2  [0.46213368, -0.7192513, 1.1036029, 0.02122612...  \n",
       "3  [-0.18796237, -0.011926579, 0.8681372, -0.6687...  \n",
       "4  [0.13697092, 0.5740971, 0.84388906, -0.2005741...  "
      ]
     },
     "execution_count": 3,
     "metadata": {},
     "output_type": "execute_result"
    }
   ],
   "source": [
    "# lets import our data into a dataframe\n",
    "df = pd.read_pickle(url, compression='zip') # we need to specify compression as zip else we will get an error for load unpickling\n",
    "# shape of our dataframe\n",
    "print(\"Dataframe shape\", df.shape)\n",
    "# lets see first 5 rows\n",
    "df.head()\n",
    "# whew we are back in business!"
   ]
  },
  {
   "cell_type": "code",
   "execution_count": 4,
   "metadata": {},
   "outputs": [
    {
     "name": "stdout",
     "output_type": "stream",
     "text": [
      "Number of values in doc2vec column for first row 50\n"
     ]
    }
   ],
   "source": [
    "# let's print how many values are in doc2vec column for single row\n",
    "print(\"Number of values in doc2vec column for first row\", len(df.doc2vec[0]))"
   ]
  },
  {
   "cell_type": "code",
   "execution_count": 5,
   "metadata": {},
   "outputs": [
    {
     "name": "stdout",
     "output_type": "stream",
     "text": [
      "Range of values in doc2vec column for first row -1.173319 1.5427929\n"
     ]
    }
   ],
   "source": [
    "# what is range of values in doc2vec column for first row\n",
    "print(\"Range of values in doc2vec column for first row\", min(df.doc2vec[0]), max(df.doc2vec[0]))"
   ]
  },
  {
   "cell_type": "code",
   "execution_count": 6,
   "metadata": {},
   "outputs": [
    {
     "name": "stdout",
     "output_type": "stream",
     "text": [
      "Range of values across all rows for doc2vec column 50 50\n"
     ]
    }
   ],
   "source": [
    "# what is range of values across all rows for values inside doc2vec column?\n",
    "\n",
    "print(\"Range of values across all rows for doc2vec column\", df.doc2vec.apply(lambda x: len(x)).min(), df.doc2vec.apply(lambda x: len(x)).max())\n",
    "# not quite what we want but it is good to know we have 50 values in each column of doc2vec for each row"
   ]
  },
  {
   "cell_type": "code",
   "execution_count": 7,
   "metadata": {},
   "outputs": [
    {
     "name": "stdout",
     "output_type": "stream",
     "text": [
      "Numpy 1.24.4\n",
      "Number of values in our list 81850\n"
     ]
    },
    {
     "data": {
      "text/plain": [
       "count    81850.000000\n",
       "mean        -0.041636\n",
       "std          1.287664\n",
       "min        -14.923249\n",
       "25%         -0.525724\n",
       "50%         -0.036388\n",
       "75%          0.450801\n",
       "max         17.326731\n",
       "dtype: float64"
      ]
     },
     "execution_count": 7,
     "metadata": {},
     "output_type": "execute_result"
    }
   ],
   "source": [
    "# what we want is figure out min and max values for values inside list of doc2vec column\n",
    "\n",
    "# easiest would be to create a big list of all values in doc2vec column and then find min and max values\n",
    "# we can use list comprehension for that\n",
    "# we will use numpy for min and max functions\n",
    "\n",
    "import numpy as np\n",
    "# version\n",
    "print(\"Numpy\", np.__version__)\n",
    "\n",
    "# one way to flatten our list of lists:\n",
    "all_doc2vec_values = [value for row in df.doc2vec for value in row] # this trick is due to https://stackoverflow.com/questions/952914/how-to-make-a-flat-list-out-of-list-of-lists\n",
    "# provided by Python guru Alex Martelli - author of some nice Python books\n",
    "# it looks the wrong way around but it works\n",
    "# there are other ways to flatten a list of lists but this is one of the fastest\n",
    "\n",
    "# how many values we have in our list\n",
    "print(\"Number of values in our list\", len(all_doc2vec_values))\n",
    "\n",
    "\n",
    "# let's convert list to pandas series and get some statistics\n",
    "all_doc2vec_values_series = pd.Series(all_doc2vec_values)\n",
    "# let's get some statistics\n",
    "all_doc2vec_values_series.describe()\n",
    "# so it looks like a nice centered distribution with standard deviation or araound 1.28\n"
   ]
  },
  {
   "cell_type": "code",
   "execution_count": 8,
   "metadata": {},
   "outputs": [
    {
     "name": "stdout",
     "output_type": "stream",
     "text": [
      "Seaborn 0.12.2\n"
     ]
    },
    {
     "data": {
      "text/plain": [
       "<Axes: ylabel='Count'>"
      ]
     },
     "execution_count": 8,
     "metadata": {},
     "output_type": "execute_result"
    },
    {
     "data": {
      "image/png": "[encoded data removed]",
      "text/plain": [
       "<Figure size 640x480 with 1 Axes>"
      ]
     },
     "metadata": {},
     "output_type": "display_data"
    }
   ],
   "source": [
    "# let's plot the distribution of our values\n",
    "import matplotlib.pyplot as plt\n",
    "# we will use seaborn for plotting\n",
    "import seaborn as sns\n",
    "# seaborn version\n",
    "print(\"Seaborn\", sns.__version__)\n",
    "# let's plot a histogram of our values\n",
    "sns.histplot(all_doc2vec_values_series)\n"
   ]
  },
  {
   "cell_type": "markdown",
   "metadata": {},
   "source": [
    "### Normal distribution\n",
    "\n",
    "Now that certainly looks like a normal distribution - also known as Gaussian distribution.\n",
    "\n",
    "Link on wikipedia: https://en.wikipedia.org/wiki/Normal_distribution\n",
    "\n",
    "![Normal](https://upload.wikimedia.org/wikipedia/commons/thumb/8/8c/Standard_deviation_diagram.svg/525px-Standard_deviation_diagram.svg.png)\n",
    "\n",
    "We would have to read the paper behind word2vec and doc2vec to see how this type of distribution was achieved.\n",
    "\n",
    "Now for each document the values will not be as smooth which is good because we want to see the differences between documents."
   ]
  },
  {
   "cell_type": "markdown",
   "metadata": {},
   "source": [
    "## Building k-means clustering model"
   ]
  },
  {
   "cell_type": "code",
   "execution_count": 9,
   "metadata": {},
   "outputs": [
    {
     "name": "stdout",
     "output_type": "stream",
     "text": [
      "Dimensions of our numpy array (1637,)\n"
     ]
    }
   ],
   "source": [
    "# but enough playing around, let's build our kmeans model\n",
    "\n",
    "# we will use KMeans from sklearn\n",
    "# we will start with 5 clusters\n",
    "# we will use random_state=42 for reproducibility\n",
    "\n",
    "kmeans_model = KMeans(n_clusters=5, random_state=42)\n",
    "# our features will be doc2vec column\n",
    "\n",
    "# we can pass in numpy array or pandas dataframe\n",
    "# we will pass in numpy array\n",
    "\n",
    "# let's print dimensions of our numpy array\n",
    "X = df.doc2vec.to_numpy() # it is very common to use X for features\n",
    "# why X it indicates a matrix of features, so generally a 2D array\n",
    "print(\"Dimensions of our numpy array\", X.shape)\n",
    "\n",
    " # kmeans model expects numpy array of dimensions (n_samples, n_features)"
   ]
  },
  {
   "cell_type": "code",
   "execution_count": 10,
   "metadata": {},
   "outputs": [
    {
     "name": "stdout",
     "output_type": "stream",
     "text": [
      "First row of our numpy array [ 0.5782519  -0.7623888   0.6419972  -0.01352497 -0.02889981  0.33993718\n",
      "  0.5432642  -0.79231936 -0.17276347  0.2894747  -0.1814085  -1.173319\n",
      " -0.6315174  -0.39531848 -0.8824809   0.44549268 -0.00762038 -0.2669511\n",
      "  0.2836903   0.31825238 -0.46722114 -0.12032476  1.5427929  -0.16820197\n",
      " -0.5314884  -1.1173726  -0.06433648 -1.0612508   0.8740516   0.24408202\n",
      "  0.44927603 -0.25962996 -0.23105077  0.64783835  0.34015447  0.6314114\n",
      "  0.5084683  -0.12150066 -0.8327542  -0.24457273  0.46525353 -0.43322456\n",
      "  0.48058265 -0.8931239  -0.274334   -0.0263922   0.47523484 -0.10395955\n",
      "  0.0836495   0.5372703 ]\n"
     ]
    }
   ],
   "source": [
    "# we got one dimension right, but we need to reshape our array to have 50 features\n",
    "# let's check out first row\n",
    "print(\"First row of our numpy array\", X[0])\n",
    "# that certainly looks like 50 features "
   ]
  },
  {
   "cell_type": "code",
   "execution_count": 11,
   "metadata": {},
   "outputs": [
    {
     "name": "stdout",
     "output_type": "stream",
     "text": [
      "Type of our numpy array <class 'numpy.ndarray'>\n",
      "Type of our numpy array <class 'numpy.ndarray'>\n",
      "Type of our first value <class 'numpy.float32'>\n",
      "First value of first value 0.5782519\n",
      "Last value of first value 0.5372703\n"
     ]
    }
   ],
   "source": [
    "# what type is it though>?\n",
    "print(\"Type of our numpy array\", type(X))\n",
    "print(\"Type of our numpy array\", type(X[0]))\n",
    "# how about first value\n",
    "print(\"Type of our first value\", type(X[0][0]))\n",
    "# print first value of first value\n",
    "print(\"First value of first value\", X[0][0])\n",
    "# print last value of first value\n",
    "print(\"Last value of first value\", X[0][-1])\n",
    "# so we can certainly access values in our numpy array as if it was a list of lists\n",
    "# for some reason shape is not showing 50 features"
   ]
  },
  {
   "cell_type": "code",
   "execution_count": 12,
   "metadata": {},
   "outputs": [
    {
     "name": "stdout",
     "output_type": "stream",
     "text": [
      "First row of our list of lists [0.5782519, -0.7623888, 0.6419972, -0.013524966, -0.028899806, 0.33993718, 0.5432642, -0.79231936, -0.17276347, 0.2894747, -0.1814085, -1.173319, -0.6315174, -0.39531848, -0.8824809, 0.44549268, -0.007620384, -0.2669511, 0.2836903, 0.31825238, -0.46722114, -0.12032476, 1.5427929, -0.16820197, -0.5314884, -1.1173726, -0.06433648, -1.0612508, 0.8740516, 0.24408202, 0.44927603, -0.25962996, -0.23105077, 0.64783835, 0.34015447, 0.6314114, 0.5084683, -0.12150066, -0.8327542, -0.24457273, 0.46525353, -0.43322456, 0.48058265, -0.8931239, -0.274334, -0.026392203, 0.47523484, -0.103959545, 0.0836495, 0.5372703]\n"
     ]
    }
   ],
   "source": [
    "# for the time being we will convert it to list of lists which is much less efficient but easier to work with\n",
    "X_list = df.doc2vec.apply(lambda x: list(x)).to_list()\n",
    "# let's check out first row\n",
    "print(\"First row of our list of lists\", X_list[0])"
   ]
  },
  {
   "cell_type": "code",
   "execution_count": 13,
   "metadata": {},
   "outputs": [
    {
     "name": "stderr",
     "output_type": "stream",
     "text": [
      "d:\\Github\\BSSDH_2023_workshop\\venv\\Lib\\site-packages\\sklearn\\cluster\\_kmeans.py:1412: FutureWarning: The default value of `n_init` will change from 10 to 'auto' in 1.4. Set the value of `n_init` explicitly to suppress the warning\n",
      "  super()._check_params_vs_input(X, default_n_init=10)\n"
     ]
    },
    {
     "data": {
      "text/html": [
       "<style>#sk-container-id-1 {color: black;}#sk-container-id-1 pre{padding: 0;}#sk-container-id-1 div.sk-toggleable {background-color: white;}#sk-container-id-1 label.sk-toggleable__label {cursor: pointer;display: block;width: 100%;margin-bottom: 0;padding: 0.3em;box-sizing: border-box;text-align: center;}#sk-container-id-1 label.sk-toggleable__label-arrow:before {content: \"▸\";float: left;margin-right: 0.25em;color: #696969;}#sk-container-id-1 label.sk-toggleable__label-arrow:hover:before {color: black;}#sk-container-id-1 div.sk-estimator:hover label.sk-toggleable__label-arrow:before {color: black;}#sk-container-id-1 div.sk-toggleable__content {max-height: 0;max-width: 0;overflow: hidden;text-align: left;background-color: #f0f8ff;}#sk-container-id-1 div.sk-toggleable__content pre {margin: 0.2em;color: black;border-radius: 0.25em;background-color: #f0f8ff;}#sk-container-id-1 input.sk-toggleable__control:checked~div.sk-toggleable__content {max-height: 200px;max-width: 100%;overflow: auto;}#sk-container-id-1 input.sk-toggleable__control:checked~label.sk-toggleable__label-arrow:before {content: \"▾\";}#sk-container-id-1 div.sk-estimator input.sk-toggleable__control:checked~label.sk-toggleable__label {background-color: #d4ebff;}#sk-container-id-1 div.sk-label input.sk-toggleable__control:checked~label.sk-toggleable__label {background-color: #d4ebff;}#sk-container-id-1 input.sk-hidden--visually {border: 0;clip: rect(1px 1px 1px 1px);clip: rect(1px, 1px, 1px, 1px);height: 1px;margin: -1px;overflow: hidden;padding: 0;position: absolute;width: 1px;}#sk-container-id-1 div.sk-estimator {font-family: monospace;background-color: #f0f8ff;border: 1px dotted black;border-radius: 0.25em;box-sizing: border-box;margin-bottom: 0.5em;}#sk-container-id-1 div.sk-estimator:hover {background-color: #d4ebff;}#sk-container-id-1 div.sk-parallel-item::after {content: \"\";width: 100%;border-bottom: 1px solid gray;flex-grow: 1;}#sk-container-id-1 div.sk-label:hover label.sk-toggleable__label {background-color: #d4ebff;}#sk-container-id-1 div.sk-serial::before {content: \"\";position: absolute;border-left: 1px solid gray;box-sizing: border-box;top: 0;bottom: 0;left: 50%;z-index: 0;}#sk-container-id-1 div.sk-serial {display: flex;flex-direction: column;align-items: center;background-color: white;padding-right: 0.2em;padding-left: 0.2em;position: relative;}#sk-container-id-1 div.sk-item {position: relative;z-index: 1;}#sk-container-id-1 div.sk-parallel {display: flex;align-items: stretch;justify-content: center;background-color: white;position: relative;}#sk-container-id-1 div.sk-item::before, #sk-container-id-1 div.sk-parallel-item::before {content: \"\";position: absolute;border-left: 1px solid gray;box-sizing: border-box;top: 0;bottom: 0;left: 50%;z-index: -1;}#sk-container-id-1 div.sk-parallel-item {display: flex;flex-direction: column;z-index: 1;position: relative;background-color: white;}#sk-container-id-1 div.sk-parallel-item:first-child::after {align-self: flex-end;width: 50%;}#sk-container-id-1 div.sk-parallel-item:last-child::after {align-self: flex-start;width: 50%;}#sk-container-id-1 div.sk-parallel-item:only-child::after {width: 0;}#sk-container-id-1 div.sk-dashed-wrapped {border: 1px dashed gray;margin: 0 0.4em 0.5em 0.4em;box-sizing: border-box;padding-bottom: 0.4em;background-color: white;}#sk-container-id-1 div.sk-label label {font-family: monospace;font-weight: bold;display: inline-block;line-height: 1.2em;}#sk-container-id-1 div.sk-label-container {text-align: center;}#sk-container-id-1 div.sk-container {/* jupyter's `normalize.less` sets `[hidden] { display: none; }` but bootstrap.min.css set `[hidden] { display: none !important; }` so we also need the `!important` here to be able to override the default hidden behavior on the sphinx rendered scikit-learn.org. See: https://github.com/scikit-learn/scikit-learn/issues/21755 */display: inline-block !important;position: relative;}#sk-container-id-1 div.sk-text-repr-fallback {display: none;}</style><div id=\"sk-container-id-1\" class=\"sk-top-container\"><div class=\"sk-text-repr-fallback\"><pre>KMeans(n_clusters=5, random_state=42)</pre><b>In a Jupyter environment, please rerun this cell to show the HTML representation or trust the notebook. <br />On GitHub, the HTML representation is unable to render, please try loading this page with nbviewer.org.</b></div><div class=\"sk-container\" hidden><div class=\"sk-item\"><div class=\"sk-estimator sk-toggleable\"><input class=\"sk-toggleable__control sk-hidden--visually\" id=\"sk-estimator-id-1\" type=\"checkbox\" checked><label for=\"sk-estimator-id-1\" class=\"sk-toggleable__label sk-toggleable__label-arrow\">KMeans</label><div class=\"sk-toggleable__content\"><pre>KMeans(n_clusters=5, random_state=42)</pre></div></div></div></div></div>"
      ],
      "text/plain": [
       "KMeans(n_clusters=5, random_state=42)"
      ]
     },
     "execution_count": 13,
     "metadata": {},
     "output_type": "execute_result"
    }
   ],
   "source": [
    "# in Machine Learning it is very common for training data to be in a form of list of lists\n",
    "# also it is common to call the process of building a model training\n",
    "# in sklearn as well as in gensim we will be using fit method to train our model\n",
    "# fit method expects a list of lists\n",
    "# let's train our model\n",
    "\n",
    "kmeans_model.fit(X_list)\n",
    "# we got a warning that in the future n_init will be changed to 10"
   ]
  },
  {
   "cell_type": "code",
   "execution_count": 14,
   "metadata": {},
   "outputs": [
    {
     "name": "stdout",
     "output_type": "stream",
     "text": [
      "Dimensions of our numpy array (1637, 50)\n",
      "First row of our numpy array [ 0.5782519  -0.7623888   0.6419972  -0.01352497 -0.02889981  0.33993718\n",
      "  0.5432642  -0.79231936 -0.17276347  0.2894747  -0.1814085  -1.173319\n",
      " -0.6315174  -0.39531848 -0.8824809   0.44549268 -0.00762038 -0.2669511\n",
      "  0.2836903   0.31825238 -0.46722114 -0.12032476  1.5427929  -0.16820197\n",
      " -0.5314884  -1.1173726  -0.06433648 -1.0612508   0.8740516   0.24408202\n",
      "  0.44927603 -0.25962996 -0.23105077  0.64783835  0.34015447  0.6314114\n",
      "  0.5084683  -0.12150066 -0.8327542  -0.24457273  0.46525353 -0.43322456\n",
      "  0.48058265 -0.8931239  -0.274334   -0.0263922   0.47523484 -0.10395955\n",
      "  0.0836495   0.5372703 ]\n"
     ]
    }
   ],
   "source": [
    "# let's convert our X_list back to numpy array\n",
    "X = np.array(X_list)\n",
    "# let's check out shape\n",
    "print(\"Dimensions of our numpy array\", X.shape)\n",
    "# now that looks better\n",
    "# print first row\n",
    "print(\"First row of our numpy array\", X[0])"
   ]
  },
  {
   "cell_type": "markdown",
   "metadata": {},
   "source": [
    "### Dealing with errors\n",
    "\n",
    "One takeaway is that even if you encounter some error with external libraries you can often fall back to tried and true data structures\n",
    "such as lists and dictionaries. In our case it was list of lists that saved the day."
   ]
  },
  {
   "cell_type": "markdown",
   "metadata": {},
   "source": [
    "### K-means clustering results\n"
   ]
  },
  {
   "cell_type": "code",
   "execution_count": 15,
   "metadata": {},
   "outputs": [
    {
     "name": "stdout",
     "output_type": "stream",
     "text": [
      "Shape of y_pred (1637,)\n"
     ]
    }
   ],
   "source": [
    "# now that we have run the fit method we can use our model to predict clusters for our data\n",
    "# we will use predict method\n",
    "# predict method expects a numpy array\n",
    "\n",
    "# let's predict clusters for our data\n",
    "y_pred = kmeans_model.predict(X_list)\n",
    "# y_pred = kmeans_model.predict(X) # this does not work of data type mismatch between double and float\n",
    "# note in many supervised machine learning algorithms it is required to have a test set and training set so not to overfit our model\n",
    "# with unsupervised kmeans we can use predict method to predict clusters for our data itself with no ill effects because we are not using labels\n",
    "\n",
    "# shape of y_pred\n",
    "print(\"Shape of y_pred\", y_pred.shape)\n",
    "\n"
   ]
  },
  {
   "cell_type": "code",
   "execution_count": 16,
   "metadata": {},
   "outputs": [
    {
     "data": {
      "text/html": [
       "<div>\n",
       "<style scoped>\n",
       "    .dataframe tbody tr th:only-of-type {\n",
       "        vertical-align: middle;\n",
       "    }\n",
       "\n",
       "    .dataframe tbody tr th {\n",
       "        vertical-align: top;\n",
       "    }\n",
       "\n",
       "    .dataframe thead th {\n",
       "        text-align: right;\n",
       "    }\n",
       "</style>\n",
       "<table border=\"1\" class=\"dataframe\">\n",
       "  <thead>\n",
       "    <tr style=\"text-align: right;\">\n",
       "      <th></th>\n",
       "      <th>year</th>\n",
       "      <th>trial_number</th>\n",
       "      <th>punishment</th>\n",
       "      <th>text</th>\n",
       "      <th>dirty_len</th>\n",
       "      <th>clean_len</th>\n",
       "      <th>words</th>\n",
       "      <th>word_count</th>\n",
       "      <th>word_count_cleaned</th>\n",
       "      <th>words_lemmatized</th>\n",
       "      <th>word_count_cleaned_no_digits</th>\n",
       "      <th>top_5_words_tfidf</th>\n",
       "      <th>doc2vec</th>\n",
       "      <th>cluster</th>\n",
       "    </tr>\n",
       "  </thead>\n",
       "  <tbody>\n",
       "    <tr>\n",
       "      <th>0</th>\n",
       "      <td>1720</td>\n",
       "      <td>1</td>\n",
       "      <td>Transportation</td>\n",
       "      <td>of st leonard eastcheap was indicted for felon...</td>\n",
       "      <td>705</td>\n",
       "      <td>684</td>\n",
       "      <td>[st, leonard, eastcheap, indicted, feloniously...</td>\n",
       "      <td>129</td>\n",
       "      <td>66</td>\n",
       "      <td>[st, leonard, eastcheap, indict, feloniously, ...</td>\n",
       "      <td>60</td>\n",
       "      <td>[(confest, 0.1972391174872452), (depose, 0.215...</td>\n",
       "      <td>[0.5782519, -0.7623888, 0.6419972, -0.01352496...</td>\n",
       "      <td>1</td>\n",
       "    </tr>\n",
       "    <tr>\n",
       "      <th>1</th>\n",
       "      <td>1720</td>\n",
       "      <td>2</td>\n",
       "      <td>Transportation</td>\n",
       "      <td>alice jones of st michaels cornhill was indict...</td>\n",
       "      <td>1087</td>\n",
       "      <td>1053</td>\n",
       "      <td>[alice, jones, st, michaels, cornhill, indicte...</td>\n",
       "      <td>200</td>\n",
       "      <td>87</td>\n",
       "      <td>[alice, jones, st, michaels, cornhill, indict,...</td>\n",
       "      <td>82</td>\n",
       "      <td>[(shop, 0.18964859164396325), (bermundas, 0.19...</td>\n",
       "      <td>[0.539647, 0.2990364, 0.90089196, 0.06318843, ...</td>\n",
       "      <td>1</td>\n",
       "    </tr>\n",
       "    <tr>\n",
       "      <th>2</th>\n",
       "      <td>1720</td>\n",
       "      <td>3</td>\n",
       "      <td>Transportation</td>\n",
       "      <td>james wilson of st katharine coleman was indic...</td>\n",
       "      <td>904</td>\n",
       "      <td>883</td>\n",
       "      <td>[james, wilson, st, katharine, coleman, indict...</td>\n",
       "      <td>177</td>\n",
       "      <td>79</td>\n",
       "      <td>[james, wilson, st, katharine, coleman, indict...</td>\n",
       "      <td>71</td>\n",
       "      <td>[(hung, 0.21832648950390215), (deposed, 0.2419...</td>\n",
       "      <td>[0.46213368, -0.7192513, 1.1036029, 0.02122612...</td>\n",
       "      <td>1</td>\n",
       "    </tr>\n",
       "    <tr>\n",
       "      <th>3</th>\n",
       "      <td>1720</td>\n",
       "      <td>4</td>\n",
       "      <td>Transportation</td>\n",
       "      <td>james mercy alias masse of st andrew undershaf...</td>\n",
       "      <td>804</td>\n",
       "      <td>778</td>\n",
       "      <td>[james, mercy, alias, masse, st, andrew, under...</td>\n",
       "      <td>143</td>\n",
       "      <td>67</td>\n",
       "      <td>[james, mercy, alias, masse, st, andrew, under...</td>\n",
       "      <td>64</td>\n",
       "      <td>[(undershaft, 0.2126517359898944), (lockt, 0.2...</td>\n",
       "      <td>[-0.18796237, -0.011926579, 0.8681372, -0.6687...</td>\n",
       "      <td>1</td>\n",
       "    </tr>\n",
       "    <tr>\n",
       "      <th>4</th>\n",
       "      <td>1720</td>\n",
       "      <td>5</td>\n",
       "      <td>Transportation</td>\n",
       "      <td>benjamin cook alias richard smith of st mary a...</td>\n",
       "      <td>483</td>\n",
       "      <td>466</td>\n",
       "      <td>[benjamin, cook, alias, richard, smith, st, ma...</td>\n",
       "      <td>88</td>\n",
       "      <td>46</td>\n",
       "      <td>[benjamin, cook, alias, richard, smith, st, ma...</td>\n",
       "      <td>43</td>\n",
       "      <td>[(stopt, 0.23416420335477436), (abchurch, 0.26...</td>\n",
       "      <td>[0.13697092, 0.5740971, 0.84388906, -0.2005741...</td>\n",
       "      <td>1</td>\n",
       "    </tr>\n",
       "  </tbody>\n",
       "</table>\n",
       "</div>"
      ],
      "text/plain": [
       "   year  trial_number      punishment  \\\n",
       "0  1720             1  Transportation   \n",
       "1  1720             2  Transportation   \n",
       "2  1720             3  Transportation   \n",
       "3  1720             4  Transportation   \n",
       "4  1720             5  Transportation   \n",
       "\n",
       "                                                text  dirty_len  clean_len  \\\n",
       "0  of st leonard eastcheap was indicted for felon...        705        684   \n",
       "1  alice jones of st michaels cornhill was indict...       1087       1053   \n",
       "2  james wilson of st katharine coleman was indic...        904        883   \n",
       "3  james mercy alias masse of st andrew undershaf...        804        778   \n",
       "4  benjamin cook alias richard smith of st mary a...        483        466   \n",
       "\n",
       "                                               words  word_count  \\\n",
       "0  [st, leonard, eastcheap, indicted, feloniously...         129   \n",
       "1  [alice, jones, st, michaels, cornhill, indicte...         200   \n",
       "2  [james, wilson, st, katharine, coleman, indict...         177   \n",
       "3  [james, mercy, alias, masse, st, andrew, under...         143   \n",
       "4  [benjamin, cook, alias, richard, smith, st, ma...          88   \n",
       "\n",
       "   word_count_cleaned                                   words_lemmatized  \\\n",
       "0                  66  [st, leonard, eastcheap, indict, feloniously, ...   \n",
       "1                  87  [alice, jones, st, michaels, cornhill, indict,...   \n",
       "2                  79  [james, wilson, st, katharine, coleman, indict...   \n",
       "3                  67  [james, mercy, alias, masse, st, andrew, under...   \n",
       "4                  46  [benjamin, cook, alias, richard, smith, st, ma...   \n",
       "\n",
       "   word_count_cleaned_no_digits  \\\n",
       "0                            60   \n",
       "1                            82   \n",
       "2                            71   \n",
       "3                            64   \n",
       "4                            43   \n",
       "\n",
       "                                   top_5_words_tfidf  \\\n",
       "0  [(confest, 0.1972391174872452), (depose, 0.215...   \n",
       "1  [(shop, 0.18964859164396325), (bermundas, 0.19...   \n",
       "2  [(hung, 0.21832648950390215), (deposed, 0.2419...   \n",
       "3  [(undershaft, 0.2126517359898944), (lockt, 0.2...   \n",
       "4  [(stopt, 0.23416420335477436), (abchurch, 0.26...   \n",
       "\n",
       "                                             doc2vec  cluster  \n",
       "0  [0.5782519, -0.7623888, 0.6419972, -0.01352496...        1  \n",
       "1  [0.539647, 0.2990364, 0.90089196, 0.06318843, ...        1  \n",
       "2  [0.46213368, -0.7192513, 1.1036029, 0.02122612...        1  \n",
       "3  [-0.18796237, -0.011926579, 0.8681372, -0.6687...        1  \n",
       "4  [0.13697092, 0.5740971, 0.84388906, -0.2005741...        1  "
      ]
     },
     "execution_count": 16,
     "metadata": {},
     "output_type": "execute_result"
    }
   ],
   "source": [
    "# let's assign our predicted clusters to our dataframe\n",
    "df['cluster'] = y_pred\n",
    "# let's check out first 5 rows\n",
    "df.head()"
   ]
  },
  {
   "cell_type": "code",
   "execution_count": 17,
   "metadata": {},
   "outputs": [
    {
     "data": {
      "text/plain": [
       "cluster\n",
       "1    995\n",
       "2    234\n",
       "0    230\n",
       "3    102\n",
       "4     76\n",
       "Name: count, dtype: int64"
      ]
     },
     "execution_count": 17,
     "metadata": {},
     "output_type": "execute_result"
    }
   ],
   "source": [
    "# value counts for our clusters\n",
    "df.cluster.value_counts()"
   ]
  },
  {
   "cell_type": "code",
   "execution_count": 18,
   "metadata": {},
   "outputs": [
    {
     "data": {
      "text/html": [
       "<div>\n",
       "<style scoped>\n",
       "    .dataframe tbody tr th:only-of-type {\n",
       "        vertical-align: middle;\n",
       "    }\n",
       "\n",
       "    .dataframe tbody tr th {\n",
       "        vertical-align: top;\n",
       "    }\n",
       "\n",
       "    .dataframe thead th {\n",
       "        text-align: right;\n",
       "    }\n",
       "</style>\n",
       "<table border=\"1\" class=\"dataframe\">\n",
       "  <thead>\n",
       "    <tr style=\"text-align: right;\">\n",
       "      <th>cluster</th>\n",
       "      <th>0</th>\n",
       "      <th>1</th>\n",
       "      <th>2</th>\n",
       "      <th>3</th>\n",
       "      <th>4</th>\n",
       "    </tr>\n",
       "    <tr>\n",
       "      <th>year</th>\n",
       "      <th></th>\n",
       "      <th></th>\n",
       "      <th></th>\n",
       "      <th></th>\n",
       "      <th></th>\n",
       "    </tr>\n",
       "  </thead>\n",
       "  <tbody>\n",
       "    <tr>\n",
       "      <th>1720</th>\n",
       "      <td>2.0</td>\n",
       "      <td>69.0</td>\n",
       "      <td>2.0</td>\n",
       "      <td>NaN</td>\n",
       "      <td>2.0</td>\n",
       "    </tr>\n",
       "    <tr>\n",
       "      <th>1731</th>\n",
       "      <td>1.0</td>\n",
       "      <td>70.0</td>\n",
       "      <td>5.0</td>\n",
       "      <td>NaN</td>\n",
       "      <td>2.0</td>\n",
       "    </tr>\n",
       "    <tr>\n",
       "      <th>1742</th>\n",
       "      <td>8.0</td>\n",
       "      <td>71.0</td>\n",
       "      <td>3.0</td>\n",
       "      <td>2.0</td>\n",
       "      <td>3.0</td>\n",
       "    </tr>\n",
       "    <tr>\n",
       "      <th>1754</th>\n",
       "      <td>19.0</td>\n",
       "      <td>33.0</td>\n",
       "      <td>8.0</td>\n",
       "      <td>NaN</td>\n",
       "      <td>2.0</td>\n",
       "    </tr>\n",
       "    <tr>\n",
       "      <th>1762</th>\n",
       "      <td>14.0</td>\n",
       "      <td>12.0</td>\n",
       "      <td>NaN</td>\n",
       "      <td>NaN</td>\n",
       "      <td>1.0</td>\n",
       "    </tr>\n",
       "  </tbody>\n",
       "</table>\n",
       "</div>"
      ],
      "text/plain": [
       "cluster     0     1    2    3    4\n",
       "year                              \n",
       "1720      2.0  69.0  2.0  NaN  2.0\n",
       "1731      1.0  70.0  5.0  NaN  2.0\n",
       "1742      8.0  71.0  3.0  2.0  3.0\n",
       "1754     19.0  33.0  8.0  NaN  2.0\n",
       "1762     14.0  12.0  NaN  NaN  1.0"
      ]
     },
     "execution_count": 18,
     "metadata": {},
     "output_type": "execute_result"
    }
   ],
   "source": [
    "# now it would be interesting to plot our clusters over the years\n",
    "\n",
    "# let's plot our clusters over the years\n",
    "# we ill use 100% stacked bar chart to show relative proportions of clusters over the years\n",
    "\n",
    "# we will use pandas groupby method to group our data by year and cluster\n",
    "# we will use size method to get number of rows in each group\n",
    "# we will use unstack method to convert our data into a dataframe\n",
    "\n",
    "df_year_cluster = df.groupby(['year', 'cluster']).size().unstack()\n",
    "# let's check out first 5 rows\n",
    "df_year_cluster.head()"
   ]
  },
  {
   "cell_type": "code",
   "execution_count": 19,
   "metadata": {},
   "outputs": [
    {
     "data": {
      "text/html": [
       "<div>\n",
       "<style scoped>\n",
       "    .dataframe tbody tr th:only-of-type {\n",
       "        vertical-align: middle;\n",
       "    }\n",
       "\n",
       "    .dataframe tbody tr th {\n",
       "        vertical-align: top;\n",
       "    }\n",
       "\n",
       "    .dataframe thead th {\n",
       "        text-align: right;\n",
       "    }\n",
       "</style>\n",
       "<table border=\"1\" class=\"dataframe\">\n",
       "  <thead>\n",
       "    <tr style=\"text-align: right;\">\n",
       "      <th>cluster</th>\n",
       "      <th>0</th>\n",
       "      <th>1</th>\n",
       "      <th>2</th>\n",
       "      <th>3</th>\n",
       "      <th>4</th>\n",
       "    </tr>\n",
       "    <tr>\n",
       "      <th>year</th>\n",
       "      <th></th>\n",
       "      <th></th>\n",
       "      <th></th>\n",
       "      <th></th>\n",
       "      <th></th>\n",
       "    </tr>\n",
       "  </thead>\n",
       "  <tbody>\n",
       "    <tr>\n",
       "      <th>1720</th>\n",
       "      <td>2.0</td>\n",
       "      <td>69.0</td>\n",
       "      <td>2.0</td>\n",
       "      <td>0.0</td>\n",
       "      <td>2.0</td>\n",
       "    </tr>\n",
       "    <tr>\n",
       "      <th>1731</th>\n",
       "      <td>1.0</td>\n",
       "      <td>70.0</td>\n",
       "      <td>5.0</td>\n",
       "      <td>0.0</td>\n",
       "      <td>2.0</td>\n",
       "    </tr>\n",
       "    <tr>\n",
       "      <th>1742</th>\n",
       "      <td>8.0</td>\n",
       "      <td>71.0</td>\n",
       "      <td>3.0</td>\n",
       "      <td>2.0</td>\n",
       "      <td>3.0</td>\n",
       "    </tr>\n",
       "    <tr>\n",
       "      <th>1754</th>\n",
       "      <td>19.0</td>\n",
       "      <td>33.0</td>\n",
       "      <td>8.0</td>\n",
       "      <td>0.0</td>\n",
       "      <td>2.0</td>\n",
       "    </tr>\n",
       "    <tr>\n",
       "      <th>1762</th>\n",
       "      <td>14.0</td>\n",
       "      <td>12.0</td>\n",
       "      <td>0.0</td>\n",
       "      <td>0.0</td>\n",
       "      <td>1.0</td>\n",
       "    </tr>\n",
       "  </tbody>\n",
       "</table>\n",
       "</div>"
      ],
      "text/plain": [
       "cluster     0     1    2    3    4\n",
       "year                              \n",
       "1720      2.0  69.0  2.0  0.0  2.0\n",
       "1731      1.0  70.0  5.0  0.0  2.0\n",
       "1742      8.0  71.0  3.0  2.0  3.0\n",
       "1754     19.0  33.0  8.0  0.0  2.0\n",
       "1762     14.0  12.0  0.0  0.0  1.0"
      ]
     },
     "execution_count": 19,
     "metadata": {},
     "output_type": "execute_result"
    }
   ],
   "source": [
    "# now we need to fill in missing values with 0\n",
    "df_year_cluster.fillna(0, inplace=True) # note inplace=True means we will change our dataframe in place\n",
    "# let's check out first 5 rows\n",
    "df_year_cluster.head()"
   ]
  },
  {
   "cell_type": "code",
   "execution_count": 20,
   "metadata": {},
   "outputs": [
    {
     "data": {
      "text/html": [
       "<div>\n",
       "<style scoped>\n",
       "    .dataframe tbody tr th:only-of-type {\n",
       "        vertical-align: middle;\n",
       "    }\n",
       "\n",
       "    .dataframe tbody tr th {\n",
       "        vertical-align: top;\n",
       "    }\n",
       "\n",
       "    .dataframe thead th {\n",
       "        text-align: right;\n",
       "    }\n",
       "</style>\n",
       "<table border=\"1\" class=\"dataframe\">\n",
       "  <thead>\n",
       "    <tr style=\"text-align: right;\">\n",
       "      <th>cluster</th>\n",
       "      <th>0</th>\n",
       "      <th>1</th>\n",
       "      <th>2</th>\n",
       "      <th>3</th>\n",
       "      <th>4</th>\n",
       "      <th>total</th>\n",
       "    </tr>\n",
       "    <tr>\n",
       "      <th>year</th>\n",
       "      <th></th>\n",
       "      <th></th>\n",
       "      <th></th>\n",
       "      <th></th>\n",
       "      <th></th>\n",
       "      <th></th>\n",
       "    </tr>\n",
       "  </thead>\n",
       "  <tbody>\n",
       "    <tr>\n",
       "      <th>1720</th>\n",
       "      <td>2.0</td>\n",
       "      <td>69.0</td>\n",
       "      <td>2.0</td>\n",
       "      <td>0.0</td>\n",
       "      <td>2.0</td>\n",
       "      <td>75.0</td>\n",
       "    </tr>\n",
       "    <tr>\n",
       "      <th>1731</th>\n",
       "      <td>1.0</td>\n",
       "      <td>70.0</td>\n",
       "      <td>5.0</td>\n",
       "      <td>0.0</td>\n",
       "      <td>2.0</td>\n",
       "      <td>78.0</td>\n",
       "    </tr>\n",
       "    <tr>\n",
       "      <th>1742</th>\n",
       "      <td>8.0</td>\n",
       "      <td>71.0</td>\n",
       "      <td>3.0</td>\n",
       "      <td>2.0</td>\n",
       "      <td>3.0</td>\n",
       "      <td>87.0</td>\n",
       "    </tr>\n",
       "    <tr>\n",
       "      <th>1754</th>\n",
       "      <td>19.0</td>\n",
       "      <td>33.0</td>\n",
       "      <td>8.0</td>\n",
       "      <td>0.0</td>\n",
       "      <td>2.0</td>\n",
       "      <td>62.0</td>\n",
       "    </tr>\n",
       "    <tr>\n",
       "      <th>1762</th>\n",
       "      <td>14.0</td>\n",
       "      <td>12.0</td>\n",
       "      <td>0.0</td>\n",
       "      <td>0.0</td>\n",
       "      <td>1.0</td>\n",
       "      <td>27.0</td>\n",
       "    </tr>\n",
       "  </tbody>\n",
       "</table>\n",
       "</div>"
      ],
      "text/plain": [
       "cluster     0     1    2    3    4  total\n",
       "year                                     \n",
       "1720      2.0  69.0  2.0  0.0  2.0   75.0\n",
       "1731      1.0  70.0  5.0  0.0  2.0   78.0\n",
       "1742      8.0  71.0  3.0  2.0  3.0   87.0\n",
       "1754     19.0  33.0  8.0  0.0  2.0   62.0\n",
       "1762     14.0  12.0  0.0  0.0  1.0   27.0"
      ]
     },
     "execution_count": 20,
     "metadata": {},
     "output_type": "execute_result"
    }
   ],
   "source": [
    "# now let's create a column of total values for each year\n",
    "df_year_cluster['total'] = df_year_cluster.sum(axis=1)\n",
    "# let's check out first 5 rows\n",
    "df_year_cluster.head()"
   ]
  },
  {
   "cell_type": "code",
   "execution_count": 21,
   "metadata": {},
   "outputs": [
    {
     "data": {
      "text/html": [
       "<div>\n",
       "<style scoped>\n",
       "    .dataframe tbody tr th:only-of-type {\n",
       "        vertical-align: middle;\n",
       "    }\n",
       "\n",
       "    .dataframe tbody tr th {\n",
       "        vertical-align: top;\n",
       "    }\n",
       "\n",
       "    .dataframe thead th {\n",
       "        text-align: right;\n",
       "    }\n",
       "</style>\n",
       "<table border=\"1\" class=\"dataframe\">\n",
       "  <thead>\n",
       "    <tr style=\"text-align: right;\">\n",
       "      <th>cluster</th>\n",
       "      <th>0</th>\n",
       "      <th>1</th>\n",
       "      <th>2</th>\n",
       "      <th>3</th>\n",
       "      <th>4</th>\n",
       "      <th>total</th>\n",
       "      <th>c_0_perc</th>\n",
       "      <th>c_1_perc</th>\n",
       "      <th>c_2_perc</th>\n",
       "      <th>c_3_perc</th>\n",
       "      <th>c_4_perc</th>\n",
       "    </tr>\n",
       "    <tr>\n",
       "      <th>year</th>\n",
       "      <th></th>\n",
       "      <th></th>\n",
       "      <th></th>\n",
       "      <th></th>\n",
       "      <th></th>\n",
       "      <th></th>\n",
       "      <th></th>\n",
       "      <th></th>\n",
       "      <th></th>\n",
       "      <th></th>\n",
       "      <th></th>\n",
       "    </tr>\n",
       "  </thead>\n",
       "  <tbody>\n",
       "    <tr>\n",
       "      <th>1720</th>\n",
       "      <td>2.0</td>\n",
       "      <td>69.0</td>\n",
       "      <td>2.0</td>\n",
       "      <td>0.0</td>\n",
       "      <td>2.0</td>\n",
       "      <td>75.0</td>\n",
       "      <td>0.026667</td>\n",
       "      <td>0.920000</td>\n",
       "      <td>0.026667</td>\n",
       "      <td>0.000000</td>\n",
       "      <td>0.026667</td>\n",
       "    </tr>\n",
       "    <tr>\n",
       "      <th>1731</th>\n",
       "      <td>1.0</td>\n",
       "      <td>70.0</td>\n",
       "      <td>5.0</td>\n",
       "      <td>0.0</td>\n",
       "      <td>2.0</td>\n",
       "      <td>78.0</td>\n",
       "      <td>0.012821</td>\n",
       "      <td>0.897436</td>\n",
       "      <td>0.064103</td>\n",
       "      <td>0.000000</td>\n",
       "      <td>0.025641</td>\n",
       "    </tr>\n",
       "    <tr>\n",
       "      <th>1742</th>\n",
       "      <td>8.0</td>\n",
       "      <td>71.0</td>\n",
       "      <td>3.0</td>\n",
       "      <td>2.0</td>\n",
       "      <td>3.0</td>\n",
       "      <td>87.0</td>\n",
       "      <td>0.091954</td>\n",
       "      <td>0.816092</td>\n",
       "      <td>0.034483</td>\n",
       "      <td>0.022989</td>\n",
       "      <td>0.034483</td>\n",
       "    </tr>\n",
       "    <tr>\n",
       "      <th>1754</th>\n",
       "      <td>19.0</td>\n",
       "      <td>33.0</td>\n",
       "      <td>8.0</td>\n",
       "      <td>0.0</td>\n",
       "      <td>2.0</td>\n",
       "      <td>62.0</td>\n",
       "      <td>0.306452</td>\n",
       "      <td>0.532258</td>\n",
       "      <td>0.129032</td>\n",
       "      <td>0.000000</td>\n",
       "      <td>0.032258</td>\n",
       "    </tr>\n",
       "    <tr>\n",
       "      <th>1762</th>\n",
       "      <td>14.0</td>\n",
       "      <td>12.0</td>\n",
       "      <td>0.0</td>\n",
       "      <td>0.0</td>\n",
       "      <td>1.0</td>\n",
       "      <td>27.0</td>\n",
       "      <td>0.518519</td>\n",
       "      <td>0.444444</td>\n",
       "      <td>0.000000</td>\n",
       "      <td>0.000000</td>\n",
       "      <td>0.037037</td>\n",
       "    </tr>\n",
       "  </tbody>\n",
       "</table>\n",
       "</div>"
      ],
      "text/plain": [
       "cluster     0     1    2    3    4  total  c_0_perc  c_1_perc  c_2_perc  \\\n",
       "year                                                                      \n",
       "1720      2.0  69.0  2.0  0.0  2.0   75.0  0.026667  0.920000  0.026667   \n",
       "1731      1.0  70.0  5.0  0.0  2.0   78.0  0.012821  0.897436  0.064103   \n",
       "1742      8.0  71.0  3.0  2.0  3.0   87.0  0.091954  0.816092  0.034483   \n",
       "1754     19.0  33.0  8.0  0.0  2.0   62.0  0.306452  0.532258  0.129032   \n",
       "1762     14.0  12.0  0.0  0.0  1.0   27.0  0.518519  0.444444  0.000000   \n",
       "\n",
       "cluster  c_3_perc  c_4_perc  \n",
       "year                         \n",
       "1720     0.000000  0.026667  \n",
       "1731     0.000000  0.025641  \n",
       "1742     0.022989  0.034483  \n",
       "1754     0.000000  0.032258  \n",
       "1762     0.000000  0.037037  "
      ]
     },
     "execution_count": 21,
     "metadata": {},
     "output_type": "execute_result"
    }
   ],
   "source": [
    "# now let's create a proportion column for each cluster\n",
    "# we will divide each cluster column by total column and create a new column with results\n",
    "for cluster in range(5):\n",
    "    df_year_cluster[f\"c_{cluster}_perc\"] = df_year_cluster[cluster] / df_year_cluster['total']\n",
    "# let's check out first 5 rows\n",
    "df_year_cluster.head()"
   ]
  },
  {
   "cell_type": "code",
   "execution_count": 22,
   "metadata": {},
   "outputs": [
    {
     "data": {
      "application/vnd.plotly.v1+json": {
       "config": {
        "plotlyServerURL": "https://plot.ly"
       },
       "data": [
        {
         "alignmentgroup": "True",
         "hovertemplate": "variable=c_0_perc<br>year=%{x}<br>value=%{y}<extra></extra>",
         "legendgroup": "c_0_perc",
         "marker": {
          "color": "#636efa",
          "pattern": {
           "shape": ""
          }
         },
         "name": "c_0_perc",
         "offsetgroup": "c_0_perc",
         "orientation": "v",
         "showlegend": true,
         "textposition": "auto",
         "type": "bar",
         "x": [
          1720,
          1731,
          1742,
          1754,
          1762,
          1773,
          1784,
          1796,
          1802,
          1814,
          1821,
          1835,
          1841,
          1853,
          1865,
          1872,
          1881,
          1896,
          1902,
          1913
         ],
         "xaxis": "x",
         "y": [
          0.02666666666666667,
          0.01282051282051282,
          0.09195402298850575,
          0.3064516129032258,
          0.5185185185185185,
          0.275,
          0,
          0.47058823529411764,
          0.34782608695652173,
          0.22608695652173913,
          0.18497109826589594,
          0.13333333333333333,
          0.11214953271028037,
          0.07608695652173914,
          0.037037037037037035,
          0.043478260869565216,
          0.058823529411764705,
          0,
          0.016129032258064516,
          0.028985507246376812
         ],
         "yaxis": "y"
        },
        {
         "alignmentgroup": "True",
         "hovertemplate": "variable=c_1_perc<br>year=%{x}<br>value=%{y}<extra></extra>",
         "legendgroup": "c_1_perc",
         "marker": {
          "color": "#EF553B",
          "pattern": {
           "shape": ""
          }
         },
         "name": "c_1_perc",
         "offsetgroup": "c_1_perc",
         "orientation": "v",
         "showlegend": true,
         "textposition": "auto",
         "type": "bar",
         "x": [
          1720,
          1731,
          1742,
          1754,
          1762,
          1773,
          1784,
          1796,
          1802,
          1814,
          1821,
          1835,
          1841,
          1853,
          1865,
          1872,
          1881,
          1896,
          1902,
          1913
         ],
         "xaxis": "x",
         "y": [
          0.92,
          0.8974358974358975,
          0.8160919540229885,
          0.532258064516129,
          0.4444444444444444,
          0.65,
          0,
          0.29411764705882354,
          0.358695652173913,
          0.4956521739130435,
          0.5895953757225434,
          0.6166666666666667,
          0.6915887850467289,
          0.5652173913043478,
          0.4567901234567901,
          0.5507246376811594,
          0.5647058823529412,
          0.5510204081632653,
          0.6935483870967742,
          0.6521739130434783
         ],
         "yaxis": "y"
        },
        {
         "alignmentgroup": "True",
         "hovertemplate": "variable=c_2_perc<br>year=%{x}<br>value=%{y}<extra></extra>",
         "legendgroup": "c_2_perc",
         "marker": {
          "color": "#00cc96",
          "pattern": {
           "shape": ""
          }
         },
         "name": "c_2_perc",
         "offsetgroup": "c_2_perc",
         "orientation": "v",
         "showlegend": true,
         "textposition": "auto",
         "type": "bar",
         "x": [
          1720,
          1731,
          1742,
          1754,
          1762,
          1773,
          1784,
          1796,
          1802,
          1814,
          1821,
          1835,
          1841,
          1853,
          1865,
          1872,
          1881,
          1896,
          1902,
          1913
         ],
         "xaxis": "x",
         "y": [
          0.02666666666666667,
          0.0641025641025641,
          0.034482758620689655,
          0.12903225806451613,
          0,
          0.05,
          0,
          0.19607843137254902,
          0.22826086956521738,
          0.23478260869565218,
          0.1907514450867052,
          0.125,
          0.1308411214953271,
          0.17391304347826086,
          0.32098765432098764,
          0.2028985507246377,
          0.17647058823529413,
          0.16326530612244897,
          0.06451612903225806,
          0.07246376811594203
         ],
         "yaxis": "y"
        },
        {
         "alignmentgroup": "True",
         "hovertemplate": "variable=c_3_perc<br>year=%{x}<br>value=%{y}<extra></extra>",
         "legendgroup": "c_3_perc",
         "marker": {
          "color": "#ab63fa",
          "pattern": {
           "shape": ""
          }
         },
         "name": "c_3_perc",
         "offsetgroup": "c_3_perc",
         "orientation": "v",
         "showlegend": true,
         "textposition": "auto",
         "type": "bar",
         "x": [
          1720,
          1731,
          1742,
          1754,
          1762,
          1773,
          1784,
          1796,
          1802,
          1814,
          1821,
          1835,
          1841,
          1853,
          1865,
          1872,
          1881,
          1896,
          1902,
          1913
         ],
         "xaxis": "x",
         "y": [
          0,
          0,
          0.022988505747126436,
          0,
          0,
          0.0125,
          0,
          0.0392156862745098,
          0.05434782608695652,
          0.02608695652173913,
          0.028901734104046242,
          0.09166666666666666,
          0.028037383177570093,
          0.13043478260869565,
          0.09876543209876543,
          0.057971014492753624,
          0.1411764705882353,
          0.1836734693877551,
          0.08870967741935484,
          0.2028985507246377
         ],
         "yaxis": "y"
        },
        {
         "alignmentgroup": "True",
         "hovertemplate": "variable=c_4_perc<br>year=%{x}<br>value=%{y}<extra></extra>",
         "legendgroup": "c_4_perc",
         "marker": {
          "color": "#FFA15A",
          "pattern": {
           "shape": ""
          }
         },
         "name": "c_4_perc",
         "offsetgroup": "c_4_perc",
         "orientation": "v",
         "showlegend": true,
         "textposition": "auto",
         "type": "bar",
         "x": [
          1720,
          1731,
          1742,
          1754,
          1762,
          1773,
          1784,
          1796,
          1802,
          1814,
          1821,
          1835,
          1841,
          1853,
          1865,
          1872,
          1881,
          1896,
          1902,
          1913
         ],
         "xaxis": "x",
         "y": [
          0.02666666666666667,
          0.02564102564102564,
          0.034482758620689655,
          0.03225806451612903,
          0.037037037037037035,
          0.0125,
          1,
          0,
          0.010869565217391304,
          0.017391304347826087,
          0.005780346820809248,
          0.03333333333333333,
          0.037383177570093455,
          0.05434782608695652,
          0.08641975308641975,
          0.14492753623188406,
          0.058823529411764705,
          0.10204081632653061,
          0.13709677419354838,
          0.043478260869565216
         ],
         "yaxis": "y"
        }
       ],
       "layout": {
        "barmode": "relative",
        "legend": {
         "title": {
          "text": "variable"
         },
         "tracegroupgap": 0
        },
        "template": {
         "data": {
          "bar": [
           {
            "error_x": {
             "color": "#2a3f5f"
            },
            "error_y": {
             "color": "#2a3f5f"
            },
            "marker": {
             "line": {
              "color": "#E5ECF6",
              "width": 0.5
             },
             "pattern": {
              "fillmode": "overlay",
              "size": 10,
              "solidity": 0.2
             }
            },
            "type": "bar"
           }
          ],
          "barpolar": [
           {
            "marker": {
             "line": {
              "color": "#E5ECF6",
              "width": 0.5
             },
             "pattern": {
              "fillmode": "overlay",
              "size": 10,
              "solidity": 0.2
             }
            },
            "type": "barpolar"
           }
          ],
          "carpet": [
           {
            "aaxis": {
             "endlinecolor": "#2a3f5f",
             "gridcolor": "white",
             "linecolor": "white",
             "minorgridcolor": "white",
             "startlinecolor": "#2a3f5f"
            },
            "baxis": {
             "endlinecolor": "#2a3f5f",
             "gridcolor": "white",
             "linecolor": "white",
             "minorgridcolor": "white",
             "startlinecolor": "#2a3f5f"
            },
            "type": "carpet"
           }
          ],
          "choropleth": [
           {
            "colorbar": {
             "outlinewidth": 0,
             "ticks": ""
            },
            "type": "choropleth"
           }
          ],
          "contour": [
           {
            "colorbar": {
             "outlinewidth": 0,
             "ticks": ""
            },
            "colorscale": [
             [
              0,
              "#0d0887"
             ],
             [
              0.1111111111111111,
              "#46039f"
             ],
             [
              0.2222222222222222,
              "#7201a8"
             ],
             [
              0.3333333333333333,
              "#9c179e"
             ],
             [
              0.4444444444444444,
              "#bd3786"
             ],
             [
              0.5555555555555556,
              "#d8576b"
             ],
             [
              0.6666666666666666,
              "#ed7953"
             ],
             [
              0.7777777777777778,
              "#fb9f3a"
             ],
             [
              0.8888888888888888,
              "#fdca26"
             ],
             [
              1,
              "#f0f921"
             ]
            ],
            "type": "contour"
           }
          ],
          "contourcarpet": [
           {
            "colorbar": {
             "outlinewidth": 0,
             "ticks": ""
            },
            "type": "contourcarpet"
           }
          ],
          "heatmap": [
           {
            "colorbar": {
             "outlinewidth": 0,
             "ticks": ""
            },
            "colorscale": [
             [
              0,
              "#0d0887"
             ],
             [
              0.1111111111111111,
              "#46039f"
             ],
             [
              0.2222222222222222,
              "#7201a8"
             ],
             [
              0.3333333333333333,
              "#9c179e"
             ],
             [
              0.4444444444444444,
              "#bd3786"
             ],
             [
              0.5555555555555556,
              "#d8576b"
             ],
             [
              0.6666666666666666,
              "#ed7953"
             ],
             [
              0.7777777777777778,
              "#fb9f3a"
             ],
             [
              0.8888888888888888,
              "#fdca26"
             ],
             [
              1,
              "#f0f921"
             ]
            ],
            "type": "heatmap"
           }
          ],
          "heatmapgl": [
           {
            "colorbar": {
             "outlinewidth": 0,
             "ticks": ""
            },
            "colorscale": [
             [
              0,
              "#0d0887"
             ],
             [
              0.1111111111111111,
              "#46039f"
             ],
             [
              0.2222222222222222,
              "#7201a8"
             ],
             [
              0.3333333333333333,
              "#9c179e"
             ],
             [
              0.4444444444444444,
              "#bd3786"
             ],
             [
              0.5555555555555556,
              "#d8576b"
             ],
             [
              0.6666666666666666,
              "#ed7953"
             ],
             [
              0.7777777777777778,
              "#fb9f3a"
             ],
             [
              0.8888888888888888,
              "#fdca26"
             ],
             [
              1,
              "#f0f921"
             ]
            ],
            "type": "heatmapgl"
           }
          ],
          "histogram": [
           {
            "marker": {
             "pattern": {
              "fillmode": "overlay",
              "size": 10,
              "solidity": 0.2
             }
            },
            "type": "histogram"
           }
          ],
          "histogram2d": [
           {
            "colorbar": {
             "outlinewidth": 0,
             "ticks": ""
            },
            "colorscale": [
             [
              0,
              "#0d0887"
             ],
             [
              0.1111111111111111,
              "#46039f"
             ],
             [
              0.2222222222222222,
              "#7201a8"
             ],
             [
              0.3333333333333333,
              "#9c179e"
             ],
             [
              0.4444444444444444,
              "#bd3786"
             ],
             [
              0.5555555555555556,
              "#d8576b"
             ],
             [
              0.6666666666666666,
              "#ed7953"
             ],
             [
              0.7777777777777778,
              "#fb9f3a"
             ],
             [
              0.8888888888888888,
              "#fdca26"
             ],
             [
              1,
              "#f0f921"
             ]
            ],
            "type": "histogram2d"
           }
          ],
          "histogram2dcontour": [
           {
            "colorbar": {
             "outlinewidth": 0,
             "ticks": ""
            },
            "colorscale": [
             [
              0,
              "#0d0887"
             ],
             [
              0.1111111111111111,
              "#46039f"
             ],
             [
              0.2222222222222222,
              "#7201a8"
             ],
             [
              0.3333333333333333,
              "#9c179e"
             ],
             [
              0.4444444444444444,
              "#bd3786"
             ],
             [
              0.5555555555555556,
              "#d8576b"
             ],
             [
              0.6666666666666666,
              "#ed7953"
             ],
             [
              0.7777777777777778,
              "#fb9f3a"
             ],
             [
              0.8888888888888888,
              "#fdca26"
             ],
             [
              1,
              "#f0f921"
             ]
            ],
            "type": "histogram2dcontour"
           }
          ],
          "mesh3d": [
           {
            "colorbar": {
             "outlinewidth": 0,
             "ticks": ""
            },
            "type": "mesh3d"
           }
          ],
          "parcoords": [
           {
            "line": {
             "colorbar": {
              "outlinewidth": 0,
              "ticks": ""
             }
            },
            "type": "parcoords"
           }
          ],
          "pie": [
           {
            "automargin": true,
            "type": "pie"
           }
          ],
          "scatter": [
           {
            "fillpattern": {
             "fillmode": "overlay",
             "size": 10,
             "solidity": 0.2
            },
            "type": "scatter"
           }
          ],
          "scatter3d": [
           {
            "line": {
             "colorbar": {
              "outlinewidth": 0,
              "ticks": ""
             }
            },
            "marker": {
             "colorbar": {
              "outlinewidth": 0,
              "ticks": ""
             }
            },
            "type": "scatter3d"
           }
          ],
          "scattercarpet": [
           {
            "marker": {
             "colorbar": {
              "outlinewidth": 0,
              "ticks": ""
             }
            },
            "type": "scattercarpet"
           }
          ],
          "scattergeo": [
           {
            "marker": {
             "colorbar": {
              "outlinewidth": 0,
              "ticks": ""
             }
            },
            "type": "scattergeo"
           }
          ],
          "scattergl": [
           {
            "marker": {
             "colorbar": {
              "outlinewidth": 0,
              "ticks": ""
             }
            },
            "type": "scattergl"
           }
          ],
          "scattermapbox": [
           {
            "marker": {
             "colorbar": {
              "outlinewidth": 0,
              "ticks": ""
             }
            },
            "type": "scattermapbox"
           }
          ],
          "scatterpolar": [
           {
            "marker": {
             "colorbar": {
              "outlinewidth": 0,
              "ticks": ""
             }
            },
            "type": "scatterpolar"
           }
          ],
          "scatterpolargl": [
           {
            "marker": {
             "colorbar": {
              "outlinewidth": 0,
              "ticks": ""
             }
            },
            "type": "scatterpolargl"
           }
          ],
          "scatterternary": [
           {
            "marker": {
             "colorbar": {
              "outlinewidth": 0,
              "ticks": ""
             }
            },
            "type": "scatterternary"
           }
          ],
          "surface": [
           {
            "colorbar": {
             "outlinewidth": 0,
             "ticks": ""
            },
            "colorscale": [
             [
              0,
              "#0d0887"
             ],
             [
              0.1111111111111111,
              "#46039f"
             ],
             [
              0.2222222222222222,
              "#7201a8"
             ],
             [
              0.3333333333333333,
              "#9c179e"
             ],
             [
              0.4444444444444444,
              "#bd3786"
             ],
             [
              0.5555555555555556,
              "#d8576b"
             ],
             [
              0.6666666666666666,
              "#ed7953"
             ],
             [
              0.7777777777777778,
              "#fb9f3a"
             ],
             [
              0.8888888888888888,
              "#fdca26"
             ],
             [
              1,
              "#f0f921"
             ]
            ],
            "type": "surface"
           }
          ],
          "table": [
           {
            "cells": {
             "fill": {
              "color": "#EBF0F8"
             },
             "line": {
              "color": "white"
             }
            },
            "header": {
             "fill": {
              "color": "#C8D4E3"
             },
             "line": {
              "color": "white"
             }
            },
            "type": "table"
           }
          ]
         },
         "layout": {
          "annotationdefaults": {
           "arrowcolor": "#2a3f5f",
           "arrowhead": 0,
           "arrowwidth": 1
          },
          "autotypenumbers": "strict",
          "coloraxis": {
           "colorbar": {
            "outlinewidth": 0,
            "ticks": ""
           }
          },
          "colorscale": {
           "diverging": [
            [
             0,
             "#8e0152"
            ],
            [
             0.1,
             "#c51b7d"
            ],
            [
             0.2,
             "#de77ae"
            ],
            [
             0.3,
             "#f1b6da"
            ],
            [
             0.4,
             "#fde0ef"
            ],
            [
             0.5,
             "#f7f7f7"
            ],
            [
             0.6,
             "#e6f5d0"
            ],
            [
             0.7,
             "#b8e186"
            ],
            [
             0.8,
             "#7fbc41"
            ],
            [
             0.9,
             "#4d9221"
            ],
            [
             1,
             "#276419"
            ]
           ],
           "sequential": [
            [
             0,
             "#0d0887"
            ],
            [
             0.1111111111111111,
             "#46039f"
            ],
            [
             0.2222222222222222,
             "#7201a8"
            ],
            [
             0.3333333333333333,
             "#9c179e"
            ],
            [
             0.4444444444444444,
             "#bd3786"
            ],
            [
             0.5555555555555556,
             "#d8576b"
            ],
            [
             0.6666666666666666,
             "#ed7953"
            ],
            [
             0.7777777777777778,
             "#fb9f3a"
            ],
            [
             0.8888888888888888,
             "#fdca26"
            ],
            [
             1,
             "#f0f921"
            ]
           ],
           "sequentialminus": [
            [
             0,
             "#0d0887"
            ],
            [
             0.1111111111111111,
             "#46039f"
            ],
            [
             0.2222222222222222,
             "#7201a8"
            ],
            [
             0.3333333333333333,
             "#9c179e"
            ],
            [
             0.4444444444444444,
             "#bd3786"
            ],
            [
             0.5555555555555556,
             "#d8576b"
            ],
            [
             0.6666666666666666,
             "#ed7953"
            ],
            [
             0.7777777777777778,
             "#fb9f3a"
            ],
            [
             0.8888888888888888,
             "#fdca26"
            ],
            [
             1,
             "#f0f921"
            ]
           ]
          },
          "colorway": [
           "#636efa",
           "#EF553B",
           "#00cc96",
           "#ab63fa",
           "#FFA15A",
           "#19d3f3",
           "#FF6692",
           "#B6E880",
           "#FF97FF",
           "#FECB52"
          ],
          "font": {
           "color": "#2a3f5f"
          },
          "geo": {
           "bgcolor": "white",
           "lakecolor": "white",
           "landcolor": "#E5ECF6",
           "showlakes": true,
           "showland": true,
           "subunitcolor": "white"
          },
          "hoverlabel": {
           "align": "left"
          },
          "hovermode": "closest",
          "mapbox": {
           "style": "light"
          },
          "paper_bgcolor": "white",
          "plot_bgcolor": "#E5ECF6",
          "polar": {
           "angularaxis": {
            "gridcolor": "white",
            "linecolor": "white",
            "ticks": ""
           },
           "bgcolor": "#E5ECF6",
           "radialaxis": {
            "gridcolor": "white",
            "linecolor": "white",
            "ticks": ""
           }
          },
          "scene": {
           "xaxis": {
            "backgroundcolor": "#E5ECF6",
            "gridcolor": "white",
            "gridwidth": 2,
            "linecolor": "white",
            "showbackground": true,
            "ticks": "",
            "zerolinecolor": "white"
           },
           "yaxis": {
            "backgroundcolor": "#E5ECF6",
            "gridcolor": "white",
            "gridwidth": 2,
            "linecolor": "white",
            "showbackground": true,
            "ticks": "",
            "zerolinecolor": "white"
           },
           "zaxis": {
            "backgroundcolor": "#E5ECF6",
            "gridcolor": "white",
            "gridwidth": 2,
            "linecolor": "white",
            "showbackground": true,
            "ticks": "",
            "zerolinecolor": "white"
           }
          },
          "shapedefaults": {
           "line": {
            "color": "#2a3f5f"
           }
          },
          "ternary": {
           "aaxis": {
            "gridcolor": "white",
            "linecolor": "white",
            "ticks": ""
           },
           "baxis": {
            "gridcolor": "white",
            "linecolor": "white",
            "ticks": ""
           },
           "bgcolor": "#E5ECF6",
           "caxis": {
            "gridcolor": "white",
            "linecolor": "white",
            "ticks": ""
           }
          },
          "title": {
           "x": 0.05
          },
          "xaxis": {
           "automargin": true,
           "gridcolor": "white",
           "linecolor": "white",
           "ticks": "",
           "title": {
            "standoff": 15
           },
           "zerolinecolor": "white",
           "zerolinewidth": 2
          },
          "yaxis": {
           "automargin": true,
           "gridcolor": "white",
           "linecolor": "white",
           "ticks": "",
           "title": {
            "standoff": 15
           },
           "zerolinecolor": "white",
           "zerolinewidth": 2
          }
         }
        },
        "title": {
         "text": "Proportion of clusters over the years"
        },
        "xaxis": {
         "anchor": "y",
         "domain": [
          0,
          1
         ],
         "title": {
          "text": "year"
         }
        },
        "yaxis": {
         "anchor": "x",
         "domain": [
          0,
          1
         ],
         "title": {
          "text": "value"
         }
        }
       }
      }
     },
     "metadata": {},
     "output_type": "display_data"
    }
   ],
   "source": [
    "# now we can plot our last 5 columns as 100% stacked bar chart\n",
    "# using x as year and y as proportion of each cluster\n",
    "\n",
    "# let's use plotly express for our plot\n",
    "\n",
    "import plotly.express as px\n",
    "\n",
    "# let's create a list of our columns to plot\n",
    "\n",
    "columns_to_plot = [f\"c_{cluster}_perc\" for cluster in range(5)]\n",
    "# let's check out our list\n",
    "\n",
    "# so x axis will be year and y axis will be proportion of each cluster\n",
    "\n",
    "# let's plot our data\n",
    "\n",
    "fig = px.bar(df_year_cluster, \n",
    "             x=df_year_cluster.index, \n",
    "             y=columns_to_plot, \n",
    "             title=\"Proportion of clusters over the years\", \n",
    "             labels={'x':'Year', 'y':'Proportion of clusters'})\n",
    "\n",
    "# let's show our plot\n",
    "fig.show()"
   ]
  },
  {
   "cell_type": "markdown",
   "metadata": {},
   "source": [
    "### Conclusions from 5 clusters\n",
    "\n",
    "We can certainly see some interesting trends over the years.\n",
    "\n",
    "What is really interesting is that year 1784 is all one cluster. This would require further investigation. It is quite surprising that the year 1784 is so different from the rest of the years.\n",
    "\n",
    "Some possible explanations:\n",
    "\n",
    "* It is possible that there is some corruption in the data.\n",
    "* It is possible that the year 1784 is a year of some major event that is not captured in the data.\n",
    "* It is possible that doc2vec that generated the embeddings is not working properly.\n",
    "* it is quite possible that 1784 has some unique characteristics that are not present in other years. Maybe a special header is present in the documents from 1784 that is not present in other years.\n",
    "\n",
    "\n",
    "\n",
    "We have to remember that kmeans is an unsupervised algorithm and it is up to us to interpret the results.\n",
    "\n",
    "Also it is \"how high to jump\" question. We can try 10 clusters and see what happens. We can also try 3 clusters and see what happens."
   ]
  },
  {
   "cell_type": "markdown",
   "metadata": {},
   "source": [
    "## How to determine the number of clusters\n",
    "\n",
    "This is the million dollar question. There are many ways to determine the number of clusters. One way is to use the elbow method. The elbow method is a heuristic that looks at the percentage of variance explained as a function of the number of clusters. The idea is that as we increase the number of clusters, the percentage of variance explained will increase. At some point, adding more clusters will not add much explanatory power. This point is called the elbow. The elbow method looks for the point where the percentage of variance explained stops increasing quickly."
   ]
  },
  {
   "cell_type": "code",
   "execution_count": 23,
   "metadata": {},
   "outputs": [
    {
     "name": "stderr",
     "output_type": "stream",
     "text": [
      "  0%|          | 0/20 [00:00<?, ?it/s]"
     ]
    },
    {
     "name": "stderr",
     "output_type": "stream",
     "text": [
      "100%|██████████| 20/20 [00:03<00:00,  6.15it/s]\n"
     ]
    },
    {
     "data": {
      "text/plain": [
       "[116454.24168168934,\n",
       " 109547.91759786427,\n",
       " 104767.04338962861,\n",
       " 101978.89930226818,\n",
       " 99699.21626579801,\n",
       " 97622.49416295285,\n",
       " 96519.19296511401,\n",
       " 94214.89038892224,\n",
       " 93088.05295048565,\n",
       " 92143.85968502212,\n",
       " 90281.7602267529,\n",
       " 89502.79298458582,\n",
       " 88626.78820392436,\n",
       " 88243.05197473442,\n",
       " 86478.22856132852,\n",
       " 86294.93443609167,\n",
       " 84768.51047949109,\n",
       " 84649.90035167981,\n",
       " 83762.45609139431,\n",
       " 82851.86178853942]"
      ]
     },
     "execution_count": 23,
     "metadata": {},
     "output_type": "execute_result"
    }
   ],
   "source": [
    "# now let's see if we can find the elbow of our kmeans model\n",
    "# we will calculate km.inertia_ for each number of clusters from 1 to 20\n",
    "# we will plot the results\n",
    "\n",
    "# let's create a list of inertia values\n",
    "inertia_values = []\n",
    "# let's create a list of number of clusters\n",
    "n_clusters = list(range(1, 21)) # 1 is kind of silly of course but we will do it for completeness\n",
    "\n",
    "from tqdm import tqdm # tqdm is a nice progress bar library\n",
    "\n",
    "# let's loop through our number of clusters\n",
    "# kmeans is fast enough and our dataset small enough so we can do it in a loop\n",
    "for n_cluster in tqdm(n_clusters):\n",
    "    # let's create a kmeans model\n",
    "    kmeans_model = KMeans(n_clusters=n_cluster, random_state=42, n_init=10)\n",
    "    # let's train our model\n",
    "    kmeans_model.fit(X_list)\n",
    "    # let's get inertia value\n",
    "    inertia_values.append(kmeans_model.inertia_)\n",
    "\n",
    "# let's check out our inertia values\n",
    "inertia_values\n"
   ]
  },
  {
   "cell_type": "code",
   "execution_count": 24,
   "metadata": {},
   "outputs": [
    {
     "data": {
      "application/vnd.plotly.v1+json": {
       "config": {
        "plotlyServerURL": "https://plot.ly"
       },
       "data": [
        {
         "hovertemplate": "x=%{x}<br>y=%{y}<extra></extra>",
         "legendgroup": "",
         "line": {
          "color": "#636efa",
          "dash": "solid"
         },
         "marker": {
          "symbol": "circle"
         },
         "mode": "lines",
         "name": "",
         "orientation": "v",
         "showlegend": false,
         "type": "scatter",
         "x": [
          1,
          2,
          3,
          4,
          5,
          6,
          7,
          8,
          9,
          10,
          11,
          12,
          13,
          14,
          15,
          16,
          17,
          18,
          19,
          20
         ],
         "xaxis": "x",
         "y": [
          116454.24168168934,
          109547.91759786427,
          104767.04338962861,
          101978.89930226818,
          99699.21626579801,
          97622.49416295285,
          96519.19296511401,
          94214.89038892224,
          93088.05295048565,
          92143.85968502212,
          90281.7602267529,
          89502.79298458582,
          88626.78820392436,
          88243.05197473442,
          86478.22856132852,
          86294.93443609167,
          84768.51047949109,
          84649.90035167981,
          83762.45609139431,
          82851.86178853942
         ],
         "yaxis": "y"
        }
       ],
       "layout": {
        "legend": {
         "tracegroupgap": 0
        },
        "template": {
         "data": {
          "bar": [
           {
            "error_x": {
             "color": "#2a3f5f"
            },
            "error_y": {
             "color": "#2a3f5f"
            },
            "marker": {
             "line": {
              "color": "#E5ECF6",
              "width": 0.5
             },
             "pattern": {
              "fillmode": "overlay",
              "size": 10,
              "solidity": 0.2
             }
            },
            "type": "bar"
           }
          ],
          "barpolar": [
           {
            "marker": {
             "line": {
              "color": "#E5ECF6",
              "width": 0.5
             },
             "pattern": {
              "fillmode": "overlay",
              "size": 10,
              "solidity": 0.2
             }
            },
            "type": "barpolar"
           }
          ],
          "carpet": [
           {
            "aaxis": {
             "endlinecolor": "#2a3f5f",
             "gridcolor": "white",
             "linecolor": "white",
             "minorgridcolor": "white",
             "startlinecolor": "#2a3f5f"
            },
            "baxis": {
             "endlinecolor": "#2a3f5f",
             "gridcolor": "white",
             "linecolor": "white",
             "minorgridcolor": "white",
             "startlinecolor": "#2a3f5f"
            },
            "type": "carpet"
           }
          ],
          "choropleth": [
           {
            "colorbar": {
             "outlinewidth": 0,
             "ticks": ""
            },
            "type": "choropleth"
           }
          ],
          "contour": [
           {
            "colorbar": {
             "outlinewidth": 0,
             "ticks": ""
            },
            "colorscale": [
             [
              0,
              "#0d0887"
             ],
             [
              0.1111111111111111,
              "#46039f"
             ],
             [
              0.2222222222222222,
              "#7201a8"
             ],
             [
              0.3333333333333333,
              "#9c179e"
             ],
             [
              0.4444444444444444,
              "#bd3786"
             ],
             [
              0.5555555555555556,
              "#d8576b"
             ],
             [
              0.6666666666666666,
              "#ed7953"
             ],
             [
              0.7777777777777778,
              "#fb9f3a"
             ],
             [
              0.8888888888888888,
              "#fdca26"
             ],
             [
              1,
              "#f0f921"
             ]
            ],
            "type": "contour"
           }
          ],
          "contourcarpet": [
           {
            "colorbar": {
             "outlinewidth": 0,
             "ticks": ""
            },
            "type": "contourcarpet"
           }
          ],
          "heatmap": [
           {
            "colorbar": {
             "outlinewidth": 0,
             "ticks": ""
            },
            "colorscale": [
             [
              0,
              "#0d0887"
             ],
             [
              0.1111111111111111,
              "#46039f"
             ],
             [
              0.2222222222222222,
              "#7201a8"
             ],
             [
              0.3333333333333333,
              "#9c179e"
             ],
             [
              0.4444444444444444,
              "#bd3786"
             ],
             [
              0.5555555555555556,
              "#d8576b"
             ],
             [
              0.6666666666666666,
              "#ed7953"
             ],
             [
              0.7777777777777778,
              "#fb9f3a"
             ],
             [
              0.8888888888888888,
              "#fdca26"
             ],
             [
              1,
              "#f0f921"
             ]
            ],
            "type": "heatmap"
           }
          ],
          "heatmapgl": [
           {
            "colorbar": {
             "outlinewidth": 0,
             "ticks": ""
            },
            "colorscale": [
             [
              0,
              "#0d0887"
             ],
             [
              0.1111111111111111,
              "#46039f"
             ],
             [
              0.2222222222222222,
              "#7201a8"
             ],
             [
              0.3333333333333333,
              "#9c179e"
             ],
             [
              0.4444444444444444,
              "#bd3786"
             ],
             [
              0.5555555555555556,
              "#d8576b"
             ],
             [
              0.6666666666666666,
              "#ed7953"
             ],
             [
              0.7777777777777778,
              "#fb9f3a"
             ],
             [
              0.8888888888888888,
              "#fdca26"
             ],
             [
              1,
              "#f0f921"
             ]
            ],
            "type": "heatmapgl"
           }
          ],
          "histogram": [
           {
            "marker": {
             "pattern": {
              "fillmode": "overlay",
              "size": 10,
              "solidity": 0.2
             }
            },
            "type": "histogram"
           }
          ],
          "histogram2d": [
           {
            "colorbar": {
             "outlinewidth": 0,
             "ticks": ""
            },
            "colorscale": [
             [
              0,
              "#0d0887"
             ],
             [
              0.1111111111111111,
              "#46039f"
             ],
             [
              0.2222222222222222,
              "#7201a8"
             ],
             [
              0.3333333333333333,
              "#9c179e"
             ],
             [
              0.4444444444444444,
              "#bd3786"
             ],
             [
              0.5555555555555556,
              "#d8576b"
             ],
             [
              0.6666666666666666,
              "#ed7953"
             ],
             [
              0.7777777777777778,
              "#fb9f3a"
             ],
             [
              0.8888888888888888,
              "#fdca26"
             ],
             [
              1,
              "#f0f921"
             ]
            ],
            "type": "histogram2d"
           }
          ],
          "histogram2dcontour": [
           {
            "colorbar": {
             "outlinewidth": 0,
             "ticks": ""
            },
            "colorscale": [
             [
              0,
              "#0d0887"
             ],
             [
              0.1111111111111111,
              "#46039f"
             ],
             [
              0.2222222222222222,
              "#7201a8"
             ],
             [
              0.3333333333333333,
              "#9c179e"
             ],
             [
              0.4444444444444444,
              "#bd3786"
             ],
             [
              0.5555555555555556,
              "#d8576b"
             ],
             [
              0.6666666666666666,
              "#ed7953"
             ],
             [
              0.7777777777777778,
              "#fb9f3a"
             ],
             [
              0.8888888888888888,
              "#fdca26"
             ],
             [
              1,
              "#f0f921"
             ]
            ],
            "type": "histogram2dcontour"
           }
          ],
          "mesh3d": [
           {
            "colorbar": {
             "outlinewidth": 0,
             "ticks": ""
            },
            "type": "mesh3d"
           }
          ],
          "parcoords": [
           {
            "line": {
             "colorbar": {
              "outlinewidth": 0,
              "ticks": ""
             }
            },
            "type": "parcoords"
           }
          ],
          "pie": [
           {
            "automargin": true,
            "type": "pie"
           }
          ],
          "scatter": [
           {
            "fillpattern": {
             "fillmode": "overlay",
             "size": 10,
             "solidity": 0.2
            },
            "type": "scatter"
           }
          ],
          "scatter3d": [
           {
            "line": {
             "colorbar": {
              "outlinewidth": 0,
              "ticks": ""
             }
            },
            "marker": {
             "colorbar": {
              "outlinewidth": 0,
              "ticks": ""
             }
            },
            "type": "scatter3d"
           }
          ],
          "scattercarpet": [
           {
            "marker": {
             "colorbar": {
              "outlinewidth": 0,
              "ticks": ""
             }
            },
            "type": "scattercarpet"
           }
          ],
          "scattergeo": [
           {
            "marker": {
             "colorbar": {
              "outlinewidth": 0,
              "ticks": ""
             }
            },
            "type": "scattergeo"
           }
          ],
          "scattergl": [
           {
            "marker": {
             "colorbar": {
              "outlinewidth": 0,
              "ticks": ""
             }
            },
            "type": "scattergl"
           }
          ],
          "scattermapbox": [
           {
            "marker": {
             "colorbar": {
              "outlinewidth": 0,
              "ticks": ""
             }
            },
            "type": "scattermapbox"
           }
          ],
          "scatterpolar": [
           {
            "marker": {
             "colorbar": {
              "outlinewidth": 0,
              "ticks": ""
             }
            },
            "type": "scatterpolar"
           }
          ],
          "scatterpolargl": [
           {
            "marker": {
             "colorbar": {
              "outlinewidth": 0,
              "ticks": ""
             }
            },
            "type": "scatterpolargl"
           }
          ],
          "scatterternary": [
           {
            "marker": {
             "colorbar": {
              "outlinewidth": 0,
              "ticks": ""
             }
            },
            "type": "scatterternary"
           }
          ],
          "surface": [
           {
            "colorbar": {
             "outlinewidth": 0,
             "ticks": ""
            },
            "colorscale": [
             [
              0,
              "#0d0887"
             ],
             [
              0.1111111111111111,
              "#46039f"
             ],
             [
              0.2222222222222222,
              "#7201a8"
             ],
             [
              0.3333333333333333,
              "#9c179e"
             ],
             [
              0.4444444444444444,
              "#bd3786"
             ],
             [
              0.5555555555555556,
              "#d8576b"
             ],
             [
              0.6666666666666666,
              "#ed7953"
             ],
             [
              0.7777777777777778,
              "#fb9f3a"
             ],
             [
              0.8888888888888888,
              "#fdca26"
             ],
             [
              1,
              "#f0f921"
             ]
            ],
            "type": "surface"
           }
          ],
          "table": [
           {
            "cells": {
             "fill": {
              "color": "#EBF0F8"
             },
             "line": {
              "color": "white"
             }
            },
            "header": {
             "fill": {
              "color": "#C8D4E3"
             },
             "line": {
              "color": "white"
             }
            },
            "type": "table"
           }
          ]
         },
         "layout": {
          "annotationdefaults": {
           "arrowcolor": "#2a3f5f",
           "arrowhead": 0,
           "arrowwidth": 1
          },
          "autotypenumbers": "strict",
          "coloraxis": {
           "colorbar": {
            "outlinewidth": 0,
            "ticks": ""
           }
          },
          "colorscale": {
           "diverging": [
            [
             0,
             "#8e0152"
            ],
            [
             0.1,
             "#c51b7d"
            ],
            [
             0.2,
             "#de77ae"
            ],
            [
             0.3,
             "#f1b6da"
            ],
            [
             0.4,
             "#fde0ef"
            ],
            [
             0.5,
             "#f7f7f7"
            ],
            [
             0.6,
             "#e6f5d0"
            ],
            [
             0.7,
             "#b8e186"
            ],
            [
             0.8,
             "#7fbc41"
            ],
            [
             0.9,
             "#4d9221"
            ],
            [
             1,
             "#276419"
            ]
           ],
           "sequential": [
            [
             0,
             "#0d0887"
            ],
            [
             0.1111111111111111,
             "#46039f"
            ],
            [
             0.2222222222222222,
             "#7201a8"
            ],
            [
             0.3333333333333333,
             "#9c179e"
            ],
            [
             0.4444444444444444,
             "#bd3786"
            ],
            [
             0.5555555555555556,
             "#d8576b"
            ],
            [
             0.6666666666666666,
             "#ed7953"
            ],
            [
             0.7777777777777778,
             "#fb9f3a"
            ],
            [
             0.8888888888888888,
             "#fdca26"
            ],
            [
             1,
             "#f0f921"
            ]
           ],
           "sequentialminus": [
            [
             0,
             "#0d0887"
            ],
            [
             0.1111111111111111,
             "#46039f"
            ],
            [
             0.2222222222222222,
             "#7201a8"
            ],
            [
             0.3333333333333333,
             "#9c179e"
            ],
            [
             0.4444444444444444,
             "#bd3786"
            ],
            [
             0.5555555555555556,
             "#d8576b"
            ],
            [
             0.6666666666666666,
             "#ed7953"
            ],
            [
             0.7777777777777778,
             "#fb9f3a"
            ],
            [
             0.8888888888888888,
             "#fdca26"
            ],
            [
             1,
             "#f0f921"
            ]
           ]
          },
          "colorway": [
           "#636efa",
           "#EF553B",
           "#00cc96",
           "#ab63fa",
           "#FFA15A",
           "#19d3f3",
           "#FF6692",
           "#B6E880",
           "#FF97FF",
           "#FECB52"
          ],
          "font": {
           "color": "#2a3f5f"
          },
          "geo": {
           "bgcolor": "white",
           "lakecolor": "white",
           "landcolor": "#E5ECF6",
           "showlakes": true,
           "showland": true,
           "subunitcolor": "white"
          },
          "hoverlabel": {
           "align": "left"
          },
          "hovermode": "closest",
          "mapbox": {
           "style": "light"
          },
          "paper_bgcolor": "white",
          "plot_bgcolor": "#E5ECF6",
          "polar": {
           "angularaxis": {
            "gridcolor": "white",
            "linecolor": "white",
            "ticks": ""
           },
           "bgcolor": "#E5ECF6",
           "radialaxis": {
            "gridcolor": "white",
            "linecolor": "white",
            "ticks": ""
           }
          },
          "scene": {
           "xaxis": {
            "backgroundcolor": "#E5ECF6",
            "gridcolor": "white",
            "gridwidth": 2,
            "linecolor": "white",
            "showbackground": true,
            "ticks": "",
            "zerolinecolor": "white"
           },
           "yaxis": {
            "backgroundcolor": "#E5ECF6",
            "gridcolor": "white",
            "gridwidth": 2,
            "linecolor": "white",
            "showbackground": true,
            "ticks": "",
            "zerolinecolor": "white"
           },
           "zaxis": {
            "backgroundcolor": "#E5ECF6",
            "gridcolor": "white",
            "gridwidth": 2,
            "linecolor": "white",
            "showbackground": true,
            "ticks": "",
            "zerolinecolor": "white"
           }
          },
          "shapedefaults": {
           "line": {
            "color": "#2a3f5f"
           }
          },
          "ternary": {
           "aaxis": {
            "gridcolor": "white",
            "linecolor": "white",
            "ticks": ""
           },
           "baxis": {
            "gridcolor": "white",
            "linecolor": "white",
            "ticks": ""
           },
           "bgcolor": "#E5ECF6",
           "caxis": {
            "gridcolor": "white",
            "linecolor": "white",
            "ticks": ""
           }
          },
          "title": {
           "x": 0.05
          },
          "xaxis": {
           "automargin": true,
           "gridcolor": "white",
           "linecolor": "white",
           "ticks": "",
           "title": {
            "standoff": 15
           },
           "zerolinecolor": "white",
           "zerolinewidth": 2
          },
          "yaxis": {
           "automargin": true,
           "gridcolor": "white",
           "linecolor": "white",
           "ticks": "",
           "title": {
            "standoff": 15
           },
           "zerolinecolor": "white",
           "zerolinewidth": 2
          }
         }
        },
        "title": {
         "text": "Inertia values for different number of clusters"
        },
        "xaxis": {
         "anchor": "y",
         "domain": [
          0,
          1
         ],
         "title": {
          "text": "x"
         }
        },
        "yaxis": {
         "anchor": "x",
         "domain": [
          0,
          1
         ],
         "title": {
          "text": "y"
         }
        }
       }
      }
     },
     "metadata": {},
     "output_type": "display_data"
    }
   ],
   "source": [
    "# it is hard to tell from these values where the elbow is\n",
    "# so let's plot it\n",
    "\n",
    "# let's plot our inertia values\n",
    "fig = px.line(x=n_clusters, y=inertia_values, title=\"Inertia values for different number of clusters\")\n",
    "# let's show our plot\n",
    "fig.show()"
   ]
  },
  {
   "cell_type": "code",
   "execution_count": 25,
   "metadata": {},
   "outputs": [
    {
     "data": {
      "text/plain": [
       "<Axes: >"
      ]
     },
     "execution_count": 25,
     "metadata": {},
     "output_type": "execute_result"
    },
    {
     "data": {
      "image/png": "[encoded data removed]",
      "text/plain": [
       "<Figure size 640x480 with 1 Axes>"
      ]
     },
     "metadata": {},
     "output_type": "display_data"
    }
   ],
   "source": [
    "# alternatively simpler graph using sns\n",
    "sns.lineplot(x=n_clusters, y=inertia_values)"
   ]
  },
  {
   "cell_type": "markdown",
   "metadata": {},
   "source": [
    "### Limitations of the elbow method\n",
    "\n",
    "It certainly looks like we do not have a clear cut elbow - break point.\n",
    "We can choose any number of cluster of our liking. We can also choose 10 clusters as we did before.\n",
    "\n",
    "Elbow method is just a tool. It might not provide enough additional information to justify the additional complexity of the model. It is up to us to decide if the additional complexity is worth it."
   ]
  },
  {
   "cell_type": "code",
   "execution_count": 26,
   "metadata": {},
   "outputs": [],
   "source": [
    "# We could play around with different clustering methods and different number of clusters\n",
    "\n",
    "# the general process is the same\n",
    "# initialize model from skleanr.cluster selection\n",
    "# docs: https://scikit-learn.org/stable/modules/clustering.html\n",
    "\n",
    "# train model using fit method\n",
    "\n",
    "# predict clusters using predict method\n",
    "\n",
    "# what would change is some of the parameters we pass in to our model\n",
    "# we can generally use default parameters for most models\n",
    "\n",
    "# the parameters that are used for fine-tuning are called hyperparameters. So we can say we are fine-tuning our model by changing hyperparameters.\n",
    "# Sounds fancy but it is just a matter of trying out different values for different parameters and seeing what works best for our data"
   ]
  },
  {
   "cell_type": "markdown",
   "metadata": {},
   "source": [
    "## Topic Modeling using Latent Dirichlet Allocation (LDA)\n",
    "\n",
    "If kmeans gives us strict clustering then LDA gives us soft clustering. In other words each document can belong to multiple topics.\n",
    "\n",
    "### LDA\n",
    "\n",
    "LDA is a generative probabilistic model. It assumes that each document is a mixture of topics and that each word in the document is attributable to the document's topics.\n",
    "\n",
    "### LDA in practice\n",
    "\n",
    "We do not have to implement LDA ourselves. We can use the implementation provided by gensim.\n",
    "\n",
    "Some more information on LDA: https://en.wikipedia.org/wiki/Latent_Dirichlet_allocation"
   ]
  },
  {
   "cell_type": "code",
   "execution_count": 27,
   "metadata": {},
   "outputs": [
    {
     "name": "stdout",
     "output_type": "stream",
     "text": [
      "['st', 'leonard', 'eastcheap', 'indict', 'feloniously', 'steal', 'pound', 'weight', 'tobacco', 'value', 'l', 's', 'good', 'job', 'wick', 'dwelling', 'house', 'say', 'job', 'wick', 'april', 'appear', 'prisoner', 'prosecutor', 'servant', 'fellow', 'servant', 'depose', 'perceive', 'pocket', 'stick', 'search', 'find', 'paper', 'tobacco', 'worth', 'd', 'own', 'master', 'take', 'cellar', 'constable', 'depose', 'confest', 'take', 'tobacco', 'time', 'say', 'paper', 'tobacco', 'produce', 'court', 'jury', 'consider', 'matter', 'find', 'guilty', 'value', 'd', 'transportation']\n",
      "['alice', 'jones', 'st', 'michaels', 'cornhill', 'indict', 'privately', 'steal', 'bermundas', 'hat', 'value', 's', 'shop', 'edward', 'hillior', 'april', 'prosecutors', 'servant', 'deposed', 'prisner', 'come', 'master', 'shop', 'askd', 'hat', 's', 'price', 'shew', 'agreed', 'say', 'country', 'stop', 'bishopsgatestreet', 'coach', 'go', 'come', 'fetch', 'go', 'shop', 'perceive', 'hardly', 'walk', 'fetcht', 'hat', 'mention', 'indictment', 'fall', 'leg', 'depose', 'see', 'evidence', 'hat', 'petticoat', 'prisoner', 'deny', 'fact', 'call', 'person', 'reputation', 'give', 'good', 'character', 'say', 'rent', 'house', 'l', 'year', 'petty', 'france', 'westminster', 'tell', 'justice', 'livd', 'kingstreet', 'jury', 'consider', 'matter', 'find', 'guilty', 'value', 'd', 'transportation']\n",
      "['james', 'wilson', 'st', 'katharine', 'coleman', 'indict', 'feloniously', 'steal', 'pound', 'beef', 'value', 's', 'good', 'charle', 'watts', 'april', 'mary', 'watts', 'deposed', 'gentleman', 'come', 'bar', 'clock', 'night', 'tell', 'fellow', 'lurking', 'house', 'prisoner', 'come', 'bar', 'take', 'rump', 'beef', 'hung', 'pursue', 'dropt', 'door', 'see', 'plain', 'sure', 'prisoner', 'person', 'cookmaid', 'deposed', 'see', 'prisoner', 'beef', 'lift', 'times', 'hook', 'prisoner', 'defence', 'say', 'drinking', 'run', 'head', 'beef', 'fall', 'appear', 'evidence', 'dropt', 'yard', 'place', 'hung', 'jury', 'find', 'guilty', 'value', 'd', 'transportation']\n"
     ]
    }
   ],
   "source": [
    "### LDA MODEL\n",
    "## Doc for gensim LDA model: https://radimrehurek.com/gensim/models/ldamodel.html\n",
    "\n",
    "# gensim needs list of lists of tokens - here words\n",
    "\n",
    "# we already have our lemma column with list of lemmas\n",
    "# we can use that\n",
    "texts = df.words_lemmatized.to_list()\n",
    "# print first 3 rows\n",
    "print(*texts[:3], sep = \"\\n\")\n",
    "# here we can see that we could have cleaned our data we have some really short lists\n",
    "# also getting rid of say digits actually robbed us of some information"
   ]
  },
  {
   "cell_type": "code",
   "execution_count": 28,
   "metadata": {},
   "outputs": [
    {
     "name": "stdout",
     "output_type": "stream",
     "text": [
      "Number of words in our dictionary 18118\n"
     ]
    }
   ],
   "source": [
    "# now we need to create a dictionary of our words\n",
    "# we will use gensim corpora Dictionary class\n",
    "# docs: https://radimrehurek.com/gensim/corpora/dictionary.html\n",
    "\n",
    "from gensim.corpora import Dictionary\n",
    "\n",
    "# let's create our dictionary\n",
    "dictionary = Dictionary(texts)\n",
    "# let's check out our dictionary\n",
    "# print how many words we have in our dictionary\n",
    "print(\"Number of words in our dictionary\", len(dictionary)) \n",
    "# that certainly seems familiar from our previous work that's good news\n",
    "\n"
   ]
  },
  {
   "cell_type": "code",
   "execution_count": 29,
   "metadata": {},
   "outputs": [
    {
     "name": "stdout",
     "output_type": "stream",
     "text": [
      "First 10 words in our dictionary [(0, 'appear'), (1, 'april'), (2, 'cellar'), (3, 'confest'), (4, 'consider'), (5, 'constable'), (6, 'court'), (7, 'd'), (8, 'depose'), (9, 'dwelling')]\n",
      "Last 10 words in our dictionary [(18108, 'mb'), (18109, 'morally'), (18110, 'noncombatant'), (18111, 'olive'), (18112, 'prain'), (18113, 'radius'), (18114, 'towingpath'), (18115, 'unclimbable'), (18116, 'wharry'), (18117, 'yeddon')]\n",
      "Middle 10 words in our dictionary [(9054, 'judging'), (9055, 'juries'), (9056, 'kin'), (9057, 'kingstonuponhull'), (9058, 'lawyer'), (9059, 'learned'), (9060, 'lease'), (9061, 'ledgerclerk'), (9062, 'legally'), (9063, 'levitt')]\n"
     ]
    }
   ],
   "source": [
    "# print first 10 words in our dictionary\n",
    "print(\"First 10 words in our dictionary\", list(dictionary.items())[:10])\n",
    "# last 10 words in our dictionary\n",
    "print(\"Last 10 words in our dictionary\", list(dictionary.items())[-10:])\n",
    "# how about m iddle 10 words in our dictionary\n",
    "print(\"Middle 10 words in our dictionary\", list(dictionary.items())[len(dictionary)//2-5:len(dictionary)//2+5])"
   ]
  },
  {
   "cell_type": "code",
   "execution_count": 30,
   "metadata": {},
   "outputs": [
    {
     "name": "stdout",
     "output_type": "stream",
     "text": [
      "Words starting with b [(50, 'bermundas'), (51, 'bishopsgatestreet'), (97, 'bar'), (98, 'beef'), (131, 'believe'), (160, 'benjamin'), (177, 'bengodwin'), (187, 'bring'), (200, 'botolph'), (241, 'brandy'), (242, 'break'), (243, 'breeche'), (268, 'book'), (301, 'bride'), (305, 'bishopsgate'), (306, 'breaking'), (319, 'burglary'), (343, 'bridge'), (354, 'blackwellhall'), (355, 'blue'), (356, 'broadcloth'), (357, 'bundle'), (358, 'buy'), (412, 'barter'), (413, 'bent'), (430, 'baker'), (431, 'broad'), (449, 'brandyshop'), (460, 'black'), (461, 'boney'), (462, 'boy'), (504, 'bid'), (505, 'bigness'), (548, 'beat'), (549, 'believd'), (550, 'bell'), (551, 'bloody'), (552, 'bull'), (641, 'box'), (642, 'brass'), (643, 'brother'), (684, 'busy'), (698, 'bed'), (716, 'brown'), (736, 'beesley'), (737, 'blackd'), (738, 'body'), (775, 'beer'), (790, 'bigg'), (791, 'biggs'), (792, 'bolearmoniac'), (793, 'boyle'), (794, 'breakfast'), (882, 'blanket'), (921, 'breech'), (924, 'bay'), (953, 'barbara'), (954, 'bartholomew'), (962, 'burn'), (965, 'barrimore'), (979, 'binks'), (1009, 'brooks'), (1013, 'bespoke'), (1014, 'blank'), (1077, 'becket'), (1080, 'burra'), (1081, 'button'), (1103, 'boat'), (1104, 'brillant'), (1165, 'bagnal'), (1183, 'bartrum'), (1195, 'burglariously'), (1205, 'bailey'), (1206, 'buckle'), (1223, 'bobbin'), (1257, 'bloomsbury'), (1280, 'bosom'), (1281, 'bullyd'), (1303, 'bellas'), (1319, 'bakersshop'), (1320, 'beard'), (1321, 'behavd'), (1322, 'bockhole'), (1323, 'borrow'), (1324, 'borrowd'), (1325, 'bowd'), (1392, 'bridget'), (1428, 'botolphs'), (1457, 'bad'), (1458, 'belong'), (1459, 'bind'), (1460, 'bravely'), (1461, 'breakings'), (1462, 'build'), (1463, 'building'), (1464, 'business'), (1510, 'belladine'), (1520, 'bastock'), (1533, 'brasspot'), (1538, 'bellamy'), (1589, 'bitch'), (1590, 'browns'), (1591, 'bye'), (1613, 'bushel'), (1620, 'barnard'), (1624, 'bail'), (1625, 'bottle'), (1626, 'buying'), (1642, 'balak'), (1671, 'bacon'), (1710, 'bank'), (1711, 'banknote'), (1712, 'basket'), (1713, 'bayne'), (1714, 'baynes'), (1715, 'bayness'), (1716, 'bearer'), (1717, 'bird'), (1718, 'blame'), (1719, 'blewet'), (1720, 'bostock'), (1721, 'breast'), (1781, 'bashrite'), (1782, 'beauffet'), (1783, 'bury'), (1799, 'barbarously'), (1800, 'blood'), (1801, 'bridewell'), (1802, 'butler'), (1843, 'backside'), (1844, 'backwards'), (1845, 'bear'), (1846, 'bench'), (1847, 'bene'), (1848, 'bidding'), (1849, 'blockhead'), (1850, 'blow'), (1851, 'brandyface'), (1931, 'ball'), (1932, 'betwixt'), (1933, 'bullet'), (1993, 'bargain'), (1994, 'barrat'), (1995, 'brentford'), (2019, 'blind'), (2020, 'bluedick'), (2021, 'bone'), (2022, 'boot'), (2023, 'bridle'), (2024, 'burch'), (2063, 'bartholomews'), (2064, 'beggd'), (2065, 'bentley'), (2066, 'bently'), (2115, 'barne'), (2116, 'barnes'), (2117, 'bartrup'), (2118, 'behave'), (2119, 'bowl'), (2120, 'brace'), (2121, 'brewd'), (2221, 'barn'), (2222, 'bread'), (2223, 'bush'), (2224, 'butter'), (2284, 'bag'), (2285, 'belongd'), (2286, 'board'), (2287, 'butcher'), (2322, 'bare'), (2323, 'bathmetal'), (2324, 'beaumont'), (2325, 'bedchamber'), (2326, 'bencher'), (2327, 'borough'), (2328, 'burley'), (2362, 'bedside'), (2363, 'beg'), (2364, 'begin'), (2365, 'belly'), (2366, 'billy'), (2367, 'bineham'), (2368, 'bit'), (2369, 'bo'), (2370, 'bowel'), (2371, 'branding'), (2372, 'bruise'), (2373, 'burst'), (2374, 'bystander'), (2485, 'bakewell'), (2486, 'bennet'), (2508, 'botham'), (2511, 'b'), (2512, 'barbarcusly'), (2513, 'bawdyhouse'), (2514, 'binggs'), (2515, 'birk'), (2516, 'brag'), (2553, 'bunch'), (2567, 'bellow'), (2568, 'benfield'), (2572, 'bristow'), (2573, 'behaviour'), (2574, 'boys'), (2575, 'buggery'), (2587, 'beach'), (2588, 'brownstreet'), (2631, 'banister'), (2632, 'beck'), (2633, 'belive'), (2634, 'boomer'), (2635, 'bore'), (2636, 'bricklayer'), (2637, 'brokery'), (2638, 'bus'), (2639, 'bustle'), (2695, 'bluck'), (2705, 'bagley'), (2706, 'bagleys'), (2707, 'blackswanalley'), (2708, 'boiler'), (2709, 'bolt'), (2710, 'broke'), (2765, 'baldwins'), (2766, 'barber'), (2767, 'beachlane'), (2768, 'bean'), (2769, 'bleed'), (2770, 'bless'), (2771, 'breath'), (2772, 'bristol'), (2816, 'baize'), (2839, 'barnabas'), (2840, 'behalf'), (2841, 'benefit'), (2842, 'bequeath'), (2843, 'blackish'), (2844, 'bodily'), (2845, 'bolton'), (2846, 'borne'), (2847, 'boyden'), (2848, 'branch'), (2849, 'brow'), (2850, 'burton'), (3090, 'bonus'), (3096, 'blade'), (3097, 'broomstick'), (3098, 'burnham'), (3163, 'baffle'), (3164, 'bald'), (3165, 'ballet'), (3166, 'bartholmews'), (3167, 'beerlane'), (3168, 'big'), (3169, 'blunderbuss'), (3170, 'bobbd'), (3171, 'bolter'), (3172, 'breadth'), (3173, 'burgess'), (3174, 'buttonhole'), (3313, 'bonnell'), (3314, 'briers'), (3327, 'berrit'), (3329, 'burk'), (3332, 'badly'), (3333, 'bankrupt'), (3334, 'bookkeeper'), (3335, 'brasier'), (3336, 'brifant'), (3337, 'brooker'), (3438, 'barret'), (3439, 'barrett'), (3451, 'bine'), (3453, 'bobin'), (3462, 'bartin'), (3470, 'bullenger'), (3483, 'bolster'), (3489, 'broker'), (3490, 'busbey'), (3514, 'berkshire'), (3536, 'beezley'), (3537, 'blackfriar'), (3538, 'blankets'), (3552, 'bowstreet'), (3553, 'bully'), (3576, 'bat'), (3577, 'bound'), (3578, 'brain'), (3579, 'brick'), (3580, 'brickbat'), (3642, 'begged'), (3643, 'bishop'), (3658, 'boulster'), (3666, 'barefoot'), (3667, 'bess'), (3668, 'bill'), (3669, 'brewer'), (3716, 'bonnet'), (3724, 'bane'), (3725, 'beecher'), (3726, 'borehams'), (3727, 'brand'), (3750, 'barrel'), (3753, 'bulkley'), (3756, 'birth'), (3757, 'briant'), (3783, 'bevil'), (3784, 'brittin'), (3833, 'bullock'), (3836, 'booth'), (3837, 'bulk'), (3859, 'bow'), (3866, 'bargaining'), (3867, 'barnet'), (3868, 'bunn'), (3883, 'beset'), (3884, 'bluster'), (3885, 'britain'), (3945, 'band'), (3946, 'barnett'), (3947, 'barwell'), (3948, 'bob'), (3949, 'boyce'), (4018, 'bramley'), (4019, 'brotherinlaw'), (4052, 'baild'), (4067, 'breeches'), (4078, 'barleymow'), (4079, 'breeding'), (4080, 'briley'), (4081, 'burnet'), (4100, 'bason'), (4101, 'basons'), (4110, 'back'), (4111, 'battle'), (4112, 'baulk'), (4158, 'blackboyalley'), (4159, 'brookers'), (4160, 'burry'), (4187, 'brownridge'), (4188, 'bucker'), (4207, 'barbarous'), (4208, 'butts'), (4228, 'burrel'), (4241, 'belonged'), (4252, 'bundled'), (4271, 'bisborn'), (4287, 'barge'), (4288, 'bargeman'), (4289, 'bate'), (4290, 'bushels'), (4331, 'boyd'), (4336, 'benbrook'), (4390, 'brookss'), (4432, 'bottles'), (4449, 'beforementione'), (4450, 'berry'), (4487, 'banknotes'), (4488, 'blenheimstreet'), (4559, 'balance'), (4560, 'blackiston'), (4577, 'bedcloath'), (4578, 'belton'), (4579, 'bradfield'), (4580, 'brenton'), (4611, 'banker'), (4635, 'blare'), (4636, 'bloor'), (4648, 'bladin'), (4650, 'bourset'), (4651, 'butson'), (4670, 'batcock'), (4687, 'brainsout'), (4732, 'base'), (4750, 'belford'), (4751, 'blacksmith'), (4796, 'bayley'), (4811, 'burland'), (4817, 'bannister'), (4818, 'barrow'), (4833, 'bagnio'), (4850, 'badge'), (4851, 'beadle'), (4896, 'bayonet'), (4897, 'bromley'), (4918, 'barlow'), (4919, 'barrack'), (4920, 'belied'), (4921, 'bond'), (4922, 'brickmaker'), (5008, 'bounce'), (5014, 'bass'), (5015, 'bunns'), (5025, 'burridge'), (5030, 'boots'), (5037, 'byhen'), (5042, 'baird'), (5056, 'brutton'), (5057, 'bryan'), (5066, 'beckon'), (5080, 'banyer'), (5081, 'blackhorseyard'), (5082, 'boose'), (5115, 'blond'), (5123, 'bowre'), (5124, 'bowring'), (5137, 'barnsby'), (5138, 'bradley'), (5161, 'barton'), (5162, 'breed'), (5219, 'beadles'), (5220, 'blower'), (5221, 'broadstreet'), (5245, 'beli'), (5254, 'bright'), (5295, 'bethnallgreen'), (5296, 'blemish'), (5297, 'bruce'), (5326, 'bellyard'), (5327, 'blakesley'), (5328, 'blakesleys'), (5329, 'burleystreet'), (5362, 'bryant'), (5369, 'blanchville'), (5370, 'booty'), (5371, 'brindley'), (5372, 'bugger'), (5409, 'budd'), (5423, 'broadus'), (5436, 'bath'), (5437, 'beaver'), (5464, 'bastard'), (5465, 'bowman'), (5466, 'bradford'), (5490, 'brookhouse'), (5491, 'brookhouses'), (5492, 'brookstreet'), (5493, 'bureau'), (5513, 'bathfield'), (5514, 'bible'), (5515, 'bluecourt'), (5516, 'bumford'), (5532, 'bochero'), (5566, 'burke'), (5575, 'beneficially'), (5618, 'badrou'), (5619, 'baron'), (5620, 'barracks'), (5621, 'battlement'), (5622, 'beginning'), (5623, 'berkleysquare'), (5624, 'blacks'), (5625, 'brazill'), (5626, 'bribe'), (5627, 'brig'), (5628, 'briton'), (5629, 'brook'), (5630, 'burial'), (5948, 'backward'), (5949, 'bayswater'), (5950, 'belief'), (5951, 'bourne'), (5952, 'bouse'), (5953, 'boxall'), (5954, 'budds'), (6033, 'blackwall'), (6060, 'bedroom'), (6061, 'bookcase'), (6085, 'byng'), (6103, 'bowden'), (6106, 'brewhouse'), (6111, 'bedstead'), (6123, 'brazier'), (6139, 'backdoor'), (6140, 'builder'), (6168, 'bodys'), (6169, 'brush'), (6187, 'briggs'), (6188, 'briggss'), (6189, 'broomhall'), (6190, 'bushell'), (6213, 'barrington'), (6214, 'bleach'), (6215, 'bleached'), (6216, 'bleaching'), (6217, 'bleachingfield'), (6218, 'bramble'), (6266, 'bearquaystair'), (6267, 'blast'), (6284, 'basinghallstreet'), (6285, 'breechesmaker'), (6286, 'briscoe'), (6297, 'beachstreet'), (6309, 'blanks'), (6371, 'bringing'), (6384, 'backparlour'), (6393, 'beneath'), (6408, 'benchi'), (6409, 'buck'), (6425, 'beale'), (6440, 'bastwicke'), (6456, 'bourn'), (6457, 'buckinghamstreet'), (6461, 'bart'), (6462, 'bray'), (6485, 'bournes'), (6492, 'bucklersbury'), (6497, 'babe'), (6520, 'brewerstreet'), (6526, 'bloodyback'), (6550, 'baldwinsgarden'), (6551, 'baldwinsplace'), (6552, 'balley'), (6553, 'brassfounder'), (6554, 'breechespocket'), (6555, 'brightening'), (6556, 'brogden'), (6597, 'branford'), (6644, 'bumboat'), (6699, 'beet'), (6714, 'bead'), (6715, 'blanc'), (6716, 'breastpin'), (6781, 'briggive'), (6803, 'blaise'), (6813, 'barbican'), (6814, 'bennett'), (6829, 'batband'), (6848, 'bedfordsquare'), (6849, 'bowle'), (6871, 'blows'), (6872, 'blunt'), (6873, 'boil'), (6874, 'brady'), (6875, 'brandish'), (6876, 'burden'), (6927, 'blackman'), (6928, 'brownbear'), (6945, 'bennetts'), (6946, 'brodie'), (6960, 'beam'), (6961, 'bolland'), (6989, 'bend'), (7015, 'bankinghouse'), (7040, 'barr'), (7041, 'basement'), (7067, 'barker'), (7092, 'byrne'), (7109, 'beefshop'), (7116, 'bedford'), (7151, 'bliss'), (7152, 'buttend'), (7165, 'barrier'), (7174, 'blacklionyard'), (7183, 'bernard'), (7193, 'betts'), (7198, 'bly'), (7209, 'batter'), (7210, 'bulls'), (7250, 'bridport'), (7259, 'bowyer'), (7271, 'bin'), (7272, 'boar'), (7273, 'boltintun'), (7274, 'brides'), (7275, 'bunhillrow'), (7314, 'brickfield'), (7319, 'block'), (7324, 'benwell'), (7336, 'bartholomewlane'), (7337, 'billingsgate'), (7338, 'billiterlane'), (7339, 'broughton'), (7340, 'buckles'), (7372, 'brererons'), (7373, 'brereton'), (7384, 'bastardchild'), (7385, 'ballspond'), (7386, 'barring'), (7387, 'bloodtub'), (7388, 'butchershill'), (7415, 'befor'), (7416, 'bellalley'), (7417, 'bish'), (7418, 'bishs'), (7419, 'bosomfriend'), (7420, 'brookes'), (7421, 'byename'), (7483, 'blueanchoralley'), (7507, 'butlerwilliam'), (7515, 'bankside'), (7516, 'bethlemwall'), (7525, 'blueboar'), (7526, 'butterboat'), (7533, 'bridgesstreet'), (7552, 'blessed'), (7553, 'bricklane'), (7567, 'boothby'), (7575, 'buffler'), (7599, 'browne'), (7631, 'beadblower'), (7632, 'bracelet'), (7633, 'brownes'), (7671, 'bernersstreet'), (7672, 'blenheim'), (7684, 'bankers'), (7685, 'bluhm'), (7723, 'bridelane'), (7735, 'bolen'), (7736, 'bookbinder'), (7737, 'bookseller'), (7738, 'butcherhallhall'), (7777, 'bereave'), (7778, 'bobbery'), (7779, 'bullhead'), (7780, 'bullinn'), (7829, 'bought'), (7860, 'backroad'), (7861, 'balam'), (7862, 'bedfordshire'), (7888, 'birdsbuilding'), (7889, 'buffett'), (7921, 'backlane'), (7942, 'blacklinslane'), (7943, 'blot'), (7944, 'boltonstreet'), (7945, 'bondstreet'), (7946, 'brighton'), (7947, 'bromptonrow'), (7977, 'broom'), (8017, 'bootmaker'), (8035, 'bombazett'), (8036, 'bootlace'), (8047, 'baileys'), (8048, 'barnwell'), (8049, 'bleeding'), (8069, 'bailiff'), (8070, 'bladder'), (8084, 'barry'), (8085, 'beast'), (8086, 'boddy'), (8087, 'boddys'), (8119, 'balsover'), (8120, 'belsover'), (8134, 'bramwell'), (8137, 'berridge'), (8140, 'boarding'), (8187, 'barbers'), (8192, 'bland'), (8193, 'broach'), (8198, 'banefield'), (8217, 'barnets'), (8218, 'bewen'), (8265, 'beal'), (8279, 'bedfordstreet'), (8280, 'briskly'), (8290, 'bargan'), (8291, 'bartell'), (8292, 'boothstreet'), (8328, 'burdon'), (8349, 'best'), (8359, 'bethnalgreen'), (8378, 'backhill'), (8379, 'bedpi'), (8380, 'bedpillar'), (8381, 'bedpost'), (8382, 'blackhall'), (8414, 'baby'), (8417, 'billet'), (8433, 'blinman'), (8436, 'battlebridge'), (8444, 'bloomsburysquare'), (8457, 'beech'), (8458, 'beechs'), (8459, 'biddy'), (8460, 'bigby'), (8473, 'barclay'), (8485, 'baldwyn'), (8495, 'bannerstreet'), (8514, 'brompton'), (8528, 'burt'), (8546, 'brokers'), (8551, 'bowker'), (8566, 'blackwater'), (8577, 'boston'), (8578, 'brodrick'), (8587, 'bedsteadmaker'), (8588, 'buckland'), (8589, 'bundock'), (8604, 'bramhall'), (8605, 'broken'), (8632, 'bedclothe'), (8633, 'boutle'), (8650, 'baldwin'), (8651, 'butterfield'), (8652, 'byrom'), (8671, 'bedgown'), (8672, 'blackfriarsroad'), (8691, 'bethell'), (8707, 'bang'), (8708, 'billbook'), (8717, 'betsy'), (8732, 'battalion'), (8739, 'bodied'), (8746, 'bleaden'), (8749, 'bridgestreet'), (8761, 'bandbox'), (8762, 'buttonmerchant'), (8777, 'birchinlane'), (8794, 'brickhill'), (8810, 'brownslane'), (8821, 'birdsneste'), (8841, 'beecroft'), (8842, 'bugg'), (8849, 'balcony'), (8850, 'boswell'), (8853, 'branchs'), (8860, 'brunswicksquare'), (8866, 'bryson'), (8893, 'bartlett'), (8894, 'bartletts'), (8899, 'beatty'), (8901, 'blackheath'), (8915, 'blythe'), (8955, 'ballan'), (8956, 'barrister'), (8957, 'beverley'), (8958, 'blunder'), (8959, 'boards'), (8960, 'botany'), (8961, 'bounty'), (9174, 'bedfordbury'), (9175, 'bew'), (9176, 'bulky'), (9181, 'blake'), (9182, 'buckinghamshire'), (9203, 'bertrand'), (9209, 'bite'), (9234, 'basay'), (9235, 'becks'), (9236, 'ben'), (9237, 'berkelysquare'), (9238, 'berkelystreet'), (9239, 'bronze'), (9240, 'brutonstreet'), (9241, 'buff'), (9242, 'bulwark'), (9243, 'burlington'), (9318, 'balduck'), (9323, 'bakerscourt'), (9329, 'bampton'), (9330, 'brackleystreet'), (9335, 'beaumontstreet'), (9353, 'berkeleysquare'), (9362, 'brooch'), (9365, 'barrs'), (9391, 'brownlowstreet'), (9398, 'buckley'), (9413, 'beechstreet'), (9442, 'boss'), (9443, 'braybrook'), (9455, 'boothook'), (9470, 'burystreet'), (9496, 'barnetts'), (9503, 'brightness'), (9512, 'bryanstonesquare'), (9531, 'blackfriarsbridge'), (9532, 'border'), (9533, 'bouste'), (9567, 'betray'), (9568, 'bosanquet'), (9569, 'broderick'), (9570, 'byelaw'), (9679, 'bonner'), (9686, 'belllane'), (9698, 'baylis'), (9702, 'boxglass'), (9703, 'brett'), (9710, 'brewery'), (9736, 'birdseye'), (9740, 'basinghouse'), (9750, 'bowsyard'), (9758, 'bother'), (9761, 'burlingtongarden'), (9769, 'butterworth'), (9793, 'burrell'), (9801, 'blackshall'), (9802, 'bradshall'), (9814, 'berwickstreet'), (9821, 'bebetween'), (9833, 'beaufortsbuilding'), (9840, 'barrettsbuilding'), (9850, 'badger'), (9851, 'bitterly'), (9852, 'bowser'), (9853, 'butt'), (9861, 'bassano'), (9862, 'bidgood'), (9863, 'brindle'), (9878, 'beris'), (9879, 'bowfield'), (9880, 'burrough'), (9887, 'buckeringestreet'), (9894, 'bedding'), (9927, 'brockelbank'), (9945, 'betty'), (9973, 'bullard'), (9975, 'boulton'), (9977, 'boucher'), (9985, 'bowcommon'), (9992, 'bakers'), (10005, 'bryand'), (10006, 'bryands'), (10013, 'bursey'), (10032, 'bryanstonstreet'), (10033, 'buckeridge'), (10050, 'brickeridge'), (10051, 'bridgewatersquare'), (10071, 'balme'), (10077, 'burrow'), (10082, 'belcher'), (10107, 'bot'), (10128, 'benton'), (10129, 'browsers'), (10140, 'browser'), (10164, 'benedicto'), (10172, 'bale'), (10173, 'boroughtroad'), (10211, 'boykett'), (10221, 'blackburn'), (10267, 'bartram'), (10298, 'bagatelles'), (10299, 'bawker'), (10300, 'beercaller'), (10301, 'beercellar'), (10302, 'bide'), (10303, 'brooke'), (10342, 'bankbook'), (10343, 'beseech'), (10403, 'barparlour'), (10404, 'breakfasted'), (10432, 'basin'), (10433, 'beans'), (10434, 'benson'), (10435, 'brushel'), (10436, 'bsh'), (10506, 'blay'), (10516, 'belonging'), (10523, 'beckenham'), (10524, 'blundell'), (10555, 'bootjack'), (10559, 'bushnell'), (10581, 'boywho'), (10588, 'blair'), (10589, 'bodkin'), (10590, 'bricker'), (10608, 'bolstercase'), (10633, 'brenford'), (10648, 'britanniastreet'), (10649, 'burgesss'), (10650, 'burgkes'), (10669, 'britanniaplace'), (10679, 'backroom'), (10680, 'bloomsburry'), (10687, 'bidmead'), (10725, 'banns'), (10726, 'beating'), (10727, 'bowlingstreet'), (10728, 'brutal'), (10771, 'beckman'), (10779, 'bates'), (10780, 'battlebridgeroad'), (10781, 'beershop'), (10798, 'birch'), (10805, 'brunewickstreet'), (10806, 'burtoncrescent'), (10815, 'bigamy'), (10816, 'blackfrairsroad'), (10817, 'bursell'), (10823, 'berrys'), (10831, 'bankruptcy'), (10832, 'biden'), (10833, 'bits'), (10863, 'believeabout'), (10864, 'birdsalley'), (10865, 'bloom'), (10878, 'burning'), (10906, 'begent'), (10907, 'bransgrove'), (10920, 'balconyfront'), (10921, 'beall'), (10966, 'binder'), (10967, 'bock'), (10968, 'books'), (10969, 'bookshop'), (10970, 'botanical'), (10971, 'brandyu'), (10972, 'britannica'), (11033, 'beautifully'), (11034, 'booksellers'), (11035, 'bullandmouthstreet'), (11036, 'buyer'), (11139, 'background'), (11140, 'backing'), (11141, 'balls'), (11142, 'ballsd'), (11143, 'banch'), (11144, 'banjamin'), (11145, 'banking'), (11146, 'bargin'), (11147, 'barmiess'), (11148, 'beeen'), (11149, 'ber'), (11150, 'bettter'), (11151, 'birmingham'), (11152, 'bishopaagtestreet'), (11153, 'blan'), (11154, 'blus'), (11155, 'boor'), (11156, 'borkin'), (11157, 'branston'), (11158, 'british'), (11159, 'brookersgarden'), (11160, 'brought'), (11161, 'busicess'), (11162, 'bussiness'), (11518, 'bavk'), (11557, 'byt'), (11620, 'ballss'), (11621, 'beady'), (11622, 'booknote'), (11623, 'brassplate'), (11624, 'bussellstreet'), (11625, 'bytheby'), (11677, 'bark'), (11678, 'bellyache'), (11679, 'blindfold'), (11680, 'byandby'), (11757, 'blackmanstreet'), (11760, 'boroughmarket'), (11761, 'bre'), (11781, 'bastable'), (11805, 'bakerstreet'), (11806, 'bellhanger'), (11863, 'breakfasttime'), (11893, 'bulpit'), (11934, 'broning'), (11935, 'braddick'), (11942, 'bartholomewclose'), (11945, 'bake'), (11946, 'breadshelf'), (11952, 'burlingtonstreet'), (11967, 'brainfever'), (11993, 'basto'), (11994, 'brito'), (12038, 'balleras'), (12039, 'boyn'), (12072, 'bateman'), (12076, 'brannan'), (12081, 'ballantine'), (12082, 'barkingalley'), (12107, 'bladon'), (12115, 'bastone'), (12128, 'blandfordplace'), (12129, 'burnett'), (12133, 'boswellcourt'), (12134, 'buckeridgestreet'), (12146, 'bermondsey'), (12156, 'bruin'), (12166, 'barmaid'), (12198, 'brine'), (12215, 'belt'), (12216, 'breadandbutter'), (12258, 'bolar'), (12259, 'bottlejack'), (12266, 'bundy'), (12316, 'belgravestreet'), (12317, 'biscuit'), (12318, 'bitten'), (12332, 'berkley'), (12333, 'bothcounterfeit'), (12339, 'backyard'), (12358, 'barrackgate'), (12364, 'bretts'), (12391, 'betwen'), (12392, 'brushmaker'), (12410, 'bermondseystreet'), (12411, 'bowler'), (12412, 'burys'), (12429, 'bentinckstreet'), (12430, 'bramah'), (12431, 'browning'), (12478, 'brind'), (12480, 'blanchard'), (12483, 'bragg'), (12487, 'burgoyne'), (12493, 'broadway'), (12494, 'bunter'), (12519, 'blackwood'), (12543, 'barman'), (12561, 'badham'), (12586, 'baxter'), (12587, 'baxters'), (12588, 'boggis'), (12589, 'bottled'), (12590, 'bovill'), (12591, 'bowerstreet'), (12592, 'bradshaw'), (12593, 'bramleystreet'), (12594, 'brewster'), (12595, 'brixton'), (12596, 'bromleystreet'), (12597, 'bunk'), (12598, 'burnell'), (12686, 'bathplace'), (12687, 'brize'), (12724, 'bellesauvage'), (12725, 'bogs'), (12745, 'bareface'), (12746, 'brownish'), (12761, 'byford'), (12776, 'bold'), (12780, 'backhand'), (12781, 'bade'), (12782, 'beautiful'), (12800, 'burglar'), (12830, 'beda'), (12833, 'buyrus'), (12845, 'babys'), (12846, 'bandage'), (12847, 'bottomed'), (12848, 'breathe'), (12849, 'bronchitis'), (12850, 'bucket'), (12899, 'behold'), (12959, 'burchett'), (12960, 'bet'), (12961, 'burchetts'), (13023, 'brasil'), (13033, 'borrowing'), (13060, 'brassey'), (13061, 'brasseys'), (13062, 'bridgeplace'), (13096, 'baldfaced'), (13122, 'bowles'), (13151, 'bowsel'), (13157, 'bowling'), (13167, 'besley'), (13168, 'billitersquare'), (13169, 'bligh'), (13214, 'bliar'), (13215, 'bowlane'), (13228, 'bif'), (13229, 'brewerslane'), (13246, 'borea'), (13250, 'backway'), (13251, 'breaksman'), (13279, 'baugham'), (13291, 'bearstreet'), (13301, 'belinda'), (13304, 'batcher'), (13305, 'busame'), (13306, 'byandbye'), (13334, 'bingham'), (13356, 'barege'), (13357, 'brixtonroad'), (13389, 'bilberry'), (13418, 'backboard'), (13435, 'barleycourt'), (13436, 'bresnahan'), (13467, 'ballast'), (13506, 'bathe'), (13507, 'brothel'), (13538, 'billingsgatemarket'), (13539, 'boyhood'), (13540, 'bridgehouseplace'), (13541, 'brisklayer'), (13563, 'bithray'), (13571, 'bedfordcourt'), (13579, 'behindhand'), (13602, 'bun'), (13606, 'baggott'), (13611, 'bethnalgreenroad'), (13622, 'beresfordstreet'), (13663, 'bagatelle'), (13664, 'bagatelleboard'), (13665, 'bagatelleroom'), (13666, 'bagatelleroomdoor'), (13667, 'balantine'), (13668, 'baldock'), (13669, 'barometer'), (13670, 'baud'), (13671, 'bickleystreet'), (13672, 'blindroller'), (13673, 'bordessa'), (13674, 'bordessas'), (13675, 'boxingnight'), (13676, 'broomhandle'), (13677, 'byle'), (13758, 'backwall'), (13759, 'bakersrow'), (13760, 'bellcourt'), (13761, 'brushing'), (13762, 'byestreet'), (13807, 'bhas'), (13824, 'billiard'), (13825, 'billiardroom'), (13826, 'bullcourt'), (13860, 'brothers'), (13871, 'batturs'), (13872, 'buchanan'), (13877, 'blostock'), (13892, 'blackheathroad'), (13893, 'brasswork'), (13894, 'breastpocket'), (13915, 'bailee'), (13916, 'bookingclerk'), (13917, 'brightonrailway'), (13958, 'blyth'), (13966, 'biss'), (13967, 'bridgeroad'), (13968, 'brotherconstable'), (14020, 'badness'), (14021, 'baptism'), (14022, 'baptize'), (14023, 'baugh'), (14024, 'beasley'), (14025, 'beaulah'), (14026, 'begley'), (14027, 'beranger'), (14028, 'beulah'), (14029, 'biographical'), (14030, 'biography'), (14031, 'blackland'), (14032, 'blameless'), (14033, 'blandford'), (14034, 'bloq'), (14035, 'boarder'), (14036, 'bohn'), (14037, 'breathing'), (14038, 'brief'), (14039, 'broadmoor'), (14040, 'brutus'), (14041, 'bythebye'), (14525, 'bri'), (14532, 'bachelor'), (14533, 'beedlestonb'), (14534, 'buckingham'), (14559, 'boxingday'), (14575, 'broomfield'), (14610, 'buckleys'), (14618, 'bottomley'), (14627, 'baptiste'), (14628, 'boulogne'), (14710, 'bromby'), (14726, 'belsize'), (14739, 'beerhouse'), (14770, 'balanced'), (14771, 'blackmore'), (14772, 'brougham'), (14825, 'barnsford'), (14850, 'beloved'), (14851, 'beverly'), (14852, 'brinsley'), (14896, 'banque'), (14897, 'belon'), (14913, 'biscuitdish'), (14914, 'brennan'), (14941, 'boyes'), (14942, 'britannia'), (14949, 'bendall'), (14955, 'blaze'), (14956, 'brickbuilt'), (14996, 'battersea'), (15014, 'boyer'), (15017, 'bottler'), (15018, 'brownfield'), (15022, 'billiardmarker'), (15023, 'bloodpoisoning'), (15055, 'beaton'), (15056, 'beatona'), (15057, 'blewett'), (15058, 'bluish'), (15059, 'byron'), (15112, 'bryce'), (15122, 'be'), (15135, 'bookingoffice'), (15154, 'blantyre'), (15155, 'blottingpaper'), (15156, 'bowe'), (15157, 'buchans'), (15158, 'buss'), (15210, 'batch'), (15211, 'bv'), (15223, 'bossie'), (15226, 'botter'), (15231, 'boad'), (15248, 'birthday'), (15249, 'blacken'), (15267, 'blackeby'), (15269, 'befog'), (15296, 'boother'), (15297, 'burnie'), (15298, 'bussell'), (15338, 'burglarioualy'), (15340, 'bbown'), (15341, 'benbow'), (15370, 'beslet'), (15371, 'birkbeck'), (15372, 'bishopegate'), (15373, 'bobert'), (15374, 'booney'), (15375, 'breton'), (15376, 'bridgman'), (15457, 'bangor'), (15458, 'bosworth'), (15459, 'bunt'), (15507, 'bracebuckle'), (15524, 'brocklington'), (15569, 'bazaar'), (15570, 'belvedere'), (15571, 'bichmond'), (15572, 'bochester'), (15573, 'brinste'), (15574, 'brinsted'), (15623, 'beechey'), (15624, 'burr'), (15638, 'bevington'), (15639, 'bramston'), (15640, 'bramstone'), (15649, 'bust'), (15669, 'breach'), (15680, 'beagin'), (15681, 'boilermaker'), (15689, 'brochet'), (15690, 'broohet'), (15693, 'bobsart'), (15710, 'brill'), (15737, 'batts'), (15738, 'bicycle'), (15739, 'billhead'), (15747, 'bearing'), (15764, 'bedfearn'), (15765, 'bedfearns'), (15766, 'bedthing'), (15767, 'blaydon'), (15768, 'bordblay'), (15769, 'bordelay'), (15770, 'buspinis'), (15818, 'baling'), (15819, 'billing'), (15820, 'bournemouth'), (15859, 'baumgartner'), (15861, 'bonn'), (15873, 'barnacot'), (15874, 'billycock'), (15875, 'biron'), (15876, 'burglarious'), (15920, 'balancesheet'), (15921, 'beira'), (15922, 'bertram'), (15923, 'bicker'), (15924, 'biennial'), (15925, 'bodley'), (15926, 'borrower'), (15927, 'boxbook'), (15928, 'boxer'), (15929, 'buke'), (15930, 'bursar'), (16124, 'bradbury'), (16125, 'bueno'), (16155, 'beermoney'), (16156, 'beimon'), (16157, 'boxlid'), (16158, 'busmese'), (16189, 'bearma'), (16190, 'beerman'), (16191, 'bethnal'), (16192, 'booking'), (16193, 'breaker'), (16208, 'bills'), (16209, 'bolitho'), (16238, 'baths'), (16239, 'blackguard'), (16240, 'blackleg'), (16271, 'beading'), (16272, 'becker'), (16273, 'bettor'), (16274, 'binocular'), (16275, 'blouse'), (16276, 'bootshop'), (16277, 'brasseur'), (16278, 'bruge'), (16279, 'brussels'), (16331, 'bellthis'), (16332, 'bertha'), (16333, 'blau'), (16334, 'braybourne'), (16335, 'bulbs'), (16336, 'buswell'), (16398, 'beetle'), (16414, 'burnand'), (16422, 'bebman'), (16423, 'bevonshire'), (16424, 'bitter'), (16425, 'bridgwater'), (16426, 'burrows'), (16484, 'banged'), (16485, 'barricade'), (16486, 'barrie'), (16487, 'blister'), (16488, 'bonham'), (16489, 'borstall'), (16538, 'bodice'), (16546, 'bertie'), (16548, 'betted'), (16563, 'bangle'), (16570, 'barnsbury'), (16577, 'bacchus'), (16578, 'bathurst'), (16579, 'battery'), (16580, 'boyles'), (16581, 'bromide'), (16595, 'boatswain'), (16596, 'bout'), (16597, 'brake'), (16648, 'berth'), (16662, 'buoy'), (16691, 'baldree'), (16692, 'bottista'), (16723, 'boe'), (16740, 'ballis'), (16744, 'blackhandle'), (16745, 'brew'), (16760, 'belmont'), (16796, 'boysmeane'), (16803, 'billot'), (16821, 'bissell'), (16822, 'boden'), (16823, 'burchell'), (16857, 'barely'), (16858, 'barley'), (16870, 'belfrage'), (16905, 'builders'), (16925, 'boizot'), (16926, 'brute'), (16927, 'buchs'), (16928, 'bullethole'), (16975, 'brockley'), (16994, 'bloxam'), (16999, 'bastardand'), (17000, 'blandy'), (17009, 'buglass'), (17011, 'botte'), (17020, 'bike'), (17021, 'billeter'), (17022, 'billiter'), (17023, 'boardinghouse'), (17024, 'bookmake'), (17025, 'bookmaker'), (17026, 'boult'), (17097, 'beatrice'), (17104, 'bonchord'), (17105, 'brocklebank'), (17106, 'buckhurst'), (17135, 'beldam'), (17136, 'bogus'), (17137, 'bois'), (17151, 'brunet'), (17153, 'bronchial'), (17154, 'buttock'), (17190, 'begrimed'), (17191, 'broadly'), (17216, 'bernstein'), (17242, 'bremin'), (17294, 'bree'), (17318, 'baltico'), (17328, 'beyer'), (17353, 'brows'), (17354, 'browse'), (17370, 'burgay'), (17376, 'braganza'), (17381, 'boysand'), (17391, 'bifurcation'), (17392, 'blur'), (17393, 'bordelott'), (17415, 'balham'), (17425, 'bloxham'), (17430, 'brutally'), (17441, 'banke'), (17442, 'belfast'), (17443, 'bros'), (17444, 'bunche'), (17500, 'bash'), (17501, 'birdsall'), (17509, 'bankes'), (17520, 'brigade'), (17543, 'bassett'), (17546, 'billingley'), (17572, 'brassfinisher'), (17575, 'barron'), (17590, 'beresford'), (17591, 'bibby'), (17592, 'biddle'), (17593, 'bourner'), (17594, 'bro'), (17595, 'brv'), (17662, 'boon'), (17673, 'bonallack'), (17674, 'bonnallack'), (17675, 'borden'), (17684, 'boleyn'), (17708, 'bowlis'), (17709, 'bremner'), (17738, 'borstal'), (17751, 'barney'), (17752, 'boustred'), (17753, 'bracket'), (17754, 'bravery'), (17850, 'bannatyne'), (17851, 'begg'), (17852, 'bernards'), (17853, 'bewildered'), (17854, 'blackmail'), (17855, 'businesslike'), (17952, 'bransbury'), (17963, 'beechcroft'), (17964, 'bookstall'), (17965, 'brankescombe'), (17977, 'bomze'), (17991, 'broxholm'), (18003, 'basketmaker'), (18004, 'bloch'), (18005, 'brickwell'), (18006, 'bryanston'), (18046, 'beauchamp'), (18053, 'batting'), (18054, 'blackhorse'), (18055, 'breakfastroom'), (18096, 'balcombe')]\n"
     ]
    }
   ],
   "source": [
    "# strange that there are no words seemingly starting with b\n",
    "# is that the case?\n",
    "# let's check out words starting with b\n",
    "print(\"Words starting with b\", [(key, word)  for key, word in dictionary.items() if word.startswith('b')])\n",
    "# so there are words starting with b"
   ]
  },
  {
   "cell_type": "code",
   "execution_count": 31,
   "metadata": {},
   "outputs": [
    {
     "name": "stdout",
     "output_type": "stream",
     "text": [
      "[(0, 1), (1, 1), (2, 1), (3, 1), (4, 1), (5, 1), (6, 1), (7, 2), (8, 2), (9, 1), (10, 1), (11, 1), (12, 1), (13, 2), (14, 1), (15, 1), (16, 1), (17, 1), (18, 2), (19, 1), (20, 1), (21, 1), (22, 1), (23, 1), (24, 1), (25, 2), (26, 1), (27, 1), (28, 1), (29, 1), (30, 1), (31, 1), (32, 1), (33, 2), (34, 1), (35, 2), (36, 1), (37, 1), (38, 1), (39, 2), (40, 1), (41, 4), (42, 1), (43, 2), (44, 1), (45, 2), (46, 1)]\n",
      "[(1, 1), (4, 1), (7, 1), (8, 1), (13, 1), (14, 1), (15, 1), (16, 1), (17, 1), (19, 1), (20, 1), (22, 1), (23, 1), (26, 1), (29, 1), (32, 2), (33, 2), (35, 1), (36, 1), (37, 1), (42, 1), (43, 2), (47, 1), (48, 1), (49, 1), (50, 1), (51, 1), (52, 1), (53, 1), (54, 1), (55, 2), (56, 1), (57, 1), (58, 1), (59, 1), (60, 1), (61, 1), (62, 1), (63, 1), (64, 1), (65, 1), (66, 1), (67, 1), (68, 2), (69, 1), (70, 4), (71, 1), (72, 1), (73, 1), (74, 1), (75, 1), (76, 1), (77, 1), (78, 1), (79, 1), (80, 1), (81, 1), (82, 1), (83, 1), (84, 1), (85, 1), (86, 1), (87, 1), (88, 1), (89, 1), (90, 1), (91, 3), (92, 1), (93, 1), (94, 1), (95, 1), (96, 1)]\n"
     ]
    }
   ],
   "source": [
    "# now we need to create a corpus for gensim \n",
    "\n",
    "corpus = [dictionary.doc2bow(text) for text in texts]\n",
    "# let's check out first 2 rows\n",
    "print(*corpus[:2], sep = \"\\n\")"
   ]
  },
  {
   "cell_type": "code",
   "execution_count": 32,
   "metadata": {},
   "outputs": [],
   "source": [
    "# what could word no 1 be?\n",
    "# so each document was converted into a list of tuples, first value is word id and second value is number of times that word appears in the document\n",
    "\n",
    "# now we can create our LDA model\n",
    "\n",
    "# we need to import LdaModel from gensim.models\n",
    "from gensim.models import LdaModel\n",
    "# Train the model on the corpus.\n",
    "lda = LdaModel(corpus, \n",
    "               num_topics=10,\n",
    "               id2word=dictionary) # again this is our default number of topics, you can play around with it and choose a different number"
   ]
  },
  {
   "cell_type": "code",
   "execution_count": 33,
   "metadata": {},
   "outputs": [
    {
     "data": {
      "text/plain": [
       "[(0,\n",
       "  '0.028*\"prisoner\" + 0.019*\"say\" + 0.018*\"mr\" + 0.015*\"q\" + 0.013*\"go\" + 0.011*\"see\" + 0.011*\"do\" + 0.011*\"know\" + 0.011*\"come\" + 0.009*\"take\"'),\n",
       " (1,\n",
       "  '0.019*\"say\" + 0.016*\"prisoner\" + 0.016*\"go\" + 0.011*\"do\" + 0.009*\"q\" + 0.009*\"see\" + 0.008*\"come\" + 0.007*\"mr\" + 0.006*\"time\" + 0.006*\"take\"'),\n",
       " (2,\n",
       "  '0.029*\"say\" + 0.019*\"do\" + 0.017*\"mr\" + 0.016*\"prisoner\" + 0.013*\"go\" + 0.012*\"see\" + 0.011*\"take\" + 0.011*\"know\" + 0.010*\"q\" + 0.009*\"come\"'),\n",
       " (3,\n",
       "  '0.012*\"say\" + 0.010*\"q\" + 0.010*\"house\" + 0.010*\"go\" + 0.010*\"come\" + 0.010*\"do\" + 0.008*\"take\" + 0.008*\"see\" + 0.008*\"find\" + 0.008*\"prisoner\"'),\n",
       " (4,\n",
       "  '0.021*\"do\" + 0.020*\"prisoner\" + 0.020*\"say\" + 0.017*\"go\" + 0.016*\"q\" + 0.011*\"come\" + 0.010*\"see\" + 0.009*\"know\" + 0.009*\"house\" + 0.008*\"mr\"'),\n",
       " (5,\n",
       "  '0.020*\"say\" + 0.016*\"prisoner\" + 0.013*\"mr\" + 0.012*\"go\" + 0.011*\"know\" + 0.011*\"do\" + 0.011*\"find\" + 0.009*\"come\" + 0.008*\"q\" + 0.008*\"see\"'),\n",
       " (6,\n",
       "  '0.018*\"say\" + 0.018*\"do\" + 0.018*\"prisoner\" + 0.016*\"go\" + 0.013*\"mr\" + 0.011*\"see\" + 0.010*\"come\" + 0.009*\"take\" + 0.009*\"man\" + 0.008*\"know\"'),\n",
       " (7,\n",
       "  '0.020*\"say\" + 0.017*\"do\" + 0.016*\"mr\" + 0.014*\"prisoner\" + 0.012*\"value\" + 0.009*\"go\" + 0.009*\"q\" + 0.009*\"s\" + 0.009*\"come\" + 0.008*\"know\"'),\n",
       " (8,\n",
       "  '0.019*\"say\" + 0.018*\"prisoner\" + 0.013*\"take\" + 0.013*\"mr\" + 0.012*\"see\" + 0.011*\"go\" + 0.011*\"come\" + 0.010*\"do\" + 0.008*\"know\" + 0.008*\"find\"'),\n",
       " (9,\n",
       "  '0.022*\"say\" + 0.017*\"prisoner\" + 0.012*\"do\" + 0.011*\"mr\" + 0.010*\"come\" + 0.010*\"see\" + 0.009*\"know\" + 0.009*\"go\" + 0.008*\"q\" + 0.008*\"take\"')]"
      ]
     },
     "execution_count": 33,
     "metadata": {},
     "output_type": "execute_result"
    }
   ],
   "source": [
    "# let's show our topics\n",
    "lda.show_topics()"
   ]
  },
  {
   "cell_type": "code",
   "execution_count": 34,
   "metadata": {},
   "outputs": [],
   "source": [
    "# now let's save our model just in case\n",
    "# let's create models folder in our current directory if it does not exist\n",
    "# Path(\"models\").mkdir(parents=True, exist_ok=True)\n",
    "# we will use save method\n",
    "from gensim.test.utils import datapath\n",
    "# we will use datapath to create a path to our model\n",
    "temp_file = datapath(\"lda_model_10.model\")\n",
    "lda.save(temp_file)"
   ]
  },
  {
   "cell_type": "code",
   "execution_count": 35,
   "metadata": {},
   "outputs": [],
   "source": [
    "# let's load our model\n",
    "loaded_model = LdaModel.load(temp_file)"
   ]
  },
  {
   "cell_type": "code",
   "execution_count": 36,
   "metadata": {},
   "outputs": [
    {
     "data": {
      "text/plain": [
       "[(0,\n",
       "  '0.028*\"prisoner\" + 0.019*\"say\" + 0.018*\"mr\" + 0.015*\"q\" + 0.013*\"go\" + 0.011*\"see\" + 0.011*\"do\" + 0.011*\"know\" + 0.011*\"come\" + 0.009*\"take\"'),\n",
       " (1,\n",
       "  '0.019*\"say\" + 0.016*\"prisoner\" + 0.016*\"go\" + 0.011*\"do\" + 0.009*\"q\" + 0.009*\"see\" + 0.008*\"come\" + 0.007*\"mr\" + 0.006*\"time\" + 0.006*\"take\"'),\n",
       " (2,\n",
       "  '0.029*\"say\" + 0.019*\"do\" + 0.017*\"mr\" + 0.016*\"prisoner\" + 0.013*\"go\" + 0.012*\"see\" + 0.011*\"take\" + 0.011*\"know\" + 0.010*\"q\" + 0.009*\"come\"'),\n",
       " (3,\n",
       "  '0.012*\"say\" + 0.010*\"q\" + 0.010*\"house\" + 0.010*\"go\" + 0.010*\"come\" + 0.010*\"do\" + 0.008*\"take\" + 0.008*\"see\" + 0.008*\"find\" + 0.008*\"prisoner\"'),\n",
       " (4,\n",
       "  '0.021*\"do\" + 0.020*\"prisoner\" + 0.020*\"say\" + 0.017*\"go\" + 0.016*\"q\" + 0.011*\"come\" + 0.010*\"see\" + 0.009*\"know\" + 0.009*\"house\" + 0.008*\"mr\"'),\n",
       " (5,\n",
       "  '0.020*\"say\" + 0.016*\"prisoner\" + 0.013*\"mr\" + 0.012*\"go\" + 0.011*\"know\" + 0.011*\"do\" + 0.011*\"find\" + 0.009*\"come\" + 0.008*\"q\" + 0.008*\"see\"'),\n",
       " (6,\n",
       "  '0.018*\"say\" + 0.018*\"do\" + 0.018*\"prisoner\" + 0.016*\"go\" + 0.013*\"mr\" + 0.011*\"see\" + 0.010*\"come\" + 0.009*\"take\" + 0.009*\"man\" + 0.008*\"know\"'),\n",
       " (7,\n",
       "  '0.020*\"say\" + 0.017*\"do\" + 0.016*\"mr\" + 0.014*\"prisoner\" + 0.012*\"value\" + 0.009*\"go\" + 0.009*\"q\" + 0.009*\"s\" + 0.009*\"come\" + 0.008*\"know\"'),\n",
       " (8,\n",
       "  '0.019*\"say\" + 0.018*\"prisoner\" + 0.013*\"take\" + 0.013*\"mr\" + 0.012*\"see\" + 0.011*\"go\" + 0.011*\"come\" + 0.010*\"do\" + 0.008*\"know\" + 0.008*\"find\"'),\n",
       " (9,\n",
       "  '0.022*\"say\" + 0.017*\"prisoner\" + 0.012*\"do\" + 0.011*\"mr\" + 0.010*\"come\" + 0.010*\"see\" + 0.009*\"know\" + 0.009*\"go\" + 0.008*\"q\" + 0.008*\"take\"')]"
      ]
     },
     "execution_count": 36,
     "metadata": {},
     "output_type": "execute_result"
    }
   ],
   "source": [
    "# use loaded model to print topics\n",
    "loaded_model.print_topics()"
   ]
  },
  {
   "cell_type": "code",
   "execution_count": 37,
   "metadata": {},
   "outputs": [
    {
     "name": "stdout",
     "output_type": "stream",
     "text": [
      "Shape of our topic array (10, 18118)\n",
      "go, q, mr, say, prisoner\n",
      "q, do, go, prisoner, say\n",
      "go, prisoner, mr, do, say\n",
      "come, go, house, q, say\n",
      "q, go, say, prisoner, do\n",
      "know, go, mr, prisoner, say\n",
      "mr, go, prisoner, do, say\n",
      "value, prisoner, mr, do, say\n",
      "see, mr, take, prisoner, say\n",
      "come, mr, do, prisoner, say\n"
     ]
    }
   ],
   "source": [
    "topic_array = loaded_model.get_topics()\n",
    "# let's check out shape\n",
    "print(\"Shape of our topic array\", topic_array.shape)\n",
    "# we probably do not want to print out all the words in our topics\n",
    "# so let's find out 5 most important words for each topic\n",
    "# we will use argsort method\n",
    "topic_array.argsort(axis=1)[:,-5:]\n",
    "# so we can see that last 5 words in each topic are the most important\n",
    "# let's print out our topics with 5 most important words\n",
    "for topic in topic_array.argsort(axis=1)[:,-5:]:\n",
    "    print(*[dictionary[word] for word in topic], sep = \", \")"
   ]
  },
  {
   "cell_type": "code",
   "execution_count": 38,
   "metadata": {},
   "outputs": [
    {
     "data": {
      "text/plain": [
       "[(0,\n",
       "  '0.028*\"prisoner\" + 0.019*\"say\" + 0.018*\"mr\" + 0.015*\"q\" + 0.013*\"go\" + 0.011*\"see\" + 0.011*\"do\" + 0.011*\"know\" + 0.011*\"come\" + 0.009*\"take\"'),\n",
       " (1,\n",
       "  '0.019*\"say\" + 0.016*\"prisoner\" + 0.016*\"go\" + 0.011*\"do\" + 0.009*\"q\" + 0.009*\"see\" + 0.008*\"come\" + 0.007*\"mr\" + 0.006*\"time\" + 0.006*\"take\"'),\n",
       " (2,\n",
       "  '0.029*\"say\" + 0.019*\"do\" + 0.017*\"mr\" + 0.016*\"prisoner\" + 0.013*\"go\" + 0.012*\"see\" + 0.011*\"take\" + 0.011*\"know\" + 0.010*\"q\" + 0.009*\"come\"'),\n",
       " (3,\n",
       "  '0.012*\"say\" + 0.010*\"q\" + 0.010*\"house\" + 0.010*\"go\" + 0.010*\"come\" + 0.010*\"do\" + 0.008*\"take\" + 0.008*\"see\" + 0.008*\"find\" + 0.008*\"prisoner\"'),\n",
       " (4,\n",
       "  '0.021*\"do\" + 0.020*\"prisoner\" + 0.020*\"say\" + 0.017*\"go\" + 0.016*\"q\" + 0.011*\"come\" + 0.010*\"see\" + 0.009*\"know\" + 0.009*\"house\" + 0.008*\"mr\"'),\n",
       " (5,\n",
       "  '0.020*\"say\" + 0.016*\"prisoner\" + 0.013*\"mr\" + 0.012*\"go\" + 0.011*\"know\" + 0.011*\"do\" + 0.011*\"find\" + 0.009*\"come\" + 0.008*\"q\" + 0.008*\"see\"'),\n",
       " (6,\n",
       "  '0.018*\"say\" + 0.018*\"do\" + 0.018*\"prisoner\" + 0.016*\"go\" + 0.013*\"mr\" + 0.011*\"see\" + 0.010*\"come\" + 0.009*\"take\" + 0.009*\"man\" + 0.008*\"know\"'),\n",
       " (7,\n",
       "  '0.020*\"say\" + 0.017*\"do\" + 0.016*\"mr\" + 0.014*\"prisoner\" + 0.012*\"value\" + 0.009*\"go\" + 0.009*\"q\" + 0.009*\"s\" + 0.009*\"come\" + 0.008*\"know\"'),\n",
       " (8,\n",
       "  '0.019*\"say\" + 0.018*\"prisoner\" + 0.013*\"take\" + 0.013*\"mr\" + 0.012*\"see\" + 0.011*\"go\" + 0.011*\"come\" + 0.010*\"do\" + 0.008*\"know\" + 0.008*\"find\"'),\n",
       " (9,\n",
       "  '0.022*\"say\" + 0.017*\"prisoner\" + 0.012*\"do\" + 0.011*\"mr\" + 0.010*\"come\" + 0.010*\"see\" + 0.009*\"know\" + 0.009*\"go\" + 0.008*\"q\" + 0.008*\"take\"')]"
      ]
     },
     "execution_count": 38,
     "metadata": {},
     "output_type": "execute_result"
    }
   ],
   "source": [
    "loaded_model.show_topics()"
   ]
  },
  {
   "cell_type": "code",
   "execution_count": 39,
   "metadata": {},
   "outputs": [],
   "source": [
    "# now that is certainly not very interesting\n",
    "# bag of words model is not very good at capturing context\n",
    "# we got a lot of prison related words in our topics"
   ]
  },
  {
   "cell_type": "code",
   "execution_count": 41,
   "metadata": {},
   "outputs": [],
   "source": [
    "# how about using LDAvis to visualize our topics?\n",
    "\n",
    "# we will need to import pyLDAvis\n",
    "import pyLDAvis\n",
    "import pyLDAvis.gensim_models as gensimvis"
   ]
  },
  {
   "cell_type": "code",
   "execution_count": 42,
   "metadata": {},
   "outputs": [],
   "source": [
    "# now lets prepare our data for pyLDAvis\n",
    "# we will use prepare method\n",
    "lda_data = gensimvis.prepare(lda, corpus, dictionary)   "
   ]
  },
  {
   "cell_type": "code",
   "execution_count": 43,
   "metadata": {},
   "outputs": [
    {
     "data": {
      "text/html": [
       "\n",
       "<link rel=\"stylesheet\" type=\"text/css\" href=\"https://cdn.jsdelivr.net/gh/bmabey/pyLDAvis@3.4.0/pyLDAvis/js/ldavis.v1.0.0.css\">\n",
       "\n",
       "\n",
       "<div id=\"ldavis_el1046014742189096325401327940\" style=\"background-color:white;\"></div>\n",
       "<script type=\"text/javascript\">\n",
       "\n",
       "var ldavis_el1046014742189096325401327940_data = {\"mdsDat\": {\"x\": [0.014341507074698875, 0.011130347651603352, 0.004240361237567675, 0.007880584813735698, 0.0056660042712688525, 0.0035943742541308357, -0.003469063590131052, -0.00065273719407933, -0.014767898939842702, -0.027963479578952153], \"y\": [0.004402010969097473, -0.0049408559352740345, -0.004984421793617844, -0.002510562279591953, -0.003711137821641573, -0.012507435220315454, 0.008988182250581593, 0.014375796004323193, 0.012441571551953502, -0.011553147725514912], \"topics\": [1, 2, 3, 4, 5, 6, 7, 8, 9, 10], \"cluster\": [1, 1, 1, 1, 1, 1, 1, 1, 1, 1], \"Freq\": [27.976287804323725, 17.391808348834957, 14.644076035940254, 12.991698108100733, 10.84279819802762, 5.590122771484754, 4.8520857046178, 2.522559422052345, 2.1422483813355573, 1.0463152252822614]}, \"tinfo\": {\"Term\": [\"say\", \"prisoner\", \"go\", \"do\", \"q\", \"mr\", \"come\", \"know\", \"find\", \"house\", \"see\", \"take\", \"value\", \"man\", \"s\", \"time\", \"guilty\", \"good\", \"steal\", \"john\", \"tell\", \"indict\", \"get\", \"door\", \"ask\", \"give\", \"year\", \"night\", \"oclock\", \"day\", \"debnam\", \"campion\", \"cutmore\", \"smallman\", \"anderton\", \"waitress\", \"thirtypound\", \"huffain\", \"catling\", \"foresight\", \"wpbsley\", \"connoway\", \"naomi\", \"ulster\", \"christiana\", \"tawell\", \"markall\", \"dunk\", \"hitching\", \"goldschmidt\", \"epstein\", \"dyehouse\", \"ode\", \"winfield\", \"poore\", \"menace\", \"carat\", \"funnell\", \"georgeyard\", \"poulton\", \"cocklane\", \"mdougal\", \"burchetts\", \"munday\", \"corn\", \"dunn\", \"oat\", \"ashton\", \"morocco\", \"oats\", \"maide\", \"granary\", \"say\", \"write\", \"hunt\", \"money\", \"wild\", \"do\", \"child\", \"mr\", \"cheque\", \"time\", \"walwyn\", \"take\", \"know\", \"see\", \"tell\", \"box\", \"guinea\", \"want\", \"go\", \"place\", \"sell\", \"bring\", \"key\", \"give\", \"q\", \"letter\", \"prisoner\", \"crossexamine\", \"think\", \"get\", \"shop\", \"follow\", \"house\", \"come\", \"ask\", \"find\", \"man\", \"receive\", \"hear\", \"yes\", \"year\", \"send\", \"leave\", \"live\", \"thing\", \"door\", \"good\", \"sumner\", \"miver\", \"matheson\", \"caw\", \"binks\", \"loosely\", \"millett\", \"soden\", \"timberyard\", \"mahon\", \"sowl\", \"swalling\", \"carthew\", \"jacock\", \"denham\", \"founder\", \"bridle\", \"wagon\", \"pattinson\", \"halsey\", \"bonnell\", \"knutsford\", \"hanger\", \"reginal\", \"bobin\", \"leak\", \"bassett\", \"penelope\", \"tannd\", \"machin\", \"mare\", \"corkscrew\", \"bradshaw\", \"curtis\", \"vitae\", \"pring\", \"lohmann\", \"fauntleroy\", \"purvise\", \"pybus\", \"harrow\", \"hoole\", \"prisoner\", \"piece\", \"q\", \"mr\", \"watch\", \"bad\", \"florin\", \"know\", \"yes\", \"come\", \"give\", \"see\", \"night\", \"go\", \"james\", \"say\", \"man\", \"court\", \"minute\", \"shilling\", \"find\", \"take\", \"good\", \"john\", \"steal\", \"away\", \"person\", \"call\", \"do\", \"ask\", \"receive\", \"house\", \"tell\", \"time\", \"value\", \"live\", \"guilty\", \"thing\", \"door\", \"gerry\", \"knell\", \"sherman\", \"prigg\", \"becket\", \"pinner\", \"joyes\", \"hassell\", \"birdseye\", \"garraway\", \"braganza\", \"pithouse\", \"pidworth\", \"shrimpton\", \"sumption\", \"riddinghood\", \"maberley\", \"tent\", \"christy\", \"smithson\", \"headclothe\", \"langley\", \"prosser\", \"mahar\", \"cadman\", \"davadge\", \"simeon\", \"kennet\", \"gladstone\", \"turle\", \"velveteen\", \"handkerchief\", \"aged\", \"transportation\", \"confine\", \"guilty\", \"steal\", \"take\", \"summary\", \"indict\", \"property\", \"linen\", \"william\", \"value\", \"come\", \"see\", \"woman\", \"shop\", \"ask\", \"plead\", \"prisoner\", \"prosecutor\", \"chandler\", \"umbrella\", \"say\", \"find\", \"good\", \"mr\", \"john\", \"go\", \"run\", \"charge\", \"tell\", \"man\", \"know\", \"year\", \"live\", \"give\", \"house\", \"do\", \"time\", \"door\", \"s\", \"leave\", \"q\", \"warrenden\", \"ohrland\", \"haseldine\", \"sear\", \"gumber\", \"masqueri\", \"godby\", \"ashlee\", \"blond\", \"byhen\", \"teawen\", \"cragie\", \"yarman\", \"keppell\", \"enticknap\", \"bastock\", \"allingham\", \"fairbairn\", \"lasser\", \"edmonds\", \"silas\", \"dizalear\", \"rarely\", \"bartrum\", \"masquerier\", \"gelding\", \"nitson\", \"fusilier\", \"magdalen\", \"african\", \"copley\", \"sock\", \"turkey\", \"buckle\", \"dalton\", \"horse\", \"q\", \"do\", \"brenton\", \"campbel\", \"nunn\", \"go\", \"house\", \"theydon\", \"bourset\", \"prisoner\", \"pay\", \"plate\", \"account\", \"come\", \"klein\", \"say\", \"thing\", \"day\", \"money\", \"john\", \"ask\", \"give\", \"coat\", \"think\", \"wife\", \"produce\", \"see\", \"street\", \"know\", \"find\", \"get\", \"mrs\", \"morning\", \"s\", \"oclock\", \"tell\", \"take\", \"live\", \"mr\", \"yes\", \"time\", \"man\", \"value\", \"downing\", \"tweed\", \"cocken\", \"bullard\", \"muchlow\", \"lowry\", \"piper\", \"wetworth\", \"glue\", \"tourl\", \"berrit\", \"burgay\", \"fortyfour\", \"westall\", \"connell\", \"monica\", \"derter\", \"glascow\", \"renner\", \"chissel\", \"kirk\", \"stard\", \"kinderley\", \"haybows\", \"handkercheif\", \"shadwel\", \"waine\", \"hayhow\", \"stonemason\", \"broach\", \"crossan\", \"newgatemarket\", \"croat\", \"hogan\", \"comptonstreet\", \"poulson\", \"perkin\", \"waste\", \"pork\", \"value\", \"sheep\", \"man\", \"do\", \"s\", \"go\", \"prisoner\", \"leg\", \"yes\", \"leave\", \"see\", \"say\", \"find\", \"thing\", \"mr\", \"come\", \"take\", \"crossexamine\", \"tell\", \"half\", \"day\", \"search\", \"time\", \"good\", \"door\", \"house\", \"know\", \"steal\", \"till\", \"oclock\", \"q\", \"give\", \"get\", \"bring\", \"hand\", \"ask\", \"live\", \"danieli\", \"darby\", \"tuff\", \"bloxam\", \"fowke\", \"speller\", \"bootjack\", \"stadward\", \"hogben\", \"toogood\", \"mole\", \"goldchain\", \"mongus\", \"spikesman\", \"letkey\", \"happs\", \"grady\", \"bertie\", \"angliss\", \"millard\", \"clowes\", \"nonsuch\", \"strop\", \"kenealey\", \"ester\", \"mackduff\", \"linman\", \"bruin\", \"chever\", \"tapp\", \"quinion\", \"ninth\", \"windur\", \"value\", \"pittman\", \"hatchetts\", \"s\", \"l\", \"november\", \"barkingalley\", \"mr\", \"do\", \"spoon\", \"eliza\", \"say\", \"guilty\", \"steal\", \"confine\", \"plead\", \"indict\", \"shail\", \"egg\", \"find\", \"bradley\", \"oclock\", \"swear\", \"month\", \"good\", \"john\", \"shop\", \"prisoner\", \"q\", \"receive\", \"leave\", \"come\", \"master\", \"know\", \"give\", \"tell\", \"take\", \"go\", \"ask\", \"bring\", \"time\", \"see\", \"man\", \"live\", \"house\", \"trent\", \"granan\", \"izard\", \"ashur\", \"colla\", \"crab\", \"mallett\", \"benbrook\", \"angus\", \"franciscis\", \"chable\", \"dinah\", \"tomb\", \"degen\", \"kyle\", \"twoyear\", \"greenway\", \"sparrow\", \"pasquale\", \"broning\", \"helden\", \"emberson\", \"grouch\", \"botham\", \"hubbins\", \"whitney\", \"peregrine\", \"guterrier\", \"tawney\", \"dowgan\", \"heron\", \"wade\", \"belon\", \"acq\", \"lille\", \"say\", \"december\", \"prisoner\", \"man\", \"come\", \"good\", \"know\", \"road\", \"see\", \"money\", \"receive\", \"house\", \"mr\", \"year\", \"do\", \"bed\", \"william\", \"take\", \"not\", \"morning\", \"son\", \"live\", \"q\", \"tell\", \"go\", \"think\", \"ask\", \"street\", \"guilty\", \"note\", \"thomas\", \"find\", \"give\", \"indict\", \"s\", \"crossexamine\", \"hear\", \"time\", \"lowrie\", \"thodey\", \"dunlop\", \"carton\", \"shearwood\", \"tyre\", \"cordeaux\", \"lewington\", \"pneumatic\", \"medbury\", \"columbia\", \"freedman\", \"incurable\", \"manes\", \"faulty\", \"seennight\", \"corp\", \"scavenger\", \"powis\", \"synagogue\", \"earrow\", \"bellas\", \"piggot\", \"assurance\", \"tannerman\", \"fray\", \"gillett\", \"ivy\", \"ark\", \"falsify\", \"pig\", \"carnelly\", \"deferred\", \"caretaker\", \"bombazett\", \"find\", \"street\", \"say\", \"know\", \"not\", \"mr\", \"prisoner\", \"go\", \"produce\", \"box\", \"station\", \"july\", \"break\", \"letter\", \"come\", \"think\", \"man\", \"day\", \"do\", \"morning\", \"time\", \"door\", \"year\", \"tell\", \"shop\", \"q\", \"take\", \"see\", \"look\", \"guilty\", \"house\", \"hear\", \"give\", \"get\", \"good\", \"oclock\", \"ask\", \"surman\", \"suddaby\", \"hebbert\", \"boykett\", \"disgrange\", \"lahour\", \"bullenger\", \"dawkin\", \"mackenne\", \"dodgson\", \"eserard\", \"bastardchild\", \"muncreef\", \"geofry\", \"brind\", \"tivoli\", \"bartin\", \"cuprial\", \"kenneth\", \"baugham\", \"burk\", \"indicted\", \"blackeby\", \"trisina\", \"carolina\", \"cheak\", \"requester\", \"jemima\", \"linscott\", \"knox\", \"salter\", \"coombe\", \"cassell\", \"burgess\", \"cambric\", \"go\", \"hard\", \"labour\", \"say\", \"image\", \"prisoner\", \"poney\", \"mug\", \"trip\", \"matson\", \"march\", \"s\", \"original\", \"pay\", \"time\", \"work\", \"night\", \"good\", \"month\", \"guilty\", \"value\", \"steal\", \"door\", \"do\", \"q\", \"see\", \"come\", \"year\", \"indict\", \"house\", \"man\", \"get\", \"take\", \"know\", \"mr\", \"room\", \"william\", \"oclock\", \"day\", \"live\", \"sinvin\", \"dudey\", \"madlock\", \"whelon\", \"cartey\", \"bodice\", \"millet\", \"bagnal\", \"yarn\", \"crux\", \"ewell\", \"callan\", \"maccartey\", \"sachell\", \"pretender\", \"gravel\", \"coxall\", \"bine\", \"doz\", \"ida\", \"baumgartner\", \"potten\", \"cumenel\", \"hopton\", \"convictable\", \"coate\", \"colstain\", \"rickson\", \"whalebone\", \"womersley\", \"wharnsley\", \"crofts\", \"acquit\", \"barn\", \"house\", \"lead\", \"rosina\", \"indict\", \"john\", \"value\", \"find\", \"q\", \"come\", \"geese\", \"hat\", \"keith\", \"area\", \"steal\", \"take\", \"go\", \"man\", \"know\", \"see\", \"get\", \"l\", \"say\", \"do\", \"s\", \"property\", \"night\", \"guilty\", \"good\", \"mr\", \"room\", \"tell\", \"prisoner\", \"door\", \"give\", \"ask\", \"time\", \"oclock\", \"yes\"], \"Freq\": [8821.0, 7616.0, 5351.0, 6236.0, 4271.0, 5676.0, 4004.0, 3825.0, 2801.0, 2427.0, 4288.0, 3882.0, 1897.0, 2526.0, 1611.0, 2228.0, 1643.0, 1648.0, 1473.0, 1493.0, 2451.0, 1114.0, 1393.0, 1359.0, 2168.0, 2561.0, 1340.0, 975.0, 1318.0, 1326.0, 6.258301912573163, 8.798911103779481, 8.044073517648759, 4.908222268505238, 1.5920774575148668, 1.5919216200935737, 1.5917190212136259, 1.5916104568643206, 1.5915758718029962, 1.591503938968348, 1.5913745007950482, 1.591213751885756, 1.591020975981806, 1.5907548347258744, 1.5906467819899024, 1.5906047273739132, 1.5903283538513178, 12.364745527713477, 3.10252230087478, 3.137988155713636, 5.646104579482999, 3.0651767786497417, 2.0123678107398417, 3.214917610819136, 2.3468161999496147, 3.03566671694535, 14.30117579927823, 2.215386827556833, 6.692133238210647, 5.280751265977193, 6.12130495924315, 11.378113539807849, 5.267363368273978, 17.77174290908212, 34.30711039559234, 17.214840745044366, 25.76923341880689, 35.3620030622857, 8.056269560930946, 38.23274815159357, 10.306213208756205, 14.506379405027992, 3233.464686135186, 345.07619601112907, 31.12607386615113, 663.377264578196, 15.894436311464792, 2143.7585280849107, 184.41698358739794, 1888.888816226738, 193.16106938781024, 775.3790988473465, 22.990657313283258, 1222.3998424093659, 1202.8548968022874, 1310.387303187193, 798.7638588691361, 241.69319804977243, 94.5210299003241, 258.05256563817335, 1517.1680204766012, 281.8012734693198, 247.71827099678438, 424.8778172631308, 172.8143986744213, 765.7116140112684, 1150.125475983114, 257.6554554618491, 1801.2756239317157, 429.06756537477594, 395.8388998679935, 442.5979944597142, 392.78109912109124, 215.49169311205833, 663.9337427171032, 989.5050970578262, 600.8973220325124, 726.2466684762271, 637.8964648407654, 369.3713232537614, 374.97848750993705, 435.21923683644326, 396.4092611463105, 332.08694741714464, 406.6810816603556, 417.68050965248506, 389.20771001003385, 377.13320313553623, 377.3886529006757, 3.2857694485568185, 2.1676694538443506, 2.165302138043974, 3.59888970918566, 2.1202960399076813, 6.610727845907055, 2.1665883355257995, 4.444621166530236, 2.50512340040234, 4.053515864676959, 3.603258964014128, 2.4556326586031565, 6.102813421926911, 1.7832484350665019, 8.081801903458205, 1.8538245462465204, 7.466291653259579, 12.184347463477954, 4.403085766069678, 5.766805716019109, 1.1358660586038565, 1.1356078013448945, 1.1355609842654373, 1.1355361763021379, 1.135498519086053, 1.135471930038209, 1.1354672228861984, 1.1354210419083643, 1.1353475085607387, 1.135305780294266, 68.72447634999901, 2.93338772354953, 4.112552456313065, 15.812593771449086, 5.01691925238992, 5.481604718948274, 6.300504137628976, 3.7959178614371463, 2.2464104382376298, 2.6134476901995485, 21.752267482313304, 7.51541956269297, 1938.5966757640592, 233.54500605726233, 1073.9950062775013, 1255.6635780137542, 236.51102681183735, 176.59820875213757, 59.08825122999829, 763.3436382272564, 357.62842350341685, 756.2306989900809, 522.0958303000617, 780.0370291941229, 234.54290192826534, 900.4444346981088, 172.12296819787977, 1337.2925024506997, 483.83114836033656, 217.19514660630125, 140.01444723324164, 121.70251247958447, 495.11401565690306, 617.7950539497465, 317.9519012892798, 293.24046259466854, 287.2088269088368, 236.1790733632343, 224.99439980201612, 223.16395784255195, 769.7745299666988, 361.36870918910455, 233.25617317436445, 377.0156122275418, 373.69028056575917, 347.6609288712782, 298.6029804387981, 257.04323916797233, 246.3920523337439, 237.19962055859378, 234.6501659638772, 3.9234190365292414, 5.291497961116522, 6.835353518945736, 2.036604512538542, 2.03653766917071, 2.0350776129150194, 2.0343712584799483, 1.9966893810724482, 2.0069967569370886, 2.0033750033050346, 1.9918151712597978, 1.9434561370489458, 1.8631093377070047, 11.262939514314462, 2.6318232789265843, 1.891103640093256, 3.00436814805004, 3.9358643289566895, 2.6339162047610434, 5.584010965996477, 2.404000085681731, 4.405598383700127, 2.4891368979018416, 2.390615343998054, 1.699113526683125, 2.408121450640017, 1.7490659825229862, 2.2019268002032297, 4.541872728968955, 1.6627303816339516, 4.259437647239063, 119.72161358472573, 155.98919330664754, 50.18905479603274, 119.39618579146915, 409.21526240532626, 352.85148123457515, 758.269629003239, 46.98329829278292, 267.26537017702, 250.78523724611372, 59.44027631207385, 264.25617088171157, 370.40275342600233, 663.3127222142537, 698.5672444205031, 163.13860910390278, 259.36836444247103, 405.2730805211432, 87.8020886764632, 1082.8303095251176, 182.29044745200093, 16.63737938283238, 17.951280043859278, 1114.5339474946077, 454.98052371014853, 296.2450894893788, 744.679104012927, 265.889452582105, 668.6343592500493, 164.58837662274462, 179.58424400127765, 363.1894559362898, 368.1297772675912, 481.1057364196874, 233.72033796622262, 254.90180147944304, 358.4303726841687, 339.61992226884644, 583.4837241642574, 313.8137478121724, 228.70220409903467, 244.0756165305432, 224.72379653735163, 294.7012339315496, 2.2610627177234286, 2.25011464439932, 1.9719175268017464, 1.8356498321214516, 1.9923148017943684, 4.736610814243349, 6.854092613257531, 1.1851171056379979, 1.1850845090758708, 1.1845939450709138, 1.1845440523737805, 1.184201360819756, 1.1841412044820694, 1.1838963976481351, 1.1838568636252638, 1.1835506650154282, 1.1833010114623437, 1.182114040439114, 1.178696153101207, 1.1772969718061699, 1.1765976187429235, 1.5922654627408135, 1.7878767668297375, 1.1316304237042805, 4.116206814536243, 7.490217089078541, 1.0920221795063043, 1.0888492890697492, 1.6729758810395021, 1.0714329364218547, 9.1177735096591, 3.7501080778931595, 11.548438515972688, 12.612070990540442, 17.33262947095867, 109.30577086124981, 850.1006047045818, 1104.1676935272765, 6.5834502953767435, 3.512222358905161, 3.541831061226816, 899.1565612027871, 445.22262875477486, 3.419000752839603, 2.1819418332385543, 1045.7023962993871, 225.31169493285336, 76.88298205219388, 104.12973330063367, 586.5506053767183, 6.267363618205302, 1035.1682943725402, 241.87958890916337, 227.65237670176333, 272.1270576437443, 247.00845325725788, 328.06006081710194, 368.20504856009734, 118.00027563584545, 204.79341541945792, 141.95644594245113, 186.02829343784478, 521.6946637624568, 180.3114304443481, 458.7963983035272, 363.0005708316433, 218.90127137073057, 159.13610763514504, 170.0100805155385, 235.61095259952947, 193.386487417814, 294.5192984985022, 395.2040370461235, 207.30631955631037, 410.3363959125573, 203.15465110339332, 237.6999790253123, 245.22290215535054, 187.01044020911726, 2.3529275435267794, 1.6653358006257708, 1.5709266815663931, 1.4800407169981218, 2.1175299035482786, 1.4218869356947224, 0.941421699132562, 0.9411187173640788, 0.9409577880425467, 0.9409124994064724, 0.9408453199410521, 0.9405830265618966, 0.9405608184741544, 0.9402932110168606, 0.9401855811059099, 0.9405262373089558, 0.9390683556632777, 0.9392420546352616, 2.2773924437227278, 1.2921859133143836, 3.5810065596746625, 0.819735496303794, 0.7502797812045781, 0.7552411473207906, 1.6354100851347235, 0.7996936488916231, 0.7072340826776166, 0.7200499735406604, 1.1835326060917406, 2.58925649552767, 9.147261975923811, 4.610461515190408, 1.90918869412453, 12.170129798326483, 3.91976904735299, 7.325080762472571, 11.284217452449415, 13.332577252769763, 10.221000175655954, 322.6782052580381, 37.25121440008617, 395.4301748158979, 780.5216852966304, 260.27570204922154, 676.6239361304416, 773.2153817896022, 31.027706185488263, 212.07120750601908, 198.4924060118673, 462.57577734394533, 803.7292841951536, 324.5613089668174, 188.6208069496934, 559.5098823756663, 423.9206894640198, 397.09039561802905, 176.12754693665033, 278.96560229779516, 107.64626117943438, 170.7382151067252, 91.06291607333442, 248.21980177100596, 198.2788631924067, 168.7364516815888, 255.0136187549586, 350.50577676121486, 176.17794279838856, 120.71859644583921, 157.40300714733317, 347.09156880340413, 240.02290064610395, 160.60512406010486, 144.3035450190096, 136.44972966195255, 177.3790780107124, 151.00009311671846, 2.0169404878972506, 1.9526148778051193, 0.7187379770005462, 0.7187003568151236, 0.7186523501872036, 0.7186237261330777, 0.7186153024828635, 0.7185494671583738, 0.7185088210015149, 0.7184564798739702, 0.7183447642798672, 0.7183422290065017, 0.7183174487539298, 0.7183111514620221, 0.7183076347925151, 0.7182469517977681, 0.7182314130255283, 0.7181879862462686, 0.7181772726717243, 0.7181649234369442, 0.7181084113757984, 0.7181153629318003, 0.7181407974484666, 0.7181020323008789, 0.7180042198187798, 0.717981729490538, 0.7179057530725864, 0.7178933220547946, 0.7177905208089764, 0.7177356444080664, 2.623678347696686, 1.0600089165815998, 1.0419148341384519, 268.1129873198201, 1.3354264576273012, 1.0039593383674066, 204.51673775474185, 86.29772714954508, 90.61481288120176, 1.006274288299092, 364.6417509247126, 388.3738881198865, 22.229271634097305, 11.23299873434992, 448.2956021032716, 127.75999210322107, 115.8628224076471, 41.80416766702311, 36.709352972349706, 91.63422961771225, 0.9995387212312025, 4.329332901238033, 169.80678183286463, 8.806813438406612, 97.20540876533859, 74.67476738706473, 80.40873790958042, 109.64013230902157, 100.76416577290297, 87.74177175148701, 309.96759089734525, 206.68807802625486, 83.26418718632743, 95.12338339386777, 192.71934071649346, 41.73496746229633, 185.21276463209986, 139.30686356858976, 133.636696880551, 177.6967043353952, 213.27141943011398, 116.90502847109053, 83.25427901088322, 116.73168512488817, 141.1506635321539, 112.01283936642432, 87.53290971613286, 86.63837367583113, 1.5610375128635665, 1.9547116885450586, 1.3486841100646387, 0.8279261300878922, 0.8276981953473315, 0.8275472799756616, 0.8274148208582881, 0.8272931515511187, 0.8272188296347789, 0.8272111631906865, 0.8271876669592553, 0.827124205838713, 0.8271026972038984, 0.8270458377435467, 0.8270246130511059, 0.8270174435061677, 0.8269113200439633, 0.8268147086512808, 0.8266610958270599, 0.8265770488844179, 0.826985003089962, 0.8256726924238935, 0.8261951463916689, 0.7725624781613797, 0.771265358412309, 2.0197413067601637, 0.7462624577601772, 0.7525084091420509, 0.7244294187834545, 0.7529059284653582, 4.2444546503701845, 4.295792851263463, 3.9357235394625065, 1.78847123710572, 3.1635729197143108, 429.37153357759934, 72.75728482632873, 329.14694465872196, 151.19696072930194, 195.0463677800399, 104.91977823648138, 185.22027162186325, 50.25158977340359, 187.79792320652766, 98.85303367651747, 77.5768000159513, 125.19686184291791, 222.85647436469694, 80.75481935575937, 225.48842481738615, 45.54734610138418, 69.99506161254422, 151.9750355227369, 48.223337152017855, 62.17384848262082, 22.09275425141243, 80.33940939136417, 154.1895588844075, 107.68632191742549, 174.50934742386218, 68.59604346379122, 97.54324612238253, 62.13911665145871, 79.20980030994203, 56.354633526432934, 56.94627857185372, 102.16824488518536, 85.45111718439061, 59.702691188900964, 65.58132506199784, 61.98225325494263, 60.3379134383122, 61.32933117371876, 0.7993642096622446, 0.48185675181393567, 0.4817913933674855, 0.4817398004210499, 0.4817121956113691, 0.48157155132033486, 0.48142732726120024, 0.4813986891163977, 0.4813725974045737, 0.8924153730882577, 0.3982011141727112, 0.6346302936023752, 0.6358883791130963, 0.3915586145811983, 0.37291809779596347, 0.3851616797004022, 0.36226987460501725, 0.37038568865117977, 0.339866062020875, 1.9132626398841142, 0.35326672092788447, 0.32964563957033, 0.5223356254427651, 0.516392140156285, 0.5439835164805272, 0.5216987957691658, 0.5188855778050486, 0.34878212030917527, 0.33814928643057784, 0.5009479134267274, 8.936083142005181, 0.9169956108677435, 0.9692483417785283, 0.9583731539090565, 0.804518854297752, 106.70888776840572, 45.3931907912556, 207.76761718656806, 112.23634967772506, 30.92274128988619, 134.04993836416736, 164.53622015580933, 126.41648515283406, 38.5644163059253, 26.387354316613607, 24.335866423215233, 16.471274449941795, 18.730385940772717, 27.729877478234055, 87.37184553958852, 38.80653794401651, 61.23011084807252, 40.07238173483157, 107.02585593603494, 33.477407882715006, 54.941023087262415, 40.18350954620978, 38.78027351760789, 55.10956417895904, 35.93572985165586, 77.46920257236262, 72.64236313276407, 77.11194023975757, 27.800696953183348, 38.66800018043758, 46.680138237642694, 32.68419622417726, 44.974476314199144, 34.08739918605526, 35.62261395736047, 32.52465636710683, 36.58242758042924, 1.448133491337605, 0.9811333367951242, 0.936266507475305, 0.920591289555752, 0.5143493404965195, 0.514317310088336, 0.5142246350227797, 0.5142058618187662, 0.5141441829114226, 0.5140982998218134, 0.5140296005510324, 0.5140253068466086, 0.5140161239605051, 0.51401132880155, 0.5139792983933665, 0.5139444159625366, 0.5139215057586402, 0.5139206595541187, 0.5139083739181032, 0.5139098782816969, 0.513887187464158, 0.5138327483066093, 0.5137753631036895, 0.5137722290128692, 0.5137727304674005, 0.5136054013585046, 0.5135978795405359, 0.5135897622453113, 0.5134640852034172, 0.5133084149123729, 3.634509847942399, 1.4754855794718036, 5.095203772378709, 3.958369994585531, 2.2603351332367936, 134.3408002028144, 15.631593381152538, 13.429093757004521, 163.92232509567052, 7.195527522694125, 137.83521619108933, 1.5520601936660594, 2.1082304346368717, 2.028398747898526, 1.1517415195526552, 14.23951348022692, 47.41092929828951, 7.164725678112204, 37.566702894997405, 55.99569848926239, 28.144502631021915, 32.92373739598848, 45.35786613318064, 34.18163207598833, 43.385272379610235, 47.07067835811073, 40.142871392195644, 38.11148309774545, 94.33913840661825, 75.15789281766473, 74.72507738265378, 69.25432077255095, 33.40868805570424, 30.229907607578166, 45.99473745768335, 45.00996500267314, 33.02265030518625, 54.13799799789157, 53.58961133415479, 63.015652739839645, 28.780116307560256, 28.617213788538965, 28.46319102635702, 27.738418734162753, 28.563491961697284, 0.715485214210566, 0.7150900969924955, 0.7144765111189042, 0.3749588617333858, 0.37495898419339446, 0.374950503837792, 0.3748674759518934, 0.37483781001478583, 0.3748156753682133, 0.3748187062534286, 0.37481481814815243, 0.3747350048374822, 0.3747273204719363, 0.3747090127006356, 0.3746201679643238, 0.37460994255359736, 0.37460088051295354, 0.37458842020706834, 0.37457871525137887, 0.37455948903001296, 0.3745096784214742, 0.37448123708445363, 0.3744228542753059, 0.3743561441855666, 0.3743335809289636, 0.37428566845055977, 0.37412307217400836, 0.37404509576346867, 0.3742108760002463, 0.36731956147066325, 0.5297741824070064, 0.7353921295348227, 9.4534532016863, 2.4305852729972584, 42.053758423805725, 9.333372835875371, 0.728477792523604, 22.722719127901247, 25.463115487068567, 27.30740828337356, 33.81893219973494, 42.36893325835685, 40.4139385735472, 1.1972874638794788, 8.585263663047085, 1.1775467880170323, 2.9843516366187526, 20.99799432473078, 35.20737398157468, 41.322007948779614, 26.067746594983667, 32.547807106229776, 34.18833428549855, 18.441544654791674, 12.485307320599793, 48.42391646548398, 40.008280487767834, 19.179974588532314, 15.439458114792973, 14.214396598480329, 18.45862831584536, 17.637842556733872, 32.635394423172286, 14.256121172644589, 20.30316995088803, 33.170470205505936, 14.812296324637211, 18.640072902175813, 17.21088230752113, 17.08196424780234, 14.07854926162926, 14.293539073222886], \"Total\": [8821.0, 7616.0, 5351.0, 6236.0, 4271.0, 5676.0, 4004.0, 3825.0, 2801.0, 2427.0, 4288.0, 3882.0, 1897.0, 2526.0, 1611.0, 2228.0, 1643.0, 1648.0, 1473.0, 1493.0, 2451.0, 1114.0, 1393.0, 1359.0, 2168.0, 2561.0, 1340.0, 975.0, 1318.0, 1326.0, 8.449045693467944, 11.932807966912888, 11.038442918165307, 6.795835440166767, 2.252699926777438, 2.2525384084035385, 2.2523379015966705, 2.252233851134965, 2.2521974990806157, 2.2521254691824817, 2.251993991530171, 2.2518337450161496, 2.25164741007933, 2.2513791008922133, 2.251267841956616, 2.2512297335748164, 2.2515681574322866, 17.923141503808633, 4.52699134832798, 4.579650864457141, 8.280810627543088, 4.548053061193624, 2.9914053927651127, 4.781767937589498, 3.500974172155733, 4.543644176516153, 21.51649100399992, 3.3538050241367747, 10.162386554787005, 8.019383262913777, 9.332873474007632, 17.517470535992743, 8.043180213867203, 28.354990310185475, 56.93136450007158, 28.439592710188816, 43.75189740603258, 62.230125552604335, 12.75911056665157, 69.32708677901478, 16.966021978565887, 24.70523690789173, 8821.969709076782, 783.5800861708434, 57.67996894962608, 1677.3090844650687, 27.94022289035838, 6236.941748807466, 423.91097922640375, 5676.276987358231, 452.98023717737425, 2228.853258450049, 42.4051551398777, 3882.418432996866, 3825.4132508860457, 4288.235956554812, 2451.153411456675, 622.2085903901102, 213.06958613173808, 677.4918697291542, 5351.887371916392, 763.8897658602787, 661.408123636115, 1250.842581346387, 434.4502412724355, 2561.9405105200663, 4271.887555259198, 711.2639558163631, 7616.2768294183525, 1326.203550730015, 1210.986323312899, 1393.6159030353854, 1232.624547994011, 591.2176781989431, 2427.3693943611056, 4004.325626485119, 2168.6959529499554, 2801.3033483745794, 2526.0280899813974, 1177.939090396577, 1215.3521496663104, 1518.3146647664173, 1340.2192287341525, 1022.6214463748018, 1435.7513022602297, 1526.9559895274683, 1403.1656734398196, 1359.5492694385607, 1648.0718554147372, 4.314526949164099, 2.8699147524878326, 2.867563270842923, 4.798292307193889, 2.8421769823195793, 9.010963934929308, 3.2093332342259626, 6.7147190594748825, 3.7933061372260592, 6.1428380356850605, 5.476150383845253, 3.747522858384634, 9.458059232454222, 2.789388003838898, 12.682392089497402, 2.9374084976092685, 11.880541786579046, 19.45167977525527, 7.037735512469138, 9.328177771240401, 1.838116786499068, 1.8378535446285673, 1.8378037029233287, 1.8377912201243576, 1.8377546465326198, 1.837720790591833, 1.8377144583066778, 1.8376678169876441, 1.8375977689789975, 1.8375525044202872, 112.95884807815189, 4.79535290259832, 6.7774767633035164, 27.369987032656642, 8.60730469292388, 9.58006774568934, 11.472315115657773, 6.671212622396601, 3.809550398174307, 4.5157500381228015, 45.37721927997114, 14.272779351765706, 7616.2768294183525, 729.9669853529991, 4271.887555259198, 5676.276987358231, 804.6370849236899, 611.3225998157467, 167.86793109464602, 3825.4132508860457, 1518.3146647664173, 4004.325626485119, 2561.9405105200663, 4288.235956554812, 975.5412065087767, 5351.887371916392, 677.2033433698829, 8821.969709076782, 2526.0280899813974, 926.8645526789666, 534.267660367827, 456.811050277517, 2801.3033483745794, 3882.418432996866, 1648.0718554147372, 1493.4025138351321, 1473.3987750015606, 1153.8445465850298, 1094.4911309727036, 1093.422060784484, 6236.941748807466, 2168.6959529499554, 1177.939090396577, 2427.3693943611056, 2451.153411456675, 2228.853258450049, 1897.460388608018, 1526.9559895274683, 1643.9555591369926, 1403.1656734398196, 1359.5492694385607, 4.668048591333726, 6.5370428776182665, 8.5724785742528, 2.7451002056018305, 2.7450371486538256, 2.7435814396587195, 2.7428631375021486, 2.7306004326909963, 2.7451501062107933, 2.7445585223567326, 2.730497591665948, 2.7417970992757703, 2.6319541973382248, 15.97403182298794, 3.7711639295443704, 2.7244595880008418, 4.365120526303846, 5.728658468090965, 3.8518644219362805, 8.233718051525354, 3.6542683325887846, 6.698157508626734, 3.828790340904308, 3.718995442416284, 2.686211057969637, 3.8166208690160515, 2.7738396424692144, 3.5780485374513566, 7.462676063040357, 2.7613673963063032, 7.275081317474526, 362.7711916130636, 496.8572551202462, 133.8453634982173, 373.8056528740359, 1643.9555591369926, 1473.3987750015606, 3882.418432996866, 133.24392764087958, 1114.7876019765276, 1104.097498049197, 186.6976708599905, 1181.5330697287543, 1897.460388608018, 4004.325626485119, 4288.235956554812, 684.4831886415782, 1232.624547994011, 2168.6959529499554, 313.79159335209187, 7616.2768294183525, 818.5241753019907, 38.93063206112377, 43.1712288745762, 8821.969709076782, 2801.3033483745794, 1648.0718554147372, 5676.276987358231, 1493.4025138351321, 5351.887371916392, 786.8346711767924, 893.3314699585285, 2451.153411456675, 2526.0280899813974, 3825.4132508860457, 1340.2192287341525, 1526.9559895274683, 2561.9405105200663, 2427.3693943611056, 6236.941748807466, 2228.853258450049, 1359.5492694385607, 1611.7667463940177, 1435.7513022602297, 4271.887555259198, 2.9587965667571, 2.952342001079517, 2.76058731883971, 2.667802729580412, 2.9027506220666655, 7.098203283897209, 10.345769903540877, 1.88284249542405, 1.882801239165194, 1.882323662824661, 1.8822625816163105, 1.8819317346421964, 1.8818606402365543, 1.8816150893557528, 1.8815940318852977, 1.8812708337696897, 1.8810207944392596, 1.879841065521185, 1.8790240791251016, 1.8776283961052496, 1.8774731057475238, 2.588712343422704, 2.924743683707355, 1.865946152050243, 6.957973198759356, 12.691144185688724, 1.8542192473417685, 1.8729740546298568, 2.8906333755012383, 1.8707764207896156, 16.847934689388428, 6.861318115025248, 22.450510921573354, 26.892295357149273, 41.282109051374306, 349.5832404148679, 4271.887555259198, 6236.941748807466, 14.285229006325602, 6.811901908606324, 6.91115981539445, 5351.887371916392, 2427.3693943611056, 6.809257883160357, 3.9406258166209462, 7616.2768294183525, 1167.7007094973153, 319.8213796550532, 465.9976801546676, 4004.325626485119, 14.512057408665497, 8821.969709076782, 1403.1656734398196, 1326.4011667640518, 1677.3090844650687, 1493.4025138351321, 2168.6959529499554, 2561.9405105200663, 586.9717551780881, 1210.986323312899, 752.4895191224703, 1076.9970988913683, 4288.235956554812, 1037.6742523318765, 3825.4132508860457, 2801.3033483745794, 1393.6159030353854, 912.1374312123908, 1014.1772787179418, 1611.7667463940177, 1318.9346318642627, 2451.153411456675, 3882.418432996866, 1526.9559895274683, 5676.276987358231, 1518.3146647664173, 2228.853258450049, 2526.0280899813974, 1897.460388608018, 3.27508549695261, 2.5060728655231403, 2.5333681672747823, 2.4402527509522343, 3.609499961307939, 2.487089756827297, 1.6613718398857449, 1.6610749851226003, 1.6609101879082635, 1.6608679976953535, 1.6607993868448565, 1.6605457151715046, 1.660517607680909, 1.6602483678445328, 1.6601727074380042, 1.660789523193673, 1.6590323709946675, 1.6595533126803912, 4.299975223064026, 2.544988791741522, 7.076765452128063, 1.6769873184825106, 1.5461248434284784, 1.574242592742528, 3.433063499996339, 1.689578758577164, 1.5204435626528041, 1.5582557885824295, 2.625484361659415, 5.780043896752554, 20.907688093074956, 10.708474850921348, 4.3985531941173885, 33.41380299340019, 9.894561839496395, 19.979180968105617, 33.538336114770324, 41.514036751806515, 30.731818800170878, 1897.460388608018, 145.0431870713472, 2526.0280899813974, 6236.941748807466, 1611.7667463940177, 5351.887371916392, 7616.2768294183525, 132.71547947700134, 1518.3146647664173, 1435.7513022602297, 4288.235956554812, 8821.969709076782, 2801.3033483745794, 1403.1656734398196, 5676.276987358231, 4004.325626485119, 3882.418432996866, 1326.203550730015, 2451.153411456675, 694.2175732438205, 1326.4011667640518, 569.9216559721489, 2228.853258450049, 1648.0718554147372, 1359.5492694385607, 2427.3693943611056, 3825.4132508860457, 1473.3987750015606, 877.9901286603156, 1318.9346318642627, 4271.887555259198, 2561.9405105200663, 1393.6159030353854, 1250.842581346387, 1156.8933307030184, 2168.6959529499554, 1526.9559895274683, 2.765813426163637, 2.7992892315401545, 1.4589959152764456, 1.458959777809273, 1.458911840503905, 1.4588828784217347, 1.4588930730890992, 1.458809263858944, 1.4587667524943473, 1.4587172840623512, 1.4586047189888809, 1.4586054057270168, 1.458584789812195, 1.4585724463638212, 1.4585688987923289, 1.4585082452239861, 1.4584971398964712, 1.4584555042019391, 1.458440227791508, 1.4584276283725721, 1.4583657398408458, 1.4583842910643943, 1.4584360961985385, 1.4583695381216926, 1.4582722311405327, 1.4582407936512487, 1.458176785681945, 1.4581529299964713, 1.4580505611913945, 1.4579974986898936, 5.473117250285715, 2.2688661824449974, 2.257818285305225, 1897.460388608018, 3.102062770815589, 2.2011782166946734, 1611.7667463940177, 689.294061373241, 783.4804088002645, 2.2644874412859046, 5676.276987358231, 6236.941748807466, 145.74482565149066, 58.53777285380194, 8821.969709076782, 1643.9555591369926, 1473.3987750015606, 373.8056528740359, 313.79159335209187, 1114.7876019765276, 2.2909812159576584, 17.07266851553018, 2801.3033483745794, 46.30798341422707, 1318.9346318642627, 914.7002440737017, 1053.7192562597932, 1648.0718554147372, 1493.4025138351321, 1232.624547994011, 7616.2768294183525, 4271.887555259198, 1177.939090396577, 1435.7513022602297, 4004.325626485119, 440.31367894035554, 3825.4132508860457, 2561.9405105200663, 2451.153411456675, 3882.418432996866, 5351.887371916392, 2168.6959529499554, 1250.842581346387, 2228.853258450049, 4288.235956554812, 2526.0280899813974, 1526.9559895274683, 2427.3693943611056, 2.318059897411929, 3.223945427721144, 2.3192317258597215, 1.5582285294635914, 1.55801858184545, 1.5578740741775865, 1.5577254629726587, 1.557609859381623, 1.5575228981545153, 1.557522042090352, 1.5574916275882904, 1.5574297731341615, 1.5574059122104655, 1.5573604256553648, 1.5573324913306346, 1.5573302813436507, 1.5572194858989243, 1.5571288429025327, 1.5569770424077616, 1.5568838603227133, 1.558087480913169, 1.5559824325116511, 1.5578152050897536, 1.5276344989016697, 1.52699568104886, 4.071838907186506, 1.5130619010858262, 1.526323360901761, 1.5009927700426953, 1.568457904577839, 10.28479336700403, 10.87152078271341, 9.911439818530368, 4.108203044964108, 8.943520343891556, 8821.969709076782, 814.4974721642493, 7616.2768294183525, 2526.0280899813974, 4004.325626485119, 1648.0718554147372, 3825.4132508860457, 585.1985283405502, 4288.235956554812, 1677.3090844650687, 1177.939090396577, 2427.3693943611056, 5676.276987358231, 1340.2192287341525, 6236.941748807466, 605.4789310483688, 1181.5330697287543, 3882.418432996866, 684.7103149689734, 1014.1772787179418, 211.53554795118833, 1526.9559895274683, 4271.887555259198, 2451.153411456675, 5351.887371916392, 1210.986323312899, 2168.6959529499554, 1037.6742523318765, 1643.9555591369926, 921.3819659905855, 980.4226048210046, 2801.3033483745794, 2561.9405105200663, 1114.7876019765276, 1611.7667463940177, 1326.203550730015, 1215.3521496663104, 2228.853258450049, 1.8282985217293257, 1.2436851095932424, 1.2436226057103108, 1.2435716374650687, 1.2435521497358986, 1.2434055824548198, 1.243260859763252, 1.2432306129752255, 1.2432061491492639, 2.5580813556542337, 1.3223137336241306, 2.112405012593713, 2.1223400477506638, 1.3284748103008552, 1.32809490892922, 1.3939439520214911, 1.3230005689569273, 1.4189651342667302, 1.3505586301719028, 7.642373421856471, 1.443575959696296, 1.3518689963893673, 2.1486024779248263, 2.1248696472914714, 2.239792868493845, 2.1908101630367005, 2.1832961185739004, 1.499325431999178, 1.4606206365968466, 2.174459799238132, 47.39576450728959, 4.262968114150752, 4.542860884472689, 4.728735286855103, 3.9995329797674164, 2801.3033483745794, 1037.6742523318765, 8821.969709076782, 3825.4132508860457, 684.7103149689734, 5676.276987358231, 7616.2768294183525, 5351.887371916392, 1076.9970988913683, 622.2085903901102, 564.048851762808, 324.69051436054036, 392.2769366406783, 711.2639558163631, 4004.325626485119, 1210.986323312899, 2526.0280899813974, 1326.4011667640518, 6236.941748807466, 1014.1772787179418, 2228.853258450049, 1359.5492694385607, 1340.2192287341525, 2451.153411456675, 1232.624547994011, 4271.887555259198, 3882.418432996866, 4288.235956554812, 868.2581436435482, 1643.9555591369926, 2427.3693943611056, 1215.3521496663104, 2561.9405105200663, 1393.6159030353854, 1648.0718554147372, 1318.9346318642627, 2168.6959529499554, 2.207025975194351, 1.7400200660765783, 1.7722409095530833, 1.7804623343613972, 1.2732319989081902, 1.2732024262080017, 1.2731177955266104, 1.2730931773135308, 1.2730317878485229, 1.272987677351759, 1.2729215922697243, 1.2729121657813112, 1.272905042619247, 1.2728988004664397, 1.2728648335671726, 1.272831340119706, 1.2728107164799871, 1.2728126729904539, 1.2727940638424309, 1.2728028114149197, 1.2727772398412915, 1.2727242351339576, 1.2726616376042084, 1.2726646463530633, 1.272670524514815, 1.272496413936797, 1.2724916898789334, 1.2724755558501593, 1.2723520103921828, 1.2721982198739685, 10.247247883367631, 4.165865859416632, 20.956298828981787, 19.333420720208295, 9.206784168008683, 5351.887371916392, 214.64520340201565, 173.05728786706968, 8821.969709076782, 74.23388961168995, 7616.2768294183525, 6.995323958336925, 11.290275305548713, 10.735523220177475, 4.43942698449421, 231.97521461106894, 1611.7667463940177, 81.81231690701685, 1167.7007094973153, 2228.853258450049, 743.3767768704214, 975.5412065087767, 1648.0718554147372, 1053.7192562597932, 1643.9555591369926, 1897.460388608018, 1473.3987750015606, 1359.5492694385607, 6236.941748807466, 4271.887555259198, 4288.235956554812, 4004.325626485119, 1340.2192287341525, 1114.7876019765276, 2427.3693943611056, 2526.0280899813974, 1393.6159030353854, 3882.418432996866, 3825.4132508860457, 5676.276987358231, 1115.6991132274588, 1181.5330697287543, 1318.9346318642627, 1326.4011667640518, 1526.9559895274683, 1.4870880424273523, 1.4866948376473634, 1.4860827267300276, 1.1465448845259119, 1.1465495711553018, 1.1465383304225194, 1.1464613864819935, 1.1464275031208977, 1.1464026850617655, 1.1464130016466951, 1.1464078086280023, 1.1463240801669383, 1.1463205607415667, 1.1462992334565723, 1.1462157009400202, 1.1462005847923247, 1.1461956431845222, 1.1461865311565531, 1.1461701812779588, 1.146152840668527, 1.1461014318285252, 1.1460757194797089, 1.1460166235134794, 1.1459460089368045, 1.1459289437220552, 1.1458867652995033, 1.1457299775066574, 1.1456478855609404, 1.147457721763793, 1.1480468986330599, 1.8626091948686052, 3.260455588901702, 177.5745843639653, 21.543757065757575, 2427.3693943611056, 233.07307047191782, 3.4477318448219556, 1114.7876019765276, 1493.4025138351321, 1897.460388608018, 2801.3033483745794, 4271.887555259198, 4004.325626485119, 8.517531126929386, 270.2176413274148, 8.432023998708175, 44.58292611290334, 1473.3987750015606, 3882.418432996866, 5351.887371916392, 2526.0280899813974, 3825.4132508860457, 4288.235956554812, 1393.6159030353854, 689.294061373241, 8821.969709076782, 6236.941748807466, 1611.7667463940177, 1104.097498049197, 975.5412065087767, 1643.9555591369926, 1648.0718554147372, 5676.276987358231, 1115.6991132274588, 2451.153411456675, 7616.2768294183525, 1359.5492694385607, 2561.9405105200663, 2168.6959529499554, 2228.853258450049, 1318.9346318642627, 1518.3146647664173], \"Category\": [\"Default\", \"Default\", \"Default\", \"Default\", \"Default\", \"Default\", \"Default\", \"Default\", \"Default\", \"Default\", \"Default\", \"Default\", \"Default\", \"Default\", \"Default\", \"Default\", \"Default\", \"Default\", \"Default\", \"Default\", \"Default\", \"Default\", \"Default\", \"Default\", \"Default\", \"Default\", \"Default\", \"Default\", \"Default\", \"Default\", \"Topic1\", \"Topic1\", \"Topic1\", \"Topic1\", \"Topic1\", \"Topic1\", \"Topic1\", \"Topic1\", \"Topic1\", \"Topic1\", \"Topic1\", \"Topic1\", \"Topic1\", \"Topic1\", \"Topic1\", \"Topic1\", \"Topic1\", \"Topic1\", \"Topic1\", \"Topic1\", \"Topic1\", \"Topic1\", \"Topic1\", \"Topic1\", \"Topic1\", \"Topic1\", \"Topic1\", \"Topic1\", \"Topic1\", \"Topic1\", \"Topic1\", \"Topic1\", \"Topic1\", \"Topic1\", \"Topic1\", \"Topic1\", \"Topic1\", \"Topic1\", \"Topic1\", \"Topic1\", \"Topic1\", \"Topic1\", \"Topic1\", \"Topic1\", \"Topic1\", \"Topic1\", \"Topic1\", \"Topic1\", \"Topic1\", \"Topic1\", \"Topic1\", \"Topic1\", \"Topic1\", \"Topic1\", \"Topic1\", \"Topic1\", \"Topic1\", \"Topic1\", \"Topic1\", \"Topic1\", \"Topic1\", \"Topic1\", \"Topic1\", \"Topic1\", \"Topic1\", \"Topic1\", \"Topic1\", \"Topic1\", \"Topic1\", \"Topic1\", \"Topic1\", \"Topic1\", \"Topic1\", \"Topic1\", \"Topic1\", \"Topic1\", \"Topic1\", \"Topic1\", \"Topic1\", \"Topic1\", \"Topic1\", \"Topic1\", \"Topic1\", \"Topic1\", \"Topic1\", \"Topic1\", \"Topic1\", \"Topic1\", \"Topic1\", \"Topic2\", \"Topic2\", \"Topic2\", \"Topic2\", \"Topic2\", \"Topic2\", \"Topic2\", \"Topic2\", \"Topic2\", \"Topic2\", \"Topic2\", \"Topic2\", \"Topic2\", \"Topic2\", \"Topic2\", \"Topic2\", \"Topic2\", \"Topic2\", \"Topic2\", \"Topic2\", \"Topic2\", \"Topic2\", \"Topic2\", \"Topic2\", \"Topic2\", \"Topic2\", \"Topic2\", \"Topic2\", \"Topic2\", \"Topic2\", \"Topic2\", \"Topic2\", \"Topic2\", \"Topic2\", \"Topic2\", \"Topic2\", \"Topic2\", \"Topic2\", \"Topic2\", \"Topic2\", \"Topic2\", \"Topic2\", \"Topic2\", \"Topic2\", \"Topic2\", \"Topic2\", \"Topic2\", \"Topic2\", \"Topic2\", \"Topic2\", \"Topic2\", \"Topic2\", \"Topic2\", \"Topic2\", \"Topic2\", \"Topic2\", \"Topic2\", \"Topic2\", \"Topic2\", \"Topic2\", \"Topic2\", \"Topic2\", \"Topic2\", \"Topic2\", \"Topic2\", \"Topic2\", \"Topic2\", \"Topic2\", \"Topic2\", \"Topic2\", \"Topic2\", \"Topic2\", \"Topic2\", \"Topic2\", \"Topic2\", \"Topic2\", \"Topic2\", \"Topic2\", \"Topic2\", \"Topic2\", \"Topic2\", \"Topic3\", \"Topic3\", \"Topic3\", \"Topic3\", \"Topic3\", \"Topic3\", \"Topic3\", \"Topic3\", \"Topic3\", \"Topic3\", \"Topic3\", \"Topic3\", \"Topic3\", \"Topic3\", \"Topic3\", \"Topic3\", \"Topic3\", \"Topic3\", \"Topic3\", \"Topic3\", \"Topic3\", \"Topic3\", \"Topic3\", \"Topic3\", \"Topic3\", \"Topic3\", \"Topic3\", \"Topic3\", \"Topic3\", \"Topic3\", \"Topic3\", \"Topic3\", \"Topic3\", \"Topic3\", \"Topic3\", \"Topic3\", \"Topic3\", \"Topic3\", \"Topic3\", \"Topic3\", \"Topic3\", \"Topic3\", \"Topic3\", \"Topic3\", \"Topic3\", \"Topic3\", \"Topic3\", \"Topic3\", \"Topic3\", \"Topic3\", \"Topic3\", \"Topic3\", \"Topic3\", \"Topic3\", \"Topic3\", \"Topic3\", \"Topic3\", \"Topic3\", \"Topic3\", \"Topic3\", \"Topic3\", \"Topic3\", \"Topic3\", \"Topic3\", \"Topic3\", \"Topic3\", \"Topic3\", \"Topic3\", \"Topic3\", \"Topic3\", \"Topic3\", \"Topic3\", \"Topic3\", \"Topic3\", \"Topic3\", \"Topic4\", \"Topic4\", \"Topic4\", \"Topic4\", \"Topic4\", \"Topic4\", \"Topic4\", \"Topic4\", \"Topic4\", \"Topic4\", \"Topic4\", \"Topic4\", \"Topic4\", \"Topic4\", \"Topic4\", \"Topic4\", \"Topic4\", \"Topic4\", \"Topic4\", \"Topic4\", \"Topic4\", \"Topic4\", \"Topic4\", \"Topic4\", \"Topic4\", \"Topic4\", \"Topic4\", \"Topic4\", \"Topic4\", \"Topic4\", \"Topic4\", \"Topic4\", \"Topic4\", \"Topic4\", \"Topic4\", \"Topic4\", \"Topic4\", \"Topic4\", \"Topic4\", \"Topic4\", \"Topic4\", \"Topic4\", \"Topic4\", \"Topic4\", \"Topic4\", \"Topic4\", \"Topic4\", \"Topic4\", \"Topic4\", \"Topic4\", \"Topic4\", \"Topic4\", \"Topic4\", \"Topic4\", \"Topic4\", \"Topic4\", \"Topic4\", \"Topic4\", \"Topic4\", \"Topic4\", \"Topic4\", \"Topic4\", \"Topic4\", \"Topic4\", \"Topic4\", \"Topic4\", \"Topic4\", \"Topic4\", \"Topic4\", \"Topic4\", \"Topic4\", \"Topic4\", \"Topic4\", \"Topic4\", \"Topic4\", \"Topic4\", \"Topic4\", \"Topic4\", \"Topic4\", \"Topic5\", \"Topic5\", \"Topic5\", \"Topic5\", \"Topic5\", \"Topic5\", \"Topic5\", \"Topic5\", \"Topic5\", \"Topic5\", \"Topic5\", \"Topic5\", \"Topic5\", \"Topic5\", \"Topic5\", \"Topic5\", \"Topic5\", \"Topic5\", \"Topic5\", \"Topic5\", \"Topic5\", \"Topic5\", \"Topic5\", \"Topic5\", \"Topic5\", \"Topic5\", \"Topic5\", \"Topic5\", \"Topic5\", \"Topic5\", \"Topic5\", \"Topic5\", \"Topic5\", \"Topic5\", \"Topic5\", \"Topic5\", \"Topic5\", \"Topic5\", \"Topic5\", \"Topic5\", \"Topic5\", \"Topic5\", \"Topic5\", \"Topic5\", \"Topic5\", \"Topic5\", \"Topic5\", \"Topic5\", \"Topic5\", \"Topic5\", \"Topic5\", \"Topic5\", \"Topic5\", \"Topic5\", \"Topic5\", \"Topic5\", \"Topic5\", \"Topic5\", \"Topic5\", \"Topic5\", \"Topic5\", \"Topic5\", \"Topic5\", \"Topic5\", \"Topic5\", \"Topic5\", \"Topic5\", \"Topic5\", \"Topic5\", \"Topic5\", \"Topic5\", \"Topic5\", \"Topic5\", \"Topic5\", \"Topic5\", \"Topic5\", \"Topic6\", \"Topic6\", \"Topic6\", \"Topic6\", \"Topic6\", \"Topic6\", \"Topic6\", \"Topic6\", \"Topic6\", \"Topic6\", \"Topic6\", \"Topic6\", \"Topic6\", \"Topic6\", \"Topic6\", \"Topic6\", \"Topic6\", \"Topic6\", \"Topic6\", \"Topic6\", \"Topic6\", \"Topic6\", \"Topic6\", \"Topic6\", \"Topic6\", \"Topic6\", \"Topic6\", \"Topic6\", \"Topic6\", \"Topic6\", \"Topic6\", \"Topic6\", \"Topic6\", \"Topic6\", \"Topic6\", \"Topic6\", \"Topic6\", \"Topic6\", \"Topic6\", \"Topic6\", \"Topic6\", \"Topic6\", \"Topic6\", \"Topic6\", \"Topic6\", \"Topic6\", \"Topic6\", \"Topic6\", \"Topic6\", \"Topic6\", \"Topic6\", \"Topic6\", \"Topic6\", \"Topic6\", \"Topic6\", \"Topic6\", \"Topic6\", \"Topic6\", \"Topic6\", \"Topic6\", \"Topic6\", \"Topic6\", \"Topic6\", \"Topic6\", \"Topic6\", \"Topic6\", \"Topic6\", \"Topic6\", \"Topic6\", \"Topic6\", \"Topic6\", \"Topic6\", \"Topic6\", \"Topic6\", \"Topic6\", \"Topic6\", \"Topic6\", \"Topic6\", \"Topic7\", \"Topic7\", \"Topic7\", \"Topic7\", \"Topic7\", \"Topic7\", \"Topic7\", \"Topic7\", \"Topic7\", \"Topic7\", \"Topic7\", \"Topic7\", \"Topic7\", \"Topic7\", \"Topic7\", \"Topic7\", \"Topic7\", \"Topic7\", \"Topic7\", \"Topic7\", \"Topic7\", \"Topic7\", \"Topic7\", \"Topic7\", \"Topic7\", \"Topic7\", \"Topic7\", \"Topic7\", \"Topic7\", \"Topic7\", \"Topic7\", \"Topic7\", \"Topic7\", \"Topic7\", \"Topic7\", \"Topic7\", \"Topic7\", \"Topic7\", \"Topic7\", \"Topic7\", \"Topic7\", \"Topic7\", \"Topic7\", \"Topic7\", \"Topic7\", \"Topic7\", \"Topic7\", \"Topic7\", \"Topic7\", \"Topic7\", \"Topic7\", \"Topic7\", \"Topic7\", \"Topic7\", \"Topic7\", \"Topic7\", \"Topic7\", \"Topic7\", \"Topic7\", \"Topic7\", \"Topic7\", \"Topic7\", \"Topic7\", \"Topic7\", \"Topic7\", \"Topic7\", \"Topic7\", \"Topic7\", \"Topic7\", \"Topic7\", \"Topic7\", \"Topic7\", \"Topic7\", \"Topic8\", \"Topic8\", \"Topic8\", \"Topic8\", \"Topic8\", \"Topic8\", \"Topic8\", \"Topic8\", \"Topic8\", \"Topic8\", \"Topic8\", \"Topic8\", \"Topic8\", \"Topic8\", \"Topic8\", \"Topic8\", \"Topic8\", \"Topic8\", \"Topic8\", \"Topic8\", \"Topic8\", \"Topic8\", \"Topic8\", \"Topic8\", \"Topic8\", \"Topic8\", \"Topic8\", \"Topic8\", \"Topic8\", \"Topic8\", \"Topic8\", \"Topic8\", \"Topic8\", \"Topic8\", \"Topic8\", \"Topic8\", \"Topic8\", \"Topic8\", \"Topic8\", \"Topic8\", \"Topic8\", \"Topic8\", \"Topic8\", \"Topic8\", \"Topic8\", \"Topic8\", \"Topic8\", \"Topic8\", \"Topic8\", \"Topic8\", \"Topic8\", \"Topic8\", \"Topic8\", \"Topic8\", \"Topic8\", \"Topic8\", \"Topic8\", \"Topic8\", \"Topic8\", \"Topic8\", \"Topic8\", \"Topic8\", \"Topic8\", \"Topic8\", \"Topic8\", \"Topic8\", \"Topic8\", \"Topic8\", \"Topic8\", \"Topic8\", \"Topic8\", \"Topic8\", \"Topic9\", \"Topic9\", \"Topic9\", \"Topic9\", \"Topic9\", \"Topic9\", \"Topic9\", \"Topic9\", \"Topic9\", \"Topic9\", \"Topic9\", \"Topic9\", \"Topic9\", \"Topic9\", \"Topic9\", \"Topic9\", \"Topic9\", \"Topic9\", \"Topic9\", \"Topic9\", \"Topic9\", \"Topic9\", \"Topic9\", \"Topic9\", \"Topic9\", \"Topic9\", \"Topic9\", \"Topic9\", \"Topic9\", \"Topic9\", \"Topic9\", \"Topic9\", \"Topic9\", \"Topic9\", \"Topic9\", \"Topic9\", \"Topic9\", \"Topic9\", \"Topic9\", \"Topic9\", \"Topic9\", \"Topic9\", \"Topic9\", \"Topic9\", \"Topic9\", \"Topic9\", \"Topic9\", \"Topic9\", \"Topic9\", \"Topic9\", \"Topic9\", \"Topic9\", \"Topic9\", \"Topic9\", \"Topic9\", \"Topic9\", \"Topic9\", \"Topic9\", \"Topic9\", \"Topic9\", \"Topic9\", \"Topic9\", \"Topic9\", \"Topic9\", \"Topic9\", \"Topic9\", \"Topic9\", \"Topic9\", \"Topic9\", \"Topic9\", \"Topic9\", \"Topic9\", \"Topic9\", \"Topic9\", \"Topic9\", \"Topic10\", \"Topic10\", \"Topic10\", \"Topic10\", \"Topic10\", \"Topic10\", \"Topic10\", \"Topic10\", \"Topic10\", \"Topic10\", \"Topic10\", \"Topic10\", \"Topic10\", \"Topic10\", \"Topic10\", \"Topic10\", \"Topic10\", \"Topic10\", \"Topic10\", \"Topic10\", \"Topic10\", \"Topic10\", \"Topic10\", \"Topic10\", \"Topic10\", \"Topic10\", \"Topic10\", \"Topic10\", \"Topic10\", \"Topic10\", \"Topic10\", \"Topic10\", \"Topic10\", \"Topic10\", \"Topic10\", \"Topic10\", \"Topic10\", \"Topic10\", \"Topic10\", \"Topic10\", \"Topic10\", \"Topic10\", \"Topic10\", \"Topic10\", \"Topic10\", \"Topic10\", \"Topic10\", \"Topic10\", \"Topic10\", \"Topic10\", \"Topic10\", \"Topic10\", \"Topic10\", \"Topic10\", \"Topic10\", \"Topic10\", \"Topic10\", \"Topic10\", \"Topic10\", \"Topic10\", \"Topic10\", \"Topic10\", \"Topic10\", \"Topic10\", \"Topic10\", \"Topic10\", \"Topic10\", \"Topic10\", \"Topic10\", \"Topic10\", \"Topic10\", \"Topic10\"], \"logprob\": [30.0, 29.0, 28.0, 27.0, 26.0, 25.0, 24.0, 23.0, 22.0, 21.0, 20.0, 19.0, 18.0, 17.0, 16.0, 15.0, 14.0, 13.0, 12.0, 11.0, 10.0, 9.0, 8.0, 7.0, 6.0, 5.0, 4.0, 3.0, 2.0, 1.0, -9.7968, -9.4561, -9.5458, -10.0398, -11.1657, -11.1658, -11.1659, -11.166, -11.166, -11.1661, -11.1662, -11.1663, -11.1664, -11.1665, -11.1666, -11.1666, -11.1668, -9.1159, -10.4985, -10.4872, -9.8998, -10.5106, -10.9314, -10.463, -10.7777, -10.5203, -8.9704, -10.8353, -9.7298, -9.9667, -9.819, -9.1991, -9.9692, -8.7531, -8.0954, -8.785, -8.3816, -8.0651, -9.5443, -7.9871, -9.298, -8.9562, -3.5494, -5.787, -8.1927, -5.1334, -8.8648, -3.9604, -6.4136, -4.087, -6.3672, -4.9774, -8.4957, -4.5222, -4.5383, -4.4527, -4.9477, -6.1431, -7.0819, -6.0776, -4.3062, -5.9896, -6.1185, -5.579, -6.4785, -4.9899, -4.5831, -6.0791, -4.1345, -5.5691, -5.6497, -5.5381, -5.6575, -6.2578, -5.1326, -4.7335, -5.2323, -5.0429, -5.1726, -5.719, -5.7039, -5.5549, -5.6483, -5.8254, -5.6227, -5.596, -5.6666, -5.6982, -5.6975, -9.9658, -10.3817, -10.3828, -9.8748, -10.4038, -9.2667, -10.3822, -9.6637, -10.2371, -9.7558, -9.8736, -10.257, -9.3466, -10.577, -9.0658, -10.5381, -9.145, -8.6552, -9.6731, -9.4033, -11.028, -11.0282, -11.0283, -11.0283, -11.0283, -11.0283, -11.0284, -11.0284, -11.0285, -11.0285, -6.9253, -10.0792, -9.7414, -8.3946, -9.5426, -9.454, -9.3148, -9.8215, -10.3461, -10.1947, -8.0757, -9.1384, -3.5857, -5.702, -4.1763, -4.02, -5.6894, -5.9815, -7.0764, -4.5177, -5.2759, -4.527, -4.8975, -4.4961, -5.6978, -4.3525, -6.0072, -3.957, -4.9737, -5.7746, -6.2136, -6.3538, -4.9506, -4.7292, -5.3935, -5.4744, -5.4952, -5.6908, -5.7393, -5.7475, -4.5093, -5.2655, -5.7033, -5.2231, -5.232, -5.3042, -5.4563, -5.6062, -5.6485, -5.6865, -5.6973, -9.6165, -9.3173, -9.0613, -10.2721, -10.2722, -10.2729, -10.2732, -10.2919, -10.2868, -10.2886, -10.2944, -10.319, -10.3612, -8.5619, -10.0158, -10.3463, -9.8834, -9.6133, -10.015, -9.2635, -10.1063, -9.5006, -10.0715, -10.1119, -10.4533, -10.1046, -10.4243, -10.1941, -9.4701, -10.475, -9.5343, -6.1983, -5.9336, -7.0676, -6.201, -4.9692, -5.1174, -4.3524, -7.1336, -5.3952, -5.4588, -6.8985, -5.4065, -5.0688, -4.4862, -4.4344, -5.8888, -5.4252, -4.9789, -6.5083, -3.9961, -5.7778, -8.1718, -8.0958, -3.9672, -4.8632, -5.2922, -4.3705, -5.4004, -4.4782, -5.88, -5.7928, -5.0885, -5.075, -4.8073, -5.5293, -5.4426, -5.1017, -5.1556, -4.6144, -5.2346, -5.551, -5.486, -5.5686, -5.2975, -10.0479, -10.0527, -10.1847, -10.2563, -10.1744, -9.3084, -8.9389, -10.6939, -10.6939, -10.6943, -10.6943, -10.6946, -10.6947, -10.6949, -10.6949, -10.6952, -10.6954, -10.6964, -10.6993, -10.7005, -10.7011, -10.3985, -10.2827, -10.74, -9.4488, -8.8501, -10.7757, -10.7786, -10.3491, -10.7947, -8.6535, -9.5419, -8.4172, -8.3291, -8.0111, -6.1696, -4.1184, -3.8569, -8.9791, -9.6075, -9.5991, -4.0622, -4.7651, -9.6344, -10.0835, -3.9113, -5.4462, -6.5214, -6.2181, -4.4894, -9.0284, -3.9214, -5.3753, -5.4359, -5.2574, -5.3543, -5.0705, -4.9551, -6.093, -5.5417, -5.9082, -5.6378, -4.6066, -5.669, -4.7351, -4.9693, -5.4751, -5.7939, -5.7278, -5.4015, -5.599, -5.1784, -4.8843, -5.5295, -4.8467, -5.5497, -5.3927, -5.3615, -5.6325, -9.8272, -10.1729, -10.2312, -10.2908, -9.9326, -10.3309, -10.7433, -10.7436, -10.7438, -10.7438, -10.7439, -10.7442, -10.7442, -10.7445, -10.7446, -10.7442, -10.7458, -10.7456, -9.8599, -10.4266, -9.4073, -10.8817, -10.9702, -10.9636, -10.191, -10.9064, -11.0293, -11.0113, -10.5144, -9.7315, -8.4694, -9.1546, -10.0362, -8.1839, -9.3169, -8.6916, -8.2595, -8.0927, -8.3585, -4.9062, -7.0652, -4.7029, -4.0229, -5.1212, -4.1658, -4.0323, -7.248, -5.326, -5.3921, -4.5461, -3.9936, -4.9004, -5.4432, -4.3558, -4.6334, -4.6987, -5.5117, -5.0518, -6.004, -5.5428, -6.1713, -5.1686, -5.3932, -5.5546, -5.1416, -4.8235, -5.5114, -5.8894, -5.6241, -4.8333, -5.2022, -5.6039, -5.711, -5.7669, -5.5046, -5.6656, -9.3188, -9.3512, -10.3507, -10.3507, -10.3508, -10.3508, -10.3508, -10.3509, -10.351, -10.351, -10.3512, -10.3512, -10.3512, -10.3512, -10.3513, -10.3513, -10.3514, -10.3514, -10.3514, -10.3515, -10.3515, -10.3515, -10.3515, -10.3515, -10.3517, -10.3517, -10.3518, -10.3518, -10.352, -10.3521, -9.0558, -9.9621, -9.9793, -4.429, -9.7311, -10.0164, -4.6997, -5.5626, -5.5138, -10.0141, -4.1215, -4.0584, -6.919, -7.6015, -3.9149, -5.1702, -5.268, -6.2874, -6.4174, -5.5026, -10.0209, -8.555, -4.8857, -7.8449, -5.4436, -5.7073, -5.6333, -5.3232, -5.4076, -5.546, -4.2839, -4.6892, -5.5984, -5.4652, -4.7592, -6.2891, -4.7989, -5.0837, -5.1253, -4.8403, -4.6578, -5.259, -5.5985, -5.2605, -5.0706, -5.3018, -5.5484, -5.5587, -9.4335, -9.2086, -9.5797, -10.0676, -10.0679, -10.0681, -10.0683, -10.0684, -10.0685, -10.0685, -10.0685, -10.0686, -10.0686, -10.0687, -10.0687, -10.0687, -10.0689, -10.069, -10.0692, -10.0693, -10.0688, -10.0704, -10.0697, -10.1368, -10.1385, -9.1758, -10.1715, -10.1631, -10.2012, -10.1626, -8.4332, -8.4212, -8.5087, -9.2974, -8.7271, -3.8165, -5.5917, -4.0823, -4.8602, -4.6056, -5.2256, -4.6573, -5.9618, -4.6434, -5.2852, -5.5275, -5.0489, -4.4723, -5.4874, -4.4605, -6.0601, -5.6304, -4.8551, -6.003, -5.7489, -6.7836, -5.4925, -4.8406, -5.1996, -4.7168, -5.6506, -5.2985, -5.7494, -5.5067, -5.8471, -5.8367, -5.2522, -5.4309, -5.7894, -5.6955, -5.752, -5.7788, -5.7625, -9.4486, -9.9548, -9.9549, -9.955, -9.9551, -9.9554, -9.9557, -9.9557, -9.9558, -9.3385, -10.1455, -9.6794, -9.6774, -10.1623, -10.2111, -10.1788, -10.24, -10.2179, -10.3039, -8.5759, -10.2652, -10.3344, -9.8741, -9.8856, -9.8335, -9.8753, -9.8807, -10.278, -10.3089, -9.9159, -7.0346, -9.3113, -9.2559, -9.2672, -9.4422, -4.5546, -5.4093, -3.8882, -4.5041, -5.7932, -4.3265, -4.1215, -4.3851, -5.5723, -5.9518, -6.0327, -6.4231, -6.2945, -5.9022, -4.7545, -5.5661, -5.11, -5.534, -4.5516, -5.7138, -5.2184, -5.5312, -5.5668, -5.2153, -5.6429, -4.8748, -4.9391, -4.8794, -5.8996, -5.5697, -5.3814, -5.7378, -5.4186, -5.6957, -5.6517, -5.7427, -5.6251, -8.691, -9.0803, -9.1271, -9.144, -9.7261, -9.7262, -9.7263, -9.7264, -9.7265, -9.7266, -9.7267, -9.7267, -9.7268, -9.7268, -9.7268, -9.7269, -9.7269, -9.7269, -9.727, -9.727, -9.727, -9.7271, -9.7272, -9.7272, -9.7272, -9.7276, -9.7276, -9.7276, -9.7278, -9.7281, -7.7708, -8.6723, -7.433, -7.6854, -8.2457, -4.1609, -6.312, -6.4638, -3.9619, -7.0878, -4.1352, -8.6217, -8.3154, -8.354, -8.92, -6.4052, -5.2024, -7.0921, -5.4351, -5.036, -5.7239, -5.5671, -5.2467, -5.5296, -5.2911, -5.2096, -5.3688, -5.4207, -4.5144, -4.7417, -4.7474, -4.8235, -5.5524, -5.6524, -5.2327, -5.2544, -5.5641, -5.0697, -5.0799, -4.9179, -5.7016, -5.7072, -5.7126, -5.7384, -5.7091, -8.6795, -8.68, -8.6809, -9.3256, -9.3256, -9.3256, -9.3259, -9.3259, -9.326, -9.326, -9.326, -9.3262, -9.3262, -9.3263, -9.3265, -9.3265, -9.3266, -9.3266, -9.3266, -9.3267, -9.3268, -9.3269, -9.327, -9.3272, -9.3273, -9.3274, -9.3278, -9.328, -9.3276, -9.3462, -8.98, -8.652, -6.0983, -7.4565, -4.6057, -6.1111, -8.6615, -5.2213, -5.1074, -5.0375, -4.8236, -4.5983, -4.6455, -8.1646, -6.1946, -8.1812, -7.2513, -5.3002, -4.7834, -4.6233, -5.084, -4.862, -4.8128, -5.4301, -5.8201, -4.4647, -4.6556, -5.3908, -5.6077, -5.6904, -5.4291, -5.4746, -4.8593, -5.6875, -5.3339, -4.843, -5.6492, -5.4194, -5.4991, -5.5066, -5.7, -5.6849], \"loglift\": [30.0, 29.0, 28.0, 27.0, 26.0, 25.0, 24.0, 23.0, 22.0, 21.0, 20.0, 19.0, 18.0, 17.0, 16.0, 15.0, 14.0, 13.0, 12.0, 11.0, 10.0, 9.0, 8.0, 7.0, 6.0, 5.0, 4.0, 3.0, 2.0, 1.0, 0.9737, 0.9691, 0.9574, 0.9484, 0.9267, 0.9267, 0.9267, 0.9266, 0.9266, 0.9266, 0.9266, 0.9266, 0.9265, 0.9265, 0.9265, 0.9265, 0.9261, 0.9026, 0.896, 0.8958, 0.8908, 0.8792, 0.8774, 0.8768, 0.8738, 0.8705, 0.8653, 0.8591, 0.8561, 0.856, 0.852, 0.8423, 0.8505, 0.8066, 0.7673, 0.7718, 0.7445, 0.7086, 0.814, 0.6787, 0.7753, 0.7414, 0.2701, 0.4537, 0.6569, 0.3462, 0.7097, 0.2059, 0.4415, 0.1735, 0.4215, 0.2179, 0.6616, 0.1182, 0.1168, 0.0883, 0.1526, 0.3282, 0.461, 0.3086, 0.0132, 0.2766, 0.2917, 0.194, 0.3519, 0.0661, -0.0384, 0.2584, -0.168, 0.1454, 0.1556, 0.1268, 0.1302, 0.2646, -0.0226, -0.1241, -0.0096, -0.0761, -0.1024, 0.1141, 0.0979, 0.0243, 0.0557, 0.1491, 0.0124, -0.0225, -0.0086, -0.0085, -0.2003, 1.4768, 1.4685, 1.4683, 1.4615, 1.4562, 1.4394, 1.3563, 1.3366, 1.3343, 1.3335, 1.3306, 1.3265, 1.3111, 1.3018, 1.2986, 1.2889, 1.2847, 1.2814, 1.2802, 1.2682, 1.2678, 1.2677, 1.2677, 1.2677, 1.2677, 1.2677, 1.2677, 1.2677, 1.2677, 1.2676, 1.2523, 1.2577, 1.2496, 1.2005, 1.2094, 1.1909, 1.1499, 1.1853, 1.221, 1.2023, 1.0139, 1.1078, 0.3808, 0.6095, 0.3685, 0.2405, 0.5248, 0.5074, 0.705, 0.1375, 0.3033, 0.0824, 0.1585, 0.0449, 0.3238, -0.0331, 0.3794, -0.1374, 0.0965, 0.2982, 0.41, 0.4265, 0.0161, -0.0889, 0.1037, 0.1214, 0.1141, 0.1629, 0.1672, 0.16, -0.343, -0.0428, 0.1298, -0.1131, -0.1317, -0.1088, -0.1, -0.0326, -0.1488, -0.0284, -0.0076, 1.7474, 1.7098, 1.6947, 1.6226, 1.6226, 1.6224, 1.6223, 1.6081, 1.6079, 1.6063, 1.6057, 1.577, 1.5757, 1.5717, 1.5614, 1.556, 1.5476, 1.5458, 1.541, 1.5328, 1.5024, 1.5022, 1.4905, 1.4792, 1.4631, 1.4606, 1.46, 1.4356, 1.4246, 1.4139, 1.3858, 0.8125, 0.7626, 0.9402, 0.7798, 0.5305, 0.4919, 0.288, 0.8787, 0.493, 0.4389, 0.7766, 0.4235, 0.2875, 0.1233, 0.1065, 0.4871, 0.3625, 0.2438, 0.6475, -0.0296, 0.4192, 1.071, 1.0436, -0.1477, 0.1035, 0.205, -0.11, 0.1954, -0.1588, 0.3566, 0.3168, 0.0117, -0.0048, -0.1522, 0.1747, 0.131, -0.0457, -0.0456, -0.4481, -0.0393, 0.1386, 0.0335, 0.0666, -0.7527, 1.7719, 1.7692, 1.7044, 1.667, 1.6645, 1.6363, 1.6291, 1.5779, 1.5779, 1.5778, 1.5777, 1.5776, 1.5776, 1.5775, 1.5775, 1.5774, 1.5774, 1.577, 1.5745, 1.5741, 1.5736, 1.5549, 1.5487, 1.5408, 1.5159, 1.5136, 1.5114, 1.4985, 1.494, 1.4835, 1.4269, 1.4367, 1.3761, 1.2837, 1.173, 0.8783, 0.4264, 0.3095, 1.2662, 1.3784, 1.3724, 0.2571, 0.3449, 1.3519, 1.4497, 0.0553, 0.3956, 0.6154, 0.5423, 0.12, 1.2012, -0.1018, 0.2828, 0.2785, 0.2222, 0.2415, 0.1522, 0.101, 0.4366, 0.2637, 0.373, 0.2848, -0.0657, 0.2908, -0.08, -0.0026, 0.1898, 0.2948, 0.2549, 0.118, 0.121, -0.0781, -0.244, 0.044, -0.5862, 0.0295, -0.1974, -0.2914, -0.2762, 1.891, 1.813, 1.7438, 1.7216, 1.6884, 1.6625, 1.6537, 1.6535, 1.6534, 1.6534, 1.6534, 1.6533, 1.6533, 1.6531, 1.6531, 1.6531, 1.6526, 1.6524, 1.5861, 1.5439, 1.5405, 1.5059, 1.4986, 1.4872, 1.4801, 1.4737, 1.4563, 1.4497, 1.4249, 1.4186, 1.395, 1.379, 1.3871, 1.2117, 1.2957, 1.2183, 1.1324, 1.0858, 1.1208, 0.4501, 0.8623, 0.3672, 0.1434, 0.3983, 0.1536, -0.0658, 0.7683, 0.2532, 0.243, -0.0052, -0.1741, 0.0663, 0.2149, -0.0953, -0.0239, -0.0584, 0.2028, 0.0484, 0.3577, 0.1716, 0.3877, 0.0267, 0.104, 0.1351, -0.0316, -0.1684, 0.0978, 0.2375, 0.0959, -0.2886, -0.1461, 0.061, 0.062, 0.0841, -0.2819, -0.0921, 2.5684, 2.524, 2.1762, 2.1761, 2.1761, 2.1761, 2.1761, 2.176, 2.176, 2.176, 2.1759, 2.1759, 2.1759, 2.1759, 2.1759, 2.1758, 2.1758, 2.1758, 2.1758, 2.1758, 2.1757, 2.1757, 2.1757, 2.1757, 2.1756, 2.1756, 2.1756, 2.1756, 2.1755, 2.1755, 2.1489, 2.1232, 2.1108, 0.9273, 2.0414, 2.0991, 0.8197, 0.8063, 0.727, 2.0731, 0.139, 0.1079, 1.0037, 1.2334, -0.0954, 0.3295, 0.3412, 0.6934, 0.7385, 0.3856, 2.0547, 1.5121, 0.081, 1.2244, 0.2764, 0.3787, 0.3112, 0.174, 0.1881, 0.2417, -0.3174, -0.1444, 0.2347, 0.1699, -0.1497, 0.528, -0.1437, -0.0277, -0.025, -0.2, -0.3385, -0.0364, 0.1745, -0.0652, -0.5296, -0.2316, 0.0252, -0.4487, 2.6304, 2.5254, 2.4837, 2.3934, 2.3932, 2.3932, 2.3931, 2.393, 2.393, 2.393, 2.393, 2.3929, 2.3929, 2.3929, 2.3929, 2.3929, 2.3928, 2.3927, 2.3927, 2.3926, 2.3923, 2.3921, 2.3916, 2.344, 2.3427, 2.3246, 2.3189, 2.3186, 2.2973, 2.2919, 2.1407, 2.0973, 2.1022, 2.1941, 1.9865, 0.0031, 0.6103, -0.1158, 0.2099, 0.0039, 0.2716, -0.0021, 0.5709, -0.1025, 0.1944, 0.3055, 0.0611, -0.2118, 0.2166, -0.2942, 0.4385, 0.1996, -0.2147, 0.3726, 0.2339, 0.7666, 0.081, -0.2959, -0.0993, -0.3975, 0.1548, -0.0758, 0.2104, -0.007, 0.2316, 0.1799, -0.2855, -0.3748, 0.0987, -0.176, -0.0375, 0.0229, -0.5672, 2.8526, 2.7317, 2.7316, 2.7316, 2.7315, 2.7313, 2.7312, 2.7311, 2.7311, 2.6268, 2.4797, 2.4774, 2.4746, 2.4582, 2.4098, 2.3937, 2.3846, 2.3368, 2.3002, 2.295, 2.2722, 2.2687, 2.2656, 2.2653, 2.2647, 2.245, 2.243, 2.2216, 2.2168, 2.2119, 2.0115, 2.1433, 2.1351, 2.0837, 2.0762, 0.4122, 0.5505, -0.0687, 0.1511, 0.5824, -0.0659, -0.155, -0.0657, 0.3503, 0.5195, 0.5367, 0.6986, 0.6381, 0.4354, -0.1451, 0.2393, -0.0399, 0.1804, -0.3853, 0.2689, -0.0231, 0.1584, 0.1372, -0.1151, 0.1447, -0.33, -0.2988, -0.3385, 0.2385, -0.07, -0.2713, 0.064, -0.3625, -0.0308, -0.1545, -0.0227, -0.4024, 3.4219, 3.2704, 3.2052, 3.1837, 2.9369, 2.9369, 2.9368, 2.9367, 2.9367, 2.9366, 2.9365, 2.9365, 2.9365, 2.9365, 2.9365, 2.9364, 2.9364, 2.9364, 2.9364, 2.9364, 2.9364, 2.9363, 2.9362, 2.9362, 2.9362, 2.936, 2.936, 2.936, 2.9359, 2.9357, 2.8068, 2.8054, 2.4292, 2.2573, 2.4389, 0.1585, 1.2236, 1.2871, -0.1423, 1.5096, -0.1687, 2.3377, 2.1652, 2.177, 2.4941, 1.0527, 0.3171, 1.4081, 0.4066, 0.1593, 0.5695, 0.4545, 0.2505, 0.4149, 0.2086, 0.1467, 0.2404, 0.2689, -0.348, -0.1969, -0.2065, -0.214, 0.1515, 0.2357, -0.1227, -0.1842, 0.1009, -0.4294, -0.4248, -0.6574, 0.1858, 0.1228, 0.0073, -0.0241, -0.1356, 3.8283, 3.828, 3.8275, 3.4422, 3.4422, 3.4422, 3.442, 3.442, 3.4419, 3.4419, 3.4419, 3.4418, 3.4418, 3.4418, 3.4416, 3.4416, 3.4416, 3.4415, 3.4415, 3.4415, 3.4414, 3.4413, 3.4412, 3.4411, 3.4411, 3.441, 3.4407, 3.4405, 3.4394, 3.4203, 3.3026, 3.0707, 1.6269, 2.3779, 0.5043, 1.3421, 3.0054, 0.6668, 0.4883, 0.3188, 0.1431, -0.0535, -0.0361, 2.5978, 1.1107, 2.5913, 1.8559, 0.309, -0.1431, -0.3039, -0.0138, -0.2068, -0.2719, 0.2348, 0.5488, -0.6451, -0.4893, 0.1287, 0.29, 0.3312, 0.0706, 0.0226, -0.5988, 0.1998, -0.2336, -0.8765, 0.0404, -0.3633, -0.2764, -0.3113, 0.02, -0.1057]}, \"token.table\": {\"Topic\": [1, 2, 3, 4, 5, 6, 7, 8, 9, 10, 5, 7, 1, 2, 3, 4, 5, 6, 7, 8, 9, 10, 4, 1, 2, 3, 4, 5, 6, 7, 8, 9, 10, 4, 1, 6, 7, 1, 2, 3, 4, 5, 6, 7, 8, 9, 10, 4, 1, 2, 3, 4, 5, 6, 7, 8, 7, 1, 2, 3, 4, 5, 6, 7, 8, 9, 10, 8, 1, 2, 3, 4, 5, 6, 7, 8, 9, 10, 1, 2, 3, 4, 5, 6, 7, 8, 9, 10, 6, 1, 2, 3, 4, 5, 6, 10, 9, 4, 2, 9, 4, 9, 3, 1, 2, 3, 4, 5, 6, 7, 8, 9, 10, 1, 2, 3, 5, 6, 7, 7, 5, 6, 2, 3, 9, 4, 6, 2, 1, 2, 5, 8, 2, 6, 7, 1, 4, 1, 2, 3, 4, 5, 6, 7, 8, 9, 10, 9, 1, 2, 3, 4, 5, 6, 7, 9, 1, 2, 4, 3, 1, 2, 3, 4, 5, 6, 7, 8, 9, 10, 1, 2, 3, 4, 5, 9, 1, 2, 3, 4, 5, 9, 1, 2, 3, 4, 5, 6, 7, 8, 9, 10, 1, 2, 3, 5, 8, 7, 6, 1, 2, 3, 4, 5, 6, 7, 5, 9, 1, 2, 5, 5, 1, 2, 3, 4, 5, 6, 7, 9, 9, 4, 3, 1, 2, 3, 4, 5, 6, 7, 8, 9, 10, 1, 2, 3, 5, 9, 1, 2, 3, 4, 1, 4, 5, 6, 1, 2, 3, 4, 5, 7, 1, 2, 3, 8, 4, 5, 6, 8, 9, 1, 2, 1, 2, 3, 4, 5, 6, 9, 1, 2, 7, 1, 2, 3, 4, 5, 6, 7, 9, 1, 2, 3, 4, 5, 6, 7, 8, 9, 10, 9, 1, 2, 3, 4, 5, 6, 7, 8, 9, 10, 6, 1, 2, 3, 4, 5, 6, 7, 8, 9, 10, 3, 5, 1, 3, 6, 1, 2, 3, 4, 5, 6, 7, 8, 9, 10, 5, 1, 2, 3, 4, 5, 7, 1, 2, 3, 4, 5, 6, 7, 8, 9, 10, 1, 2, 3, 4, 5, 1, 2, 3, 4, 5, 6, 7, 8, 9, 10, 5, 1, 1, 9, 1, 2, 4, 5, 1, 2, 6, 1, 2, 3, 4, 5, 6, 7, 8, 1, 2, 3, 4, 5, 6, 7, 8, 9, 10, 7, 4, 3, 4, 5, 1, 4, 10, 1, 2, 3, 4, 5, 7, 1, 2, 3, 4, 5, 6, 7, 8, 9, 10, 9, 1, 2, 3, 4, 5, 6, 7, 9, 1, 2, 1, 2, 3, 4, 5, 6, 7, 9, 10, 6, 6, 3, 4, 9, 1, 2, 3, 4, 5, 6, 7, 8, 9, 10, 1, 3, 7, 1, 2, 3, 4, 5, 6, 7, 8, 9, 10, 1, 4, 5, 8, 7, 1, 2, 4, 5, 5, 7, 9, 4, 1, 2, 3, 4, 5, 6, 7, 8, 9, 10, 9, 1, 2, 3, 4, 5, 6, 7, 8, 9, 10, 7, 5, 10, 1, 2, 3, 4, 5, 6, 1, 2, 3, 4, 5, 7, 8, 1, 4, 1, 2, 3, 4, 5, 6, 7, 8, 1, 2, 3, 4, 5, 6, 7, 8, 7, 4, 1, 2, 5, 9, 6, 4, 8, 1, 2, 4, 1, 2, 3, 4, 5, 6, 7, 8, 9, 10, 1, 2, 3, 4, 5, 6, 7, 8, 9, 1, 2, 3, 4, 5, 6, 7, 8, 9, 10, 1, 5, 2, 6, 7, 5, 8, 8, 1, 4, 3, 1, 3, 4, 5, 10, 1, 2, 4, 5, 6, 9, 1, 2, 3, 3, 1, 2, 3, 4, 5, 6, 7, 8, 9, 10, 5, 8, 1, 2, 3, 4, 5, 6, 7, 8, 9, 10, 2, 3, 5, 7, 5, 5, 1, 2, 3, 4, 5, 6, 7, 8, 9, 10, 1, 2, 4, 6, 1, 1, 2, 3, 4, 5, 6, 7, 8, 9, 10, 6, 4, 7, 1, 2, 3, 4, 5, 6, 7, 7, 1, 2, 3, 4, 5, 6, 7, 8, 9, 10, 1, 2, 3, 4, 5, 6, 7, 8, 9, 10, 4, 7, 1, 2, 3, 4, 5, 6, 7, 8, 9, 10, 2, 4, 6, 1, 2, 3, 4, 5, 6, 7, 8, 9, 10, 1, 5, 1, 2, 3, 4, 5, 6, 7, 8, 9, 10, 2, 6, 1, 2, 3, 4, 5, 6, 7, 8, 9, 10, 1, 2, 3, 4, 5, 6, 7, 8, 4, 3, 1, 2, 3, 4, 5, 6, 7, 8, 9, 10, 6, 5, 5, 3, 1, 2, 3, 4, 5, 6, 7, 8, 9, 10, 9, 7, 1, 2, 7, 1, 2, 1, 2, 3, 4, 5, 6, 7, 6, 1, 2, 4, 1, 2, 3, 4, 5, 6, 7, 8, 9, 10, 1, 2, 3, 4, 5, 6, 7, 8, 9, 10, 7, 1, 1, 2, 3, 4, 5, 6, 7, 8, 9, 1, 2, 3, 4, 5, 6, 7, 8, 9, 10, 8, 1, 2, 3, 4, 5, 6, 7, 8, 9, 10, 9, 7, 2, 1, 2, 3, 4, 5, 6, 7, 8, 9, 10, 9, 1, 2, 3, 4, 5, 6, 7, 8, 9, 10, 3, 1, 2, 3, 4, 5, 6, 7, 8, 9, 10, 1, 2, 3, 4, 5, 10, 6, 3, 9, 4, 1, 2, 3, 4, 5, 6, 7, 8, 9, 10, 5, 1, 3, 5, 1, 3, 4, 5, 6, 7, 3, 1, 2, 3, 4, 5, 6, 7, 8, 9, 10, 9, 2, 7, 1, 2, 3, 4, 5, 6, 7, 8, 9, 10, 1, 2, 3, 4, 5, 6, 7, 8, 9, 10, 9, 1, 3, 4, 4, 1, 2, 3, 4, 5, 6, 7, 8, 9, 10, 2, 1, 2, 3, 4, 5, 6, 7, 8, 9, 10, 1, 2, 3, 4, 5, 6, 7, 8, 9, 10, 6, 1, 2, 3, 4, 5, 6, 7, 8, 9, 10, 1, 2, 3, 5, 6, 7, 1, 2, 3, 4, 5, 6, 7, 8, 9, 10, 6, 9, 1, 2, 3, 4, 5, 6, 7, 8, 9, 10, 1, 2, 3, 4, 1, 2, 3, 4, 5, 6, 7, 8, 9, 10, 2, 4, 8, 5, 3, 6, 2, 6, 9, 10, 4, 1, 3, 1, 2, 1, 2, 3, 4, 5, 6, 7, 1, 2, 3, 4, 5, 6, 7, 8, 9, 10, 1, 2, 3, 4, 5, 6, 7, 8, 9, 10, 1, 2, 3, 4, 5, 6, 7, 8, 9, 1, 1, 4, 1, 2, 4, 1, 2, 3, 4, 5, 6, 7, 8, 9, 10, 2, 1, 3, 9, 1, 2, 3, 4, 5, 6, 8, 1, 2, 6, 2, 1, 2, 3, 4, 5, 6, 7, 8, 9, 10, 2, 6, 1, 2, 3, 4, 5, 6, 7, 8, 9, 10, 6, 5, 1, 2, 3, 4, 5, 6, 7, 8, 9, 10, 1, 2, 3, 4, 5, 6, 7, 8, 9, 10, 1, 2, 3, 4, 5, 1, 2, 3, 4, 5, 6, 7, 8, 9, 10, 1, 2, 3, 4, 5, 6, 7, 8, 9, 10, 1, 5, 1, 2, 3, 4, 5, 9, 9, 1, 2, 3, 4, 5, 6, 1, 1, 2, 3, 4, 5, 6, 1, 2, 3, 4, 5, 6, 7, 8, 9, 10, 6, 4, 6, 1, 2, 3, 4, 5, 6, 7, 8, 9, 10, 1, 2, 3, 4, 5, 6, 7, 8, 9, 10, 1, 2, 3, 4, 5, 6, 7, 8, 9, 10, 1, 2, 4, 5, 1, 2, 3, 4, 5, 6, 7, 8, 1, 2, 3, 4, 5, 6, 7, 8, 1, 2, 3, 4, 5, 6, 7, 8, 9, 10, 1, 4, 1, 2, 3, 4, 5, 6, 7, 8, 9, 10, 7, 1, 2, 3, 1, 2, 3, 4, 5, 6, 7, 8, 9, 10, 2, 7, 1, 2, 3, 4, 5, 6, 9, 1, 2, 3, 4, 5, 6, 7, 8, 9, 10, 3, 1, 2, 3, 4, 5, 6, 7, 8, 9, 10, 1, 2, 3, 4, 5, 6, 7, 8, 9, 8, 3, 5, 3, 6, 1, 2, 3, 4, 5, 6, 7, 8, 9, 10, 1, 2, 3, 4, 5, 6, 7, 8, 9, 10, 1, 2, 3, 4, 5, 6, 7, 8, 9, 10, 1, 3, 4, 5, 6, 7, 9, 1, 2, 1, 2, 3, 4, 5, 6, 7, 8, 1, 2, 3, 4, 5, 6, 7, 8, 1, 3, 4, 3, 1, 2, 4, 5, 1, 2, 3, 4, 5, 6, 7, 8, 9, 10, 1, 2, 3, 4, 5, 6, 7, 8, 9, 10, 1, 2, 3, 4, 5, 6, 7, 8, 9, 10, 1, 2, 3, 4, 5, 6, 7, 8, 9, 10, 1, 3, 2, 4, 2, 6, 1, 2, 3, 4, 5, 6, 7, 8, 9, 10, 2, 3, 4, 6, 4, 1, 2, 3, 4, 5, 6, 7, 8, 9, 10, 2, 2, 5, 9, 3, 1, 2, 3, 4, 5, 6, 7, 8, 9, 10, 1, 2, 3, 4, 5, 6, 7, 8, 9, 10, 1, 3, 10, 1, 2, 3, 4, 5, 6, 7, 8, 9, 10, 1, 2, 3, 4, 5, 6, 7, 8, 9, 10, 1, 2, 3, 5, 6, 9, 1, 2, 3, 4, 5, 6, 7, 8, 9, 10, 4, 1, 2, 3, 4, 5, 6, 7, 8, 9, 10, 1, 2, 3, 4, 5, 6, 7, 8, 9, 10, 1, 2, 3, 4, 5, 6, 7, 8, 9, 10, 1, 2, 3, 4, 5, 6, 7, 8, 9, 10, 5, 3, 6, 1, 2, 3, 4, 5, 6, 7, 8, 9, 10, 1, 3, 1, 2, 3, 4, 5, 6, 7, 8, 9, 10, 1, 2, 3, 4, 5, 6, 7, 8, 9, 10, 1, 2, 3, 4, 5, 4, 3, 10, 1, 5, 7, 1, 3, 2, 3, 4, 7, 2, 4, 7, 1, 2, 3, 4, 5, 6, 7, 8, 9, 10, 2, 6, 7, 6, 6, 1, 2, 3, 4, 5, 6, 7, 8, 9, 10, 6, 5, 1, 2, 3, 4, 5, 6, 7, 8, 9, 10, 1, 2, 3, 4, 5, 6, 7, 8, 9, 10, 2, 5, 1, 2, 3, 4, 5, 6, 7, 8, 9, 10, 6, 9, 1, 2, 3, 4, 5, 6, 7, 8, 9, 10, 2, 3, 9, 2, 1, 2, 3, 4, 5, 6, 7, 8, 9, 10, 1, 2, 4, 5, 8, 1, 2, 3, 4, 5, 6, 7, 8, 9, 10, 2, 1, 8, 6, 1, 7, 4, 1, 2, 3, 4, 5, 6, 7, 8, 9, 10, 1, 3, 1, 2, 3, 4, 1, 2, 3, 4, 5, 6, 7, 8, 9, 10, 1, 2, 3, 4, 5, 6, 7, 8, 9, 10, 1, 1, 2, 3, 4, 5, 6, 7, 8, 9, 10, 1, 2, 3, 4, 5, 6, 7, 8, 9, 10, 2, 1, 2, 3, 4, 5, 6, 7, 8, 9, 10, 9, 7, 6, 5, 1, 2, 3, 4, 5, 6, 7, 8, 9, 10, 7, 1, 2, 3, 4, 5, 9, 9, 6, 1, 2, 3, 4, 5, 6, 7, 3, 5, 7, 1, 1, 2, 3, 4, 5, 6, 7, 8, 9, 1, 2, 3, 4, 5, 6, 7, 8, 9, 10, 1, 3, 6, 1, 2, 4, 6, 1, 2, 3, 4, 5, 6, 7, 1, 2, 3, 4, 6, 9, 5, 1, 1, 2, 3, 4, 5, 6, 7, 8, 1, 2, 3, 4, 5, 6, 7, 8, 9, 10, 4, 1, 2, 3, 4, 5, 6, 7, 8, 1, 2, 3, 4, 5, 6, 7, 8, 9, 10, 5, 5, 2, 10, 2, 7, 1, 2, 3, 4, 5, 6, 7, 8, 9, 10, 1, 2, 3, 4, 5, 7, 1, 2, 3, 4, 5, 6, 7, 8, 9, 10, 6, 1, 2, 1, 2, 3, 4, 5, 6, 7, 8, 9, 10, 1, 2, 3, 4, 5, 6, 7, 8, 9, 10, 1, 1, 2, 3, 4, 5, 6, 7, 8, 9, 10, 4, 1, 2, 3, 4, 5, 6, 7, 8, 9, 10, 1, 2, 3, 4, 5, 6, 7, 8, 9, 10], \"Freq\": [0.2596579449919994, 0.16309094065613183, 0.14163160635927238, 0.2231770766873383, 0.057940202601520524, 0.04935646888277674, 0.05364833574214863, 0.021459334296859454, 0.019313400867173508, 0.008583733718743781, 0.2434154273912566, 0.4868308547825132, 0.19146884179276458, 0.12389160351296533, 0.14641734960623173, 0.14641734960623173, 0.11262873046633211, 0.07884011132643248, 0.09010298437306569, 0.005631436523316605, 0.05068292870984945, 0.05068292870984945, 0.534537419269974, 0.15698673853745568, 0.17711324347815513, 0.31397347707491136, 0.10264517519756718, 0.09861987420942729, 0.0764807187746579, 0.032202407905119114, 0.012075902964419669, 0.02213915543476939, 0.010063252470349723, 0.5316262334559169, 0.8878235295461949, 0.6856640271876506, 0.6420451353780317, 0.22430111416813817, 0.1345806685008829, 0.20187100275132436, 0.1345806685008829, 0.08972044566725527, 0.04486022283362764, 0.06729033425044145, 0.02243011141681382, 0.02243011141681382, 0.06729033425044145, 0.5311118707116189, 0.5624285615559914, 0.08034693736514163, 0.08034693736514163, 0.11248571231119828, 0.09641632483816995, 0.016069387473028326, 0.016069387473028326, 0.016069387473028326, 0.6417543903808786, 0.27712506180614827, 0.16645947972049838, 0.18674816976953418, 0.15124296218372152, 0.08161586678816679, 0.05394947126675432, 0.04518844601830704, 0.017060943904871024, 0.012449877984635612, 0.007838812064400201, 0.4706171041007997, 0.304200423738913, 0.20453361824040875, 0.15773355304980674, 0.11873349872430508, 0.09100012675950389, 0.046800065190602, 0.03466671495600148, 0.019933361099700852, 0.01473335385630063, 0.007800010865100333, 0.2519128199193286, 0.2895361631540336, 0.16521555072631294, 0.07361088893746616, 0.07688248400135354, 0.06052450868191662, 0.03435174817081754, 0.02780855804304277, 0.014722177787493232, 0.004907392595831077, 0.4416010359642989, 0.13925147739287816, 0.18566863652383755, 0.2785029547857563, 0.09283431826191878, 0.13925147739287816, 0.04641715913095939, 0.09283431826191878, 0.7856627753461591, 0.535921145902968, 0.5441541777504588, 0.785600159132898, 0.531555575119506, 0.7856676549043314, 0.728587589782093, 0.24773776973590053, 0.16185534289412168, 0.15855217263097635, 0.14203632131524965, 0.11561095921008692, 0.03798645802617141, 0.07597291605234283, 0.023122191842017383, 0.028076947236735393, 0.009909510789436022, 0.10089351479796164, 0.10089351479796164, 0.10089351479796164, 0.10089351479796164, 0.10089351479796164, 0.4035740591918466, 0.6420092900522624, 0.6021196827991212, 0.685656845285243, 0.7036859465267166, 0.7285576098279942, 0.7857548074463098, 0.5311235085246625, 0.6854198554408181, 0.5441422781255094, 0.25002919217287034, 0.25002919217287034, 0.25002919217287034, 0.25002919217287034, 0.5440350729316986, 0.6854511947764432, 0.6546068452361966, 0.25376679911656563, 0.5075335982331313, 0.38893709237969804, 0.18964701198679493, 0.09000197179034335, 0.07232301304581162, 0.10928810860255979, 0.05625123236896459, 0.03375073942137876, 0.04178662975980227, 0.014464602609162325, 0.004821534203054108, 0.5616518702478884, 0.2591345836129257, 0.06478364590323142, 0.0863781945376419, 0.12956729180646284, 0.21594548634410474, 0.19435093770969428, 0.021594548634410474, 0.04318909726882095, 0.14754753648355914, 0.5901901459342366, 0.14754753648355914, 0.7324672272571929, 0.2600203847656508, 0.13510863129979897, 0.168248484260127, 0.1504039480507196, 0.13255941184131217, 0.04588595025276191, 0.02549219458486773, 0.048435169711248685, 0.022942975126380955, 0.010196877833947092, 0.1400047558995649, 0.07000237794978245, 0.07000237794978245, 0.49001664564847713, 0.07000237794978245, 0.07000237794978245, 0.08417124555124737, 0.5891987188587315, 0.08417124555124737, 0.08417124555124737, 0.08417124555124737, 0.7856293721286371, 0.33977097225338837, 0.14390300001319978, 0.1367078500125398, 0.11752078334411316, 0.11512240001055983, 0.0663552722283088, 0.035176288892115506, 0.01918706666842664, 0.01678868333487331, 0.008794072223028877, 0.1730090666892405, 0.1730090666892405, 0.1730090666892405, 0.5190272000677214, 0.1730090666892405, 0.6423086689284058, 0.685799122594377, 0.07437074349506217, 0.07437074349506217, 0.14874148699012435, 0.48340983271790416, 0.07437074349506217, 0.03718537174753109, 0.03718537174753109, 0.4097936165054134, 0.7854732716122012, 0.6216446563486825, 0.1243289312697365, 0.1243289312697365, 0.6022116650348996, 0.10344780827686102, 0.15517171241529154, 0.3103434248305831, 0.05172390413843051, 0.10344780827686102, 0.05172390413843051, 0.05172390413843051, 0.20689561655372204, 0.7856834398804103, 0.5312582632571147, 0.7445431341168303, 0.2990610961017115, 0.2039468637023904, 0.12803838976831683, 0.13535486918364922, 0.10060159196082037, 0.04664255627274399, 0.0429843165650778, 0.021034878319080623, 0.01554751875758133, 0.006401919488415842, 0.2172311160447868, 0.1086155580223934, 0.2172311160447868, 0.1086155580223934, 0.2172311160447868, 0.146801879037127, 0.146801879037127, 0.146801879037127, 0.587207516148508, 0.7542231488979849, 0.08380257209977611, 0.08380257209977611, 0.08380257209977611, 0.6506637163744495, 0.04647597974103211, 0.04647597974103211, 0.04647597974103211, 0.09295195948206422, 0.04647597974103211, 0.21147303440304457, 0.21147303440304457, 0.21147303440304457, 0.21147303440304457, 0.2345783438258757, 0.2345783438258757, 0.2345783438258757, 0.2345783438258757, 0.7857493206116593, 0.2114598725642608, 0.6343796176927824, 0.09543669978756335, 0.23859174946890835, 0.14315504968134501, 0.047718349893781674, 0.23859174946890835, 0.047718349893781674, 0.23859174946890835, 0.8880215881673046, 0.8336299132928936, 0.6420580260508093, 0.12843356851102897, 0.07706014110661738, 0.43667413293749846, 0.10274685480882317, 0.10274685480882317, 0.07706014110661738, 0.05137342740441159, 0.025686713702205793, 0.2541050076412713, 0.21268701080106409, 0.20149295760100808, 0.07388075112036963, 0.10858231604054325, 0.05037323940025202, 0.05149264472025762, 0.02910453832014561, 0.014552269160072805, 0.005597026600028002, 0.7858568315381269, 0.4260671529571094, 0.07947366583655927, 0.1346637115563921, 0.13245610972759878, 0.07726606400776595, 0.06181285120621276, 0.04194443474707294, 0.028698823774313067, 0.011038009143966564, 0.004415203657586626, 0.6858472721157799, 0.43405339568175866, 0.12738523568921178, 0.1321032073814048, 0.0660516036907024, 0.07548754707508847, 0.0330258018453512, 0.049538702768026806, 0.03774377353754423, 0.03538478769144772, 0.004717971692193029, 0.39292903891954095, 0.39292903891954095, 0.888388295131407, 0.7788436121777984, 0.6856990483807799, 0.3049550483833607, 0.12266348314861436, 0.12947812110131515, 0.20103181960467353, 0.12607080212496477, 0.03066587078715359, 0.04770246566890558, 0.017036594881751993, 0.013629275905401595, 0.005110978464525598, 0.7894628289071217, 0.6428888184019854, 0.10714813640033091, 0.10714813640033091, 0.10714813640033091, 0.10714813640033091, 0.6418408686856063, 0.2472326409850423, 0.18879583493403232, 0.16557095047786166, 0.14659147500830286, 0.105885494724907, 0.0481978784950638, 0.04869733837584166, 0.02172650481383705, 0.017231365886836283, 0.009989197615557265, 0.10106561727759106, 0.10106561727759106, 0.20213123455518212, 0.10106561727759106, 0.40426246911036423, 0.19796383342799884, 0.12038341221972902, 0.3183472456477279, 0.09095635589935082, 0.08293079508470222, 0.11235785140508042, 0.03477743019681061, 0.010700747752864802, 0.024076682443945806, 0.005350373876432401, 0.6023469699988084, 0.8881650363515875, 0.24004613536453023, 0.24004613536453023, 0.1780633683183454, 0.11870891221223027, 0.5341901049550363, 0.11870891221223027, 0.2085352257303438, 0.6256056771910314, 0.2085352257303438, 0.5972103479086164, 0.07026004093042545, 0.08782505116303183, 0.08782505116303183, 0.07026004093042545, 0.03513002046521273, 0.017565010232606364, 0.017565010232606364, 0.27727891767699936, 0.23412266589847805, 0.11760078609647054, 0.13162656792448996, 0.11652187980200751, 0.04099843918959523, 0.04207734548405827, 0.023735938478186714, 0.010789062944630326, 0.006473437766778195, 0.6419004055433091, 0.5313689022785546, 0.2273474835628672, 0.2273474835628672, 0.4546949671257344, 0.30670560378246225, 0.30670560378246225, 0.30670560378246225, 0.23914647940707034, 0.04782929588141407, 0.14348788764424222, 0.04782929588141407, 0.43046366293272664, 0.04782929588141407, 0.323479755248623, 0.15985479746551998, 0.14703625238573773, 0.09802416825715848, 0.13270964317892225, 0.04825805206506264, 0.04674998793802943, 0.021866929841981506, 0.01583467333384868, 0.004524192381099622, 0.7856615676606326, 0.10960911294625512, 0.5845819357133607, 0.07307274196417009, 0.10960911294625512, 0.07307274196417009, 0.036536370982085044, 0.036536370982085044, 0.036536370982085044, 0.7247398984901101, 0.09059248731126376, 0.19378854869174073, 0.07267070575940277, 0.09689427434587036, 0.411800665969949, 0.09689427434587036, 0.02422356858646759, 0.02422356858646759, 0.04844713717293518, 0.02422356858646759, 0.7231145749314444, 0.7144670788090055, 0.5240237552114031, 0.26201187760570155, 0.7854884605620074, 0.25708662548293665, 0.1749093756951358, 0.10781052036381214, 0.17189369680384034, 0.12892027260288025, 0.059559658103085035, 0.04146558475531236, 0.030156788912954445, 0.02110975223906811, 0.007539197228238611, 0.7101393716734979, 0.118356561945583, 0.118356561945583, 0.2615109405238854, 0.16574637075457524, 0.19766789401101195, 0.09453681887483181, 0.08839806440244014, 0.055248790251525084, 0.08962581529691847, 0.014733010733740023, 0.02332726699508837, 0.009822007155826682, 0.22012560486233657, 0.22012560486233657, 0.22012560486233657, 0.22012560486233657, 0.6421121170965818, 0.07884947831159742, 0.6307958264927793, 0.07884947831159742, 0.07884947831159742, 0.6027609933858332, 0.6420835258514459, 0.7854028180704777, 0.7725848741292246, 0.3437582209918737, 0.12345794317338747, 0.09347529983127909, 0.17700983021223346, 0.12522162807586443, 0.062209976560096546, 0.036075373005210624, 0.01715584405136683, 0.015071489166621328, 0.006413399645370778, 0.7855535586018674, 0.27729778425439916, 0.17285140397820636, 0.16843817664259259, 0.09929761505131005, 0.1243059032864548, 0.04707442491321365, 0.04192565968833091, 0.029421515570758533, 0.027950439792220606, 0.01103306833903445, 0.6375689121660914, 0.6106710807583353, 0.6726329941270671, 0.6695254845502404, 0.1115875807583734, 0.0557937903791867, 0.0557937903791867, 0.0557937903791867, 0.0557937903791867, 0.5977582088898745, 0.14064899032702932, 0.10548674274527198, 0.03516224758175733, 0.03516224758175733, 0.03516224758175733, 0.03516224758175733, 0.6596229110864108, 0.5325867472361904, 0.2342926061243088, 0.1171463030621544, 0.1171463030621544, 0.0585731515310772, 0.0585731515310772, 0.2342926061243088, 0.0585731515310772, 0.0585731515310772, 0.1879128546190593, 0.10249792070130508, 0.17082986783550846, 0.1537468810519576, 0.11958090748485592, 0.1879128546190593, 0.05124896035065254, 0.017082986783550847, 0.6426807778194579, 0.5314642707481547, 0.7245667447149672, 0.12076112411916119, 0.12076112411916119, 0.7855943414526557, 0.6857430174185568, 0.5319598652999691, 0.45988433557169983, 0.14989778569533208, 0.5995911427813283, 0.14989778569533208, 0.25916507772043046, 0.17670346208211168, 0.16242439443911277, 0.12958253886021523, 0.11601742459936626, 0.060686037482745425, 0.03641162248964726, 0.03819650594502212, 0.008924417276874328, 0.012137207496549085, 0.2561537496745347, 0.3514667728092453, 0.08339889524287177, 0.1489265986479853, 0.05957063945919412, 0.05361357551327471, 0.02978531972959706, 0.011914127891838823, 0.005957063945919412, 0.36365624359367194, 0.2080451998233565, 0.10317688771727437, 0.10994258527250547, 0.08287979505158105, 0.027062790220924424, 0.05581700483065662, 0.023679941443308872, 0.02029709266569332, 0.006765697555231106, 0.8880499898284961, 0.6022218586387694, 0.6808722728308926, 0.6854423771450111, 0.6420454882666694, 0.45645214581892, 0.45645214581892, 0.47339406697021214, 0.5963375883828469, 0.5339102255731051, 0.7287146488982914, 0.11740491289058608, 0.23480982578117215, 0.23480982578117215, 0.11740491289058608, 0.11740491289058608, 0.07879510195208864, 0.07879510195208864, 0.5515657136646205, 0.07879510195208864, 0.07879510195208864, 0.7856084078589446, 0.6888145773890721, 0.09840208248415316, 0.09840208248415316, 0.8568891093863154, 0.31787811766148577, 0.16503830036600842, 0.10404588501335314, 0.15714516426154715, 0.1155268102562059, 0.038748122694628066, 0.04090079617766296, 0.024396966141062116, 0.023679408313383818, 0.012916040898209354, 0.4580230741458866, 0.4580230741458866, 0.2989921104157506, 0.2037518037036838, 0.13973782706114712, 0.1436411183198384, 0.09367899020859025, 0.05425574849580852, 0.03317797569887571, 0.017564810664110673, 0.007416253391513395, 0.007416253391513395, 0.13400018861231283, 0.6700009430615641, 0.13400018861231283, 0.13400018861231283, 0.6025717838403588, 0.6020795147625602, 0.28345140593958273, 0.16816497386000295, 0.12500263056926886, 0.1679781238890474, 0.12649743033691332, 0.03979904381353403, 0.0326987449172228, 0.023543096340400412, 0.025037896108044886, 0.007660848809177913, 0.1933157240734199, 0.09665786203670995, 0.6766050342569696, 0.6855863800268636, 0.6550717704886901, 0.2287521619651274, 0.19295275200241516, 0.17960381947394619, 0.08798160075581823, 0.12014039275622075, 0.06674466264234487, 0.0637108143404201, 0.021843707773858318, 0.0273046347173229, 0.010921853886929159, 0.6856372718502438, 0.31017894763400294, 0.6203578952680059, 0.607158719259578, 0.1214317438519156, 0.040477247950638534, 0.040477247950638534, 0.1214317438519156, 0.040477247950638534, 0.642170232941015, 0.6419246626511037, 0.21168455440649828, 0.1496390815632143, 0.24879018032257985, 0.1125334556471327, 0.09002676451770616, 0.07786098552882695, 0.04805482700607288, 0.02372326902831446, 0.026156424826090305, 0.01094920108999129, 0.4458637280182389, 0.18303879360748757, 0.0844794432034558, 0.07978614080326381, 0.07039953600287983, 0.05162632640211188, 0.03285311680134392, 0.009386604800383978, 0.028159814401151933, 0.014079907200575966, 0.6890016609749494, 0.6551691637669713, 0.32266541302510005, 0.14548752998006742, 0.1368447064168951, 0.10227341216420582, 0.1555708241371018, 0.05329741197289599, 0.040333176628137506, 0.012964235344758485, 0.021607058907930805, 0.010083294157034376, 0.6432124416087494, 0.10720207360145821, 0.10720207360145821, 0.27660285655337224, 0.17028363356566978, 0.14089458005687397, 0.1521315711043547, 0.1175562140351832, 0.04840549989684014, 0.04840549989684014, 0.018152062461315052, 0.01988083031477363, 0.006915071413834305, 0.29128502866348566, 0.5825700573269713, 0.18744597578886493, 0.12680168950423215, 0.33078701609799693, 0.12404513103674886, 0.1047492217643657, 0.05237461088218285, 0.011026233869933231, 0.03859181854476631, 0.019295909272383154, 0.008269675402449923, 0.5441277533663338, 0.6856320512925369, 0.15840093075045494, 0.17237748346373039, 0.19101288708143097, 0.15840093075045494, 0.08851816718407778, 0.04658850904425146, 0.05590621085310175, 0.03261195633097602, 0.07454161447080233, 0.02329425452212573, 0.22037489644972266, 0.4848247721893899, 0.044074979289944534, 0.08814995857988907, 0.0661124689349168, 0.022037489644972267, 0.022037489644972267, 0.022037489644972267, 0.7244835134722748, 0.732439640767583, 0.15913098711382118, 0.23684612035545477, 0.2109410759415769, 0.09991945702495748, 0.1739338696360371, 0.022204323783323886, 0.03700720630553981, 0.022204323783323886, 0.0074014412611079616, 0.03330648567498583, 0.4543021516456841, 0.6352261110264299, 0.6417431639446796, 0.5473051834108593, 0.30855254594560166, 0.1744350393079135, 0.14399118810794745, 0.13905434737281783, 0.0913315535998981, 0.0370263055134722, 0.049368407351296266, 0.027152624043212947, 0.018924556151330235, 0.010696488259447525, 0.5642573730295933, 0.6418124863014217, 0.09723092767310511, 0.29169278301931534, 0.38892371069242043, 0.6626917900136996, 0.22089726333789986, 0.08978325515932899, 0.4189885240768686, 0.02992775171977633, 0.02992775171977633, 0.35913302063731595, 0.02992775171977633, 0.02992775171977633, 0.6855105508060824, 0.14012687723310016, 0.5605075089324006, 0.21019031584965023, 0.19451733418141273, 0.17163294192477593, 0.07151372580198997, 0.31179984449667625, 0.10584031418694516, 0.05148988257743278, 0.057210980641591976, 0.011442196128318396, 0.017163294192477592, 0.008581647096238796, 0.27354715831158766, 0.1553121666919707, 0.14006932805111416, 0.18332603230219352, 0.10505199603833562, 0.035841269236608624, 0.051496076489380205, 0.01936252476000696, 0.018950556148091918, 0.017302681700431748, 0.6548806996710834, 0.8880072551045899, 0.5374482782241679, 0.10402224739822603, 0.10402224739822603, 0.08668520616518836, 0.08668520616518836, 0.017337041233037673, 0.03467408246607535, 0.017337041233037673, 0.017337041233037673, 0.09429655426404705, 0.10776749058748235, 0.2424768538218353, 0.10776749058748235, 0.053883745293741174, 0.08082561794061176, 0.12123842691091764, 0.06735468161717646, 0.09429655426404705, 0.013470936323435293, 0.47117802873287806, 0.19555294624149408, 0.1704360540636875, 0.2395075075526556, 0.09508537753026776, 0.10136460057471941, 0.08252693144136447, 0.053821911809585524, 0.013455477952396381, 0.026910955904792762, 0.020631732860341118, 0.7857161609676957, 0.4311772682521871, 0.7170031552611176, 0.12994619837831356, 0.2539857513757947, 0.16981605469893252, 0.10927293954540004, 0.13880616644956223, 0.07383306726040544, 0.05758979246311624, 0.026579904213745956, 0.026579904213745956, 0.014766613452081087, 0.7858697130978564, 0.21896307055239092, 0.19619626810963467, 0.17811674852274, 0.1653941236282586, 0.08838876242481836, 0.06763079549171708, 0.03883748651999595, 0.010713789384826467, 0.01874913142344632, 0.016740295913791354, 0.7291650730416487, 0.3634229975347273, 0.12935394827507243, 0.10471510098458245, 0.0954755332506487, 0.0954755332506487, 0.04311798275835747, 0.07699639778278121, 0.049277694580979976, 0.03387841502442373, 0.006159711822622497, 0.23719097577359946, 0.11859548788679973, 0.23719097577359946, 0.11859548788679973, 0.11859548788679973, 0.11859548788679973, 0.6856972624976453, 0.558963909814538, 0.7856730545875628, 0.531458323042249, 0.3982044053959104, 0.13580381455698678, 0.09207038275049952, 0.09897566145678698, 0.1496143719695617, 0.057543989219062196, 0.02301759568762488, 0.025319355256387368, 0.013810557412574928, 0.009207038275049952, 0.6467783014096937, 0.1413074951776576, 0.1413074951776576, 0.5652299807106304, 0.206724650786499, 0.13781643385766598, 0.413449301572998, 0.06890821692883299, 0.06890821692883299, 0.06890821692883299, 0.7648718378640528, 0.31447582812689845, 0.19945557511290402, 0.1257380493175712, 0.11998703666687148, 0.09175479274525467, 0.04836078819906585, 0.04836078819906585, 0.029277882585380405, 0.014116121960808409, 0.008626518976049583, 0.7860410306965104, 0.5441129968830576, 0.6421236348479239, 0.19440179091785514, 0.17989419458070177, 0.18279571384813245, 0.0783410202206282, 0.14072368447038766, 0.12476532849951896, 0.05077658718003679, 0.015958355970868705, 0.014507596337153369, 0.017409115604584042, 0.1791314331922964, 0.15023926654837763, 0.20802359983621518, 0.15601769987716138, 0.06934119994540507, 0.052005899959053796, 0.04622746663027004, 0.03467059997270253, 0.07511963327418882, 0.02311373331513502, 0.7854210606386569, 0.14929478721754058, 0.5971791488701623, 0.14929478721754058, 0.5321911576916104, 0.2660109976432055, 0.22739649798532083, 0.14158649874557713, 0.06864799939179497, 0.08580999923974371, 0.042904999619871854, 0.06864799939179497, 0.034323999695897486, 0.021452499809935927, 0.03861449965788467, 0.5441523027434177, 0.2834752783154581, 0.16228437308968485, 0.15671237744712055, 0.12119090522577323, 0.1379068921534661, 0.0661674482554509, 0.02785997821282143, 0.02159148311493661, 0.017412486383013397, 0.005571995642564286, 0.24865223054646515, 0.12055865723464977, 0.11302374115748416, 0.12809357331181537, 0.23358239839213393, 0.03767458038582805, 0.060279328617324886, 0.02260474823149683, 0.02260474823149683, 0.007534916077165611, 0.6856035397628344, 0.36273453461292987, 0.16449589360353797, 0.14340667647487926, 0.07873307728032586, 0.10263419002613908, 0.03655464302300844, 0.0590498079602444, 0.03936653864016293, 0.008435686851463486, 0.00562379123430899, 0.11181279424080498, 0.11181279424080498, 0.11181279424080498, 0.11181279424080498, 0.22362558848160996, 0.33543838272241494, 0.12319382397249244, 0.1339063304048831, 0.3160189397555241, 0.12319382397249244, 0.1606875964858597, 0.09641255789151582, 0.021425012864781292, 0.010712506432390646, 0.010712506432390646, 0.005356253216195323, 0.6857879029615263, 0.7859460210950313, 0.2737472480325738, 0.16830871469945324, 0.16699891925432134, 0.13556382857115495, 0.09888955610746086, 0.057630999585805004, 0.052391817805277276, 0.020301829399544946, 0.018992033954413012, 0.0072038749482256255, 0.17433272882038758, 0.5229981864611628, 0.08716636441019379, 0.08716636441019379, 0.24762220956290318, 0.1819735307485521, 0.17391141229766688, 0.1071110022760465, 0.12553870159235556, 0.05758656036346586, 0.03915886104715678, 0.03224847380354088, 0.026489817767194293, 0.009213849658154537, 0.7768314300832807, 0.11097591858332581, 0.5469566310506743, 0.4020763614400748, 0.6872662465840873, 0.22908874886136243, 0.5442021371332086, 0.6857578010118122, 0.7855263392048064, 0.6729100486891448, 0.6918898871612171, 0.2688898159418786, 0.5377796318837572, 0.16279120403155448, 0.6511648161262179, 0.5894133588081845, 0.1178826717616369, 0.05894133588081845, 0.05894133588081845, 0.05894133588081845, 0.05894133588081845, 0.6419616445709677, 0.25257042965214943, 0.19160515352921684, 0.14568325722882602, 0.09699021201375645, 0.15637197447115836, 0.04433838263486009, 0.059777640873784586, 0.024148583399343445, 0.017814528737220572, 0.010292838825949665, 0.1724322146530363, 0.15087818782140675, 0.21122946294996947, 0.10777013415814768, 0.10777013415814768, 0.06466208049488861, 0.07759449659386633, 0.025864832197955444, 0.060351275128562705, 0.025864832197955444, 0.04426390747664753, 0.6108419231777359, 0.07967503345796556, 0.13279172242994258, 0.08852781495329506, 0.026558344485988518, 0.008852781495329507, 0.008852781495329507, 0.008852781495329507, 0.8882698013818167, 0.14088072150153447, 0.7044036075076723, 0.14372001320417638, 0.14372001320417638, 0.5748800528167055, 0.24982190029781132, 0.1703331138394168, 0.20894195297635126, 0.09311543556554785, 0.08630211101197117, 0.09538654375007341, 0.03860883913693448, 0.029524406398832245, 0.020439973660730016, 0.004542216369051114, 0.6974562759733277, 0.22525429599197055, 0.22525429599197055, 0.22525429599197055, 0.6279445412737275, 0.11417173477704136, 0.05708586738852068, 0.05708586738852068, 0.05708586738852068, 0.05708586738852068, 0.39091798147453694, 0.6602629703059748, 0.22008765676865824, 0.6856699506686378, 0.6231824039557445, 0.2657843821245653, 0.2620409401228108, 0.08048400303772048, 0.1291487490605282, 0.11417498105351044, 0.05427990902543939, 0.04866474602280773, 0.02058893100964942, 0.018717210008772203, 0.009358605004386102, 0.6968848110440449, 0.6855867028136381, 0.3952759846951199, 0.1263929242162374, 0.10373758874351562, 0.16216450654158762, 0.07094697161194459, 0.050676408294246134, 0.059023110836827854, 0.012520053813872575, 0.0113276677363609, 0.007154316465070042, 0.6855960702351478, 0.602123258868478, 0.2438979818137033, 0.18316074120639975, 0.18316074120639975, 0.11957644244562886, 0.07781958952810766, 0.07592155075912943, 0.0531450855313906, 0.020878426458760594, 0.03226665907263001, 0.009490193844891179, 0.2889041256873669, 0.15579130327168592, 0.12226659244106995, 0.16762355415307978, 0.10550423702576198, 0.03352471083061596, 0.061133296220534976, 0.03253868992383313, 0.021692459949222087, 0.010846229974611044, 0.62700295276926, 0.0783753690961575, 0.0783753690961575, 0.0783753690961575, 0.0783753690961575, 0.3327885521103068, 0.22127179536820824, 0.13124799964117448, 0.07223044275554567, 0.09865621449537947, 0.06430271123359554, 0.03928631398655289, 0.023607022754251514, 0.01109882413073019, 0.005813669782763433, 0.2696962010132868, 0.16225625101612376, 0.19185705356636257, 0.17431583724029512, 0.07893547346730345, 0.039467736733651726, 0.032889780611376436, 0.016444890305688218, 0.025215498468721936, 0.009866934183412931, 0.2770466853357826, 0.5540933706715652, 0.35428719776515655, 0.08857179944128914, 0.08857179944128914, 0.17714359888257827, 0.08857179944128914, 0.17714359888257827, 0.7856045553424061, 0.6348088926531628, 0.10580148210886045, 0.07053432140590697, 0.07053432140590697, 0.07053432140590697, 0.035267160702953486, 0.8882385363921327, 0.09338397987776577, 0.09338397987776577, 0.09338397987776577, 0.09338397987776577, 0.46691989938882883, 0.09338397987776577, 0.2531927901681904, 0.24089192586852123, 0.0932815542724912, 0.1465852995710576, 0.09225648224751877, 0.0533037452985664, 0.04407809707381453, 0.02870201669922806, 0.03382737682409022, 0.01435100834961403, 0.4407487791643888, 0.5393105488650344, 0.6856903260183604, 0.2833314991154921, 0.16649376752147474, 0.11829820323894258, 0.13436339133311995, 0.10515395843461561, 0.04089320605790608, 0.07010263895641042, 0.04527462099268172, 0.027748961253579122, 0.008762829869551302, 0.31582992802246074, 0.16931088924915422, 0.07597283491949228, 0.14543371256017093, 0.12589784072373006, 0.06511957278813624, 0.06077826793559382, 0.01627989319703406, 0.013023914557627247, 0.01085326213135604, 0.16720264926674933, 0.1748607858743867, 0.1723080736718409, 0.15954451265911193, 0.12635925402601667, 0.11614840521583349, 0.03573797083564108, 0.021698053721639222, 0.01914534151909343, 0.00893449270891027, 0.14469351407162123, 0.14469351407162123, 0.5787740562864849, 0.14469351407162123, 0.594259941659469, 0.0914246064091491, 0.04571230320457455, 0.0914246064091491, 0.06856845480686181, 0.04571230320457455, 0.022856151602287274, 0.04571230320457455, 0.5481263062607522, 0.07212188240273056, 0.04327312944163833, 0.07212188240273056, 0.11539501184436889, 0.05769750592218444, 0.02884875296109222, 0.02884875296109222, 0.2661238787125297, 0.16452672843481178, 0.13419922088922437, 0.14633022390745934, 0.11903546711643065, 0.0735442057980495, 0.038667572120623966, 0.025020193725109628, 0.021229255281911198, 0.010614627640955599, 0.6685820667560191, 0.6774282922739657, 0.0977847872111034, 0.13445408241526718, 0.23223886962637058, 0.08556168880971547, 0.07333859040832755, 0.08556168880971547, 0.11000788561249134, 0.07333859040832755, 0.08556168880971547, 0.012223098401387925, 0.64227022798844, 0.14209115961067956, 0.5683646384427182, 0.14209115961067956, 0.2432130062867389, 0.1858352900148674, 0.14644163406701532, 0.19268636061449385, 0.08050007954561075, 0.041106423597758686, 0.049670261847291744, 0.02312236327373926, 0.03254258534822563, 0.005138302949719836, 0.5441679887713481, 0.660911492968242, 0.11926650106647345, 0.26834962739956525, 0.059633250533236724, 0.0894498757998551, 0.327982877932802, 0.059633250533236724, 0.029816625266618362, 0.25948131689984694, 0.20557498698051255, 0.18364698836925789, 0.11603565931788931, 0.11969032575309842, 0.04751066365771846, 0.028323664872870618, 0.014618665740836449, 0.015532332349638727, 0.00913666608802278, 0.7598916432598488, 0.24247671956616768, 0.3205624428162895, 0.16028122140814474, 0.09452482288172638, 0.07671579828082141, 0.03972782410971109, 0.016439099631604587, 0.0232887244781065, 0.021918799508806118, 0.0054796998772015295, 0.4430775664937348, 0.04219786347559379, 0.06329679521339068, 0.16879145390237515, 0.021098931737796894, 0.021098931737796894, 0.021098931737796894, 0.18989038564017205, 0.021098931737796894, 0.46541880607241265, 0.7289741689784812, 0.6019122125416376, 0.7294485797392842, 0.32236613952756404, 0.3691632125512465, 0.16494526518247185, 0.10341806309059744, 0.10341806309059744, 0.12174531477753875, 0.03665450337388264, 0.04712721862356339, 0.030109056342832164, 0.017018162280731223, 0.007854536437260565, 0.2814070782168174, 0.15946401098952984, 0.07191514221096444, 0.24075938914105488, 0.08442212346504521, 0.05940816095688367, 0.04690117970280289, 0.025013962508161545, 0.01876047188112116, 0.012506981254080772, 0.12109948387738309, 0.14022045501591726, 0.2804409100318345, 0.10835216978502697, 0.060549741938691545, 0.11791265535429406, 0.08285754160031475, 0.035055113753979315, 0.041428770800157375, 0.009560485569267085, 0.28590527213774414, 0.14295263606887207, 0.14295263606887207, 0.14295263606887207, 0.14295263606887207, 0.14295263606887207, 0.28590527213774414, 0.5712695671697844, 0.2856347835848922, 0.16269782249178819, 0.13015825799343053, 0.13015825799343053, 0.13015825799343053, 0.32539564498357637, 0.03253956449835763, 0.03253956449835763, 0.03253956449835763, 0.15015630544561076, 0.20020840726081432, 0.05005210181520358, 0.10010420363040716, 0.35036471270642505, 0.05005210181520358, 0.05005210181520358, 0.05005210181520358, 0.6234893427681484, 0.12469786855362967, 0.12469786855362967, 0.7285708535953148, 0.10438339545667215, 0.5219169772833607, 0.10438339545667215, 0.10438339545667215, 0.23646724512999887, 0.2545863344292436, 0.14219546167450792, 0.13733744497833358, 0.10149315962547979, 0.04070230204902812, 0.043196959271387905, 0.02166412850996658, 0.018119089299244776, 0.004332825701993316, 0.25626809977864096, 0.15784629334191652, 0.1671313694208528, 0.17270241506821454, 0.10399285208408618, 0.04085433474731957, 0.042711349963106826, 0.036211796707851435, 0.013927614118404399, 0.009285076078936267, 0.24363790378593336, 0.13857471851021488, 0.2273349957259081, 0.1476318896546734, 0.10959177084794773, 0.057060178210088484, 0.030794381891158865, 0.014491473831133583, 0.01630290806002528, 0.013585756716687734, 0.26388957897341003, 0.17714809699603914, 0.22235140450537327, 0.11850596833528136, 0.08185463792230775, 0.0476467295368657, 0.03909475244050519, 0.01343882115142366, 0.023212509261549958, 0.012217110137657873, 0.26117909599714817, 0.5223581919942963, 0.5249963357771779, 0.26249816788858893, 0.6643414659078651, 0.2214471553026217, 0.269201842306035, 0.251411111857984, 0.06905612476546115, 0.1989752747479389, 0.08122872980886447, 0.0484563316150863, 0.03604963801315599, 0.018024819006577996, 0.01755664188952402, 0.009831719458133452, 0.18271123278928414, 0.18271123278928414, 0.18271123278928414, 0.5481336983678524, 0.6838206066197343, 0.3132589817320424, 0.1978030968660322, 0.11545588486601022, 0.14431985608251277, 0.059425823092799375, 0.07046204738146211, 0.06621734573197645, 0.01528092593814841, 0.012734104948457009, 0.004244701649485669, 0.544131449236292, 0.23255947956077563, 0.46511895912155127, 0.7858597489899061, 0.7340905362694563, 0.2751203090967237, 0.12474399108112318, 0.14183220903744143, 0.1332881000592823, 0.12474399108112318, 0.05126465386895473, 0.08544108978159122, 0.027341148730109188, 0.027341148730109188, 0.006835287182527297, 0.2859193811467744, 0.1936005840993833, 0.12010406606165444, 0.13265225206809594, 0.1156225710593539, 0.061844631031747435, 0.029577867015183557, 0.021511176011042587, 0.025992671013343127, 0.01254818600644151, 0.29004575906965324, 0.29004575906965324, 0.29004575906965324, 0.22241012808735214, 0.21097189292857402, 0.209700977910932, 0.12327875671127518, 0.11819509664070714, 0.02923104540576628, 0.04702385565275445, 0.010167320141136098, 0.019063725264630182, 0.01143823515877811, 0.20846688936332006, 0.10795606770600502, 0.1513866696566967, 0.14642317229090338, 0.16131366438828337, 0.12718961999845418, 0.04094885326779501, 0.01551092926810417, 0.02916054702403584, 0.01178830624375917, 0.09758717768729942, 0.09758717768729942, 0.2927615330618983, 0.09758717768729942, 0.09758717768729942, 0.3903487107491977, 0.36647144647001206, 0.15155345621107522, 0.12638900798455413, 0.11732073835337535, 0.09113610979334665, 0.050782309934601116, 0.04862859589719616, 0.023577501041064805, 0.01858995274391648, 0.005440961778707262, 0.7496806183696187, 0.2631940696202115, 0.1859904758649495, 0.14212479759491423, 0.1193146448944959, 0.15967106890292834, 0.06141194957804936, 0.024564779831219744, 0.022810152700418335, 0.012282389915609872, 0.01052776278480846, 0.3054869212589831, 0.1818929760167991, 0.1630040900458238, 0.12172837625739633, 0.10796980499458715, 0.032880653356882915, 0.04384087114251055, 0.01795610147858145, 0.017489709232384527, 0.007928668185347654, 0.3749575959796367, 0.17689531745813505, 0.13456139533140188, 0.08617977004370682, 0.10583480531683294, 0.04838162528769506, 0.028726590014568943, 0.018143109482885646, 0.02267888685360706, 0.004535777370721411, 0.3246558158710065, 0.19166427683950985, 0.12321274939682776, 0.11734547561602644, 0.10072153323708936, 0.05476122195414567, 0.032270005794407274, 0.026402732013605948, 0.0224912161597384, 0.006845152744268209, 0.5918635014340052, 0.4364941942930718, 0.4364941942930718, 0.2826744284089122, 0.13788996507751816, 0.11031197206201453, 0.08273397904651089, 0.2550964353934086, 0.013788996507751816, 0.07583948079263499, 0.020683494761627723, 0.013788996507751816, 0.006894498253875908, 0.11665237671208326, 0.8165666369845828, 0.26269066811562214, 0.2670688459175492, 0.18607255658189903, 0.1203998895529935, 0.05910540032601499, 0.05910540032601499, 0.01970180010867166, 0.013134533405781107, 0.0065672667028905535, 0.010945444504817589, 0.31883187840090743, 0.12412538777439908, 0.2101207544677736, 0.09654196826897705, 0.09897579940180841, 0.0713923798963864, 0.024338311328313544, 0.029205973593976253, 0.02109320315120507, 0.006490216354216945, 0.06260160309439963, 0.06260160309439963, 0.6886176340383959, 0.06260160309439963, 0.06260160309439963, 0.5326307987787904, 0.7210222138939659, 0.6724551415044092, 0.7357447136591203, 0.14714894273182405, 0.14714894273182405, 0.24290362962203763, 0.7287108888661129, 0.1457445906509059, 0.1457445906509059, 0.5829783626036236, 0.1457445906509059, 0.5957062335103587, 0.14892655837758967, 0.14892655837758967, 0.26945825678978885, 0.14182013515252045, 0.10400143244518166, 0.15600214866777248, 0.11345610812201636, 0.05672805406100818, 0.10400143244518166, 0.02836402703050409, 0.014182013515252044, 0.009454675676834697, 0.7304401303149153, 0.18261003257872882, 0.6422076147121977, 0.6854559847064841, 0.6856018722230569, 0.24700705386333416, 0.09605829872462995, 0.1509487551387042, 0.10291960577638924, 0.1166422198799078, 0.1509487551387042, 0.041167842310555695, 0.020583921155277848, 0.05489045641407426, 0.013722614103518565, 0.6854905742473353, 0.5963074311765757, 0.22870359472737065, 0.2251578025610548, 0.16842512790000164, 0.14360458273579088, 0.08687190807473769, 0.03900371382947406, 0.04254950599578989, 0.04254950599578989, 0.01772896083157912, 0.003545792166315824, 0.18324977906929102, 0.19478772812180192, 0.23958211856096195, 0.0875526722219946, 0.11945170783776007, 0.07872953471125095, 0.040722173126509116, 0.01493146347972001, 0.027148115417672744, 0.01425276059427819, 0.3808821010718032, 0.3808821010718032, 0.27754374684810984, 0.09540566297903777, 0.1782833096072928, 0.17346484178006866, 0.11275214715704464, 0.028910806963344776, 0.05974900105757921, 0.043366210445017164, 0.024092339136120647, 0.005782161392668956, 0.6856659696002676, 0.5747060160373978, 0.18012077867206866, 0.15010064889339053, 0.3527365248994678, 0.09006038933603433, 0.060040259557356215, 0.05253522711268669, 0.03752516222334763, 0.015010064889339054, 0.03752516222334763, 0.015010064889339054, 0.6953253590364578, 0.7955103665733402, 0.4530984280381838, 0.5336858707946875, 0.2525417496022743, 0.17492069236521166, 0.1497758428377125, 0.1322837736011913, 0.10604566974640957, 0.08199407454619297, 0.04810319040043321, 0.02295834087293403, 0.021865086545651457, 0.008746034618260583, 0.2616988060646432, 0.1308494030323216, 0.1308494030323216, 0.1308494030323216, 0.2616988060646432, 0.314752266168469, 0.15917913297226993, 0.19523913073297833, 0.10174070796771298, 0.10225585079286596, 0.04584771143861496, 0.039150854711626264, 0.018802713118083663, 0.013908856279130383, 0.009014999440177099, 0.5441887320943027, 0.44646985623829266, 0.44646985623829266, 0.6858722329075089, 0.8884033335967544, 0.6662257273707956, 0.5312755030922911, 0.32596898923807843, 0.15258122900505797, 0.14809354579902687, 0.12035150416174359, 0.11382396495297106, 0.054668140873469974, 0.044060889659214605, 0.022438416030155586, 0.010199280013707084, 0.008159424010965668, 0.17456093875556922, 0.6982437550222769, 0.1468588820043152, 0.1468588820043152, 0.1468588820043152, 0.4405766460129456, 0.2772302710672631, 0.16890378982761275, 0.12471798826933432, 0.17246716092102232, 0.13469542733088105, 0.05059986952641564, 0.030644991403322146, 0.01995487812309349, 0.012115461717592476, 0.007839416405501015, 0.3270061704055101, 0.14285875626301325, 0.10074432522593998, 0.16928349730588274, 0.09331236680763293, 0.04954638945538032, 0.056978347873687364, 0.03220515314599721, 0.02147010209733147, 0.007431958418307048, 0.8879662321458119, 0.3100703701701178, 0.1713546782519072, 0.17339461489776323, 0.11423645216793812, 0.08261743415716954, 0.038758796271264724, 0.05813819440689708, 0.017339461489776324, 0.02039936645856038, 0.013259588198064247, 0.25285022320095957, 0.17426164031417485, 0.14578751607983254, 0.1526213058960747, 0.1378147612942167, 0.058087213438058276, 0.0273351592649686, 0.025057229326221217, 0.018223439509979067, 0.007972754785615842, 0.7908668300085628, 0.34771243780262917, 0.15613410110363218, 0.1408796199613233, 0.10678136799616225, 0.11126798009684133, 0.052493361577945305, 0.027368333814142425, 0.024676366553734973, 0.02512502776380288, 0.007627240571154446, 0.7856500452809034, 0.6420933631750985, 0.6855337980332425, 0.6020948090923636, 0.19425402061346936, 0.14942616970266873, 0.37356542425667183, 0.05977046788106749, 0.07471308485133436, 0.03735654242566718, 0.052299159395934054, 0.007471308485133436, 0.029885233940533745, 0.014942616970266873, 0.8627904750144563, 0.2794460911193861, 0.09314869703979536, 0.18629739407959073, 0.09314869703979536, 0.09314869703979536, 0.18629739407959073, 0.7857529498172132, 0.6854028784655805, 0.22271208069458026, 0.04454241613891605, 0.0890848322778321, 0.5345089936669926, 0.04454241613891605, 0.04454241613891605, 0.04454241613891605, 0.724278849194521, 0.7980613921943973, 0.6421245460771551, 0.8883443926468925, 0.16214502534400504, 0.06949072514743072, 0.41694435088458437, 0.13898145029486145, 0.046327150098287154, 0.06949072514743072, 0.046327150098287154, 0.023163575049143577, 0.023163575049143577, 0.1565250066789958, 0.1575790471280126, 0.19499748306810924, 0.09855278198307144, 0.17022753251621428, 0.1412414201682521, 0.02951313257247059, 0.012121465163693277, 0.02476995055189496, 0.014229546061726892, 0.13745550824264055, 0.5498220329705622, 0.13745550824264055, 0.11618038813266439, 0.580901940663322, 0.11618038813266439, 0.11618038813266439, 0.0919834510724645, 0.0919834510724645, 0.0919834510724645, 0.0919834510724645, 0.0919834510724645, 0.0919834510724645, 0.367933804289858, 0.10281888367009957, 0.6169133020205975, 0.051409441835049786, 0.10281888367009957, 0.051409441835049786, 0.051409441835049786, 0.6577028076301913, 0.8878871909746825, 0.5423868848995405, 0.04716407694778612, 0.18865630779114448, 0.1179101923694653, 0.02358203847389306, 0.02358203847389306, 0.02358203847389306, 0.02358203847389306, 0.3808163780668578, 0.1608875395708818, 0.11217846795767905, 0.12546276021582525, 0.10627433806516963, 0.03247271440880183, 0.041328909247565965, 0.01771238967752827, 0.014760324731273559, 0.008856194838764136, 0.675950493680625, 0.12044119028685933, 0.361323570860578, 0.024088238057371866, 0.0722647141721156, 0.31314709474583424, 0.04817647611474373, 0.024088238057371866, 0.024088238057371866, 0.32188424427959716, 0.2945427254604808, 0.09196692693702777, 0.08078176014738926, 0.0857529453872286, 0.04474066715855405, 0.04598346346851388, 0.004971185239839339, 0.019884740959357355, 0.008699574169718843, 0.6023195199994564, 0.6020197817416365, 0.536881275339427, 0.536881275339427, 0.24558928356302878, 0.49117856712605756, 0.25515305545239275, 0.15016820451104365, 0.16212850398537457, 0.18870694726166545, 0.10764269526897818, 0.031894131931549094, 0.05581473088021091, 0.017275988129589092, 0.02392059894866182, 0.007973532982887273, 0.5726511224619215, 0.10737208546161028, 0.10737208546161028, 0.07158139030774019, 0.07158139030774019, 0.07158139030774019, 0.22005308751932645, 0.15572987732136948, 0.22343851963500838, 0.12187555616455002, 0.11510469193318613, 0.04824240764846772, 0.05924506202443404, 0.022005308751932642, 0.024544382838694104, 0.00930993831812535, 0.44290543951583516, 0.6273830179873405, 0.20912767266244683, 0.2863474271573866, 0.16070518871077819, 0.2381358705441531, 0.1022669382704952, 0.0511334691352476, 0.04821155661323345, 0.058438250440282974, 0.020453387654099042, 0.027758168959134414, 0.005843825044028297, 0.31747023493731946, 0.1708420332077948, 0.15200905316914026, 0.11030745451211948, 0.06860585585509871, 0.06053457869567532, 0.04573723723673247, 0.026904257198077923, 0.03766596007730909, 0.009416490019327272, 0.8881018366487969, 0.44028683996543005, 0.1276193739030232, 0.12251459894690227, 0.10592408033950926, 0.08167639929793484, 0.03445723095381626, 0.05232394330023951, 0.01914290608545348, 0.007657162434181392, 0.00638096869515116, 0.5313889767492548, 0.29547404746164185, 0.16042151566730556, 0.17459830077278837, 0.09774520256938152, 0.09177602989338876, 0.056707140421931264, 0.06043787334442674, 0.029099716795464727, 0.024622837288470156, 0.008953759013989147, 0.28650187612257694, 0.23578775092386792, 0.07771775030451512, 0.13370087552386922, 0.13962850054709497, 0.05334862520903157, 0.03358987513161247, 0.019758750077419097, 0.010538000041290185, 0.009220750036128912], \"Term\": [\"account\", \"account\", \"account\", \"account\", \"account\", \"account\", \"account\", \"account\", \"account\", \"account\", \"acq\", \"acq\", \"acquit\", \"acquit\", \"acquit\", \"acquit\", \"acquit\", \"acquit\", \"acquit\", \"acquit\", \"acquit\", \"acquit\", \"african\", \"aged\", \"aged\", \"aged\", \"aged\", \"aged\", \"aged\", \"aged\", \"aged\", \"aged\", \"aged\", \"allingham\", \"anderton\", \"angliss\", \"angus\", \"area\", \"area\", \"area\", \"area\", \"area\", \"area\", \"area\", \"area\", \"area\", \"area\", \"ashlee\", \"ashton\", \"ashton\", \"ashton\", \"ashton\", \"ashton\", \"ashton\", \"ashton\", \"ashton\", \"ashur\", \"ask\", \"ask\", \"ask\", \"ask\", \"ask\", \"ask\", \"ask\", \"ask\", \"ask\", \"ask\", \"assurance\", \"away\", \"away\", \"away\", \"away\", \"away\", \"away\", \"away\", \"away\", \"away\", \"away\", \"bad\", \"bad\", \"bad\", \"bad\", \"bad\", \"bad\", \"bad\", \"bad\", \"bad\", \"bad\", \"barkingalley\", \"barn\", \"barn\", \"barn\", \"barn\", \"barn\", \"barn\", \"barn\", \"bartin\", \"bartrum\", \"bassett\", \"bastardchild\", \"bastock\", \"baugham\", \"becket\", \"bed\", \"bed\", \"bed\", \"bed\", \"bed\", \"bed\", \"bed\", \"bed\", \"bed\", \"bed\", \"belon\", \"belon\", \"belon\", \"belon\", \"belon\", \"belon\", \"benbrook\", \"berrit\", \"bertie\", \"binks\", \"birdseye\", \"blackeby\", \"blond\", \"bloxam\", \"bobin\", \"bombazett\", \"bombazett\", \"bombazett\", \"bombazett\", \"bonnell\", \"bootjack\", \"botham\", \"bourset\", \"bourset\", \"box\", \"box\", \"box\", \"box\", \"box\", \"box\", \"box\", \"box\", \"box\", \"box\", \"boykett\", \"bradley\", \"bradley\", \"bradley\", \"bradley\", \"bradley\", \"bradley\", \"bradley\", \"bradley\", \"bradshaw\", \"bradshaw\", \"bradshaw\", \"braganza\", \"break\", \"break\", \"break\", \"break\", \"break\", \"break\", \"break\", \"break\", \"break\", \"break\", \"brenton\", \"brenton\", \"brenton\", \"brenton\", \"brenton\", \"brenton\", \"bridle\", \"bridle\", \"bridle\", \"bridle\", \"bridle\", \"brind\", \"bring\", \"bring\", \"bring\", \"bring\", \"bring\", \"bring\", \"bring\", \"bring\", \"bring\", \"bring\", \"broach\", \"broach\", \"broach\", \"broach\", \"broach\", \"broning\", \"bruin\", \"buckle\", \"buckle\", \"buckle\", \"buckle\", \"buckle\", \"buckle\", \"buckle\", \"bullard\", \"bullenger\", \"burchetts\", \"burchetts\", \"burchetts\", \"burgay\", \"burgess\", \"burgess\", \"burgess\", \"burgess\", \"burgess\", \"burgess\", \"burgess\", \"burgess\", \"burk\", \"byhen\", \"cadman\", \"call\", \"call\", \"call\", \"call\", \"call\", \"call\", \"call\", \"call\", \"call\", \"call\", \"cambric\", \"cambric\", \"cambric\", \"cambric\", \"cambric\", \"campbel\", \"campbel\", \"campbel\", \"campbel\", \"campion\", \"campion\", \"campion\", \"campion\", \"carat\", \"carat\", \"carat\", \"carat\", \"carat\", \"carat\", \"caretaker\", \"caretaker\", \"caretaker\", \"caretaker\", \"carnelly\", \"carnelly\", \"carnelly\", \"carnelly\", \"carolina\", \"carthew\", \"carthew\", \"cassell\", \"cassell\", \"cassell\", \"cassell\", \"cassell\", \"cassell\", \"cassell\", \"catling\", \"caw\", \"chable\", \"chandler\", \"chandler\", \"chandler\", \"chandler\", \"chandler\", \"chandler\", \"chandler\", \"chandler\", \"charge\", \"charge\", \"charge\", \"charge\", \"charge\", \"charge\", \"charge\", \"charge\", \"charge\", \"charge\", \"cheak\", \"cheque\", \"cheque\", \"cheque\", \"cheque\", \"cheque\", \"cheque\", \"cheque\", \"cheque\", \"cheque\", \"cheque\", \"chever\", \"child\", \"child\", \"child\", \"child\", \"child\", \"child\", \"child\", \"child\", \"child\", \"child\", \"chissel\", \"chissel\", \"christiana\", \"christy\", \"clowes\", \"coat\", \"coat\", \"coat\", \"coat\", \"coat\", \"coat\", \"coat\", \"coat\", \"coat\", \"coat\", \"cocken\", \"cocklane\", \"cocklane\", \"cocklane\", \"cocklane\", \"cocklane\", \"colla\", \"come\", \"come\", \"come\", \"come\", \"come\", \"come\", \"come\", \"come\", \"come\", \"come\", \"comptonstreet\", \"comptonstreet\", \"comptonstreet\", \"comptonstreet\", \"comptonstreet\", \"confine\", \"confine\", \"confine\", \"confine\", \"confine\", \"confine\", \"confine\", \"confine\", \"confine\", \"confine\", \"connell\", \"connoway\", \"coombe\", \"coombe\", \"copley\", \"copley\", \"copley\", \"copley\", \"corkscrew\", \"corkscrew\", \"corkscrew\", \"corn\", \"corn\", \"corn\", \"corn\", \"corn\", \"corn\", \"corn\", \"corn\", \"court\", \"court\", \"court\", \"court\", \"court\", \"court\", \"court\", \"court\", \"court\", \"court\", \"crab\", \"cragie\", \"croat\", \"croat\", \"croat\", \"crofts\", \"crofts\", \"crofts\", \"crossan\", \"crossan\", \"crossan\", \"crossan\", \"crossan\", \"crossan\", \"crossexamine\", \"crossexamine\", \"crossexamine\", \"crossexamine\", \"crossexamine\", \"crossexamine\", \"crossexamine\", \"crossexamine\", \"crossexamine\", \"crossexamine\", \"cuprial\", \"curtis\", \"curtis\", \"curtis\", \"curtis\", \"curtis\", \"curtis\", \"curtis\", \"curtis\", \"cutmore\", \"cutmore\", \"dalton\", \"dalton\", \"dalton\", \"dalton\", \"dalton\", \"dalton\", \"dalton\", \"dalton\", \"dalton\", \"danieli\", \"darby\", \"davadge\", \"davadge\", \"dawkin\", \"day\", \"day\", \"day\", \"day\", \"day\", \"day\", \"day\", \"day\", \"day\", \"day\", \"debnam\", \"debnam\", \"debnam\", \"december\", \"december\", \"december\", \"december\", \"december\", \"december\", \"december\", \"december\", \"december\", \"december\", \"deferred\", \"deferred\", \"deferred\", \"deferred\", \"degen\", \"denham\", \"denham\", \"denham\", \"denham\", \"derter\", \"dinah\", \"disgrange\", \"dizalear\", \"do\", \"do\", \"do\", \"do\", \"do\", \"do\", \"do\", \"do\", \"do\", \"do\", \"dodgson\", \"door\", \"door\", \"door\", \"door\", \"door\", \"door\", \"door\", \"door\", \"door\", \"door\", \"dowgan\", \"downing\", \"dudey\", \"dunk\", \"dunk\", \"dunk\", \"dunk\", \"dunk\", \"dunk\", \"dunn\", \"dunn\", \"dunn\", \"dunn\", \"dunn\", \"dunn\", \"dunn\", \"dyehouse\", \"edmonds\", \"egg\", \"egg\", \"egg\", \"egg\", \"egg\", \"egg\", \"egg\", \"egg\", \"eliza\", \"eliza\", \"eliza\", \"eliza\", \"eliza\", \"eliza\", \"eliza\", \"eliza\", \"emberson\", \"enticknap\", \"epstein\", \"epstein\", \"epstein\", \"eserard\", \"ester\", \"fairbairn\", \"falsify\", \"fauntleroy\", \"fauntleroy\", \"fauntleroy\", \"find\", \"find\", \"find\", \"find\", \"find\", \"find\", \"find\", \"find\", \"find\", \"find\", \"florin\", \"florin\", \"florin\", \"florin\", \"florin\", \"florin\", \"florin\", \"florin\", \"florin\", \"follow\", \"follow\", \"follow\", \"follow\", \"follow\", \"follow\", \"follow\", \"follow\", \"follow\", \"follow\", \"foresight\", \"fortyfour\", \"founder\", \"fowke\", \"franciscis\", \"fray\", \"fray\", \"freedman\", \"funnell\", \"fusilier\", \"garraway\", \"geese\", \"geese\", \"geese\", \"geese\", \"geese\", \"gelding\", \"gelding\", \"gelding\", \"gelding\", \"gelding\", \"geofry\", \"georgeyard\", \"georgeyard\", \"georgeyard\", \"gerry\", \"get\", \"get\", \"get\", \"get\", \"get\", \"get\", \"get\", \"get\", \"get\", \"get\", \"gillett\", \"gillett\", \"give\", \"give\", \"give\", \"give\", \"give\", \"give\", \"give\", \"give\", \"give\", \"give\", \"gladstone\", \"gladstone\", \"gladstone\", \"gladstone\", \"glascow\", \"glue\", \"go\", \"go\", \"go\", \"go\", \"go\", \"go\", \"go\", \"go\", \"go\", \"go\", \"godby\", \"godby\", \"godby\", \"goldchain\", \"goldschmidt\", \"good\", \"good\", \"good\", \"good\", \"good\", \"good\", \"good\", \"good\", \"good\", \"good\", \"grady\", \"granan\", \"granan\", \"granary\", \"granary\", \"granary\", \"granary\", \"granary\", \"granary\", \"greenway\", \"grouch\", \"guilty\", \"guilty\", \"guilty\", \"guilty\", \"guilty\", \"guilty\", \"guilty\", \"guilty\", \"guilty\", \"guilty\", \"guinea\", \"guinea\", \"guinea\", \"guinea\", \"guinea\", \"guinea\", \"guinea\", \"guinea\", \"guinea\", \"guinea\", \"gumber\", \"guterrier\", \"half\", \"half\", \"half\", \"half\", \"half\", \"half\", \"half\", \"half\", \"half\", \"half\", \"halsey\", \"halsey\", \"halsey\", \"hand\", \"hand\", \"hand\", \"hand\", \"hand\", \"hand\", \"hand\", \"hand\", \"hand\", \"hand\", \"handkercheif\", \"handkercheif\", \"handkerchief\", \"handkerchief\", \"handkerchief\", \"handkerchief\", \"handkerchief\", \"handkerchief\", \"handkerchief\", \"handkerchief\", \"handkerchief\", \"handkerchief\", \"hanger\", \"happs\", \"hard\", \"hard\", \"hard\", \"hard\", \"hard\", \"hard\", \"hard\", \"hard\", \"hard\", \"hard\", \"harrow\", \"harrow\", \"harrow\", \"harrow\", \"harrow\", \"harrow\", \"harrow\", \"harrow\", \"haseldine\", \"hassell\", \"hat\", \"hat\", \"hat\", \"hat\", \"hat\", \"hat\", \"hat\", \"hat\", \"hat\", \"hat\", \"hatchetts\", \"haybows\", \"hayhow\", \"headclothe\", \"hear\", \"hear\", \"hear\", \"hear\", \"hear\", \"hear\", \"hear\", \"hear\", \"hear\", \"hear\", \"hebbert\", \"helden\", \"heron\", \"heron\", \"heron\", \"hitching\", \"hitching\", \"hogan\", \"hogan\", \"hogan\", \"hogan\", \"hogan\", \"hogan\", \"hogan\", \"hogben\", \"hoole\", \"hoole\", \"hoole\", \"horse\", \"horse\", \"horse\", \"horse\", \"horse\", \"horse\", \"horse\", \"horse\", \"horse\", \"horse\", \"house\", \"house\", \"house\", \"house\", \"house\", \"house\", \"house\", \"house\", \"house\", \"house\", \"hubbins\", \"huffain\", \"hunt\", \"hunt\", \"hunt\", \"hunt\", \"hunt\", \"hunt\", \"hunt\", \"hunt\", \"hunt\", \"image\", \"image\", \"image\", \"image\", \"image\", \"image\", \"image\", \"image\", \"image\", \"image\", \"incurable\", \"indict\", \"indict\", \"indict\", \"indict\", \"indict\", \"indict\", \"indict\", \"indict\", \"indict\", \"indict\", \"indicted\", \"izard\", \"jacock\", \"james\", \"james\", \"james\", \"james\", \"james\", \"james\", \"james\", \"james\", \"james\", \"james\", \"jemima\", \"john\", \"john\", \"john\", \"john\", \"john\", \"john\", \"john\", \"john\", \"john\", \"john\", \"joyes\", \"july\", \"july\", \"july\", \"july\", \"july\", \"july\", \"july\", \"july\", \"july\", \"july\", \"keith\", \"keith\", \"keith\", \"keith\", \"keith\", \"keith\", \"kenealey\", \"kennet\", \"kenneth\", \"keppell\", \"key\", \"key\", \"key\", \"key\", \"key\", \"key\", \"key\", \"key\", \"key\", \"key\", \"kinderley\", \"kirk\", \"kirk\", \"kirk\", \"klein\", \"klein\", \"klein\", \"klein\", \"klein\", \"klein\", \"knell\", \"know\", \"know\", \"know\", \"know\", \"know\", \"know\", \"know\", \"know\", \"know\", \"know\", \"knox\", \"knutsford\", \"kyle\", \"l\", \"l\", \"l\", \"l\", \"l\", \"l\", \"l\", \"l\", \"l\", \"l\", \"labour\", \"labour\", \"labour\", \"labour\", \"labour\", \"labour\", \"labour\", \"labour\", \"labour\", \"labour\", \"lahour\", \"langley\", \"langley\", \"langley\", \"lasser\", \"lead\", \"lead\", \"lead\", \"lead\", \"lead\", \"lead\", \"lead\", \"lead\", \"lead\", \"lead\", \"leak\", \"leave\", \"leave\", \"leave\", \"leave\", \"leave\", \"leave\", \"leave\", \"leave\", \"leave\", \"leave\", \"leg\", \"leg\", \"leg\", \"leg\", \"leg\", \"leg\", \"leg\", \"leg\", \"leg\", \"leg\", \"letkey\", \"letter\", \"letter\", \"letter\", \"letter\", \"letter\", \"letter\", \"letter\", \"letter\", \"letter\", \"letter\", \"lille\", \"lille\", \"lille\", \"lille\", \"lille\", \"lille\", \"linen\", \"linen\", \"linen\", \"linen\", \"linen\", \"linen\", \"linen\", \"linen\", \"linen\", \"linen\", \"linman\", \"linscott\", \"live\", \"live\", \"live\", \"live\", \"live\", \"live\", \"live\", \"live\", \"live\", \"live\", \"lohmann\", \"lohmann\", \"lohmann\", \"lohmann\", \"look\", \"look\", \"look\", \"look\", \"look\", \"look\", \"look\", \"look\", \"look\", \"look\", \"loosely\", \"loosely\", \"lowrie\", \"lowry\", \"maberley\", \"maberley\", \"machin\", \"mackduff\", \"mackenne\", \"madlock\", \"magdalen\", \"mahar\", \"mahar\", \"mahon\", \"mahon\", \"maide\", \"maide\", \"maide\", \"maide\", \"maide\", \"maide\", \"mallett\", \"man\", \"man\", \"man\", \"man\", \"man\", \"man\", \"man\", \"man\", \"man\", \"man\", \"march\", \"march\", \"march\", \"march\", \"march\", \"march\", \"march\", \"march\", \"march\", \"march\", \"mare\", \"mare\", \"mare\", \"mare\", \"mare\", \"mare\", \"mare\", \"mare\", \"mare\", \"markall\", \"masqueri\", \"masqueri\", \"masquerier\", \"masquerier\", \"masquerier\", \"master\", \"master\", \"master\", \"master\", \"master\", \"master\", \"master\", \"master\", \"master\", \"master\", \"matheson\", \"matson\", \"matson\", \"matson\", \"mdougal\", \"mdougal\", \"mdougal\", \"mdougal\", \"mdougal\", \"mdougal\", \"medbury\", \"menace\", \"menace\", \"millard\", \"millett\", \"minute\", \"minute\", \"minute\", \"minute\", \"minute\", \"minute\", \"minute\", \"minute\", \"minute\", \"minute\", \"miver\", \"mole\", \"money\", \"money\", \"money\", \"money\", \"money\", \"money\", \"money\", \"money\", \"money\", \"money\", \"mongus\", \"monica\", \"month\", \"month\", \"month\", \"month\", \"month\", \"month\", \"month\", \"month\", \"month\", \"month\", \"morning\", \"morning\", \"morning\", \"morning\", \"morning\", \"morning\", \"morning\", \"morning\", \"morning\", \"morning\", \"morocco\", \"morocco\", \"morocco\", \"morocco\", \"morocco\", \"mr\", \"mr\", \"mr\", \"mr\", \"mr\", \"mr\", \"mr\", \"mr\", \"mr\", \"mr\", \"mrs\", \"mrs\", \"mrs\", \"mrs\", \"mrs\", \"mrs\", \"mrs\", \"mrs\", \"mrs\", \"mrs\", \"muchlow\", \"muchlow\", \"mug\", \"mug\", \"mug\", \"mug\", \"mug\", \"mug\", \"muncreef\", \"munday\", \"munday\", \"munday\", \"munday\", \"munday\", \"munday\", \"naomi\", \"newgatemarket\", \"newgatemarket\", \"newgatemarket\", \"newgatemarket\", \"newgatemarket\", \"newgatemarket\", \"night\", \"night\", \"night\", \"night\", \"night\", \"night\", \"night\", \"night\", \"night\", \"night\", \"ninth\", \"nitson\", \"nonsuch\", \"not\", \"not\", \"not\", \"not\", \"not\", \"not\", \"not\", \"not\", \"not\", \"not\", \"note\", \"note\", \"note\", \"note\", \"note\", \"note\", \"note\", \"note\", \"note\", \"note\", \"november\", \"november\", \"november\", \"november\", \"november\", \"november\", \"november\", \"november\", \"november\", \"november\", \"nunn\", \"nunn\", \"nunn\", \"nunn\", \"oat\", \"oat\", \"oat\", \"oat\", \"oat\", \"oat\", \"oat\", \"oat\", \"oats\", \"oats\", \"oats\", \"oats\", \"oats\", \"oats\", \"oats\", \"oats\", \"oclock\", \"oclock\", \"oclock\", \"oclock\", \"oclock\", \"oclock\", \"oclock\", \"oclock\", \"oclock\", \"oclock\", \"ode\", \"ohrland\", \"original\", \"original\", \"original\", \"original\", \"original\", \"original\", \"original\", \"original\", \"original\", \"original\", \"pasquale\", \"pattinson\", \"pattinson\", \"pattinson\", \"pay\", \"pay\", \"pay\", \"pay\", \"pay\", \"pay\", \"pay\", \"pay\", \"pay\", \"pay\", \"penelope\", \"peregrine\", \"perkin\", \"perkin\", \"perkin\", \"perkin\", \"perkin\", \"perkin\", \"perkin\", \"person\", \"person\", \"person\", \"person\", \"person\", \"person\", \"person\", \"person\", \"person\", \"person\", \"pidworth\", \"piece\", \"piece\", \"piece\", \"piece\", \"piece\", \"piece\", \"piece\", \"piece\", \"piece\", \"piece\", \"pig\", \"pig\", \"pig\", \"pig\", \"pig\", \"pig\", \"pig\", \"pig\", \"pig\", \"piggot\", \"pinner\", \"piper\", \"pithouse\", \"pittman\", \"place\", \"place\", \"place\", \"place\", \"place\", \"place\", \"place\", \"place\", \"place\", \"place\", \"plate\", \"plate\", \"plate\", \"plate\", \"plate\", \"plate\", \"plate\", \"plate\", \"plate\", \"plate\", \"plead\", \"plead\", \"plead\", \"plead\", \"plead\", \"plead\", \"plead\", \"plead\", \"plead\", \"plead\", \"poney\", \"poney\", \"poney\", \"poney\", \"poney\", \"poney\", \"poney\", \"poore\", \"poore\", \"pork\", \"pork\", \"pork\", \"pork\", \"pork\", \"pork\", \"pork\", \"pork\", \"poulson\", \"poulson\", \"poulson\", \"poulson\", \"poulson\", \"poulson\", \"poulson\", \"poulson\", \"poulton\", \"poulton\", \"poulton\", \"prigg\", \"pring\", \"pring\", \"pring\", \"pring\", \"prisoner\", \"prisoner\", \"prisoner\", \"prisoner\", \"prisoner\", \"prisoner\", \"prisoner\", \"prisoner\", \"prisoner\", \"prisoner\", \"produce\", \"produce\", \"produce\", \"produce\", \"produce\", \"produce\", \"produce\", \"produce\", \"produce\", \"produce\", \"property\", \"property\", \"property\", \"property\", \"property\", \"property\", \"property\", \"property\", \"property\", \"property\", \"prosecutor\", \"prosecutor\", \"prosecutor\", \"prosecutor\", \"prosecutor\", \"prosecutor\", \"prosecutor\", \"prosecutor\", \"prosecutor\", \"prosecutor\", \"prosser\", \"prosser\", \"purvise\", \"purvise\", \"pybus\", \"pybus\", \"q\", \"q\", \"q\", \"q\", \"q\", \"q\", \"q\", \"q\", \"q\", \"q\", \"quinion\", \"quinion\", \"quinion\", \"quinion\", \"rarely\", \"receive\", \"receive\", \"receive\", \"receive\", \"receive\", \"receive\", \"receive\", \"receive\", \"receive\", \"receive\", \"reginal\", \"renner\", \"renner\", \"requester\", \"riddinghood\", \"road\", \"road\", \"road\", \"road\", \"road\", \"road\", \"road\", \"road\", \"road\", \"road\", \"room\", \"room\", \"room\", \"room\", \"room\", \"room\", \"room\", \"room\", \"room\", \"room\", \"rosina\", \"rosina\", \"rosina\", \"run\", \"run\", \"run\", \"run\", \"run\", \"run\", \"run\", \"run\", \"run\", \"run\", \"s\", \"s\", \"s\", \"s\", \"s\", \"s\", \"s\", \"s\", \"s\", \"s\", \"salter\", \"salter\", \"salter\", \"salter\", \"salter\", \"salter\", \"say\", \"say\", \"say\", \"say\", \"say\", \"say\", \"say\", \"say\", \"say\", \"say\", \"sear\", \"search\", \"search\", \"search\", \"search\", \"search\", \"search\", \"search\", \"search\", \"search\", \"search\", \"see\", \"see\", \"see\", \"see\", \"see\", \"see\", \"see\", \"see\", \"see\", \"see\", \"sell\", \"sell\", \"sell\", \"sell\", \"sell\", \"sell\", \"sell\", \"sell\", \"sell\", \"sell\", \"send\", \"send\", \"send\", \"send\", \"send\", \"send\", \"send\", \"send\", \"send\", \"send\", \"shadwel\", \"shail\", \"shail\", \"sheep\", \"sheep\", \"sheep\", \"sheep\", \"sheep\", \"sheep\", \"sheep\", \"sheep\", \"sheep\", \"sheep\", \"sherman\", \"sherman\", \"shilling\", \"shilling\", \"shilling\", \"shilling\", \"shilling\", \"shilling\", \"shilling\", \"shilling\", \"shilling\", \"shilling\", \"shop\", \"shop\", \"shop\", \"shop\", \"shop\", \"shop\", \"shop\", \"shop\", \"shop\", \"shop\", \"shrimpton\", \"shrimpton\", \"shrimpton\", \"shrimpton\", \"shrimpton\", \"silas\", \"simeon\", \"sinvin\", \"smallman\", \"smallman\", \"smallman\", \"smithson\", \"smithson\", \"sock\", \"sock\", \"sock\", \"sock\", \"soden\", \"soden\", \"soden\", \"son\", \"son\", \"son\", \"son\", \"son\", \"son\", \"son\", \"son\", \"son\", \"son\", \"sowl\", \"sowl\", \"sparrow\", \"speller\", \"spikesman\", \"spoon\", \"spoon\", \"spoon\", \"spoon\", \"spoon\", \"spoon\", \"spoon\", \"spoon\", \"spoon\", \"spoon\", \"stadward\", \"stard\", \"station\", \"station\", \"station\", \"station\", \"station\", \"station\", \"station\", \"station\", \"station\", \"station\", \"steal\", \"steal\", \"steal\", \"steal\", \"steal\", \"steal\", \"steal\", \"steal\", \"steal\", \"steal\", \"stonemason\", \"stonemason\", \"street\", \"street\", \"street\", \"street\", \"street\", \"street\", \"street\", \"street\", \"street\", \"street\", \"strop\", \"suddaby\", \"summary\", \"summary\", \"summary\", \"summary\", \"summary\", \"summary\", \"summary\", \"summary\", \"summary\", \"summary\", \"sumner\", \"sumption\", \"surman\", \"swalling\", \"swear\", \"swear\", \"swear\", \"swear\", \"swear\", \"swear\", \"swear\", \"swear\", \"swear\", \"swear\", \"synagogue\", \"synagogue\", \"synagogue\", \"synagogue\", \"synagogue\", \"take\", \"take\", \"take\", \"take\", \"take\", \"take\", \"take\", \"take\", \"take\", \"take\", \"tannd\", \"tannerman\", \"tannerman\", \"tapp\", \"tawell\", \"tawney\", \"teawen\", \"tell\", \"tell\", \"tell\", \"tell\", \"tell\", \"tell\", \"tell\", \"tell\", \"tell\", \"tell\", \"tent\", \"tent\", \"theydon\", \"theydon\", \"theydon\", \"theydon\", \"thing\", \"thing\", \"thing\", \"thing\", \"thing\", \"thing\", \"thing\", \"thing\", \"thing\", \"thing\", \"think\", \"think\", \"think\", \"think\", \"think\", \"think\", \"think\", \"think\", \"think\", \"think\", \"thirtypound\", \"thomas\", \"thomas\", \"thomas\", \"thomas\", \"thomas\", \"thomas\", \"thomas\", \"thomas\", \"thomas\", \"thomas\", \"till\", \"till\", \"till\", \"till\", \"till\", \"till\", \"till\", \"till\", \"till\", \"till\", \"timberyard\", \"time\", \"time\", \"time\", \"time\", \"time\", \"time\", \"time\", \"time\", \"time\", \"time\", \"tivoli\", \"tomb\", \"toogood\", \"tourl\", \"transportation\", \"transportation\", \"transportation\", \"transportation\", \"transportation\", \"transportation\", \"transportation\", \"transportation\", \"transportation\", \"transportation\", \"trent\", \"trip\", \"trip\", \"trip\", \"trip\", \"trip\", \"trip\", \"trisina\", \"tuff\", \"turkey\", \"turkey\", \"turkey\", \"turkey\", \"turkey\", \"turkey\", \"turkey\", \"turle\", \"tweed\", \"twoyear\", \"ulster\", \"umbrella\", \"umbrella\", \"umbrella\", \"umbrella\", \"umbrella\", \"umbrella\", \"umbrella\", \"umbrella\", \"umbrella\", \"value\", \"value\", \"value\", \"value\", \"value\", \"value\", \"value\", \"value\", \"value\", \"value\", \"velveteen\", \"velveteen\", \"velveteen\", \"vitae\", \"vitae\", \"vitae\", \"vitae\", \"wade\", \"wade\", \"wade\", \"wade\", \"wade\", \"wade\", \"wade\", \"wagon\", \"wagon\", \"wagon\", \"wagon\", \"wagon\", \"wagon\", \"waine\", \"waitress\", \"walwyn\", \"walwyn\", \"walwyn\", \"walwyn\", \"walwyn\", \"walwyn\", \"walwyn\", \"walwyn\", \"want\", \"want\", \"want\", \"want\", \"want\", \"want\", \"want\", \"want\", \"want\", \"want\", \"warrenden\", \"waste\", \"waste\", \"waste\", \"waste\", \"waste\", \"waste\", \"waste\", \"waste\", \"watch\", \"watch\", \"watch\", \"watch\", \"watch\", \"watch\", \"watch\", \"watch\", \"watch\", \"watch\", \"westall\", \"wetworth\", \"wharnsley\", \"wharnsley\", \"whitney\", \"whitney\", \"wife\", \"wife\", \"wife\", \"wife\", \"wife\", \"wife\", \"wife\", \"wife\", \"wife\", \"wife\", \"wild\", \"wild\", \"wild\", \"wild\", \"wild\", \"wild\", \"william\", \"william\", \"william\", \"william\", \"william\", \"william\", \"william\", \"william\", \"william\", \"william\", \"windur\", \"winfield\", \"winfield\", \"woman\", \"woman\", \"woman\", \"woman\", \"woman\", \"woman\", \"woman\", \"woman\", \"woman\", \"woman\", \"work\", \"work\", \"work\", \"work\", \"work\", \"work\", \"work\", \"work\", \"work\", \"work\", \"wpbsley\", \"write\", \"write\", \"write\", \"write\", \"write\", \"write\", \"write\", \"write\", \"write\", \"write\", \"yarman\", \"year\", \"year\", \"year\", \"year\", \"year\", \"year\", \"year\", \"year\", \"year\", \"year\", \"yes\", \"yes\", \"yes\", \"yes\", \"yes\", \"yes\", \"yes\", \"yes\", \"yes\", \"yes\"]}, \"R\": 30, \"lambda.step\": 0.01, \"plot.opts\": {\"xlab\": \"PC1\", \"ylab\": \"PC2\"}, \"topic.order\": [3, 1, 9, 5, 7, 8, 10, 6, 2, 4]};\n",
       "\n",
       "function LDAvis_load_lib(url, callback){\n",
       "  var s = document.createElement('script');\n",
       "  s.src = url;\n",
       "  s.async = true;\n",
       "  s.onreadystatechange = s.onload = callback;\n",
       "  s.onerror = function(){console.warn(\"failed to load library \" + url);};\n",
       "  document.getElementsByTagName(\"head\")[0].appendChild(s);\n",
       "}\n",
       "\n",
       "if(typeof(LDAvis) !== \"undefined\"){\n",
       "   // already loaded: just create the visualization\n",
       "   !function(LDAvis){\n",
       "       new LDAvis(\"#\" + \"ldavis_el1046014742189096325401327940\", ldavis_el1046014742189096325401327940_data);\n",
       "   }(LDAvis);\n",
       "}else if(typeof define === \"function\" && define.amd){\n",
       "   // require.js is available: use it to load d3/LDAvis\n",
       "   require.config({paths: {d3: \"https://d3js.org/d3.v5\"}});\n",
       "   require([\"d3\"], function(d3){\n",
       "      window.d3 = d3;\n",
       "      LDAvis_load_lib(\"https://cdn.jsdelivr.net/gh/bmabey/pyLDAvis@3.4.0/pyLDAvis/js/ldavis.v3.0.0.js\", function(){\n",
       "        new LDAvis(\"#\" + \"ldavis_el1046014742189096325401327940\", ldavis_el1046014742189096325401327940_data);\n",
       "      });\n",
       "    });\n",
       "}else{\n",
       "    // require.js not available: dynamically load d3 & LDAvis\n",
       "    LDAvis_load_lib(\"https://d3js.org/d3.v5.js\", function(){\n",
       "         LDAvis_load_lib(\"https://cdn.jsdelivr.net/gh/bmabey/pyLDAvis@3.4.0/pyLDAvis/js/ldavis.v3.0.0.js\", function(){\n",
       "                 new LDAvis(\"#\" + \"ldavis_el1046014742189096325401327940\", ldavis_el1046014742189096325401327940_data);\n",
       "            })\n",
       "         });\n",
       "}\n",
       "</script>"
      ],
      "text/plain": [
       "<IPython.core.display.HTML object>"
      ]
     },
     "execution_count": 43,
     "metadata": {},
     "output_type": "execute_result"
    }
   ],
   "source": [
    "# now let's display our data\n",
    "pyLDAvis.display(lda_data)"
   ]
  },
  {
   "cell_type": "code",
   "execution_count": null,
   "metadata": {},
   "outputs": [],
   "source": [
    "# if we like our results we can save our data as html\n",
    "pyLDAvis.save_html(lda_data, 'lda_10_topics.html')"
   ]
  },
  {
   "cell_type": "markdown",
   "metadata": {},
   "source": [
    "## Conclusions on LDA model\n",
    "\n",
    "We are getting a lot of overlap on the topics. This is not surprising because the documents are quite short. If we had longer documents we would get better results.\n",
    "\n",
    "Also we are getting some topics that are not very meaningful. The short words are not very meaningful. We can try to remove the short words and see what happens.\n",
    "\n",
    "## Next steps\n",
    "\n",
    "We can try to remove the short words and see what happens.\n",
    "\n",
    "We can try to use a different number of topics and see what happens.\n",
    "\n"
   ]
  },
  {
   "cell_type": "markdown",
   "metadata": {},
   "source": [
    "## Futher discussion\n",
    "\n",
    "1. Differences between clustering and LDA models\n",
    "2. How to determine the number of clusters\n",
    "3. How about supervised learning models?"
   ]
  },
  {
   "cell_type": "code",
   "execution_count": null,
   "metadata": {},
   "outputs": [],
   "source": []
  },
  {
   "cell_type": "markdown",
   "metadata": {},
   "source": []
  }
 ],
 "metadata": {
  "kernelspec": {
   "display_name": "venv",
   "language": "python",
   "name": "python3"
  },
  "language_info": {
   "codemirror_mode": {
    "name": "ipython",
    "version": 3
   },
   "file_extension": ".py",
   "mimetype": "text/x-python",
   "name": "python",
   "nbconvert_exporter": "python",
   "pygments_lexer": "ipython3",
   "version": "3.11.4"
  },
  "orig_nbformat": 4
 },
 "nbformat": 4,
 "nbformat_minor": 2
}
