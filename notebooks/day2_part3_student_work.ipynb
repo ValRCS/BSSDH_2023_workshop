{
 "cells": [
  {
   "cell_type": "markdown",
   "metadata": {},
   "source": [
    "# Assignment\n",
    "\n",
    "* Students are expected to obtain, clean, and create embeddings for a corpus of their choice.\n",
    "\n",
    "* Some sample ideas are provided.\n",
    "\n",
    "* You are to create a topic model for your corpus\n",
    "\n",
    "* Create additional visualizations with your own conclusions - time permitting\n",
    "\n"
   ]
  },
  {
   "cell_type": "code",
   "execution_count": null,
   "metadata": {},
   "outputs": [],
   "source": [
    "# "
   ]
  }
 ],
 "metadata": {
  "language_info": {
   "name": "python"
  },
  "orig_nbformat": 4
 },
 "nbformat": 4,
 "nbformat_minor": 2
}
