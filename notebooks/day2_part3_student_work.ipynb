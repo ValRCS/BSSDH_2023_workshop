{
 "cells": [
  {
   "cell_type": "markdown",
   "metadata": {},
   "source": [
    "# Assignment\n",
    "\n",
    "* Students are expected to obtain, clean, and create embeddings for a corpus of their choice.\n",
    "\n",
    "* Some sample ideas are provided.\n",
    "\n",
    "* Create additional visualizations with your own conclusions - time permitting\n",
    "\n"
   ]
  },
  {
   "cell_type": "markdown",
   "metadata": {},
   "source": [
    "## Some possible data sources\n",
    "\n",
    "* [Project Gutenberg](https://www.gutenberg.org/) - large collection of public domain books\n",
    "* [Kaggle](https://www.kaggle.com/datasets) - large collection of datasets\n",
    "* [UCI Machine Learning Repository](https://archive.ics.uci.edu/ml/index.php) - large collection of datasets\n",
    "* [Google Dataset Search](https://toolbox.google.com/datasetsearch) - large collection of datasets\n",
    "* [Awesome Public Datasets](https://github.com/awesomedata/awesome-public-datasets) - curated list of datasets\n",
    "* [Data is Plural](https://tinyletter.com/data-is-plural) - weekly newsletter of interesting datasets\n",
    "* [Data.world](https://data.world/) - large collection of datasets\n",
    "\n",
    "\n",
    "Suggestion take either small data sourde or a subset of a large data source. Try to keep your corpus under 20MB for this exercise.\n"
   ]
  },
  {
   "cell_type": "markdown",
   "metadata": {},
   "source": [
    "## Minimum requirements for work would be to obtain, clean, and create embeddings for a corpus of your choice\n",
    "\n",
    "Embeddings mean creating some sort of numerical representation of your text data.  This could be a simple bag of words, or something more complex like TFIDF or even like word2vec or doc2vec.  You can use any library you want to create the embeddings.  You can use any library you want to visualize the embeddings.  \n",
    "\n",
    "## present/visualize top 5 words for each document - up to you how you define \"top\"\n",
    "\n",
    "Create a histogram of top words over the corpus. Limit it to 50 words.  You can use any library you want to create the histogram.  You can use any library you want to visualize the histogram.\n",
    "\n"
   ]
  },
  {
   "cell_type": "code",
   "execution_count": null,
   "metadata": {},
   "outputs": [],
   "source": [
    "# "
   ]
  }
 ],
 "metadata": {
  "language_info": {
   "name": "python"
  },
  "orig_nbformat": 4
 },
 "nbformat": 4,
 "nbformat_minor": 2
}
