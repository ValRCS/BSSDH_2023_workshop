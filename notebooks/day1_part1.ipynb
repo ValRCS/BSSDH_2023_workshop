{
 "cells": [
  {
   "cell_type": "markdown",
   "metadata": {},
   "source": [
    "# Text Content Analysis - Setup \n",
    "\n",
    "![BSSDH](https://site-512948.mozfiles.com/files/512948/DHbaneris2.gif)"
   ]
  },
  {
   "cell_type": "markdown",
   "metadata": {},
   "source": [
    "## Welcome to the Text Content Analysis Workshop!\n",
    "\n",
    "### A few words about me\n",
    "\n",
    "Valdis Saulespurens \n",
    "\n",
    " * researcher at the National Library of Latvia, digital development department\n",
    " * 30+ years programming, 15 years with Python, 5 of those teaching Python\n",
    " * lecturer at Riga Technical University\n",
    "\n",
    "\n",
    "### A few words about the workshop\n",
    "\n",
    "* Two days - we meet on 25th and 26th of July of 2023 here at National Library of Latvia.\n",
    "#### Day 1 - 25th of July\n",
    "* Part 1 - 11:00 - 12:30 - Introduction to Text Content Analysis\n",
    "* Lunch Break 1 hour - 12:30 - 13:30\n",
    "* Part 2 - 13:30 - 15:00 - Cleaning, preprocessing and tokenization\n",
    "* Coffee Break 20 min \n",
    "* Part 3 - 15:20 - 16:50 - Creating embeddings \n",
    "\n",
    "#### Day 2 - 26th of July\n",
    "* Part 4 - 11:00 - 12:30 - Topic modeling\n",
    "* Lunch Break 1 hour - 12:30 - 13:30\n",
    "* Part 5 - 13:30 - 15:00 - Trend analysis, visualization and interpretation\n",
    "* Coffee Break 20 min\n",
    "* Part 6 - 15:20 - 16:50 - Your own work in class with the help of the instructor - required for the certificate/gaining credits\n"
   ]
  },
  {
   "cell_type": "markdown",
   "metadata": {},
   "source": [
    "## Introduction to Text Analysis\n",
    "\n",
    "### What is Text Analysis?\n",
    "\n",
    "Text analysis is the process of transforming unstructured text documents into structured data for further analysis. It is a form of data mining that is used to identify patterns and establish relationships between words in a text-based dataset. Text analysis is also known as text mining, text analytics, and data mining.\n",
    "\n",
    "### Why is Text Analysis Important in research and academia?\n",
    "\n",
    "Text analysis is important because it is a valuable method for extracting meaning from text-based data. It is used to quantify qualitative data, which is particularly helpful for research that involves collecting large amounts of unstructured data, such as customer feedback, open-ended survey responses, and social media comments.\n",
    "\n",
    "Text analysis is part of discourse analysis, which is the study of language use in texts and contexts. It is used to analyze the structure of written texts and is often used in the humanities and social sciences to analyze texts such as interview transcripts, news articles, and speeches.\n",
    "\n",
    "### Modeling Text Data after Preprocessing\n",
    "\n",
    "Text data is often modeled as numerical data after preprocessing. This is because most machine learning algorithms require numerical data as input. The most common way to model text data is to use a bag-of-words model, which represents each document as a vector of word counts. This is a simple and effective way to represent text data, but it does not capture the order of words in a document.\n",
    "We will be looking at some other ways to model text data in this workshop.\n",
    "\n",
    "## Pipeline - Plan of Attack\n",
    "\n",
    "### 1. Data Collection\n",
    "\n",
    "We will want to obtain data from some source. This could be a website, a database, or a file. We will be using a file for this workshop.\n",
    "However not every file is ready to be analyzed. We will need to clean the data and prepare it for analysis.\n",
    "\n",
    "Our first goal will be to read the data into a pandas dataframe. We will be using the `pandas` library for this. Pandas is a Python library that is used for data manipulation and analysis. It offers data structures and operations for manipulating numerical tables and time series. It also provides powerful data structures that are designed to make working with structured data fast, easy, and expressive.\n",
    "\n",
    "The process of importing data into a tabular format can be very easy or it can take quite some effort. We will work with medium sized datasets for this workshop. However, if you are working with truly large datasets, you may need to use a distributed computing framework such as Apache Spark to import the data. - this places huge demands on your hardware and is not recommended for beginners.\n",
    "Also Apache Spark is quite a bit slower when working with small datasets and few machines than regular Pandas based workflows.\n",
    "\n",
    "### 2. Data Preprocessing\n",
    "\n",
    "We will want to clean the data and prepare it for analysis. This includes removing punctuation, numbers, and other non-text characters. We will also want to remove stopwords, which are common words that do not add much meaning to a sentence, such as \"the\", \"and\", and \"a\". We will also want to remove words that appear too frequently or too infrequently in the dataset. This is known as removing words with high and low document frequency.\n",
    "\n",
    "\n"
   ]
  },
  {
   "cell_type": "code",
   "execution_count": null,
   "metadata": {},
   "outputs": [],
   "source": []
  },
  {
   "cell_type": "code",
   "execution_count": null,
   "metadata": {},
   "outputs": [],
   "source": []
  }
 ],
 "metadata": {
  "language_info": {
   "name": "python"
  },
  "orig_nbformat": 4
 },
 "nbformat": 4,
 "nbformat_minor": 2
}
