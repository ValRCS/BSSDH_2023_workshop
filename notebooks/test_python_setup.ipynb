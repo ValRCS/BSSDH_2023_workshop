{
 "cells": [
  {
   "cell_type": "markdown",
   "metadata": {},
   "source": [
    "# Test your Python setup"
   ]
  },
  {
   "cell_type": "code",
   "execution_count": 1,
   "metadata": {},
   "outputs": [
    {
     "name": "stdout",
     "output_type": "stream",
     "text": [
      "Current date and time: 2023-07-17 11:41:45.383580\n",
      "Python version 3.11.4 (tags/v3.11.4:d2340ef, Jun  7 2023, 05:45:37) [MSC v.1934 64 bit (AMD64)]\n",
      "Pandas version 2.0.3\n",
      "Numpy version 1.24.4\n",
      "Plotly version 5.15.0\n",
      "Requests version 2.31.0\n",
      "Gensim version 4.3.1\n",
      "Scikit-learn version 1.3.0\n",
      "Plotly version 5.15.0\n",
      "spaCy version 3.6.0\n",
      "Imports finished at: 2023-07-17 11:41:46.562522\n"
     ]
    }
   ],
   "source": [
    "# Test your python setup by running this notebook \n",
    "# \n",
    "\n",
    "from datetime import datetime\n",
    "# print current date and time\n",
    "print(\"Current date and time:\", datetime.now())\n",
    "# print python version\n",
    "import sys\n",
    "print(\"Python version\", sys.version)\n",
    "# for pandas I recommend installing the following\n",
    "# from: https://pandas.pydata.org/docs/getting_started/install.html#install-optional-dependencies\n",
    "# pip install \"pandas[performance, plot, output_formatting, computation, excel, parquet, html, clipboard]\"\n",
    "# check pandas version\n",
    "import pandas as pd\n",
    "print(\"Pandas version\", pd.__version__)\n",
    "# check numpy version\n",
    "import numpy as np\n",
    "print(\"Numpy version\", np.__version__)\n",
    "# print plotly version\n",
    "import plotly\n",
    "print(\"Plotly version\", plotly.__version__)\n",
    "\n",
    "\n",
    "# check requests version\n",
    "import requests\n",
    "print(\"Requests version\", requests.__version__)\n",
    "# check gensim version\n",
    "import gensim\n",
    "print(\"Gensim version\", gensim.__version__)\n",
    "# check scikit-learn version\n",
    "import sklearn\n",
    "print(\"Scikit-learn version\", sklearn.__version__)\n",
    "# check plotly version\n",
    "import plotly\n",
    "print(\"Plotly version\", plotly.__version__)\n",
    "# check spaCy version\n",
    "import spacy\n",
    "print(\"spaCy version\", spacy.__version__)\n",
    "# imports finished time\n",
    "print(\"Imports finished at:\", datetime.now())"
   ]
  }
 ],
 "metadata": {
  "kernelspec": {
   "display_name": "venv",
   "language": "python",
   "name": "python3"
  },
  "language_info": {
   "codemirror_mode": {
    "name": "ipython",
    "version": 3
   },
   "file_extension": ".py",
   "mimetype": "text/x-python",
   "name": "python",
   "nbconvert_exporter": "python",
   "pygments_lexer": "ipython3",
   "version": "3.11.4"
  },
  "orig_nbformat": 4
 },
 "nbformat": 4,
 "nbformat_minor": 2
}
