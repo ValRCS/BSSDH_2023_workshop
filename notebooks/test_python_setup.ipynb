{
  "cells": [
    {
      "cell_type": "markdown",
      "metadata": {},
      "source": [
        "# Test your Python setup\n",
        "\n",
        "This notebook is to test your Python setup. If you can run this notebook without errors, you are ready to go."
      ]
    },
    {
      "cell_type": "code",
      "execution_count": 1,
      "metadata": {
        "id": "B019mwLfPPqM",
        "outputId": "88c5b89a-9c4c-4ae9-c304-184e62e2a95a"
      },
      "outputs": [
        {
          "name": "stdout",
          "output_type": "stream",
          "text": [
            "Current date and time: 2023-07-21 23:42:50.448711\n",
            "Python version 3.11.4 (tags/v3.11.4:d2340ef, Jun  7 2023, 05:45:37) [MSC v.1934 64 bit (AMD64)]\n",
            "Pandas version 2.0.3\n",
            "Numpy version 1.24.4\n",
            "Requests version 2.31.0\n",
            "Gensim version 4.3.1\n",
            "Scikit-learn version 1.3.0\n",
            "Plotly version 5.15.0\n",
            "spaCy version 3.6.0\n",
            "Imports finished at: 2023-07-21 23:42:52.588667\n"
          ]
        }
      ],
      "source": [
        "# Test your python setup by running this notebook from either colab.reasearch.google address or from your local Python enviroment\n",
        "# Running means - pressing Run Cell button (with triangle inside) to the the left of this text\n",
        "# You might be asked if you trust this code since it comes from instructor's repository not from Google\n",
        "# all the code does is import the needed libraries and prints the current version\n",
        "# version numbers are not crucial as long as your installation was done in the last 1-2 years.\n",
        "# test might take half a minute or so to run\n",
        "\n",
        "from datetime import datetime\n",
        "# print current date and time\n",
        "print(\"Current date and time:\", datetime.now())\n",
        "# print python version\n",
        "import sys\n",
        "print(\"Python version\", sys.version)\n",
        "# for pandas I recommend installing the following\n",
        "# from: https://pandas.pydata.org/docs/getting_started/install.html#install-optional-dependencies\n",
        "# pip install \"pandas[performance, plot, output_formatting, computation, excel, parquet, html, clipboard]\"\n",
        "# check pandas version\n",
        "import pandas as pd\n",
        "print(\"Pandas version\", pd.__version__)\n",
        "# check numpy version\n",
        "import numpy as np\n",
        "print(\"Numpy version\", np.__version__)\n",
        "# check requests version\n",
        "import requests\n",
        "print(\"Requests version\", requests.__version__)\n",
        "# check gensim version\n",
        "import gensim\n",
        "print(\"Gensim version\", gensim.__version__)\n",
        "# check scikit-learn version\n",
        "import sklearn\n",
        "print(\"Scikit-learn version\", sklearn.__version__)\n",
        "# check plotly version\n",
        "import plotly\n",
        "print(\"Plotly version\", plotly.__version__)\n",
        "# check spaCy version\n",
        "import spacy\n",
        "print(\"spaCy version\", spacy.__version__)\n",
        "# imports finished time\n",
        "print(\"Imports finished at:\", datetime.now())"
      ]
    },
    {
      "cell_type": "code",
      "execution_count": null,
      "metadata": {
        "id": "zh7bnjMmQKQ9"
      },
      "outputs": [],
      "source": []
    }
  ],
  "metadata": {
    "colab": {
      "provenance": []
    },
    "kernelspec": {
      "display_name": "venv",
      "language": "python",
      "name": "python3"
    },
    "language_info": {
      "codemirror_mode": {
        "name": "ipython",
        "version": 3
      },
      "file_extension": ".py",
      "mimetype": "text/x-python",
      "name": "python",
      "nbconvert_exporter": "python",
      "pygments_lexer": "ipython3",
      "version": "3.11.4"
    },
    "orig_nbformat": 4
  },
  "nbformat": 4,
  "nbformat_minor": 0
}
