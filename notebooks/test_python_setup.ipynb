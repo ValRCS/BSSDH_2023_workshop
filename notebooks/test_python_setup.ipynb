{
  "cells": [
    {
      "cell_type": "markdown",
      "metadata": {},
      "source": [
        "# Test your Python setup\n",
        "\n",
        "This notebook is to test your Python setup. If you can run this notebook without errors, you are ready to go."
      ]
    },
    {
      "cell_type": "code",
      "execution_count": 2,
      "metadata": {
        "id": "B019mwLfPPqM",
        "outputId": "88c5b89a-9c4c-4ae9-c304-184e62e2a95a"
      },
      "outputs": [
        {
          "name": "stdout",
          "output_type": "stream",
          "text": [
            "Current date and time: 2024-07-11 13:16:33.335300\n",
            "Python version 3.12.2 (tags/v3.12.2:6abddd9, Feb  6 2024, 21:26:36) [MSC v.1937 64 bit (AMD64)]\n",
            "Pandas version 2.2.1\n",
            "Numpy version 1.26.4\n",
            "Requests version 2.32.3\n",
            "Gensim version 4.3.2\n",
            "Scikit-learn version 1.5.1\n",
            "Plotly version 5.19.0\n",
            "spaCy version 3.7.5\n",
            "Imports finished at: 2024-07-11 13:16:38.525275\n"
          ]
        }
      ],
      "source": [
        "# Test your python setup by running this notebook from either colab.reasearch.google address or from your local Python enviroment\n",
        "# Running means - pressing Run Cell button (with triangle inside) to the the left of this text\n",
        "# You might be asked if you trust this code since it comes from instructor's repository not from Google\n",
        "# all the code does is import the needed libraries and prints the current version\n",
        "# version numbers are not crucial as long as your installation was done in the last 1-2 years.\n",
        "# test might take half a minute or so to run\n",
        "\n",
        "from datetime import datetime\n",
        "# print current date and time\n",
        "print(\"Current date and time:\", datetime.now())\n",
        "# print python version\n",
        "import sys\n",
        "print(\"Python version\", sys.version)\n",
        "# for pandas I recommend installing the following\n",
        "# from: https://pandas.pydata.org/docs/getting_started/install.html#install-optional-dependencies\n",
        "# pip install \"pandas[performance, plot, output_formatting, computation, excel, parquet, html, clipboard]\"\n",
        "# check pandas version\n",
        "try:\n",
        "    import pandas as pd\n",
        "    print(\"Pandas version\", pd.__version__)\n",
        "except ImportError:\n",
        "    print(\"Pandas not installed in current environment!!\")\n",
        "    print(\"To install pandas run: pip install pandas\")\n",
        "# check numpy version\n",
        "try:\n",
        "    import numpy as np\n",
        "    print(\"Numpy version\", np.__version__)\n",
        "except ImportError:\n",
        "    print(\"Numpy not installed in current environment!!\")\n",
        "    print(\"To install numpy run: pip install numpy\")\n",
        "# check requests version\n",
        "try:\n",
        "    import requests\n",
        "    print(\"Requests version\", requests.__version__)\n",
        "except ImportError:\n",
        "    print(\"Requests not installed in current environment!!\")\n",
        "    print(\"To install requests run: pip install requests\")\n",
        "# check gensim version\n",
        "try:\n",
        "    import gensim\n",
        "    print(\"Gensim version\", gensim.__version__)\n",
        "except ImportError:\n",
        "    print(\"Gensim not installed in current environment!!\")\n",
        "    print(\"To install gensim run: pip install gensim\")\n",
        "# check scikit-learn version\n",
        "try:\n",
        "    import sklearn\n",
        "    print(\"Scikit-learn version\", sklearn.__version__)\n",
        "except ImportError:\n",
        "    print(\"Scikit-learn not installed in current environment!!\")\n",
        "    print(\"To install scikit-learn run: pip install scikit-learn\")  # note not scikit_learn nor sklearn !\n",
        "# check plotly version\n",
        "try:\n",
        "    import plotly\n",
        "    print(\"Plotly version\", plotly.__version__)\n",
        "except ImportError:\n",
        "    print(\"Plotly not installed in current environment!!\")\n",
        "    print(\"To install plotly run: pip install plotly\")\n",
        "# check spaCy version\n",
        "try:\n",
        "    import spacy\n",
        "    print(\"spaCy version\", spacy.__version__)\n",
        "except ImportError:\n",
        "    print(\"spaCy not installed in current environment!!\")\n",
        "    print(\"To install spaCy run: pip install spacy\")\n",
        "# imports finished time\n",
        "print(\"Imports finished at:\", datetime.now())"
      ]
    },
    {
      "cell_type": "code",
      "execution_count": null,
      "metadata": {
        "id": "zh7bnjMmQKQ9"
      },
      "outputs": [],
      "source": []
    }
  ],
  "metadata": {
    "colab": {
      "provenance": []
    },
    "kernelspec": {
      "display_name": "venv",
      "language": "python",
      "name": "python3"
    },
    "language_info": {
      "codemirror_mode": {
        "name": "ipython",
        "version": 3
      },
      "file_extension": ".py",
      "mimetype": "text/x-python",
      "name": "python",
      "nbconvert_exporter": "python",
      "pygments_lexer": "ipython3",
      "version": "3.12.2"
    },
    "orig_nbformat": 4
  },
  "nbformat": 4,
  "nbformat_minor": 0
}
