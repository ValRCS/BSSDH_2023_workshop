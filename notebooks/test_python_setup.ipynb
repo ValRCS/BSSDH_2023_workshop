{
 "cells": [
  {
   "cell_type": "markdown",
   "metadata": {},
   "source": [
    "# Test your Python setup"
   ]
  },
  {
   "cell_type": "code",
   "execution_count": 5,
   "metadata": {},
   "outputs": [
    {
     "name": "stdout",
     "output_type": "stream",
     "text": [
      "Python version 3.11.4 (tags/v3.11.4:d2340ef, Jun  7 2023, 05:45:37) [MSC v.1934 64 bit (AMD64)]\n",
      "Pandas version 2.0.3\n",
      "Numpy version 1.24.4\n",
      "Plotly version 5.15.0\n"
     ]
    }
   ],
   "source": [
    "# Test your python setup by running this notebook \n",
    "# \n",
    "\n",
    "# print python version\n",
    "import sys\n",
    "print(\"Python version\", sys.version)\n",
    "# for pandas I recommend installing the following\n",
    "# from: https://pandas.pydata.org/docs/getting_started/install.html#install-optional-dependencies\n",
    "# pip install \"pandas[performance, plot, output_formatting, computation, excel, parquet, html, clipboard]\"\n",
    "# check pandas version\n",
    "import pandas as pd\n",
    "print(\"Pandas version\", pd.__version__)\n",
    "# check numpy version\n",
    "import numpy as np\n",
    "print(\"Numpy version\", np.__version__)\n",
    "# print plotly version\n",
    "import plotly\n",
    "print(\"Plotly version\", plotly.__version__)\n",
    "\n"
   ]
  }
 ],
 "metadata": {
  "kernelspec": {
   "display_name": "venv",
   "language": "python",
   "name": "python3"
  },
  "language_info": {
   "codemirror_mode": {
    "name": "ipython",
    "version": 3
   },
   "file_extension": ".py",
   "mimetype": "text/x-python",
   "name": "python",
   "nbconvert_exporter": "python",
   "pygments_lexer": "ipython3",
   "version": "3.11.4"
  },
  "orig_nbformat": 4
 },
 "nbformat": 4,
 "nbformat_minor": 2
}
